{
 "cells": [
  {
   "cell_type": "code",
   "execution_count": null,
   "id": "southwest-element",
   "metadata": {},
   "outputs": [],
   "source": [
    "import os, sys\n",
    "sys.path.append(os.path.join('/home/ring/sumo-svn/', 'tools'))\n",
    "import traci\n",
    "import traci.constants as tc\n",
    "# import numpy as np\n",
    "from sumolib import checkBinary\n",
    "import datetime\n",
    "from datetime import timedelta\n",
    "# import matplotlib\n",
    "# import matplotlib.pyplot as plt\n",
    "# import copy\n",
    "# import csv\n",
    "\n",
    "import pandas as pd"
   ]
  },
  {
   "cell_type": "code",
   "execution_count": null,
   "id": "disabled-lottery",
   "metadata": {},
   "outputs": [],
   "source": [
    "#reset the environment\n",
    "def reset():\n",
    "    sumoBinary = checkBinary('sumo-gui')\n",
    "    traci.start([sumoBinary, \"-c\", \"../Onnut/onnut.sumocfg\",\n",
    "                             \"--tripinfo-output\", \"tripinfo.xml\", '--start','true','--quit-on-end','true','--time-to-teleport','-1'])"
   ]
  },
  {
   "cell_type": "code",
   "execution_count": null,
   "id": "copyrighted-album",
   "metadata": {},
   "outputs": [],
   "source": [
    "#open simulation\n",
    "reset()"
   ]
  },
  {
   "cell_type": "code",
   "execution_count": null,
   "id": "chief-volunteer",
   "metadata": {},
   "outputs": [],
   "source": [
    "#readdata\n",
    "filename_sig = 'SignalControl_SampleData.csv'\n",
    "filename_junction = 'JunctionData.csv'\n",
    "df_sig = pd.read_csv(filename_sig)\n",
    "df_junction = pd.read_csv(filename_junction)"
   ]
  },
  {
   "cell_type": "code",
   "execution_count": null,
   "id": "comprehensive-oliver",
   "metadata": {},
   "outputs": [],
   "source": [
    "while True:\n",
    "    print(str(timedelta(seconds=traci.simulation.getTime()))) #get currenttime in simulation\n",
    "    \n",
    "    #dataframe which Time = currenttime\n",
    "    df_sig_time = df_sig[df_sig.Time == str(timedelta(seconds=traci.simulation.getTime()))]\n",
    "    \n",
    "    if len(df_sig_time) != 0: #if data available\n",
    "        for index, row in df_sig_time.iterrows():\n",
    "            junctionname = row['JunctionName']\n",
    "            junctionid = df_junction[df_junction['JunctionName'] == junctionname].JunctionID.to_string()[5:] #get junction id from df_junction\n",
    "            newphase = row['Phase']\n",
    "            \n",
    "            #change trafic signal control\n",
    "            traci.trafficlight.setPhase(junctionid, newphase)\n",
    "            print('     '+junctionname+\":\"+ str(newphase))\n",
    "    \n",
    "    # traci step simulation 1 second\n",
    "    traci.simulationStep()"
   ]
  },
  {
   "cell_type": "code",
   "execution_count": null,
   "id": "prescription-happening",
   "metadata": {},
   "outputs": [],
   "source": [
    "traci.close()"
   ]
  },
  {
   "cell_type": "code",
   "execution_count": null,
   "id": "institutional-sauce",
   "metadata": {},
   "outputs": [],
   "source": [
    "print(str(timedelta(seconds=traci.simulation.getTime())))\n",
    "df_sig_time = df_sig[df_sig.Time == str(timedelta(seconds=traci.simulation.getTime()))]\n",
    "if len(df_sig_time) != 0:\n",
    "    for index, row in df_sig_time.iterrows():\n",
    "        junctionname = row['JunctionName']\n",
    "        junctionid = df_junction[df_junction['JunctionName'] == junctionname].JunctionID.to_string()[5:]\n",
    "        newphase = row['Phase']\n",
    "        traci.trafficlight.setPhase(junctionid, newphase)\n",
    "        print('     '+junctionname+\":\"+ str(newphase))"
   ]
  },
  {
   "cell_type": "code",
   "execution_count": null,
   "id": "allied-latino",
   "metadata": {},
   "outputs": [],
   "source": [
    "traci.simulationStep()"
   ]
  },
  {
   "cell_type": "code",
   "execution_count": null,
   "id": "jewish-platinum",
   "metadata": {},
   "outputs": [],
   "source": [
    "#todo 1. update junction logic and phase 2 id"
   ]
  }
 ],
 "metadata": {
  "kernelspec": {
   "display_name": "Python 3",
   "language": "python",
   "name": "python3"
  },
  "language_info": {
   "codemirror_mode": {
    "name": "ipython",
    "version": 3
   },
   "file_extension": ".py",
   "mimetype": "text/x-python",
   "name": "python",
   "nbconvert_exporter": "python",
   "pygments_lexer": "ipython3",
   "version": "3.9.2"
  }
 },
 "nbformat": 4,
 "nbformat_minor": 5
}
