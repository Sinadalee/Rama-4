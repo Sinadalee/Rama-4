{
 "cells": [
  {
   "cell_type": "code",
   "execution_count": 1,
   "id": "southwest-element",
   "metadata": {},
   "outputs": [],
   "source": [
    "import os, sys\n",
    "sys.path.append(os.path.join('/home/ring/sumo-svn/', 'tools'))\n",
    "import traci\n",
    "import traci.constants as tc\n",
    "import numpy as np\n",
    "from sumolib import checkBinary\n",
    "import datetime\n",
    "from datetime import timedelta\n",
    "import matplotlib\n",
    "import matplotlib.pyplot as plt\n",
    "import copy\n",
    "import csv\n",
    "\n",
    "import pandas as pd"
   ]
  },
  {
   "cell_type": "code",
   "execution_count": 3,
   "id": "disabled-lottery",
   "metadata": {},
   "outputs": [],
   "source": [
    "#reset the environment\n",
    "def reset():\n",
    "    sumoBinary = checkBinary('sumo-gui')\n",
    "    traci.start([sumoBinary, \"-c\", \"../Onnut/onnut.sumocfg\",\n",
    "                             \"--tripinfo-output\", \"tripinfo.xml\", '--start','true','--quit-on-end','true','--time-to-teleport','-1'])"
   ]
  },
  {
   "cell_type": "code",
   "execution_count": 4,
   "id": "copyrighted-album",
   "metadata": {},
   "outputs": [],
   "source": [
    "reset()\n"
   ]
  },
  {
   "cell_type": "code",
   "execution_count": null,
   "id": "chief-volunteer",
   "metadata": {},
   "outputs": [],
   "source": [
    "filename_sig = 'SignalControl_SampleData.csv'\n",
    "filename_junction = 'JunctionData.csv'\n",
    "df_sig = pd.read_csv(filename_sig)\n",
    "df_junction = pd.read_csv(filename_junction)"
   ]
  },
  {
   "cell_type": "code",
   "execution_count": null,
   "id": "comprehensive-oliver",
   "metadata": {},
   "outputs": [],
   "source": [
    "while True:\n",
    "    print(str(timedelta(seconds=traci.simulation.getTime())))\n",
    "    df_sig_time = df_sig[df_sig.Time == str(timedelta(seconds=traci.simulation.getTime()))]\n",
    "    if len(df_sig_time) != 0:\n",
    "        for index, row in df_sig_time.iterrows():\n",
    "            junctionname = row['JunctionName']\n",
    "            junctionid = df_junction[df_junction['JunctionName'] == junctionname].JunctionID.to_string()[5:]\n",
    "            newphase = row['Phase']\n",
    "            traci.trafficlight.setPhase(junctionid, newphase)\n",
    "            print('     '+junctionname+\":\"+ str(newphase))\n",
    "    traci.simulationStep()"
   ]
  },
  {
   "cell_type": "code",
   "execution_count": null,
   "id": "prescription-happening",
   "metadata": {},
   "outputs": [],
   "source": [
    "traci.close()"
   ]
  }
 ],
 "metadata": {
  "kernelspec": {
   "display_name": "Python 3",
   "language": "python",
   "name": "python3"
  },
  "language_info": {
   "codemirror_mode": {
    "name": "ipython",
    "version": 3
   },
   "file_extension": ".py",
   "mimetype": "text/x-python",
   "name": "python",
   "nbconvert_exporter": "python",
   "pygments_lexer": "ipython3",
   "version": "3.9.2"
  }
 },
 "nbformat": 4,
 "nbformat_minor": 5
}
