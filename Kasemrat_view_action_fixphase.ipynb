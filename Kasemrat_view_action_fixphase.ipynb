{
 "cells": [
  {
   "cell_type": "code",
   "execution_count": 1,
   "metadata": {},
   "outputs": [],
   "source": [
    "junction_id = {'KLONGTEI': 'cluster_1892287670_272491964_272492178',\n",
    "      'RAMA4': 'cluster_272488163_282390730_66263210_66263222',\n",
    "      'NARANONG': 'cluster_272488164_272492179_3457051443_61907354',\n",
    "      'SUNLAKAKHON': 'gneJ83',\n",
    "      'KASEMRAT': 'cluster_272448137_272555800_272555808_7660045934_7710268409',\n",
    "      'ATTHAKAWI_RAMA4' : '270329335'}\n",
    "junction_name = list(junction_id.keys())"
   ]
  },
  {
   "cell_type": "code",
   "execution_count": 2,
   "metadata": {},
   "outputs": [],
   "source": [
    "# import gym\n",
    "# from gym import error, spaces\n",
    "import gym\n",
    "import json\n",
    "import csv\n",
    "import lxml.etree as ET\n",
    "import os, sys\n",
    "sys.path.append(os.path.join('/home/ring/sumo-svn/', 'tools'))\n",
    "import traci\n",
    "import traci.constants as tc\n",
    "import numpy as np\n",
    "from sumolib import checkBinary\n",
    "import datetime\n",
    "import matplotlib\n",
    "import matplotlib.pyplot as plt\n",
    "import torch\n",
    "import copy\n",
    "import random\n",
    "import pandas as pd\n",
    "from multiprocessing.pool import ThreadPool\n",
    "from itertools import zip_longest"
   ]
  },
  {
   "cell_type": "code",
   "execution_count": 3,
   "metadata": {},
   "outputs": [],
   "source": [
    "OPTION = {\"lr\":5e-4,\"gamma\":0.9,\"beta\": 0.004,\"alpha\":0.004}\n",
    "test_id = \"_\".join([str(e)+\"\"+str(OPTION[e]) for e in OPTION.keys()])\n",
    "env_config =  {\"alpha\":OPTION[\"alpha\"], \"beta\" : OPTION[\"beta\"] , \"name\" : test_id\n",
    "                    }"
   ]
  },
  {
   "cell_type": "code",
   "execution_count": 4,
   "metadata": {},
   "outputs": [],
   "source": [
    "# traci.close()"
   ]
  },
  {
   "cell_type": "code",
   "execution_count": 5,
   "metadata": {},
   "outputs": [],
   "source": [
    "# start()\n",
    "# loopID = traci.inductionloop.getIDList()"
   ]
  },
  {
   "cell_type": "code",
   "execution_count": 6,
   "metadata": {},
   "outputs": [],
   "source": [
    "# len(loopID)"
   ]
  },
  {
   "cell_type": "code",
   "execution_count": 7,
   "metadata": {},
   "outputs": [],
   "source": [
    "\n",
    "KASEMRAT_loopcoil = ['L459551209#3_0', 'L459551209#3_1', 'L459551209#3_2', 'L459551209#3_3', 'L321845933#3_0', 'L321845933#3_1', 'L321845933#3_2', 'L820373194#0_0', 'L820373194#0_1', 'L820373194#0_2']\n",
    "KLONGTEI_loopcoil = ['L825786400_0','L825786400_1', 'L825786400_2', 'L825786400_3', 'L825786400_4', 'L25047974#2_0', 'L25047974#2_1', 'L25047974#2_2', 'L25047974#2_3', 'L481971011#1_0', 'L481971011#1_1', 'L481971011#1_2', 'L481971011#1_3', 'L481971011#1_4']\n",
    "NARANONG_loopcoil = ['L25053626_0','L25053626_1', 'L824116551#0_0', 'L824116551#0_1', 'L824116544_0', 'L824116544_1', 'L824116544_2', 'L824116550#0_0', 'L824116550#0_1', 'L338595767_0', 'L338595767_1', 'L338595767_2', 'L338595767_3']\n",
    "SUNLAKAKHON_loopcoil = ['L824116555#3_0','L824116555#3_1', 'L824116555#3_2', 'L153225687#13_0', 'L153225687#13_1', 'L153225687#13_2', 'L321845932#1_0', 'L321845932#1_1', 'L321845932#1_2', 'L45033613#1_0', 'L45033613#1_1', 'L45033613#1_2']\n",
    "RAMA4_loopcoil = ['L825786410_0','L825786410_1', 'L825786410_2', 'L825786410_3', 'L824116545_0', 'L824116545_1', 'L824116545_2', 'L821785867_0', 'L821785867_1', 'L821785867_2', 'L825786416_0', 'L825786416_1', 'L825786416_2', 'L825786416_3', 'L825786416_4']\n",
    "ATTHAKAVI_RAMA4_loopcoil = ['L27702347#6_0', 'L27702347#6_1', 'L820340552#2_0', 'L820340552#2_1', 'L820340552#2_2']\n",
    "\n",
    "\n",
    "ALL_loopcoil = KASEMRAT_loopcoil+KLONGTEI_loopcoil+NARANONG_loopcoil+SUNLAKAKHON_loopcoil+RAMA4_loopcoil+ATTHAKAVI_RAMA4_loopcoil\n",
    "\n",
    "# KASEMRAT_loopcoil = ['L459551209#3_0', 'L459551209#3_1', 'L459551209#3_2', 'L459551209#3_3', 'L321845933#3_0', 'L321845933#3_1', 'L321845933#3_2', 'L820373194#0_0', 'L820373194#0_1', 'L820373194#0_2']\n",
    "# KLONGTEI_loopcoil = ['L825786400_1', 'L825786400_2', 'L825786400_3', 'L825786400_4', 'L25047974#2_0', 'L25047974#2_1', 'L25047974#2_2', 'L25047974#2_3', 'L481971011#1_0', 'L481971011#1_1', 'L481971011#1_2', 'L481971011#1_3', 'L481971011#1_4']\n",
    "# NARANONG_loopcoil = ['L25053626_1', 'L824116551#0_0', 'L824116551#0_1', 'L824116544_0', 'L824116544_1', 'L824116544_2', 'L824116550#0_0', 'L824116550#0_1', 'L338595767_0', 'L338595767_1', 'L338595767_2', 'L338595767_3']\n",
    "# SUNLAKAKHON_loopcoil = ['L824116555#3_1', 'L824116555#3_2', 'L153225687#13_0', 'L153225687#13_1', 'L153225687#13_2', 'L321845932#1_0', 'L321845932#1_1', 'L321845932#1_2', 'L45033613#1_0', 'L45033613#1_1', 'L45033613#1_2']\n",
    "# RAMA4_loopcoil = ['L825786410_1', 'L825786410_2', 'L825786410_3', 'L824116545_0', 'L824116545_1', 'L824116545_2', 'L821785867_0', 'L821785867_1', 'L821785867_2', 'L825786416_0', 'L825786416_1', 'L825786416_2', 'L825786416_3', 'L825786416_4']\n",
    "# ATTHAKAVI_RAMA4_loopcoil = ['L27702347#6_0', 'L27702347#6_1', 'L820340552#2_0', 'L820340552#2_1', 'L820340552#2_2']\n",
    "# ALL_loopcoil = KASEMRAT_loopcoil+KLONGTEI_loopcoil+NARANONG_loopcoil+SUNLAKAKHON_loopcoil+RAMA4_loopcoil+ATTHAKAVI_RAMA4_loopcoil\n"
   ]
  },
  {
   "cell_type": "code",
   "execution_count": 8,
   "metadata": {},
   "outputs": [],
   "source": [
    "# len(set(ALL_loopcoil) )"
   ]
  },
  {
   "cell_type": "code",
   "execution_count": 9,
   "metadata": {},
   "outputs": [
    {
     "name": "stdout",
     "output_type": "stream",
     "text": [
      "ok\n"
     ]
    }
   ],
   "source": [
    "namelane_csv = pd.read_csv('namelane_KASEMRAT_nodot.csv')\n",
    "namelane_df = pd.DataFrame(namelane_csv, columns = ['name' , 'id']).dropna()\n",
    "NAME = namelane_df.set_index('name')\n",
    "ID = namelane_df.set_index('id')\n",
    "if NAME.loc['KASEMRAT_EB_0_0_XSXX','id'] == '459551209#3_0':\n",
    "    print('ok')"
   ]
  },
  {
   "cell_type": "code",
   "execution_count": 10,
   "metadata": {},
   "outputs": [
    {
     "data": {
      "text/plain": [
       "name\n",
       "KASEMRAT_EB_0_0_XSXX                      459551209#3_0\n",
       "KASEMRAT_EB_0_1_XSXX                      459551209#3_1\n",
       "KASEMRAT_EB_0_2_XSXX                      459551209#3_2\n",
       "KASEMRAT_EB_0_3_XSRT                      459551209#3_3\n",
       "KASEMRAT_EB_1_0_LSXX                      459551209#0_0\n",
       "                                              ...      \n",
       "MASUKGRIDLOCK_SUKHUMVIT26_SB_4_0_XSXX    156261434#12_0\n",
       "MASUKGRIDLOCK_SUKHUMVIT26_SB_5_0_XSXX    156261434#14_0\n",
       "MASUKGRIDLOCK_SUKHUMVIT26_SB_6_0_XSXX     693832669#1_0\n",
       "MASUKGRIDLOCK_SUKHUMVIT26_SB_7_0_XSXX     693832668#1_0\n",
       "MASUKGRIDLOCK_SUKHUMVIT26_SB_8_0_XSXX     693832668#3_0\n",
       "Name: id, Length: 448, dtype: object"
      ]
     },
     "execution_count": 10,
     "metadata": {},
     "output_type": "execute_result"
    }
   ],
   "source": [
    "NAME.loc[:,'id']"
   ]
  },
  {
   "cell_type": "code",
   "execution_count": 11,
   "metadata": {},
   "outputs": [
    {
     "data": {
      "text/plain": [
       "'RAMA4_WB_2_3_XSXX'"
      ]
     },
     "execution_count": 11,
     "metadata": {},
     "output_type": "execute_result"
    }
   ],
   "source": [
    "ID.loc['820373198#0_3', 'name']"
   ]
  },
  {
   "cell_type": "code",
   "execution_count": 12,
   "metadata": {},
   "outputs": [],
   "source": [
    "namedetector_csv = pd.read_csv('namedetector_KASEMRAT_flow.csv')\n",
    "namedetector_df = pd.DataFrame(namedetector_csv, columns = ['name' , 'id'])\n",
    "NAME_D = namedetector_df.set_index('name')\n",
    "ID_D = namedetector_df.set_index('id')\n",
    "listdetector = open(\"namedetector_KASEMRAT_flow.txt\", \"r\")\n",
    "detector = {}\n",
    "for l in listdetector:\n",
    "    l = l.strip().split(' ')\n",
    "    if len(l)> 1:\n",
    "        d = []\n",
    "        for detec in l[2:]:\n",
    "            if type(NAME_D.loc[detec,'id']) == str:\n",
    "                d.append(NAME_D.loc[detec,'id'])\n",
    "            else : d.append(NAME_D.loc[detec,'id'][0])\n",
    "    if str(l[0])!= '':\n",
    "        detector[str(l[0])] = d\n",
    "list_detector= list(detector.keys())"
   ]
  },
  {
   "cell_type": "code",
   "execution_count": 13,
   "metadata": {},
   "outputs": [
    {
     "data": {
      "text/html": [
       "<div>\n",
       "<style scoped>\n",
       "    .dataframe tbody tr th:only-of-type {\n",
       "        vertical-align: middle;\n",
       "    }\n",
       "\n",
       "    .dataframe tbody tr th {\n",
       "        vertical-align: top;\n",
       "    }\n",
       "\n",
       "    .dataframe thead th {\n",
       "        text-align: right;\n",
       "    }\n",
       "</style>\n",
       "<table border=\"1\" class=\"dataframe\">\n",
       "  <thead>\n",
       "    <tr style=\"text-align: right;\">\n",
       "      <th></th>\n",
       "      <th>id</th>\n",
       "    </tr>\n",
       "    <tr>\n",
       "      <th>name</th>\n",
       "      <th></th>\n",
       "    </tr>\n",
       "  </thead>\n",
       "  <tbody>\n",
       "    <tr>\n",
       "      <th>RAMA4_EB_1_4_XSXX</th>\n",
       "      <td>D459492917#0_4</td>\n",
       "    </tr>\n",
       "    <tr>\n",
       "      <th>KLONGTEI_EB_0_0_XSXX</th>\n",
       "      <td>D825786400_0</td>\n",
       "    </tr>\n",
       "    <tr>\n",
       "      <th>KLONGTEI_EB_0_1_XSXX</th>\n",
       "      <td>D825786400_1</td>\n",
       "    </tr>\n",
       "    <tr>\n",
       "      <th>KLONGTEI_EB_0_2_XSXX</th>\n",
       "      <td>D825786400_2</td>\n",
       "    </tr>\n",
       "    <tr>\n",
       "      <th>KLONGTEI_EB_0_3_XSXX</th>\n",
       "      <td>D825786400_3</td>\n",
       "    </tr>\n",
       "  </tbody>\n",
       "</table>\n",
       "</div>"
      ],
      "text/plain": [
       "                                  id\n",
       "name                                \n",
       "RAMA4_EB_1_4_XSXX     D459492917#0_4\n",
       "KLONGTEI_EB_0_0_XSXX    D825786400_0\n",
       "KLONGTEI_EB_0_1_XSXX    D825786400_1\n",
       "KLONGTEI_EB_0_2_XSXX    D825786400_2\n",
       "KLONGTEI_EB_0_3_XSXX    D825786400_3"
      ]
     },
     "execution_count": 13,
     "metadata": {},
     "output_type": "execute_result"
    }
   ],
   "source": [
    "NAME_D.head()"
   ]
  },
  {
   "cell_type": "code",
   "execution_count": 14,
   "metadata": {},
   "outputs": [
    {
     "data": {
      "text/plain": [
       "['KASEMRAT_EB_FPX_TP2', 50]"
      ]
     },
     "execution_count": 14,
     "metadata": {},
     "output_type": "execute_result"
    }
   ],
   "source": [
    "['KASEMRAT_EB_FPX_TP2',50]"
   ]
  },
  {
   "cell_type": "code",
   "execution_count": 15,
   "metadata": {},
   "outputs": [],
   "source": [
    "# type(NAME_D.loc['KLONGTEI_EB_0_0_XSXX','id'])\n",
    "# for i in range(len(list(detector.keys()))):\n",
    "#     print(i , list(detector.keys())[i])"
   ]
  },
  {
   "cell_type": "code",
   "execution_count": 16,
   "metadata": {},
   "outputs": [],
   "source": [
    "def read_summary_xml(dateTimeObj):\n",
    "    meanWaitingTime = []\n",
    "    meanTravelTime = []\n",
    "    meanSpeed = []\n",
    "    tree = ET.parse('summary/summary'+dateTimeObj+'.xml')\n",
    "    summary = tree.getroot()\n",
    "    for step in summary:\n",
    "        list1 = step.attrib\n",
    "        meanWaitingTime.append(float(list1[\"meanWaitingTime\"]))\n",
    "        meanTravelTime.append(float(list1[\"meanTravelTime\"]))\n",
    "        meanSpeed.append(float(list1[\"meanSpeed\"]))\n",
    "    meanWaitingTime_avg = sum(meanWaitingTime)/len(meanWaitingTime)\n",
    "    meanTravelTime_avg = sum(meanTravelTime)/len(meanTravelTime)\n",
    "    meanSpeed_avg = sum(meanSpeed)/len(meanSpeed)\n",
    "    os.remove('summary/summary'+dateTimeObj+'.xml')\n",
    "    return meanWaitingTime_avg,meanTravelTime_avg,meanSpeed_avg"
   ]
  },
  {
   "cell_type": "code",
   "execution_count": 17,
   "metadata": {},
   "outputs": [],
   "source": [
    "def get_hot_encoding_current_phase():\n",
    "    number_phase = [4,9,7,5,4,3]\n",
    "    current_phase = [traci.trafficlight.getPhase(junction_id[key]) for key in junction_id.keys()]\n",
    "#     current_phase = [0,2,1,1,1,1]\n",
    "    hot_encoding_current_phase = np.array([])\n",
    "    for i in range(len(current_phase)):\n",
    "        binary_phase = np.zeros(number_phase[i])\n",
    "        binary_phase[current_phase[i]] = 1\n",
    "        hot_encoding_current_phase = np.concatenate((hot_encoding_current_phase, binary_phase), axis=None)\n",
    "    return current_phase, hot_encoding_current_phase\n"
   ]
  },
  {
   "cell_type": "code",
   "execution_count": 18,
   "metadata": {},
   "outputs": [],
   "source": [
    "# ID.loc['']#, '820373198#0', '820373196#0', '482209831#0']"
   ]
  },
  {
   "cell_type": "code",
   "execution_count": 19,
   "metadata": {},
   "outputs": [],
   "source": [
    "def get_state_attention(current_phase, hot_encoding_current_phase):\n",
    "#     current_phase = [KLONGTEI phase, RAMA4 phase,NARANONG phase, SUNLAKAKHON phase, KASEMRAT phase, ATTHAKAWI_RAMA4 phase]\n",
    "    MAP_RAMA4 = {0: ['RAMA4_EB_FPX_TP1', 'KASEMRAT_EB_FPX_TP2_RAMA4', 'NARANONG_SW_FPX_TP1'],\n",
    "                 1: ['RAMA4_EB_FP1_TP3', 'RAMA4_NB_FPX_TP5'],\n",
    "                 2: ['RAMA4_WB_FP2_TP4', 'RAMA4_EB_FPX_TP1', 'RAMA4_NB_FPX_TP5'],\n",
    "                3: ['RAMA4_EB_FP3_TP2', 'RAMA4_WB_FP3_TP2', 'RAMA4_EB_FPX_TP1', 'RAMA4_NB_FPX_TP5' ],\n",
    "                4: ['RAMA4_SB_FP4_TP5', 'RAMA4_EB_FPX_TP1', 'RAMA4_NB_FPX_TP5' ],\n",
    "                5: ['RAMA4_NB_FP5_TP1', 'RAMA4_EB_FPX_TP1'],\n",
    "                6: ['KASEMRAT_EB_FPX_TP2_RAMA4'],\n",
    "                7: ['KASEMRAT_EB_FPX_TP2_RAMA4'],\n",
    "                8: ['KASEMRAT_EB_FPX_TP2_RAMA4']}\n",
    "    MAP_KLONGTEI = {0: ['NARANONG_SB_FP5_TP6', 'RAMA4_EB_FP1_TP3'],\n",
    "                    1: ['RAMA4_EB_FP3_TP2', 'RAMA4_EB_FP1_TP3'],\n",
    "                    2: ['KLONGTEI_NB_FP3_TPX'],\n",
    "                   3: ['RAMA4_EB_FP3_TP2',  'RAMA4_EB_FP1_TP3'] }\n",
    "    MAP_NARANONG = {0: ['RAMA4_NB_FPX_TP5'],\n",
    "                1: ['NARANONG_SB_FP1_TP2', 'NARANONG_EB_FP1_TP2', 'NARANONG_WB_FPX_TP2', 'NARANONG_WB_FPX_TP2'],\n",
    "                2: ['NARANONG_WB_FP2_TP3', 'NARANONG_WB_FP2_TP3_FLOW', 'NARANONG_SW_FPX_TP1', 'NARANONG_WB_FPX_TP2'],\n",
    "                3: ['NARANONG_EB_FP3_TP4', 'NARANONG_SW_FPX_TP1', 'NARANONG_WB_FPX_TP2'],\n",
    "                4: ['NARANONG_WB_FP4_TP5', 'NARANONG_SW_FPX_TP1', 'NARANONG_WB_FPX_TP2'],\n",
    "                5: ['NARANONG_SB_FP5_TP6', 'NARANONG_SW_FPX_TP1', 'NARANONG_WB_FPX_TP2'], \n",
    "                6: ['NARANONG_NB_FP6_TP1', 'NARANONG_SW_FPX_TP1', 'NARANONG_WB_FPX_TP2'] }\n",
    "    MAP_SUNLAKAKHON = {0: ['NARANONG_EB_FP3_TP4'],\n",
    "                    1: ['SUNLAKAKHON_SB_FP1_TPX'],\n",
    "                    2: ['SUNLAKAKHON_NB_FP2_TP3', 'SUNLAKAKHON_SB_FPX_TP1'],\n",
    "                    3:['SUNLAKAKHON_EB_FP3_TP4', 'SUNLAKAKHON_WB_FP3_TP4', 'SUNLAKAKHON_SB_FPX_TP1'],\n",
    "                    4:['SUNLAKAKHON_SB_FP4_TP1', 'SUNLAKAKHON_SB_FPX_TP1'] }\n",
    "    MAP_KASEMRAT = {0: ['SUNLAKAKHON_SB_FPX_TP1', 'MASUKGRIDLOCK_ARI_NB_FPX_TP2'],\n",
    "                    1:['KASEMRAT_EB_FPX_TP2', 'KASEMRAT_NB_FPX_TP3'],\n",
    "                    2:['KASEMRAT_EB_FP2_TP1', 'KASEMRAT_NB_FPX_TP3'],\n",
    "                    3:['KASEMRAT_EB_FPX_TP2'] }\n",
    "    MAP_ATTHAKAWI_RAMA4 = {0: ['KASEMRAT_EB_FPX_TP2'],\n",
    "                           1: ['MASUKGRIDLOCK_SUKHUMVUT_FPX_TP2', 'MASUKGRIDLOCK_ARI_NB_FPX_TP2' ],\n",
    "                          2:['KASEMRAT_EB_FPX_TP2_RAMA4']}\n",
    "    MAP = [MAP_KLONGTEI, MAP_RAMA4, MAP_NARANONG, MAP_SUNLAKAKHON,  MAP_KASEMRAT, MAP_ATTHAKAWI_RAMA4]\n",
    "    state_attention = np.zeros(31)\n",
    "    for i in range(len(current_phase)):\n",
    "        for e in MAP[i][current_phase[i]]:\n",
    "            occupancy = get_occupancy_average_percent(detector[e]) \n",
    "            Index_detector = list_detector.index(e) \n",
    "            state_attention[Index_detector] = occupancy\n",
    "#     print(state_attention)\n",
    "    state = np.concatenate((state_attention, hot_encoding_current_phase), axis=None)\n",
    "    return state\n"
   ]
  },
  {
   "cell_type": "code",
   "execution_count": 20,
   "metadata": {},
   "outputs": [],
   "source": [
    "#reset the environment\n",
    "# def start():\n",
    "#     sumoBinary = checkBinary('sumo-gui')\n",
    "#     traci.start([sumoBinary, \"-c\", \"KASEMRAT-SUMO-UsingBookNetFile/osm.sumocfg\",\n",
    "#                              \"--summary-output\", \"summary/summary\"+\".xml\", '--start','true','--quit-on-end','true','--time-to-teleport','-1',\n",
    "#                 ])\n",
    "def start():\n",
    "    sumoBinary = checkBinary('sumo-gui')\n",
    "    traci.start([sumoBinary, \"-c\", \"KASEMRAT-SUMO-UsingBookNetFile/osm_fixphase.sumocfg\",\n",
    "                             \"--tripinfo-output\", \"tripinfo.xml\", '--start','true','--quit-on-end','true','--time-to-teleport','-1',\n",
    "                '--lanechange.duration', '0.1'])"
   ]
  },
  {
   "cell_type": "code",
   "execution_count": 21,
   "metadata": {},
   "outputs": [],
   "source": [
    "def get_occupancy_average_percent(detector_id): \n",
    "    #get occupancy average for all detector in list of detector_id and scale by (Vehicle Length + MinimumGap)/MinimumGap \n",
    "    #Vehicle Length = 4.62 MinimumGap = 2.37\n",
    "    occupancy = (sum([traci.lanearea.getLastStepOccupancy(e)*traci.lanearea.getLength(e) for e in detector_id]))/\\\n",
    "                 sum([traci.lanearea.getLength(e) for e in detector_id])*((4.62+2.37)/4.62)\n",
    "#     print(occupancy)\n",
    "    return occupancy"
   ]
  },
  {
   "cell_type": "code",
   "execution_count": 22,
   "metadata": {},
   "outputs": [],
   "source": [
    "def get_throughput(loopID):\n",
    "    throughput = sum([traci.inductionloop.getLastStepVehicleNumber(i) for i in loopID if traci.inductionloop.getLastStepMeanSpeed(i) > 0])\n",
    "    return throughput"
   ]
  },
  {
   "cell_type": "code",
   "execution_count": 23,
   "metadata": {},
   "outputs": [],
   "source": [
    "def get_backlog( laneID):\n",
    "#     laneID = traci.lane.getIDList()\n",
    "    backlog = sum([traci.lanearea.getLastStepVehicleNumber(i) for i in  laneID])\n",
    "    return backlog"
   ]
  },
  {
   "cell_type": "code",
   "execution_count": 24,
   "metadata": {},
   "outputs": [],
   "source": [
    "def get_mean_speed(laneID):\n",
    "    \n",
    "    speed = [traci.lanearea.getLastStepMeanSpeed(e)*traci.lanearea.getLastStepVehicleNumber(e) for e in laneID if traci.lanearea.getLastStepMeanSpeed(e)>=0]\n",
    "#     print(speed)\n",
    "    num_veh = [traci.lanearea.getLastStepVehicleNumber(i) for i in laneID]\n",
    "    mean_speed = sum(speed)/max(sum(num_veh),1)\n",
    "#     print('speed',mean_speed)\n",
    "    return mean_speed"
   ]
  },
  {
   "cell_type": "code",
   "execution_count": 25,
   "metadata": {},
   "outputs": [],
   "source": [
    "with open( \"./throughput_fix200\"+\".csv\" , 'w', newline='') as csv_file:\n",
    "    header = [\"throughput_KLONGTEI\",\"throughput_KASEMRAT\",\"throughput_NARANONG\",\"throughput_SUNLAKAKHON\",\"throughput_RAMA4\" ,\" throughput_ATTHAKAVI_RAMA4\",\"throughput\", \n",
    "                  \"mean_speed\", \"jamlength_percent\", \"Backlog\"]\n",
    "    writer = csv.DictWriter(csv_file, fieldnames = header)\n",
    "    writer.writeheader()  "
   ]
  },
  {
   "cell_type": "code",
   "execution_count": 26,
   "metadata": {},
   "outputs": [],
   "source": [
    "RAMA4_EB_R = [NAME.loc['RAMA4_EB_1_4_XSXX','id'], NAME.loc['RAMA4_EB_0_3_XSRT','id']]\n",
    "RAMA4_EB = [NAME.loc['KLONGTEI_EB_0_0_XSXX','id'],NAME.loc['KLONGTEI_EB_0_1_XSXX','id'],NAME.loc['KLONGTEI_EB_0_2_XSXX','id'],NAME.loc['KLONGTEI_EB_0_3_XSXX','id'],NAME.loc['KLONGTEI_EB_0_4_XSRT','id'],NAME.loc['KLONGTEI_EB_1_0_XSXX','id'],NAME.loc['KLONGTEI_EB_1_1_XSXX','id'],NAME.loc['KLONGTEI_EB_1_2_XSXX','id'],NAME.loc['KLONGTEI_EB_1_3_XSXX','id'],NAME.loc['KLONGTEI_EB_2_0_LSXX','id'],NAME.loc['KLONGTEI_EB_2_1_XSXX','id'],NAME.loc['KLONGTEI_EB_2_2_XSXX','id'],NAME.loc['KLONGTEI_EB_2_3_XSXX','id'],NAME.loc['KLONGTEI_EB_3_0_LSXX','id'],NAME.loc['KLONGTEI_EB_3_1_XSXX','id'],NAME.loc['KLONGTEI_EB_4_0_XSXX','id'],NAME.loc['KLONGTEI_EB_4_1_XSXX','id'],NAME.loc['KLONGTEI_EB_4_2_XSXX','id'],NAME.loc['KLONGTEI_EB_4_3_XSXX','id'],NAME.loc['KLONGTEI_EB_4_4_XSXX','id'],NAME.loc['KLONGTEI_EB_5_0_XSXX','id'],NAME.loc['KLONGTEI_EB_5_1_XSXX','id'],NAME.loc['KLONGTEI_EB_5_2_XSXX','id'],NAME.loc['KLONGTEI_EB_5_3_XSXX','id'],NAME.loc['RAMA4_EB_0_0_XSXX','id'],NAME.loc['RAMA4_EB_0_1_XSXX','id'],NAME.loc['RAMA4_EB_0_2_XSXX','id'],NAME.loc['RAMA4_EB_0_3_XSRT','id'],NAME.loc['RAMA4_EB_1_0_LSXX','id'],NAME.loc['RAMA4_EB_1_1_XSXX','id'],NAME.loc['RAMA4_EB_1_2_XSXX','id'],NAME.loc['RAMA4_EB_1_3_XSXX','id'],NAME.loc['RAMA4_EB_1_4_XSXX','id']]\n",
    "RAMA4_SB = [NAME.loc['RAMA4_SB_0_0_XSXX','id'],NAME.loc['RAMA4_SB_0_1_XSXX','id'],NAME.loc['RAMA4_SB_0_2_XSRT','id'],NAME.loc['RAMA4_SB_1_0_LSXX','id'],NAME.loc['RAMA4_SB_1_1_XSXX','id'],NAME.loc['RAMA4_SB_1_2_XSXX','id'],NAME.loc['RAMA4_SB_1_3_XSXX','id'],NAME.loc['RAMA4_SB_2_0_XSXX','id'],NAME.loc['RAMA4_SB_2_1_XSXX','id'],NAME.loc['RAMA4_SB_2_2_XSXX','id'],NAME.loc['RAMA4_SB_3_0_XSXX','id'],NAME.loc['RAMA4_SB_3_1_XSXX','id'],NAME.loc['RAMA4_SB_3_2_XSXX','id'],NAME.loc['RAMA4_SB_3_3_XSRX','id'],NAME.loc['RAMA4_SB_4_0_XSXX','id'],NAME.loc['RAMA4_SB_4_1_XSXX','id'],NAME.loc['RAMA4_SB_4_2_XSXX','id'],NAME.loc['RAMA4_SB_5_0_XSXX','id'],NAME.loc['RAMA4_SB_5_1_XSXX','id'],NAME.loc['RAMA4_SB_5_2_XSXX','id'],NAME.loc['RAMA4_SB_5_3_XSXX','id'],NAME.loc['RAMA4_SB_5_4_XSXX','id']]\n",
    "RAMA4_NB = [NAME.loc['RAMA4_NB_0_0_XSXX','id'],NAME.loc['RAMA4_NB_0_1_XSXX','id'],NAME.loc['RAMA4_NB_0_2_XSRT','id'],NAME.loc['RAMA4_NB_1_0_LSXX','id'],NAME.loc['RAMA4_NB_1_1_XSXX','id'],NAME.loc['RAMA4_NB_1_2_XSXX','id'],NAME.loc['RAMA4_NB_1_3_XSXX','id'],NAME.loc['RAMA4_NB_2_0_XSXX','id'],NAME.loc['RAMA4_NB_2_1_XSXX','id'],NAME.loc['RAMA4_NB_2_2_XSXX','id'],NAME.loc['RAMA4_NB_3_0_XSXX','id'],NAME.loc['RAMA4_NB_3_1_XSXX','id']]\n",
    "RAMA4_WB = [NAME.loc['RAMA4_WB_0_0_XSXX','id'],NAME.loc['RAMA4_WB_0_1_XSXX','id'],NAME.loc['RAMA4_WB_0_2_XSXX','id'],NAME.loc['RAMA4_WB_0_3_XSXX','id'],NAME.loc['RAMA4_WB_0_4_XSRT','id'],NAME.loc['RAMA4_WB_1_0_LSXX','id'],NAME.loc['RAMA4_WB_1_1_XSXX','id'],NAME.loc['RAMA4_WB_1_2_XSXX','id'],NAME.loc['RAMA4_WB_1_3_XSXX','id'],NAME.loc['RAMA4_WB_1_4_XSXX','id'],NAME.loc['RAMA4_WB_1_5_XSXX','id'],NAME.loc['RAMA4_WB_2_0_XSXX','id'],NAME.loc['RAMA4_WB_2_1_XSXX','id'],NAME.loc['RAMA4_WB_2_2_XSXX','id'],NAME.loc['RAMA4_WB_2_3_XSXX','id'],NAME.loc['RAMA4_WB_3_0_XSXX','id'],NAME.loc['RAMA4_WB_3_1_XSXX','id'],NAME.loc['RAMA4_WB_3_2_XSXX','id'],NAME.loc['RAMA4_WB_4_0_XSXX','id'],NAME.loc['RAMA4_WB_4_1_XSXX','id'],NAME.loc['RAMA4_WB_5_0_LSXX','id'],NAME.loc['RAMA4_WB_5_1_XSXX','id'],NAME.loc['RAMA4_WB_5_2_XSXX','id'],NAME.loc['RAMA4_WB_6_0_LSXX','id'],NAME.loc['RAMA4_WB_6_1_XSXX','id'],NAME.loc['RAMA4_WB_6_2_XSXX','id']]\n",
    "RAMA4_WB_R = [NAME.loc['RAMA4_WB_0_4_XSRT','id'], NAME.loc['RAMA4_WB_1_5_XSXX','id'],NAME.loc['RAMA4_WB_2_3_XSXX','id']]\n",
    "KLONGTEI_NB = [NAME.loc['KLONGTEI_NB_0_0_LSXX','id'],NAME.loc['KLONGTEI_NB_0_1_XSXX','id'],NAME.loc['KLONGTEI_NB_0_2_XSXX','id'],NAME.loc['KLONGTEI_NB_0_3_XSRT','id'],NAME.loc['KLONGTEI_NB_1_0_LSXX','id'],NAME.loc['KLONGTEI_NB_1_1_XSXX','id'],NAME.loc['KLONGTEI_NB_1_2_XSXX','id'],NAME.loc['KLONGTEI_NB_1_3_XSXX','id'],NAME.loc['KLONGTEI_NB_2_0_LSXX','id'],NAME.loc['KLONGTEI_NB_2_1_XSXX','id'],NAME.loc['KLONGTEI_NB_2_2_XSXX','id'],NAME.loc['KLONGTEI_NB_2_3_XSXX','id']]\n",
    "# NARANONG\n",
    "NARANONG_EB = [NAME.loc['NARANONG_EB_0_0_LSXX','id'],NAME.loc['NARANONG_EB_0_1_XSRT','id'],NAME.loc['NARANONG_EB_1_0_XSXX','id'],NAME.loc['NARANONG_EB_1_1_XSXX','id'],NAME.loc['NARANONG_EB_2_0_XSXX','id'],NAME.loc['NARANONG_EB_2_1_XSXX','id'],NAME.loc['NARANONG_EB_2_2_XSXX','id'],NAME.loc['NARANONG_EB_3_0_XSXX','id'],NAME.loc['NARANONG_EB_3_1_XSRX','id'],NAME.loc['NARANONG_EB_4_0_LSXX','id'],NAME.loc['NARANONG_EB_4_1_XSXX','id'],NAME.loc['NARANONG_EB_5_0_LSXX','id'],NAME.loc['NARANONG_EB_5_1_XSRX','id']]\n",
    "NARANONG_WB = [NAME.loc['NARANONG_WB_0_0_LSXX','id'],NAME.loc['NARANONG_WB_0_1_XSXX','id'],NAME.loc['NARANONG_WB_0_2_XSXX','id'],NAME.loc['NARANONG_WB_0_3_XSRT','id'],NAME.loc['NARANONG_WB_1_0_XSXX','id'],NAME.loc['NARANONG_WB_1_1_XSXX','id'],NAME.loc['NARANONG_WB_1_2_XSXX','id'],NAME.loc['NARANONG_WB_2_0_LSXX','id'],NAME.loc['NARANONG_WB_2_1_XSXX','id'],NAME.loc['NARANONG_WB_2_2_XSXX','id'],NAME.loc['NARANONG_WB_3_0_XSXX','id'],NAME.loc['NARANONG_WB_3_1_XSXX','id'],NAME.loc['NARANONG_WB_3_2_XSXX','id'],NAME.loc['NARANONG_WB_3_3_XSXX','id'],NAME.loc['NARANONG_WB_4_0_XSXX','id'],NAME.loc['NARANONG_WB_4_1_XSXX','id'],NAME.loc['NARANONG_WB_4_2_XSXX','id']]\n",
    "NARANONG_SB = [NAME.loc['NARANONG_SB_0_0_LSXX','id'],NAME.loc['NARANONG_SB_0_1_XSXX','id'],NAME.loc['NARANONG_SB_0_2_XSRX','id'],NAME.loc['NARANONG_SB_1_0_LSXX','id'],NAME.loc['NARANONG_SB_1_1_XSXX','id'],NAME.loc['NARANONG_SB_1_2_XSXX','id'],NAME.loc['NARANONG_SB_1_3_XSXX','id'],NAME.loc['NARANONG_SB_2_0_XSXX','id'],NAME.loc['NARANONG_SB_2_1_XSXX','id'],NAME.loc['NARANONG_SB_2_2_XSXX','id'],NAME.loc['NARANONG_SB_2_3_XSXX','id']]\n",
    "NARANONG_SW = [NAME.loc['NARANONG_SW_0_1_XSRX','id'],NAME.loc['NARANONG_SW_1_0_XSXX','id'],NAME.loc['NARANONG_SW_1_1_XSXX','id'],NAME.loc['NARANONG_SW_1_2_XSXX','id'],NAME.loc['NARANONG_SW_1_3_XSXX','id'],NAME.loc['NARANONG_SW_2_0_XSXX','id'],NAME.loc['NARANONG_SW_2_1_XSXX','id'],NAME.loc['NARANONG_SW_2_2_XSXX','id']]\n",
    "NARANONG_NB = [NAME.loc['NARANONG_NB_0_0_XSXX','id'],NAME.loc['NARANONG_NB_0_1_XSRX','id'],NAME.loc['NARANONG_NB_1_0_LSXX','id'],NAME.loc['NARANONG_NB_1_1_XSXX','id'],NAME.loc['NARANONG_NB_1_2_XSXX','id'],NAME.loc['NARANONG_NB_2_0_XSXX','id'],NAME.loc['NARANONG_NB_2_1_XSXX','id']]\n",
    "NARANONG_EB_R = [NAME.loc['NARANONG_EB_0_1_XSRT','id']]\n",
    "# SUNLAKAKHON\n",
    "SUNLAKAKHON_EB = [NAME.loc['SUNLAKAKHON_EB_0_0_LSXX','id'],NAME.loc['SUNLAKAKHON_EB_0_1_XSXX','id'],NAME.loc['SUNLAKAKHON_EB_0_2_XSRT','id'],NAME.loc['SUNLAKAKHON_EB_1_0_XSXX','id'],NAME.loc['SUNLAKAKHON_EB_1_1_XSXX','id'],NAME.loc['SUNLAKAKHON_EB_1_2_XSXX','id'],NAME.loc['SUNLAKAKHON_EB_1_3_XSRX','id'],NAME.loc['SUNLAKAKHON_EB_2_0_XSXX','id'],NAME.loc['SUNLAKAKHON_EB_2_1_XSXX','id'],NAME.loc['SUNLAKAKHON_EB_2_2_XSXX','id'],NAME.loc['SUNLAKAKHON_EB_3_0_XSXX','id'],NAME.loc['SUNLAKAKHON_EB_3_1_XSXX','id'],NAME.loc['SUNLAKAKHON_EB_4_0_XSXX','id']]\n",
    "SUNLAKAKHON_WB = [NAME.loc['SUNLAKAKHON_WB_0_0_LSXX','id'],NAME.loc['SUNLAKAKHON_WB_0_1_XSXX','id'],NAME.loc['SUNLAKAKHON_WB_0_2_XSRX','id'],NAME.loc['SUNLAKAKHON_WB_1_0_XSXX','id'],NAME.loc['SUNLAKAKHON_WB_1_1_XSXX','id'],NAME.loc['SUNLAKAKHON_WB_1_2_XSXX','id'],NAME.loc['SUNLAKAKHON_WB_2_0_XSXX','id'],NAME.loc['SUNLAKAKHON_WB_2_1_XSXX','id']]\n",
    "SUNLAKAKHON_SB = [NAME.loc['SUNLAKAKHON_SB_0_0_LSXX','id'],NAME.loc['SUNLAKAKHON_SB_0_1_XSXX','id'],NAME.loc['SUNLAKAKHON_SB_0_2_XSRT','id'],NAME.loc['SUNLAKAKHON_SB_1_0_LSXX','id'],NAME.loc['SUNLAKAKHON_SB_1_1_XSXX','id'],NAME.loc['SUNLAKAKHON_SB_1_2_XSXX','id'],NAME.loc['SUNLAKAKHON_SB_1_3_XSXX','id'],NAME.loc['SUNLAKAKHON_SB_2_0_XSXX','id'],NAME.loc['SUNLAKAKHON_SB_2_1_XSXX','id'],NAME.loc['SUNLAKAKHON_SB_2_2_XSXX','id'],NAME.loc['SUNLAKAKHON_SB_3_0_LSXX','id'],NAME.loc['SUNLAKAKHON_SB_3_1_XSXX','id'],NAME.loc['SUNLAKAKHON_SB_3_2_XSXX','id'],NAME.loc['SUNLAKAKHON_SB_3_3_XSRX','id'],NAME.loc['SUNLAKAKHON_SB_4_0_XSXX','id'],NAME.loc['SUNLAKAKHON_SB_4_1_XSXX','id'],NAME.loc['SUNLAKAKHON_SB_4_2_XSXX','id']]\n",
    "SUNLAKAKHON_NB = [NAME.loc['SUNLAKAKHON_NB_0_0_LSXX','id'],NAME.loc['SUNLAKAKHON_NB_0_1_XSXX','id'],NAME.loc['SUNLAKAKHON_NB_0_2_XSRX','id'],NAME.loc['SUNLAKAKHON_NB_1_0_LSXX','id'],NAME.loc['SUNLAKAKHON_NB_1_1_XSXX','id'],NAME.loc['SUNLAKAKHON_NB_1_2_XSXX','id'],NAME.loc['SUNLAKAKHON_NB_2_0_XSXX','id'],NAME.loc['SUNLAKAKHON_NB_2_1_XSXX','id'],NAME.loc['SUNLAKAKHON_NB_2_2_XSXX','id'],NAME.loc['SUNLAKAKHON_NB_3_0_LSXX','id'],NAME.loc['SUNLAKAKHON_NB_3_1_XSXX','id'],NAME.loc['SUNLAKAKHON_NB_3_2_XSXX','id']]\n",
    "\n",
    "# KASEMRAT\n",
    "KASEMRAT_EB = [NAME.loc['KASEMRAT_EB_0_0_XSXX','id'],NAME.loc['KASEMRAT_EB_0_1_XSXX','id'],NAME.loc['KASEMRAT_EB_0_2_XSXX','id'],NAME.loc['KASEMRAT_EB_0_3_XSRT','id'],NAME.loc['KASEMRAT_EB_1_0_LSXX','id'],NAME.loc['KASEMRAT_EB_1_1_XSXX','id'],NAME.loc['KASEMRAT_EB_1_2_XSXX','id'],NAME.loc['KASEMRAT_EB_1_3_XSXX','id'],NAME.loc['KASEMRAT_EB_2_0_LSXX','id'],NAME.loc['KASEMRAT_EB_2_1_XSXX','id'],NAME.loc['KASEMRAT_EB_2_2_XSXX','id'],NAME.loc['KASEMRAT_EB_3_0_LSXX','id'],NAME.loc['KASEMRAT_EB_3_1_XSXX','id'],NAME.loc['KASEMRAT_EB_3_2_XSXX','id'],NAME.loc['KASEMRAT_EB_4_0_LSXX','id'],NAME.loc['KASEMRAT_EB_4_1_XSXX','id'],NAME.loc['KASEMRAT_EB_4_2_XSXX','id'],NAME.loc['KASEMRAT_EB_5_0_LSXX','id'],NAME.loc['KASEMRAT_EB_5_1_XSXX','id'],NAME.loc['KASEMRAT_EB_5_2_XSXX','id'],NAME.loc['KASEMRAT_EB_5_3_XSXX','id'],NAME.loc['KASEMRAT_EB_6_0_LSXX','id'],NAME.loc['KASEMRAT_EB_6_1_XSXX','id'],NAME.loc['KASEMRAT_EB_6_2_XSXX','id'],NAME.loc['KASEMRAT_EB_6_3_XSXX','id'],NAME.loc['KASEMRAT_EB_7_0_LSXX','id'],NAME.loc['KASEMRAT_EB_7_1_XSXX','id'],NAME.loc['KASEMRAT_EB_7_2_XSXX','id'],NAME.loc['KASEMRAT_EB_7_3_XSXX','id'],NAME.loc['KASEMRAT_EB_8_0_XSXX','id'],NAME.loc['KASEMRAT_EB_8_1_XSXX','id'],NAME.loc['KASEMRAT_EB_8_2_XSXX','id'],NAME.loc['KASEMRAT_EB_8_3_XSXX','id'],NAME.loc['KASEMRAT_EB_8_4_XSXX','id'],NAME.loc['KASEMRAT_EB_9_0_XSXX','id'],NAME.loc['KASEMRAT_EB_9_1_XSXX','id'],NAME.loc['KASEMRAT_EB_9_2_XSXX','id'],NAME.loc['KASEMRAT_EB_9_3_XSXX','id']]\n",
    "KASEMRAT_WB = [NAME.loc['KASEMRAT_WB_0_0_LSXX','id'],NAME.loc['KASEMRAT_WB_0_1_XSXX','id'],NAME.loc['KASEMRAT_WB_0_2_XSXX','id'],NAME.loc['KASEMRAT_WB_1_0_XSXX','id'],NAME.loc['KASEMRAT_WB_1_1_XSXX','id'],NAME.loc['KASEMRAT_WB_1_2_XSXX','id'],NAME.loc['KASEMRAT_WB_1_3_XSRX','id'],NAME.loc['KASEMRAT_WB_2_0_XSXX','id'],NAME.loc['KASEMRAT_WB_2_1_XSXX','id'],NAME.loc['KASEMRAT_WB_2_2_XSXX','id'],NAME.loc['KASEMRAT_WB_3_0_LSXX','id'],NAME.loc['KASEMRAT_WB_3_1_XSXX','id'],NAME.loc['KASEMRAT_WB_3_2_XSXX','id']]\n",
    "KASEMRAT_NB = [NAME.loc['KASEMRAT_NB_0_0_LSXX','id'],NAME.loc['KASEMRAT_NB_0_1_XSXX','id'],NAME.loc['KASEMRAT_NB_0_2_XSRX','id'],NAME.loc['KASEMRAT_NB_1_0_LSXX','id'],NAME.loc['KASEMRAT_NB_1_1_XSXX','id'],NAME.loc['KASEMRAT_NB_1_2_XSXX','id'],NAME.loc['KASEMRAT_NB_2_0_XSXX','id'],NAME.loc['KASEMRAT_NB_2_1_XSXX','id'],NAME.loc['KASEMRAT_NB_3_0_LSXX','id'],NAME.loc['KASEMRAT_NB_3_1_XSXX','id'],NAME.loc['KASEMRAT_NB_3_2_XSXX','id'],NAME.loc['KASEMRAT_NB_3_3_XSRT','id'],NAME.loc['KASEMRAT_NB_4_0_XSXX','id'],NAME.loc['KASEMRAT_NB_4_1_XSXX','id'],NAME.loc['KASEMRAT_NB_4_2_XSXX','id'],NAME.loc['KASEMRAT_NB_5_0_XSXX','id'],NAME.loc['KASEMRAT_NB_5_1_XSXX','id'],NAME.loc['KASEMRAT_NB_5_2_XSXX','id'],NAME.loc['KASEMRAT_NB_5_3_XSXX','id'],NAME.loc['KASEMRAT_NB_6_0_XSXX','id'],NAME.loc['KASEMRAT_NB_6_1_XSXX','id'],NAME.loc['KASEMRAT_NB_6_2_XSXX','id']]\n",
    "KASEMRAT_EB_R = [NAME.loc['KASEMRAT_EB_0_3_XSRT','id'],NAME.loc['KASEMRAT_EB_1_3_XSXX','id']]\n",
    "\n",
    "MASUKGRIDLOCK = [NAME.loc['MASUKGRIDLOCK_ARI_NB_0_0_LSXX','id'],NAME.loc['MASUKGRIDLOCK_MASUK_WB_0_0_LSRX','id'],NAME.loc['MASUKGRIDLOCK_ATTHAKAWI_SB_0_0_XSRT','id'],NAME.loc['MASUKGRIDLOCK_ATTHAKAWI_SB_1_0_LSXT','id'],NAME.loc['MASUKGRIDLOCK_ATTHAKAWI_SB_2_0_LXXX','id']]\n",
    "SUKHUMVIT = [NAME.loc['MASUKGRIDLOCK_SUKHUMVIT22_SB_0_0_XSXX','id'],NAME.loc['MASUKGRIDLOCK_SUKHUMVIT22_SB_1_0_XSXX','id'],NAME.loc['MASUKGRIDLOCK_SUKHUMVIT22_SB_2_0_XSXX','id'],NAME.loc['MASUKGRIDLOCK_SUKHUMVIT22_SB_3_0_XSXX','id'],NAME.loc['MASUKGRIDLOCK_SUKHUMVIT22_SB_4_0_XSXX','id'],NAME.loc['MASUKGRIDLOCK_SUKHUMVIT22_SB_5_0_XSXX','id'],NAME.loc['MASUKGRIDLOCK_SUKHUMVIT22_SB_6_0_XSXX','id'],NAME.loc['MASUKGRIDLOCK_SUKHUMVIT22_SB_7_0_XSXX','id'],NAME.loc['MASUKGRIDLOCK_SUKHUMVIT22_SB_8_0_XSXX','id'],NAME.loc['MASUKGRIDLOCK_SUKHUMVIT22_SB_9_0_XSXX','id'],NAME.loc['MASUKGRIDLOCK_SUKHUMVIT22_SB_10_0_XSXX','id'],NAME.loc['MASUKGRIDLOCK_SUKHUMVIT24_SB_0_0_XSXX','id'],NAME.loc['MASUKGRIDLOCK_SUKHUMVIT24_SB_1_0_XSXX','id'],NAME.loc['MASUKGRIDLOCK_SUKHUMVIT24_SB_2_0_XSXX','id'],NAME.loc['MASUKGRIDLOCK_SUKHUMVIT24_SB_3_0_XSXX','id'],NAME.loc['MASUKGRIDLOCK_SUKHUMVIT26_SB_0_0_XSXX','id'],NAME.loc['MASUKGRIDLOCK_SUKHUMVIT26_SB_1_0_XSXX','id'],NAME.loc['MASUKGRIDLOCK_SUKHUMVIT26_SB_2_0_XSXX','id'],NAME.loc['MASUKGRIDLOCK_SUKHUMVIT26_SB_3_0_XSXX','id'],NAME.loc['MASUKGRIDLOCK_SUKHUMVIT26_SB_4_0_XSXX','id'],NAME.loc['MASUKGRIDLOCK_SUKHUMVIT26_SB_5_0_XSXX','id'],NAME.loc['MASUKGRIDLOCK_SUKHUMVIT26_SB_6_0_XSXX','id'],NAME.loc['MASUKGRIDLOCK_SUKHUMVIT26_SB_7_0_XSXX','id'],NAME.loc['MASUKGRIDLOCK_SUKHUMVIT26_SB_8_0_XSXX','id']]\n",
    "ROAD = [RAMA4_EB_R,RAMA4_EB,RAMA4_SB,RAMA4_NB,RAMA4_WB,RAMA4_WB_R,KLONGTEI_NB,NARANONG_EB,NARANONG_WB,NARANONG_SB,NARANONG_SW,\n",
    "    NARANONG_NB,NARANONG_EB_R,SUNLAKAKHON_EB,SUNLAKAKHON_WB,SUNLAKAKHON_SB,SUNLAKAKHON_NB,KASEMRAT_EB,KASEMRAT_WB,KASEMRAT_NB,KASEMRAT_EB_R,MASUKGRIDLOCK]\n",
    "\n",
    "\n",
    "GRIDLOCKAREA = RAMA4_NB+RAMA4_WB+KLONGTEI_NB+NARANONG_WB+NARANONG_SB+NARANONG_SW+SUNLAKAKHON_EB+SUNLAKAKHON_SB+KASEMRAT_EB+KASEMRAT_NB\n"
   ]
  },
  {
   "cell_type": "code",
   "execution_count": 27,
   "metadata": {},
   "outputs": [],
   "source": [
    "def get_reward(alpha,beta):\n",
    "    detectorlength = sum([traci.lanearea.getLength(e) for e in NAME.loc[:,'id']])\n",
    "    throughput = 0\n",
    "    throughput_KLONGTEI = 0\n",
    "    throughput_KASEMRAT = 0\n",
    "    throughput_NARANONG = 0\n",
    "    throughput_SUNLAKAKHON = 0\n",
    "    throughput_RAMA4 = 0\n",
    "    throughput_ATTHAKAVI_RAMA4 = 0\n",
    "    for i in range(15):\n",
    "        traci.simulationStep()\n",
    "        throughput += get_throughput(ALL_loopcoil)\n",
    "        throughput_KLONGTEI += get_throughput(KLONGTEI_loopcoil)\n",
    "        throughput_KASEMRAT += get_throughput(KASEMRAT_loopcoil)\n",
    "        throughput_NARANONG += get_throughput(NARANONG_loopcoil)\n",
    "        throughput_SUNLAKAKHON += get_throughput(SUNLAKAKHON_loopcoil)\n",
    "        throughput_RAMA4 += get_throughput(RAMA4_loopcoil)\n",
    "        throughput_ATTHAKAVI_RAMA4 += get_throughput(ATTHAKAVI_RAMA4_loopcoil)\n",
    "    \n",
    "    drawback =  get_backlog(NAME.loc[:,'id'])\n",
    "    drawback_GRIDLOCKAREA =  get_backlog(GRIDLOCKAREA)\n",
    "    rewards = throughput - alpha*drawback + beta*drawback_GRIDLOCKAREA \n",
    "    reward={}\n",
    "    reward[0] = throughput_KLONGTEI - alpha*drawback/6 + beta*drawback_GRIDLOCKAREA/6\n",
    "    reward[1] = throughput_RAMA4 - alpha*drawback/6 + beta*drawback_GRIDLOCKAREA/6\n",
    "    reward[2] = throughput_NARANONG - alpha*drawback/6 + beta*drawback_GRIDLOCKAREA/6\n",
    "    reward[3] = throughput_SUNLAKAKHON - alpha*drawback/6 + beta*drawback_GRIDLOCKAREA /6\n",
    "    reward[4] = throughput_KASEMRAT - alpha*drawback/6 + beta*drawback_GRIDLOCKAREA /6\n",
    "    reward[5] = throughput_ATTHAKAVI_RAMA4 - alpha*drawback/6 + beta*drawback_GRIDLOCKAREA/6\n",
    "     \n",
    "    with open( \"./throughput_fix200\"+\".csv\" , 'a', newline='') as csv_file:\n",
    "        header = [\"throughput_KLONGTEI\",\"throughput_KASEMRAT\",\"throughput_NARANONG\",\"throughput_SUNLAKAKHON\",\"throughput_RAMA4\" ,\" throughput_ATTHAKAVI_RAMA4\",\"throughput\", \n",
    "                  \"mean_speed\", \"jamlength_percent\", \"Backlog\"]\n",
    "        writer = csv.DictWriter(csv_file, fieldnames = header)\n",
    "        writer.writerow({\"throughput_KLONGTEI\": throughput_KLONGTEI\n",
    "                         ,\"throughput_KASEMRAT\": throughput_KASEMRAT\n",
    "                         ,\"throughput_NARANONG\": throughput_NARANONG\n",
    "                         ,\"throughput_SUNLAKAKHON\": throughput_SUNLAKAKHON\n",
    "                         ,\"throughput_RAMA4\": throughput_RAMA4\n",
    "                         ,\" throughput_ATTHAKAVI_RAMA4\":  throughput_ATTHAKAVI_RAMA4\n",
    "                         ,\"throughput\": throughput\n",
    "                         ,\"mean_speed\": get_mean_speed(NAME.loc[:,'id'])\n",
    "                         ,\"jamlength_percent\" : sum([traci.lanearea.getJamLengthMeters(e) for e in NAME.loc[:,'id']])*100/detectorlength \n",
    "                        , \"Backlog\" :  drawback})\n",
    "   \n",
    "    return rewards, throughput, drawback, reward "
   ]
  },
  {
   "cell_type": "code",
   "execution_count": 28,
   "metadata": {},
   "outputs": [],
   "source": [
    "# number_phase = [4,9,7,5,4,3]\n",
    "# def set_current_phase(action, current_phase):\n",
    "#     if action < 4:\n",
    "#         phase = action\n",
    "#         current_phase[0] = phase\n",
    "#     elif action < 13:\n",
    "#         phase = (action-4)\n",
    "#         current_phase[1] = phase\n",
    "#     elif action < 20:\n",
    "#         phase = (action-13)\n",
    "#         current_phase[2] = phase\n",
    "#     elif action < 25:\n",
    "#         phase = (action-20)\n",
    "#         current_phase[3] = phase\n",
    "#     elif action < 29:\n",
    "#         phase = (action-25)\n",
    "#         current_phase[4] = phase\n",
    "#     else:\n",
    "#         phase = (action-29)\n",
    "#         current_phase[5] = phase\n",
    "# number_phase = [4,9,7,5,4,3]\n",
    "# def set_current_phase(action, current_phase):\n",
    "#     if action == 'NoChange':\n",
    "#         current_phase = current_phase\n",
    "#     elif action < 4:\n",
    "#         phase = action\n",
    "#         current_phase[0] = phase\n",
    "#     elif action < 13:\n",
    "#         phase = (action-4)\n",
    "#         current_phase[1] = phase\n",
    "#     elif action < 20:\n",
    "#         phase = (action-13)\n",
    "#         current_phase[2] = phase\n",
    "#     elif action < 25:\n",
    "#         phase = (action-20)\n",
    "#         current_phase[3] = phase\n",
    "#     elif action < 29:\n",
    "#         phase = (action-25)\n",
    "#         current_phase[4] = phase\n",
    "#     else:\n",
    "#         phase = (action-29)\n",
    "#         current_phase[5] = phase\n",
    "#     for i in range (6):\n",
    "#         traci.trafficlight.setPhase(junction_id[junction_name[i]], current_phase[i])\n",
    "    \n",
    "#     if current_phase[5] == 2:\n",
    "#         traci.lane.setAllowed(NAME.loc['MASUKGRIDLOCK_ATTHAKAWI_SB_1_0_LSXT', 'id'], ['passenger'])\n",
    "#         traci.lane.setAllowed(NAME.loc['MASUKGRIDLOCK_ATTHAKAWI_SB_2_0_LXXX', 'id'], ['passenger'])\n",
    "#         traci.lane.setAllowed(NAME.loc['MASUKGRIDLOCK_ATTHAKAWI_SB_0_0_XSRT', 'id'], ['passenger'])\n",
    "#     elif current_phase[5] == 1:\n",
    "#         traci.lane.setDisallowed(NAME.loc['MASUKGRIDLOCK_ATTHAKAWI_SB_1_0_LSXT', 'id'], ['passenger'])         \n",
    "#         traci.lane.setDisallowed(NAME.loc['MASUKGRIDLOCK_ATTHAKAWI_SB_2_0_LXXX', 'id'], ['passenger'])\n",
    "#         traci.lane.setDisallowed(NAME.loc['MASUKGRIDLOCK_ATTHAKAWI_SB_0_0_XSRT', 'id'], ['passenger'])\n",
    "        \n",
    "#     return "
   ]
  },
  {
   "cell_type": "code",
   "execution_count": 29,
   "metadata": {},
   "outputs": [],
   "source": [
    "def set_current_phase(action, current_phase):\n",
    "    \n",
    "    traci.lane.setDisallowed(NAME.loc['MASUKGRIDLOCK_ATTHAKAWI_SB_1_0_LSXT', 'id'], ['passenger'])         \n",
    "    traci.lane.setDisallowed(NAME.loc['MASUKGRIDLOCK_ATTHAKAWI_SB_2_0_LXXX', 'id'], ['passenger'])\n",
    "    traci.lane.setDisallowed(NAME.loc['MASUKGRIDLOCK_ATTHAKAWI_SB_0_0_XSRT', 'id'], ['passenger'])\n",
    "    return "
   ]
  },
  {
   "cell_type": "code",
   "execution_count": 30,
   "metadata": {},
   "outputs": [],
   "source": [
    "reward_memory = []\n",
    "def plot_durations():\n",
    "    print('show')\n",
    "    plt.figure(2)\n",
    "    plt.clf()\n",
    "    durations_t = torch.tensor(reward_memory, dtype=torch.float)\n",
    "    plt.title('Training...')\n",
    "    plt.xlabel('Step')\n",
    "    plt.ylabel('Reward')\n",
    "    plt.plot(durations_t.numpy())\n",
    "    # Take 100 episode averages and plot them too\n",
    "    if len(durations_t) >= 100:\n",
    "        means = durations_t.unfold(0, 100, 1).mean(1).view(-1)\n",
    "        means = torch.cat((torch.zeros(99), means))\n",
    "        plt.plot(means.numpy())\n",
    "\n",
    "    plt.pause(0.001)  # pause a bit so that plots are updated"
   ]
  },
  {
   "cell_type": "code",
   "execution_count": 31,
   "metadata": {},
   "outputs": [],
   "source": [
    "class MyEnv3(gym.Env):\n",
    "    def __init__(self, env_config):\n",
    "        self.alpha = env_config['alpha']\n",
    "        self.beta = env_config['beta']\n",
    "        self.name = env_config['name'] # for pickle\n",
    "        self.episode = 0\n",
    "        self.log_action_json = 0\n",
    "        self.json_dump = 0\n",
    "        self.count = 0\n",
    "        self.reward = 0\n",
    "        self.rewards = 0\n",
    "        self.throughputs = 0\n",
    "        self.backlogs = 0\n",
    "        self.current_phase = [1,1,1,1,1,1]\n",
    "        self.log_action = []\n",
    "        self.done = False\n",
    "        self.reward_memory = []\n",
    "        self.action_space = gym.spaces.Discrete(32)\n",
    "        self.observation_space = gym.spaces.Box(low=0, high=200, shape=(63,), dtype=np.float16)\n",
    "        self.dateTimeObj = ''\n",
    "        print(self.dateTimeObj)\n",
    "        with open( \"./Raytest/ray_results/\"+self.dateTimeObj+\".csv\" , 'a', newline='') as csv_file:\n",
    "                header = ['rewards', 'throughput','backlog',\"meanWaitingTime\", \"meanTravelTime\",\"meanSpeed\"]\n",
    "                writer = csv.DictWriter(csv_file, fieldnames = header)\n",
    "                writer.writeheader()\n",
    "        \n",
    "    def reset(self):\n",
    "        self.episode += 1\n",
    "        self.log_action = []\n",
    "        self.reward_memory.append(self.rewards)\n",
    "        self.count = 0\n",
    "        dateTimeObj = datetime.datetime.now()\n",
    "        self.dateTimeObj = dateTimeObj.strftime(\"%d-%b-%Y-%H-%M-%S-%f\")\n",
    "#         print(type(self.dateTimeObj))\n",
    "        start(self.dateTimeObj)\n",
    "        self.reward = 0\n",
    "        self.rewards = 0\n",
    "        self.throughputs = 0\n",
    "        self.backlogs = 0\n",
    "        print(self.reward_memory)\n",
    "        current_phase, hot_encoding_current_phase = get_hot_encoding_current_phase()\n",
    "        state = get_state_attention(current_phase, hot_encoding_current_phase)\n",
    "#         print(state)\n",
    "        self.done = False\n",
    "        self.current_phase = current_phase\n",
    "        if len(self.reward_memory)%100 == 0:\n",
    "            print('memory',self.reward_memory[-10:])\n",
    "        return state \n",
    "    \n",
    "    def get_json(self):\n",
    "        #send json to peam\n",
    "        return self.json_dump\n",
    "    \n",
    "    def step(self, action):\n",
    "        set_current_phase(action, self.current_phase)\n",
    "#         print(action)\n",
    "        current_phase, hot_encoding_current_phase = get_hot_encoding_current_phase()\n",
    "        self.reward, throughput, backlog= get_reward()\n",
    "        self.rewards += self.reward\n",
    "        self.throughputs += throughput\n",
    "        self.backlogs += backlog\n",
    "        state = get_state_attention(current_phase, hot_encoding_current_phase)\n",
    "        if np.isnan(self.reward) == True:\n",
    "            print('HELP', type(self.reward))\n",
    "        self.count += 1\n",
    "        self.current_phase = current_phase\n",
    "#         print('count', self.count)\n",
    "        self.done = False\n",
    "        if self.episode%20 == 0:\n",
    "            self.log_action.append(str(action))\n",
    "        if self.count >= 2880: #2880\n",
    "            traci.close()\n",
    "            self.done = True\n",
    "            meanWaitingTime_avg,meanTravelTime_avg,meanSpeed_avg = read_summary_xml(self.dateTimeObj)\n",
    "            data_set = {\"rewards\": self.rewards, \"meanWaitingTime\": meanWaitingTime_avg, \"meanTravelTime\": meanTravelTime_avg,\n",
    "                       \"meanSpeed\": meanSpeed_avg, \"throughput\": self.throughputs, \"backlog\": self.backlogs/2880\n",
    "                       }\n",
    "            \n",
    "            self.json_dump = json.dumps(data_set)\n",
    "            if self.episode%20 == 0:\n",
    "                self.log_action_json = json.dumps(self.log_action)\n",
    "                with open( \"./Raytest/ray_results/action\"+self.dateTimeObj+\".csv\" , 'a', newline='') as csv_file:\n",
    "                    header = ['action']\n",
    "                    writer = csv.DictWriter(csv_file, fieldnames = header)\n",
    "                    writer.writerow({'action': self.log_action})\n",
    "                                 \n",
    "            with open( \"./Raytest/ray_results/\"+self.dateTimeObj+\".csv\" , 'a', newline='') as csv_file:\n",
    "                header = ['rewards', 'throughput','backlog',\"meanWaitingTime\", \"meanTravelTime\",\"meanSpeed\"]\n",
    "                writer = csv.DictWriter(csv_file, fieldnames = header)\n",
    "                writer.writerow({'rewards': self.rewards, \n",
    "                                 'throughput': self.throughputs,\n",
    "                                'backlog': self.backlogs/2880,\n",
    "                                \"meanWaitingTime\": meanWaitingTime_avg, \"meanTravelTime\": meanTravelTime_avg,\n",
    "                       \"meanSpeed\": meanSpeed_avg})\n",
    "\n",
    "        \n",
    "        return_state = np.array(state).astype(np.float16)\n",
    "#         print(return_state)\n",
    "        info = {\"throughput\": throughput,\n",
    "                \"backlog\":backlog\n",
    "                }\n",
    "        info = {**info}\n",
    "#         print(info)\n",
    "        return return_state , self.reward, self.done, info"
   ]
  },
  {
   "cell_type": "code",
   "execution_count": 32,
   "metadata": {},
   "outputs": [],
   "source": [
    "# traci.close()"
   ]
  },
  {
   "cell_type": "code",
   "execution_count": 33,
   "metadata": {},
   "outputs": [],
   "source": [
    "# if __name__ == \"__main__\":\n",
    "#     print(\"asd\")\n",
    "#     env = MyEnv3(env_config=None)\n",
    "\n",
    "#     for i_episode in range(1):\n",
    "#         observation = env.reset()\n",
    "#         for t in range(3000):\n",
    "#             # env.render()\n",
    "# #             print(observation)\n",
    "#             action = env.action_space.sample()\n",
    "#             # print('action' ,action)\n",
    "#             observation, reward, done, info = env.step(action)\n",
    "#             if done:\n",
    "#                 print(\"Episode finished after {} timesteps\")\n",
    "#                 break\n",
    "#     env.close()"
   ]
  },
  {
   "cell_type": "code",
   "execution_count": 34,
   "metadata": {},
   "outputs": [],
   "source": [
    "# action =['7', '0', '13', '13', '8', '7', '13', '0', '13', '13', '7', '28', '5', '5', '5', '22', '7', '19', '7', '5', '20', '5', '5', '4', '21', '13', '12', '12', '12', '12', '12', '28', '27', '12', '12', '12', '12', '21', '12', '7', '31', '12', '12', '12', '12', '12', '27', '10', '28', '5', '7', '28', '12', '12', '24', '24', '12', '21', '21', '7', '12', '12', '31', '12', '12', '2', '5', '12', '19', '25', '20', '5', '21', '22', '11', '10', '31', '11', '1', '18', '7', '18', '18', '18', '18', '12', '18', '31', '18', '18', '18', '18', '18', '2', '13', '13', '13', '13', '11', '11', '13', '11', '11', '13', '13', '13', '13', '11', '13', '13', '13', '13', '13', '13', '13', '22', '22', '11', '7', '5', '7', '23', '12', '6', '6', '12', '3', '25', '2', '6', '12', '6', '30', '30', '17', '27', '16', '5', '5', '1', '14', '18', '19', '22', '14', '3', '14', '18', '18', '19', '5', '19', '5', '5', '5', '5', '19', '31', '19', '19', '19', '19', '10', '19', '19', '5', '5', '30', '5', '5', '24', '7', '7', '10', '18', '7', '7', '7', '24', '7', '7', '15', '7', '3', '7', '7', '7', '7', '7', '7', '7', '7', '9', '7', '7', '7', '7', '7', '7', '7', '7', '7', '7', '7', '7', '7', '18', '7', '7', '7', '7', '21', '19', '19', '19', '1', '19', '24', '7', '7', '15', '28', '28', '0', '18', '11', '7', '24', '24', '24', '24', '24', '22', '0', '31', '18', '18', '18', '27', '21', '7', '20', '15', '8', '18', '19', '23', '12', '12', '12', '12', '12', '12', '0', '12', '1', '12', '12', '12', '12', '0', '23', '23', '23', '23', '23', '23', '28', '16', '11', '11', '11', '11', '11', '11', '20', '21', '5', '1', '18', '18', '18', '18', '12', '27', '10', '10', '10', '10', '12', '10', '19', '10', '17', '5', '18', '7', '7', '7', '7', '7', '7', '19', '7', '7', '1', '7', '7', '7', '7', '7', '21', '7', '20', '5', '5', '13', '7', '4', '5', '7', '7', '7', '7', '7', '2', '21', '19', '7', '7', '7', '7', '7', '7', '7', '7', '7', '7', '7', '7', '7', '4', '26', '24', '17', '2', '13', '7', '18', '13', '29', '27', '5', '21', '5', '9', '24', '7', '7', '11', '7', '7', '7', '4', '7', '13', '7', '7', '16', '21', '5', '5', '5', '13', '13', '5', '5', '5', '0', '21', '16', '5', '5', '5', '21', '3', '7', '21', '5', '7', '5', '7', '5', '7', '5', '7', '5', '7', '5', '7', '5', '7', '5', '7', '5', '7', '5', '28', '20', '18', '18', '0', '5', '19', '16', '19', '23', '7', '5', '7', '6', '5', '7', '5', '7', '5', '7', '5', '7', '5', '7', '5', '5', '5', '18', '0', '23', '0', '31', '5', '24', '7', '8', '5', '19', '20', '23', '5', '14', '14', '7', '5', '18', '0', '0', '4', '3', '0', '0', '29', '6', '20', '21', '27', '5', '7', '0', '0', '0', '0', '0', '0', '0', '0', '0', '0', '0', '0', '0', '0', '0', '31', '7', '1', '7', '7', '21', '7', '7', '7', '7', '7', '17', '18', '20', '18', '18', '18', '4', '5', '21', '6', '30', '7', '29', '3', '0', '0', '0', '0', '16', '11', '5', '21', '21', '21', '21', '21', '21', '21', '21', '21', '21', '21', '21', '21', '21', '21', '14', '18', '29', '7', '0', '0', '27', '0', '0', '0', '0', '0', '0', '0', '0', '0', '0', '0', '0', '0', '0', '0', '0', '0', '3', '0', '0', '0', '0', '0', '23', '0', '0', '0', '0', '0', '21', '17', '18', '0', '0', '23', '0', '26', '5', '0', '0', '0', '0', '0', '16', '5', '5', '0', '0', '0', '29', '0', '0', '0', '0', '6', '1', '8', '6', '29', '31', '3', '29', '5', '8', '3', '30', '29', '12', '0', '3', '0', '0', '0', '0', '0', '0', '13', '21', '2', '22', '22', '25', '24', '13', '13', '13', '13', '13', '13', '13', '13', '13', '13', '13', '3', '0', '13', '13', '13', '22', '22', '12', '22', '22', '26', '2', '8', '14', '27', '7', '25', '0', '25', '25', '25', '31', '18', '18', '14', '14', '18', '15', '29', '21', '29', '0', '0', '0', '0', '0', '0', '11', '0', '0', '29', '0', '24', '0', '0', '0', '0', '30', '7', '15', '15', '6', '21', '4', '16', '15', '16', '27', '11', '19', '19', '19', '19', '19', '29', '23', '26', '23', '23', '18', '0', '6', '12', '0', '0', '0', '0', '0', '1', '0', '11', '25', '0', '0', '0', '0', '0', '0', '28', '16', '0', '18', '0', '0', '0', '0', '13', '29', '29', '2', '1', '12', '12', '12', '12', '12', '12', '12', '12', '12', '21', '20', '30', '29', '30', '29', '9', '20', '20', '20', '20', '20', '20', '18', '5', '18', '18', '18', '18', '18', '18', '18', '28', '1', '13', '30', '29', '30', '29', '30', '8', '5', '19', '5', '5', '5', '5', '5', '5', '5', '5', '5', '31', '5', '5', '12', '27', '14', '30', '18', '19', '28', '2', '23', '0', '0', '19', '0', '3', '23', '23', '23', '23', '23', '23', '23', '23', '23', '1', '23', '23', '6', '29', '30', '29', '0', '5', '16', '28', '0', '7', '5', '0', '0', '12', '22', '0', '0', '0', '24', '0', '14', '20', '18', '7', '5', '18', '18', '18', '1', '18', '18', '18', '18', '18', '18', '18', '18', '18', '18', '18', '18', '18', '18', '18', '18', '18', '18', '18', '18', '18', '25', '18', '18', '18', '18', '12', '12', '12', '12', '12', '12', '12', '2', '13', '7', '16', '6', '1', '11', '12', '5', '18', '31', '18', '27', '7', '13', '2', '14', '18', '27', '27', '27', '27', '1', '19', '13', '2', '7', '7', '7', '7', '2', '7', '7', '7', '1', '2', '7', '7', '12', '21', '6', '21', '21', '21', '21', '22', '7', '7', '7', '7', '7', '7', '23', '30', '16', '16', '30', '27', '15', '14', '1', '24', '18', '29', '7', '7', '7', '15', '11', '5', '5', '5', '5', '5', '5', '17', '7', '11', '7', '14', '0', '24', '0', '11', '7', '22', '0', '0', '16', '21', '31', '2', '5', '18', '18', '18', '18', '18', '18', '18', '18', '18', '18', '18', '22', '7', '16', '16', '16', '6', '16', '16', '21', '9', '21', '17', '21', '23', '16', '24', '7', '7', '21', '1', '0', '12', '2', '21', '21', '21', '21', '21', '21', '1', '10', '10', '10', '10', '10', '10', '10', '10', '10', '2', '21', '21', '21', '21', '21', '21', '21', '21', '21', '21', '17', '21', '21', '21', '21', '21', '21', '21', '21', '21', '21', '21', '21', '28', '5', '13', '2', '14', '18', '7', '6', '29', '9', '5', '7', '6', '1', '7', '10', '18', '18', '18', '18', '18', '3', '17', '18', '14', '25', '18', '0', '11', '11', '11', '11', '11', '30', '5', '16', '16', '16', '16', '1', '21', '16', '16', '11', '16', '16', '16', '16', '16', '18', '16', '16', '16', '16', '16', '16', '7', '16', '16', '16', '7', '16', '16', '16', '16', '16', '16', '16', '16', '18', '16', '8', '30', '30', '30', '30', '30', '30', '30', '30', '30', '31', '18', '11', '16', '16', '21', '16', '11', '16', '16', '3', '16', '19', '23', '23', '23', '23', '23', '23', '23', '23', '23', '23', '23', '23', '8', '13', '29', '25', '12', '29', '29', '26', '22', '7', '29', '29', '5', '7', '26', '1', '5', '7', '5', '7', '5', '7', '28', '20', '29', '29', '29', '29', '29', '29', '29', '29', '29', '3', '29', '29', '29', '29', '29', '10', '12', '26', '2', '22', '29', '29', '29', '0', '2', '29', '29', '4', '29', '5', '4', '5', '2', '2', '26', '2', '2', '2', '29', '2', '29', '2', '2', '8', '7', '1', '5', '7', '29', '5', '6', '13', '26', '0', '1', '0', '1', '4', '22', '22', '22', '22', '22', '22', '19', '5', '20', '5', '5', '5', '5', '5', '25', '23', '23', '23', '11', '23', '23', '23', '23', '23', '23', '23', '0', '23', '23', '12', '0', '23', '23', '23', '23', '18', '16', '0', '0', '21', '11', '11', '13', '16', '11', '9', '12', '19', '8', '5', '20', '0', '13', '29', '29', '29', '29', '29', '29', '29', '29', '29', '29', '30', '15', '12', '18', '12', '22', '7', '2', '21', '16', '16', '18', '16', '16', '16', '16', '16', '16', '16', '21', '0', '18', '4', '16', '16', '16', '24', '5', '3', '30', '30', '30', '30', '30', '23', '20', '18', '18', '18', '18', '6', '12', '12', '15', '19', '26', '7', '4', '5', '5', '5', '5', '5', '5', '5', '5', '5', '5', '12', '7', '5', '5', '14', '12', '2', '5', '20', '28', '29', '18', '19', '23', '9', '23', '28', '23', '23', '23', '23', '23', '23', '23', '23', '23', '23', '23', '20', '5', '8', '20', '20', '20', '20', '20', '0', '5', '5', '5', '5', '5', '5', '5', '21', '20', '5', '5', '5', '5', '5', '5', '5', '9', '5', '0', '5', '5', '5', '5', '5', '5', '5', '5', '5', '5', '5', '5', '5', '5', '2', '5', '5', '5', '30', '5', '5', '15', '31', '15', '15', '15', '15', '15', '3', '23', '7', '27', '0', '0', '0', '0', '0', '0', '0', '28', '0', '11', '0', '11', '27', '16', '16', '16', '12', '16', '16', '16', '12', '16', '16', '16', '27', '16', '16', '16', '28', '0', '0', '0', '0', '0', '0', '0', '13', '12', '12', '12', '23', '12', '25', '12', '28', '15', '0', '0', '0', '0', '0', '0', '0', '0', '0', '0', '19', '0', '23', '23', '23', '17', '0', '0', '0', '18', '23', '0', '24', '7', '26', '5', '13', '7', '7', '15', '7', '24', '7', '7', '7', '7', '7', '7', '7', '7', '7', '7', '0', '7', '7', '2', '5', '20', '2', '2', '2', '2', '10', '23', '0', '0', '0', '25', '4', '12', '23', '12', '10', '12', '12', '12', '12', '12', '12', '12', '12', '31', '12', '29', '0', '0', '0', '0', '0', '0', '0', '0', '0', '8', '19', '12', '29', '0', '0', '0', '0', '0', '0', '0', '21', '23', '0', '0', '0', '0', '9', '23', '23', '23', '23', '23', '23', '23', '21', '23', '23', '29', '23', '6', '7', '22', '31', '20', '20', '21', '16', '16', '16', '16', '16', '16', '16', '16', '16', '16', '16', '10', '27', '5', '10', '5', '7', '7', '7', '7', '15', '18', '7', '7', '23', '7', '7', '19', '11', '6', '11', '23', '21', '12', '19', '17', '16', '5', '23', '7', '7', '7', '7', '7', '7', '27', '16', '7', '7', '0', '7', '7', '7', '5', '7', '7', '7', '7', '1', '7', '7', '3', '7', '1', '7', '20', '7', '7', '11', '10', '10', '10', '10', '27', '15', '31', '10', '10', '10', '10', '10', '10', '10', '10', '10', '10', '10', '10', '10', '16', '20', '10', '20', '10', '10', '10', '10', '10', '10', '10', '2', '16', '16', '16', '16', '9', '2', '2', '2', '2', '2', '2', '12', '16', '16', '16', '22', '7', '7', '7', '7', '7', '12', '7', '1', '7', '7', '7', '26', '5', '9', '5', '22', '22', '1', '22', '22', '22', '12', '22', '14', '20', '18', '5', '18', '18', '18', '18', '18', '18', '18', '18', '18', '18', '18', '0', '2', '7', '5', '2', '21', '18', '6', '5', '7', '5', '1', '18', '4', '20', '2', '5', '7', '1', '24', '13', '7', '7', '7', '20', '18', '18', '4', '28', '1', '7', '5', '18', '18', '0', '18', '22', '27', '24', '7', '7', '7', '7', '7', '7', '4', '9', '0', '0', '18', '5', '7', '7', '7', '7', '7', '7', '7', '12', '0', '7', '7', '7', '7', '22', '7', '7', '7', '7', '7', '7', '11', '24', '7', '7', '7', '7', '7', '13', '20', '2', '2', '2', '29', '5', '7', '26', '20', '20', '20', '23', '5', '29', '5', '5', '5', '5', '11', '5', '5', '5', '5', '5', '5', '4', '31', '7', '16', '7', '7', '7', '7', '7', '7', '12', '13', '5', '8', '7', '7', '5', '5', '5', '5', '5', '5', '5', '5', '5', '3', '12', '12', '15', '12', '0', '0', '0', '0', '0', '17', '23', '26', '26', '26', '26', '26', '26', '30', '5', '5', '5', '8', '7', '5', '5', '5', '26', '5', '5', '12', '5', '5', '5', '5', '5', '5', '5', '5', '5', '5', '5', '5', '5', '5', '5', '17', '5', '5', '5', '5', '22', '12', '12', '12', '12', '12', '17', '12', '26', '12', '28', '12', '12', '12', '12', '12', '12', '10', '12', '12', '12', '12', '12', '12', '12', '12', '23', '29', '23', '26', '26', '18', '16', '16', '14', '25', '17', '0', '0', '0', '0', '0', '0', '24', '23', '0', '0', '0', '0', '0', '0', '5', '0', '0', '3', '29', '25', '29', '29', '29', '29', '29', '29', '29', '29', '17', '29', '29', '29', '29', '29', '29', '29', '29', '29', '29', '29', '31', '2', '9', '23', '23', '23', '28', '7', '5', '5', '15', '0', '0', '0', '0', '0', '0', '0', '0', '0', '13', '2', '5', '8', '7', '13', '13', '13', '13', '13', '13', '13', '2', '13', '13', '13', '13', '13', '10', '24', '7', '5', '7', '5', '7', '5', '25', '24', '24', '24', '15', '18', '9', '14', '23', '23', '18', '23', '23', '23', '23', '23', '23', '23', '23', '12', '0', '15', '10', '0', '0', '0', '0', '3', '0', '16', '1', '16', '16', '16', '16', '16', '16', '16', '16', '16', '28', '22', '1', '1', '1', '27', '1', '29', '1', '1', '1', '1', '1', '1', '1', '1', '1', '27', '1', '1', '2', '1', '1', '1', '1', '1', '1', '1', '1', '1', '27', '1', '31', '1', '1', '1', '1', '1', '1', '24', '17', '17', '12', '17', '2', '27', '17', '17', '17', '17', '17', '11', '17', '17', '5', '1', '17', '17', '17', '17', '17', '5', '17', '9', '17', '30', '29', '5', '1', '1', '1', '1', '1', '1', '1', '1', '1', '27', '1', '1', '1', '1', '23', '1', '26', '1', '1', '1', '1', '1', '1', '7', '1', '25', '1', '1', '1', '1', '24', '1', '1', '1', '1', '1', '1', '1', '1', '1', '1', '1', '1', '28', '17', '17', '20', '1', '1', '1', '1', '1', '1', '1', '3', '30', '17', '1', '1', '1', '1', '1', '1', '1', '1', '2', '3', '1', '1', '1', '1', '1', '1', '23', '19', '1', '14', '1', '1', '1', '1', '1', '1', '1', '1', '1', '1', '1', '1', '1', '1', '1', '21', '31', '1', '1', '23', '17', '1', '20', '1', '1', '1', '1', '11', '15', '1', '2', '26', '3', '1', '10', '23', '17', '1', '1', '1', '6', '1', '1', '1', '2', '13', '1', '1', '1', '1', '1', '20', '1', '1', '1', '1', '1', '1', '31', '1', '1', '19', '23', '1', '17', '1', '1', '1', '1', '1', '1', '1', '1', '1', '1', '2', '13', '1', '1', '1', '1', '1', '2', '1', '1', '1', '1', '1', '1', '1', '1', '1', '1', '1', '1', '1', '2', '25', '1', '1', '13', '1', '1', '1', '24', '1', '24', '1', '1', '1', '1', '1', '1', '1', '1', '1', '16', '1', '1', '1', '1', '1', '17', '1', '1', '1', '1', '1', '1', '1', '1', '1', '1', '31', '1', '1', '1', '1', '1', '1', '1', '1', '1', '2', '20', '1', '1', '15', '1', '26', '1', '1', '1', '1', '13', '17', '1', '5', '1', '1', '1', '1', '13', '1', '27', '1', '1', '4', '1', '1', '1', '1', '1', '1', '1', '1', '1', '1', '1', '1', '1', '1', '6', '1', '1', '31', '1', '1', '1', '1', '17', '17', '17', '17', '17', '19', '17', '17', '17', '17', '17', '0', '21', '6', '22', '21', '1', '1', '1', '1', '1', '1', '1', '1', '1', '30', '1', '14', '1', '1', '1', '1', '1', '1', '1', '1', '8', '17', '1', '19', '1', '1', '17', '1', '25', '1', '1', '14', '17', '1', '1', '1', '1', '26', '1', '1', '18', '1', '1', '19', '17', '6', '22', '0', '1', '22', '15', '15', '15', '15', '14', '15', '14', '0', '17', '15', '3', '14', '15', '14', '15', '14', '15', '12', '14', '18', '14', '18', '14', '18', '14', '18', '14', '18', '1', '1', '31', '1', '24', '14', '18', '14', '18', '18', '26', '26', '26', '26', '26', '26', '10', '26', '26', '3', '11', '26', '12', '26', '26', '26', '26', '26', '26', '26', '26', '26', '26', '26', '26', '26', '26', '26', '26', '26', '3', '30', '15', '29', '26', '27', '26', '26', '26', '27', '26', '26', '26', '26', '26', '26', '26', '26', '26', '26', '24', '23', '7', '10', '7', '30', '15', '15', '15', '6', '15', '28', '15', '15', '15', '31', '30', '20', '14', '18', '3', '3', '16', '3', '3', '3', '6', '3', '3', '3', '3', '3', '29', '16', '30', '3', '3', '2', '1', '14', '18', '3', '3', '3', '3', '17', '14', '26', '20', '15', '14', '20', '17', '14', '20', '9', '6', '15', '15', '15', '15', '27', '15', '26', '0', '1', '2', '27', '1', '20', '20', '20', '20', '20', '20', '20', '24', '11', '14', '18', '8', '25', '26', '14', '15', '14', '15', '21', '3', '3', '3', '3', '8', '3', '3', '5', '14', '15', '14', '15', '14', '15', '14', '15', '14', '15', '14', '15', '14', '15', '14', '15', '14', '15', '14', '15', '14', '15', '14', '15', '14', '14', '15', '14', '15', '14', '15', '14', '8', '26', '15', '14', '26', '26', '15', '14', '26', '2', '14', '3', '14', '14', '20', '6', '8', '28', '15', '20', '20', '20', '30', '30', '5', '27', '14', '19', '7', '26', '0', '14', '26', '26', '15', '3', '14', '20', '5', '15', '15', '15', '15', '15', '29', '25', '26', '25', '26', '4', '27', '27', '27', '27', '27', '27', '27', '8', '26', '26', '26', '26', '26', '26', '26', '6', '30', '25', '26', '25', '26', '28', '14', '18', '14', '18', '14', '1', '18', '14', '18', '14', '25', '18', '26', '30', '14', '18', '1', '14', '18', '14', '26', '11', '3', '3', '3', '3', '3', '3', '3', '3', '3', '5', '15', '14', '15', '14', '15', '15', '15', '23', '15', '15', '15', '15', '15', '15', '31', '19', '15', '7', '21', '26', '26', '26', '26', '26', '26', '26', '26', '26', '22', '7', '26', '26', '19', '1', '1', '1', '1', '1', '1', '1', '1', '7', '1', '30', '15', '8', '15', '15', '15', '15', '8', '15', '15', '15', '15', '15', '15', '15', '15']\n",
    "# # throughput 200,000 route450\n",
    "# action_list = [int(e) for e in action]"
   ]
  },
  {
   "cell_type": "code",
   "execution_count": 35,
   "metadata": {},
   "outputs": [],
   "source": [
    "# throughput 200,000 route200lotus\n",
    "# \"['3', '3', '6', '6', '7', '3', '3', '3', '3', '3', '1', '3', '1', '21', '6', '22', '18', '30', '1', '6', '6', '19', '20', '7', '7', '7', '23', '7', '6', '6', '6', '7', '6', '7', '6', '23', '23', '23', '6', '19', '20', '7', '23', '23', '5', '6', '6', '23', '23', '6', '23', '7', '23', '23', '8', '23', '6', '6', '7', '20', '23', '15', '7', '8', '7', '20', '20', '20', '22', '6', '28', '11', '20', '20', '22', '2', '1', '7', '20', '20', '20', '6', '22', '22', '22', '7', '23', '7', '23', '7', '23', '7', '23', '22', '7', '7', '22', '3', '6', '2', '13', '28', '7', '30', '6', '10', '7', '6', '15', '29', '6', '6', '23', '6', '6', '3', '6', '6', '6', '6', '30', '7', '7', '19', '6', '22', '6', '22', '22', '22', '22', '19', '4', '5', '27', '6', '6', '6', '6', '6', '15', '6', '6', '14', '6', '6', '6', '6', '1', '6', '6', '6', '6', '6', '6', '6', '6', '6', '6', '6', '6', '6', '6', '6', '6', '6', '6', '6', '8', '6', '6', '6', '4', '6', '6', '6', '6', '6', '6', '6', '6', '6', '6', '6', '28', '6', '6', '6', '6', '6', '6', '6', '16', '1', '20', '6', '7', '6', '6', '6', '6', '6', '6', '6', '6', '6', '6', '6', '6', '7', '6', '6', '24', '6', '6', '6', '6', '6', '6', '6', '6', '6', '6', '6', '6', '6', '13', '23', '23', '24', '23', '23', '4', '6', '23', '23', '23', '23', '6', '6', '6', '6', '6', '6', '12', '6', '6', '6', '6', '6', '6', '6', '6', '21', '6', '6', '21', '6', '6', '6', '20', '6', '6', '29', '6', '6', '6', '6', '6', '13', '7', '7', '7', '19', '13', '30', '25', '7', '7', '7', '7', '26', '7', '14', '6', '7', '6', '24', '6', '29', '28', '1', '1', '1', '29', '1', '1', '1', '1', '20', '6', '6', '28', '6', '6', '6', '6', '6', '6', '11', '2', '1', '23', '23', '23', '23', '23', '23', '3', '6', '6', '4', '6', '6', '6', '6', '6', '6', '16', '6', '6', '6', '6', '6', '6', '6', '6', '6', '6', '6', '6', '6', '6', '4', '22', '23', '1', '6', '6', '6', '6', '6', '6', '25', '6', '6', '14', '30', '6', '6', '6', '6', '21', '6', '6', '6', '26', '30', '10', '7', '6', '26', '6', '6', '6', '6', '6', '6', '6', '13', '6', '25', '26', '6', '6', '26', '26', '30', '8', '28', '23', '28', '19', '6', '6', '6', '3', '6', '6', '6', '6', '6', '9', '6', '6', '6', '6', '6', '6', '6', '6', '6', '6', '6', '6', '6', '17', '6', '20', '27', '6', '6', '6', '6', '6', '6', '6', '6', '6', '3', '6', '6', '6', '6', '6', '6', '6', '6', '6', '6', '6', '6', '6', '6', '6', '6', '6', '6', '6', '28', '6', '6', '6', '6', '6', '3', '6', '16', '6', '6', '6', '6', '30', '6', '6', '6', '6', '6', '20', '21', '6', '6', '6', '6', '22', '6', '6', '6', '6', '6', '6', '6', '6', '0', '27', '8', '23', '9', '23', '6', '9', '6', '6', '18', '13', '26', '26', '26', '26', '7', '6', '26', '26', '15', '6', '6', '6', '6', '6', '6', '6', '23', '6', '6', '6', '6', '6', '6', '6', '6', '1', '6', '6', '6', '6', '6', '6', '28', '6', '6', '6', '29', '6', '6', '6', '30', '0', '6', '6', '24', '6', '6', '6', '6', '6', '6', '6', '6', '6', '6', '6', '6', '6', '6', '6', '4', '24', '6', '6', '9', '6', '4', '6', '24', '6', '6', '6', '6', '6', '6', '30', '6', '21', '6', '6', '6', '6', '6', '1', '6', '6', '6', '23', '6', '6', '23', '6', '23', '6', '6', '6', '6', '6', '6', '6', '6', '6', '6', '6', '6', '6', '6', '6', '6', '6', '6', '3', '6', '6', '6', '6', '6', '6', '6', '6', '6', '10', '6', '6', '6', '6', '6', '6', '6', '6', '6', '6', '24', '9', '6', '6', '6', '6', '12', '6', '6', '23', '6', '6', '6', '6', '6', '8', '23', '23', '23', '23', '13', '23', '23', '23', '23', '23', '23', '23', '23', '23', '23', '23', '3', '23', '23', '23', '23', '23', '23', '23', '23', '4', '24', '24', '24', '24', '24', '24', '24', '24', '24', '6', '6', '6', '6', '6', '6', '6', '6', '6', '6', '6', '6', '6', '6', '6', '6', '6', '6', '6', '6', '6', '6', '6', '5', '6', '6', '6', '6', '6', '6', '6', '6', '6', '19', '6', '19', '19', '19', '19', '20', '8', '23', '6', '6', '6', '19', '6', '19', '19', '19', '19', '19', '19', '19', '19', '19', '19', '19', '19', '19', '19', '26', '6', '6', '17', '6', '6', '6', '22', '23', '6', '6', '19', '6', '6', '6', '6', '6', '6', '6', '6', '6', '6', '6', '6', '6', '6', '6', '6', '6', '6', '6', '6', '15', '6', '6', '6', '6', '6', '6', '6', '6', '20', '26', '6', '30', '28', '30', '0', '3', '30', '30', '30', '30', '30', '30', '30', '30', '30', '30', '30', '30', '30', '30', '30', '27', '26', '30', '30', '30', '30', '30', '30', '13', '19', '23', '30', '30', '22', '6', '6', '6', '6', '6', '6', '6', '6', '6', '6', '13', '6', '6', '24', '26', '6', '6', '6', '6', '6', '6', '6', '6', '6', '21', '26', '8', '6', '26', '26', '26', '26', '26', '26', '26', '26', '26', '26', '26', '30', '26', '26', '26', '26', '26', '26', '26', '26', '26', '26', '26', '26', '26', '18', '26', '26', '26', '26', '26', '26', '12', '30', '22', '28', '28', '13', '26', '25', '26', '26', '26', '29', '23', '23', '23', '23', '30', '30', '30', '30', '30', '30', '2', '3', '30', '4', '30', '30', '30', '30', '30', '30', '30', '24', '6', '30', '30', '30', '30', '30', '30', '30', '30', '30', '30', '30', '30', '30', '30', '30', '30', '30', '30', '30', '6', '30', '30', '30', '30', '30', '30', '30', '30', '30', '27', '26', '30', '30', '29', '23', '23', '23', '30', '30', '30', '30', '30', '30', '30', '30', '30', '25', '10', '6', '28', '26', '23', '7', '6', '7', '6', '7', '6', '7', '6', '7', '6', '1', '7', '10', '6', '7', '6', '15', '6', '6', '6', '6', '6', '6', '8', '6', '6', '6', '7', '8', '22', '6', '14', '28', '6', '12', '6', '6', '6', '6', '6', '6', '6', '6', '6', '6', '26', '6', '6', '6', '6', '6', '6', '6', '6', '6', '6', '6', '6', '6', '6', '6', '6', '6', '6', '6', '6', '6', '6', '6', '6', '6', '6', '6', '6', '6', '27', '26', '6', '6', '8', '6', '6', '6', '21', '26', '26', '26', '26', '26', '26', '26', '26', '26', '26', '16', '26', '26', '26', '26', '26', '26', '19', '6', '6', '6', '14', '6', '25', '6', '6', '6', '28', '6', '6', '6', '4', '26', '6', '23', '6', '6', '6', '2', '6', '6', '6', '6', '19', '24', '6', '6', '6', '6', '6', '6', '6', '6', '6', '6', '6', '6', '6', '6', '6', '6', '6', '6', '6', '6', '24', '6', '6', '6', '6', '18', '6', '8', '6', '6', '9', '24', '24', '24', '24', '24', '26', '6', '3', '24', '26', '24', '19', '26', '24', '26', '24', '26', '24', '26', '24', '26', '10', '24', '6', '26', '24', '26', '22', '26', '26', '26', '26', '26', '26', '26', '26', '26', '26', '26', '26', '24', '26', '26', '26', '11', '7', '6', '26', '26', '26', '17', '26', '26', '19', '22', '6', '19', '24', '26', '24', '26', '24', '26', '24', '26', '24', '27', '18', '18', '24', '26', '24', '26', '30', '30', '30', '30', '30', '0', '30', '30', '30', '30', '20', '26', '26', '26', '26', '26', '26', '26', '26', '26', '26', '26', '26', '28', '26', '11', '7', '17', '30', '19', '8', '20', '20', '20', '29', '24', '3', '6', '26', '30', '30', '30', '30', '30', '30', '27', '26', '30', '30', '8', '30', '30', '30', '30', '30', '30', '30', '30', '5', '7', '19', '8', '20', '30', '30', '30', '30', '0', '20', '20', '20', '20', '20', '20', '17', '20', '20', '20', '20', '20', '3', '30', '30', '30', '30', '30', '30', '30', '30', '30', '30', '30', '30', '30', '0', '20', '14', '6', '30', '26', '26', '26', '26', '26', '26', '9', '6', '26', '26', '26', '26', '26', '26', '15', '3', '26', '26', '20', '26', '26', '26', '7', '24', '24', '30', '24', '24', '24', '24', '24', '24', '24', '24', '24', '24', '24', '3', '24', '24', '16', '6', '26', '26', '26', '26', '26', '16', '26', '26', '26', '26', '26', '26', '26', '26', '26', '26', '26', '26', '17', '30', '30', '30', '30', '30', '30', '30', '30', '30', '0', '30', '30', '24', '26', '16', '26', '26', '26', '26', '26', '26', '26', '17', '30', '30', '30', '30', '30', '30', '25', '26', '21', '26', '26', '26', '26', '26', '26', '26', '26', '26', '26', '26', '26', '26', '26', '26', '26', '26', '26', '26', '26', '26', '17', '26', '26', '26', '26', '26', '24', '26', '26', '26', '26', '16', '26', '26', '26', '26', '26', '26', '26', '26', '26', '26', '18', '26', '26', '3', '26', '26', '26', '26', '26', '26', '10', '11', '19', '22', '7', '6', '6', '6', '6', '6', '6', '0', '26', '26', '26', '26', '26', '26', '26', '26', '26', '26', '26', '24', '26', '26', '26', '26', '10', '7', '6', '26', '26', '26', '26', '15', '6', '19', '7', '8', '26', '20', '20', '2', '20', '20', '15', '20', '20', '20', '20', '20', '20', '15', '27', '3', '7', '24', '14', '6', '26', '30', '30', '30', '30', '30', '30', '30', '30', '30', '13', '26', '19', '6', '6', '6', '23', '30', '30', '30', '30', '30', '28', '28', '28', '28', '28', '28', '19', '16', '4', '12', '6', '6', '6', '3', '5', '6', '6', '7', '6', '2', '10', '7', '24', '5', '6', '5', '6', '6', '6', '6', '25', '15', '6', '6', '6', '6', '30', '26', '6', '7', '19', '19', '19', '19', '30', '19', '19', '19', '17', '19', '19', '19', '25', '26', '19', '19', '19', '19', '19', '19', '27', '26', '19', '19', '18', '8', '3', '22', '6', '24', '26', '28', '26', '26', '26', '24', '0', '2', '10', '3', '3', '14', '6', '26', '6', '8', '3', '3', '3', '3', '3', '3', '3', '3', '3', '3', '3', '3', '3', '3', '3', '3', '3', '3', '3', '23', '27', '6', '6', '29', '6', '6', '6', '6', '6', '6', '6', '6', '6', '6', '6', '6', '6', '6', '6', '6', '6', '6', '6', '6', '6', '6', '6', '6', '19', '30', '6', '6', '6', '6', '6', '30', '6', '6', '6', '6', '6', '6', '6', '10', '22', '3', '3', '3', '11', '3', '3', '3', '17', '7', '24', '6', '20', '26', '30', '30', '30', '30', '30', '30', '30', '30', '30', '30', '30', '2', '26', '26', '26', '26', '26', '26', '26', '26', '26', '26', '26', '26', '26', '26', '18', '23', '30', '30', '30', '30', '30', '30', '30', '30', '30', '30', '30', '30', '30', '30', '30', '30', '30', '30', '15', '3', '22', '6', '24', '26', '6', '12', '7', '6', '7', '6', '7', '6', '7', '18', '6', '6', '6', '24', '15', '26', '6', '6', '6', '6', '6', '6', '16', '26', '26', '26', '6', '6', '6', '6', '6', '6', '6', '6', '13', '24', '26', '6', '27', '27', '26', '6', '6', '6', '6', '6', '7', '6', '6', '6', '6', '6', '6', '6', '7', '6', '6', '6', '6', '6', '6', '6', '6', '6', '7', '6', '6', '6', '6', '6', '6', '6', '6', '6', '6', '6', '6', '6', '6', '6', '6', '6', '6', '6', '6', '6', '6', '6', '6', '6', '6', '6', '6', '6', '9', '6', '6', '6', '7', '6', '6', '6', '7', '30', '6', '6', '6', '6', '6', '6', '6', '18', '3', '3', '3', '3', '3', '3', '3', '3', '3', '3', '3', '3', '3', '3', '3', '3', '3', '3', '3', '3', '3', '3', '3', '3', '3', '3', '28', '5', '24', '6', '24', '26', '15', '6', '6', '7', '6', '6', '6', '15', '6', '6', '6', '6', '6', '6', '6', '6', '6', '6', '6', '6', '6', '6', '6', '6', '6', '6', '28', '6', '6', '6', '6', '6', '6', '6', '6', '6', '6', '6', '6', '6', '6', '6', '29', '6', '6', '6', '6', '6', '6', '20', '26', '10', '22', '3', '3', '3', '3', '3', '20', '22', '3', '3', '20', '20', '22', '1', '3', '3', '3', '3', '12', '6', '9', '7', '6', '26', '26', '26', '26', '26', '26', '26', '11', '6', '26', '26', '26', '29', '17', '26', '26', '26', '12', '26', '26', '27', '26', '9', '7', '6', '26', '6', '6', '6', '6', '6', '6', '6', '26', '26', '6', '9', '7', '6', '6', '30', '6', '6', '6', '6', '11', '6', '15', '6', '6', '6', '6', '6', '6', '6', '6', '6', '6', '6', '6', '6', '6', '6', '6', '6', '22', '6', '6', '6', '18', '23', '30', '30', '30', '30', '30', '30', '30', '30', '30', '30', '30', '30', '14', '6', '6', '6', '6', '6', '10', '3', '3', '3', '21', '30', '30', '30', '30', '30', '30', '7', '11', '27', '6', '26', '26', '26', '26', '26', '26', '26', '26', '26', '26', '26', '4', '6', '26', '26', '26', '17', '26', '30', '26', '26', '26', '26', '26', '26', '26', '26', '26', '26', '26', '10', '1', '1', '1', '1', '1', '1', '17', '17', '17', '17', '14', '17', '17', '17', '17', '3', '17', '17', '0', '17', '17', '17', '3', '17', '17', '17', '17', '17', '17', '17', '17', '25', '17', '17', '17', '17', '20', '17', '17', '17', '17', '10', '17', '10', '17', '17', '17', '17', '5', '14', '26', '17', '11', '17', '17', '17', '17', '17', '17', '17', '17', '17', '17', '15', '17', '17', '17', '17', '17', '26', '17', '17', '17', '17', '17', '17', '5', '17', '17', '19', '17', '3', '17', '17', '17', '27', '17', '26', '17', '17', '17', '17', '17', '17', '20', '17', '17', '17', '17', '11', '1', '17', '17', '17', '17', '17', '3', '17', '17', '17', '17', '17', '17', '29', '27', '17', '23', '17', '17', '17', '17', '17', '17', '17', '17', '17', '17', '17', '18', '17', '17', '17', '17', '17', '17', '17', '17', '17', '17', '17', '17', '17', '17', '17', '17', '17', '17', '17', '17', '17', '17', '12', '17', '17', '17', '15', '17', '17', '17', '30', '19', '8', '17', '17', '17', '17', '30', '17', '18', '17', '16', '17', '17', '17', '17', '17', '17', '17', '17', '17', '16', '17', '17', '17', '16', '17', '17', '25', '17', '17', '17', '17', '17', '17', '22', '17', '17', '17', '17', '17', '17', '17', '17', '15', '17', '17', '17', '17', '17', '17', '23', '17', '17', '17', '17', '19', '17', '17', '17', '6', '8', '17', '17', '17', '27', '17', '17', '17', '17', '17', '17', '17', '17', '6', '23', '19', '8', '17', '17', '17', '17', '17', '17', '6', '8', '17', '17', '17', '17', '17', '0', '17', '17', '17', '17', '17', '17', '17', '17', '17', '16', '17', '17', '17', '17', '17', '17', '17', '17', '17', '17', '17', '17', '17', '17', '17', '17', '17', '17', '18', '17', '17', '17', '17', '21', '17', '17', '17', '17', '17', '17', '17', '30', '17', '17', '13', '17', '17', '17', '17', '17', '17', '17', '17', '17', '17', '17', '26', '26', '17', '17', '2', '17', '17', '17', '22', '20', '17', '17', '17', '17', '17', '17', '16', '17', '17', '17', '17', '17', '17', '17', '23', '18', '17', '18', '17', '18', '15', '17', '18', '17', '18', '17', '18', '17', '18', '17', '18', '7', '17', '17', '17', '17', '29', '4', '17', '17', '17', '17', '3', '17', '17', '17', '17', '17', '17', '17', '17', '3', '17', '17', '17', '0', '4', '4', '19', '17', '17', '17', '6', '30', '17', '17', '17', '17', '17', '5', '17', '17', '15', '17', '26', '17', '29', '17', '17', '17', '17', '17', '17', '17', '17', '22', '15', '17', '17', '1', '1', '1', '1', '1', '1', '26', '10', '10', '10', '10', '10', '10', '10', '10', '10', '10', '10', '10', '10', '10', '10', '10', '10', '10', '10', '10', '10', '10', '2', '10', '10', '10', '10', '10', '10', '10', '10', '10', '10', '10', '10', '10', '10', '10', '10', '10', '10', '15', '1', '28', '20', '13', '10', '10', '12', '1', '1', '1', '1', '1', '1', '1', '11', '1', '1', '1', '1', '1', '10', '1', '1', '1', '1', '1', '1', '1', '22', '20', '1', '1', '1', '1', '1', '1', '1', '1', '1', '2', '1', '1', '1', '1', '1', '25', '1', '1', '1', '1', '1', '1', '1', '1', '1', '1', '1', '1', '1', '1', '1', '1', '1', '8', '5', '0', '1', '20', '30', '1', '1', '1', '1', '1', '0', '1', '1', '11', '1', '1', '1', '1', '1', '1', '1', '1', '1', '1', '1', '1', '1', '1', '1', '1', '1', '1', '1', '1', '1', '1', '1', '1', '12', '1', '1', '1', '1', '1', '29', '14', '15', '13', '0', '10', '10', '10', '10', '10', '10', '10', '10', '10', '10', '10', '10', '19', '1', '25', '18', '4', '20', '15', '1', '1', '28', '13', '23', '20', '22', '20', '0', '0', '0', '0', '0', '0', '0', '0', '0', '0', '0', '0', '0', '0', '0', '0', '0', '0', '0', '0', '0', '0', '0', '0', '17', '25', '2', '21', '2', '8', '9', '9', '9', '9', '9', '9', '9', '9', '9', '29', '0', '17', '17', '11', '13', '11', '10', '10', '10', '10', '10', '10', '10', '20', '10', '10', '10', '10', '17', '25', '25', '25', '21', '13', '10', '10', '10', '10', '10', '10', '10', '10', '10', '10', '10', '18', '19', '1', '20', '20', '20', '20', '20', '12', '22', '1', '19', '13', '1', '17', '1', '1', '1', '1', '1', '1', '1', '1', '1', '20', '1', '1', '15', '15', '8', '13', '1', '1', '1', '1', '1', '1', '24', '20', '2', '10', '0', '0', '12', '20', '20', '5', '20', '20', '20', '26', '1', '1', '1', '1', '1', '1', '1', '1', '1', '1', '12', '1', '1', '1', '1', '1', '1', '1', '1', '1', '1', '1', '1', '1', '1', '1', '1', '1', '1', '1', '1', '1', '1', '1', '1', '1', '13', '1', '1', '13', '1', '1', '1', '1', '1', '1', '1', '1', '1', '1', '14', '1', '10', '13', '0', '10', '10', '10', '6', '10', '10', '10', '10', '10', '10']\""
   ]
  },
  {
   "cell_type": "code",
   "execution_count": 36,
   "metadata": {},
   "outputs": [],
   "source": [
    "\n",
    "# action = \"['7', '3', '3', '3', '27', '8', '8', '8', '30', '8', '8', '8', '7', '8', '7', '8', '8', '6', '20', '6', '6', '6', '6', '6', '6', '6', '6', '6', '6', '6', '6', '6', '6', '6', '6', '6', '6', '1', '6', '12', '6', '6', '6', '6', '6', '6', '6', '6', '6', '6', '6', '6', '6', '6', '6', '6', '6', '6', '6', '6', '6', '6', '6', '6', '6', '6', '6', '6', '6', '6', '6', '6', '6', '6', '6', '6', '17', '6', '28', '6', '6', '6', '6', '6', '6', '6', '6', '6', '6', '6', '6', '6', '6', '6', '6', '6', '6', '6', '6', '6', '6', '6', '6', '6', '6', '6', '6', '6', '6', '6', '6', '6', '6', '6', '6', '6', '6', '6', '6', '6', '6', '6', '6', '6', '6', '6', '6', '6', '6', '6', '6', '6', '6', '6', '6', '6', '6', '6', '6', '6', '6', '6', '6', '6', '6', '6', '6', '28', '6', '6', '6', '6', '6', '6', '6', '1', '6', '6', '6', '6', '6', '6', '6', '6', '6', '12', '6', '20', '6', '6', '6', '6', '6', '6', '6', '6', '6', '6', '6', '6', '6', '6', '6', '6', '6', '6', '6', '6', '6', '6', '6', '6', '6', '6', '6', '27', '6', '6', '6', '6', '6', '6', '6', '6', '6', '6', '6', '6', '6', '6', '6', '2', '18', '7', '6', '18', '18', '18', '18', '18', '18', '18', '18', '18', '18', '18', '18', '18', '18', '18', '18', '18', '18', '18', '18', '18', '18', '18', '18', '18', '18', '18', '18', '18', '18', '18', '18', '18', '18', '18', '18', '18', '18', '18', '18', '18', '7', '6', '18', '18', '7', '6', '7', '6', '7', '6', '7', '6', '7', '6', '28', '7', '6', '7', '6', '12', '7', '13', '6', '30', '24', '18', '22', '3', '22', '3', '3', '3', '8', '3', '3', '3', '3', '3', '3', '3', '3', '8', '3', '3', '3', '3', '3', '3', '3', '3', '3', '3', '3', '3', '3', '3', '3', '3', '3', '3', '3', '3', '3', '8', '8', '8', '8', '8', '8', '8', '8', '8', '3', '3', '3', '3', '8', '3', '8', '8', '8', '8', '8', '8', '3', '8', '8', '8', '8', '8', '8', '8', '8', '8', '3', '8', '8', '8', '8', '8', '8', '8', '8', '8', '8', '8', '8', '8', '8', '8', '8', '8', '8', '8', '8', '8', '8', '8', '29', '8', '8', '8', '8', '8', '8', '8', '8', '8', '8', '30', '8', '8', '8', '8', '8', '8', '8', '8', '8', '8', '8', '8', '8', '8', '8', '8', '8', '8', '8', '8', '8', '8', '8', '8', '8', '8', '8', '8', '8', '8', '8', '8', '8', '8', '8', '8', '8', '8', '8', '8', '8', '8', '8', '8', '8', '8', '8', '8', '8', '8', '8', '8', '8', '8', '8', '8', '8', '8', '8', '8', '8', '8', '8', '8', '8', '8', '8', '8', '8', '8', '8', '7', '8', '8', '8', '8', '8', '8', '8', '8', '8', '8', '8', '8', '8', '8', '8', '8', '8', '8', '8', '8', '8', '8', '8', '8', '8', '8', '8', '8', '3', '8', '8', '8', '8', '8', '8', '8', '8', '8', '8', '8', '8', '8', '8', '8', '8', '26', '3', '3', '13', '3', '3', '3', '3', '3', '3', '3', '16', '3', '3', '3', '3', '3', '3', '3', '3', '3', '3', '3', '3', '3', '3', '3', '3', '3', '3', '3', '3', '3', '3', '3', '3', '3', '3', '3', '3', '3', '3', '3', '3', '3', '3', '3', '3', '3', '3', '3', '3', '3', '3', '3', '3', '3', '3', '3', '3', '3', '3', '3', '3', '3', '3', '3', '3', '3', '3', '3', '3', '3', '3', '3', '3', '3', '3', '5', '3', '3', '3', '3', '3', '3', '3', '3', '3', '3', '3', '3', '3', '3', '3', '3', '3', '3', '3', '3', '3', '8', '3', '3', '3', '3', '3', '3', '3', '3', '3', '3', '3', '20', '3', '3', '3', '3', '3', '3', '3', '3', '3', '3', '3', '3', '3', '3', '3', '3', '3', '3', '3', '3', '3', '3', '3', '3', '3', '3', '3', '3', '3', '3', '3', '3', '3', '3', '3', '3', '3', '3', '3', '3', '3', '3', '3', '3', '3', '3', '3', '3', '3', '3', '10', '3', '3', '3', '3', '22', '3', '3', '3', '3', '3', '3', '3', '3', '3', '3', '3', '3', '3', '3', '3', '3', '3', '3', '3', '3', '3', '3', '3', '3', '3', '3', '3', '3', '3', '3', '3', '3', '3', '3', '3', '3', '3', '3', '3', '3', '3', '3', '3', '3', '3', '12', '8', '3', '3', '3', '3', '3', '8', '8', '8', '8', '8', '8', '8', '8', '8', '30', '8', '8', '8', '8', '8', '29', '3', '3', '3', '3', '3', '3', '3', '3', '4', '6', '3', '3', '3', '6', '6', '6', '6', '6', '6', '6', '6', '12', '6', '6', '6', '6', '6', '6', '6', '6', '6', '6', '6', '6', '6', '6', '18', '6', '6', '6', '6', '6', '6', '6', '6', '6', '6', '6', '6', '6', '6', '6', '6', '6', '6', '6', '6', '6', '6', '6', '6', '6', '6', '23', '13', '6', '6', '6', '6', '6', '6', '6', '6', '6', '6', '6', '6', '6', '6', '6', '6', '6', '6', '6', '6', '6', '6', '6', '6', '6', '6', '6', '6', '6', '6', '6', '6', '6', '6', '6', '6', '6', '6', '6', '6', '6', '6', '6', '6', '6', '6', '6', '6', '6', '6', '6', '6', '6', '6', '6', '6', '6', '6', '6', '6', '6', '6', '6', '6', '6', '6', '6', '6', '2', '2', '2', '2', '2', '2', '2', '2', '2', '2', '2', '2', '2', '2', '2', '2', '2', '2', '2', '2', '2', '2', '24', '2', '2', '2', '2', '2', '2', '2', '2', '2', '2', '2', '2', '2', '2', '2', '2', '2', '2', '2', '2', '2', '2', '2', '2', '2', '2', '2', '2', '21', '2', '2', '2', '2', '2', '2', '2', '2', '2', '2', '2', '2', '2', '2', '2', '2', '2', '2', '2', '2', '2', '2', '2', '2', '2', '2', '2', '2', '2', '2', '2', '2', '2', '2', '2', '2', '2', '24', '2', '2', '2', '2', '2', '2', '2', '2', '2', '2', '2', '2', '2', '2', '2', '2', '2', '2', '2', '2', '2', '2', '2', '2', '2', '2', '2', '2', '2', '2', '2', '2', '2', '2', '2', '2', '2', '2', '2', '2', '2', '2', '2', '2', '2', '2', '2', '2', '2', '2', '2', '2', '2', '2', '2', '2', '2', '2', '2', '2', '2', '2', '2', '2', '2', '2', '2', '2', '2', '2', '2', '2', '2', '1', '6', '6', '6', '6', '6', '6', '6', '6', '6', '6', '6', '6', '6', '6', '6', '24', '6', '6', '6', '6', '6', '6', '6', '6', '6', '6', '6', '6', '6', '6', '6', '6', '6', '6', '6', '6', '6', '6', '17', '6', '6', '6', '6', '6', '6', '6', '6', '6', '6', '6', '6', '6', '0', '3', '6', '6', '6', '15', '8', '6', '8', '6', '8', '6', '8', '6', '8', '6', '8', '6', '8', '6', '8', '6', '6', '8', '6', '8', '6', '6', '8', '6', '8', '6', '8', '6', '8', '6', '6', '6', '8', '6', '8', '6', '8', '6', '8', '6', '6', '8', '6', '8', '6', '8', '6', '8', '6', '27', '6', '6', '6', '6', '6', '6', '6', '6', '6', '6', '6', '6', '6', '6', '6', '6', '6', '6', '6', '6', '6', '6', '6', '6', '6', '6', '6', '6', '6', '6', '6', '6', '6', '6', '30', '13', '6', '6', '6', '6', '6', '6', '6', '6', '6', '6', '6', '6', '6', '6', '6', '6', '6', '6', '6', '6', '6', '6', '6', '6', '6', '6', '16', '6', '6', '6', '6', '6', '6', '6', '6', '6', '6', '6', '6', '6', '22', '25', '6', '6', '6', '6', '6', '3', '6', '6', '6', '6', '6', '6', '6', '6', '6', '25', '12', '6', '6', '6', '6', '6', '6', '6', '6', '6', '6', '6', '6', '14', '8', '3', '3', '3', '3', '3', '3', '3', '3', '3', '3', '3', '9', '3', '3', '3', '3', '3', '3', '3', '3', '3', '3', '3', '3', '3', '3', '3', '8', '3', '3', '3', '3', '3', '3', '3', '3', '3', '3', '3', '3', '30', '3', '3', '3', '3', '3', '3', '3', '3', '3', '3', '3', '3', '3', '3', '3', '3', '3', '3', '3', '3', '3', '3', '3', '3', '3', '3', '3', '3', '3', '3', '3', '3', '3', '3', '3', '3', '3', '3', '3', '3', '2', '18', '10', '16', '17', '16', '3', '3', '3', '3', '3', '3', '3', '3', '3', '2', '3', '3', '3', '3', '3', '3', '3', '3', '3', '3', '3', '3', '3', '3', '3', '3', '3', '3', '3', '3', '3', '3', '24', '3', '3', '3', '3', '3', '3', '3', '3', '3', '3', '3', '3', '3', '3', '3', '3', '3', '3', '3', '3', '3', '3', '3', '3', '3', '3', '3', '3', '3', '3', '27', '3', '3', '3', '3', '3', '3', '3', '3', '3', '3', '3', '3', '3', '3', '4', '3', '3', '23', '6', '6', '6', '6', '6', '6', '6', '6', '20', '7', '7', '3', '3', '3', '6', '3', '3', '3', '3', '9', '3', '3', '3', '3', '3', '3', '3', '3', '3', '3', '3', '3', '3', '3', '3', '3', '3', '3', '7', '7', '7', '7', '7', '7', '7', '7', '6', '6', '6', '7', '7', '7', '7', '7', '7', '12', '6', '6', '6', '6', '6', '6', '6', '6', '6', '6', '6', '6', '6', '6', '6', '6', '6', '6', '6', '6', '6', '6', '6', '6', '6', '6', '6', '6', '6', '6', '6', '6', '6', '6', '6', '6', '6', '6', '6', '6', '6', '6', '6', '6', '6', '6', '6', '6', '6', '6', '6', '6', '6', '6', '6', '6', '6', '6', '6', '6', '6', '6', '6', '6', '6', '6', '6', '6', '6', '6', '6', '6', '6', '6', '12', '6', '6', '6', '6', '6', '6', '6', '6', '6', '6', '6', '6', '6', '6', '6', '6', '6', '6', '6', '6', '6', '6', '6', '6', '0', '7', '6', '3', '6', '6', '6', '6', '6', '6', '6', '6', '6', '6', '6', '6', '6', '6', '6', '6', '6', '6', '6', '6', '6', '6', '6', '6', '6', '6', '6', '6', '6', '6', '6', '6', '6', '6', '6', '6', '6', '6', '6', '6', '6', '6', '6', '6', '6', '19', '6', '6', '6', '6', '6', '6', '6', '6', '6', '13', '6', '6', '6', '6', '6', '6', '6', '6', '6', '6', '6', '6', '6', '6', '6', '6', '6', '6', '6', '6', '6', '6', '6', '6', '6', '6', '6', '6', '6', '6', '6', '6', '6', '6', '6', '6', '6', '6', '6', '6', '6', '6', '6', '6', '6', '6', '6', '6', '6', '6', '6', '6', '6', '14', '7', '7', '12', '6', '6', '6', '6', '6', '6', '6', '6', '6', '6', '6', '6', '6', '6', '6', '6', '6', '6', '6', '6', '6', '6', '6', '6', '6', '6', '6', '6', '6', '6', '6', '6', '22', '6', '6', '6', '6', '6', '6', '6', '6', '6', '6', '6', '6', '6', '6', '6', '6', '6', '6', '6', '6', '6', '6', '6', '6', '6', '6', '6', '6', '6', '6', '6', '6', '6', '6', '6', '6', '6', '6', '6', '6', '6', '6', '6', '6', '6', '6', '6', '6', '6', '6', '6', '6', '6', '6', '6', '6', '6', '6', '6', '6', '6', '6', '6', '6', '6', '6', '6', '6', '6', '6', '6', '6', '6', '6', '0', '18', '8', '8', '8', '8', '8', '8', '4', '8', '8', '8', '8', '8', '8', '8', '8', '8', '8', '8', '8', '8', '8', '8', '8', '8', '8', '8', '8', '8', '8', '8', '8', '8', '8', '8', '8', '8', '8', '8', '8', '8', '8', '8', '17', '2', '18', '18', '18', '18', '18', '18', '18', '18', '18', '18', '18', '18', '18', '18', '18', '18', '18', '18', '18', '18', '18', '18', '18', '18', '18', '18', '18', '18', '18', '18', '18', '18', '18', '18', '18', '18', '18', '18', '18', '18', '18', '18', '18', '18', '18', '18', '18', '18', '18', '18', '18', '18', '18', '18', '18', '18', '18', '18', '18', '18', '18', '18', '18', '18', '18', '18', '18', '18', '18', '18', '18', '18', '18', '18', '18', '18', '18', '18', '18', '18', '18', '18', '18', '18', '18', '18', '18', '18', '18', '18', '18', '18', '18', '18', '18', '18', '18', '18', '18', '18', '18', '18', '18', '18', '18', '18', '18', '18', '18', '18', '18', '18', '18', '18', '18', '18', '18', '18', '18', '18', '18', '18', '18', '18', '18', '18', '18', '18', '18', '24', '8', '8', '8', '8', '8', '8', '8', '8', '8', '8', '8', '8', '8', '8', '8', '8', '8', '8', '8', '8', '8', '8', '8', '8', '8', '8', '8', '8', '8', '8', '8', '8', '8', '8', '28', '7', '7', '7', '7', '7', '7', '7', '7', '7', '7', '13', '6', '7', '6', '7', '6', '7', '6', '7', '6', '7', '6', '7', '6', '7', '6', '7', '6', '7', '6', '7', '6', '7', '6', '7', '6', '7', '6', '7', '6', '7', '6', '7', '6', '7', '6', '7', '6', '7', '6', '7', '6', '7', '6', '7', '6', '7', '6', '7', '6', '7', '6', '7', '6', '7', '6', '7', '6', '7', '6', '7', '6', '7', '6', '7', '6', '7', '6', '7', '6', '7', '6', '30', '18', '8', '8', '8', '3', '19', '19', '19', '19', '19', '19', '19', '19', '19', '19', '19', '19', '19', '19', '19', '19', '19', '19', '19', '19', '19', '19', '19', '19', '19', '19', '19', '19', '19', '19', '19', '19', '19', '19', '19', '19', '19', '19', '19', '19', '19', '19', '19', '19', '19', '19', '19', '19', '20', '26', '13', '6', '6', '6', '6', '6', '6', '6', '6', '6', '6', '6', '6', '6', '6', '6', '6', '6', '6', '6', '6', '6', '6', '6', '6', '6', '6', '6', '6', '6', '6', '6', '6', '6', '6', '6', '6', '6', '6', '6', '6', '6', '6', '6', '6', '6', '6', '6', '6', '6', '6', '6', '6', '6', '6', '6', '6', '6', '6', '6', '6', '6', '6', '1', '6', '6', '6', '6', '6', '6', '6', '6', '6', '17', '6', '6', '6', '6', '6', '6', '6', '28', '26', '26', '26', '26', '26', '26', '26', '26', '26', '26', '26', '26', '26', '26', '26', '26', '26', '26', '26', '26', '22', '20', '26', '16', '13', '26', '26', '26', '26', '26', '25', '20', '20', '20', '20', '20', '20', '20', '20', '20', '20', '20', '20', '20', '20', '20', '20', '20', '20', '20', '20', '20', '20', '20', '20', '20', '20', '20', '20', '20', '20', '20', '20', '20', '20', '20', '20', '20', '20', '2', '19', '14', '10', '6', '10', '6', '8', '19', '19', '19', '19', '19', '19', '19', '19', '19', '19', '19', '19', '19', '19', '19', '19', '19', '6', '10', '6', '10', '6', '10', '6', '10', '6', '10', '6', '10', '6', '10', '6', '10', '6', '10', '6', '10', '6', '10', '6', '10', '6', '10', '6', '10', '6', '10', '6', '10', '6', '12', '16', '6', '6', '6', '6', '6', '6', '6', '6', '6', '6', '6', '6', '6', '6', '6', '6', '6', '11', '13', '3', '16', '26', '19', '19', '19', '19', '19', '19', '19', '19', '19', '19', '19', '19', '19', '19', '19', '19', '19', '19', '19', '19', '19', '19', '19', '19', '19', '19', '19', '19', '19', '19', '19', '19', '19', '19', '19', '19', '19', '29', '16', '16', '16', '16', '16', '16', '16', '16', '16', '16', '14', '13', '16', '16', '16', '16', '16', '16', '16', '16', '16', '16', '16', '16', '16', '16', '17', '16', '16', '16', '16', '16', '16', '16', '16', '16', '16', '16', '16', '16', '16', '28', '19', '19', '19', '19', '19', '19', '19', '19', '19', '19', '19', '19', '19', '19', '19', '19', '19', '19', '19', '19', '19', '19', '19', '19', '19', '19', '19', '19', '19', '19', '19', '19', '19', '19', '19', '19', '18', '27', '27', '27', '27', '27', '27', '27', '27', '27', '27', '27', '24', '27', '27', '27', '27', '27', '27', '27', '27', '7', '20', '23', '27', '27', '27', '27', '27', '27', '27', '27', '27', '27', '27', '27', '27', '27', '27', '27', '27', '27', '27', '27', '27', '27', '27', '27', '27', '27', '27', '27', '27', '24', '27', '27', '27', '27', '27', '27', '27', '27', '27', '27', '27', '27', '27', '27', '27', '27', '27', '27', '27', '27', '27', '27', '27', '27', '27', '27', '27', '27', '27', '27', '27', '27', '27', '27', '27', '27', '27', '27', '27', '27', '27', '27', '27', '27', '27', '27', '27', '27', '27', '27', '27', '27', '27', '27', '27', '27', '27', '27', '27', '27', '27', '27', '27', '27', '27', '27', '27', '27', '27', '26', '27', '27', '18', '27', '27', '27', '27', '27', '27', '27', '27', '27', '27', '27', '27', '27', '27', '27', '27', '27', '27', '27', '27', '27', '27', '27', '27', '27', '27', '27', '27', '27', '27', '27', '27', '27', '27', '27', '27', '27', '27', '27', '27', '27', '27', '27', '27', '27', '27', '27', '27', '27', '27', '27', '27', '14', '17', '17', '17', '7', '7', '7', '7', '7', '7', '7', '7', '7', '7', '7', '7', '7', '7', '7', '7', '7', '7', '7', '7', '7', '7', '7', '7', '7', '7', '7', '7', '7', '7', '7', '7', '7', '7', '7', '7', '7', '7', '7', '7', '7', '7', '7', '14', '17', '7', '7', '1', '17', '17', '17', '17', '17', '12', '17', '17', '17', '17', '17', '17', '17', '17', '17', '17', '17', '17', '17', '17', '17', '17', '17', '17', '27', '17', '17', '17', '17', '17', '17', '17', '17', '17', '17', '17', '17', '17', '17', '17', '17', '17', '17', '17', '17', '17', '10', '17', '17', '17', '17', '17', '17', '17', '17', '17', '17', '26', '15', '15', '15', '15', '15', '15', '15', '15', '15', '15', '15', '15', '15', '15', '15', '15', '15', '15', '15', '15', '15', '15', '15', '15', '15', '15', '15', '15', '15', '15', '15', '15', '15', '15', '15', '15', '15', '15', '15', '15', '15', '15', '15', '15', '15', '15', '15', '15', '15', '15', '15', '15', '15', '15', '15', '15', '15', '15', '30', '15', '15', '7', '17', '17', '17', '17', '17', '17', '17', '17', '17', '17', '17', '17', '17', '17', '17', '17', '17', '17', '17', '17', '17', '17', '17', '17', '17', '17', '17', '17', '17']\"\n",
    "\n",
    "# action_list = [int(e) for e in action.strip(\"[\").strip(\"]\").strip(\"'\").split(\"', '\")]"
   ]
  },
  {
   "cell_type": "code",
   "execution_count": 37,
   "metadata": {},
   "outputs": [],
   "source": [
    "# action"
   ]
  },
  {
   "cell_type": "code",
   "execution_count": 38,
   "metadata": {},
   "outputs": [],
   "source": [
    "# action_list = [3, 14, 21, 26, 30, 'NoChange', 'NoChange', 15, 27, 16, 'NoChange', 'NoChange', 7, 22, 'NoChange', 'NoChange', 'NoChange', 26, 'NoChange', 'NoChange', 1, 6, 17, 23, 27, 'NoChange', 'NoChange', 'NoChange', 'NoChange', 18, 'NoChange', 8, 24, 2, 26, 1, 'NoChange', 'NoChange', 27, 'NoChange', 'NoChange', 19, 21, 'NoChange', 9, 'NoChange', 'NoChange', 26, 'NoChange', 'NoChange', 14, 22, 27, 3, 5, 'NoChange', 'NoChange', 15, 16, 'NoChange', 23, 'NoChange', 26, 2, 1, 3, 7, 27, 'NoChange', 24, 17, 'NoChange', 'NoChange', 1, 6, 'NoChange', 18, 26, 21, 'NoChange', 'NoChange', 27, 8, 'NoChange', 'NoChange', 'NoChange', 22, 19, 'NoChange', 26, 'NoChange', 2, 1, 9, 27, 23, 14, 'NoChange', 'NoChange', 'NoChange', 'NoChange', 'NoChange', 28, 24, 'NoChange', 'NoChange', 'NoChange', 3, 5, 'NoChange', 26, 15, 16, 21, 28, 'NoChange', 'NoChange', 7, 'NoChange', 'NoChange', 2, 1, 22, 26, 6, 'NoChange', 17, 27, 'NoChange', 'NoChange', 'NoChange', 23, 'NoChange', 'NoChange', 'NoChange', 26, 8, 'NoChange', 'NoChange', 24, 27, 'NoChange', 'NoChange', 'NoChange', 'NoChange', 'NoChange', 18, 'NoChange', 9, 21, 26, 2, 1, 'NoChange', 27, 'NoChange', 'NoChange', 'NoChange', 3, 5, 22, 19, 'NoChange', 'NoChange', 26, 'NoChange', 'NoChange', 28, 7, 23, 14, 'NoChange', 1, 6, 'NoChange', 'NoChange', 26, 'NoChange', 24, 27, 31, 'NoChange', 2, 8, 1, 'NoChange', 'NoChange', 'NoChange', 21, 28, 'NoChange', 'NoChange', 'NoChange', 'NoChange', 9, 15, 16, 22, 26, 'NoChange', 'NoChange', 27, 'NoChange', 'NoChange', 3, 5, 'NoChange', 23, 'NoChange', 'NoChange', 17, 28, 'NoChange', 2, 1, 7, 3, 'NoChange', 1, 6, 24, 26, 'NoChange', 'NoChange', 28, 'NoChange', 'NoChange', 'NoChange', 21, 'NoChange', 'NoChange', 26, 'NoChange', 8, 18, 27, 'NoChange', 22, 'NoChange', 'NoChange', 'NoChange', 'NoChange', 'NoChange', 2, 28, 1, 9, 19, 23, 'NoChange', 'NoChange', 'NoChange', 'NoChange', 26, 'NoChange', 'NoChange', 3, 5, 24, 27, 'NoChange', 14, 'NoChange', 'NoChange', 'NoChange', 'NoChange', 'NoChange', 7, 28, 21, 'NoChange', 1, 6, 'NoChange', 'NoChange', 'NoChange', 26, 2, 15, 16, 22, 28, 1, 8, 'NoChange', 'NoChange', 'NoChange', 'NoChange', 'NoChange', 26, 23, 'NoChange', 28, 17, 9, 'NoChange', 'NoChange', 'NoChange', 24, 26, 'NoChange', 'NoChange', 28, 'NoChange', 'NoChange', 'NoChange', 21, 3, 5, 2, 18, 1, 26, 3, 30, 28, 'NoChange', 22, 7, 'NoChange', 'NoChange', 'NoChange', 1, 6, 14, 26, 'NoChange', 'NoChange', 23, 28, 'NoChange', 'NoChange', 'NoChange', 'NoChange', 3, 5, 'NoChange', 26, 24, 'NoChange', 28, 'NoChange', 2, 1, 6, 'NoChange', 21, 26, 'NoChange', 'NoChange', 'NoChange', 27, 31, 8, 19, 'NoChange', 22, 'NoChange', 'NoChange', 'NoChange', 'NoChange', 'NoChange', 'NoChange', 14, 23, 28, 'NoChange', 'NoChange', 3, 5, 'NoChange', 15, 2, 1, 16, 26, 3, 24, 'NoChange', 27, 'NoChange', 8, 30, 'NoChange', 'NoChange', 'NoChange', 'NoChange', 'NoChange', 17, 28, 21, 'NoChange', 'NoChange', 'NoChange', 5, 'NoChange', 26, 'NoChange', 'NoChange', 14, 28, 'NoChange', 'NoChange', 8, 2, 22, 1, 'NoChange', 26, 'NoChange', 'NoChange', 'NoChange', 27, 23, 'NoChange', 9, 'NoChange', 'NoChange', 17, 'NoChange', 28, 24, 'NoChange', 'NoChange', 'NoChange', 'NoChange', 'NoChange', 26, 31, 3, 5, 21, 27, 2, 1, 3, 'NoChange', 'NoChange', 18, 22, 28, 'NoChange', 7, 'NoChange', 'NoChange', 1, 6, 'NoChange', 23, 26, 'NoChange', 19, 27, 'NoChange', 'NoChange', 'NoChange', 'NoChange', 'NoChange', 'NoChange', 24, 8, 14, 28, 2, 1, 'NoChange', 'NoChange', 'NoChange', 'NoChange', 21, 26, 'NoChange', 'NoChange', 28, 3, 5, 'NoChange', 'NoChange', 'NoChange', 22, 'NoChange', 26, 'NoChange', 'NoChange', 28, 8, 'NoChange', 23, 'NoChange', 15, 'NoChange', 2, 26, 1, 'NoChange', 16, 28, 'NoChange', 24, 'NoChange', 'NoChange', 'NoChange', 'NoChange', 26, 3, 5, 'NoChange', 21, 28, 14, 'NoChange', 'NoChange', 'NoChange', 'NoChange', 8, 26, 22, 'NoChange', 'NoChange', 27, 'NoChange', 2, 'NoChange', 1, 23, 9, 'NoChange', 26, 'NoChange', 'NoChange', 28, 'NoChange', 24, 17, 'NoChange', 'NoChange', 'NoChange', 26, 3, 5, 30, 21, 27, 'NoChange', 'NoChange', 'NoChange', 'NoChange', 'NoChange', 'NoChange', 2, 1, 7, 22, 3, 'NoChange', 'NoChange', 26, 5, 'NoChange', 'NoChange', 23, 27, 18, 'NoChange', 'NoChange', 'NoChange', 'NoChange', 'NoChange', 'NoChange', 24, 28, 'NoChange', 'NoChange', 1, 6, 19, 'NoChange', 'NoChange', 26, 21, 31, 2, 1, 27, 'NoChange', 'NoChange', 14, 'NoChange', 8, 22, 'NoChange', 28, 'NoChange', 'NoChange', 'NoChange', 'NoChange', 'NoChange', 23, 26, 9, 'NoChange', 27, 'NoChange', 'NoChange', 'NoChange', 24, 'NoChange', 'NoChange', 2, 1, 28, 'NoChange', 15, 3, 5, 16, 21, 'NoChange', 'NoChange', 26, 'NoChange', 'NoChange', 28, 'NoChange', 22, 'NoChange', 7, 17, 'NoChange', 'NoChange', 1, 6, 26, 'NoChange', 'NoChange', 23, 28, 'NoChange', 'NoChange', 'NoChange', 'NoChange', 2, 5, 1, 3, 26, 24, 30, 28, 'NoChange', 'NoChange', 1, 6, 'NoChange', 'NoChange', 21, 26, 'NoChange', 18, 'NoChange', 27, 'NoChange', 'NoChange', 22, 'NoChange', 8, 'NoChange', 'NoChange', 'NoChange', 19, 2, 26, 1, 23, 'NoChange', 'NoChange', 27, 'NoChange', 'NoChange', 'NoChange', 14, 24, 'NoChange', 'NoChange', 9, 28, 'NoChange', 31, 'NoChange', 'NoChange', 21, 'NoChange', 26, 'NoChange', 'NoChange', 27, 'NoChange', 'NoChange', 3, 5, 22, 2, 1, 3, 'NoChange', 28, 'NoChange', 'NoChange', 7, 15, 23, 16, 'NoChange', 9, 26, 'NoChange', 'NoChange', 28, 24, 'NoChange', 'NoChange', 'NoChange', 17, 'NoChange', 26, 'NoChange', 1, 6, 21, 28, 'NoChange', 2, 1, 'NoChange', 'NoChange', 'NoChange', 3, 5, 22, 26, 'NoChange', 'NoChange', 28, 'NoChange', 'NoChange', 'NoChange', 'NoChange', 23, 1, 6, 26, 'NoChange', 'NoChange', 18, 28, 'NoChange', 'NoChange', 24, 3, 5, 'NoChange', 'NoChange', 26, 2, 1, 3, 19, 21, 27, 30, 'NoChange', 'NoChange', 'NoChange', 1, 6, 'NoChange', 'NoChange', 'NoChange', 14, 22, 28, 'NoChange', 'NoChange', 'NoChange', 3, 5, 'NoChange', 'NoChange', 26, 23, 'NoChange', 28, 'NoChange', 1, 6, 'NoChange', 'NoChange', 2, 24, 26, 'NoChange', 'NoChange', 8, 27, 31, 'NoChange', 1, 'NoChange', 21, 15, 'NoChange', 'NoChange', 'NoChange', 'NoChange', 'NoChange', 9, 26, 'NoChange', 'NoChange', 22, 27, 'NoChange', 'NoChange', 'NoChange', 'NoChange', 'NoChange', 16, 23, 28, 3, 5, 'NoChange', 'NoChange', 2, 1, 3, 24, 26, 'NoChange', 7, 14, 28, 'NoChange', 'NoChange', 1, 6, 'NoChange', 21, 'NoChange', 26, 'NoChange', 'NoChange', 'NoChange', 3, 5, 27, 'NoChange', 22, 30, 'NoChange', 'NoChange', 'NoChange', 'NoChange', 9, 2, 1, 23, 26, 'NoChange', 17, 28, 'NoChange', 'NoChange', 'NoChange', 24, 'NoChange', 'NoChange', 3, 7, 26, 'NoChange', 'NoChange', 1, 6, 27, 21, 'NoChange', 'NoChange', 'NoChange', 'NoChange', 'NoChange', 31, 'NoChange', 8, 22, 26, 2, 1, 'NoChange', 18, 27, 'NoChange', 'NoChange', 'NoChange', 23, 'NoChange', 'NoChange', 'NoChange', 28, 'NoChange', 'NoChange', 19, 24, 'NoChange', 'NoChange', 9, 26, 'NoChange', 'NoChange', 28, 'NoChange', 14, 21, 'NoChange', 'NoChange', 2, 1, 26, 'NoChange', 'NoChange', 3, 5, 22, 28, 'NoChange', 'NoChange', 'NoChange', 'NoChange', 'NoChange', 'NoChange', 26, 23, 'NoChange', 28, 7, 30, 'NoChange', 'NoChange', 5, 15, 16, 24, 26, 'NoChange', 'NoChange', 'NoChange', 2, 27, 1, 6, 'NoChange', 21, 'NoChange', 'NoChange', 17, 'NoChange', 'NoChange', 3, 5, 'NoChange', 22, 26, 'NoChange', 'NoChange', 'NoChange', 27, 'NoChange', 'NoChange', 'NoChange', 1, 6, 23, 'NoChange', 'NoChange', 'NoChange', 'NoChange', 31, 26, 2, 1, 5, 24, 3, 27, 'NoChange', 'NoChange', 18, 'NoChange', 'NoChange', 'NoChange', 21, 1, 6, 'NoChange', 26, 'NoChange', 'NoChange', 'NoChange', 19, 27, 22, 8, 'NoChange', 'NoChange', 'NoChange', 'NoChange', 'NoChange', 28, 23, 2, 14, 1, 'NoChange', 'NoChange', 'NoChange', 26, 'NoChange', 'NoChange', 28, 24, 'NoChange', 9, 'NoChange', 'NoChange', 'NoChange', 26, 'NoChange', 21, 'NoChange', 27, 'NoChange', 'NoChange', 'NoChange', 'NoChange', 3, 5, 15, 22, 2, 1, 26, 3, 'NoChange', 'NoChange', 27, 'NoChange', 23, 7, 16, 'NoChange', 'NoChange', 9, 'NoChange', 28, 'NoChange', 24, 'NoChange', 'NoChange', 'NoChange', 17, 26, 'NoChange', 'NoChange', 21, 1, 6, 27, 'NoChange', 2, 1, 'NoChange', 'NoChange', 'NoChange', 22, 3, 5, 26, 'NoChange', 'NoChange', 'NoChange', 14, 27, 30, 'NoChange', 23, 1, 6, 'NoChange', 'NoChange', 'NoChange', 'NoChange', 'NoChange', 'NoChange', 24, 3, 5, 'NoChange', 'NoChange', 'NoChange', 2, 'NoChange', 'NoChange', 21, 26, 6, 'NoChange', 'NoChange', 1, 27, 17, 'NoChange', 'NoChange', 22, 9, 'NoChange', 'NoChange', 'NoChange', 26, 31, 'NoChange', 23, 27, 'NoChange', 'NoChange', 'NoChange', 'NoChange', 'NoChange', 8, 'NoChange', 24, 28, 'NoChange', 'NoChange', 'NoChange', 'NoChange', 2, 1, 18, 26, 21, 3, 5, 27, 'NoChange', 'NoChange', 'NoChange', 'NoChange', 'NoChange', 22, 8, 19, 28, 'NoChange', 'NoChange', 'NoChange', 'NoChange', 'NoChange', 23, 15, 26, 'NoChange', 14, 5, 28, 'NoChange', 'NoChange', 2, 1, 24, 3, 'NoChange', 26, 8, 'NoChange', 28, 'NoChange', 21, 'NoChange', 'NoChange', 'NoChange', 'NoChange', 26, 'NoChange', 'NoChange', 22, 5, 27, 'NoChange', 'NoChange', 15, 16, 'NoChange', 'NoChange', 23, 2, 28, 1, 8, 30, 'NoChange', 'NoChange', 'NoChange', 14, 26, 24, 'NoChange', 28, 'NoChange', 'NoChange', 'NoChange', 'NoChange', 'NoChange', 21, 26, 'NoChange', 'NoChange', 9, 27, 'NoChange', 'NoChange', 22, 'NoChange', 2, 1, 'NoChange', 'NoChange', 'NoChange', 17, 31, 23, 28, 3, 5, 'NoChange', 'NoChange', 'NoChange', 'NoChange', 'NoChange', 26, 24, 'NoChange', 7, 27, 'NoChange', 'NoChange', 'NoChange', 'NoChange', 1, 6, 'NoChange', 21, 28, 'NoChange', 2, 1, 'NoChange', 'NoChange', 3, 5, 18, 22, 26, 'NoChange', 'NoChange', 28, 'NoChange', 'NoChange', 'NoChange', 'NoChange', 23, 'NoChange', 26, 14, 1, 6, 28, 'NoChange', 'NoChange', 24, 'NoChange', 'NoChange', 'NoChange', 8, 26, 2, 1, 28, 21, 'NoChange', 'NoChange', 'NoChange', 'NoChange', 'NoChange', 26, 'NoChange', 22, 'NoChange', 27, 'NoChange', 19, 'NoChange', 'NoChange', 9, 23, 'NoChange', 28, 'NoChange', 15, 30, 'NoChange', 2, 1, 24, 26, 3, 5, 14, 'NoChange', 'NoChange', 27, 'NoChange', \n",
    "#                'NoChange', 21, 'NoChange', 7, 'NoChange', 'NoChange', 1, 6, 26, 'NoChange', 22, 15, 16, 27, 'NoChange', 'NoChange', 3, 5, 'NoChange', 'NoChange', 23, 2, 28, 'NoChange', 'NoChange', 6, 17, 'NoChange', 'NoChange', 1, 24, 26, 31, 'NoChange', 'NoChange', 'NoChange', 3, 5, 27, 'NoChange', 'NoChange', 21, 'NoChange', 'NoChange', 'NoChange', 'NoChange', 'NoChange', 'NoChange', 'NoChange', 1, 6, 22, 'NoChange', 'NoChange', 'NoChange', 26, 'NoChange', 18, 'NoChange', 3, 5, 23, 27, 2, 1, 3, 'NoChange', 'NoChange', 'NoChange', 'NoChange', 1, 6, 24, 28, 14, 'NoChange', 'NoChange', 'NoChange', 'NoChange', 'NoChange', 26, 21, 'NoChange', 'NoChange', 3, 5, 27, 'NoChange', 'NoChange', 'NoChange', 'NoChange', 22, 'NoChange', 'NoChange', 2, 19, 1, 26, 6, 'NoChange', 'NoChange', 23, 27, 'NoChange', 'NoChange', 15, 'NoChange', 9, 'NoChange', 14, 28, 24, 'NoChange', 15, 16, 'NoChange', 'NoChange', 26, 'NoChange', 21, 8, 28, 'NoChange', 'NoChange', 2, 'NoChange', 1, 17, 'NoChange', 22, 26, 'NoChange', 'NoChange', 'NoChange', 27, 'NoChange', 'NoChange', 'NoChange', 23, 3, 5, 'NoChange', 'NoChange', 26, 'NoChange', 'NoChange', 30, 27, 24, 8, 'NoChange', 'NoChange', 'NoChange', 'NoChange', 2, 14, 1, 21, 'NoChange', 'NoChange', 'NoChange', 3, 5, 'NoChange', 'NoChange', 'NoChange', 22, 26, 'NoChange', 'NoChange', 'NoChange', 8, 27, 'NoChange', 'NoChange', 'NoChange', 23, 'NoChange', 31, 'NoChange', 28, 17, 'NoChange', 9, 2, 24, 1, 'NoChange', 26, 'NoChange', 'NoChange', 27, 'NoChange', 21, 'NoChange', 'NoChange', 'NoChange', 3, 5, 'NoChange', 28, 'NoChange', 22, 'NoChange', 'NoChange', 'NoChange', 7, 26, 18, 1, 6, 23, 28, 'NoChange', 2, 1, 'NoChange', 'NoChange', 'NoChange', 26, 24, 'NoChange', 28, 'NoChange', 8, 'NoChange', 19, 'NoChange', 21, 26, 'NoChange', 'NoChange', 28, 'NoChange', 15, 'NoChange', 'NoChange', 22, 14, 26, 2, 1, 28, 9, 'NoChange', 23, 'NoChange', 'NoChange', 'NoChange', 26, 'NoChange', 30, 28, 24, 'NoChange', 'NoChange', 3, 5, 'NoChange', 'NoChange', 26, 'NoChange', 21, 'NoChange', 15, 27, 'NoChange', 'NoChange', 2, 1, 16, 3, 7, 22, 'NoChange', 5, 'NoChange', 'NoChange', 'NoChange', 'NoChange', 'NoChange', 21, 17, 26, 'NoChange', 'NoChange', 'NoChange', 27, 'NoChange', 23, 'NoChange', 'NoChange', 'NoChange', 'NoChange', 'NoChange', 1, 6, 31, 2, 26, 1, 'NoChange', 28, 24, 'NoChange', 'NoChange', 9, 'NoChange', 'NoChange', 26, 18, 21, 'NoChange', 27, 'NoChange', 'NoChange', 'NoChange', 'NoChange', 'NoChange', 8, 22, 'NoChange', 19, 'NoChange', 'NoChange', 'NoChange', 2, 28, 1, 23, 'NoChange', 'NoChange', 'NoChange', 15, 26, 'NoChange', 'NoChange', 24, 28, 14, 'NoChange', 9, 'NoChange', 'NoChange', 'NoChange', 26, 21, 'NoChange', 28, 'NoChange', 'NoChange', 'NoChange', 'NoChange', 'NoChange', 2, 5, 1, 26, 3, 22, 'NoChange', 'NoChange', 27, 'NoChange', 'NoChange', 30, 'NoChange', 23, 15, 'NoChange', 28, 'NoChange', 7, 'NoChange', 16, 1, 6, 24, 'NoChange', 26, 'NoChange', 'NoChange', 28, 'NoChange', 'NoChange', 2, 9, 21, 'NoChange', 17, 'NoChange', 26, 'NoChange', 'NoChange', 1, 22, 27, 'NoChange', 'NoChange', 'NoChange', 'NoChange', 8, 31, 'NoChange', 23, 26, 'NoChange', 'NoChange', 27, 'NoChange', 'NoChange', 'NoChange', 14, 3, 5, 24, 'NoChange', 'NoChange', 28, 'NoChange', 'NoChange', 'NoChange', 'NoChange', 2, 8, 21, 1, 26, 'NoChange', 'NoChange', 27, 'NoChange', 'NoChange', 22, 'NoChange', 'NoChange', 3, 5, 'NoChange', 28, 'NoChange', 'NoChange', 17, 23, 'NoChange', 'NoChange', 'NoChange', 26, 'NoChange', 8, 28, 24, 'NoChange', 2, 14, 1, 'NoChange', 'NoChange', 26, 'NoChange', 21, 3, 5, 27, 'NoChange', 'NoChange', 'NoChange', 'NoChange', 'NoChange', 22, 8, 26, 'NoChange', 17, 'NoChange', 27, 30, 'NoChange', 23, 'NoChange', 'NoChange', 'NoChange', 2, 9, 1, 28, 'NoChange', 24, 'NoChange', 'NoChange', 'NoChange', 'NoChange', 26, 'NoChange', 'NoChange', 21, 28, 3, 5, 'NoChange', 'NoChange', 'NoChange', 18, 'NoChange', 26, 22, 'NoChange', 'NoChange', 27, 'NoChange', 'NoChange', 2, 1, 3, 7, 14, 23, 'NoChange', 'NoChange', 1, 6, 28, 'NoChange', 31, 'NoChange', 24, 'NoChange', 'NoChange', 26, 'NoChange', 'NoChange', 27, 'NoChange', 8, 21, 'NoChange', 'NoChange', 'NoChange', 'NoChange', 'NoChange', 28, 'NoChange', 2, 1, 19, 22, 'NoChange', 'NoChange', 'NoChange', 26, 'NoChange', 'NoChange', 28, 15, 23, 'NoChange', 9, 'NoChange', 14, 'NoChange', 26, 'NoChange', 24, 28, 3, 5, 'NoChange', 'NoChange', 15, 'NoChange', 16, 21, 26, 2, 1, 3, 7, 28, 'NoChange', 'NoChange', 1, 6, 'NoChange', 22, 'NoChange', 17, 26, 'NoChange', 'NoChange', 28, 3, 5, 'NoChange', 23, 'NoChange', 'NoChange', 'NoChange', 26, 'NoChange', 1, 6, 27, 24, 'NoChange', 'NoChange', 2, 1, 'NoChange', 3, 5, 'NoChange', 21, 'NoChange', 'NoChange', 18, 'NoChange', 30, 1, 6, 'NoChange', 26, 22, 'NoChange', 'NoChange', 27, 'NoChange', 8, 19, 'NoChange', 23, 'NoChange', 'NoChange', 28, 2, 'NoChange', 15, 'NoChange', 24, 'NoChange', 1, 14, 26, 'NoChange', 'NoChange', 3, 5, 27, 31, 'NoChange', 'NoChange', 21, 'NoChange', 'NoChange', 'NoChange', 'NoChange', 28, 'NoChange', 8, 'NoChange', 22, 'NoChange', 'NoChange', 26, 'NoChange', 'NoChange', 27, 'NoChange', 23, 'NoChange', 2, 5, 15, 1, 3, 16, 'NoChange', 28, 'NoChange', 24, 'NoChange', 'NoChange', 8, 'NoChange', 26, 'NoChange', 14, 21, 28, 'NoChange', 'NoChange', 'NoChange', 'NoChange', 'NoChange', 9, 26, 22, 'NoChange', 28, 'NoChange', 2, 1, 17, 'NoChange', 23, 26, 'NoChange', 3, 5, 28, 'NoChange', 'NoChange', 30, 24, 'NoChange', 'NoChange', 26, 'NoChange', 'NoChange', 'NoChange', 27, 21, 'NoChange', 7, 'NoChange', 'NoChange', 1, 6, 2, 1, 18, 22, 'NoChange', 26, 'NoChange', 'NoChange', 8, 27, 'NoChange', 23, 'NoChange', 'NoChange', 'NoChange', 'NoChange', 31, 28, 14, 24, 'NoChange', 'NoChange', 'NoChange', 'NoChange', 26, 'NoChange', 'NoChange', 2, 9, 21, 28, 1, 'NoChange', 'NoChange', 'NoChange', 'NoChange', 'NoChange', 26, 19, 22, 'NoChange', 3, 5, 28, 'NoChange', 'NoChange', 'NoChange', 'NoChange', 'NoChange', 15, 23, 26, 'NoChange', 'NoChange', 28, 14, 7, 'NoChange', 24, 1, 6, 2, 1, 15, 26, 16, 'NoChange', 28, 'NoChange', 21, 'NoChange', 'NoChange', 'NoChange', 'NoChange', 26, 8, 17, 22, 27, 'NoChange', 'NoChange', 'NoChange', 'NoChange', 'NoChange', 'NoChange', 'NoChange', 23, 28, 'NoChange', 'NoChange', 'NoChange', 2, 1, 14, 26, 30, 24, 9, 28, 'NoChange', 'NoChange', 'NoChange', 'NoChange', 'NoChange', 21, 26, 'NoChange', 'NoChange', 'NoChange', 3, 5, 27, 'NoChange', 'NoChange', 22, 'NoChange', 'NoChange', 'NoChange', 'NoChange', 'NoChange', 2, 1, 7, 17, 3, 23, 'NoChange', 1, 6, 28, 'NoChange', 'NoChange', 'NoChange', 'NoChange', 'NoChange', 24, 26, 'NoChange', 8, 'NoChange', 27, 31, 'NoChange', 'NoChange', 21, 'NoChange', 'NoChange', 'NoChange', 'NoChange', 'NoChange', 'NoChange', 'NoChange', 2, 18, 1, 'NoChange', 22, 'NoChange', 'NoChange', 9, 'NoChange', 'NoChange', 'NoChange', 28, 19, 23, 'NoChange', 'NoChange', 3, 5, 'NoChange', 'NoChange', 26, 'NoChange', 15, 24, 28, 'NoChange', 14, 7, 'NoChange', 'NoChange', 2, 6, 1, 21, 26, 'NoChange', 'NoChange', 28, 'NoChange', 'NoChange', 'NoChange', 'NoChange', 'NoChange', 22, 26, 'NoChange', 8, 15, 16, 27, 'NoChange', 'NoChange', 23, 'NoChange', 'NoChange', 'NoChange', 'NoChange', 'NoChange', 'NoChange', 3, 5, 2, 17, 1, 24, 3, 26, 30, 'NoChange', 'NoChange', 'NoChange', 27, 'NoChange', 21, 'NoChange', 8, 'NoChange', 'NoChange', 'NoChange', 'NoChange', 'NoChange', 22, 'NoChange', 'NoChange', 'NoChange', 28, 5, 'NoChange', 'NoChange', 18, 23, 2, 1, 3, 26, 'NoChange', 8, 28, 'NoChange', 'NoChange', 24, 'NoChange', 19, 'NoChange', 26, 31, 'NoChange', 'NoChange', 27, 21, 'NoChange', 'NoChange', 'NoChange', 9, 15, 'NoChange', 'NoChange', 'NoChange', 'NoChange', 14, 2, 1, 22, 'NoChange', 'NoChange', 'NoChange', 26, 'NoChange', 3, 5, 28, 23, 'NoChange', 'NoChange', 'NoChange', 'NoChange', 'NoChange', 26, 'NoChange', 24, 7, 28, 'NoChange', 'NoChange', 1, 6, 'NoChange', 'NoChange', 'NoChange', 15, 21, 26, 2, 16, 'NoChange', 'NoChange', 9, 27, 'NoChange', 'NoChange', 1, 22, 'NoChange', 'NoChange', 'NoChange', 17, 26, 'NoChange', 'NoChange', 'NoChange', 23, 27, 8, 'NoChange', 'NoChange', 'NoChange', 'NoChange', 'NoChange', 'NoChange', 24, 28, 'NoChange', 'NoChange', 'NoChange', 3, 5, 'NoChange', 'NoChange', 14, 26, 30, 2, 21, 1, 3, 28, 'NoChange', 'NoChange', 'NoChange', 'NoChange', 'NoChange', 22, 26, 'NoChange', 'NoChange', 'NoChange', 27, 'NoChange', 8, 23, 'NoChange', 'NoChange', 'NoChange', 'NoChange', 'NoChange', 'NoChange', 'NoChange', 17, 24, 'NoChange', 2, 9, 1, 'NoChange', 'NoChange', 26, 31, 'NoChange', 21, 27, 'NoChange', 'NoChange', 'NoChange', 'NoChange', 'NoChange', 3, 5, 22, 26, 'NoChange', 'NoChange', 27, 'NoChange', 'NoChange', 'NoChange', 14, 23, 'NoChange', 'NoChange', 'NoChange', 2, 7, 28, 1, 3, 1, 6, 24, 'NoChange', 'NoChange', 26, 'NoChange', 'NoChange', 28, 'NoChange', 21, 'NoChange', 17, 'NoChange', 8, 26, 'NoChange', 'NoChange', 22, 27, 'NoChange', 'NoChange', 'NoChange', 'NoChange', 2, 'NoChange', 1, 23, 28, 'NoChange', 'NoChange', 'NoChange', 'NoChange', 'NoChange', 9, 24, 26, 'NoChange', 'NoChange', 18, 28, 'NoChange', 'NoChange', 'NoChange', 'NoChange', 21, 30, 26, 'NoChange', 3, 5, 'NoChange', 27, 'NoChange', 22, 2, 14, 1, 3, 7, 'NoChange', 'NoChange', 5, 23, 'NoChange', 26, 'NoChange', 'NoChange', 'NoChange', 27, 'NoChange', 1, 6, 24, 'NoChange', 'NoChange', 'NoChange', 'NoChange', 'NoChange', 'NoChange', 19, 9, 21, 26, 31, 'NoChange', 2, 27, 1, 'NoChange', 'NoChange', 15, 22, 'NoChange', 'NoChange', 'NoChange', 'NoChange', 8, 'NoChange', 26, 23, 'NoChange', 14, 28, 'NoChange', 'NoChange', 'NoChange', 15, 16, 24, 26, 'NoChange', 'NoChange', 28, 2, 1, 3, 5, 21, 'NoChange', 17, 26, 'NoChange', 'NoChange', 28, 'NoChange', 22, 'NoChange', 'NoChange', 8, 'NoChange', 26, 'NoChange', 'NoChange', 23, 28, 'NoChange', 'NoChange', 'NoChange', 'NoChange', 14, 5, 2, 26, 1, 24, 3, 28, 'NoChange', 'NoChange', 30, 8, 'NoChange', 21, 26, 'NoChange', 'NoChange', 'NoChange', 27, 'NoChange', 'NoChange', 22, 17, 'NoChange', 'NoChange', 'NoChange', 'NoChange', \n",
    "#     'NoChange', 'NoChange', 23, 2, 9, 1, 'NoChange', 'NoChange', 'NoChange', 'NoChange', 'NoChange', 24, 3, 5, 'NoChange', 'NoChange', 'NoChange', 'NoChange', 26, 'NoChange', 21, 'NoChange', 18, 27, 31, 'NoChange', 'NoChange', 'NoChange', 'NoChange', 'NoChange', 'NoChange', 7, 'NoChange', 2, 1, 6, 22, 'NoChange', 'NoChange', 'NoChange', 'NoChange', 'NoChange', 28, 19, 23, 'NoChange', 'NoChange', 'NoChange', 8, 26, 'NoChange', 15, 24, 27, 'NoChange', 14, 'NoChange', 'NoChange', 'NoChange', 'NoChange', 2, 21, 1, 28, 'NoChange', 'NoChange', 'NoChange', 'NoChange', 'NoChange', 9, 26, 'NoChange', 22, 'NoChange', 27, 'NoChange', 'NoChange', 3, 5, 'NoChange', 15, 23, 'NoChange', 26, 16, 30, 7, 28, 'NoChange', 'NoChange', 2, 6, 24, 1, 'NoChange', 'NoChange', 26, 'NoChange', 17, 'NoChange', 21, 27, 'NoChange', 'NoChange', 'NoChange', 'NoChange', 8, 'NoChange', 'NoChange', 22, 'NoChange', 'NoChange', 'NoChange', 'NoChange', 26, 'NoChange', 'NoChange', 14, 23, 27, 2, 1, 'NoChange', 31, 'NoChange', 'NoChange', 9, 24, 28, 'NoChange', 'NoChange', 'NoChange', 'NoChange', 'NoChange', 'NoChange', 3, 5, 17, 21, 26, 'NoChange', 'NoChange', 'NoChange', 27, 'NoChange', 'NoChange', 'NoChange', 7, 22, 'NoChange', 'NoChange', 5, 2, 28, 1, 3, 'NoChange', 23, 'NoChange', 'NoChange', 1, 6, 26, 'NoChange', 'NoChange', 28, 'NoChange', 24, 18, 'NoChange', 3, 5, 'NoChange', 26, 'NoChange', 'NoChange', 21, 28, 'NoChange', 'NoChange', 'NoChange', 'NoChange', 'NoChange', 2, 1, 26, 6, 19, 22, 'NoChange', 'NoChange', 27, 'NoChange', 'NoChange', 'NoChange', 'NoChange', 23, 'NoChange', 14, 26, 'NoChange', 8, 'NoChange', 27, 24, 'NoChange', 'NoChange', 'NoChange', 'NoChange', 'NoChange', 'NoChange', 28, 2, 21, 1, 'NoChange', 'NoChange', 15, 16, 26, 'NoChange', 9, 22, 'NoChange', 27, 'NoChange', 'NoChange', 'NoChange', 'NoChange', 'NoChange', 3, 5, 17, 23, 'NoChange', 'NoChange', 26, 'NoChange', 30, 'NoChange', 27, 24, 7, 2, 1, 3, 'NoChange', 'NoChange', 'NoChange', 1, 6, 21, 'NoChange', 'NoChange', 'NoChange', 'NoChange', 'NoChange', 18, 26, 8, 22, 'NoChange', 'NoChange', 27, 'NoChange', 'NoChange', 'NoChange', 'NoChange', 23, 31, 19, 'NoChange', 3, 5, 28, 2, 1, 3, 'NoChange', 24, 'NoChange', 26, 8, 14, 'NoChange', 27, 'NoChange', 'NoChange', 21, 'NoChange', 'NoChange', 'NoChange', 'NoChange', 28, 9, 'NoChange', 22, 'NoChange', 'NoChange', 'NoChange', 15, 26, 16, 2, 1, 28, 23, 'NoChange', 'NoChange', 3, 5, 'NoChange', 'NoChange', 26, 'NoChange', 17, 24, 30, 28, 'NoChange', 'NoChange', 'NoChange', 7, 'NoChange', 'NoChange', 1, 6, 21, 26, 'NoChange', 'NoChange', 'NoChange', 27, 'NoChange', 'NoChange', 'NoChange', 2, 5, 22, 1, 18, 3, 'NoChange', 28, 31, 'NoChange', 'NoChange', 23, 'NoChange', 1, 6, 26, 19, 'NoChange', 27, 'NoChange', 24, 'NoChange', 'NoChange', 'NoChange', 'NoChange', 'NoChange', 14, 28, 8, 21, 'NoChange', 2, 1, 'NoChange', 26, 'NoChange', 'NoChange', 22, 28, 'NoChange', 9, 'NoChange', 'NoChange', 'NoChange', 'NoChange', 26, 23, 'NoChange', 28, 15, 'NoChange', 16, 30, 3, 5, 24, 26, 'NoChange', 'NoChange', 2, 28, 1, 3, 7, 17, 21, 'NoChange', 'NoChange', 26, 'NoChange', 'NoChange', 5, 27, 22, 'NoChange', 'NoChange', 'NoChange', 'NoChange', 'NoChange', 1, 6, 'NoChange', 23, 28, 'NoChange', 'NoChange', 'NoChange', 'NoChange', 2, 8, 1, 24, 26, 18, 31, 27, 'NoChange', 'NoChange', 'NoChange', 'NoChange', 21, 'NoChange', 'NoChange', 28, 19, 'NoChange', 'NoChange', 'NoChange', 22, 9, 26, 'NoChange', 14, 28, 'NoChange', 'NoChange', 2, 23, 27, 1, 'NoChange', 'NoChange', 'NoChange', 3, 5, 'NoChange', 24, 28, 'NoChange', 'NoChange', 'NoChange', 'NoChange', 'NoChange', 7, 15, 21, 26, 16, 1, 6, 28, 'NoChange', 'NoChange', 'NoChange', 'NoChange', 22, 'NoChange', 9, 26, 2, 1, 17, 'NoChange', 27, 'NoChange', 23, 18, 'NoChange', 'NoChange', 'NoChange', 'NoChange', 28, 8, 24, 'NoChange', 'NoChange', 'NoChange', 19, 26, 'NoChange', 'NoChange', 21, 28, 'NoChange', 3, 5, 'NoChange', 14, 2, 1, 3, 26, 22, 30, 'NoChange', 8, 27, 'NoChange', 15, 16, 'NoChange', 23, 'NoChange', 'NoChange', 'NoChange', 'NoChange', 5, 'NoChange', 'NoChange', 24, 17, 'NoChange', 'NoChange', 'NoChange', 9, 'NoChange', 2, 'NoChange', 1, 21, 'NoChange', 'NoChange', 18, 26, 'NoChange', 'NoChange', 'NoChange', 27, 'NoChange', 3, 7, 'NoChange', 'NoChange', 1, 6, 22, 'NoChange', 'NoChange', 19, 26, 'NoChange', 'NoChange', 'NoChange', 27, 23, 'NoChange', 'NoChange', 31, 'NoChange', 2, 8, 14, 1, 26, 24, 'NoChange', 27, 'NoChange', 'NoChange', 'NoChange', 'NoChange', 'NoChange', 21, 'NoChange', 'NoChange', 'NoChange', 'NoChange', 15, 9, 16, 26, 'NoChange', 22, 27, 'NoChange', 'NoChange', 'NoChange', 'NoChange', 'NoChange', 2, 1, 23, 17, 28, 'NoChange', 3, 5, 'NoChange', 'NoChange', 'NoChange', 'NoChange', 24, 26, 'NoChange', 'NoChange', 'NoChange', 27, 'NoChange', 'NoChange', 7, 'NoChange', 18, 21, 1, 6, 'NoChange', 26, 'NoChange', 'NoChange', 'NoChange', 27, 2, 22, 1, 5, 3, 19, 'NoChange', 'NoChange', 'NoChange', 26, 23, 1, 6, 30, 28, 'NoChange', 14, 'NoChange', 'NoChange', 'NoChange', 24, 26, 'NoChange', 'NoChange', 9, 28, 'NoChange', 'NoChange', 'NoChange', 21, 'NoChange', 2, 15, 1, 16, 26, 'NoChange', 'NoChange', 'NoChange', 27, 22, 8, 31, 'NoChange', 'NoChange', 'NoChange', 'NoChange', 17, 'NoChange', 21, 'NoChange', 'NoChange', 'NoChange', 'NoChange', 'NoChange', 'NoChange', 26, 'NoChange', 23, 'NoChange', 27, 2, 9, 18, 1, 'NoChange', 'NoChange', 'NoChange', 24]\n"
   ]
  },
  {
   "cell_type": "code",
   "execution_count": 39,
   "metadata": {},
   "outputs": [],
   "source": [
    "# action_list = [3, 14, 21, 26, 30, 15, 27, 16, 7, 22, 22, 26, 26, 26, 1, 6, 17, 23, 27, 27, 18, 18, 8, 24, 2, 26, 1, 1, 27, 27, 27, 19, 21, 9, 9, 9, 26, 26, 26, 14, 22, 27, 3, 5, 15, 16, 16, 23, 23, 26, 2, 1, 3, 7, 27, 24, 17, 17, 17, 1, 6, 18, 26, 21, 21, 21, 27, 8, 8, 8, 8, 22, 19, 19, 26, 26, 2, 1, 9, 27, 23, 14, 14, 14, 14, 14, 28, 24, 24, 24, 24, 3, 5, 26, 15, 16, 21, 28, 28, 7, 7, 7, 2, 1, 22, 26, 6, 17, 27, 27, 27, 23, 23, 23, 23, 26, 8, 8, 8, 24, 27, 27, 27, 27, 27, 18, 18, 9, 21, 26, 2, 1, 27, 27, 27, 3, 5, 22, 19, 26, 26, 26, 28, 7, 23, 14, 1, 6, 6, 26, 26, 24, 27, 31, 2, 8, 1, 1, 1, 21, 28, 28, 28, 28, 28, 9, 15, 16, 22, 26, 27, 27, 27, 3, 5, 23, 23, 23, 17, 28, 2, 1, 7, 3, 1, 6, 24, 26, 28, 28, 28, 28, 21, 21, 21, 26, 26, 8, 18, 27, 22, 22, 22, 22, 22, 22, 2, 28, 1, 9, 19, 23, 23, 26, 26, 26, 3, 5, 24, 27, 14, 14, 14, 14, 7, 28, 21, 1, 6, 6, 6, 26, 2, 15, 16, 22, 28, 1, 8, 8, 8, 26, 23, 23, 28, 17, 9, 9, 9, 9, 24, 26, 26, 26, 28, 28, 28, 28, 21, 3, 5, 2, 18, 1, 26, 3, 30, 28, 22, 7, 7, 1, 6, 14, 26, 23, 28, 28, 28, 3, 5, 26, 24, 24, 28, 28, 2, 1, 6, 6, 21, 26, 26, 26, 26, 27, 31, 8, 19, 22, 22, 22, 22, 22, 22, 14, 23, 28, 28, 3, 5, 15, 2, 1, 16, 26, 3, 24, 27, 8, 30, 30, 30, 30, 17, 28, 21, 21, 21, 5, 5, 26, 26, 26, 14, 28, 28, 8, 2, 22, 1, 26, 26, 26, 26, 27, 23, 23, 9, 9, 9, 17, 17, 28, 24, 24, 24, 24, 24, 24, 26, 31, 3, 5, 21, 27, 2, 1, 3, 18, 22, 28, 28, 7, 7, 7, 1, 6, 23, 26, 19, 27, 27, 27, 27, 27, 27, 27, 24, 8, 14, 28, 2, 1, 1, 1, 21, 26, 26, 28, 3, 5, 5, 5, 22, 22, 26, 26, 26, 28, 8, 8, 23, 23, 15, 15, 2, 26, 1, 16, 28, 24, 24, 24, 24, 24, 26, 3, 5, 21, 28, 14, 14, 14, 14, 8, 26, 22, 22, 22, 27, 27, 2, 2, 1, 23, 9, 9, 26, 26, 26, 28, 28, 24, 17, 17, 17, 17, 26, 3, 5, 30, 21, 27, 27, 27, 27, 27, 27, 2, 1, 7, 22, 3, 26, 5, 5, 5, 23, 27, 18, 18, 18, 18, 18, 18, 24, 28, 28, 1, 6, 19, 19, 26, 21, 31, 2, 1, 27, 14, 14, 8, 22, 22, 28, 28, 28, 28, 28, 28, 23, 26, 9, 9, 27, 27, 27, 27, 24, 24, 24, 2, 1, 28, 15, 3, 5, 16, 21, 26, 26, 26, 28, 28, 22, 22, 7, 17, 17, 1, 6, 26, 23, 28, 28, 28, 28, 2, 5, 1, 3, 26, 24, 30, 28, 1, 6, 6, 21, 26, 26, 18, 18, 27, 27, 27, 22, 22, 8, 8, 8, 8, 19, 2, 26, 1, 23, 27, 27, 27, 27, 14, 24, 24, 24, 9, 28, 31, 31, 31, 21, 21, 26, 26, 26, 27, 27, 27, 3, 5, 22, 2, 1, 3, 28, 28, 7, 15, 23, 16, 9, 26, 26, 28, 24, 24, 24, 24, 17, 17, 26, 26, 1, 6, 21, 28, 2, 1, 1, 1, 3, 5, 22, 26, 28, 28, 28, 28, 23, 1, 6, 26, 26, 18, 28, 28, 24, 3, 5, 5, 26, 2, 1, 3, 19, 21, 27, 30, 1, 6, 6, 6, 14, 22, 28, 28, 3, 5, 5, 26, 23, 23, 28, 28, 1, 6, 6, 2, 24, 26, 26, 26, 8, 27, 31, 1, 21, 15, 15, 15, 15, 15, 15, 9, 26, 26, 22, 27, 27, 27, 27, 27, 27, 16, 23, 28, 3, 5, 5, 2, 1, 3, 24, 26, 7, 14, 28, 28, 1, 6, 21, 21, 26, 26, 26, 26, 3, 5, 27, 22, 30, 30, 30, 30, 9, 2, 1, 23, 26, 17, 28, 28, 28, 28, 24, 24, 24, 3, 7, 26, 1, 6, 27, 21, 21, 21, 21, 21, 31, 31, 8, 22, 26, 2, 1, 18, 27, 27, 23, 23, 23, 23, 28, 28, 28, 19, 24, 24, 24, 9, 26, 26, 28, 28, 14, 21, 21, 2, 1, 26, 26, 26, 3, 5, 22, 28, 28, 28, 28, 26, 23, 23, 28, 7, 30, 30, 5, 15, 16, 24, 26, 26, 26, 2, 27, 1, 6, 21, 21, 17, 17, 17, 3, 5, 22, 26, 26, 26, 27, 27, 27, 27, 1, 6, 23, 23, 23, 31, 26, 2, 1, 5, 24, 3, 27, 18, 18, 18, 21, 1, 6, 26, 26, 26, 26, 19, 27, 22, 8, 8, 8, 8, 8, 28, 23, 2, 14, 1, 1, 1, 26, 26, 26, 28, 24, 24, 9, 9, 9, 9, 26, 26, 21, 21, 27, 27, 27, 27, 27, 3, 5, 15, 22, 2, 1, 26, 3, 27, 23, 7, 16, 16, 9, 9, 28, 28, 24, 24, 24, 24, 17, 26, 26, 26, 21, 1, 6, 27, 2, 1, 1, 1, 22, 3, 5, 26, 26, 14, 27, 30, 23, 1, 6, 6, 6, 6, 6, 6, 24, 3, 5, 5, 5, 2, 2, 2, 21, 26, 6, 6, 1, 27, 17, 17, 22, 9, 9, 9, 9, 26, 31, 31, 23, 27, 27, 27, 27, 27, 8, 8, 24, 28, 28, 28, 28, 2, 1, 18, 26, 21, 3, 5, 27, 27, 27, 27, 22, 8, 19, 28, 28, 28, 28, 28, 23, 15, 26, 14, 5, 28, 28, 2, 1, 24, 3, 26, 8, 8, 28, 28, 21, 21, 21, 21, 21, 26, 26, 26, 22, 5, 27, 27, 15, 16, 16, 16, 23, 2, 28, 1, 8, 30, 30, 30, 14, 26, 24, 28, 28, 28, 28, 28, 28, 21, 26, 26, 26, 9, 27, 27, 27, 22, 22, 2, 1, 1, 1, 1, 17, 31, 23, 28, 3, 5, 5, 5, 26, 24, 24, 7, 27, 27, 27, 27, 1, 6, 21, 28, 28, 2, 1, 1, 1, 3, 5, 18, 22, 26, 28, 28, 28, 28, 23, 23, 26, 14, 1, 6, 28, 28, 24, 24, 24, 24, 8, 26, 2, 1, 28, 21, 21, 21, 21, 21, 26, 26, 22, 22, 27, 27, 19, 19, 19, 9, 23, 23, 28, 28, 15, 30, 30, 2, 1, 24, 26, 3, 5, 14, 27, 27, 21, 21, 7, 7, 7, 1, 6, 26, 22, 15, 16, 27, 27, 3, 5, 5, 23, 2, 28, 28, 28, 6, 17, 17, 1, 24, 26, 31, 31, 3, 5, 27, 21, 21, 21, 21, 21, 21, 21, 21, 1, 6, 22, 22, 26, 26, 18, 18, 3, 5, 23, 27, 2, 1, 3, 3, 1, 6, 24, 28, 14, 14, 14, 26, 21, 21, 21, 3, 5, 27, 27, 27, 22, 22, 22, 2, 19, 1, 26, 6, 23, 27, 27, 15, 15, 9, 9, 14, 28, 24, 24, 15, 16, 16, 16, 26, 26, 21, 8, 28, 28, 2, 2, 1, 17, 22, 26, 26, 26, 27, 27, 27, 27, 23, 3, 5, 5, 26, 26, 26, 30, 27, 24, 8, 8, 8, 8, 8, 2, 14, 1, 21, 21, 21, 3, 5, 5, 5, 22, 26, 26, 26, 8, 27, 27, 27, 23, 23, 31, 31, 28, 17, 17, 9, 2, 24, 1, 26, 26, 26, 27, 27, 21, 21, 21, 21, 3, 5, 28, 28, 22, 22, 22, 22, 7, 26, 18, 1, 6, 23, 28, 2, 1, 1, 1, 26, 24, 24, 28, 28, 8, 8, 19, 19, 21, 26, 26, 26, 28, 28, 15, 15, 15, 22, 14, 26, 2, 1, 28, 9, 9, 23, 23, 23, 23, 26, 26, 30, 28, 24, 24, 24, 3, 5, 5, 26, 26, 21, 21, 15, 27, 27, 2, 1, 16, 3, 7, 22, 5, 5, 5, 5, 5, 21, 17, 26, 26, 26, 26, 27, 27, 23, 23, 23, 23, 23, 23, 1, 6, 31, 2, 26, 1, 28, 24, 9, 9, 9, 26, 18, 21, 21, 27, 27, 27, 27, 27, 27, 8, 22, 19, 19, 19, 19, 2, 28, 1, 23, 23, 23, 15, 26, 26, 26, 24, 28, 14, 9, 9, 9, 9, 26, 21, 21, 28, 28, 28, 28, 28, 28, 2, 5, 1, 26, 3, 22, 27, 27, 30, 30, 23, 15, 15, 28, 28, 7, 7, 16, 1, 6, 24, 26, 26, 28, 28, 28, 2, 9, 21, 17, 26, 26, 26, 1, 22, 27, 27, 27, 27, 8, 31, 31, 23, 26, 26, 27, 27, 27, 27, 14, 3, 5, 24, 28, 28, 28, 28, 28, 2, 8, 21, 1, 26, 27, 27, 27, 22, 22, 22, 3, 5, 28, 28, 28, 17, 23, 23, 23, 26, 26, 8, 28, 24, 24, 2, 14, 1, 1, 26, 26, 21, 3, 5, 27, 27, 27, 27, 27, 22, 8, 26, 26, 17, 17, 27, 30, 23, 23, 23, 23, 2, 9, 1, 28, 24, 24, 24, 24, 24, 26, 26, 26, 21, 28, 3, 5, 5, 18, 18, 26, 22, 22, 22, 27, 27, 27, 2, 1, 3, 7, 14, 23, 1, 6, 28, 31, 24, 24, 24, 26, 26, 26, 27, 27, 8, 21, 21, 21, 21, 21, 28, 28, 2, 1, 19, 22, 22, 26, 26, 26, 28, 15, 23, 9, 9, 14, 14, 26, 26, 24, 28, 3, 5, 5, 15, 15, 16, 21, 26, 2, 1, 3, 7, 28, 1, 6, 22, 17, 26, 26, 28, 3, 5, 23, 23, 23, 23, 26, 26, 1, 6, 27, 24, 24, 2, 1, 1, 3, 5, 21, 21, 21, 18, 18, 30, 1, 6, 26, 22, 22, 22, 27, 27, 8, 19, 19, 23, 23, 23, 28, 2, 2, 15, 15, 24, 24, 1, 14, 26, 3, 5, 27, 31, 21, 21, 21, 21, 28, 28, 8, 8, 22, 22, 22, 26, 26, 26, 27, 27, 23, 23, 2, 5, 15, 1, 3, 16, 28, 24, 24, 8, 8, 26, 26, 14, 21, 28, 28, 28, 28, 28, 9, 26, 22, 22, 28, 28, 2, 1, 17, 17, 23, 26, 26, 3, 5, 28, 28, 30, 24, 24, 24, 26, 26, 26, 26, 27, 21, 21, 7, 7, 7, 1, 6, 2, 1, 18, 22, 26, 26, 8, 27, 27, 23, 23, 23, 23, 23, 31, 28, 14, 24, 24, 24, 24, 24, 26, 26, 26, 2, 9, 21, 28, 1, 1, 1, 26, 19, 22, 3, 5, 28, 28, 28, 28, 15, 23, 26, 26, 28, 14, 7, 7, 24, 1, 6, 2, 1, 15, 26, 16, 28, 21, 21, 21, 21, 26, 8, 17, 22, 27, 27, 27, 27, 27, 27, 27, 23, 28, 28, 28, 2, 1, 14, 26, 30, 24, 9, 28, 28, 28, 28, 28, 21, 26, 26, 26, 26, 3, 5, 27, 22, 22, 22, 22, 22, 22, 2, 1, 7, 17, 3, 23, 1, 6, 28, 28, 24, 26, 26, 8, 8, 27, 31, 31, 21, 21, 21, 21, 21, 21, 21, 21, 2, 18, 1, 22, 22, 22, 9, 9, 9, 9, 28, 19, 23, 23, 3, 5, 5, 26, 26, 15, 24, 28, 14, 7, 7, 7, 2, 6, 1, 21, 26, 28, 28, 28, 28, 28, 22, 26, 26, 8, 15, 16, 27, 27, 23, 23, 23, 23, 23, 23, 23, 3, 5, 2, 17, 1, 24, 3, 26, 30, 27, 21, 21, 8, 8, 8, 8, 8, 8, 22, 22, 22, 22, 28, 5, 5, 5, 18, 23, 2, 1, 3, 26, 8, 28, 28, 24, 24, 19, 19, 26, 31, 31, 27, 21, 21, 21, 21, 9, 15, 15, 15, 15, 14, 2, 1, 22, 22, 22, 26, 26, 3, 5, 28, 23, 23, 23, 23, 23, 26, 26, 24, 7, 28, 28, 1, 6, 6, 6, 15, 21, 26, 2, 16, 9, 27, 1, 22, 22, 22, 22, 17, 26, 26, 26, 23, 27, 8, 8, 8, 8, 8, 8, 24, 28, 28, 28, 3, 5, 5, 14, 26, 30, 2, 21, 1, 3, 28, 28, 22, 26, 26, 26, 26, 27, 27, 8, 23, 23, 23, 23, 23, 23, 23, 23, 17, 24, 2, 9, 1, 1, 26, 31, 21, 27, 27, 27, 27, 27, 27, 3, 5, 22, 26, 26, 27, 27, 27, 27, 14, 23, 23, 23, 2, 7, 28, 1, 3, 1, 6, 24, 26, 26, 28, 28, 21, 21, 17, 17, 8, 26, 26, 26, 22, 27, 27, 27, 27, 27, 2, 2, 1, 23, 28, 28, 28, 28, 28, 9, 24, 26, 26, 18, 28, 28, 28, 28, 21, 30, 26, 26, 3, 5, 27, 27, 22, 2, 14, 1, 3, 7, 7, 5, 23, 23, 26, 26, 26, 26, 27, 27, 1, 6, 24, 24, 24, 24, 24, 19, 9, 21, 26, 31, 2, 27, 1, 15, 22, 22, 22, 22, 22, 8, 8, 26, 23, 23, 14, 28, 28, 28, 15, 16, 24, 26, 26, 26, 28, 2, 1, 3, 5, 21, 17, 26, 26, 26, 28, 28, 22, 22, 22, 8, 8, 26, 26, 26, 23, 28, 28, 28, 28, 14, 5, 2, 26, 1, 24, 3, 28, 30, 8, 8, 21, 26, 26, 26, 26, 27, 27, 27, 22, 17, 17, 17, 17, 17, 17, 17, 23, 2, 9, 1, 1, 1, 1, 1, 24, 3, 5, 5, 5, 5, 26, 26, 21, 21, 18, 27, 31, 31, 31, 31, 31, 7, 7, 2, 1, 6, 22, 22, 22, 22, 22, 28, 19, 23, 23, 23, 23, 8, 26, 26, 15, 24, 27, 27, 14, 14, 14, 14, 14, 2, 21, 1, 28, 28, 28, 28, 9, 26, 26, 22, 22, 27, 27, 27, 3, 5, 15, 23, 23, 26, 16, 30, 7, 28, 28, 2, 6, 24, 1, 26, 26, 17, 17, 21, 27, 27, 27, 27, 8, 8, 8, 22, 22, 22, 22, 22, 26, 26, 26, 14, 23, 27, 2, 1, 31, 31, 31, 9, 24, 28, 28, 28, 28, 28, 28, 3, 5, 17, 21, 26, 27, 27, 27, 7, 22, 22, 5, 2, 28, 1, 3, 23, 23, 23, 1, 6, 26, 28, 28, 24, 18, 18, 3, 5, 26, 26, 26, 21, 28, 28, 28, 28, 28, 2, 1, 26, 6, 19, 22, 27, 27, 27, 27, 23, 23, 14, 26, 26, 8, 8, 27, 24, 24, 24, 24, 24, 24, 24, 28, 2, 21, 1, 1, 15, 16, 26, 26, 9, 22, 27, 27, 27, 27, 27, 27, 3, 5, 17, 23, 26, 30, 30, 27, 24, 7, 2, 1, 3, 3, 3, 3, 1, 6, 21, 21, 21, 21, 18, 26, 8, 22, 22, 27, 27, 27, 27, 27, 23, 31, 19, 3, 5, 28, 2, 1, 3, 24, 26, 8, 14, 27, 27, 27, 21, 21, 21, 21, 21, 28, 9, 9, 22, 22, 22, 22, 15, 26, 16, 2, 1, 28, 23, 3, 5, 5, 26, 26, 17, 24, 30, 28, 28, 7, 7, 7, 1, 6, 21, 26, 27, 27, 27, 27, 2, 5, 22, 1, 18, 3, 28, 31, 23, 23, 1, 6, 26, 19, 27, 27, 24, 24, 24, 24, 24, 24, 14, 28, 8, 21, 2, 1, 1, 26, 26, 26, 22, 28, 9, 9, 9, 9, 9, 26, 23, 23, 28, 15, 15, 16, 30, 3, 5, 24, 26, 26, 2, 28, 1, 3, 7, 17, 21, 26, 26, 26, 5, 27, 22, 22, 22, 22, 22, 22, 1, 6, 23, 28, 28, 28, 28, 28, 2, 8, 1, 24, 26, 18, 31, 27, 27, 27, 21, 21, 21, 28, 19, 19, 19, 19, 22, 9, 26, 26, 14, 28, 28, 28, 2, 23, 27, 1, 1, 1, 3, 5, 24, 28, 28, 28, 28, 28, 28, 7, 15, 21, 26, 16, 1, 6, 28, 28, 22, 22, 9, 26, 2, 1, 17, 27, 23, 18, 18, 18, 18, 18, 28, 8, 24, 24, 24, 24, 19, 26, 26, 26, 21, 28, 3, 5, 14, 2, 1, 3, 26, 22, 30, 8, 27, 15, 16, 16, 23, 23, 23, 23, 23, 5, 5, 5, 24, 17, 17, 17, 17, 9, 9, 2, 2, 1, 21, 21, 18, 26, 26, 26, 27, 27, 3, 7, 7, 1, 6, 22, 19, 26, 26, 26, 27, 23, 23, 23, 31, 31, 2, 8, 14, 1, 26, 24, 27, 27, 27, 27, 27, 21, 21, 21, 21, 21, 15, 9, 16, 26, 22, 27, 27, 27, 27, 27, 2, 1, 23, 17, 28, 3, 5, 5, 5, 24, 26, 26, 26, 27, 27, 27, 7, 7, 18, 21, 1, 6, 26, 26, 26, 27, 2, 22, 1, 5, 3, 19, 19, 26, 23, 1, 6, 30, 28, 14, 14, 14, 24, 26, 26, 26, 9, 28, 28, 28, 21, 21, 2, 15, 1, 16, 26, 27, 22, 8, 31, 31, 31, 31, 17, 17, 21, 21, 21, 21, 21, 21, 21, 26, 26, 23, 23, 27, 2, 9, 18, 1, 1, 24]"
   ]
  },
  {
   "cell_type": "code",
   "execution_count": 40,
   "metadata": {},
   "outputs": [],
   "source": [
    "# action_list = [['3', '0', '6', '0', '1', '1'], ['1', '0', '6', '0', '0', '1'], ['1', '0', '6', '0', '0', '0'], ['3', '0', '6', '0', '0', '1'], ['1', '0', '6', '0', '0', '2'], ['3', '7', '3', '0', '0', '1'], ['3', '7', '4', '0', '0', '1'], ['3', '7', '3', '2', '0', '2'], ['3', '7', '0', '0', '2', '1'], ['3', '7', '3', '0', '0', '2'], ['0', '4', '0', '2', '0', '1'], ['3', '7', '3', '0', '2', '1'], ['0', '7', '0', '2', '3', '1'], ['3', '7', '3', '2', '2', '2'], ['3', '7', '3', '2', '2', '1'], ['0', '2', '5', '4', '3', '2'], ['1', '0', '3', '2', '3', '2'], ['3', '7', '3', '2', '2', '1'], ['1', '7', '3', '1', '3', '1'], ['0', '8', '3', '2', '1', '1'], ['1', '7', '3', '1', '1', '1'], ['0', '7', '3', '2', '0', '1'], ['1', '7', '3', '1', '1', '1'], ['0', '7', '3', '1', '1', '1'], ['1', '7', '3', '2', '1', '1'], ['3', '7', '3', '1', '2', '1'], ['0', '7', '3', '2', '3', '1'], ['3', '7', '3', '1', '1', '2'], ['0', '7', '4', '2', '3', '1'], ['3', '7', '3', '2', '1', '2'], ['0', '7', '3', '2', '3', '1'], ['3', '7', '3', '1', '2', '1'], ['3', '3', '3', '3', '3', '1'], ['1', '7', '3', '1', '2', '2'], ['3', '7', '3', '1', '3', '1'], ['0', '7', '3', '1', '2', '2'], ['1', '5', '3', '2', '1', '2'], ['3', '7', '3', '3', '1', '1'], ['2', '7', '3', '2', '2', '2'], ['1', '3', '3', '3', '3', '1'], ['3', '7', '3', '2', '2', '1'], ['3', '7', '3', '3', '3', '1'], ['3', '7', '3', '1', '2', '2'], ['3', '3', '3', '3', '3', '1'], ['3', '7', '3', '2', '2', '1'], ['3', '7', '3', '3', '2', '1'], ['3', '2', '3', '2', '3', '2'], ['3', '4', '2', '1', '1', '1'], ['3', '3', '3', '3', '2', '1'], ['3', '7', '3', '1', '1', '1'], ['3', '3', '3', '3', '2', '1'], ['3', '7', '3', '1', '1', '2'], ['0', '3', '3', '2', '2', '2'], ['3', '7', '3', '3', '2', '1'], ['3', '7', '3', '1', '2', '2'], ['0', '7', '4', '2', '2', '2'], ['3', '2', '3', '3', '3', '1'], ['3', '7', '3', '3', '1', '1'], ['3', '7', '3', '1', '0', '1'], ['0', '7', '3', '2', '2', '2'], ['3', '2', '3', '3', '3', '1'], ['3', '7', '5', '3', '1', '1'], ['3', '7', '3', '2', '3', '1'], ['3', '7', '3', '1', '2', '2'], ['3', '3', '3', '2', '3', '1'], ['3', '7', '3', '2', '2', '0'], ['3', '3', '3', '3', '3', '1'], ['3', '1', '3', '2', '2', '0'], ['3', '7', '1', '1', '3', '2'], ['3', '8', '3', '3', '2', '1'], ['3', '7', '3', '1', '2', '2'], ['3', '3', '3', '2', '1', '2'], ['3', '7', '3', '2', '2', '0'], ['3', '7', '3', '3', '3', '1'], ['3', '7', '3', '1', '2', '2'], ['3', '7', '3', '2', '3', '2'], ['2', '7', '3', '1', '2', '0'], ['1', '3', '0', '2', '1', '1'], ['3', '7', '3', '2', '1', '0'], ['3', '3', '3', '3', '2', '1'], ['3', '7', '3', '2', '1', '0'], ['3', '3', '3', '3', '2', '1'], ['3', '2', '3', '2', '1', '0'], ['3', '4', '3', '2', '1', '1'], ['2', '7', '3', '2', '3', '2'], ['3', '3', '3', '1', '2', '1'], ['3', '7', '3', '2', '1', '0'], ['3', '7', '3', '1', '2', '1'], ['3', '7', '3', '2', '3', '2'], ['1', '7', '3', '1', '2', '2'], ['3', '7', '3', '2', '1', '2'], ['3', '3', '3', '2', '2', '2'], ['3', '7', '3', '2', '2', '0'], ['3', '3', '3', '2', '1', '1'], ['3', '7', '3', '2', '2', '0'], ['3', '3', '3', '2', '2', '1'], ['3', '7', '3', '2', '2', '0'], ['3', '7', '3', '2', '1', '1'], ['3', '7', '3', '2', '2', '2'], ['1', '4', '3', '2', '3', '2'], ['3', '7', '3', '2', '2', '1'], ['3', '3', '3', '1', '1', '2'], ['3', '7', '3', '2', '2', '0'], ['3', '3', '3', '2', '1', '1'], ['3', '7', '3', '1', '2', '0'], ['3', '3', '3', '2', '1', '1'], ['3', '7', '3', '3', '2', '0'], ['1', '7', '3', '2', '3', '2'], ['1', '7', '3', '1', '2', '2'], ['0', '7', '3', '2', '1', '2'], ['1', '3', '3', '2', '2', '1'], ['3', '7', '3', '2', '2', '0'], ['3', '3', '3', '2', '3', '1'], ['3', '7', '3', '2', '2', '0'], ['3', '3', '3', '2', '1', '1'], ['3', '7', '3', '2', '2', '0'], ['3', '3', '3', '2', '1', '1'], ['3', '7', '0', '2', '2', '0'], ['3', '7', '3', '2', '2', '1'], ['0', '7', '3', '1', '3', '1'], ['1', '2', '3', '3', '2', '2'], ['3', '4', '3', '2', '2', '1'], ['3', '7', '1', '2', '2', '1'], ['3', '7', '3', '2', '1', '2'], ['1', '7', '5', '2', '2', '1'], ['3', '3', '3', '2', '3', '1'], ['3', '7', '0', '2', '2', '0'], ['3', '7', '3', '2', '2', '1'], ['0', '2', '5', '1', '3', '2'], ['3', '7', '3', '2', '2', '1'], ['0', '2', '5', '3', '3', '2'], ['3', '4', '3', '2', '2', '1'], ['3', '7', '1', '2', '3', '1'], ['3', '7', '3', '2', '3', '2'], ['1', '4', '1', '1', '3', '2'], ['3', '3', '3', '0', '2', '0'], ['3', '7', '2', '2', '2', '0'], ['3', '4', '3', '1', '2', '1'], ['2', '7', '1', '3', '1', '0'], ['3', '2', '5', '2', '2', '2'], ['0', '7', '3', '2', '2', '1'], ['1', '1', '5', '3', '1', '1'], ['3', '7', '1', '2', '2', '0'], ['3', '7', '3', '2', '2', '2'], ['3', '7', '5', '1', '3', '2'], ['0', '2', '3', '3', '2', '2'], ['3', '7', '3', '2', '2', '1'], ['0', '7', '3', '2', '2', '2'], ['1', '2', '1', '2', '1', '1'], ['3', '7', '3', '2', '2', '0'], ['3', '7', '3', '2', '3', '2'], ['1', '7', '3', '1', '2', '2'], ['0', '2', '1', '3', '1', '0'], ['3', '7', '3', '2', '2', '0'], ['1', '7', '1', '2', '3', '2'], ['3', '7', '5', '2', '2', '2'], ['3', '2', '1', '2', '3', '2'], ['3', '7', '3', '3', '2', '0'], ['0', '7', '3', '2', '3', '2'], ['1', '2', '5', '2', '2', '2'], ['0', '7', '3', '3', '2', '0'], ['1', '8', '3', '2', '1', '2'], ['3', '2', '3', '2', '2', '2'], ['2', '7', '3', '3', '2', '0'], ['1', '7', '1', '2', '1', '1'], ['3', '7', '3', '2', '2', '2'], ['0', '2', '3', '2', '3', '2'], ['3', '4', '3', '2', '2', '0'], ['1', '7', '1', '2', '1', '1'], ['3', '7', '3', '3', '2', '2'], ['3', '2', '1', '2', '3', '2'], ['3', '7', '3', '2', '2', '0'], ['1', '2', '3', '2', '3', '2'], ['0', '4', '3', '2', '2', '2'], ['1', '7', '3', '2', '3', '1'], ['1', '2', '3', '2', '3', '2'], ['3', '7', '3', '2', '2', '2'], ['0', '2', '3', '2', '3', '2'], ['3', '7', '3', '2', '2', '0'], ['0', '2', '3', '2', '3', '2'], ['3', '7', '3', '2', '2', '0'], ['0', '0', '3', '2', '3', '2'], ['1', '2', '3', '2', '1', '2'], ['3', '7', '3', '2', '2', '0'], ['0', '2', '3', '2', '3', '2'], ['3', '7', '3', '2', '2', '0'], ['0', '2', '1', '2', '3', '2'], ['3', '7', '3', '2', '2', '0'], ['0', '2', '1', '2', '3', '2'], ['3', '7', '3', '2', '2', '0'], ['0', '2', '1', '2', '3', '2'], ['3', '7', '3', '2', '2', '0'], ['0', '2', '1', '2', '3', '2'], ['3', '7', '3', '3', '2', '0'], ['3', '2', '1', '2', '3', '2'], ['3', '7', '3', '3', '0', '1'], ['0', '7', '3', '2', '3', '2'], ['1', '2', '2', '2', '2', '2'], ['3', '7', '1', '2', '2', '2'], ['3', '2', '4', '0', '3', '1'], ['2', '7', '1', '2', '3', '2'], ['3', '7', '5', '2', '1', '0'], ['0', '2', '1', '2', '3', '2'], ['3', '7', '4', '3', '2', '0'], ['0', '2', '4', '2', '3', '2'], ['3', '7', '1', '2', '2', '1'], ['2', '2', '4', '3', '3', '2'], ['1', '7', '1', '3', '3', '2'], ['2', '8', '4', '3', '3', '1'], ['0', '7', '5', '2', '1', '0'], ['1', '7', '3', '2', '3', '2'], ['0', '2', '3', '2', '3', '2'], ['1', '7', '1', '2', '2', '2'], ['3', '2', '4', '3', '3', '1'], ['0', '7', '4', '2', '3', '2'], ['3', '2', '3', '0', '1', '2'], ['2', '7', '1', '2', '1', '2'], ['3', '7', '5', '2', '1', '2'], ['0', '2', '1', '2', '3', '2'], ['3', '7', '4', '3', '2', '2'], ['3', '2', '1', '2', '3', '2'], ['3', '7', '4', '3', '1', '1'], ['2', '2', '1', '1', '2', '2'], ['3', '6', '2', '3', '3', '2'], ['2', '2', '4', '3', '3', '1'], ['3', '7', '1', '3', '3', '1'], ['2', '2', '4', '3', '3', '0'], ['3', '7', '1', '3', '3', '1'], ['3', '2', '4', '3', '3', '0'], ['3', '7', '4', '1', '2', '1'], ['0', '2', '3', '3', '3', '0'], ['1', '7', '1', '2', '2', '0'], ['3', '2', '4', '2', '1', '1'], ['2', '7', '4', '3', '3', '2'], ['1', '7', '5', '3', '2', '1'], ['2', '1', '6', '2', '3', '1'], ['3', '3', '3', '2', '2', '0'], ['3', '7', '4', '3', '3', '2'], ['2', '7', '3', '1', '3', '1'], ['0', '3', '0', '3', '1', '1'], ['3', '7', '4', '3', '2', '2'], ['3', '7', '3', '1', '1', '2'], ['2', '2', '2', '3', '3', '0'], ['3', '7', '1', '2', '2', '2'], ['3', '2', '5', '3', '3', '0'], ['3', '7', '4', '3', '3', '2'], ['3', '7', '3', '1', '3', '2'], ['2', '2', '0', '3', '1', '0'], ['3', '5', '5', '0', '2', '0'], ['2', '7', '4', '3', '3', '1'], ['1', '7', '5', '3', '2', '2'], ['0', '2', '4', '1', '3', '2'], ['3', '2', '3', '3', '3', '0'], ['2', '7', '4', '2', '2', '2'], ['1', '2', '5', '3', '0', '2'], ['3', '0', '4', '2', '2', '2'], ['2', '2', '4', '3', '3', '0'], ['3', '7', '5', '3', '1', '2'], ['0', '2', '4', '1', '3', '1'], ['1', '2', '3', '3', '3', '0'], ['2', '7', '4', '1', '2', '2'], ['3', '2', '5', '3', '1', '1'], ['3', '7', '4', '3', '2', '2'], ['2', '2', '3', '2', '3', '1'], ['3', '7', '0', '3', '2', '2'], ['3', '7', '4', '2', '3', '0'], ['2', '2', '3', '1', '3', '2'], ['1', '3', '1', '0', '2', '1'], ['3', '7', '6', '2', '1', '0'], ['3', '3', '3', '1', '3', '2'], ['2', '2', '4', '3', '3', '1'], ['3', '7', '1', '3', '3', '2'], ['3', '2', '6', '3', '3', '0'], ['2', '7', '4', '1', '3', '2'], ['3', '2', '5', '3', '2', '1'], ['3', '7', '5', '3', '3', '2'], ['0', '2', '4', '2', '3', '1'], ['1', '7', '1', '1', '0', '0'], ['2', '4', '6', '3', '2', '0'], ['1', '7', '5', '2', '1', '2'], ['0', '2', '4', '1', '3', '1'], ['2', '2', '1', '3', '0', '0'], ['0', '7', '5', '2', '2', '1'], ['1', '2', '5', '2', '1', '2'], ['3', '7', '4', '3', '3', '2'], ['2', '7', '3', '2', '3', '1'], ['3', '2', '0', '0', '1', '2'], ['2', '8', '0', '3', '3', '2'], ['3', '7', '3', '2', '2', '2'], ['2', '2', '4', '2', '3', '1'], ['3', '2', '1', '3', '3', '2'], ['3', '7', '4', '2', '1', '1'], ['2', '2', '3', '1', '3', '2'], ['3', '1', '1', '3', '1', '0'], ['2', '7', '4', '1', '3', '0'], ['3', '2', '3', '3', '2', '2'], ['0', '7', '4', '2', '3', '1'], ['3', '7', '1', '1', '3', '2'], ['3', '2', '6', '3', '2', '0'], ['3', '7', '1', '1', '3', '1'], ['3', '2', '6', '3', '2', '0'], ['2', '7', '1', '2', '1', '1'], ['3', '4', '5', '2', '1', '2'], ['3', '2', '1', '3', '1', '2'], ['3', '7', '4', '2', '3', '1'], ['2', '2', '4', '1', '2', '0'], ['1', '1', '3', '3', '3', '1'], ['2', '7', '4', '1', '1', '0'], ['3', '2', '5', '3', '2', '1'], ['2', '7', '1', '3', '3', '2'], ['3', '2', '5', '2', '1', '2'], ['2', '7', '1', '3', '2', '2'], ['3', '2', '5', '2', '1', '1'], ['2', '1', '1', '2', '3', '2'], ['3', '7', '4', '0', '2', '0'], ['3', '7', '3', '2', '3', '1'], ['2', '2', '4', '3', '3', '1'], ['3', '7', '1', '1', '2', '2'], ['0', '2', '1', '3', '3', '0'], ['3', '7', '5', '3', '2', '0'], ['2', '2', '1', '2', '3', '0'], ['3', '8', '5', '2', '1', '0'], ['2', '2', '1', '1', '3', '0'], ['3', '7', '6', '3', '3', '2'], ['0', '2', '4', '2', '3', '2'], ['1', '7', '1', '3', '2', '1'], ['3', '2', '4', '2', '3', '0'], ['2', '7', '1', '1', '3', '0'], ['3', '2', '0', '3', '3', '0'], ['3', '7', '4', '3', '2', '2'], ['2', '2', '5', '2', '3', '2'], ['3', '7', '1', '3', '2', '0'], ['3', '2', '6', '2', '3', '0'], ['2', '7', '4', '1', '3', '2'], ['3', '2', '5', '3', '2', '1'], ['2', '7', '4', '2', '3', '2'], ['1', '2', '4', '3', '1', '2'], ['2', '7', '1', '1', '3', '2'], ['3', '7', '2', '3', '3', '2'], ['2', '2', '4', '2', '2', '2'], ['3', '7', '1', '0', '3', '1'], ['3', '2', '4', '3', '1', '0'], ['2', '7', '4', '1', '3', '2'], ['3', '2', '5', '3', '3', '1'], ['3', '7', '4', '2', '3', '2'], ['3', '2', '4', '1', '2', '2'], ['0', '2', '1', '3', '3', '2'], ['3', '7', '1', '1', '1', '0'], ['3', '2', '6', '3', '2', '0'], ['2', '7', '4', '2', '3', '2'], ['1', '2', '4', '3', '1', '2'], ['2', '7', '4', '2', '3', '2'], ['1', '2', '4', '3', '1', '2'], ['2', '7', '4', '1', '3', '2'], ['3', '2', '5', '3', '3', '1'], ['3', '7', '4', '1', '2', '2'], ['0', '7', '3', '3', '3', '0'], ['1', '2', '4', '1', '1', '1'], ['0', '2', '1', '2', '3', '0'], ['3', '7', '5', '3', '2', '0'], ['2', '2', '4', '2', '3', '0'], ['3', '7', '5', '1', '3', '2'], ['0', '2', '2', '3', '3', '0'], ['1', '4', '5', '2', '2', '0'], ['3', '7', '1', '3', '3', '2'], ['2', '2', '5', '0', '1', '2'], ['3', '7', '0', '1', '1', '1'], ['0', '7', '2', '3', '3', '1'], ['1', '2', '5', '1', '2', '2'], ['2', '4', '1', '2', '3', '0'], ['3', '7', '6', '3', '2', '2'], ['2', '2', '1', '2', '1', '2'], ['3', '7', '5', '3', '2', '0'], ['2', '2', '1', '1', '3', '2'], ['3', '1', '6', '3', '3', '2'], ['2', '2', '1', '4', '2', '2'], ['3', '7', '5', '3', '3', '2'], ['2', '2', '5', '1', '3', '2'], ['1', '1', '1', '3', '1', '2'], ['2', '7', '5', '1', '2', '2'], ['3', '2', '0', '3', '2', '2'], ['3', '5', '1', '1', '2', '1'], ['3', '2', '2', '3', '2', '0'], ['0', '7', '1', '1', '3', '2'], ['3', '2', '5', '3', '2', '0'], ['3', '7', '4', '1', '1', '1'], ['0', '2', '3', '3', '3', '0'], ['1', '4', '4', '1', '3', '2'], ['2', '7', '1', '2', '1', '0'], ['3', '2', '5', '3', '2', '2'], ['3', '7', '5', '1', '3', '0'], ['0', '2', '0', '3', '3', '0'], ['1', '7', '1', '2', '2', '0'], ['3', '2', '0', '3', '3', '0'], ['3', '7', '1', '1', '3', '0'], ['3', '2', '6', '3', '2', '0'], ['3', '7', '4', '1', '3', '0'], ['0', '2', '3', '3', '3', '0'], ['1', '4', '4', '2', '2', '0'], ['3', '7', '1', '3', '3', '2'], ['2', '2', '6', '1', '3', '2'], ['3', '1', '1', '3', '3', '2'], ['2', '7', '5', '1', '2', '0'], ['3', '2', '0', '3', '2', '2'], ['3', '5', '1', '1', '3', '0'], ['3', '2', '2', '2', '2', '0'], ['1', '5', '1', '4', '2', '2'], ['1', '7', '4', '1', '2', '0'], ['0', '2', '2', '3', '2', '0'], ['1', '4', '5', '2', '2', '0'], ['2', '7', '4', '3', '2', '2'], ['1', '2', '5', '0', '2', '0'], ['0', '4', '4', '2', '2', '0'], ['1', '5', '1', '3', '2', '2'], ['1', '2', '4', '2', '2', '0'], ['0', '7', '4', '1', '2', '1'], ['0', '2', '2', '3', '2', '0'], ['1', '4', '4', '4', '2', '0'], ['1', '7', '5', '2', '2', '2'], ['3', '2', '4', '3', '0', '2'], ['0', '7', '3', '2', '2', '2'], ['1', '3', '4', '1', '2', '1'], ['0', '5', '1', '2', '2', '0'], ['1', '2', '4', '3', '2', '1'], ['0', '7', '3', '2', '2', '2'], ['1', '3', '4', '1', '2', '1'], ['0', '5', '2', '2', '2', '0'], ['1', '6', '4', '0', '2', '2'], ['1', '4', '2', '2', '2', '0'], ['0', '6', '1', '3', '2', '0'], ['1', '6', '6', '0', '2', '2'], ['0', '4', '2', '1', '3', '0'], ['1', '3', '1', '2', '2', '2'], ['2', '5', '4', '3', '2', '0'], ['1', '7', '5', '0', '2', '2'], ['2', '2', '4', '2', '2', '1'], ['1', '6', '1', '1', '2', '2'], ['1', '7', '2', '2', '2', '0'], ['1', '2', '4', '3', '3', '2'], ['0', '7', '3', '2', '2', '2'], ['1', '3', '4', '1', '2', '2'], ['0', '5', '2', '4', '2', '0'], ['1', '3', '4', '1', '2', '2'], ['0', '5', '2', '2', '2', '0'], ['1', '6', '4', '3', '2', '2'], ['2', '7', '3', '1', '2', '2'], ['0', '3', '2', '4', '2', '2'], ['1', '7', '1', '2', '2', '0'], ['3', '2', '4', '3', '2', '0'], ['0', '0', '3', '2', '2', '2'], ['1', '1', '1', '1', '2', '2'], ['2', '5', '2', '0', '2', '0'], ['0', '7', '4', '2', '2', '1'], ['1', '4', '4', '1', '2', '2'], ['0', '5', '1', '0', '2', '0'], ['1', '7', '2', '2', '1', '2'], ['2', '2', '4', '3', '2', '2'], ['1', '7', '5', '1', '2', '1'], ['0', '2', '2', '2', '2', '0'], ['1', '0', '5', '1', '2', '0'], ['2', '7', '4', '4', '3', '2'], ['1', '5', '3', '3', '2', '2'], ['2', '4', '4', '1', '2', '1'], ['1', '3', '1', '3', '2', '1'], ['1', '5', '4', '2', '2', '1'], ['1', '6', '6', '3', '2', '1'], ['2', '4', '3', '3', '3', '2'], ['1', '7', '3', '4', '2', '0'], ['1', '6', '4', '2', '1', '1'], ['1', '5', '4', '3', '2', '1'], ['2', '7', '3', '0', '2', '2'], ['3', '1', '4', '1', '3', '1'], ['0', '5', '2', '3', '2', '0'], ['1', '2', '3', '2', '2', '2'], ['2', '6', '4', '1', '2', '0'], ['1', '3', '3', '3', '3', '1'], ['0', '7', '4', '1', '2', '2'], ['1', '2', '2', '3', '2', '1'], ['0', '6', '1', '1', '3', '1'], ['3', '7', '2', '3', '2', '0'], ['2', '2', '3', '2', '3', '2'], ['3', '6', '4', '3', '1', '2'], ['1', '4', '3', '4', '2', '2'], ['3', '6', '1', '2', '1', '2'], ['1', '5', '4', '2', '2', '0'], ['1', '6', '4', '3', '3', '1'], ['1', '5', '3', '4', '2', '2'], ['1', '6', '4', '2', '2', '1'], ['2', '5', '3', '3', '2', '1'], ['1', '1', '1', '2', '3', '2'], ['1', '5', '4', '0', '2', '1'], ['1', '3', '3', '2', '2', '2'], ['2', '7', '1', '4', '3', '1'], ['1', '4', '6', '3', '2', '2'], ['1', '3', '3', '2', '1', '2'], ['1', '2', '4', '4', '2', '2'], ['1', '3', '3', '0', '2', '2'], ['1', '2', '1', '2', '1', '2'], ['1', '5', '0', '4', '2', '0'], ['1', '6', '6', '0', '3', '2'], ['0', '3', '2', '2', '3', '2'], ['2', '7', '1', '4', '2', '2'], ['1', '3', '6', '3', '1', '2'], ['1', '2', '4', '1', '2', '2'], ['1', '3', '3', '2', '2', '1'], ['1', '2', '1', '4', '3', '2'], ['3', '5', '2', '2', '2', '0'], ['2', '1', '4', '1', '3', '2'], ['0', '2', '2', '4', '2', '0'], ['1', '3', '1', '0', '3', '2'], ['2', '7', '2', '2', '2', '0'], ['1', '6', '1', '4', '2', '2'], ['1', '3', '6', '3', '1', '0'], ['1', '2', '4', '1', '2', '2'], ['1', '3', '3', '2', '2', '1'], ['1', '2', '1', '4', '3', '2'], ['1', '3', '4', '3', '2', '0'], ['1', '7', '3', '4', '3', '1'], ['3', '5', '4', '3', '3', '2'], ['1', '3', '3', '0', '2', '2'], ['3', '7', '1', '2', '1', '1'], ['1', '5', '4', '0', '2', '0'], ['1', '3', '1', '2', '3', '1'], ['1', '7', '4', '1', '2', '0'], ['0', '3', '2', '3', '3', '1'], ['0', '2', '3', '1', '2', '2'], ['1', '3', '3', '2', '1', '1'], ['1', '6', '1', '4', '2', '2'], ['1', '3', '6', '3', '1', '0'], ['1', '2', '4', '1', '2', '2'], ['1', '3', '3', '2', '1', '1'], ['1', '2', '1', '4', '2', '2'], ['1', '3', '4', '2', '1', '0'], ['1', '6', '3', '4', '2', '1'], ['1', '6', '3', '3', '3', '1'], ['2', '4', '3', '1', '2', '2'], ['1', '3', '2', '3', '3', '1'], ['0', '7', '3', '4', '2', '2'], ['1', '3', '3', '3', '1', '1'], ['1', '7', '4', '4', '2', '2'], ['1', '3', '3', '2', '3', '1'], ['1', '2', '1', '4', '2', '0'], ['1', '3', '4', '3', '1', '2'], ['1', '7', '1', '0', '2', '1'], ['1', '7', '2', '2', '1', '0'], ['1', '2', '1', '3', '2', '2'], ['1', '3', '4', '0', '3', '1'], ['1', '7', '2', '2', '2', '1'], ['1', '2', '1', '3', '3', '1'], ['1', '5', '4', '0', '1', '0'], ['1', '3', '4', '0', '2', '0'], ['1', '7', '2', '3', '3', '1'], ['1', '2', '3', '2', '2', '2'], ['1', '3', '4', '1', '3', '1'], ['0', '5', '2', '4', '0', '2'], ['1', '3', '5', '0', '2', '2'], ['0', '7', '2', '2', '1', '1'], ['1', '3', '1', '3', '2', '0'], ['1', '7', '6', '4', '1', '0'], ['3', '3', '4', '0', '1', '2'], ['1', '7', '2', '3', '2', '1'], ['0', '2', '3', '1', '3', '1'], ['1', '3', '3', '2', '2', '1'], ['3', '5', '3', '4', '3', '0'], ['1', '6', '6', '3', '2', '2'], ['0', '3', '3', '4', '3', '1'], ['1', '7', '6', '2', '2', '2'], ['1', '3', '1', '3', '1', '1'], ['1', '7', '6', '4', '2', '0'], ['1', '3', '1', '3', '1', '1'], ['1', '6', '6', '2', '2', '0'], ['1', '3', '1', '3', '1', '1'], ['2', '7', '6', '2', '2', '2'], ['3', '8', '1', '0', '3', '2'], ['3', '2', '2', '1', '2', '0'], ['1', '5', '1', '2', '3', '1'], ['1', '2', '4', '3', '2', '1'], ['0', '3', '3', '4', '3', '1'], ['1', '7', '6', '1', '2', '2'], ['1', '3', '2', '3', '3', '1'], ['1', '7', '2', '2', '2', '0'], ['2', '3', '3', '4', '3', '1'], ['3', '7', '1', '1', '2', '1'], ['0', '2', '3', '0', '3', '1'], ['1', '3', '1', '2', '2', '1'], ['1', '5', '6', '3', '3', '0'], ['1', '4', '1', '0', '2', '2'], ['1', '7', '2', '3', '3', '1'], ['1', '2', '3', '1', '2', '2'], ['1', '5', '2', '2', '3', '1'], ['1', '6', '1', '3', '2', '1'], ['1', '2', '3', '2', '3', '1'], ['1', '6', '4', '1', '2', '2'], ['0', '3', '2', '3', '3', '1'], ['0', '2', '4', '2', '2', '2'], ['1', '3', '4', '0', '1', '2'], ['1', '7', '3', '2', '2', '1'], ['1', '3', '3', '3', '1', '1'], ['1', '7', '4', '1', '2', '1'], ['0', '3', '2', '3', '3', '1'], ['1', '2', '4', '2', '2', '1'], ['1', '6', '3', '0', '3', '0'], ['1', '3', '2', '2', '2', '2'], ['1', '5', '1', '4', '3', '0'], ['3', '6', '4', '3', '2', '1'], ['1', '7', '3', '2', '1', '1'], ['1', '3', '4', '4', '2', '1'], ['1', '7', '1', '3', '1', '1'], ['2', '5', '6', '0', '2', '2'], ['1', '8', '2', '2', '1', '1'], ['3', '3', '1', '4', '2', '2'], ['1', '7', '6', '3', '3', '0'], ['1', '3', '1', '4', '2', '1'], ['1', '7', '6', '3', '3', '2'], ['1', '3', '1', '4', '1', '1'], ['1', '7', '6', '3', '2', '2'], ['1', '3', '3', '4', '3', '1'], ['0', '7', '1', '2', '2', '2'], ['1', '3', '6', '3', '1', '1'], ['0', '7', '1', '2', '2', '1'], ['1', '2', '6', '3', '1', '1'], ['1', '3', '1', '2', '2', '1'], ['1', '5', '6', '3', '1', '1'], ['2', '6', '3', '4', '2', '1'], ['1', '2', '1', '3', '1', '1'], ['1', '3', '6', '4', '2', '1'], ['1', '6', '1', '3', '1', '2'], ['2', '5', '6', '0', '2', '2'], ['1', '3', '2', '3', '1', '1'], ['2', '7', '3', '4', '2', '1'], ['3', '3', '3', '3', '1', '1'], ['0', '7', '0', '2', '2', '1'], ['3', '3', '1', '1', '1', '0'], ['1', '5', '6', '0', '2', '0'], ['1', '3', '3', '2', '3', '2'], ['1', '5', '4', '4', '2', '1'], ['1', '3', '3', '3', '1', '1'], ['1', '5', '1', '2', '2', '1'], ['1', '6', '6', '2', '1', '1'], ['1', '3', '3', '4', '2', '1'], ['0', '7', '1', '3', '1', '1'], ['1', '6', '6', '0', '2', '2'], ['1', '3', '2', '3', '1', '1'], ['1', '7', '1', '2', '2', '1'], ['1', '3', '6', '3', '3', '1'], ['1', '6', '3', '0', '2', '1'], ['0', '3', '2', '3', '1', '1'], ['1', '5', '1', '2', '2', '0'], ['1', '6', '3', '3', '1', '1'], ['1', '4', '6', '1', '2', '1'], ['1', '3', '1', '2', '1', '1'], ['1', '5', '6', '1', '2', '0'], ['0', '3', '3', '3', '3', '1'], ['0', '7', '3', '1', '2', '1'], ['0', '2', '2', '4', '1', '1'], ['1', '3', '1', '2', '2', '1'], ['1', '5', '6', '3', '3', '2'], ['2', '3', '3', '2', '2', '1'], ['0', '7', '1', '4', '1', '2'], ['1', '3', '6', '3', '2', '2'], ['2', '7', '1', '2', '1', '0'], ['1', '2', '6', '3', '2', '2'], ['1', '3', '1', '4', '1', '1'], ['1', '7', '6', '0', '2', '2'], ['0', '4', '2', '3', '1', '1'], ['1', '5', '1', '2', '2', '0'], ['1', '6', '3', '0', '3', '2'], ['0', '2', '4', '2', '2', '1'], ['1', '7', '3', '4', '1', '2'], ['0', '7', '6', '2', '1', '1'], ['1', '3', '1', '4', '2', '1'], ['1', '7', '6', '3', '1', '0'], ['2', '3', '3', '4', '2', '1'], ['3', '7', '1', '3', '1', '1'], ['1', '3', '6', '2', '2', '2'], ['1', '6', '3', '4', '1', '1'], ['0', '7', '6', '3', '2', '1'], ['1', '2', '3', '2', '1', '1'], ['1', '6', '1', '4', '2', '1'], ['1', '3', '1', '3', '1', '0'], ['1', '6', '6', '4', '2', '1'], ['1', '3', '3', '3', '1', '2'], ['0', '7', '3', '1', '2', '1'], ['1', '5', '2', '3', '1', '1'], ['1', '3', '3', '2', '2', '1'], ['3', '5', '1', '4', '3', '1'], ['2', '6', '4', '3', '2', '1'], ['1', '2', '3', '2', '1', '1'], ['1', '6', '1', '4', '2', '1'], ['1', '3', '6', '2', '1', '0'], ['0', '5', '1', '4', '2', '2'], ['1', '3', '6', '0', '1', '0'], ['1', '7', '1', '2', '2', '1'], ['1', '2', '6', '4', '3', '1'], ['0', '6', '1', '0', '2', '1'], ['1', '4', '2', '2', '3', '1'], ['1', '8', '1', '4', '2', '2'], ['1', '3', '6', '2', '1', '0'], ['1', '5', '1', '4', '2', '2'], ['1', '3', '6', '2', '3', '2'], ['1', '5', '4', '4', '2', '1'], ['1', '3', '3', '3', '1', '1'], ['0', '7', '3', '2', '2', '1'], ['1', '3', '3', '3', '1', '1'], ['0', '7', '3', '2', '2', '1'], ['1', '3', '3', '3', '1', '1'], ['1', '7', '3', '2', '2', '1'], ['1', '3', '3', '3', '1', '1'], ['1', '7', '4', '2', '2', '1'], ['1', '3', '3', '3', '3', '1'], ['1', '7', '3', '2', '2', '1'], ['1', '3', '3', '3', '3', '1'], ['1', '7', '3', '2', '2', '1'], ['1', '3', '3', '3', '3', '1'], ['0', '7', '3', '2', '2', '1'], ['1', '3', '3', '3', '1', '1'], ['1', '7', '3', '2', '2', '1'], ['1', '3', '3', '3', '3', '1'], ['1', '7', '3', '2', '2', '0'], ['2', '3', '3', '4', '1', '1'], ['3', '7', '1', '3', '2', '2'], ['0', '7', '3', '2', '3', '1'], ['1', '2', '1', '4', '2', '1'], ['1', '5', '2', '3', '1', '1'], ['1', '3', '6', '2', '2', '1'], ['0', '6', '1', '4', '3', '0'], ['1', '6', '6', '3', '2', '0'], ['1', '2', '3', '2', '1', '1'], ['1', '3', '1', '4', '2', '1'], ['1', '1', '6', '3', '1', '2'], ['1', '5', '3', '2', '2', '1'], ['1', '3', '3', '4', '1', '2'], ['3', '7', '1', '2', '2', '1'], ['1', '2', '6', '4', '3', '1'], ['1', '6', '1', '0', '2', '1'], ['1', '3', '2', '2', '1', '1'], ['1', '5', '1', '4', '2', '1'], ['1', '3', '6', '2', '3', '2'], ['1', '5', '1', '4', '2', '0'], ['1', '6', '6', '2', '1', '0'], ['1', '3', '1', '4', '2', '2'], ['1', '7', '6', '3', '1', '2'], ['1', '2', '3', '2', '2', '1'], ['1', '3', '1', '4', '3', '2'], ['1', '6', '6', '0', '2', '0'], ['1', '0', '3', '3', '3', '1'], ['2', '3', '6', '2', '2', '1'], ['1', '6', '1', '4', '1', '1'], ['1', '3', '6', '3', '2', '2'], ['0', '6', '3', '2', '1', '1'], ['1', '3', '1', '4', '2', '1'], ['3', '7', '6', '3', '1', '2'], ['1', '2', '3', '1', '2', '0'], ['0', '3', '3', '4', '0', '1'], ['1', '2', '6', '1', '2', '2'], ['2', '3', '3', '2', '3', '1'], ['3', '7', '6', '3', '2', '1'], ['2', '2', '3', '2', '1', '1'], ['1', '6', '1', '3', '0', '0'], ['1', '7', '3', '2', '2', '0'], ['1', '2', '3', '4', '1', '1'], ['3', '6', '6', '0', '2', '1'], ['1', '3', '2', '3', '1', '1'], ['0', '7', '3', '2', '2', '1'], ['1', '3', '3', '3', '1', '1'], ['1', '7', '3', '2', '2', '1']]"
   ]
  },
  {
   "cell_type": "code",
   "execution_count": 41,
   "metadata": {},
   "outputs": [],
   "source": [
    "# action_list = [['1', '1', '6', '3', '2', '0'], ['1', '7', '6', '3', '3', '0'], ['1', '7', '6', '3', '3', '0'], ['1', '4', '6', '3', '1', '0'], ['3', '7', '2', '4', '3', '0'], ['1', '4', '3', '2', '1', '0'], ['3', '2', '1', '3', '2', '1'], ['2', '2', '3', '4', '2', '1'], ['2', '2', '1', '2', '1', '1'], ['3', '2', '4', '2', '3', '1'], ['3', '3', '1', '2', '2', '1'], ['2', '4', '4', '0', '2', '2'], ['3', '3', '0', '2', '2', '0'], ['3', '4', '4', '0', '2', '1'], ['3', '3', '4', '2', '2', '1'], ['2', '4', '4', '0', '2', '2'], ['3', '3', '1', '0', '2', '1'], ['1', '4', '4', '2', '1', '0'], ['3', '3', '1', '0', '2', '2'], ['3', '4', '4', '2', '1', '0'], ['3', '3', '1', '2', '2', '2'], ['3', '8', '4', '4', '3', '1'], ['3', '3', '1', '2', '2', '1'], ['3', '8', '1', '2', '1', '1'], ['1', '5', '1', '2', '0', '1'], ['3', '3', '1', '1', '2', '1'], ['3', '8', '4', '0', '1', '0'], ['3', '3', '1', '0', '2', '1'], ['1', '5', '4', '2', '3', '1'], ['3', '3', '1', '0', '2', '0'], ['1', '8', '4', '0', '1', '2'], ['3', '3', '0', '3', '2', '0'], ['1', '5', '4', '0', '3', '1'], ['3', '3', '6', '0', '2', '0'], ['1', '5', '1', '0', '1', '1'], ['2', '3', '6', '0', '2', '1'], ['2', '5', '4', '0', '1', '2'], ['3', '3', '3', '2', '2', '1'], ['2', '8', '4', '3', '1', '0'], ['3', '2', '1', '2', '2', '1'], ['3', '2', '1', '2', '1', '0'], ['3', '3', '1', '1', '1', '1'], ['3', '3', '3', '0', '2', '2'], ['3', '8', '4', '0', '1', '0'], ['3', '3', '4', '1', '2', '1'], ['3', '2', '1', '2', '3', '1'], ['3', '3', '3', '1', '2', '0'], ['1', '8', '4', '1', '1', '2'], ['3', '2', '3', '0', '3', '0'], ['1', '8', '4', '2', '1', '2'], ['3', '3', '3', '3', '2', '0'], ['1', '8', '1', '1', '1', '0'], ['3', '3', '1', '3', '2', '0'], ['3', '5', '1', '2', '3', '0'], ['3', '3', '6', '0', '2', '0'], ['1', '5', '4', '2', '3', '2'], ['3', '3', '1', '0', '2', '1'], ['1', '8', '4', '2', '3', '2'], ['3', '2', '1', '2', '2', '0'], ['3', '5', '3', '0', '1', '0'], ['1', '8', '4', '2', '1', '2'], ['1', '3', '3', '1', '2', '1'], ['1', '8', '4', '2', '1', '2'], ['3', '3', '1', '2', '2', '0'], ['1', '8', '4', '2', '3', '2'], ['3', '3', '1', '2', '3', '0'], ['1', '8', '4', '2', '3', '2'], ['3', '5', '1', '1', '2', '0'], ['3', '5', '1', '2', '3', '1'], ['3', '3', '3', '0', '2', '1'], ['1', '8', '5', '0', '1', '2'], ['2', '5', '1', '2', '3', '1'], ['3', '5', '4', '0', '2', '1'], ['0', '2', '4', '2', '1', '1'], ['1', '5', '1', '2', '1', '1'], ['3', '3', '3', '3', '2', '1'], ['1', '6', '5', '1', '1', '2'], ['3', '3', '3', '3', '2', '1'], ['1', '6', '4', '4', '1', '1'], ['3', '3', '3', '1', '2', '1'], ['1', '8', '4', '3', '1', '1'], ['3', '2', '3', '1', '2', '1'], ['2', '8', '1', '3', '3', '1'], ['3', '5', '3', '1', '2', '1'], ['2', '6', '5', '3', '3', '1'], ['2', '2', '3', '4', '2', '1'], ['3', '5', '5', '2', '3', '1'], ['2', '2', '3', '4', '1', '1'], ['3', '4', '1', '3', '3', '2'], ['1', '2', '3', '4', '2', '1'], ['3', '5', '4', '2', '3', '1'], ['2', '2', '1', '3', '2', '1'], ['2', '5', '1', '4', '3', '1'], ['3', '2', '1', '4', '3', '1'], ['2', '2', '3', '0', '2', '1'], ['3', '2', '4', '4', '1', '1'], ['0', '3', '1', '1', '3', '1'], ['3', '3', '3', '2', '2', '1'], ['3', '5', '4', '2', '1', '1'], ['3', '3', '3', '2', '1', '1'], ['3', '8', '1', '3', '1', '2'], ['3', '3', '3', '1', '2', '2'], ['3', '8', '4', '2', '1', '2'], ['3', '3', '3', '2', '2', '2'], ['3', '3', '4', '3', '1', '2'], ['3', '4', '3', '0', '2', '2'], ['3', '5', '1', '3', '2', '1'], ['3', '3', '3', '2', '2', '0'], ['3', '6', '1', '3', '1', '2'], ['3', '3', '3', '1', '2', '1'], ['3', '6', '4', '3', '3', '2'], ['3', '3', '3', '2', '2', '1'], ['3', '8', '4', '2', '3', '2'], ['3', '3', '3', '2', '2', '1'], ['1', '8', '4', '2', '1', '2'], ['3', '3', '1', '2', '2', '1'], ['3', '8', '1', '2', '2', '0'], ['3', '8', '1', '1', '2', '0'], ['3', '8', '1', '0', '3', '0'], ['3', '2', '1', '2', '2', '0'], ['3', '8', '1', '2', '3', '2'], ['3', '5', '1', '0', '1', '1'], ['1', '3', '3', '2', '1', '1'], ['1', '8', '4', '2', '3', '2'], ['3', '3', '3', '0', '2', '0'], ['1', '8', '4', '2', '1', '2'], ['3', '3', '1', '2', '2', '0'], ['1', '8', '4', '0', '3', '1'], ['3', '3', '1', '0', '3', '0'], ['1', '5', '4', '2', '3', '0'], ['3', '3', '1', '0', '3', '0'], ['1', '8', '4', '2', '3', '0'], ['3', '3', '1', '3', '2', '1'], ['1', '8', '4', '0', '2', '1'], ['1', '5', '1', '2', '3', '1'], ['0', '8', '4', '0', '2', '0'], ['0', '3', '4', '0', '1', '1'], ['1', '3', '3', '0', '2', '1'], ['1', '8', '5', '2', '1', '1'], ['3', '3', '1', '2', '2', '1'], ['1', '8', '4', '2', '3', '1'], ['3', '3', '5', '2', '3', '1'], ['3', '8', '1', '2', '3', '1'], ['3', '3', '5', '2', '2', '1'], ['1', '5', '1', '2', '3', '1'], ['3', '3', '3', '2', '2', '1'], ['1', '5', '5', '1', '1', '2'], ['3', '3', '3', '2', '1', '1'], ['1', '5', '4', '1', '1', '2'], ['3', '3', '3', '4', '2', '1'], ['1', '8', '4', '2', '1', '2'], ['3', '3', '1', '4', '2', '0'], ['1', '8', '4', '0', '1', '2'], ['3', '3', '1', '3', '2', '2'], ['1', '8', '1', '2', '3', '1'], ['3', '3', '6', '0', '2', '0'], ['3', '5', '1', '2', '1', '1'], ['3', '3', '6', '1', '2', '0'], ['3', '5', '1', '2', '2', '1'], ['1', '2', '3', '3', '2', '0'], ['1', '8', '4', '0', '1', '2'], ['1', '2', '3', '3', '2', '1'], ['1', '8', '1', '2', '3', '0'], ['1', '2', '3', '4', '2', '1'], ['1', '8', '4', '2', '1', '1'], ['1', '3', '3', '3', '2', '1'], ['1', '8', '4', '2', '3', '2'], ['3', '3', '3', '0', '2', '0'], ['1', '8', '4', '2', '3', '2'], ['3', '3', '6', '0', '2', '0'], ['3', '2', '1', '1', '1', '1'], ['1', '3', '6', '2', '3', '0'], ['1', '2', '1', '2', '2', '1'], ['3', '5', '6', '2', '3', '0'], ['1', '3', '1', '2', '2', '1'], ['1', '8', '4', '1', '3', '0'], ['3', '3', '1', '2', '3', '0'], ['1', '3', '1', '2', '2', '0'], ['3', '3', '1', '2', '3', '0'], ['3', '3', '1', '2', '2', '0'], ['1', '3', '5', '0', '1', '0'], ['1', '5', '1', '2', '3', '1'], ['3', '3', '1', '0', '2', '1'], ['1', '5', '6', '0', '3', '1'], ['1', '3', '5', '4', '2', '1'], ['1', '8', '1', '2', '1', '1'], ['3', '3', '1', '1', '2', '1'], ['1', '3', '1', '2', '2', '0'], ['1', '5', '4', '2', '3', '2'], ['3', '3', '5', '0', '1', '1'], ['1', '8', '1', '2', '3', '1'], ['3', '3', '5', '1', '2', '0'], ['1', '8', '6', '4', '1', '1'], ['3', '5', '1', '4', '2', '1'], ['1', '3', '6', '1', '1', '0'], ['1', '5', '4', '4', '2', '0'], ['1', '3', '3', '3', '1', '0'], ['3', '8', '4', '1', '1', '0'], ['3', '3', '6', '4', '2', '0'], ['1', '5', '4', '4', '1', '0'], ['2', '3', '6', '3', '1', '0'], ['1', '5', '1', '4', '1', '0'], ['2', '3', '3', '3', '2', '0'], ['1', '8', '4', '1', '1', '0'], ['3', '3', '3', '3', '2', '0'], ['2', '8', '4', '1', '3', '0'], ['3', '3', '0', '3', '2', '0'], ['2', '8', '4', '2', '1', '1'], ['2', '3', '3', '3', '3', '0'], ['1', '5', '4', '0', '3', '2'], ['3', '3', '0', '2', '2', '0'], ['2', '5', '4', '4', '1', '0'], ['0', '5', '0', '1', '3', '0'], ['0', '3', '4', '2', '2', '0'], ['2', '5', '4', '4', '1', '0'], ['0', '5', '0', '1', '2', '0'], ['0', '5', '4', '1', '2', '0'], ['0', '5', '0', '2', '3', '0'], ['0', '3', '4', '1', '2', '0'], ['2', '5', '0', '4', '1', '0'], ['3', '3', '3', '2', '2', '2'], ['3', '8', '4', '1', '1', '0'], ['3', '3', '0', '1', '2', '0'], ['3', '5', '4', '1', '3', '0'], ['3', '4', '0', '1', '2', '0'], ['1', '5', '3', '2', '1', '0'], ['3', '4', '0', '1', '3', '0'], ['1', '5', '3', '2', '2', '0'], ['1', '4', '1', '1', '3', '0'], ['3', '3', '0', '2', '2', '0'], ['1', '8', '4', '4', '3', '0'], ['3', '3', '0', '1', '3', '0'], ['3', '8', '3', '4', '1', '0'], ['0', '3', '1', '2', '2', '0'], ['3', '8', '4', '4', '3', '0'], ['3', '3', '3', '4', '2', '0'], ['2', '8', '4', '1', '1', '0'], ['3', '3', '0', '4', '3', '0'], ['3', '5', '4', '4', '1', '0'], ['3', '3', '0', '4', '2', '0'], ['3', '8', '5', '2', '1', '0'], ['3', '3', '1', '4', '1', '1'], ['3', '8', '0', '4', '3', '0'], ['1', '5', '3', '1', '2', '0'], ['3', '5', '1', '2', '1', '0'], ['3', '3', '3', '2', '1', '0'], ['3', '8', '4', '2', '1', '0'], ['3', '3', '1', '3', '2', '0'], ['1', '8', '1', '2', '3', '0'], ['3', '3', '1', '0', '2', '0'], ['1', '8', '4', '0', '3', '0'], ['3', '3', '0', '0', '1', '0'], ['0', '5', '4', '2', '0', '0'], ['3', '3', '1', '0', '3', '0'], ['0', '8', '4', '0', '3', '0'], ['3', '3', '1', '3', '2', '0'], ['2', '8', '1', '2', '3', '0'], ['0', '5', '4', '0', '2', '0'], ['2', '5', '4', '2', '1', '0'], ['0', '3', '1', '2', '1', '0'], ['3', '8', '4', '4', '1', '0'], ['3', '3', '1', '3', '2', '0'], ['1', '8', '5', '2', '3', '0'], ['2', '3', '1', '0', '2', '0'], ['1', '5', '4', '1', '3', '2'], ['0', '5', '5', '0', '1', '0'], ['1', '3', '1', '2', '2', '0'], ['3', '8', '3', '4', '1', '0'], ['3', '5', '4', '2', '1', '0'], ['3', '3', '3', '1', '2', '0'], ['1', '8', '5', '2', '1', '0'], ['3', '3', '1', '3', '2', '0'], ['3', '8', '1', '2', '1', '1'], ['3', '3', '3', '1', '2', '0'], ['3', '5', '1', '2', '1', '1'], ['3', '3', '3', '3', '2', '1'], ['1', '8', '4', '2', '3', '0'], ['3', '3', '3', '1', '2', '1'], ['1', '8', '1', '2', '3', '1'], ['3', '3', '5', '1', '2', '0'], ['1', '3', '1', '3', '2', '0'], ['0', '3', '3', '1', '2', '1'], ['2', '5', '4', '0', '3', '0'], ['3', '3', '3', '2', '2', '0'], ['2', '5', '4', '2', '3', '0'], ['3', '3', '3', '2', '1', '0'], ['1', '5', '4', '2', '3', '0'], ['3', '3', '3', '4', '2', '0'], ['1', '8', '4', '1', '3', '0'], ['3', '3', '3', '2', '2', '0'], ['1', '8', '4', '2', '1', '2'], ['3', '3', '1', '0', '2', '1'], ['3', '5', '0', '0', '2', '0'], ['0', '5', '3', '0', '2', '0'], ['1', '8', '4', '1', '1', '1'], ['3', '3', '1', '0', '2', '0'], ['1', '5', '0', '0', '1', '1'], ['3', '3', '4', '0', '1', '0'], ['1', '8', '3', '4', '1', '0'], ['1', '8', '4', '2', '1', '1'], ['3', '3', '3', '0', '2', '0'], ['1', '8', '4', '1', '1', '2'], ['3', '3', '1', '0', '1', '0'], ['1', '3', '1', '2', '1', '0'], ['1', '8', '4', '0', '2', '0'], ['0', '3', '4', '3', '3', '0'], ['3', '8', '1', '2', '3', '1'], ['3', '3', '5', '1', '2', '2'], ['2', '8', '1', '1', '2', '2'], ['3', '5', '3', '1', '2', '1'], ['3', '5', '4', '3', '1', '1'], ['0', '2', '3', '1', '2', '1'], ['3', '5', '5', '3', '3', '0'], ['3', '3', '3', '2', '2', '2'], ['2', '5', '5', '2', '3', '1'], ['3', '3', '3', '0', '1', '1'], ['3', '8', '1', '2', '3', '0'], ['0', '3', '3', '3', '2', '1'], ['3', '5', '1', '1', '3', '1'], ['0', '3', '3', '3', '1', '1'], ['3', '5', '1', '2', '3', '1'], ['3', '3', '5', '3', '2', '1'], ['3', '4', '4', '1', '1', '0'], ['0', '5', '3', '3', '1', '0'], ['3', '5', '1', '2', '3', '1'], ['3', '3', '1', '2', '2', '1'], ['3', '5', '6', '4', '1', '0'], ['3', '3', '4', '2', '2', '1'], ['3', '8', '6', '4', '1', '0'], ['3', '3', '1', '3', '2', '1'], ['3', '8', '6', '4', '1', '0'], ['3', '3', '1', '4', '2', '1'], ['3', '8', '6', '4', '1', '0'], ['1', '5', '4', '1', '2', '1'], ['2', '3', '6', '4', '1', '0'], ['1', '5', '4', '4', '2', '0'], ['2', '3', '3', '2', '1', '0'], ['1', '8', '4', '0', '1', '0'], ['3', '3', '3', '0', '2', '0'], ['1', '8', '4', '0', '1', '0'], ['2', '3', '3', '2', '2', '0'], ['1', '8', '4', '0', '3', '2'], ['0', '3', '0', '0', '1', '0'], ['1', '5', '4', '3', '3', '0'], ['3', '3', '3', '2', '2', '0'], ['1', '5', '4', '0', '1', '2'], ['3', '3', '3', '4', '2', '0'], ['1', '8', '4', '0', '1', '2'], ['3', '3', '3', '1', '2', '0'], ['1', '8', '4', '2', '3', '2'], ['3', '3', '3', '1', '2', '0'], ['1', '8', '1', '2', '1', '2'], ['3', '3', '5', '1', '2', '0'], ['2', '3', '1', '2', '2', '0'], ['3', '8', '3', '1', '3', '1'], ['3', '8', '1', '2', '3', '1'], ['3', '4', '3', '1', '2', '1'], ['3', '8', '1', '2', '3', '2'], ['3', '4', '0', '1', '3', '1'], ['0', '5', '3', '1', '2', '0'], ['3', '5', '1', '3', '1', '1'], ['2', '4', '0', '2', '2', '1'], ['0', '5', '3', '3', '1', '1'], ['1', '4', '1', '2', '3', '2'], ['0', '3', '3', '4', '1', '1'], ['3', '5', '1', '2', '1', '0'], ['3', '3', '5', '2', '2', '1'], ['3', '8', '4', '4', '2', '1'], ['3', '3', '1', '2', '2', '1'], ['3', '4', '5', '0', '1', '0'], ['3', '3', '3', '3', '2', '2'], ['3', '8', '5', '0', '1', '0'], ['3', '3', '3', '2', '2', '0'], ['3', '8', '1', '2', '1', '1'], ['3', '4', '3', '1', '2', '1'], ['3', '5', '4', '3', '2', '2'], ['1', '4', '0', '2', '2', '1'], ['0', '3', '3', '3', '2', '1'], ['3', '8', '4', '2', '3', '1'], ['3', '3', '0', '1', '2', '1'], ['3', '5', '6', '1', '3', '2'], ['3', '3', '0', '1', '2', '1'], ['3', '5', '4', '4', '1', '1'], ['3', '3', '1', '2', '2', '1'], ['3', '4', '4', '1', '3', '0'], ['0', '3', '3', '3', '2', '1'], ['3', '5', '4', '2', '3', '2'], ['0', '3', '1', '2', '2', '1'], ['3', '5', '4', '4', '3', '0'], ['2', '3', '1', '1', '2', '0'], ['3', '8', '0', '4', '1', '0'], ['3', '3', '4', '0', '2', '1'], ['3', '8', '4', '4', '1', '0'], ['3', '3', '1', '2', '2', '1'], ['3', '8', '4', '4', '3', '0'], ['3', '3', '1', '2', '2', '0'], ['3', '8', '4', '4', '3', '0'], ['0', '3', '0', '4', '2', '1'], ['1', '8', '4', '4', '1', '2'], ['3', '3', '0', '1', '1', '2'], ['1', '5', '3', '4', '1', '0'], ['3', '5', '1', '2', '2', '2'], ['3', '4', '1', '2', '2', '1'], ['0', '3', '3', '3', '2', '2'], ['3', '8', '1', '2', '3', '0'], ['3', '4', '0', '1', '2', '1'], ['0', '5', '3', '3', '1', '2'], ['3', '4', '1', '2', '3', '1'], ['1', '8', '1', '3', '3', '2'], ['0', '3', '1', '1', '1', '1'], ['3', '8', '5', '3', '3', '2'], ['3', '3', '1', '1', '2', '1'], ['3', '4', '5', '3', '3', '2'], ['0', '5', '4', '2', '2', '2'], ['3', '4', '1', '3', '1', '2'], ['0', '3', '1', '4', '2', '2'], ['3', '4', '5', '3', '3', '2'], ['1', '5', '4', '4', '2', '2'], ['2', '4', '1', '2', '2', '1'], ['0', '3', '4', '3', '1', '1'], ['3', '8', '4', '4', '1', '0'], ['3', '3', '5', '3', '2', '1'], ['3', '8', '6', '4', '2', '1'], ['3', '7', '1', '2', '3', '1'], ['3', '5', '0', '2', '2', '0'], ['2', '5', '3', '1', '2', '0'], ['3', '5', '1', '2', '2', '0'], ['3', '3', '1', '3', '2', '1'], ['3', '4', '4', '2', '1', '0'], ['0', '3', '3', '3', '2', '1'], ['3', '8', '4', '1', '1', '0'], ['3', '3', '1', '2', '2', '1'], ['3', '8', '4', '1', '3', '0'], ['3', '3', '1', '2', '2', '1'], ['3', '8', '4', '4', '3', '0'], ['3', '3', '1', '2', '2', '0'], ['1', '8', '4', '4', '1', '2'], ['3', '3', '0', '2', '2', '0'], ['3', '5', '4', '2', '1', '0'], ['3', '3', '1', '1', '2', '0'], ['3', '7', '4', '1', '1', '0'], ['3', '3', '1', '2', '2', '0'], ['3', '7', '0', '1', '3', '0'], ['2', '5', '3', '1', '2', '1'], ['3', '4', '4', '1', '3', '0'], ['0', '3', '3', '2', '2', '0'], ['3', '5', '4', '1', '3', '0'], ['2', '3', '1', '2', '2', '1'], ['3', '5', '2', '2', '3', '0'], ['3', '3', '3', '2', '2', '1'], ['3', '8', '4', '1', '3', '0'], ['3', '3', '1', '4', '2', '1'], ['3', '4', '0', '2', '1', '2'], ['0', '3', '3', '3', '2', '0'], ['3', '8', '4', '2', '2', '1'], ['2', '3', '0', '4', '2', '1'], ['3', '8', '4', '4', '1', '2'], ['3', '3', '0', '1', '2', '2'], ['3', '8', '4', '4', '1', '0'], ['3', '3', '1', '2', '2', '1'], ['3', '8', '0', '4', '3', '0'], ['3', '5', '3', '0', '2', '1'], ['2', '4', '5', '2', '1', '1'], ['3', '8', '1', '3', '2', '2'], ['0', '4', '0', '1', '2', '2'], ['0', '5', '3', '3', '1', '2'], ['3', '5', '1', '1', '2', '1'], ['1', '4', '3', '1', '1', '1'], ['1', '5', '1', '3', '2', '1'], ['1', '4', '0', '2', '1', '1'], ['0', '5', '4', '3', '2', '2'], ['3', '4', '0', '2', '2', '1'], ['2', '7', '3', '3', '1', '2'], ['2', '4', '1', '1', '2', '1'], ['1', '3', '3', '3', '2', '2'], ['3', '8', '4', '1', '3', '2'], ['3', '4', '0', '1', '2', '1'], ['0', '8', '3', '3', '2', '2'], ['0', '4', '4', '2', '3', '1'], ['2', '3', '3', '2', '2', '1'], ['1', '8', '4', '2', '1', '2'], ['3', '3', '0', '2', '2', '1'], ['3', '5', '4', '4', '3', '1'], ['3', '3', '3', '2', '2', '1'], ['1', '8', '4', '2', '2', '0'], ['3', '3', '3', '2', '2', '1'], ['1', '8', '4', '2', '3', '2'], ['3', '3', '3', '1', '2', '1'], ['3', '8', '4', '2', '3', '2'], ['3', '3', '3', '1', '2', '0'], ['3', '8', '4', '2', '3', '2'], ['3', '3', '3', '2', '2', '0'], ['1', '8', '4', '2', '3', '2'], ['3', '3', '1', '1', '2', '2'], ['0', '5', '0', '4', '3', '2'], ['1', '5', '3', '3', '1', '1'], ['1', '4', '1', '1', '3', '1'], ['3', '3', '3', '2', '2', '2'], ['1', '5', '4', '2', '3', '2'], ['0', '3', '1', '4', '1', '1'], ['3', '8', '4', '2', '1', '1'], ['3', '3', '0', '1', '2', '1'], ['0', '5', '3', '1', '1', '1'], ['3', '4', '1', '3', '2', '1'], ['1', '3', '3', '2', '2', '1'], ['1', '8', '1', '2', '1', '2'], ['1', '4', '3', '1', '2', '1'], ['3', '5', '4', '3', '3', '2'], ['3', '4', '0', '1', '2', '1'], ['0', '5', '3', '3', '2', '2'], ['3', '4', '1', '1', '3', '1'], ['0', '5', '1', '3', '1', '1'], ['3', '4', '0', '1', '2', '1'], ['0', '5', '4', '3', '2', '1'], ['3', '4', '0', '1', '1', '1'], ['0', '5', '4', '3', '2', '1'], ['3', '4', '0', '1', '2', '0'], ['0', '5', '4', '3', '3', '1'], ['2', '4', '0', '2', '1', '1'], ['0', '3', '4', '3', '3', '1'], ['3', '5', '6', '3', '1', '0'], ['3', '3', '0', '2', '2', '1'], ['1', '5', '4', '2', '3', '1'], ['3', '5', '3', '1', '2', '0'], ['0', '5', '1', '1', '1', '1'], ['0', '5', '0', '1', '2', '0'], ['0', '5', '4', '1', '2', '1'], ['3', '5', '0', '2', '2', '0'], ['0', '5', '4', '1', '2', '1'], ['1', '5', '1', '2', '2', '0'], ['1', '5', '3', '1', '1', '1'], ['0', '5', '4', '1', '3', '1'], ['0', '5', '3', '3', '1', '0'], ['0', '5', '4', '1', '2', '1'], ['0', '5', '3', '1', '1', '1'], ['0', '5', '4', '1', '2', '0'], ['1', '5', '1', '1', '2', '0'], ['0', '5', '3', '1', '3', '1'], ['0', '5', '4', '1', '3', '1'], ['0', '4', '3', '1', '2', '1'], ['0', '5', '4', '3', '3', '1'], ['0', '3', '3', '1', '2', '0'], ['1', '5', '4', '4', '1', '2'], ['2', '5', '1', '2', '3', '1'], ['2', '4', '3', '2', '2', '1'], ['2', '5', '4', '4', '1', '2'], ['3', '5', '0', '1', '2', '0'], ['0', '5', '4', '1', '1', '0'], ['1', '5', '1', '2', '2', '2'], ['2', '5', '3', '2', '3', '1'], ['2', '5', '1', '1', '2', '1'], ['0', '5', '3', '4', '2', '0'], ['0', '5', '4', '1', '1', '1'], ['0', '5', '3', '4', '2', '0'], ['0', '5', '4', '1', '3', '1'], ['2', '5', '3', '2', '2', '0'], ['0', '5', '4', '1', '1', '1'], ['2', '5', '3', '2', '2', '0'], ['0', '5', '4', '1', '3', '1'], ['0', '5', '3', '4', '1', '0'], ['0', '5', '1', '2', '1', '0'], ['0', '5', '1', '4', '2', '0'], ['0', '5', '4', '1', '3', '0'], ['0', '5', '3', '4', '2', '2'], ['2', '5', '4', '1', '1', '2'], ['0', '5', '1', '4', '2', '0'], ['0', '5', '4', '4', '2', '2'], ['2', '5', '5', '1', '3', '0'], ['1', '3', '4', '4', '2', '0'], ['1', '5', '4', '4', '3', '0'], ['2', '4', '5', '1', '2', '0'], ['0', '3', '4', '2', '1', '2'], ['2', '5', '0', '4', '1', '0'], ['0', '4', '5', '1', '2', '0'], ['2', '3', '3', '4', '2', '2'], ['3', '5', '1', '0', '1', '0'], ['2', '4', '3', '2', '2', '0'], ['2', '5', '4', '3', '3', '1'], ['3', '4', '0', '1', '2', '0'], ['0', '5', '3', '3', '1', '1'], ['0', '4', '4', '2', '3', '0'], ['1', '3', '3', '3', '2', '1'], ['3', '8', '5', '2', '1', '0'], ['3', '3', '3', '2', '2', '0'], ['3', '5', '4', '2', '1', '0'], ['3', '4', '3', '1', '2', '1'], ['3', '7', '4', '3', '3', '2'], ['3', '4', '0', '2', '2', '1'], ['0', '3', '3', '3', '2', '0'], ['3', '8', '4', '1', '1', '1'], ['3', '3', '0', '3', '2', '1'], ['1', '5', '5', '1', '2', '0'], ['3', '3', '3', '4', '2', '0'], ['1', '5', '4', '1', '3', '0'], ['3', '3', '0', '1', '2', '1'], ['3', '5', '6', '4', '1', '0'], ['3', '3', '0', '2', '2', '1'], ['3', '5', '6', '4', '2', '0'], ['3', '3', '0', '2', '2', '1'], ['3', '5', '6', '4', '1', '0'], ['3', '3', '0', '2', '2', '1'], ['3', '5', '6', '1', '2', '0'], ['3', '3', '1', '2', '2', '1'], ['3', '1', '6', '1', '3', '0'], ['3', '3', '4', '2', '2', '0'], ['1', '1', '4', '3', '3', '0'], ['3', '3', '1', '1', '2', '2'], ['3', '5', '6', '3', '1', '0'], ['3', '3', '3', '2', '2', '1'], ['1', '5', '4', '1', '3', '2'], ['3', '3', '1', '4', '2', '0'], ['3', '5', '3', '3', '3', '0'], ['1', '4', '4', '1', '2', '2'], ['0', '3', '3', '3', '1', '1'], ['1', '4', '4', '1', '1', '1'], ['3', '3', '3', '3', '2', '1'], ['1', '4', '4', '2', '3', '2'], ['3', '3', '3', '3', '2', '1'], ['1', '8', '4', '1', '3', '2'], ['3', '3', '1', '3', '2', '1'], ['2', '4', '0', '4', '0', '1'], ['1', '3', '4', '2', '2', '0'], ['2', '5', '0', '4', '3', '1'], ['3', '5', '3', '1', '2', '1'], ['1', '5', '5', '2', '2', '1'], ['3', '3', '3', '3', '2', '1'], ['1', '8', '4', '2', '3', '0'], ['3', '3', '3', '2', '2', '1'], ['1', '8', '0', '1', '3', '2'], ['1', '5', '3', '3', '2', '1'], ['1', '4', '1', '2', '3', '1'], ['0', '3', '3', '3', '2', '1'], ['1', '8', '4', '1', '1', '0'], ['0', '3', '0', '3', '2', '1'], ['3', '5', '5', '1', '3', '0'], ['3', '3', '3', '3', '2', '0'], ['1', '8', '4', '2', '1', '0'], ['3', '3', '0', '1', '2', '1'], ['3', '5', '6', '2', '3', '0'], ['3', '3', '0', '1', '2', '1'], ['3', '5', '6', '2', '3', '0'], ['3', '3', '0', '2', '2', '1'], ['3', '5', '6', '2', '3', '0'], ['3', '3', '0', '2', '2', '1'], ['3', '5', '4', '2', '1', '0'], ['3', '3', '6', '1', '2', '0'], ['3', '5', '4', '1', '3', '2'], ['3', '3', '6', '2', '2', '0'], ['3', '5', '4', '1', '3', '2'], ['3', '3', '3', '2', '2', '0'], ['1', '4', '4', '1', '1', '0'], ['3', '3', '3', '3', '1', '1'], ['3', '4', '4', '1', '2', '2'], ['3', '3', '1', '3', '2', '2'], ['3', '4', '6', '4', '3', '2'], ['3', '3', '1', '2', '2', '1'], ['3', '5', '6', '3', '3', '2'], ['3', '3', '1', '1', '2', '1'], ['3', '5', '4', '4', '3', '2'], ['3', '3', '1', '4', '2', '1'], ['3', '5', '3', '4', '1', '0'], ['1', '3', '4', '1', '2', '1'], ['1', '5', '3', '3', '1', '0'], ['1', '4', '4', '2', '2', '1'], ['0', '3', '3', '3', '2', '1'], ['1', '5', '4', '1', '3', '1'], ['3', '3', '5', '4', '2', '1'], ['2', '5', '3', '2', '2', '0'], ['1', '4', '4', '2', '3', '1'], ['1', '3', '3', '3', '2', '1'], ['1', '5', '4', '1', '1', '1'], ['3', '3', '3', '3', '2', '1'], ['1', '5', '4', '2', '1', '0'], ['3', '3', '3', '4', '2', '1'], ['1', '5', '4', '2', '1', '2'], ['3', '3', '3', '3', '2', '1'], ['1', '5', '4', '1', '1', '2'], ['3', '4', '3', '3', '2', '1'], ['1', '5', '4', '3', '2', '2'], ['3', '3', '1', '4', '2', '1'], ['2', '5', '3', '1', '2', '0'], ['1', '3', '5', '3', '2', '1'], ['3', '4', '3', '4', '3', '0'], ['1', '5', '4', '3', '2', '1'], ['3', '3', '1', '1', '2', '1'], ['1', '6', '3', '1', '3', '0'], ['1', '4', '4', '1', '2', '1'], ['3', '5', '3', '3', '1', '1'], ['1', '4', '4', '4', '3', '1'], ['1', '2', '4', '2', '2', '1'], ['1', '4', '3', '4', '3', '0'], ['1', '5', '4', '3', '3', '1'], ['3', '3', '1', '2', '2', '1'], ['1', '4', '3', '4', '3', '0'], ['1', '5', '4', '2', '3', '0'], ['3', '3', '1', '1', '2', '0'], ['1', '4', '3', '4', '1', '0'], ['1', '5', '4', '3', '1', '0'], ['3', '3', '1', '1', '2', '0'], ['1', '4', '3', '4', '1', '0'], ['1', '5', '4', '3', '3', '1'], ['3', '3', '3', '2', '2', '0'], ['1', '4', '4', '4', '1', '2'], ['1', '3', '3', '4', '1', '0'], ['1', '4', '4', '3', '1', '2'], ['1', '3', '3', '1', '1', '0'], ['1', '4', '4', '3', '1', '2'], ['1', '3', '3', '3', '2', '0'], ['1', '4', '4', '3', '1', '2'], ['1', '3', '3', '3', '2', '0'], ['1', '8', '4', '1', '1', '2'], ['2', '3', '1', '3', '2', '0'], ['2', '5', '0', '1', '3', '0'], ['1', '3', '4', '1', '1', '1'], ['2', '5', '3', '2', '2', '2'], ['1', '5', '4', '2', '1', '1'], ['1', '3', '3', '1', '2', '0'], ['1', '8', '4', '2', '3', '2'], ['2', '3', '3', '2', '2', '1'], ['1', '8', '4', '3', '3', '2'], ['0', '3', '1', '4', '1', '0'], ['3', '4', '3', '3', '3', '0'], ['1', '3', '1', '3', '2', '0'], ['2', '4', '3', '3', '3', '1'], ['1', '5', '4', '3', '1', '1'], ['1', '3', '3', '1', '2', '1'], ['1', '8', '4', '3', '3', '1'], ['3', '8', '3', '1', '1', '1'], ['1', '5', '4', '3', '1', '1'], ['2', '3', '3', '2', '3', '1'], ['1', '8', '4', '3', '3', '0'], ['3', '3', '3', '3', '1', '1'], ['3', '8', '4', '3', '3', '2'], ['3', '3', '3', '3', '2', '1'], ['1', '8', '4', '3', '3', '1'], ['3', '3', '3', '1', '1', '1'], ['1', '8', '4', '3', '1', '1'], ['2', '3', '3', '3', '2', '1'], ['1', '8', '4', '4', '3', '1'], ['2', '2', '1', '1', '1', '1'], ['2', '8', '0', '3', '1', '1'], ['0', '3', '4', '1', '3', '1'], ['2', '8', '4', '3', '3', '1'], ['3', '2', '3', '2', '3', '1'], ['1', '5', '4', '2', '3', '1'], ['2', '3', '3', '2', '2', '1'], ['1', '8', '4', '4', '3', '1'], ['2', '3', '3', '3', '3', '0'], ['1', '8', '4', '4', '3', '1'], ['2', '3', '3', '1', '1', '1'], ['1', '8', '4', '2', '1', '1'], ['2', '3', '3', '3', '2', '0'], ['1', '8', '4', '4', '1', '2'], ['2', '5', '0', '1', '2', '1'], ['1', '5', '3', '1', '1', '1'], ['3', '5', '4', '3', '3', '1'], ['1', '5', '0', '1', '3', '1'], ['1', '5', '3', '1', '3', '0'], ['3', '5', '4', '1', '3', '1'], ['1', '2', '3', '2', '2', '0'], ['1', '8', '4', '4', '1', '0'], ['1', '5', '0', '1', '1', '1'], ['1', '5', '4', '3', '1', '0'], ['1', '5', '0', '1', '2', '0'], ['1', '5', '4', '3', '1', '0'], ['1', '4', '0', '2', '1', '0'], ['1', '5', '4', '3', '2', '1'], ['3', '5', '0', '1', '2', '0'], ['1', '5', '4', '2', '2', '0'], ['3', '4', '0', '2', '2', '0'], ['1', '3', '4', '3', '1', '0'], ['1', '4', '0', '4', '3', '0'], ['0', '3', '4', '3', '2', '0'], ['1', '5', '3', '4', '3', '2'], ['1', '3', '4', '1', '3', '2'], ['1', '4', '0', '2', '1', '2'], ['1', '3', '3', '3', '2', '0'], ['1', '4', '0', '1', '3', '2'], ['1', '5', '3', '4', '2', '0'], ['2', '5', '4', '1', '3', '2'], ['2', '3', '3', '1', '2', '0'], ['1', '4', '4', '2', '1', '2'], ['1', '5', '0', '4', '2', '0'], ['3', '4', '3', '2', '2', '0'], ['1', '5', '4', '4', '3', '2'], ['3', '3', '1', '1', '2', '1'], ['1', '4', '1', '4', '1', '2'], ['0', '3', '0', '3', '2', '0'], ['1', '4', '4', '4', '2', '0'], ['0', '3', '0', '3', '1', '0'], ['2', '5', '3', '4', '2', '0'], ['3', '5', '4', '3', '3', '1'], ['3', '3', '3', '3', '2', '1'], ['1', '5', '4', '1', '3', '0'], ['3', '3', '1', '3', '2', '1'], ['1', '4', '3', '4', '0', '0'], ['1', '5', '4', '3', '3', '1'], ['2', '3', '3', '3', '2', '1'], ['1', '5', '4', '1', '3', '1'], ['3', '3', '1', '2', '0', '1'], ['1', '4', '3', '1', '2', '0'], ['1', '5', '4', '3', '3', '1'], ['1', '4', '3', '4', '2', '1'], ['1', '5', '4', '3', '0', '1'], ['3', '4', '3', '4', '0', '1'], ['1', '5', '4', '3', '0', '1'], ['1', '4', '4', '3', '0', '1'], ['1', '2', '4', '2', '0', '1'], ['1', '4', '6', '4', '2', '0'], ['1', '3', '3', '1', '1', '1'], ['1', '4', '4', '2', '3', '1'], ['1', '3', '3', '3', '1', '1'], ['1', '5', '4', '4', '2', '0'], ['1', '3', '4', '3', '1', '1'], ['1', '4', '3', '2', '2', '0'], ['1', '5', '4', '3', '1', '1'], ['1', '3', '2', '3', '1', '1'], ['1', '4', '3', '2', '1', '0'], ['1', '5', '4', '1', '1', '1'], ['1', '3', '2', '3', '1', '1'], ['1', '4', '3', '3', '1', '0'], ['1', '5', '4', '1', '1', '0'], ['1', '3', '2', '3', '2', '1'], ['1', '4', '3', '3', '1', '0'], ['1', '5', '4', '0', '0', '1'], ['1', '3', '2', '3', '1', '1'], ['1', '4', '3', '4', '1', '0'], ['1', '5', '4', '0', '0', '1'], ['1', '2', '2', '3', '1', '1'], ['1', '4', '3', '4', '1', '2'], ['1', '5', '4', '2', '0', '1'], ['1', '2', '2', '3', '1', '1'], ['1', '4', '3', '4', '1', '0'], ['1', '5', '4', '3', '0', '1'], ['1', '2', '2', '3', '2', '1'], ['1', '4', '3', '4', '1', '0'], ['1', '2', '4', '3', '0', '1'], ['2', '4', '2', '2', '3', '0'], ['1', '2', '1', '3', '1', '2'], ['2', '4', '4', '2', '0', '0'], ['1', '2', '4', '0', '1', '1'], ['2', '4', '4', '3', '0', '0'], ['1', '2', '1', '0', '0', '1'], ['2', '4', '3', '3', '0', '0'], ['1', '5', '1', '3', '0', '1'], ['1', '2', '3', '3', '0', '1'], ['1', '4', '4', '0', '3', '0'], ['1', '2', '1', '3', '0', '1'], ['1', '4', '4', '4', '0', '0'], ['1', '2', '1', '0', '2', '1'], ['1', '4', '4', '0', '0', '0'], ['1', '2', '1', '3', '2', '1']]"
   ]
  },
  {
   "cell_type": "code",
   "execution_count": 42,
   "metadata": {},
   "outputs": [],
   "source": [
    "#turn200\n",
    "# action_list = [[3, 1, 1, 1, 1, 1], [3, 1, 1, 1, 1, 1], [3, 1, 1, 1, 1, 1], [3, 3, 2, 2, 1, 1], [3, 3, 3, 2, 1, 1], [3, 3, 3, 2, 1, 1], [3, 3, 3, 2, 1, 1], [3, 3, 3, 2, 1, 1], [3, 3, 4, 2, 1, 1], [3, 3, 4, 2, 1, 1], [3, 3, 4, 2, 1, 1], [3, 3, 4, 3, 1, 1], [2, 3, 4, 3, 2, 1], [1, 3, 4, 3, 2, 1], [3, 3, 4, 3, 2, 1], [3, 3, 4, 3, 2, 1], [1, 2, 5, 3, 1, 1], [1, 2, 5, 3, 1, 1], [1, 2, 5, 3, 1, 1], [1, 2, 5, 3, 1, 1], [1, 4, 6, 4, 1, 1], [1, 4, 6, 4, 1, 1], [1, 4, 6, 4, 1, 1], [1, 4, 6, 4, 1, 1], [1, 5, 1, 1, 1, 1], [1, 5, 1, 1, 1, 1], [2, 5, 1, 1, 1, 1], [1, 5, 1, 1, 1, 1], [3, 1, 1, 1, 1, 1], [3, 1, 1, 1, 2, 1], [3, 1, 1, 1, 2, 1], [3, 1, 1, 2, 2, 1], [3, 1, 2, 2, 2, 1], [3, 1, 3, 2, 1, 1], [3, 1, 3, 2, 1, 1], [3, 1, 3, 2, 1, 1], [3, 1, 3, 3, 1, 1], [3, 1, 4, 3, 3, 1], [3, 1, 4, 3, 3, 1], [3, 1, 4, 3, 3, 1], [2, 1, 4, 3, 3, 1], [1, 3, 4, 4, 3, 1], [3, 3, 4, 4, 3, 1], [3, 3, 4, 4, 3, 1], [3, 3, 4, 4, 3, 1], [1, 2, 5, 4, 3, 1], [1, 2, 5, 1, 3, 1], [1, 2, 5, 1, 3, 1], [1, 2, 5, 1, 3, 1], [1, 4, 6, 1, 3, 1], [1, 4, 6, 1, 2, 1], [1, 4, 6, 1, 2, 1], [1, 4, 6, 1, 2, 1], [1, 5, 6, 1, 2, 1], [2, 5, 1, 1, 1, 1], [2, 5, 1, 1, 1, 1], [1, 5, 1, 1, 1, 1], [1, 5, 1, 1, 1, 1], [1, 5, 1, 1, 1, 1], [1, 5, 1, 2, 1, 1], [1, 5, 1, 2, 1, 1], [1, 5, 1, 2, 1, 1], [1, 5, 1, 2, 1, 1], [1, 5, 1, 2, 1, 1], [1, 5, 2, 2, 1, 1], [3, 1, 3, 2, 1, 1], [3, 1, 3, 2, 1, 1], [3, 1, 3, 2, 2, 1], [3, 1, 3, 2, 2, 1], [2, 1, 4, 3, 2, 1], [1, 3, 4, 3, 2, 1], [3, 3, 4, 3, 3, 1], [3, 3, 4, 3, 3, 1], [3, 3, 4, 3, 3, 1], [1, 2, 4, 4, 3, 1], [1, 2, 4, 4, 3, 1], [1, 2, 4, 4, 3, 2], [1, 2, 4, 4, 3, 2], [1, 2, 5, 1, 3, 2], [1, 2, 5, 1, 3, 2], [1, 2, 5, 1, 3, 2], [1, 4, 5, 1, 3, 2], [1, 4, 6, 2, 2, 2], [2, 4, 6, 2, 2, 2], [1, 4, 6, 2, 2, 2], [1, 4, 6, 2, 2, 2], [1, 4, 1, 2, 3, 2], [1, 4, 1, 2, 3, 2], [1, 4, 1, 2, 3, 2], [1, 4, 1, 3, 3, 2], [1, 4, 1, 3, 3, 2], [1, 4, 1, 3, 3, 2], [1, 5, 1, 3, 3, 2], [1, 5, 1, 4, 2, 2], [1, 5, 1, 4, 2, 2], [1, 5, 2, 4, 2, 2], [3, 1, 3, 4, 2, 2], [2, 1, 3, 4, 3, 2], [1, 1, 3, 1, 3, 2], [3, 1, 3, 1, 3, 2], [3, 3, 4, 1, 3, 2], [3, 3, 4, 1, 3, 2], [3, 3, 4, 1, 3, 2], [3, 3, 4, 1, 3, 2], [3, 3, 4, 1, 3, 2], [3, 3, 4, 2, 3, 2], [3, 3, 4, 2, 2, 2], [3, 3, 4, 2, 2, 2], [3, 3, 4, 2, 2, 2], [3, 3, 4, 2, 2, 2], [3, 3, 4, 1, 1, 1], [2, 3, 4, 1, 1, 1], [1, 3, 4, 1, 1, 1], [1, 2, 5, 1, 1, 1], [1, 2, 5, 1, 3, 1], [1, 2, 5, 1, 3, 1], [1, 2, 5, 3, 3, 1], [1, 2, 6, 3, 3, 1], [1, 2, 6, 3, 3, 1], [1, 2, 6, 3, 2, 1], [1, 4, 6, 3, 2, 1], [1, 4, 6, 3, 2, 1], [1, 4, 1, 3, 2, 1], [1, 4, 1, 3, 2, 1], [1, 4, 1, 3, 2, 1], [2, 4, 1, 3, 2, 1], [1, 4, 1, 3, 3, 1], [1, 4, 1, 4, 3, 1], [1, 4, 1, 4, 3, 1], [1, 4, 1, 4, 3, 1], [1, 4, 1, 4, 3, 1], [1, 4, 1, 4, 3, 1], [1, 4, 1, 1, 3, 2], [1, 5, 1, 1, 3, 2], [1, 5, 1, 1, 3, 2], [1, 5, 2, 1, 3, 2], [1, 5, 3, 1, 3, 2], [1, 5, 3, 2, 3, 2], [3, 1, 3, 2, 3, 2], [2, 1, 3, 2, 1, 2], [1, 1, 4, 2, 1, 2], [3, 1, 4, 2, 1, 2], [3, 3, 4, 2, 1, 2], [3, 3, 4, 2, 1, 2], [3, 3, 4, 2, 3, 2], [3, 3, 4, 2, 3, 2], [3, 1, 4, 2, 3, 2], [3, 1, 4, 2, 3, 2], [3, 1, 1, 2, 3, 2], [3, 1, 1, 2, 2, 2], [3, 1, 1, 3, 2, 2], [3, 1, 1, 3, 2, 2], [3, 1, 1, 3, 2, 2], [2, 2, 1, 3, 2, 2], [1, 2, 1, 3, 3, 2], [1, 2, 1, 4, 3, 2], [1, 2, 1, 4, 3, 2], [1, 2, 4, 4, 3, 2], [1, 2, 4, 4, 3, 2], [3, 1, 4, 1, 3, 2], [3, 1, 4, 1, 3, 2], [3, 1, 4, 1, 3, 2], [3, 1, 4, 1, 3, 2], [3, 5, 4, 1, 3, 1], [3, 5, 4, 2, 3, 1], [3, 5, 4, 2, 3, 1], [3, 5, 4, 2, 3, 1], [2, 5, 4, 2, 1, 1], [1, 5, 4, 2, 1, 1], [3, 3, 4, 2, 1, 1], [3, 3, 5, 2, 1, 1], [3, 3, 5, 2, 1, 1], [3, 3, 5, 2, 1, 1], [1, 2, 5, 3, 1, 1], [1, 2, 6, 3, 3, 1], [1, 2, 6, 3, 3, 1], [1, 2, 6, 3, 3, 1], [1, 2, 6, 4, 3, 1], [1, 2, 6, 4, 3, 1], [1, 2, 6, 4, 3, 1], [1, 2, 6, 4, 3, 1], [2, 4, 6, 4, 2, 1], [1, 4, 1, 1, 2, 1], [1, 4, 1, 1, 2, 1], [1, 4, 1, 1, 2, 1], [1, 4, 1, 1, 2, 1], [1, 4, 1, 1, 2, 1], [3, 1, 1, 1, 1, 1], [3, 1, 1, 1, 1, 1], [3, 1, 1, 1, 1, 1], [3, 1, 1, 1, 1, 1], [3, 1, 1, 1, 1, 1], [3, 1, 1, 1, 1, 1], [3, 4, 1, 1, 1, 1], [3, 4, 1, 1, 1, 1], [2, 4, 2, 2, 1, 1], [1, 4, 2, 2, 1, 1], [3, 1, 3, 2, 1, 1], [3, 1, 3, 2, 1, 1], [3, 1, 3, 2, 1, 1], [3, 1, 3, 2, 2, 1], [3, 4, 1, 2, 2, 1], [3, 4, 1, 3, 2, 1], [3, 4, 1, 3, 2, 1], [3, 4, 1, 3, 3, 1], [3, 4, 1, 3, 3, 1], [3, 4, 1, 3, 3, 1], [3, 4, 1, 4, 3, 1], [3, 4, 1, 4, 3, 1], [2, 4, 1, 4, 3, 1], [1, 1, 1, 4, 3, 1], [3, 1, 1, 1, 3, 1], [3, 1, 1, 1, 3, 1], [3, 1, 1, 1, 3, 1], [3, 1, 4, 1, 3, 2], [3, 1, 4, 1, 3, 2], [3, 1, 4, 1, 3, 2], [3, 4, 4, 1, 1, 2], [3, 4, 4, 2, 1, 2], [3, 4, 4, 2, 1, 2], [3, 4, 1, 2, 1, 2], [3, 4, 1, 2, 2, 2], [3, 4, 1, 2, 2, 2], [2, 4, 1, 3, 2, 2], [1, 4, 1, 3, 2, 2], [1, 4, 1, 3, 3, 2], [1, 4, 1, 3, 3, 2], [1, 4, 4, 4, 3, 2], [1, 5, 4, 4, 3, 2], [1, 5, 4, 4, 3, 2], [1, 5, 4, 4, 3, 2], [1, 5, 4, 1, 3, 2], [1, 5, 4, 1, 3, 2], [1, 5, 4, 1, 3, 2], [3, 1, 4, 1, 2, 2], [3, 1, 4, 1, 2, 2], [3, 1, 4, 2, 2, 2], [2, 1, 4, 2, 2, 2], [1, 3, 4, 2, 2, 2], [3, 3, 4, 2, 3, 2], [3, 3, 5, 2, 3, 2], [3, 3, 5, 2, 3, 2], [1, 2, 5, 3, 3, 2], [1, 2, 5, 3, 3, 2], [1, 2, 1, 3, 3, 2], [1, 2, 1, 3, 3, 2], [1, 4, 1, 4, 3, 2], [1, 4, 1, 4, 3, 2], [1, 4, 1, 4, 3, 2], [1, 4, 1, 4, 3, 2], [1, 4, 1, 4, 3, 2], [2, 4, 1, 1, 3, 2], [1, 4, 1, 1, 2, 2], [1, 4, 1, 1, 2, 2], [1, 4, 1, 1, 2, 2], [1, 4, 1, 1, 2, 2], [1, 4, 1, 1, 2, 2], [1, 4, 6, 1, 1, 2], [1, 4, 6, 1, 1, 2], [1, 5, 6, 1, 1, 2], [1, 5, 6, 1, 1, 2], [1, 5, 2, 2, 1, 2], [1, 5, 1, 2, 1, 2], [3, 1, 1, 2, 1, 1], [3, 1, 1, 2, 1, 1], [2, 1, 1, 2, 1, 1], [1, 1, 1, 2, 1, 1], [3, 1, 1, 2, 1, 1], [3, 1, 1, 2, 1, 1], [3, 3, 1, 2, 1, 1], [3, 3, 1, 2, 2, 1], [3, 3, 2, 3, 2, 1], [3, 3, 3, 3, 2, 1], [1, 2, 3, 3, 2, 1], [1, 2, 3, 3, 3, 1], [1, 2, 3, 3, 3, 1], [1, 2, 4, 3, 3, 1], [3, 1, 4, 3, 3, 1], [3, 1, 4, 3, 3, 1], [2, 1, 4, 3, 3, 1], [1, 1, 4, 3, 3, 1], [1, 2, 4, 3, 2, 1], [1, 2, 4, 3, 2, 1], [1, 2, 4, 3, 2, 1], [1, 2, 4, 4, 2, 1], [3, 1, 4, 4, 2, 1], [3, 1, 4, 4, 1, 1], [3, 1, 1, 4, 1, 1], [3, 1, 1, 4, 1, 1], [3, 1, 1, 4, 1, 1], [3, 1, 1, 4, 1, 1], [3, 1, 1, 1, 1, 1], [1, 2, 1, 1, 1, 1], [2, 2, 1, 1, 1, 1], [1, 2, 1, 1, 1, 1], [1, 2, 1, 1, 1, 1], [1, 5, 1, 1, 1, 1], [1, 5, 1, 1, 1, 1], [1, 5, 1, 1, 1, 1], [1, 5, 1, 1, 2, 1], [1, 5, 4, 2, 2, 1], [1, 5, 4, 2, 2, 1], [1, 5, 4, 2, 2, 1], [1, 4, 4, 2, 1, 1], [1, 4, 4, 2, 1, 1], [1, 4, 4, 1, 1, 1], [1, 4, 4, 1, 1, 1], [2, 1, 4, 1, 3, 1], [1, 1, 4, 1, 3, 1], [3, 1, 1, 3, 3, 1], [3, 1, 1, 3, 3, 1], [3, 4, 1, 3, 3, 1], [3, 4, 1, 3, 3, 1], [3, 4, 1, 4, 3, 1], [3, 4, 1, 4, 3, 1], [3, 1, 1, 4, 3, 2], [3, 1, 1, 4, 3, 2], [3, 1, 1, 4, 2, 2], [3, 1, 1, 4, 2, 2], [3, 4, 1, 4, 2, 2], [3, 4, 1, 1, 2, 2], [2, 4, 4, 1, 2, 2], [1, 4, 4, 1, 2, 2], [3, 1, 4, 1, 2, 2], [3, 1, 4, 1, 2, 2], [3, 1, 4, 1, 1, 2], [3, 1, 4, 1, 1, 2], [3, 4, 4, 1, 1, 2], [3, 4, 4, 1, 1, 2], [3, 4, 4, 1, 1, 2], [3, 4, 4, 1, 1, 2], [3, 1, 4, 1, 1, 2], [3, 1, 4, 1, 1, 2], [3, 1, 4, 2, 1, 2], [3, 1, 5, 2, 1, 2], [2, 4, 5, 2, 1, 2], [1, 4, 5, 2, 1, 2], [1, 4, 5, 2, 1, 2], [1, 4, 5, 2, 2, 2], [3, 1, 5, 2, 2, 2], [3, 1, 5, 2, 2, 2], [3, 1, 5, 2, 2, 2], [3, 1, 5, 2, 3, 2], [3, 4, 1, 2, 3, 2], [3, 4, 1, 2, 3, 2], [3, 4, 1, 2, 3, 2], [3, 4, 1, 3, 3, 2], [3, 1, 1, 3, 3, 2], [3, 1, 1, 3, 3, 2], [2, 1, 1, 3, 3, 2], [1, 1, 1, 3, 3, 2], [1, 4, 6, 3, 3, 2], [1, 4, 6, 3, 3, 2], [1, 4, 6, 3, 3, 2], [1, 4, 6, 3, 3, 2], [1, 4, 2, 3, 1, 2], [1, 4, 1, 3, 1, 2], [1, 4, 1, 4, 1, 2], [3, 1, 1, 4, 1, 2], [3, 1, 1, 4, 1, 2], [3, 1, 1, 4, 1, 2], [3, 1, 1, 4, 1, 2], [3, 1, 1, 4, 1, 2], [2, 4, 1, 4, 1, 2], [1, 4, 2, 4, 1, 2], [1, 4, 2, 4, 1, 2], [1, 4, 2, 4, 1, 2], [3, 1, 3, 4, 1, 2], [3, 1, 3, 4, 2, 2], [3, 1, 3, 4, 2, 2], [3, 1, 3, 1, 2, 2], [3, 1, 4, 1, 2, 2], [3, 4, 4, 1, 1, 2], [3, 4, 4, 1, 1, 2], [3, 4, 4, 1, 1, 2], [3, 4, 4, 1, 1, 2], [3, 5, 1, 1, 1, 2], [2, 5, 1, 1, 1, 2], [1, 5, 1, 1, 1, 2], [1, 5, 1, 1, 1, 2], [1, 5, 1, 1, 1, 2], [1, 5, 1, 1, 1, 2], [1, 5, 4, 1, 1, 2], [3, 1, 4, 2, 1, 2], [3, 1, 4, 2, 1, 2], [3, 1, 4, 2, 2, 1], [3, 1, 4, 2, 2, 1], [3, 3, 4, 2, 2, 1], [3, 3, 4, 2, 2, 1], [3, 3, 4, 2, 3, 1], [3, 3, 4, 2, 3, 1], [2, 1, 4, 2, 3, 1], [1, 1, 4, 2, 3, 1], [3, 1, 4, 2, 3, 1], [3, 1, 4, 2, 3, 1], [1, 2, 1, 2, 3, 1], [1, 2, 1, 3, 2, 1], [1, 2, 1, 3, 2, 1], [1, 2, 1, 3, 2, 1], [3, 1, 1, 3, 2, 1], [3, 1, 1, 3, 3, 1], [3, 1, 1, 3, 3, 1], [3, 1, 1, 3, 3, 1], [1, 2, 1, 3, 3, 1], [1, 2, 4, 3, 3, 1], [2, 2, 4, 3, 3, 1], [1, 2, 4, 3, 3, 1], [1, 4, 4, 3, 3, 1], [1, 4, 4, 3, 2, 1], [1, 4, 4, 4, 2, 1], [1, 4, 4, 4, 2, 1], [3, 1, 4, 4, 2, 1], [3, 1, 4, 4, 1, 1], [3, 1, 1, 4, 1, 1], [3, 1, 1, 4, 1, 1], [3, 4, 1, 4, 1, 1], [3, 4, 1, 4, 1, 1], [3, 4, 1, 4, 1, 1], [3, 4, 1, 4, 1, 1], [2, 1, 1, 4, 1, 1], [1, 1, 1, 4, 1, 1], [3, 1, 1, 4, 1, 1], [3, 1, 1, 1, 1, 1], [3, 4, 1, 1, 1, 1], [3, 4, 1, 1, 1, 1], [3, 4, 1, 1, 2, 1], [3, 4, 4, 1, 2, 1], [3, 1, 4, 1, 2, 1], [3, 1, 4, 1, 2, 1], [3, 1, 4, 1, 2, 1], [3, 1, 4, 1, 2, 1], [3, 4, 4, 1, 2, 1], [3, 4, 4, 1, 2, 1], [2, 4, 4, 1, 2, 1], [1, 4, 4, 1, 2, 1], [3, 1, 1, 2, 2, 1], [3, 1, 1, 2, 2, 1], [3, 1, 1, 2, 1, 1], [3, 1, 1, 2, 1, 1], [3, 4, 1, 2, 1, 1], [3, 4, 1, 2, 1, 1], [3, 4, 1, 2, 3, 1], [3, 4, 1, 2, 3, 1], [3, 1, 4, 2, 3, 1], [3, 1, 4, 2, 3, 2], [3, 1, 4, 2, 3, 2], [3, 1, 4, 2, 3, 2], [2, 4, 4, 2, 3, 2], [1, 4, 4, 3, 3, 2], [1, 4, 4, 3, 3, 2], [1, 4, 4, 3, 3, 2], [3, 1, 4, 3, 3, 2], [3, 1, 4, 3, 2, 2], [3, 1, 4, 3, 2, 2], [3, 1, 4, 3, 2, 2], [3, 4, 4, 3, 2, 2], [3, 4, 5, 3, 3, 2], [3, 4, 5, 3, 3, 2], [3, 4, 5, 3, 3, 2], [3, 1, 5, 3, 3, 2], [3, 1, 1, 3, 3, 2], [2, 1, 1, 4, 3, 2], [1, 1, 1, 4, 3, 2], [1, 4, 1, 4, 3, 2], [1, 4, 1, 4, 3, 2], [1, 4, 1, 4, 2, 2], [1, 4, 1, 4, 2, 2], [3, 1, 1, 4, 2, 2], [3, 1, 1, 4, 2, 2], [3, 1, 6, 4, 3, 2], [3, 1, 6, 4, 3, 2], [3, 4, 6, 4, 3, 2], [3, 4, 6, 4, 3, 2], [3, 4, 1, 1, 3, 2], [3, 4, 1, 1, 3, 2], [2, 5, 1, 1, 3, 2], [1, 5, 1, 1, 2, 2], [1, 5, 2, 1, 2, 2], [1, 5, 3, 1, 2, 2], [1, 5, 3, 1, 2, 2], [1, 5, 3, 1, 1, 2], [1, 5, 3, 1, 1, 2], [3, 1, 4, 1, 1, 2], [3, 1, 4, 1, 1, 2], [3, 1, 4, 2, 1, 2], [3, 1, 4, 2, 1, 2], [3, 3, 4, 2, 1, 2], [3, 3, 4, 2, 1, 2], [3, 3, 4, 2, 1, 2], [2, 3, 4, 2, 1, 2], [1, 1, 4, 2, 3, 2], [3, 1, 4, 2, 3, 2], [3, 1, 4, 2, 3, 2], [3, 1, 4, 2, 3, 2], [1, 2, 4, 2, 3, 2], [1, 2, 5, 2, 3, 2], [1, 2, 5, 2, 3, 2], [1, 2, 5, 3, 3, 2], [3, 1, 5, 3, 3, 2], [3, 1, 5, 3, 3, 2], [3, 1, 5, 3, 3, 2], [3, 1, 5, 3, 3, 2], [1, 2, 5, 3, 3, 2], [2, 2, 5, 3, 1, 2], [1, 2, 5, 3, 1, 2], [1, 2, 5, 3, 1, 2], [3, 1, 5, 3, 1, 2], [3, 1, 6, 3, 2, 2], [3, 1, 6, 3, 2, 2], [3, 1, 6, 3, 2, 2], [3, 1, 6, 4, 2, 2], [1, 2, 2, 4, 3, 2], [1, 2, 2, 4, 3, 2], [1, 2, 1, 4, 3, 2], [1, 2, 1, 1, 3, 2], [1, 5, 1, 1, 3, 2], [1, 5, 1, 1, 3, 2], [2, 5, 1, 1, 3, 2], [1, 5, 1, 2, 3, 2], [1, 5, 1, 2, 3, 2], [1, 5, 1, 2, 3, 2], [1, 5, 1, 2, 3, 2], [1, 4, 1, 2, 3, 2], [1, 4, 1, 2, 3, 2], [1, 4, 1, 3, 1, 2], [1, 4, 1, 3, 1, 2], [3, 1, 2, 3, 1, 2], [3, 1, 3, 3, 1, 2], [3, 1, 3, 4, 2, 2], [3, 1, 3, 4, 2, 2], [3, 4, 3, 4, 2, 2], [2, 4, 1, 4, 2, 2], [2, 4, 1, 1, 3, 2], [2, 4, 1, 1, 3, 2], [1, 1, 1, 1, 3, 2], [3, 1, 1, 1, 3, 2], [3, 1, 1, 1, 3, 2], [3, 1, 1, 1, 3, 2], [3, 4, 1, 2, 3, 2], [3, 4, 4, 2, 3, 1], [3, 4, 4, 2, 2, 2], [3, 4, 4, 2, 2, 1], [3, 5, 4, 2, 2, 2], [3, 5, 4, 2, 2, 1], [3, 5, 4, 1, 3, 2], [3, 5, 4, 1, 3, 1], [3, 5, 4, 1, 3, 1], [2, 5, 4, 1, 3, 1], [1, 1, 4, 1, 3, 1], [3, 1, 4, 3, 3, 1], [3, 1, 4, 3, 3, 2], [3, 1, 4, 3, 3, 1], [3, 1, 5, 3, 3, 2], [3, 1, 5, 1, 3, 2], [3, 1, 5, 1, 3, 1], [3, 3, 5, 1, 3, 2], [3, 3, 5, 1, 3, 1], [3, 3, 5, 4, 1, 1], [3, 3, 5, 4, 1, 2], [1, 2, 5, 4, 1, 1], [1, 2, 6, 4, 1, 2], [2, 2, 6, 4, 2, 1], [1, 2, 6, 4, 2, 2], [1, 4, 6, 4, 2, 1], [1, 4, 6, 4, 2, 2], [1, 4, 6, 4, 3, 1], [1, 4, 6, 4, 3, 2], [1, 4, 6, 4, 3, 1], [3, 1, 6, 4, 3, 2], [3, 1, 1, 4, 3, 1], [3, 1, 1, 1, 3, 2], [3, 1, 1, 1, 3, 1], [3, 4, 1, 1, 3, 2], [3, 4, 1, 1, 3, 1], [3, 4, 1, 2, 3, 2], [2, 4, 1, 2, 3, 1], [2, 1, 1, 2, 3, 1], [1, 1, 1, 2, 3, 2], [3, 1, 1, 1, 1, 1], [3, 1, 1, 1, 1, 2], [3, 1, 1, 1, 1, 1], [3, 1, 1, 1, 1, 2], [3, 1, 2, 3, 2, 1], [3, 1, 3, 3, 2, 2], [3, 1, 3, 3, 2, 1], [3, 1, 3, 3, 2, 2], [3, 4, 3, 1, 3, 1], [3, 4, 4, 1, 3, 2], [3, 4, 4, 1, 3, 1], [3, 4, 4, 1, 3, 2], [2, 4, 4, 4, 3, 1], [2, 4, 4, 4, 3, 2], [1, 4, 4, 4, 3, 1], [3, 1, 1, 4, 3, 2], [3, 1, 1, 1, 3, 1], [3, 1, 1, 1, 3, 2], [3, 1, 1, 1, 3, 1], [3, 4, 1, 1, 3, 2], [3, 4, 1, 2, 3, 1], [3, 4, 1, 2, 1, 2], [3, 4, 4, 2, 1, 1], [3, 5, 4, 2, 1, 2], [3, 5, 4, 1, 1, 1], [3, 5, 4, 1, 2, 2], [3, 5, 4, 1, 2, 1], [2, 5, 4, 1, 2, 2], [1, 5, 4, 3, 2, 1], [1, 5, 4, 3, 3, 2], [1, 5, 4, 3, 3, 1], [1, 5, 4, 3, 3, 2], [1, 5, 4, 1, 3, 1], [1, 5, 4, 1, 3, 2], [1, 5, 4, 1, 3, 1], [1, 5, 5, 1, 3, 2], [3, 1, 5, 4, 3, 1], [3, 1, 5, 4, 3, 2], [3, 1, 5, 4, 3, 1], [3, 1, 6, 4, 3, 2], [3, 3, 6, 1, 3, 1], [2, 3, 6, 1, 3, 2], [2, 3, 6, 1, 1, 1], [1, 3, 1, 1, 1, 2], [1, 5, 1, 2, 1, 1], [1, 5, 1, 2, 1, 2], [1, 5, 1, 2, 2, 1], [1, 5, 2, 2, 2, 2], [1, 5, 3, 1, 2, 1], [1, 5, 3, 1, 2, 2], [1, 5, 3, 1, 3, 1], [1, 5, 3, 1, 3, 2], [1, 5, 4, 3, 3, 1], [1, 5, 4, 3, 3, 2], [1, 5, 4, 3, 3, 1], [1, 5, 4, 3, 3, 2], [2, 5, 4, 1, 3, 1], [1, 2, 4, 1, 3, 2], [1, 2, 4, 1, 3, 1], [1, 2, 4, 1, 3, 2], [1, 2, 4, 4, 3, 1], [1, 4, 4, 4, 3, 2], [1, 4, 4, 4, 3, 1], [1, 4, 4, 4, 1, 2], [1, 4, 4, 1, 1, 1], [1, 5, 5, 1, 1, 2], [1, 5, 5, 1, 1, 1], [1, 5, 5, 1, 2, 2], [1, 5, 5, 2, 2, 1], [1, 5, 6, 2, 2, 2], [2, 5, 6, 2, 2, 1], [1, 5, 6, 2, 3, 2], [1, 5, 6, 1, 3, 1], [1, 5, 1, 1, 3, 2], [1, 5, 1, 1, 3, 1], [1, 5, 1, 1, 3, 2], [1, 5, 1, 3, 3, 1], [1, 5, 2, 3, 3, 2], [3, 1, 3, 3, 3, 1], [3, 1, 3, 3, 3, 2], [3, 1, 3, 1, 3, 1], [3, 1, 3, 1, 3, 2], [3, 3, 4, 1, 3, 1], [3, 3, 4, 1, 3, 2], [2, 3, 4, 4, 1, 1], [1, 3, 4, 4, 1, 2], [1, 5, 4, 4, 1, 1], [1, 5, 4, 4, 1, 2], [1, 5, 4, 1, 2, 1], [1, 5, 4, 1, 2, 2], [1, 5, 4, 1, 2, 1], [1, 5, 4, 1, 2, 2], [1, 5, 4, 2, 3, 1], [1, 5, 4, 2, 3, 2], [1, 5, 4, 2, 3, 1], [1, 5, 5, 2, 3, 2], [1, 5, 5, 1, 3, 1], [1, 5, 5, 1, 3, 2], [2, 5, 5, 1, 3, 1], [1, 2, 6, 1, 3, 2], [1, 2, 6, 3, 3, 1], [1, 2, 6, 3, 3, 2], [1, 2, 6, 3, 3, 1], [1, 4, 1, 3, 3, 2], [1, 4, 1, 1, 3, 1], [1, 4, 1, 1, 1, 2], [1, 4, 1, 1, 1, 1], [1, 5, 2, 1, 1, 2], [1, 5, 3, 4, 1, 1], [1, 5, 3, 4, 2, 2], [1, 5, 3, 4, 2, 1], [1, 5, 3, 4, 2, 2], [2, 5, 4, 1, 2, 1], [1, 5, 4, 1, 3, 2], [1, 5, 4, 1, 3, 1], [1, 5, 4, 1, 3, 2], [1, 5, 4, 2, 3, 1], [1, 5, 4, 2, 3, 2], [1, 5, 4, 2, 3, 1], [1, 5, 4, 2, 3, 2], [3, 1, 4, 1, 3, 1], [3, 1, 4, 1, 3, 2], [3, 1, 4, 1, 3, 1], [3, 1, 4, 1, 3, 2], [3, 3, 4, 3, 3, 1], [3, 3, 5, 3, 3, 2], [2, 3, 5, 3, 1, 1], [1, 3, 5, 3, 1, 2], [1, 5, 5, 1, 1, 1], [1, 5, 6, 1, 1, 2], [1, 5, 6, 1, 2, 1], [1, 5, 6, 1, 2, 2], [1, 5, 6, 4, 2, 1], [1, 5, 1, 4, 2, 2], [1, 5, 1, 4, 3, 1], [1, 5, 1, 4, 3, 2], [1, 5, 1, 1, 3, 1], [1, 5, 2, 1, 3, 2], [1, 5, 3, 1, 3, 1], [1, 5, 3, 1, 3, 2], [2, 5, 3, 2, 3, 1], [1, 2, 3, 2, 3, 2], [1, 2, 4, 2, 3, 1], [1, 2, 4, 2, 3, 2], [1, 2, 4, 1, 3, 1], [1, 4, 4, 1, 3, 2], [1, 4, 4, 1, 3, 1], [1, 4, 4, 1, 1, 2], [1, 4, 4, 3, 1, 1], [1, 5, 4, 3, 1, 2], [1, 5, 4, 3, 1, 1], [1, 5, 4, 3, 2, 2], [1, 5, 4, 1, 2, 1], [1, 5, 4, 1, 2, 2], [2, 5, 4, 1, 2, 1], [1, 5, 5, 1, 3, 2], [1, 5, 5, 4, 3, 1], [1, 5, 5, 4, 3, 2], [1, 5, 5, 4, 3, 1], [1, 5, 6, 4, 3, 2], [1, 5, 6, 1, 3, 1], [1, 5, 6, 1, 3, 2], [3, 1, 6, 1, 2, 1], [3, 1, 1, 1, 2, 2], [3, 1, 1, 2, 2, 1], [3, 1, 1, 2, 2, 2], [3, 3, 1, 2, 3, 1], [3, 3, 2, 2, 3, 2], [2, 3, 3, 1, 3, 1], [1, 3, 3, 1, 3, 2], [1, 5, 3, 1, 2, 1], [1, 5, 3, 1, 2, 2], [1, 5, 4, 3, 2, 1], [1, 5, 4, 3, 2, 2], [1, 5, 4, 3, 3, 1], [1, 5, 4, 3, 3, 2], [1, 5, 4, 1, 3, 1], [1, 5, 4, 1, 3, 2], [1, 5, 4, 1, 2, 1], [1, 5, 4, 1, 2, 2], [1, 5, 4, 4, 2, 1], [1, 5, 4, 4, 2, 2], [2, 5, 4, 4, 3, 1], [1, 2, 4, 4, 3, 2], [1, 2, 4, 1, 3, 1], [1, 2, 5, 1, 3, 2], [1, 2, 5, 1, 2, 1], [1, 4, 5, 1, 2, 2], [1, 4, 5, 2, 2, 1], [1, 4, 6, 2, 2, 2], [1, 4, 6, 2, 3, 1], [1, 5, 6, 2, 3, 2], [1, 5, 6, 1, 3, 1], [1, 5, 1, 1, 3, 2], [1, 5, 1, 1, 2, 1], [1, 5, 1, 1, 2, 2], [2, 5, 1, 3, 2, 1], [1, 5, 2, 3, 2, 2], [1, 5, 3, 3, 3, 1], [1, 5, 3, 3, 3, 2], [1, 5, 3, 1, 3, 1], [1, 5, 3, 1, 3, 2], [1, 5, 4, 1, 2, 1], [1, 5, 4, 1, 2, 2], [3, 1, 4, 4, 2, 1], [3, 1, 4, 4, 2, 2], [3, 1, 4, 4, 3, 1], [3, 1, 4, 4, 3, 2], [3, 3, 4, 1, 3, 1], [3, 3, 4, 1, 3, 2], [2, 3, 4, 1, 2, 1], [1, 3, 4, 1, 2, 2], [1, 5, 4, 2, 2, 1], [1, 5, 4, 2, 2, 2], [1, 5, 4, 2, 3, 1], [1, 5, 5, 2, 3, 2], [1, 5, 5, 1, 3, 1], [1, 5, 5, 1, 3, 2], [1, 5, 5, 1, 2, 1], [1, 5, 6, 1, 2, 2], [1, 5, 6, 3, 2, 1], [1, 5, 6, 3, 2, 2], [1, 5, 6, 3, 3, 1], [1, 5, 1, 3, 3, 2], [2, 5, 1, 1, 3, 1], [1, 2, 1, 1, 3, 2], [1, 2, 1, 1, 2, 1], [1, 2, 2, 1, 2, 2], [1, 2, 3, 4, 2, 1], [1, 4, 3, 4, 2, 2], [1, 4, 3, 4, 3, 1], [1, 4, 3, 4, 3, 2], [1, 4, 4, 1, 3, 1], [1, 5, 4, 1, 3, 2], [1, 5, 4, 1, 2, 1], [1, 5, 4, 1, 2, 2], [1, 5, 4, 2, 2, 1], [1, 5, 4, 2, 2, 2], [2, 5, 4, 2, 3, 1], [1, 5, 4, 2, 3, 2], [1, 5, 4, 1, 3, 1], [1, 5, 4, 1, 3, 2], [1, 5, 4, 1, 2, 1], [1, 5, 4, 1, 2, 2], [1, 5, 4, 3, 2, 1], [1, 5, 5, 3, 2, 2], [3, 1, 5, 3, 3, 1], [3, 1, 5, 3, 3, 2], [3, 1, 5, 1, 3, 1], [3, 1, 6, 1, 3, 2], [3, 3, 6, 1, 2, 1], [3, 3, 6, 1, 2, 2], [2, 3, 6, 4, 2, 1], [1, 3, 1, 4, 2, 2], [1, 5, 1, 4, 3, 1], [1, 5, 1, 4, 3, 2], [1, 5, 1, 1, 3, 1], [1, 5, 2, 1, 3, 2], [1, 5, 3, 1, 2, 1], [1, 5, 3, 1, 2, 2], [1, 5, 3, 2, 2, 1], [1, 5, 3, 2, 2, 2], [1, 5, 4, 2, 3, 1], [1, 5, 4, 2, 3, 2], [1, 5, 4, 1, 3, 1], [1, 5, 4, 1, 3, 2], [2, 5, 4, 1, 2, 1], [1, 2, 4, 1, 2, 2], [1, 2, 4, 3, 2, 1], [1, 2, 4, 3, 2, 2], [1, 2, 4, 3, 3, 1], [1, 4, 4, 3, 3, 2], [1, 4, 4, 1, 3, 1], [1, 4, 4, 1, 3, 2], [1, 4, 4, 1, 2, 1], [1, 5, 5, 1, 2, 2], [1, 5, 5, 4, 2, 1], [1, 5, 5, 4, 2, 2], [1, 5, 5, 4, 3, 1], [1, 5, 6, 4, 3, 2], [2, 5, 6, 1, 3, 1], [1, 5, 6, 1, 3, 2], [1, 5, 6, 1, 2, 1], [1, 5, 1, 1, 2, 2], [1, 5, 1, 2, 2, 1], [1, 5, 1, 2, 2, 2], [1, 5, 1, 2, 3, 1], [1, 5, 2, 2, 3, 2], [3, 1, 3, 1, 3, 1], [3, 1, 3, 1, 3, 2], [3, 1, 3, 1, 2, 1], [3, 1, 3, 1, 2, 2], [3, 3, 1, 3, 2, 1], [3, 3, 1, 3, 2, 2], [2, 3, 1, 3, 3, 1], [1, 3, 1, 3, 3, 2], [1, 5, 4, 1, 3, 1], [1, 5, 4, 1, 3, 2], [1, 5, 4, 1, 2, 1], [1, 5, 4, 1, 2, 2], [1, 5, 1, 4, 2, 1], [1, 5, 1, 4, 2, 2], [1, 5, 1, 4, 3, 1], [1, 5, 1, 4, 3, 2], [1, 5, 4, 1, 3, 1], [1, 5, 4, 1, 3, 2], [1, 5, 4, 1, 2, 1], [1, 5, 4, 1, 2, 2], [2, 5, 1, 2, 2, 1], [1, 2, 1, 2, 2, 2], [1, 2, 1, 2, 3, 1], [1, 2, 1, 2, 3, 2], [1, 2, 4, 1, 3, 1], [1, 4, 4, 1, 3, 2], [1, 4, 4, 1, 2, 1], [1, 4, 4, 1, 2, 2], [1, 4, 1, 3, 2, 1], [1, 5, 1, 3, 2, 2], [1, 5, 1, 3, 3, 1], [1, 5, 1, 3, 3, 2], [1, 5, 4, 1, 3, 1], [1, 5, 4, 1, 3, 2], [2, 5, 4, 1, 2, 1], [1, 5, 4, 1, 2, 2], [1, 5, 1, 4, 2, 1], [1, 5, 1, 4, 2, 2], [1, 5, 1, 4, 3, 1], [1, 5, 1, 4, 3, 2], [1, 5, 4, 1, 3, 1], [1, 5, 4, 1, 3, 2], [3, 1, 4, 1, 2, 1], [3, 1, 4, 1, 2, 2], [3, 1, 1, 2, 2, 1], [3, 1, 1, 2, 2, 2], [3, 3, 1, 2, 3, 1], [3, 3, 1, 2, 3, 2], [2, 3, 4, 1, 3, 1], [1, 3, 4, 1, 3, 2], [1, 5, 4, 1, 2, 1], [1, 5, 4, 1, 2, 2], [1, 5, 1, 3, 2, 1], [1, 5, 1, 3, 2, 2], [1, 5, 1, 3, 3, 1], [1, 5, 1, 3, 3, 2], [1, 5, 4, 1, 3, 1], [1, 5, 4, 1, 3, 2], [1, 5, 4, 1, 2, 1], [1, 5, 4, 1, 2, 2], [1, 5, 1, 4, 2, 1], [1, 5, 1, 4, 2, 2], [2, 5, 1, 4, 3, 1], [1, 2, 1, 4, 3, 2], [1, 2, 4, 1, 3, 1], [1, 2, 4, 1, 3, 2], [1, 2, 4, 1, 2, 1], [1, 4, 4, 1, 2, 2], [1, 4, 1, 2, 2, 1], [1, 4, 1, 2, 2, 2], [1, 4, 1, 2, 3, 1], [1, 5, 1, 2, 3, 2], [1, 5, 4, 1, 3, 1], [1, 5, 4, 1, 3, 2], [1, 5, 4, 1, 2, 1], [1, 5, 4, 1, 2, 2], [2, 5, 1, 3, 2, 1], [1, 5, 1, 3, 2, 2], [1, 5, 1, 3, 3, 1], [1, 5, 1, 3, 3, 2], [1, 5, 4, 1, 3, 1], [1, 5, 4, 1, 3, 2], [1, 5, 4, 1, 2, 1], [1, 5, 4, 1, 2, 2], [3, 1, 1, 4, 2, 1], [3, 1, 1, 4, 2, 2], [3, 1, 1, 4, 3, 1], [3, 1, 1, 4, 3, 2], [3, 3, 4, 1, 3, 1], [3, 3, 4, 1, 3, 2], [2, 3, 4, 1, 2, 1], [1, 3, 4, 1, 2, 2], [1, 5, 1, 2, 2, 1], [1, 5, 1, 2, 2, 2]]"
   ]
  },
  {
   "cell_type": "code",
   "execution_count": 43,
   "metadata": {},
   "outputs": [],
   "source": [
    "# 300\n",
    "# action_list = [[3, 1, 1, 1, 1, 1], [3, 1, 1, 1, 1, 1], [3, 1, 1, 1, 1, 1], [3, 3, 2, 2, 1, 1], [3, 3, 3, 2, 1, 1], [3, 3, 3, 2, 1, 1], [3, 3, 3, 2, 1, 1], [3, 3, 3, 3, 1, 1], [3, 3, 4, 3, 1, 1], [3, 3, 4, 3, 1, 1], [3, 3, 4, 3, 1, 1], [3, 3, 4, 3, 1, 1], [2, 3, 5, 4, 2, 1], [1, 3, 5, 4, 2, 1], [3, 3, 5, 4, 2, 1], [3, 3, 5, 4, 2, 1], [1, 2, 6, 4, 2, 1], [1, 2, 6, 4, 1, 1], [1, 2, 6, 1, 1, 1], [1, 2, 6, 1, 1, 1], [1, 4, 1, 1, 1, 1], [1, 4, 1, 1, 1, 1], [1, 4, 1, 1, 1, 1], [1, 4, 1, 1, 1, 1], [1, 5, 2, 2, 1, 1], [1, 5, 3, 2, 1, 1], [2, 5, 3, 2, 1, 1], [1, 5, 3, 2, 1, 1], [3, 1, 3, 2, 1, 1], [3, 1, 4, 2, 1, 1], [3, 1, 4, 2, 2, 1], [3, 1, 4, 2, 2, 1], [3, 3, 4, 2, 2, 1], [3, 3, 4, 2, 2, 1], [3, 3, 5, 2, 3, 1], [3, 3, 5, 2, 3, 1], [1, 2, 5, 2, 3, 1], [1, 2, 5, 3, 3, 1], [1, 2, 6, 3, 3, 1], [1, 2, 6, 3, 3, 1], [2, 4, 6, 3, 3, 1], [1, 4, 6, 4, 3, 1], [1, 4, 6, 4, 3, 1], [1, 4, 6, 4, 3, 1], [1, 5, 1, 4, 3, 1], [1, 5, 1, 1, 3, 1], [1, 5, 1, 1, 3, 1], [1, 5, 1, 1, 1, 1], [1, 5, 1, 1, 1, 1], [1, 5, 1, 2, 1, 1], [3, 1, 1, 2, 1, 1], [3, 1, 1, 2, 1, 1], [3, 1, 1, 2, 2, 2], [3, 1, 2, 3, 2, 2], [2, 1, 2, 3, 2, 2], [1, 3, 2, 3, 2, 2], [3, 3, 2, 3, 1, 2], [3, 3, 3, 4, 1, 2], [3, 3, 3, 4, 1, 2], [1, 2, 3, 4, 1, 2], [1, 2, 3, 4, 2, 2], [1, 2, 4, 4, 2, 2], [1, 2, 4, 4, 2, 2], [1, 2, 4, 4, 2, 2], [1, 2, 4, 4, 1, 2], [1, 2, 4, 1, 1, 2], [1, 2, 4, 1, 1, 2], [1, 4, 4, 1, 1, 2], [2, 4, 4, 1, 1, 2], [1, 4, 1, 1, 1, 2], [1, 4, 1, 1, 1, 2], [1, 4, 1, 1, 1, 2], [1, 5, 1, 1, 1, 2], [1, 5, 1, 1, 1, 2], [1, 5, 1, 2, 1, 2], [1, 5, 1, 2, 1, 2], [1, 5, 1, 2, 1, 2], [3, 1, 1, 2, 2, 2], [3, 1, 1, 2, 2, 2], [3, 1, 1, 2, 2, 2], [3, 1, 1, 2, 2, 2], [3, 3, 1, 2, 3, 2], [2, 3, 4, 2, 3, 2], [1, 3, 4, 2, 3, 2], [3, 3, 4, 2, 3, 2], [1, 2, 4, 2, 3, 1], [1, 2, 4, 2, 3, 1], [1, 2, 4, 3, 3, 1], [1, 2, 4, 3, 3, 1], [1, 2, 4, 3, 3, 1], [1, 4, 4, 3, 3, 1], [1, 4, 5, 3, 3, 1], [1, 4, 5, 3, 3, 1], [1, 4, 5, 3, 2, 1], [1, 4, 5, 3, 2, 1], [1, 4, 6, 3, 2, 1], [2, 4, 6, 4, 2, 1], [1, 4, 6, 4, 2, 1], [1, 4, 6, 4, 2, 1], [1, 4, 6, 4, 1, 1], [1, 4, 6, 4, 1, 1], [1, 4, 1, 1, 1, 1], [1, 4, 1, 1, 1, 1], [1, 5, 1, 1, 1, 1], [1, 5, 1, 1, 2, 2], [1, 5, 1, 1, 2, 2], [1, 5, 1, 1, 2, 2], [1, 5, 1, 1, 2, 2], [3, 1, 1, 1, 2, 2], [3, 1, 2, 1, 1, 2], [2, 1, 3, 1, 1, 2], [1, 1, 3, 1, 1, 2], [3, 1, 3, 1, 1, 2], [3, 1, 3, 2, 2, 2], [3, 1, 4, 2, 2, 2], [3, 3, 4, 2, 2, 2], [3, 3, 4, 2, 2, 2], [3, 3, 4, 2, 1, 2], [3, 3, 4, 2, 1, 2], [1, 2, 4, 2, 1, 2], [1, 2, 4, 2, 1, 2], [1, 2, 4, 2, 3, 2], [1, 2, 4, 2, 3, 2], [3, 1, 4, 2, 3, 2], [2, 1, 4, 2, 3, 2], [1, 1, 1, 2, 3, 2], [3, 1, 1, 3, 3, 2], [1, 2, 1, 3, 3, 2], [1, 2, 1, 3, 3, 2], [1, 2, 1, 3, 3, 2], [1, 2, 1, 3, 3, 2], [1, 4, 1, 3, 3, 2], [1, 4, 1, 3, 3, 2], [1, 4, 1, 3, 2, 2], [1, 4, 1, 4, 2, 2], [3, 1, 1, 4, 2, 2], [3, 1, 1, 4, 2, 2], [3, 1, 1, 4, 3, 2], [2, 1, 4, 4, 3, 2], [1, 4, 4, 1, 3, 1], [1, 4, 4, 1, 3, 1], [1, 4, 4, 1, 3, 1], [1, 4, 4, 1, 3, 1], [3, 1, 4, 1, 3, 1], [3, 1, 1, 1, 3, 1], [3, 1, 1, 1, 2, 1], [3, 1, 1, 2, 2, 1], [3, 4, 1, 2, 2, 1], [3, 4, 1, 2, 2, 1], [3, 4, 1, 2, 2, 1], [3, 4, 1, 2, 1, 1], [3, 1, 1, 2, 1, 1], [2, 1, 1, 2, 1, 1], [1, 1, 1, 2, 1, 1], [3, 1, 1, 2, 3, 1], [3, 4, 4, 3, 3, 1], [3, 4, 4, 3, 3, 1], [3, 4, 4, 3, 3, 1], [3, 4, 4, 3, 3, 2], [3, 4, 4, 3, 3, 2], [3, 4, 4, 3, 3, 2], [3, 4, 4, 3, 3, 2], [3, 4, 5, 3, 3, 2], [3, 4, 5, 3, 3, 2], [3, 4, 5, 3, 3, 2], [3, 4, 5, 3, 2, 2], [2, 4, 1, 3, 2, 2], [1, 4, 1, 3, 2, 2], [1, 5, 1, 4, 2, 2], [1, 5, 1, 4, 3, 2], [1, 5, 1, 4, 3, 2], [1, 5, 1, 4, 3, 2], [1, 5, 6, 4, 3, 2], [1, 5, 6, 1, 3, 2], [3, 1, 6, 1, 3, 2], [3, 1, 6, 1, 3, 2], [3, 1, 6, 1, 3, 2], [3, 1, 1, 1, 3, 2], [3, 1, 1, 1, 3, 2], [3, 1, 1, 2, 2, 2], [2, 1, 1, 2, 2, 2], [1, 3, 2, 2, 2, 2], [3, 3, 2, 2, 2, 2], [3, 3, 2, 2, 2, 2], [3, 3, 2, 2, 1, 2], [1, 2, 3, 2, 1, 2], [1, 2, 3, 2, 1, 2], [1, 2, 3, 2, 1, 2], [1, 2, 3, 2, 3, 2], [1, 4, 4, 2, 3, 2], [1, 4, 4, 2, 3, 2], [1, 4, 4, 2, 3, 2], [1, 4, 4, 3, 3, 2], [3, 1, 1, 3, 3, 2], [2, 1, 1, 3, 3, 2], [1, 1, 1, 3, 3, 2], [3, 1, 1, 3, 3, 1], [3, 4, 1, 3, 3, 1], [3, 4, 1, 3, 3, 1], [3, 4, 1, 3, 3, 1], [3, 4, 1, 3, 3, 1], [3, 5, 1, 3, 2, 1], [3, 5, 1, 4, 2, 1], [3, 5, 1, 4, 2, 1], [3, 5, 4, 4, 2, 1], [3, 5, 4, 4, 2, 1], [3, 5, 4, 4, 2, 1], [3, 5, 4, 1, 1, 1], [2, 1, 4, 1, 1, 1], [1, 1, 4, 1, 1, 1], [3, 1, 4, 1, 1, 1], [3, 1, 4, 1, 1, 1], [3, 3, 4, 1, 1, 1], [3, 3, 4, 1, 1, 1], [3, 3, 4, 1, 1, 1], [3, 3, 4, 1, 1, 1], [3, 1, 4, 1, 1, 1], [3, 1, 5, 1, 1, 1], [3, 1, 5, 1, 1, 1], [3, 1, 5, 2, 1, 1], [1, 2, 5, 2, 2, 1], [1, 2, 1, 2, 2, 1], [2, 2, 1, 2, 2, 1], [1, 2, 1, 2, 2, 1], [1, 2, 1, 2, 2, 1], [1, 2, 1, 2, 1, 1], [1, 2, 1, 2, 1, 1], [1, 2, 1, 2, 1, 1], [1, 4, 1, 2, 1, 1], [1, 4, 1, 2, 3, 1], [1, 4, 1, 2, 3, 1], [1, 4, 1, 2, 3, 1], [3, 1, 1, 3, 3, 1], [3, 1, 1, 3, 3, 1], [3, 1, 6, 3, 3, 1], [3, 1, 6, 3, 3, 2], [2, 4, 6, 3, 3, 2], [2, 4, 6, 3, 3, 2], [1, 4, 1, 3, 3, 2], [1, 4, 1, 3, 3, 2], [1, 5, 1, 3, 3, 2], [1, 5, 1, 3, 2, 2], [1, 5, 1, 3, 2, 2], [1, 5, 1, 4, 2, 2], [1, 5, 1, 4, 2, 2], [1, 5, 1, 4, 3, 2], [1, 5, 1, 4, 3, 2], [1, 5, 1, 1, 3, 2], [3, 1, 2, 1, 3, 2], [3, 1, 3, 1, 3, 2], [3, 1, 3, 1, 3, 2], [2, 1, 3, 1, 3, 2], [1, 3, 3, 1, 3, 2], [3, 3, 4, 1, 2, 2], [3, 3, 4, 1, 2, 2], [3, 3, 4, 2, 2, 2], [3, 1, 4, 2, 2, 2], [3, 1, 4, 2, 2, 2], [3, 1, 4, 2, 3, 2], [3, 1, 4, 2, 3, 2], [1, 2, 4, 2, 3, 2], [1, 2, 4, 2, 3, 2], [1, 2, 4, 2, 3, 2], [1, 2, 4, 2, 3, 2], [3, 1, 4, 2, 3, 2], [2, 1, 4, 2, 3, 2], [1, 1, 1, 2, 3, 2], [3, 1, 1, 2, 3, 2], [3, 1, 1, 3, 3, 2], [3, 1, 1, 3, 3, 2], [3, 1, 1, 3, 3, 2], [1, 2, 1, 3, 1, 2], [1, 2, 1, 3, 1, 2], [1, 2, 1, 3, 1, 2], [1, 2, 1, 3, 1, 2], [3, 1, 4, 4, 1, 2], [3, 1, 4, 4, 1, 2], [3, 1, 4, 4, 1, 1], [3, 1, 4, 4, 1, 1], [2, 1, 4, 4, 1, 1], [1, 2, 4, 4, 1, 1], [1, 2, 4, 4, 1, 1], [1, 2, 4, 1, 1, 1], [1, 2, 4, 1, 1, 1], [3, 1, 4, 1, 2, 1], [3, 1, 4, 1, 2, 1], [3, 1, 1, 1, 2, 1], [3, 1, 1, 1, 2, 1], [1, 2, 1, 1, 2, 1], [1, 2, 1, 1, 2, 1], [1, 2, 1, 1, 1, 1], [1, 2, 1, 1, 1, 1], [3, 1, 1, 1, 1, 1], [2, 1, 1, 1, 1, 1], [1, 1, 1, 1, 1, 1], [3, 1, 1, 2, 1, 1], [1, 2, 1, 2, 1, 1], [1, 2, 4, 2, 1, 1], [1, 2, 4, 2, 1, 1], [1, 2, 4, 2, 3, 1], [3, 1, 4, 2, 3, 1], [3, 1, 4, 2, 3, 1], [3, 1, 4, 2, 3, 1], [3, 1, 4, 2, 3, 2], [1, 2, 4, 2, 3, 2], [1, 2, 4, 2, 3, 2], [1, 2, 4, 2, 2, 2], [2, 2, 4, 2, 2, 2], [1, 5, 4, 3, 2, 2], [1, 5, 4, 3, 2, 2], [1, 5, 5, 3, 3, 2], [1, 5, 5, 3, 3, 2], [1, 5, 5, 3, 3, 2], [1, 5, 5, 3, 3, 2], [1, 4, 5, 3, 3, 2], [1, 4, 5, 3, 3, 2], [1, 4, 5, 3, 3, 2], [1, 4, 1, 3, 3, 2], [3, 1, 1, 3, 3, 2], [3, 1, 1, 3, 2, 2], [3, 1, 1, 3, 2, 2], [2, 1, 1, 4, 2, 2], [1, 4, 1, 4, 2, 2], [1, 4, 1, 4, 3, 2], [1, 4, 1, 4, 3, 2], [1, 4, 1, 4, 3, 2], [3, 1, 1, 4, 3, 2], [3, 1, 6, 4, 3, 2], [3, 1, 6, 4, 3, 2], [3, 1, 6, 4, 3, 2], [3, 4, 6, 1, 3, 2], [3, 4, 2, 1, 2, 2], [3, 4, 2, 1, 2, 2], [3, 4, 2, 1, 2, 2], [3, 1, 2, 1, 2, 2], [2, 1, 1, 1, 2, 2], [1, 1, 1, 1, 1, 2], [3, 1, 1, 1, 1, 2], [3, 4, 1, 1, 1, 2], [3, 4, 1, 1, 1, 2], [3, 4, 1, 1, 1, 2], [3, 4, 1, 1, 1, 2], [3, 4, 1, 1, 1, 2], [3, 4, 1, 2, 1, 2], [3, 4, 1, 2, 1, 2], [3, 4, 2, 2, 1, 2], [3, 1, 2, 2, 1, 2], [3, 1, 2, 2, 1, 2], [3, 1, 3, 2, 1, 2], [2, 1, 3, 2, 2, 2], [1, 4, 3, 2, 2, 2], [1, 4, 3, 2, 2, 2], [1, 4, 4, 2, 2, 2], [1, 4, 4, 2, 3, 2], [3, 1, 4, 2, 3, 2], [3, 1, 4, 2, 3, 2], [3, 1, 1, 3, 3, 2], [3, 1, 1, 3, 3, 2], [3, 4, 1, 3, 3, 2], [3, 4, 1, 3, 3, 2], [3, 4, 1, 3, 3, 2], [3, 4, 1, 3, 3, 2], [3, 1, 1, 3, 3, 2], [2, 1, 1, 3, 3, 2], [1, 1, 1, 4, 3, 2], [3, 1, 1, 4, 3, 2], [3, 4, 1, 4, 1, 2], [3, 4, 4, 4, 1, 2], [3, 4, 4, 4, 1, 2], [3, 4, 4, 4, 1, 2], [3, 1, 4, 4, 1, 2], [3, 1, 4, 4, 1, 2], [3, 1, 4, 4, 1, 2], [3, 1, 4, 1, 1, 2], [3, 4, 4, 1, 1, 2], [3, 4, 4, 1, 1, 2], [3, 4, 4, 1, 1, 2], [2, 4, 4, 1, 1, 2], [1, 1, 4, 1, 1, 2], [3, 1, 4, 1, 2, 2], [3, 1, 1, 1, 2, 2], [3, 1, 1, 1, 2, 2], [3, 4, 1, 1, 2, 2], [3, 4, 1, 1, 2, 2], [3, 4, 1, 1, 2, 2], [3, 4, 1, 1, 2, 2], [3, 1, 1, 2, 2, 2], [3, 1, 4, 2, 2, 2], [3, 1, 4, 2, 1, 2], [3, 1, 4, 2, 1, 2], [3, 4, 4, 2, 1, 2], [2, 4, 4, 2, 1, 2], [1, 4, 4, 2, 1, 2], [1, 4, 4, 2, 1, 2], [1, 5, 4, 2, 1, 2], [1, 5, 4, 2, 1, 2], [1, 5, 4, 2, 1, 1], [1, 5, 4, 2, 1, 1], [1, 5, 4, 2, 3, 1], [1, 5, 4, 3, 3, 1], [1, 5, 5, 3, 3, 1], [1, 5, 5, 3, 3, 1], [3, 1, 5, 3, 3, 1], [3, 1, 5, 3, 3, 1], [3, 1, 5, 3, 3, 1], [2, 1, 5, 3, 2, 1], [1, 3, 5, 3, 2, 1], [3, 3, 5, 4, 2, 1], [3, 3, 5, 4, 2, 1], [3, 3, 5, 4, 2, 1], [3, 1, 5, 4, 2, 1], [3, 1, 5, 4, 2, 1], [3, 1, 1, 4, 2, 1], [3, 1, 1, 4, 2, 1], [3, 1, 1, 4, 2, 1], [3, 1, 1, 4, 2, 1], [1, 2, 1, 4, 2, 1], [1, 2, 1, 4, 1, 1], [1, 2, 1, 4, 1, 1], [2, 2, 1, 4, 1, 1], [1, 2, 1, 1, 1, 1], [1, 4, 1, 1, 1, 1], [1, 4, 6, 1, 1, 1], [1, 4, 6, 1, 1, 1], [1, 4, 6, 1, 1, 1], [1, 4, 6, 1, 1, 1], [3, 1, 2, 1, 1, 1], [3, 1, 1, 1, 1, 1], [3, 1, 1, 1, 1, 1], [3, 1, 1, 1, 1, 1], [3, 1, 1, 1, 2, 1], [3, 1, 1, 1, 2, 1], [3, 1, 1, 1, 2, 1], [2, 1, 1, 2, 2, 1], [1, 4, 1, 2, 2, 1], [1, 4, 1, 2, 2, 1], [1, 4, 1, 2, 2, 1], [1, 4, 1, 2, 1, 1], [3, 1, 1, 2, 1, 1], [3, 1, 2, 2, 1, 1], [3, 1, 3, 2, 1, 2], [3, 1, 3, 2, 2, 2], [3, 4, 3, 2, 2, 2], [3, 4, 3, 2, 2, 2], [3, 4, 4, 2, 2, 2], [3, 4, 4, 2, 3, 2], [3, 1, 4, 3, 3, 2], [2, 1, 4, 3, 3, 2], [1, 1, 1, 3, 3, 2], [3, 1, 1, 3, 3, 2], [3, 4, 1, 3, 3, 2], [3, 4, 1, 3, 3, 2], [3, 4, 1, 3, 3, 2], [3, 4, 1, 3, 3, 2], [3, 5, 1, 4, 3, 2], [3, 5, 1, 4, 2, 2], [3, 5, 4, 4, 2, 2], [3, 5, 4, 4, 2, 2], [3, 5, 4, 1, 2, 2], [3, 5, 4, 1, 3, 2], [3, 1, 4, 1, 3, 2], [2, 1, 4, 1, 3, 2], [1, 1, 4, 1, 3, 2], [3, 1, 4, 1, 2, 2], [3, 1, 4, 1, 2, 2], [3, 3, 4, 1, 2, 2], [3, 3, 1, 1, 2, 2], [3, 3, 1, 1, 1, 2], [3, 3, 1, 1, 1, 2], [3, 1, 1, 1, 1, 2], [3, 1, 1, 1, 1, 2], [3, 1, 1, 2, 2, 2], [3, 1, 1, 2, 2, 2], [1, 2, 1, 2, 2, 2], [1, 2, 1, 2, 2, 2], [2, 2, 1, 2, 3, 2], [1, 2, 1, 2, 3, 2], [3, 1, 4, 2, 3, 2], [3, 1, 4, 2, 3, 2], [3, 1, 4, 2, 2, 2], [3, 1, 4, 2, 2, 2], [1, 2, 4, 2, 2, 2], [1, 2, 4, 2, 2, 2], [1, 2, 4, 2, 3, 2], [1, 2, 4, 3, 3, 2], [3, 1, 4, 3, 3, 2], [3, 1, 4, 3, 3, 2], [3, 1, 1, 3, 2, 2], [3, 1, 1, 3, 2, 2], [2, 2, 1, 3, 2, 2], [1, 2, 1, 3, 2, 2], [1, 2, 1, 3, 3, 2], [1, 2, 1, 3, 3, 2], [3, 1, 1, 3, 3, 2], [3, 1, 1, 3, 3, 2], [3, 1, 1, 3, 2, 2], [3, 1, 1, 4, 2, 2], [1, 2, 1, 4, 2, 2], [1, 2, 1, 4, 2, 2], [1, 2, 1, 4, 3, 2], [1, 2, 4, 4, 3, 2], [3, 1, 4, 4, 3, 2], [3, 1, 4, 4, 3, 2], [2, 1, 4, 4, 3, 2], [1, 1, 4, 4, 3, 1], [1, 2, 4, 4, 3, 1], [1, 2, 4, 4, 3, 1], [1, 2, 4, 4, 3, 1], [1, 2, 4, 4, 3, 2], [1, 5, 4, 1, 2, 2], [1, 5, 4, 1, 2, 2], [1, 5, 4, 1, 2, 2], [1, 5, 4, 1, 2, 2], [1, 5, 5, 1, 3, 2], [1, 5, 5, 1, 3, 2], [1, 4, 5, 1, 3, 2], [1, 4, 5, 1, 3, 2], [2, 4, 5, 1, 3, 2], [1, 4, 5, 1, 3, 2], [3, 1, 5, 1, 2, 2], [3, 1, 1, 1, 2, 2], [3, 1, 1, 1, 2, 2], [3, 1, 1, 2, 2, 2], [3, 1, 1, 2, 3, 2], [3, 4, 1, 2, 3, 2], [3, 4, 1, 2, 3, 2], [3, 4, 1, 2, 3, 2], [3, 4, 1, 2, 3, 2], [3, 1, 1, 2, 3, 2], [3, 1, 6, 2, 3, 2], [3, 1, 6, 2, 3, 1], [2, 1, 6, 2, 3, 1], [1, 4, 6, 2, 3, 1], [1, 4, 2, 2, 3, 1], [1, 4, 2, 2, 3, 1], [1, 4, 2, 3, 3, 1], [3, 1, 2, 3, 1, 1], [3, 1, 1, 3, 1, 1], [3, 1, 1, 3, 1, 1], [3, 1, 1, 3, 1, 1], [3, 1, 1, 3, 3, 1], [3, 1, 1, 3, 3, 1], [3, 1, 2, 3, 3, 1], [3, 4, 3, 3, 3, 1], [3, 4, 3, 3, 3, 1], [2, 4, 3, 3, 3, 1], [1, 4, 3, 3, 3, 2], [3, 1, 4, 3, 3, 2], [3, 1, 4, 4, 3, 2], [3, 1, 4, 4, 2, 2], [3, 1, 4, 4, 2, 2], [3, 1, 4, 4, 2, 2], [3, 4, 4, 4, 2, 2], [3, 4, 4, 4, 3, 2], [3, 4, 1, 4, 3, 2], [3, 4, 1, 4, 3, 2], [3, 1, 1, 4, 3, 2], [3, 1, 1, 4, 3, 2], [3, 1, 1, 4, 3, 2], [2, 1, 1, 4, 3, 2], [1, 4, 1, 4, 3, 1], [1, 4, 4, 1, 2, 2], [1, 4, 4, 1, 2, 1], [1, 4, 4, 1, 2, 1], [1, 4, 4, 1, 2, 1], [1, 4, 4, 1, 3, 1], [3, 1, 4, 1, 3, 1], [3, 1, 4, 1, 3, 1], [3, 1, 4, 1, 3, 1], [3, 1, 4, 1, 3, 1], [3, 4, 4, 1, 3, 1], [3, 4, 4, 1, 2, 1], [3, 4, 4, 1, 2, 1], [2, 4, 4, 1, 2, 1], [1, 5, 5, 2, 2, 1], [1, 5, 5, 2, 2, 1], [1, 5, 5, 2, 2, 1], [1, 5, 5, 2, 1, 1], [1, 5, 1, 2, 1, 1], [1, 5, 1, 2, 1, 1], [1, 5, 1, 2, 1, 2], [3, 1, 1, 2, 2, 2], [3, 1, 1, 2, 2, 2], [3, 1, 1, 2, 2, 2], [3, 1, 6, 2, 2, 2], [3, 1, 6, 2, 3, 2], [3, 1, 6, 2, 3, 2], [2, 3, 6, 3, 3, 2], [1, 3, 2, 3, 3, 2], [3, 3, 1, 3, 3, 2], [3, 3, 1, 3, 3, 2], [1, 2, 1, 3, 3, 2], [1, 2, 1, 4, 3, 2], [1, 2, 2, 4, 3, 2], [1, 2, 3, 4, 3, 2], [3, 1, 3, 4, 3, 2], [3, 1, 3, 4, 3, 2], [3, 1, 3, 4, 2, 2], [3, 1, 4, 4, 2, 2], [3, 1, 4, 4, 2, 2], [1, 2, 4, 4, 2, 2], [2, 2, 4, 4, 3, 2], [1, 2, 4, 4, 3, 2], [1, 2, 1, 4, 3, 2], [3, 1, 1, 4, 3, 2], [3, 1, 1, 1, 3, 2], [3, 1, 1, 1, 3, 1], [3, 1, 1, 1, 3, 1], [1, 2, 1, 1, 2, 1], [1, 2, 1, 1, 2, 1], [1, 2, 1, 1, 2, 1], [1, 2, 1, 1, 2, 1], [1, 4, 1, 1, 2, 1], [1, 4, 1, 1, 2, 1], [1, 4, 1, 1, 2, 1], [2, 4, 4, 1, 2, 1], [1, 1, 4, 1, 2, 1], [3, 1, 4, 1, 2, 1], [3, 1, 4, 2, 2, 1], [3, 1, 1, 2, 2, 1], [3, 4, 1, 2, 2, 1], [3, 4, 1, 2, 1, 1], [3, 4, 1, 2, 1, 1], [3, 4, 1, 2, 1, 1], [3, 1, 1, 2, 1, 1], [3, 1, 1, 2, 1, 1], [3, 1, 1, 2, 1, 1], [3, 1, 1, 2, 1, 1], [3, 4, 1, 2, 3, 1], [2, 4, 1, 2, 3, 2], [1, 4, 1, 2, 3, 2], [1, 4, 1, 3, 3, 2], [3, 1, 4, 3, 3, 2], [3, 1, 4, 3, 3, 2], [3, 1, 4, 3, 3, 2], [3, 1, 4, 3, 2, 2], [3, 4, 4, 3, 2, 2], [3, 4, 4, 3, 2, 2], [3, 4, 4, 3, 2, 2], [3, 4, 4, 3, 3, 2], [3, 1, 4, 3, 3, 2], [3, 1, 1, 3, 3, 2], [3, 1, 1, 3, 3, 2], [2, 1, 1, 3, 3, 2], [1, 4, 1, 4, 3, 2], [1, 4, 1, 4, 3, 2], [1, 4, 1, 4, 3, 2], [1, 4, 1, 4, 3, 2], [1, 5, 1, 4, 3, 2], [1, 5, 1, 4, 3, 2], [1, 5, 4, 4, 3, 2], [1, 5, 4, 4, 3, 2], [1, 5, 4, 4, 1, 2], [3, 1, 4, 4, 1, 2], [3, 1, 4, 4, 1, 2], [3, 1, 4, 4, 1, 2], [3, 1, 4, 4, 1, 2], [2, 3, 4, 1, 1, 2], [1, 3, 4, 1, 1, 2], [3, 3, 4, 1, 1, 2], [3, 3, 4, 1, 1, 2], [3, 1, 4, 1, 1, 2], [3, 1, 4, 1, 1, 2], [3, 1, 5, 1, 1, 2], [3, 1, 5, 1, 1, 2], [1, 2, 5, 1, 2, 2], [1, 2, 5, 1, 2, 2], [1, 2, 5, 1, 2, 2], [1, 2, 5, 1, 2, 2], [3, 1, 5, 1, 2, 2], [3, 1, 5, 2, 2, 2], [2, 1, 5, 2, 2, 2], [1, 1, 5, 2, 2, 2], [1, 2, 5, 2, 2, 2], [1, 2, 5, 2, 2, 2], [1, 2, 6, 2, 2, 2], [1, 2, 6, 1, 1, 2], [3, 1, 6, 1, 1, 2], [3, 1, 6, 1, 1, 2], [3, 1, 2, 1, 1, 2], [3, 1, 1, 1, 3, 2], [3, 1, 1, 1, 3, 2], [3, 1, 1, 1, 3, 2], [3, 1, 1, 1, 3, 2], [3, 1, 1, 1, 3, 2], [2, 2, 1, 1, 3, 2], [1, 2, 1, 1, 3, 2], [1, 2, 1, 1, 3, 2], [1, 2, 1, 1, 3, 2], [3, 1, 1, 3, 3, 2], [3, 1, 1, 3, 3, 2], [3, 1, 1, 3, 3, 2], [3, 1, 1, 3, 2, 2], [1, 2, 2, 4, 2, 2], [1, 2, 3, 4, 2, 2], [1, 2, 3, 4, 2, 2], [1, 2, 3, 4, 2, 2], [3, 1, 3, 1, 1, 2], [3, 1, 4, 1, 1, 2], [2, 1, 4, 1, 1, 2], [1, 1, 4, 1, 1, 2], [1, 2, 4, 1, 1, 2], [1, 2, 4, 1, 1, 2], [1, 2, 4, 1, 1, 2], [1, 2, 4, 1, 1, 2], [1, 5, 4, 1, 1, 2], [1, 5, 4, 1, 1, 2], [1, 5, 4, 1, 1, 2], [1, 5, 4, 2, 1, 2], [1, 5, 4, 2, 1, 2], [1, 5, 4, 2, 2, 2], [1, 5, 5, 2, 2, 2], [1, 4, 5, 2, 2, 2], [2, 4, 5, 2, 2, 2], [1, 4, 5, 2, 2, 2], [1, 4, 6, 1, 1, 2], [3, 1, 6, 1, 1, 2], [3, 1, 6, 1, 1, 2], [3, 1, 6, 1, 1, 1], [3, 1, 6, 1, 3, 1], [3, 4, 2, 1, 3, 1], [3, 4, 2, 1, 3, 1], [3, 4, 2, 1, 3, 1], [3, 4, 1, 1, 3, 1], [3, 1, 1, 3, 3, 2], [3, 1, 1, 3, 3, 1], [3, 1, 1, 3, 2, 2], [2, 1, 1, 3, 2, 2], [1, 1, 1, 3, 2, 2], [3, 1, 1, 4, 2, 2], [3, 4, 1, 4, 2, 2], [3, 4, 1, 4, 2, 2], [3, 4, 1, 4, 2, 2], [3, 4, 1, 4, 1, 2], [3, 4, 1, 1, 1, 2], [3, 4, 1, 1, 1, 2], [3, 4, 2, 1, 1, 2], [3, 4, 3, 1, 1, 2], [3, 1, 3, 1, 1, 2], [3, 1, 3, 1, 1, 2], [3, 1, 3, 1, 1, 2], [2, 1, 1, 1, 1, 2], [1, 4, 1, 1, 1, 2], [1, 4, 1, 1, 1, 2], [1, 4, 1, 2, 1, 2], [1, 4, 1, 2, 1, 2], [1, 5, 1, 2, 2, 2], [1, 5, 1, 2, 2, 1], [1, 5, 4, 2, 2, 1], [1, 5, 4, 2, 2, 1], [3, 1, 4, 2, 1, 1], [3, 1, 4, 2, 1, 1], [3, 1, 4, 2, 1, 1], [3, 1, 4, 2, 1, 1], [3, 3, 4, 2, 1, 1], [2, 3, 4, 2, 1, 1], [1, 3, 4, 2, 1, 1], [3, 3, 4, 3, 1, 1], [1, 2, 4, 3, 3, 1], [1, 2, 4, 3, 3, 1], [1, 2, 4, 3, 3, 1], [1, 2, 5, 3, 3, 2], [3, 1, 5, 3, 3, 2], [3, 1, 5, 3, 3, 2], [3, 1, 5, 3, 3, 2], [3, 1, 6, 3, 3, 2], [1, 2, 6, 3, 3, 2], [1, 2, 6, 3, 2, 2], [1, 2, 6, 3, 2, 2], [2, 2, 2, 3, 2, 2], [1, 4, 2, 4, 2, 2], [1, 4, 2, 4, 3, 2], [1, 4, 2, 4, 3, 2], [1, 4, 1, 4, 3, 2], [3, 1, 1, 4, 3, 2], [3, 1, 1, 4, 3, 2], [3, 1, 1, 4, 3, 2], [3, 1, 1, 4, 3, 2], [3, 4, 1, 4, 3, 2], [3, 4, 1, 4, 3, 2], [3, 4, 1, 4, 3, 2], [3, 4, 2, 4, 3, 2], [3, 1, 3, 4, 2, 2], [2, 1, 3, 1, 2, 2], [1, 1, 3, 1, 2, 2], [3, 1, 3, 1, 2, 2], [3, 4, 4, 1, 2, 2], [3, 4, 4, 1, 2, 2], [3, 4, 4, 1, 2, 2], [3, 4, 4, 1, 1, 2], [3, 1, 4, 1, 1, 2], [3, 1, 4, 1, 1, 2], [3, 1, 4, 1, 1, 2], [3, 1, 4, 1, 1, 2], [3, 4, 4, 1, 1, 2], [3, 4, 4, 1, 1, 2], [3, 4, 4, 2, 1, 2], [2, 4, 4, 2, 1, 2], [1, 1, 4, 2, 1, 2], [3, 1, 5, 2, 1, 2], [3, 1, 5, 2, 3, 2], [3, 1, 5, 2, 3, 2], [3, 4, 5, 2, 3, 2], [3, 4, 6, 2, 3, 2], [3, 4, 6, 2, 3, 2], [3, 4, 6, 2, 3, 2], [3, 5, 6, 2, 3, 2], [3, 5, 1, 2, 3, 2], [3, 5, 1, 2, 3, 2], [3, 5, 1, 3, 3, 2], [3, 5, 1, 3, 3, 2], [2, 5, 2, 3, 2, 2], [1, 5, 2, 3, 2, 2], [1, 5, 3, 3, 2, 2], [1, 5, 3, 3, 2, 2], [1, 5, 3, 3, 2, 2], [1, 5, 3, 3, 2, 2], [1, 5, 4, 1, 2, 2], [1, 5, 4, 1, 2, 2], [3, 1, 4, 1, 1, 2], [3, 1, 4, 1, 1, 2], [3, 1, 4, 1, 1, 2], [3, 1, 4, 1, 1, 2], [3, 3, 4, 1, 1, 2], [3, 3, 4, 1, 1, 2], [2, 3, 4, 1, 1, 2], [1, 3, 4, 1, 1, 2], [1, 2, 4, 1, 1, 2], [1, 2, 4, 4, 1, 2], [1, 2, 4, 4, 1, 2], [1, 2, 5, 4, 1, 2], [1, 4, 5, 4, 1, 2], [1, 4, 5, 1, 2, 2], [1, 4, 5, 1, 2, 2], [1, 4, 6, 1, 2, 2], [1, 5, 6, 1, 2, 2], [1, 5, 6, 1, 2, 2], [1, 5, 6, 1, 2, 2], [1, 5, 1, 1, 1, 2], [2, 5, 1, 1, 1, 2], [1, 5, 1, 1, 1, 2], [1, 5, 1, 1, 1, 2], [1, 5, 2, 2, 1, 2], [1, 5, 3, 2, 1, 2], [1, 5, 3, 2, 1, 2], [1, 5, 3, 2, 1, 2], [1, 5, 3, 3, 1, 2], [1, 5, 4, 3, 1, 2], [3, 1, 4, 3, 1, 2], [3, 1, 4, 3, 1, 2], [3, 1, 4, 3, 1, 2], [3, 1, 4, 4, 2, 2], [3, 3, 4, 4, 2, 2], [2, 3, 4, 4, 2, 2], [1, 3, 4, 4, 2, 2], [3, 3, 4, 1, 2, 2], [1, 2, 4, 1, 2, 2], [1, 2, 4, 1, 2, 2], [1, 2, 4, 1, 2, 2], [1, 2, 4, 1, 1, 2], [1, 4, 5, 1, 1, 2], [1, 4, 5, 1, 1, 2], [1, 4, 5, 1, 1, 2], [1, 4, 5, 1, 1, 2], [1, 5, 6, 1, 1, 2], [1, 5, 6, 1, 1, 2], [1, 5, 6, 1, 1, 2], [2, 5, 6, 1, 1, 2], [1, 5, 1, 2, 1, 2], [1, 5, 1, 2, 1, 2], [1, 5, 1, 2, 1, 2], [1, 5, 1, 2, 1, 2], [1, 5, 2, 3, 2, 2], [1, 5, 3, 3, 2, 2], [1, 5, 3, 3, 2, 2], [1, 5, 3, 3, 2, 2], [1, 5, 3, 4, 2, 2], [3, 1, 4, 4, 2, 2], [3, 1, 4, 4, 2, 2], [3, 1, 4, 4, 1, 2], [3, 1, 4, 1, 1, 2], [2, 3, 4, 1, 1, 2], [1, 3, 4, 1, 1, 2], [3, 3, 4, 1, 1, 2], [3, 3, 4, 1, 1, 2], [1, 2, 4, 1, 1, 2], [1, 2, 4, 1, 1, 2], [1, 2, 4, 1, 1, 2], [1, 2, 4, 1, 1, 2], [1, 4, 4, 1, 1, 2], [1, 4, 5, 1, 1, 2], [1, 4, 5, 1, 1, 2], [1, 4, 5, 1, 2, 2], [1, 5, 5, 2, 2, 2], [1, 5, 6, 2, 2, 2], [2, 5, 6, 2, 2, 2], [1, 5, 6, 2, 1, 2], [1, 5, 6, 3, 1, 2], [1, 5, 2, 3, 1, 2], [1, 5, 1, 3, 1, 2], [1, 5, 1, 3, 1, 2], [1, 5, 1, 4, 1, 2], [1, 5, 1, 4, 1, 2], [3, 1, 2, 4, 1, 2], [3, 1, 3, 4, 1, 2], [3, 1, 3, 1, 2, 2], [3, 1, 3, 1, 2, 2], [3, 3, 3, 1, 2, 2], [3, 3, 4, 1, 2, 2], [2, 3, 4, 2, 1, 2], [1, 3, 4, 2, 1, 2], [1, 2, 4, 2, 1, 2], [1, 2, 4, 2, 1, 2], [1, 2, 4, 2, 2, 2], [1, 2, 4, 2, 2, 2], [1, 4, 4, 2, 2, 2], [1, 4, 4, 2, 2, 2], [1, 4, 4, 2, 1, 2], [1, 4, 4, 2, 1, 2], [3, 1, 4, 2, 1, 2], [3, 1, 4, 2, 1, 2], [3, 1, 5, 2, 2, 2], [3, 1, 5, 3, 2, 2], [2, 4, 5, 3, 2, 2], [1, 4, 5, 3, 2, 2], [1, 4, 6, 3, 1, 2], [1, 4, 6, 4, 1, 2], [3, 1, 6, 4, 1, 2], [3, 1, 6, 4, 1, 2], [3, 1, 1, 4, 2, 2], [3, 1, 1, 4, 2, 2], [3, 4, 1, 4, 2, 2], [3, 4, 1, 4, 2, 2], [3, 4, 2, 4, 1, 2], [3, 4, 3, 4, 1, 2], [3, 1, 3, 4, 1, 2], [3, 1, 3, 4, 1, 2], [2, 1, 3, 4, 2, 2], [1, 1, 4, 4, 2, 2], [1, 4, 4, 1, 2, 2], [1, 4, 4, 1, 2, 2], [1, 4, 4, 1, 1, 2], [1, 4, 4, 1, 1, 2], [3, 1, 4, 2, 1, 2], [3, 1, 4, 2, 1, 2], [3, 1, 4, 2, 2, 2], [3, 1, 4, 2, 2, 2], [3, 4, 4, 2, 2, 2], [3, 4, 4, 2, 2, 2], [3, 4, 4, 2, 1, 2], [3, 4, 4, 2, 1, 2], [2, 1, 5, 2, 1, 2], [1, 1, 5, 2, 1, 2], [3, 1, 5, 2, 2, 2], [3, 1, 5, 2, 2, 2], [3, 4, 6, 2, 2, 2], [3, 4, 6, 3, 2, 2], [3, 4, 6, 3, 1, 2], [3, 4, 6, 3, 1, 2], [3, 1, 1, 3, 1, 2]]"
   ]
  },
  {
   "cell_type": "code",
   "execution_count": 44,
   "metadata": {},
   "outputs": [],
   "source": [
    "# traffic police500\n",
    "# action_list =[[3, 1, 1, 1, 1, 1], [3, 1, 1, 1, 1, 1], [3, 1, 1, 1, 1, 1], [3, 3, 2, 2, 1, 1], [3, 3, 3, 2, 1, 1], [3, 3, 3, 2, 1, 1], [3, 3, 3, 2, 1, 1], [3, 3, 3, 3, 1, 1], [3, 3, 4, 3, 1, 1], [3, 3, 4, 3, 1, 1], [3, 3, 4, 3, 1, 1], [3, 3, 4, 3, 1, 1], [2, 3, 5, 3, 2, 1], [1, 3, 5, 4, 2, 1], [3, 3, 5, 4, 2, 1], [1, 2, 5, 4, 2, 1], [1, 2, 6, 4, 1, 1], [1, 2, 6, 4, 1, 1], [1, 2, 6, 4, 1, 1], [1, 4, 6, 1, 1, 1], [1, 4, 6, 1, 1, 1], [1, 4, 1, 1, 1, 1], [1, 4, 1, 1, 1, 1], [1, 5, 1, 1, 1, 1], [1, 5, 1, 2, 1, 1], [1, 5, 2, 2, 1, 1], [2, 5, 2, 2, 1, 1], [1, 1, 3, 2, 1, 1], [3, 1, 3, 2, 1, 1], [3, 1, 3, 2, 2, 1], [3, 1, 3, 2, 2, 1], [3, 3, 4, 2, 2, 1], [3, 3, 4, 2, 2, 1], [3, 3, 4, 2, 3, 1], [3, 3, 4, 2, 3, 1], [1, 2, 4, 2, 3, 1], [1, 2, 4, 2, 3, 1], [1, 2, 5, 3, 3, 1], [1, 2, 5, 3, 3, 1], [1, 4, 5, 3, 3, 1], [2, 4, 5, 3, 3, 1], [1, 4, 6, 4, 3, 1], [1, 4, 6, 4, 3, 1], [1, 5, 6, 4, 3, 1], [1, 5, 6, 4, 3, 2], [1, 5, 1, 4, 3, 2], [1, 5, 1, 4, 2, 2], [1, 5, 1, 4, 2, 2], [1, 5, 1, 4, 2, 2], [1, 5, 1, 4, 2, 2], [1, 5, 1, 1, 2, 2], [1, 5, 1, 1, 2, 2], [1, 5, 2, 1, 2, 2], [3, 1, 3, 1, 2, 2], [2, 1, 3, 1, 2, 2], [1, 1, 3, 1, 2, 2], [3, 1, 3, 1, 2, 2], [3, 1, 4, 1, 1, 2], [3, 1, 4, 1, 1, 2], [3, 3, 4, 1, 1, 2], [3, 3, 4, 1, 1, 2], [3, 3, 5, 1, 2, 2], [3, 3, 5, 1, 2, 2], [1, 2, 5, 2, 2, 2], [1, 2, 5, 2, 2, 2], [1, 2, 6, 2, 2, 2], [1, 2, 6, 2, 1, 2], [1, 2, 6, 2, 1, 2], [2, 2, 6, 2, 1, 2], [2, 4, 1, 2, 1, 2], [1, 4, 1, 2, 3, 2], [1, 4, 1, 2, 3, 2], [1, 4, 1, 2, 3, 2], [1, 4, 1, 3, 3, 2], [1, 4, 1, 3, 3, 2], [1, 4, 1, 3, 3, 2], [1, 5, 1, 3, 3, 2], [1, 5, 1, 3, 3, 2], [1, 5, 2, 3, 3, 2], [1, 5, 2, 3, 3, 2], [1, 5, 2, 4, 3, 2], [1, 5, 2, 4, 3, 2], [3, 1, 2, 4, 3, 2], [2, 1, 2, 4, 1, 2], [1, 1, 3, 1, 1, 1], [3, 1, 3, 1, 1, 1], [3, 3, 3, 1, 1, 1], [3, 3, 3, 1, 1, 1], [3, 3, 4, 1, 1, 1], [3, 3, 4, 1, 1, 1], [1, 2, 4, 1, 1, 1], [1, 2, 4, 1, 1, 1], [1, 2, 4, 2, 1, 1], [1, 2, 4, 2, 1, 1], [3, 1, 4, 2, 2, 2], [3, 1, 4, 2, 2, 2], [3, 1, 1, 2, 2, 2], [2, 1, 1, 2, 2, 1], [1, 2, 1, 2, 3, 2], [1, 2, 1, 2, 3, 1], [1, 2, 1, 2, 3, 2], [1, 2, 1, 2, 3, 2], [1, 2, 1, 2, 3, 2], [1, 2, 1, 2, 3, 2], [1, 2, 4, 2, 3, 2], [1, 2, 4, 3, 3, 2], [1, 4, 4, 3, 3, 2], [1, 4, 4, 3, 3, 2], [1, 4, 4, 3, 2, 2], [1, 4, 4, 3, 2, 2], [1, 4, 4, 3, 2, 2], [2, 1, 4, 4, 2, 2], [1, 1, 4, 4, 3, 2], [3, 1, 5, 4, 3, 2], [3, 1, 5, 4, 3, 1], [3, 4, 5, 1, 3, 1], [3, 4, 5, 1, 3, 1], [3, 4, 6, 1, 3, 1], [3, 4, 6, 1, 3, 1], [3, 1, 6, 1, 3, 1], [3, 1, 6, 1, 2, 1], [3, 1, 6, 1, 2, 1], [3, 1, 6, 1, 2, 1], [3, 4, 1, 2, 2, 1], [3, 4, 1, 2, 3, 1], [2, 4, 1, 2, 3, 1], [1, 4, 1, 2, 3, 1], [1, 5, 1, 2, 3, 1], [1, 5, 1, 2, 2, 1], [1, 5, 1, 2, 2, 2], [1, 5, 1, 2, 2, 2], [1, 5, 2, 2, 2, 2], [1, 5, 3, 2, 3, 2], [3, 1, 3, 2, 3, 2], [3, 1, 3, 2, 3, 1], [3, 1, 3, 2, 3, 1], [3, 1, 4, 3, 3, 1], [3, 1, 4, 3, 2, 1], [3, 1, 4, 3, 2, 1], [2, 1, 4, 3, 2, 2], [1, 3, 1, 3, 2, 1], [3, 3, 1, 3, 3, 2], [3, 3, 1, 3, 3, 1], [3, 3, 1, 4, 3, 2], [3, 1, 1, 4, 3, 1], [3, 1, 1, 4, 3, 2], [3, 1, 1, 4, 3, 1], [3, 1, 1, 4, 3, 2], [3, 1, 4, 1, 2, 1], [3, 1, 4, 1, 2, 2], [3, 1, 4, 1, 2, 1], [3, 1, 4, 1, 2, 2], [3, 1, 4, 1, 3, 1], [2, 1, 4, 1, 3, 2], [1, 1, 4, 1, 3, 1], [1, 2, 4, 1, 3, 2], [1, 2, 4, 1, 3, 1], [1, 2, 4, 2, 3, 2], [1, 2, 4, 2, 2, 1], [1, 4, 4, 2, 2, 2], [1, 4, 4, 2, 2, 1], [1, 4, 5, 3, 2, 2], [1, 4, 5, 3, 3, 1], [1, 4, 5, 3, 3, 2], [1, 4, 5, 3, 3, 1], [1, 4, 1, 4, 3, 2], [1, 4, 1, 4, 3, 1], [2, 4, 1, 4, 2, 2], [1, 4, 1, 4, 2, 1], [1, 4, 1, 4, 2, 2], [1, 4, 1, 4, 2, 1], [3, 1, 1, 4, 3, 2], [3, 1, 1, 4, 3, 1], [3, 1, 1, 4, 3, 2], [3, 1, 6, 1, 3, 1], [3, 4, 6, 1, 2, 2], [3, 4, 6, 1, 2, 1], [3, 4, 6, 1, 2, 2], [3, 4, 6, 1, 2, 1], [3, 1, 6, 2, 3, 2], [3, 1, 6, 2, 3, 1], [2, 1, 6, 2, 3, 2], [1, 1, 6, 2, 3, 1], [1, 4, 6, 3, 2, 2], [1, 4, 6, 3, 2, 1], [1, 4, 6, 3, 2, 2], [1, 4, 1, 3, 2, 1], [1, 5, 1, 4, 3, 2], [1, 5, 1, 4, 3, 1], [1, 5, 1, 4, 3, 2], [1, 5, 2, 4, 3, 1], [1, 5, 3, 1, 2, 2], [1, 5, 3, 1, 2, 1], [1, 5, 3, 1, 2, 2], [1, 5, 3, 1, 2, 1], [2, 5, 4, 2, 3, 2], [1, 5, 4, 2, 3, 1], [1, 5, 4, 2, 3, 2], [1, 5, 4, 2, 3, 1], [1, 5, 5, 3, 2, 2], [3, 1, 5, 3, 2, 1], [3, 1, 5, 3, 2, 2], [3, 1, 5, 3, 2, 1], [3, 1, 6, 4, 3, 2], [3, 3, 6, 4, 3, 1], [3, 3, 6, 4, 3, 2], [3, 3, 6, 4, 3, 1], [3, 3, 1, 4, 2, 2], [3, 5, 1, 4, 2, 1], [2, 5, 1, 4, 2, 2], [1, 5, 1, 4, 2, 1], [1, 5, 2, 4, 3, 2], [1, 5, 3, 4, 3, 1], [1, 5, 3, 1, 3, 2], [1, 5, 3, 1, 3, 1], [1, 5, 3, 1, 2, 2], [1, 5, 4, 1, 2, 1], [1, 5, 4, 2, 2, 2], [1, 5, 4, 2, 2, 1], [1, 5, 4, 2, 3, 2], [1, 5, 5, 2, 3, 1], [1, 2, 5, 3, 3, 2], [1, 2, 5, 3, 3, 1], [2, 2, 5, 3, 2, 2], [1, 2, 6, 3, 2, 1], [1, 4, 6, 4, 2, 2], [1, 4, 6, 4, 2, 1], [1, 4, 6, 4, 3, 2], [1, 4, 1, 4, 3, 1], [1, 5, 1, 1, 3, 2], [1, 5, 1, 1, 3, 1], [1, 5, 1, 1, 2, 2], [1, 5, 2, 1, 2, 1], [1, 5, 3, 2, 2, 2], [1, 5, 3, 2, 2, 1], [1, 5, 3, 2, 3, 2], [1, 5, 3, 2, 3, 1], [2, 5, 4, 3, 3, 2], [1, 5, 4, 3, 3, 1], [1, 5, 4, 3, 2, 2], [1, 5, 4, 3, 2, 1], [1, 5, 5, 4, 2, 2], [3, 1, 5, 4, 2, 1], [3, 1, 5, 4, 3, 2], [3, 1, 5, 4, 3, 1], [3, 1, 6, 1, 3, 2], [3, 3, 6, 1, 3, 1], [3, 3, 6, 1, 2, 2], [3, 3, 6, 1, 2, 1], [3, 3, 1, 2, 2, 2], [3, 5, 1, 2, 2, 1], [2, 5, 1, 2, 3, 2], [1, 5, 1, 2, 3, 1], [1, 5, 2, 3, 3, 2], [1, 5, 3, 3, 3, 1], [1, 5, 3, 3, 2, 2], [1, 5, 3, 3, 2, 1], [1, 5, 3, 4, 2, 2], [1, 5, 4, 4, 2, 1], [1, 5, 4, 4, 3, 2], [1, 5, 4, 4, 3, 1], [1, 5, 4, 4, 3, 2], [1, 5, 5, 1, 3, 1], [1, 2, 5, 1, 2, 2], [1, 2, 5, 1, 2, 1], [2, 2, 5, 1, 2, 2], [1, 2, 6, 2, 2, 1], [1, 4, 6, 2, 3, 2], [1, 4, 6, 2, 3, 1], [1, 4, 6, 2, 3, 2], [1, 4, 1, 3, 3, 1], [1, 5, 1, 3, 2, 2], [1, 5, 1, 3, 2, 1], [1, 5, 1, 3, 2, 2], [1, 5, 2, 4, 2, 1], [1, 5, 3, 4, 3, 2], [1, 5, 3, 4, 3, 1], [1, 5, 3, 4, 3, 2], [1, 5, 3, 1, 3, 1], [2, 5, 4, 1, 2, 2], [1, 5, 4, 1, 2, 1], [1, 5, 4, 1, 2, 2], [1, 5, 4, 2, 2, 1], [1, 5, 5, 2, 3, 2], [3, 1, 5, 2, 3, 1], [3, 1, 5, 2, 3, 2], [3, 1, 5, 3, 3, 1], [3, 1, 6, 3, 2, 2], [3, 3, 6, 3, 2, 1], [3, 3, 6, 3, 2, 2], [3, 3, 6, 4, 2, 1], [3, 3, 1, 4, 3, 2], [3, 5, 1, 4, 3, 1], [2, 5, 1, 4, 3, 2], [1, 5, 1, 1, 3, 1], [1, 5, 2, 1, 2, 2], [1, 5, 3, 1, 2, 1], [1, 5, 3, 1, 2, 2], [1, 5, 3, 2, 2, 1], [1, 5, 3, 2, 3, 2], [1, 5, 4, 2, 3, 1], [1, 5, 4, 2, 3, 2], [1, 5, 4, 3, 3, 1], [1, 5, 4, 3, 2, 2], [1, 5, 5, 3, 2, 1], [1, 2, 5, 3, 2, 2], [1, 2, 5, 4, 2, 1], [2, 2, 5, 4, 3, 2], [1, 2, 6, 4, 3, 1], [1, 4, 6, 4, 3, 2], [1, 4, 6, 1, 3, 1], [1, 4, 6, 1, 2, 2], [1, 4, 1, 1, 2, 1], [1, 5, 1, 1, 2, 2], [1, 5, 1, 2, 2, 1], [1, 5, 1, 2, 3, 2], [1, 5, 2, 2, 3, 1], [1, 5, 3, 2, 3, 2], [1, 5, 3, 3, 3, 1], [1, 5, 3, 3, 2, 2], [1, 5, 3, 3, 2, 1], [2, 5, 4, 3, 2, 2], [1, 5, 4, 4, 2, 1], [1, 5, 4, 4, 3, 2], [1, 5, 4, 4, 3, 1], [1, 5, 5, 4, 3, 2], [3, 1, 5, 1, 3, 1], [3, 1, 5, 1, 2, 2], [3, 1, 5, 1, 2, 1], [3, 1, 6, 1, 2, 2], [3, 3, 6, 2, 2, 1], [3, 3, 6, 2, 3, 2], [3, 3, 6, 2, 3, 1], [3, 3, 1, 2, 3, 2], [3, 5, 1, 3, 3, 1], [2, 5, 1, 3, 2, 2], [1, 5, 1, 3, 2, 1], [1, 5, 2, 3, 2, 2], [1, 5, 3, 4, 2, 1], [1, 5, 3, 4, 3, 2], [1, 5, 3, 4, 3, 1], [1, 5, 3, 4, 3, 2], [1, 5, 4, 1, 3, 1], [1, 5, 4, 1, 2, 2], [1, 5, 4, 1, 2, 1], [1, 5, 4, 1, 2, 2], [1, 5, 5, 2, 2, 1], [1, 2, 5, 2, 3, 2], [1, 2, 5, 2, 3, 1], [2, 2, 5, 2, 3, 2], [1, 2, 5, 3, 3, 1], [1, 4, 5, 3, 2, 2], [1, 4, 5, 3, 2, 1], [1, 4, 5, 3, 2, 2], [1, 4, 5, 4, 2, 1], [1, 5, 5, 4, 3, 2], [1, 5, 5, 4, 3, 1], [1, 5, 5, 4, 3, 2], [1, 5, 5, 1, 3, 1], [1, 5, 6, 1, 2, 2], [1, 5, 6, 1, 2, 1], [1, 5, 6, 1, 2, 2], [1, 5, 6, 2, 2, 1], [2, 5, 1, 2, 3, 2], [1, 5, 1, 2, 3, 1], [1, 5, 1, 2, 3, 2], [1, 5, 1, 3, 3, 1], [1, 5, 2, 3, 2, 2], [3, 1, 3, 3, 2, 1], [3, 1, 3, 3, 2, 2], [3, 1, 3, 4, 2, 1], [3, 1, 3, 4, 3, 2], [3, 3, 4, 4, 3, 1], [3, 3, 4, 4, 3, 2], [3, 3, 4, 1, 3, 1], [3, 3, 4, 1, 2, 2], [3, 5, 5, 1, 2, 1], [2, 5, 5, 1, 2, 2], [1, 5, 5, 2, 2, 1], [1, 5, 5, 2, 3, 2], [1, 5, 5, 2, 3, 1], [1, 5, 5, 2, 3, 2], [1, 5, 5, 3, 3, 1], [1, 5, 5, 3, 2, 2], [1, 5, 5, 3, 2, 1], [1, 5, 5, 3, 2, 2], [1, 5, 5, 4, 2, 1], [1, 5, 5, 4, 3, 2], [1, 5, 5, 4, 3, 1], [1, 2, 6, 4, 3, 2], [1, 2, 6, 1, 3, 1], [2, 2, 6, 1, 2, 2], [1, 2, 6, 1, 2, 1], [1, 4, 1, 1, 2, 2], [1, 4, 1, 2, 2, 1], [1, 4, 1, 2, 3, 2], [1, 4, 1, 2, 3, 1], [1, 5, 2, 2, 3, 2], [1, 5, 3, 3, 3, 1], [1, 5, 3, 3, 2, 2], [1, 5, 3, 3, 2, 1], [1, 5, 3, 3, 2, 2], [1, 5, 4, 4, 2, 1], [1, 5, 4, 4, 3, 2], [1, 5, 4, 4, 3, 1], [2, 5, 4, 4, 3, 2], [1, 5, 5, 4, 3, 1], [1, 5, 5, 1, 2, 2], [1, 5, 5, 1, 2, 1], [1, 5, 5, 1, 2, 2], [3, 1, 5, 1, 2, 1], [3, 1, 5, 2, 3, 2], [3, 1, 5, 2, 3, 1], [3, 1, 5, 2, 3, 2], [3, 3, 5, 2, 3, 1], [3, 3, 5, 3, 2, 2], [3, 3, 5, 3, 2, 1], [3, 3, 5, 3, 2, 2], [3, 5, 5, 3, 2, 1], [2, 5, 6, 4, 3, 2], [1, 5, 6, 4, 3, 1], [1, 5, 6, 4, 3, 2], [1, 5, 6, 4, 3, 1], [1, 5, 1, 1, 2, 2], [1, 5, 1, 1, 2, 1], [1, 5, 1, 1, 2, 2], [1, 5, 1, 1, 2, 1], [1, 5, 2, 2, 3, 2], [1, 5, 3, 2, 3, 1], [1, 5, 3, 2, 3, 2], [1, 5, 3, 2, 3, 1], [1, 2, 3, 3, 2, 2], [1, 2, 4, 3, 2, 1], [2, 2, 4, 3, 2, 2], [1, 2, 4, 3, 2, 1], [1, 4, 4, 4, 3, 2], [1, 4, 5, 4, 3, 1], [1, 4, 5, 4, 3, 2], [1, 4, 5, 4, 3, 1], [1, 5, 5, 1, 2, 2], [1, 5, 5, 1, 2, 1], [1, 5, 5, 1, 2, 2], [1, 5, 5, 1, 2, 1], [1, 5, 5, 2, 3, 2], [1, 5, 5, 2, 3, 1], [1, 5, 5, 2, 3, 2], [1, 5, 5, 2, 3, 1], [2, 5, 5, 3, 2, 2], [1, 5, 5, 3, 2, 1], [1, 5, 6, 3, 2, 2], [1, 5, 6, 3, 2, 1], [1, 5, 6, 4, 3, 2], [3, 1, 6, 4, 3, 1], [3, 1, 1, 4, 3, 2], [3, 1, 1, 4, 3, 1], [3, 1, 1, 1, 2, 2], [3, 3, 1, 1, 2, 1], [3, 3, 2, 1, 2, 2], [3, 3, 3, 1, 2, 1], [3, 3, 3, 2, 3, 2], [3, 5, 3, 2, 3, 1], [2, 5, 3, 2, 3, 2], [1, 5, 4, 2, 3, 1], [1, 5, 4, 3, 2, 2], [1, 5, 4, 3, 2, 1], [1, 5, 4, 3, 2, 2], [1, 5, 5, 3, 2, 1], [1, 5, 5, 4, 3, 2], [1, 5, 5, 4, 3, 1], [1, 5, 5, 4, 3, 2], [1, 5, 5, 4, 3, 1], [1, 5, 5, 1, 2, 2], [1, 5, 5, 1, 2, 1], [1, 2, 5, 1, 2, 2], [1, 2, 5, 1, 2, 1], [2, 2, 5, 2, 3, 2], [1, 2, 5, 2, 3, 1], [1, 4, 5, 2, 3, 2], [1, 4, 5, 2, 3, 1], [1, 4, 6, 3, 2, 2], [1, 4, 6, 3, 2, 1], [1, 5, 6, 3, 2, 2], [1, 5, 6, 3, 2, 1], [1, 5, 1, 4, 3, 2], [1, 5, 1, 4, 3, 1], [1, 5, 1, 4, 3, 2], [1, 5, 1, 4, 3, 1], [1, 5, 2, 1, 2, 2], [1, 5, 3, 1, 2, 1], [2, 5, 3, 1, 2, 2], [1, 5, 3, 1, 2, 1], [1, 5, 3, 2, 3, 2], [1, 5, 4, 2, 3, 1], [1, 5, 4, 2, 3, 2], [3, 1, 4, 2, 3, 1], [3, 1, 4, 3, 2, 2], [3, 1, 5, 3, 2, 1], [3, 1, 5, 3, 2, 2], [3, 3, 5, 3, 2, 1], [3, 3, 5, 4, 3, 2], [3, 3, 5, 4, 3, 1], [3, 3, 5, 4, 3, 2], [3, 5, 5, 4, 3, 1], [2, 5, 5, 1, 2, 2], [1, 5, 5, 1, 2, 1], [1, 5, 5, 1, 2, 2], [1, 5, 5, 1, 2, 1], [1, 5, 5, 2, 3, 2], [1, 5, 5, 2, 3, 1], [1, 5, 6, 2, 3, 2], [1, 5, 6, 2, 3, 1], [1, 5, 6, 3, 2, 2], [1, 5, 6, 3, 2, 1], [1, 5, 1, 3, 2, 2], [1, 5, 1, 3, 2, 1], [1, 2, 1, 4, 3, 2], [1, 2, 1, 4, 3, 1], [2, 2, 2, 4, 3, 2], [1, 2, 3, 4, 3, 1], [1, 4, 3, 1, 2, 2], [1, 4, 3, 1, 2, 1], [1, 4, 3, 1, 2, 2], [1, 4, 4, 1, 2, 1], [1, 5, 4, 2, 3, 2], [1, 5, 4, 2, 3, 1], [1, 5, 4, 2, 3, 2], [1, 5, 5, 2, 3, 1], [1, 5, 5, 3, 2, 2], [1, 5, 5, 3, 2, 1], [1, 5, 5, 3, 2, 2], [1, 5, 5, 3, 2, 1], [2, 5, 5, 4, 3, 2], [1, 5, 5, 4, 3, 1], [1, 5, 5, 4, 3, 2], [1, 5, 5, 4, 3, 1], [1, 5, 5, 1, 2, 2], [3, 1, 5, 1, 2, 1], [3, 1, 5, 1, 2, 2], [3, 1, 5, 1, 2, 1], [3, 1, 6, 2, 3, 2], [3, 3, 6, 2, 3, 1], [3, 3, 6, 2, 3, 2], [3, 3, 6, 2, 3, 1], [3, 3, 1, 3, 2, 2], [3, 5, 1, 3, 2, 1], [2, 5, 1, 3, 2, 2], [1, 5, 1, 3, 2, 1], [1, 5, 2, 4, 3, 2], [1, 5, 3, 4, 3, 1], [1, 5, 3, 4, 3, 2], [1, 5, 3, 4, 3, 1], [1, 5, 3, 1, 2, 2], [1, 5, 4, 1, 2, 1], [1, 5, 4, 1, 2, 2], [1, 5, 4, 1, 2, 1], [1, 5, 4, 2, 3, 2], [1, 5, 4, 2, 3, 1], [1, 2, 4, 2, 3, 2], [1, 2, 4, 2, 3, 1], [2, 2, 4, 3, 2, 2], [1, 2, 4, 3, 2, 1], [1, 4, 4, 3, 2, 2], [1, 4, 4, 3, 2, 1], [1, 4, 4, 4, 3, 2], [1, 4, 4, 4, 3, 1], [1, 5, 5, 4, 3, 2], [1, 5, 5, 4, 3, 1], [1, 5, 5, 1, 2, 2], [1, 5, 5, 1, 2, 1], [1, 5, 5, 1, 2, 2], [1, 5, 5, 1, 2, 1], [1, 5, 5, 2, 3, 2], [1, 5, 5, 2, 3, 1], [2, 5, 5, 2, 3, 2], [1, 5, 5, 2, 3, 1], [1, 5, 5, 3, 2, 2], [1, 5, 5, 3, 2, 1], [1, 5, 5, 3, 2, 2], [3, 1, 6, 3, 2, 1], [3, 1, 6, 4, 3, 2], [3, 1, 6, 4, 3, 1], [3, 1, 6, 4, 3, 2], [3, 3, 1, 4, 3, 1], [3, 3, 1, 1, 2, 2], [3, 3, 1, 1, 2, 1], [3, 3, 1, 1, 2, 2], [3, 5, 2, 1, 2, 1], [2, 5, 3, 2, 3, 2], [1, 5, 3, 2, 3, 1], [1, 5, 3, 2, 3, 2], [1, 5, 3, 2, 3, 1], [1, 5, 4, 3, 2, 2], [1, 5, 4, 3, 2, 1], [1, 5, 4, 3, 2, 2], [1, 5, 4, 3, 2, 1], [1, 5, 4, 4, 3, 2], [1, 5, 4, 4, 3, 1], [1, 5, 4, 4, 3, 2], [1, 5, 4, 4, 3, 1], [1, 2, 4, 1, 2, 2], [1, 2, 4, 1, 2, 1], [2, 2, 4, 1, 2, 2], [1, 2, 4, 1, 2, 1], [1, 4, 4, 2, 3, 2], [1, 4, 5, 2, 3, 1], [1, 4, 5, 2, 3, 2], [1, 4, 5, 2, 3, 1], [1, 5, 5, 3, 2, 2], [1, 5, 5, 3, 2, 1], [1, 5, 5, 3, 2, 2], [1, 5, 5, 3, 2, 1], [1, 5, 5, 4, 3, 2], [1, 5, 5, 4, 3, 1], [1, 5, 5, 4, 3, 2], [1, 5, 5, 4, 3, 1], [2, 5, 5, 1, 2, 2], [1, 5, 5, 1, 2, 1], [1, 5, 6, 1, 2, 2], [1, 5, 6, 1, 2, 1], [1, 5, 6, 2, 3, 2], [3, 1, 6, 2, 3, 1], [3, 1, 1, 2, 3, 2], [3, 1, 1, 2, 3, 1], [3, 1, 1, 3, 2, 2], [3, 3, 1, 3, 2, 1], [3, 3, 2, 3, 2, 2], [3, 3, 3, 3, 2, 1], [3, 3, 3, 4, 3, 2], [3, 5, 3, 4, 3, 1], [2, 5, 3, 4, 3, 2], [1, 5, 4, 4, 3, 1], [1, 5, 4, 1, 2, 2], [1, 5, 4, 1, 2, 1], [1, 5, 4, 1, 2, 2], [1, 5, 4, 1, 2, 1], [1, 5, 4, 2, 3, 2], [1, 5, 4, 2, 3, 1], [1, 5, 4, 2, 3, 2], [1, 5, 4, 2, 3, 1], [1, 5, 4, 3, 2, 2], [1, 5, 4, 3, 2, 1], [1, 2, 4, 3, 2, 2], [1, 2, 4, 3, 2, 1], [2, 2, 5, 4, 3, 2], [1, 2, 5, 4, 3, 1], [1, 4, 5, 4, 3, 2], [1, 4, 5, 4, 3, 1], [1, 4, 5, 1, 2, 2], [1, 4, 5, 1, 2, 1], [1, 5, 5, 1, 2, 2], [1, 5, 5, 1, 2, 1], [1, 5, 5, 2, 3, 2], [1, 5, 5, 2, 3, 1], [1, 5, 5, 2, 3, 2], [1, 5, 5, 2, 3, 1], [1, 5, 5, 3, 2, 2], [1, 5, 6, 3, 2, 1], [2, 5, 6, 3, 2, 2], [1, 5, 6, 3, 2, 1], [1, 5, 6, 4, 3, 2], [1, 5, 1, 4, 3, 1], [1, 5, 1, 4, 3, 2], [3, 1, 1, 4, 3, 1], [3, 1, 1, 1, 2, 2], [3, 1, 2, 1, 2, 1], [3, 1, 3, 1, 2, 2], [3, 3, 3, 1, 2, 1], [3, 3, 3, 2, 3, 2], [3, 3, 3, 2, 3, 1], [3, 3, 4, 2, 3, 2], [3, 5, 4, 2, 3, 1], [2, 5, 4, 3, 2, 2], [1, 5, 4, 3, 2, 1], [1, 5, 4, 3, 2, 2], [1, 5, 4, 3, 2, 1], [1, 5, 4, 4, 3, 2], [1, 5, 4, 4, 3, 1], [1, 5, 4, 4, 3, 2], [1, 5, 4, 4, 3, 1], [1, 5, 4, 1, 2, 2], [1, 5, 4, 1, 2, 1], [1, 5, 4, 1, 2, 2], [1, 5, 5, 1, 2, 1], [1, 2, 5, 2, 3, 2], [1, 2, 5, 2, 3, 1], [2, 2, 5, 2, 3, 2], [1, 2, 5, 2, 3, 1], [1, 4, 5, 3, 2, 2], [1, 4, 5, 3, 2, 1], [1, 4, 5, 3, 2, 2], [1, 4, 5, 3, 2, 1], [1, 5, 5, 4, 3, 2], [1, 5, 5, 4, 3, 1], [1, 5, 5, 4, 3, 2], [1, 5, 5, 4, 3, 1], [1, 5, 6, 1, 2, 2], [1, 5, 6, 1, 2, 1], [1, 5, 6, 1, 2, 2], [1, 5, 6, 1, 2, 1], [2, 5, 1, 2, 3, 2], [1, 5, 1, 2, 3, 1], [1, 5, 1, 2, 3, 2], [1, 5, 1, 2, 3, 1], [1, 5, 2, 3, 2, 2], [3, 1, 3, 3, 2, 1], [3, 1, 3, 3, 2, 2], [3, 1, 3, 3, 2, 1], [3, 1, 3, 4, 3, 2], [3, 3, 4, 4, 3, 1], [3, 3, 4, 4, 3, 2], [3, 3, 4, 4, 3, 1], [3, 3, 4, 1, 2, 2], [3, 5, 4, 1, 2, 1], [2, 5, 4, 1, 2, 2], [1, 5, 4, 1, 2, 1], [1, 5, 4, 2, 3, 2], [1, 5, 4, 2, 3, 1], [1, 5, 4, 2, 3, 2], [1, 5, 4, 2, 3, 1], [1, 5, 4, 3, 2, 2], [1, 5, 4, 3, 2, 1], [1, 5, 5, 3, 2, 2], [1, 5, 5, 3, 2, 1], [1, 5, 5, 4, 3, 2], [1, 5, 5, 4, 3, 1], [1, 2, 5, 4, 3, 2], [1, 2, 5, 4, 3, 1], [2, 2, 5, 1, 2, 2], [1, 2, 5, 1, 2, 1], [1, 4, 5, 1, 2, 2], [1, 4, 5, 1, 2, 1], [1, 4, 5, 2, 3, 2], [1, 4, 5, 2, 3, 1], [1, 5, 5, 2, 3, 2], [1, 5, 6, 2, 3, 1], [1, 5, 6, 3, 2, 2], [1, 5, 6, 3, 2, 1], [1, 5, 6, 3, 2, 2], [1, 5, 1, 3, 2, 1], [1, 5, 1, 4, 3, 2], [1, 5, 1, 4, 3, 1], [2, 5, 1, 4, 3, 2], [1, 5, 2, 4, 3, 1], [1, 5, 3, 1, 2, 2], [1, 5, 3, 1, 2, 1], [1, 5, 3, 1, 2, 2], [3, 1, 3, 1, 2, 1], [3, 1, 4, 2, 3, 2], [3, 1, 4, 2, 3, 1], [3, 1, 4, 2, 3, 2], [3, 3, 4, 2, 3, 1], [3, 3, 4, 3, 2, 2], [3, 3, 4, 3, 2, 1], [3, 3, 4, 3, 2, 2], [3, 5, 4, 3, 2, 1], [2, 5, 4, 4, 3, 2], [1, 5, 4, 4, 3, 1], [1, 5, 4, 4, 3, 2], [1, 5, 4, 4, 3, 1], [1, 5, 4, 1, 2, 2], [1, 5, 5, 1, 2, 1], [1, 5, 5, 1, 2, 2], [1, 5, 5, 1, 2, 1], [1, 5, 5, 2, 3, 2], [1, 5, 5, 2, 3, 1], [1, 5, 5, 2, 3, 2], [1, 5, 5, 2, 3, 1], [1, 2, 5, 3, 2, 2], [1, 2, 5, 3, 2, 1], [2, 2, 5, 3, 2, 2], [1, 2, 5, 3, 2, 1], [1, 4, 5, 4, 3, 2], [1, 4, 5, 4, 3, 1], [1, 4, 6, 4, 3, 2], [1, 4, 6, 4, 3, 1], [1, 5, 6, 1, 2, 2], [1, 5, 6, 1, 2, 1], [1, 5, 1, 1, 2, 2], [1, 5, 1, 1, 2, 1], [1, 5, 1, 2, 3, 2], [1, 5, 1, 2, 3, 1], [1, 5, 2, 2, 3, 2], [1, 5, 3, 2, 3, 1], [2, 5, 3, 3, 2, 2], [1, 5, 3, 3, 2, 1], [1, 5, 3, 3, 2, 2], [1, 5, 4, 3, 2, 1], [1, 5, 4, 4, 3, 2], [3, 1, 4, 4, 3, 1], [3, 1, 4, 4, 3, 2], [3, 1, 4, 4, 3, 1], [3, 1, 4, 4, 2, 2], [3, 3, 4, 4, 2, 1], [3, 3, 4, 1, 2, 2], [3, 3, 4, 1, 2, 1], [3, 3, 4, 1, 3, 2], [3, 5, 4, 1, 3, 1], [2, 5, 4, 2, 3, 2], [1, 5, 4, 2, 3, 1], [1, 5, 5, 2, 2, 2], [1, 5, 5, 2, 2, 1], [1, 5, 5, 3, 2, 2], [1, 5, 5, 3, 2, 1], [1, 5, 5, 3, 3, 2], [1, 5, 5, 3, 3, 1], [1, 5, 5, 4, 3, 2], [1, 5, 5, 4, 3, 1], [1, 5, 5, 4, 2, 2], [1, 5, 5, 4, 2, 1], [1, 2, 5, 1, 2, 2], [1, 2, 5, 1, 2, 1], [2, 2, 5, 1, 3, 2], [1, 2, 6, 1, 3, 1], [1, 4, 6, 2, 3, 2], [1, 4, 6, 2, 3, 1], [1, 4, 6, 2, 2, 2], [1, 4, 1, 2, 2, 1], [1, 5, 1, 3, 2, 2], [1, 5, 1, 3, 2, 1], [1, 5, 1, 3, 3, 2], [1, 5, 2, 3, 3, 1], [1, 5, 3, 4, 3, 2], [1, 5, 3, 4, 3, 1], [1, 5, 3, 4, 2, 2], [1, 5, 3, 4, 2, 1], [2, 5, 4, 1, 2, 2], [1, 5, 4, 1, 2, 1], [1, 5, 4, 1, 3, 2], [1, 5, 4, 1, 3, 1], [1, 5, 4, 2, 3, 2], [3, 1, 4, 2, 3, 1], [3, 1, 4, 2, 2, 2], [3, 1, 4, 2, 2, 1], [3, 1, 4, 3, 2, 2], [3, 3, 4, 3, 2, 1], [3, 3, 4, 3, 3, 2], [3, 3, 4, 3, 3, 1], [3, 3, 4, 4, 3, 2], [3, 5, 5, 4, 3, 1], [2, 5, 5, 4, 2, 2], [1, 5, 5, 4, 2, 1], [1, 5, 5, 1, 2, 2], [1, 5, 5, 1, 2, 1], [1, 5, 5, 1, 3, 2], [1, 5, 5, 1, 3, 1], [1, 5, 5, 2, 3, 2], [1, 5, 5, 2, 3, 1], [1, 5, 5, 2, 2, 2], [1, 5, 5, 2, 2, 1], [1, 5, 5, 3, 2, 2], [1, 5, 5, 3, 2, 1], [1, 2, 6, 3, 3, 2], [1, 2, 6, 3, 3, 1], [2, 2, 6, 4, 3, 2], [1, 2, 6, 4, 3, 1], [1, 4, 1, 4, 2, 2], [1, 4, 1, 4, 2, 1], [1, 4, 1, 1, 2, 2], [1, 4, 1, 1, 2, 1], [1, 5, 2, 1, 3, 2], [1, 5, 3, 1, 3, 1], [1, 5, 3, 2, 3, 2], [1, 5, 3, 2, 3, 1], [1, 5, 3, 2, 2, 2], [1, 5, 4, 2, 2, 1], [1, 5, 4, 3, 2, 2], [1, 5, 4, 3, 2, 1], [2, 5, 4, 3, 3, 2], [1, 5, 4, 3, 3, 1], [1, 5, 4, 4, 3, 2], [1, 5, 4, 4, 3, 1], [1, 5, 4, 4, 2, 2], [3, 1, 4, 4, 2, 1], [3, 1, 4, 1, 2, 2], [3, 1, 4, 1, 2, 1], [3, 1, 4, 1, 3, 2], [3, 3, 4, 1, 3, 1], [3, 3, 5, 1, 3, 2], [3, 3, 5, 2, 3, 1], [3, 3, 5, 2, 2, 2], [3, 5, 5, 2, 2, 1], [2, 5, 5, 2, 2, 2], [1, 5, 5, 3, 2, 1], [1, 5, 5, 3, 3, 2], [1, 5, 5, 3, 3, 1], [1, 5, 5, 3, 3, 2], [1, 5, 5, 4, 3, 1], [1, 5, 5, 4, 2, 2], [1, 5, 5, 4, 2, 1], [1, 5, 5, 4, 2, 2], [1, 5, 6, 1, 2, 1], [1, 5, 6, 1, 3, 2], [1, 5, 6, 1, 3, 1], [1, 2, 6, 1, 3, 2], [1, 2, 1, 2, 3, 1], [2, 2, 1, 2, 2, 2], [1, 2, 1, 2, 2, 1], [1, 4, 1, 2, 2, 2], [1, 4, 2, 3, 2, 1], [1, 4, 3, 3, 3, 2], [1, 4, 3, 3, 3, 1], [1, 5, 3, 3, 3, 2], [1, 5, 3, 4, 3, 1], [1, 5, 4, 4, 2, 2], [1, 5, 4, 4, 2, 1], [1, 5, 4, 4, 2, 2], [1, 5, 4, 1, 2, 1], [1, 5, 4, 1, 3, 2], [1, 5, 4, 1, 3, 1], [2, 5, 4, 1, 3, 2], [1, 5, 4, 2, 3, 1], [1, 5, 4, 2, 2, 2], [1, 5, 4, 2, 2, 1], [1, 5, 4, 2, 2, 2], [3, 1, 4, 3, 2, 1], [3, 1, 4, 3, 3, 2], [3, 1, 5, 3, 3, 1], [3, 1, 5, 3, 3, 2], [3, 3, 5, 4, 3, 1], [3, 3, 5, 4, 2, 2], [3, 3, 5, 4, 2, 1], [3, 3, 5, 4, 2, 2], [3, 5, 5, 1, 2, 1], [2, 5, 5, 1, 3, 2], [1, 5, 5, 1, 3, 1], [1, 5, 5, 1, 3, 2], [1, 5, 5, 2, 3, 1], [1, 5, 5, 2, 2, 2], [1, 5, 5, 2, 2, 1], [1, 5, 6, 2, 2, 2], [1, 5, 6, 3, 2, 1], [1, 5, 6, 3, 3, 2], [1, 5, 6, 3, 3, 1], [1, 5, 1, 3, 3, 2], [1, 5, 1, 4, 3, 1], [1, 2, 1, 4, 2, 2], [1, 2, 1, 4, 2, 1], [2, 2, 2, 4, 2, 2], [1, 2, 3, 1, 2, 1], [1, 4, 3, 1, 3, 2], [1, 4, 3, 1, 3, 1], [1, 4, 3, 1, 3, 2], [1, 4, 4, 2, 3, 1], [1, 5, 4, 2, 2, 2], [1, 5, 4, 2, 2, 1], [1, 5, 4, 2, 2, 2], [1, 5, 4, 3, 2, 1], [1, 5, 4, 3, 3, 2], [1, 5, 4, 3, 3, 1], [1, 5, 4, 3, 3, 2], [1, 5, 4, 4, 3, 1], [2, 5, 4, 4, 2, 2], [1, 5, 4, 4, 2, 1], [1, 5, 4, 4, 2, 2], [1, 5, 4, 1, 2, 1], [1, 5, 5, 1, 3, 2], [3, 1, 5, 1, 3, 1], [3, 1, 5, 1, 3, 2], [3, 1, 5, 2, 3, 1], [3, 1, 5, 2, 2, 2]]"
   ]
  },
  {
   "cell_type": "code",
   "execution_count": 45,
   "metadata": {},
   "outputs": [],
   "source": [
    "# traffic police400\n",
    "action_list =[[3, 1, 1, 1, 1, 1], [3, 1, 1, 1, 1, 1], [3, 1, 1, 1, 1, 1], [3, 3, 2, 2, 1, 1], [3, 3, 3, 2, 1, 1], [3, 3, 3, 2, 1, 1], [3, 3, 3, 2, 1, 1], [3, 3, 3, 3, 1, 1], [3, 3, 4, 3, 1, 1], [3, 3, 4, 3, 1, 1], [3, 3, 4, 3, 1, 1], [3, 3, 4, 3, 1, 1], [2, 3, 5, 3, 2, 1], [1, 3, 5, 4, 2, 1], [3, 3, 5, 4, 2, 1], [1, 2, 5, 4, 2, 1], [1, 2, 6, 4, 1, 1], [1, 2, 6, 4, 1, 1], [1, 2, 6, 4, 1, 1], [1, 4, 6, 1, 1, 1], [1, 4, 6, 1, 1, 1], [1, 4, 1, 1, 1, 1], [1, 4, 1, 1, 1, 1], [1, 5, 1, 1, 1, 1], [1, 5, 1, 2, 1, 1], [1, 5, 2, 2, 1, 1], [2, 5, 2, 2, 1, 1], [1, 1, 3, 2, 1, 1], [3, 1, 3, 2, 1, 1], [3, 1, 3, 2, 2, 1], [3, 1, 3, 2, 2, 1], [3, 3, 4, 2, 2, 1], [3, 3, 4, 2, 2, 1], [3, 3, 4, 2, 3, 1], [3, 3, 4, 2, 3, 1], [1, 2, 4, 2, 3, 1], [1, 2, 5, 2, 3, 1], [1, 2, 5, 3, 3, 1], [1, 2, 5, 3, 3, 1], [1, 4, 5, 3, 3, 1], [2, 4, 6, 3, 3, 1], [2, 4, 6, 4, 3, 1], [1, 4, 6, 4, 3, 1], [1, 5, 6, 4, 3, 1], [1, 5, 1, 4, 3, 1], [1, 5, 1, 4, 3, 2], [1, 5, 1, 4, 2, 2], [1, 5, 1, 4, 2, 2], [1, 5, 1, 4, 2, 2], [1, 5, 1, 1, 2, 2], [1, 5, 2, 1, 2, 2], [1, 5, 3, 1, 2, 2], [1, 5, 3, 1, 2, 2], [1, 5, 3, 1, 1, 2], [1, 5, 3, 1, 1, 2], [2, 1, 4, 1, 1, 2], [1, 1, 4, 1, 1, 2], [3, 1, 4, 1, 2, 2], [3, 1, 4, 2, 2, 2], [3, 1, 5, 2, 2, 2], [3, 1, 5, 2, 2, 2], [3, 1, 5, 2, 1, 2], [3, 1, 5, 2, 1, 2], [3, 1, 6, 2, 1, 2], [3, 1, 6, 2, 1, 2], [3, 1, 6, 3, 3, 2], [3, 1, 6, 3, 3, 2], [3, 3, 6, 3, 3, 2], [3, 3, 1, 3, 3, 2], [2, 3, 1, 3, 3, 2], [1, 3, 1, 4, 3, 2], [1, 2, 1, 4, 3, 2], [1, 2, 1, 4, 3, 2], [1, 2, 1, 4, 3, 2], [1, 2, 1, 1, 3, 2], [1, 2, 1, 1, 3, 2], [1, 2, 2, 1, 3, 2], [1, 2, 2, 1, 3, 2], [1, 2, 2, 1, 1, 2], [1, 2, 2, 2, 1, 2], [1, 2, 3, 2, 1, 2], [1, 4, 3, 2, 1, 2], [1, 4, 3, 2, 2, 1], [2, 4, 3, 2, 2, 2], [1, 4, 4, 2, 2, 2], [1, 4, 4, 2, 2, 2], [1, 4, 4, 2, 3, 2], [1, 4, 4, 2, 3, 2], [1, 4, 4, 2, 3, 2], [1, 4, 1, 2, 3, 2], [1, 4, 1, 2, 3, 2], [1, 4, 1, 2, 3, 2], [1, 4, 1, 3, 3, 2], [1, 4, 1, 3, 3, 2], [1, 5, 1, 3, 3, 2], [1, 5, 1, 3, 3, 2], [1, 5, 1, 3, 3, 2], [2, 5, 1, 3, 3, 1], [1, 5, 4, 3, 3, 2], [1, 5, 4, 4, 1, 1], [1, 5, 4, 4, 1, 2], [3, 1, 4, 4, 1, 2], [3, 1, 4, 4, 1, 1], [3, 1, 4, 4, 2, 2], [3, 1, 4, 4, 2, 1], [3, 1, 4, 4, 2, 2], [3, 1, 4, 4, 2, 1], [3, 1, 4, 4, 3, 2], [3, 1, 4, 4, 3, 1], [3, 1, 5, 4, 3, 2], [3, 1, 5, 4, 3, 1], [2, 1, 5, 4, 3, 2], [1, 1, 5, 1, 3, 1], [3, 1, 5, 1, 3, 2], [3, 3, 6, 1, 3, 1], [3, 3, 6, 1, 2, 2], [3, 3, 6, 1, 2, 1], [3, 3, 6, 1, 2, 2], [3, 1, 1, 1, 2, 1], [3, 1, 1, 1, 3, 2], [3, 1, 1, 1, 3, 1], [3, 1, 1, 1, 3, 2], [1, 2, 1, 1, 3, 1], [1, 2, 1, 1, 3, 2], [1, 2, 1, 1, 3, 1], [2, 2, 1, 2, 3, 2], [1, 1, 1, 2, 3, 2], [3, 1, 2, 2, 2, 2], [3, 1, 3, 2, 2, 1], [3, 1, 3, 3, 2, 2], [3, 1, 3, 3, 2, 1], [3, 1, 3, 3, 3, 2], [3, 1, 4, 3, 3, 1], [1, 2, 4, 4, 3, 2], [1, 2, 4, 4, 3, 1], [1, 2, 4, 4, 3, 2], [1, 2, 5, 4, 3, 1], [3, 1, 5, 4, 2, 2], [3, 1, 5, 4, 2, 1], [2, 1, 5, 4, 2, 2], [1, 1, 6, 4, 2, 1], [1, 2, 6, 4, 3, 2], [1, 2, 6, 4, 3, 1], [1, 2, 6, 4, 3, 2], [1, 2, 6, 4, 3, 1], [1, 4, 6, 4, 3, 2], [1, 4, 6, 1, 2, 1], [1, 4, 6, 1, 2, 2], [1, 4, 6, 1, 2, 1], [1, 5, 1, 1, 2, 2], [1, 5, 1, 1, 3, 1], [1, 5, 1, 2, 3, 2], [1, 5, 1, 2, 3, 1], [2, 5, 1, 2, 3, 2], [1, 5, 1, 2, 2, 1], [1, 5, 1, 3, 2, 2], [1, 5, 2, 3, 2, 1], [1, 5, 3, 3, 2, 2], [1, 5, 3, 3, 3, 1], [1, 5, 3, 4, 3, 2], [3, 1, 3, 4, 3, 1], [3, 1, 4, 4, 3, 2], [3, 1, 4, 4, 2, 1], [3, 1, 4, 4, 2, 2], [3, 1, 4, 4, 2, 1], [3, 3, 5, 4, 2, 2], [3, 3, 5, 4, 3, 1], [2, 3, 5, 4, 3, 2], [1, 3, 5, 4, 3, 1], [3, 1, 6, 4, 3, 2], [3, 1, 6, 4, 2, 1], [3, 1, 6, 4, 2, 2], [3, 1, 6, 1, 2, 1], [1, 2, 1, 1, 2, 2], [1, 2, 1, 1, 3, 1], [1, 2, 1, 1, 3, 2], [1, 2, 1, 2, 3, 1], [1, 4, 2, 2, 3, 2], [1, 4, 3, 2, 2, 1], [1, 4, 3, 2, 2, 2], [1, 4, 3, 1, 2, 1], [2, 1, 3, 1, 2, 2], [1, 1, 4, 1, 3, 1], [3, 1, 4, 1, 3, 2], [3, 1, 4, 3, 3, 1], [3, 4, 4, 3, 3, 2], [3, 4, 5, 3, 2, 1], [3, 4, 5, 3, 2, 2], [3, 4, 5, 1, 2, 1], [3, 1, 5, 1, 2, 2], [3, 1, 6, 1, 3, 1], [3, 1, 6, 1, 3, 2], [3, 1, 6, 4, 3, 1], [3, 4, 6, 4, 3, 2], [3, 4, 6, 4, 2, 1], [2, 4, 6, 4, 2, 2], [1, 4, 1, 4, 2, 1], [3, 1, 1, 4, 2, 2], [3, 1, 1, 4, 3, 1], [3, 1, 1, 4, 3, 2], [3, 1, 2, 4, 3, 1], [3, 4, 3, 4, 3, 2], [3, 4, 3, 4, 2, 1], [3, 4, 3, 4, 2, 2], [3, 4, 3, 4, 2, 1], [3, 5, 4, 1, 2, 2], [3, 5, 4, 1, 3, 1], [3, 5, 4, 1, 3, 2], [3, 5, 4, 1, 3, 1], [2, 5, 5, 2, 3, 2], [1, 5, 5, 2, 2, 1], [1, 5, 5, 2, 2, 2], [1, 5, 5, 2, 2, 1], [1, 5, 6, 1, 2, 2], [1, 5, 6, 1, 3, 1], [1, 5, 6, 1, 3, 2], [1, 5, 6, 1, 3, 1], [1, 5, 1, 3, 3, 2], [3, 1, 1, 3, 2, 1], [3, 1, 1, 3, 2, 2], [3, 1, 1, 3, 2, 1], [3, 1, 2, 1, 2, 2], [3, 3, 3, 1, 3, 1], [2, 3, 3, 1, 3, 2], [1, 3, 3, 1, 3, 1], [3, 3, 3, 4, 3, 2], [3, 5, 4, 4, 2, 1], [3, 5, 4, 4, 2, 2], [3, 5, 4, 4, 2, 1], [3, 5, 4, 4, 2, 2], [3, 5, 5, 4, 3, 1], [3, 5, 5, 4, 3, 2], [3, 5, 5, 4, 3, 1], [3, 5, 5, 4, 3, 2], [3, 5, 6, 4, 2, 1], [3, 5, 6, 4, 2, 2], [3, 5, 6, 4, 2, 1], [2, 5, 6, 4, 2, 2], [1, 5, 1, 1, 3, 1], [1, 2, 1, 1, 3, 2], [1, 2, 1, 1, 3, 1], [1, 2, 1, 1, 3, 2], [1, 2, 2, 2, 2, 1], [1, 4, 3, 2, 2, 2], [1, 4, 3, 2, 2, 1], [1, 4, 3, 2, 2, 2], [1, 4, 3, 1, 3, 1], [1, 5, 4, 1, 3, 2], [1, 5, 4, 1, 3, 1], [1, 5, 4, 1, 3, 2], [1, 5, 4, 3, 2, 1], [2, 5, 5, 3, 2, 2], [1, 5, 5, 3, 2, 1], [1, 5, 5, 3, 2, 2], [1, 5, 5, 1, 3, 1], [1, 5, 6, 1, 3, 2], [1, 5, 6, 1, 3, 1], [1, 5, 6, 1, 3, 2], [1, 5, 6, 4, 2, 1], [1, 5, 1, 4, 2, 2], [3, 1, 1, 4, 2, 1], [3, 1, 1, 4, 2, 2], [3, 1, 1, 4, 3, 1], [3, 1, 2, 4, 3, 2], [3, 3, 3, 4, 3, 1], [2, 3, 3, 4, 3, 2], [1, 3, 3, 4, 2, 1], [3, 3, 3, 4, 2, 2], [3, 5, 4, 4, 2, 1], [3, 5, 4, 4, 2, 2], [3, 5, 4, 4, 3, 1], [3, 5, 4, 1, 3, 2], [3, 5, 5, 1, 3, 1], [3, 5, 5, 1, 3, 2], [3, 5, 5, 1, 2, 1], [3, 5, 5, 2, 2, 2], [3, 5, 6, 2, 2, 1], [3, 5, 6, 2, 2, 2], [3, 5, 6, 2, 3, 1], [2, 5, 6, 1, 3, 2], [1, 5, 1, 1, 3, 1], [1, 2, 1, 1, 3, 2], [1, 2, 1, 1, 2, 1], [1, 2, 1, 3, 2, 2], [1, 2, 2, 3, 2, 1], [1, 4, 3, 3, 2, 2], [1, 4, 3, 3, 3, 1], [1, 4, 3, 1, 3, 2], [1, 4, 3, 1, 3, 1], [1, 5, 4, 1, 3, 2], [1, 5, 4, 1, 2, 1], [1, 5, 4, 4, 2, 2], [1, 5, 4, 4, 2, 1], [2, 5, 5, 4, 2, 2], [1, 5, 5, 4, 3, 1], [1, 5, 5, 4, 3, 2], [1, 5, 5, 4, 3, 1], [1, 5, 6, 4, 3, 2], [1, 5, 6, 4, 2, 1], [1, 5, 6, 4, 2, 2], [1, 5, 6, 4, 2, 1], [1, 5, 1, 4, 2, 2], [3, 1, 1, 4, 3, 1], [3, 1, 1, 4, 3, 2], [3, 1, 1, 1, 3, 1], [3, 1, 2, 1, 3, 2], [3, 3, 3, 1, 2, 1], [2, 3, 3, 1, 2, 2], [1, 3, 3, 2, 2, 1], [3, 3, 3, 2, 2, 2], [3, 5, 4, 2, 3, 1], [3, 5, 4, 2, 3, 2], [3, 5, 4, 1, 3, 1], [3, 5, 4, 1, 3, 2], [3, 5, 5, 1, 2, 1], [3, 5, 5, 1, 2, 2], [3, 5, 5, 3, 2, 1], [3, 5, 5, 3, 2, 2], [3, 5, 6, 3, 3, 1], [3, 5, 6, 3, 3, 2], [3, 5, 6, 1, 3, 1], [2, 5, 6, 1, 3, 2], [1, 5, 1, 1, 2, 1], [1, 2, 1, 1, 2, 2], [1, 2, 1, 4, 2, 1], [1, 2, 1, 4, 2, 2], [1, 2, 2, 4, 3, 1], [1, 4, 3, 4, 3, 2], [1, 4, 3, 4, 3, 1], [1, 4, 3, 4, 3, 2], [1, 4, 3, 4, 2, 1], [1, 5, 4, 4, 2, 2], [1, 5, 4, 4, 2, 1], [1, 5, 4, 4, 2, 2], [1, 5, 4, 4, 3, 1], [2, 5, 5, 4, 3, 2], [1, 5, 5, 4, 3, 1], [1, 5, 5, 1, 3, 2], [1, 5, 5, 1, 2, 1], [1, 5, 6, 1, 2, 2], [1, 5, 6, 1, 2, 1], [1, 5, 6, 2, 2, 2], [1, 5, 6, 2, 3, 1], [1, 5, 1, 2, 3, 2], [3, 1, 1, 2, 3, 1], [3, 1, 1, 1, 3, 2], [3, 1, 1, 1, 2, 1], [3, 1, 2, 1, 2, 2], [3, 3, 3, 1, 2, 1], [2, 3, 3, 3, 2, 2], [1, 3, 3, 3, 3, 1], [3, 3, 3, 3, 3, 2], [3, 5, 4, 3, 3, 1], [3, 5, 4, 1, 3, 2], [3, 5, 4, 1, 2, 1], [3, 5, 4, 1, 2, 2], [3, 5, 5, 1, 2, 1], [3, 5, 5, 4, 2, 2], [3, 5, 5, 4, 3, 1], [3, 5, 5, 4, 3, 2], [3, 5, 6, 4, 3, 1], [3, 5, 6, 1, 3, 2], [3, 5, 6, 1, 2, 1], [2, 5, 6, 1, 2, 2], [1, 5, 1, 1, 2, 1], [1, 2, 1, 2, 2, 2], [1, 2, 1, 2, 3, 1], [1, 2, 1, 2, 3, 2], [1, 2, 2, 2, 3, 1], [1, 4, 3, 1, 3, 2], [1, 4, 3, 1, 2, 1], [1, 4, 3, 1, 2, 2], [1, 4, 3, 1, 2, 1], [1, 5, 4, 3, 2, 2], [1, 5, 4, 3, 3, 1], [1, 5, 4, 3, 3, 2], [1, 5, 4, 3, 3, 1], [2, 5, 5, 1, 3, 2], [1, 5, 5, 1, 2, 1], [1, 5, 5, 1, 2, 2], [1, 5, 5, 1, 2, 1], [1, 5, 6, 4, 2, 2], [1, 5, 6, 4, 3, 1], [1, 5, 6, 4, 3, 2], [1, 5, 6, 4, 3, 1], [1, 5, 1, 1, 3, 2], [3, 1, 1, 1, 2, 1], [3, 1, 1, 1, 2, 2], [3, 1, 1, 1, 2, 1], [3, 1, 2, 2, 2, 2], [3, 3, 3, 2, 3, 1], [2, 3, 3, 2, 3, 2], [1, 3, 3, 2, 3, 1], [3, 3, 3, 1, 3, 2], [3, 5, 4, 1, 2, 1], [3, 5, 4, 1, 2, 2], [3, 5, 4, 1, 2, 1], [3, 5, 4, 3, 2, 2], [3, 5, 5, 3, 3, 1], [3, 5, 5, 3, 3, 2], [3, 5, 5, 3, 3, 1], [3, 5, 5, 1, 3, 2], [3, 5, 6, 1, 2, 1], [3, 5, 6, 1, 2, 2], [3, 5, 6, 1, 2, 1], [2, 5, 6, 4, 2, 2], [1, 5, 1, 4, 3, 1], [1, 2, 1, 4, 3, 2], [1, 2, 1, 4, 3, 1], [1, 2, 1, 1, 3, 2], [1, 2, 2, 1, 2, 1], [1, 4, 3, 1, 2, 2], [1, 4, 3, 1, 2, 1], [1, 4, 3, 2, 2, 2], [1, 4, 3, 2, 3, 1], [1, 5, 4, 2, 3, 2], [1, 5, 4, 2, 3, 1], [1, 5, 4, 1, 3, 2], [1, 5, 4, 1, 2, 1], [2, 5, 5, 1, 2, 2], [1, 5, 5, 1, 2, 1], [1, 5, 5, 3, 2, 2], [1, 5, 5, 3, 3, 1], [1, 5, 6, 3, 3, 2], [1, 5, 6, 3, 3, 1], [1, 5, 6, 1, 3, 2], [1, 5, 6, 1, 2, 1], [1, 5, 1, 1, 2, 2], [3, 1, 1, 1, 2, 1], [3, 1, 1, 4, 2, 2], [3, 1, 1, 4, 3, 1], [3, 1, 2, 4, 3, 2], [3, 3, 3, 4, 3, 1], [2, 3, 3, 1, 3, 2], [1, 3, 3, 1, 2, 1], [3, 3, 3, 1, 2, 2], [3, 5, 4, 1, 2, 1], [3, 5, 4, 2, 2, 2], [3, 5, 4, 2, 3, 1], [3, 5, 4, 2, 3, 2], [3, 5, 5, 2, 3, 1], [3, 5, 5, 1, 3, 2], [3, 5, 5, 1, 2, 1], [3, 5, 5, 1, 2, 2], [3, 5, 6, 1, 2, 1], [3, 5, 6, 3, 2, 2], [3, 5, 6, 3, 3, 1], [2, 5, 6, 3, 3, 2], [1, 5, 1, 3, 3, 1], [1, 2, 1, 1, 3, 2], [1, 2, 1, 1, 2, 1], [1, 2, 1, 1, 2, 2], [1, 2, 2, 1, 2, 1], [1, 4, 3, 4, 2, 2], [1, 4, 3, 4, 3, 1], [1, 4, 3, 4, 3, 2], [1, 4, 3, 4, 3, 1], [1, 5, 4, 1, 3, 2], [1, 5, 4, 1, 2, 1], [1, 5, 4, 1, 2, 2], [1, 5, 4, 1, 2, 1], [2, 5, 5, 2, 2, 2], [1, 5, 5, 2, 3, 1], [1, 5, 5, 2, 3, 2], [1, 5, 5, 2, 3, 1], [1, 5, 6, 1, 3, 2], [1, 5, 6, 1, 2, 1], [1, 5, 6, 1, 2, 2], [1, 5, 6, 1, 2, 1], [1, 5, 1, 3, 2, 2], [3, 1, 1, 3, 3, 1], [3, 1, 1, 3, 3, 2], [3, 1, 1, 3, 3, 1], [3, 1, 2, 1, 3, 2], [3, 3, 3, 1, 2, 1], [2, 3, 3, 1, 2, 2], [1, 3, 3, 1, 2, 1], [3, 3, 3, 4, 2, 2], [3, 5, 4, 4, 3, 1], [3, 5, 4, 4, 3, 2], [3, 5, 4, 4, 3, 1], [3, 5, 4, 1, 3, 2], [3, 5, 5, 1, 2, 1], [3, 5, 5, 1, 2, 2], [3, 5, 5, 1, 2, 1], [3, 5, 5, 2, 2, 2], [3, 5, 6, 2, 3, 1], [3, 5, 6, 2, 3, 2], [3, 5, 6, 2, 3, 1], [2, 5, 6, 1, 3, 2], [1, 5, 1, 1, 2, 1], [1, 2, 1, 1, 2, 2], [1, 2, 1, 1, 2, 1], [1, 2, 1, 3, 2, 2], [1, 2, 2, 3, 3, 1], [1, 4, 3, 3, 3, 2], [1, 4, 3, 3, 3, 1], [1, 4, 3, 1, 3, 2], [1, 4, 3, 1, 2, 1], [1, 5, 4, 1, 2, 2], [1, 5, 4, 1, 2, 1], [1, 5, 4, 4, 2, 2], [1, 5, 4, 4, 3, 1], [2, 5, 5, 4, 3, 2], [1, 5, 5, 4, 3, 1], [1, 5, 5, 1, 3, 2], [1, 5, 5, 1, 2, 1], [1, 5, 6, 1, 2, 2], [1, 5, 6, 1, 2, 1], [1, 5, 6, 2, 2, 2], [1, 5, 6, 2, 3, 1], [1, 5, 1, 2, 3, 2], [3, 1, 1, 2, 3, 1], [3, 1, 1, 1, 3, 2], [3, 1, 1, 1, 2, 1], [3, 1, 2, 1, 2, 2], [3, 3, 3, 1, 2, 1], [2, 3, 3, 3, 2, 2], [1, 3, 3, 3, 3, 1], [3, 3, 3, 3, 3, 2], [3, 5, 4, 3, 3, 1], [3, 5, 4, 1, 3, 2], [3, 5, 4, 1, 2, 1], [3, 5, 4, 1, 2, 2], [3, 5, 5, 1, 2, 1], [3, 5, 5, 4, 2, 2], [3, 5, 5, 4, 3, 1], [3, 5, 5, 4, 3, 2], [3, 5, 6, 4, 3, 1], [3, 5, 6, 1, 3, 2], [3, 5, 6, 1, 2, 1], [2, 5, 6, 1, 2, 2], [1, 5, 1, 1, 2, 1], [1, 2, 1, 2, 2, 2], [1, 2, 1, 2, 3, 1], [1, 2, 1, 2, 3, 2], [1, 2, 2, 2, 3, 1], [1, 4, 3, 1, 3, 2], [1, 4, 3, 1, 2, 1], [1, 4, 3, 1, 2, 2], [1, 4, 3, 1, 2, 1], [1, 5, 4, 3, 2, 2], [1, 5, 4, 3, 3, 1], [1, 5, 4, 3, 3, 2], [1, 5, 4, 3, 3, 1], [2, 5, 5, 1, 3, 2], [1, 5, 5, 1, 2, 1], [1, 5, 5, 1, 2, 2], [1, 5, 5, 1, 2, 1], [1, 5, 6, 4, 2, 2], [1, 5, 6, 4, 3, 1], [1, 5, 6, 4, 3, 2], [1, 5, 6, 4, 3, 1], [1, 5, 1, 1, 3, 2], [3, 1, 1, 1, 2, 1], [3, 1, 1, 1, 2, 2], [3, 1, 1, 1, 2, 1], [3, 1, 2, 2, 2, 2], [3, 3, 3, 2, 3, 1], [2, 3, 3, 2, 3, 2], [1, 3, 3, 2, 3, 1], [3, 3, 3, 1, 3, 2], [3, 5, 4, 1, 2, 1], [3, 5, 4, 1, 2, 2], [3, 5, 4, 1, 2, 1], [3, 5, 4, 3, 2, 2], [3, 5, 5, 3, 3, 1], [3, 5, 5, 3, 3, 2], [3, 5, 5, 3, 3, 1], [3, 5, 5, 1, 3, 2], [3, 5, 6, 1, 2, 1], [3, 5, 6, 1, 2, 2], [3, 5, 6, 1, 2, 1], [2, 5, 6, 4, 2, 2], [1, 5, 1, 4, 3, 1], [1, 2, 1, 4, 3, 2], [1, 2, 1, 4, 3, 1], [1, 2, 1, 1, 3, 2], [1, 2, 2, 1, 2, 1], [1, 4, 3, 1, 2, 2], [1, 4, 3, 1, 2, 1], [1, 4, 3, 2, 2, 2], [1, 4, 3, 2, 3, 1], [1, 5, 4, 2, 3, 2], [1, 5, 4, 2, 3, 1], [1, 5, 4, 1, 3, 2], [1, 5, 4, 1, 2, 1], [2, 5, 5, 1, 2, 2], [1, 5, 5, 1, 2, 1], [1, 5, 5, 3, 2, 2], [1, 5, 5, 3, 3, 1], [1, 5, 6, 3, 3, 2], [1, 5, 6, 3, 3, 1], [1, 5, 6, 1, 3, 2], [1, 5, 6, 1, 2, 1], [1, 5, 1, 1, 2, 2], [3, 1, 1, 1, 2, 1], [3, 1, 1, 4, 2, 2], [3, 1, 1, 4, 3, 1], [3, 1, 2, 4, 3, 2], [3, 3, 3, 4, 3, 1], [2, 3, 3, 1, 3, 2], [1, 3, 3, 1, 2, 1], [3, 3, 3, 1, 2, 2], [3, 5, 4, 1, 2, 1], [3, 5, 4, 2, 2, 2], [3, 5, 4, 2, 3, 1], [3, 5, 4, 2, 3, 2], [3, 5, 5, 2, 3, 1], [3, 5, 5, 1, 3, 2], [3, 5, 5, 1, 2, 1], [3, 5, 5, 1, 2, 2], [3, 5, 5, 1, 2, 1], [3, 5, 5, 3, 2, 2], [3, 5, 5, 3, 3, 1], [2, 5, 5, 3, 3, 2], [1, 5, 5, 3, 3, 1], [1, 2, 5, 1, 3, 2], [1, 2, 5, 1, 2, 1], [1, 2, 5, 1, 2, 2], [1, 2, 5, 1, 2, 1], [1, 4, 6, 4, 2, 2], [1, 4, 6, 4, 3, 1], [1, 4, 6, 4, 3, 2], [1, 4, 6, 4, 3, 1], [1, 5, 1, 1, 3, 2], [1, 5, 1, 1, 2, 1], [1, 5, 1, 1, 2, 2], [1, 5, 1, 1, 2, 1], [2, 5, 2, 2, 2, 2], [1, 5, 3, 2, 3, 1], [1, 5, 3, 2, 3, 2], [1, 5, 3, 2, 3, 1], [1, 5, 3, 1, 3, 2], [1, 5, 4, 1, 2, 1], [1, 5, 4, 1, 2, 2], [1, 5, 4, 1, 2, 1], [1, 5, 4, 3, 2, 2], [3, 1, 5, 3, 3, 1], [3, 1, 5, 3, 3, 2], [3, 1, 5, 3, 3, 1], [3, 1, 5, 1, 3, 2], [3, 3, 5, 1, 2, 1], [2, 3, 5, 1, 2, 2], [1, 3, 5, 1, 2, 1], [3, 3, 5, 4, 2, 2], [3, 5, 5, 4, 3, 1], [3, 5, 5, 4, 3, 2], [3, 5, 5, 4, 3, 1], [3, 5, 5, 1, 3, 2], [3, 5, 5, 1, 2, 1], [3, 5, 6, 1, 2, 2], [3, 5, 6, 1, 2, 1], [3, 5, 6, 2, 2, 2], [3, 5, 6, 2, 3, 1], [3, 5, 1, 2, 3, 2], [3, 5, 1, 2, 3, 1], [2, 5, 1, 1, 3, 2], [1, 5, 1, 1, 2, 1], [1, 2, 2, 1, 2, 2], [1, 2, 3, 1, 2, 1], [1, 2, 3, 3, 2, 2], [1, 2, 3, 3, 3, 1], [1, 4, 3, 3, 3, 2], [1, 4, 4, 3, 3, 1], [1, 4, 4, 1, 3, 2], [1, 4, 4, 1, 2, 1], [1, 5, 4, 1, 2, 2], [1, 5, 5, 1, 2, 1], [1, 5, 5, 4, 2, 2], [1, 5, 5, 4, 3, 1], [2, 5, 5, 4, 3, 2], [1, 5, 5, 4, 3, 1], [1, 5, 5, 1, 3, 2], [1, 5, 5, 1, 2, 1], [1, 5, 5, 1, 2, 2], [1, 5, 5, 1, 2, 1], [1, 5, 5, 2, 2, 2], [1, 5, 5, 2, 3, 1], [1, 5, 5, 2, 3, 2], [3, 1, 5, 2, 3, 1], [3, 1, 6, 1, 3, 2], [3, 1, 6, 1, 2, 1], [3, 1, 6, 1, 2, 2], [3, 3, 6, 1, 2, 1], [2, 3, 1, 3, 2, 2], [1, 3, 1, 3, 3, 1], [3, 3, 1, 3, 3, 2], [3, 5, 1, 3, 3, 1], [3, 5, 2, 1, 3, 2], [3, 5, 3, 1, 2, 1], [3, 5, 3, 1, 2, 2], [3, 5, 3, 1, 2, 1], [3, 5, 3, 4, 2, 2], [3, 5, 4, 4, 3, 1], [3, 5, 4, 4, 3, 2], [3, 5, 4, 4, 3, 1], [3, 5, 4, 1, 3, 2], [3, 5, 5, 1, 2, 1], [2, 5, 5, 1, 2, 2], [1, 5, 5, 1, 2, 1], [1, 2, 5, 2, 2, 2], [1, 2, 5, 2, 3, 1], [1, 2, 5, 2, 3, 2], [1, 2, 5, 2, 3, 1], [1, 4, 5, 1, 3, 2], [1, 4, 5, 1, 2, 1], [1, 4, 5, 1, 2, 2], [1, 4, 5, 1, 2, 1], [1, 5, 5, 3, 2, 2], [1, 5, 5, 3, 3, 1], [1, 5, 6, 3, 3, 2], [1, 5, 6, 3, 3, 1], [2, 5, 6, 1, 3, 2], [1, 5, 6, 1, 2, 1], [1, 5, 1, 1, 2, 2], [1, 5, 1, 1, 2, 1], [1, 5, 1, 4, 2, 2], [1, 5, 1, 4, 3, 1], [1, 5, 2, 4, 3, 2], [1, 5, 3, 4, 3, 1], [1, 5, 3, 1, 3, 2], [3, 1, 3, 1, 2, 1], [3, 1, 3, 1, 2, 2], [3, 1, 4, 1, 2, 1], [3, 1, 4, 2, 2, 2], [3, 3, 4, 2, 3, 1], [2, 3, 4, 2, 3, 2], [1, 3, 5, 2, 3, 1], [3, 3, 5, 1, 3, 2], [3, 5, 5, 1, 2, 1], [3, 5, 5, 1, 2, 2], [3, 5, 5, 1, 2, 1], [3, 5, 5, 3, 2, 2], [3, 5, 5, 3, 3, 1], [3, 5, 5, 3, 3, 2], [3, 5, 5, 3, 3, 1], [3, 5, 5, 1, 3, 2], [3, 5, 5, 1, 2, 1], [3, 5, 5, 1, 2, 2], [3, 5, 5, 1, 2, 1], [2, 5, 6, 4, 2, 2], [1, 5, 6, 4, 3, 1], [1, 2, 6, 4, 3, 2], [1, 2, 6, 4, 3, 1], [1, 2, 1, 1, 3, 2], [1, 2, 1, 1, 2, 1], [1, 4, 1, 1, 2, 2], [1, 4, 1, 1, 2, 1], [1, 4, 2, 2, 2, 2], [1, 4, 3, 2, 3, 1], [1, 5, 3, 2, 3, 2], [1, 5, 3, 2, 3, 1], [1, 5, 3, 1, 3, 2], [1, 5, 4, 1, 2, 1], [2, 5, 4, 1, 2, 2], [1, 5, 4, 1, 2, 1], [1, 5, 4, 3, 2, 2], [1, 5, 5, 3, 3, 1], [1, 5, 5, 3, 3, 2], [1, 5, 5, 3, 3, 1], [1, 5, 5, 1, 3, 2], [1, 5, 5, 1, 2, 1], [1, 5, 5, 1, 2, 2], [3, 1, 5, 1, 2, 1], [3, 1, 5, 4, 2, 2], [3, 1, 5, 4, 3, 1], [3, 1, 5, 4, 3, 2], [3, 3, 1, 4, 3, 1], [2, 3, 1, 1, 3, 2], [1, 3, 1, 1, 2, 1], [3, 3, 1, 1, 2, 2], [3, 5, 6, 1, 2, 1], [3, 5, 6, 2, 2, 2], [3, 5, 6, 2, 3, 1], [3, 5, 6, 2, 3, 2], [3, 5, 1, 2, 3, 1], [3, 5, 1, 1, 3, 2], [3, 5, 1, 1, 2, 1], [3, 5, 1, 1, 2, 2], [3, 5, 2, 1, 2, 1], [3, 5, 3, 3, 2, 2], [3, 5, 3, 3, 3, 1], [2, 5, 3, 3, 3, 2], [1, 5, 3, 3, 3, 1], [1, 2, 1, 1, 3, 2], [1, 2, 1, 1, 2, 1], [1, 2, 1, 1, 2, 2], [1, 2, 1, 1, 2, 1], [1, 4, 4, 4, 2, 2], [1, 4, 4, 4, 3, 1], [1, 4, 4, 4, 3, 2], [1, 4, 4, 4, 3, 1], [1, 5, 1, 1, 3, 2], [1, 5, 1, 1, 2, 1], [1, 5, 1, 1, 2, 2], [1, 5, 1, 1, 2, 1], [2, 5, 4, 2, 2, 2], [1, 5, 4, 2, 3, 1], [1, 5, 4, 2, 3, 2], [1, 5, 4, 2, 3, 1], [1, 5, 1, 1, 3, 2], [1, 5, 1, 1, 2, 1], [1, 5, 1, 1, 2, 2], [1, 5, 1, 1, 2, 1], [1, 5, 4, 3, 2, 2], [3, 1, 4, 3, 3, 1], [3, 1, 4, 3, 3, 2], [3, 1, 4, 3, 3, 1], [3, 1, 1, 1, 3, 2], [3, 3, 1, 1, 2, 1], [2, 3, 1, 1, 2, 2], [1, 3, 1, 1, 2, 1], [3, 3, 4, 4, 2, 2], [3, 5, 4, 4, 3, 1], [3, 5, 4, 4, 3, 2], [3, 5, 4, 4, 3, 1], [3, 5, 1, 1, 3, 2], [3, 5, 1, 1, 2, 1], [3, 5, 1, 1, 2, 2], [3, 5, 1, 1, 2, 1], [3, 5, 4, 2, 2, 2], [3, 5, 4, 2, 3, 1], [3, 5, 4, 2, 3, 2], [3, 5, 4, 2, 3, 1], [2, 5, 1, 1, 3, 2], [1, 5, 1, 1, 2, 1], [1, 2, 1, 1, 2, 2], [1, 2, 1, 1, 2, 1], [1, 2, 4, 3, 2, 2], [1, 2, 4, 3, 3, 1], [1, 4, 4, 3, 3, 2], [1, 4, 4, 3, 3, 1], [1, 4, 1, 1, 3, 2], [1, 4, 1, 1, 2, 1], [1, 5, 1, 1, 2, 2], [1, 5, 1, 1, 2, 1], [1, 5, 4, 4, 2, 2], [1, 5, 4, 4, 3, 1], [2, 5, 4, 4, 3, 2], [1, 5, 4, 4, 3, 1], [1, 5, 1, 1, 3, 2], [1, 5, 1, 1, 2, 1], [1, 5, 1, 1, 2, 2], [1, 5, 1, 1, 2, 1], [1, 5, 4, 2, 2, 2], [1, 5, 4, 2, 3, 1], [1, 5, 4, 2, 3, 2], [3, 1, 4, 2, 3, 1], [3, 1, 1, 1, 3, 2], [3, 1, 1, 1, 2, 1], [3, 1, 1, 1, 2, 2], [3, 3, 1, 1, 2, 1], [2, 3, 4, 3, 2, 2], [1, 3, 4, 3, 3, 1], [3, 3, 4, 3, 3, 2], [3, 5, 4, 3, 3, 1], [3, 5, 1, 1, 3, 2], [3, 5, 1, 1, 2, 1], [3, 5, 1, 1, 2, 2], [3, 5, 1, 1, 2, 1], [3, 5, 4, 4, 2, 2], [3, 5, 4, 4, 3, 1], [3, 5, 4, 4, 3, 2], [3, 5, 4, 4, 3, 1], [3, 5, 1, 1, 3, 2], [3, 5, 1, 1, 2, 1], [2, 5, 1, 1, 2, 2], [1, 5, 1, 1, 2, 1], [1, 2, 4, 2, 2, 2], [1, 2, 4, 2, 3, 1], [1, 2, 4, 2, 3, 2], [1, 2, 4, 2, 3, 1], [1, 4, 1, 1, 3, 2], [1, 4, 1, 1, 2, 1], [1, 4, 1, 1, 2, 2], [1, 4, 1, 1, 2, 1], [1, 5, 4, 3, 2, 2], [1, 5, 4, 3, 3, 1], [1, 5, 4, 3, 3, 2], [1, 5, 4, 3, 3, 1], [2, 5, 1, 1, 3, 2], [1, 5, 1, 1, 2, 1], [1, 5, 1, 1, 2, 2], [1, 5, 1, 1, 2, 1], [1, 5, 4, 4, 2, 2], [1, 5, 4, 4, 3, 1], [1, 5, 4, 4, 3, 2], [1, 5, 4, 4, 3, 1], [1, 5, 1, 1, 3, 2], [3, 1, 1, 1, 2, 1], [3, 1, 1, 1, 2, 2], [3, 1, 1, 1, 2, 1], [3, 1, 4, 2, 2, 2], [3, 3, 4, 2, 3, 1], [2, 3, 4, 2, 3, 2], [1, 3, 4, 2, 3, 1], [3, 3, 1, 1, 3, 2], [3, 5, 1, 1, 2, 1], [3, 5, 1, 1, 2, 2], [3, 5, 1, 1, 2, 1], [3, 5, 4, 3, 2, 2], [3, 5, 4, 3, 3, 1], [3, 5, 4, 3, 3, 2], [3, 5, 4, 3, 3, 1], [3, 5, 1, 1, 3, 2], [3, 5, 1, 1, 2, 1], [3, 5, 1, 1, 2, 2], [3, 5, 1, 1, 2, 1], [2, 5, 4, 4, 2, 2], [1, 5, 4, 4, 3, 1], [1, 2, 4, 4, 3, 2], [1, 2, 4, 4, 3, 1], [1, 2, 1, 1, 3, 2], [1, 2, 1, 1, 2, 1], [1, 4, 1, 1, 2, 2], [1, 4, 1, 1, 2, 1], [1, 4, 4, 2, 2, 2], [1, 4, 4, 2, 3, 1], [1, 5, 4, 2, 3, 2], [1, 5, 4, 2, 3, 1], [1, 5, 1, 1, 3, 2], [1, 5, 1, 1, 2, 1], [2, 5, 1, 1, 2, 2], [1, 5, 1, 1, 2, 1], [1, 5, 4, 3, 2, 2], [1, 5, 4, 3, 3, 1], [1, 5, 4, 3, 3, 2], [1, 5, 4, 3, 3, 1], [1, 5, 1, 1, 3, 2], [1, 5, 1, 1, 2, 1], [1, 5, 1, 1, 2, 2], [3, 1, 1, 1, 2, 1], [3, 1, 4, 4, 2, 2], [3, 1, 4, 4, 3, 1], [3, 1, 4, 4, 3, 2], [3, 3, 4, 4, 3, 1], [2, 3, 1, 1, 3, 2], [1, 3, 1, 1, 2, 1], [3, 3, 1, 1, 2, 2], [3, 5, 1, 1, 2, 1], [3, 5, 4, 2, 2, 2], [3, 5, 4, 2, 3, 1], [3, 5, 4, 2, 3, 2], [3, 5, 4, 2, 3, 1], [3, 5, 1, 1, 3, 2], [3, 5, 1, 1, 2, 1], [3, 5, 1, 1, 2, 2], [3, 5, 1, 1, 2, 1], [3, 5, 4, 3, 2, 2], [3, 5, 4, 3, 3, 1], [2, 5, 4, 3, 3, 2], [1, 5, 4, 3, 3, 1], [1, 2, 1, 1, 3, 2], [1, 2, 1, 1, 2, 1], [1, 2, 1, 1, 2, 2], [1, 2, 1, 1, 2, 1], [1, 4, 4, 4, 2, 2], [1, 4, 4, 4, 3, 1], [1, 4, 4, 4, 3, 2]]"
   ]
  },
  {
   "cell_type": "code",
   "execution_count": 46,
   "metadata": {},
   "outputs": [],
   "source": [
    "#traffic police100\n",
    "# action_list =[[3, 1, 1, 1, 1, 1], [3, 1, 1, 1, 1, 1], [3, 1, 1, 1, 1, 1], [3, 3, 2, 2, 1, 1], [3, 3, 3, 2, 1, 1], [3, 3, 3, 2, 1, 1], [3, 3, 3, 2, 1, 1], [3, 3, 3, 3, 1, 1], [3, 3, 4, 3, 1, 1], [3, 3, 4, 3, 1, 1], [3, 3, 4, 3, 1, 1], [3, 3, 4, 4, 1, 1], [2, 3, 5, 4, 2, 1], [1, 3, 5, 4, 2, 1], [3, 3, 5, 4, 2, 1], [3, 3, 5, 1, 2, 1], [1, 2, 6, 1, 1, 1], [1, 2, 6, 1, 1, 1], [1, 2, 6, 1, 1, 1], [1, 2, 6, 1, 1, 1], [1, 4, 6, 1, 1, 1], [1, 4, 6, 1, 1, 1], [1, 4, 1, 1, 1, 1], [1, 4, 1, 2, 1, 1], [1, 5, 1, 2, 1, 1], [1, 5, 1, 2, 1, 1], [2, 5, 2, 2, 1, 1], [2, 5, 2, 2, 1, 1], [1, 1, 3, 2, 1, 1], [3, 1, 3, 2, 2, 1], [3, 1, 3, 2, 2, 1], [3, 1, 3, 3, 2, 1], [3, 1, 4, 3, 2, 1], [3, 1, 4, 3, 3, 1], [3, 1, 4, 3, 3, 1], [3, 1, 4, 3, 3, 1], [3, 1, 4, 4, 3, 1], [3, 1, 4, 4, 3, 1], [3, 1, 5, 4, 3, 1], [3, 1, 5, 4, 3, 1], [3, 1, 5, 4, 3, 1], [2, 3, 5, 4, 3, 1], [1, 3, 6, 1, 3, 1], [3, 3, 6, 1, 3, 1], [3, 3, 6, 1, 2, 1], [1, 2, 6, 1, 2, 1], [1, 2, 1, 2, 2, 1], [1, 2, 1, 2, 2, 1], [1, 2, 1, 2, 1, 1], [1, 4, 1, 2, 1, 1], [1, 4, 1, 2, 1, 1], [1, 4, 1, 2, 1, 1], [1, 4, 1, 2, 1, 1], [1, 4, 1, 2, 1, 1], [1, 4, 2, 3, 1, 1], [2, 5, 2, 3, 1, 1], [1, 5, 2, 3, 1, 1], [1, 5, 3, 3, 1, 1], [1, 5, 3, 3, 3, 1], [1, 5, 3, 3, 3, 1], [3, 1, 3, 3, 3, 1], [3, 1, 4, 3, 3, 1], [3, 1, 4, 4, 3, 1], [3, 1, 4, 4, 3, 1], [3, 1, 4, 4, 3, 1], [3, 1, 1, 4, 3, 1], [3, 1, 1, 1, 3, 1], [3, 1, 1, 1, 3, 1], [3, 1, 1, 1, 2, 1], [2, 1, 1, 1, 2, 1], [1, 3, 1, 2, 2, 1], [3, 3, 1, 2, 2, 1], [3, 3, 1, 2, 1, 1], [3, 3, 1, 2, 1, 1], [3, 3, 4, 2, 1, 1], [1, 2, 4, 2, 1, 1], [1, 2, 4, 2, 1, 1], [1, 2, 4, 2, 1, 1], [1, 2, 4, 2, 3, 1], [1, 2, 4, 2, 3, 1], [1, 2, 4, 2, 3, 1], [1, 2, 4, 2, 3, 1], [1, 4, 4, 2, 3, 1], [2, 4, 5, 3, 3, 1], [1, 4, 5, 3, 3, 1], [1, 4, 5, 3, 3, 1], [1, 4, 5, 3, 3, 1], [1, 4, 1, 3, 3, 1], [1, 4, 1, 3, 3, 1], [1, 4, 1, 3, 3, 1], [1, 4, 1, 3, 3, 1], [1, 4, 1, 4, 1, 1], [1, 4, 1, 4, 1, 1], [1, 4, 1, 4, 1, 1], [1, 5, 1, 4, 1, 1], [1, 5, 1, 1, 1, 1], [1, 5, 6, 1, 1, 1], [2, 5, 6, 1, 1, 1], [1, 1, 6, 1, 1, 1], [3, 1, 6, 1, 1, 1], [3, 1, 1, 1, 1, 1], [3, 1, 1, 1, 1, 1], [3, 1, 1, 1, 1, 1], [3, 1, 1, 1, 1, 1], [3, 1, 1, 1, 2, 1], [3, 1, 2, 1, 2, 1], [3, 1, 3, 2, 2, 1], [3, 3, 3, 2, 2, 1], [3, 3, 3, 2, 2, 1], [3, 3, 3, 2, 1, 1], [3, 3, 4, 2, 1, 1], [2, 3, 4, 2, 1, 1], [1, 2, 4, 2, 1, 1], [1, 2, 4, 2, 3, 1], [1, 2, 4, 2, 3, 1], [1, 2, 4, 2, 3, 1], [1, 2, 4, 2, 3, 1], [1, 2, 4, 3, 3, 1], [1, 2, 4, 3, 3, 1], [1, 2, 4, 3, 3, 2], [1, 4, 4, 3, 3, 2], [1, 4, 4, 3, 3, 2], [1, 4, 1, 3, 3, 2], [1, 4, 1, 3, 3, 2], [1, 4, 1, 4, 2, 2], [2, 4, 1, 4, 2, 2], [1, 4, 1, 4, 2, 2], [1, 4, 1, 4, 2, 2], [1, 4, 1, 4, 3, 2], [1, 4, 1, 4, 3, 2], [1, 4, 1, 1, 3, 2], [1, 4, 1, 1, 3, 2], [1, 4, 1, 1, 3, 2], [1, 5, 1, 1, 3, 2], [1, 5, 4, 1, 3, 2], [1, 5, 4, 1, 2, 2], [1, 5, 4, 1, 2, 2], [1, 5, 4, 1, 2, 2], [1, 5, 4, 1, 2, 2], [2, 5, 4, 1, 2, 2], [1, 1, 4, 1, 1, 2], [3, 1, 4, 1, 1, 2], [3, 1, 4, 1, 1, 2], [3, 1, 5, 2, 1, 2], [3, 3, 5, 2, 1, 2], [3, 3, 5, 2, 1, 2], [3, 3, 5, 2, 3, 2], [3, 3, 5, 2, 3, 2], [1, 2, 6, 2, 3, 2], [1, 2, 6, 2, 3, 2], [1, 2, 6, 2, 3, 2], [1, 2, 6, 2, 3, 2], [3, 1, 1, 2, 3, 2], [2, 1, 1, 2, 3, 2], [1, 1, 1, 2, 3, 2], [3, 1, 1, 2, 3, 2], [1, 2, 1, 3, 3, 2], [1, 2, 1, 3, 3, 2], [1, 2, 1, 3, 3, 2], [1, 2, 1, 3, 1, 2], [1, 4, 1, 3, 1, 2], [1, 4, 2, 3, 1, 2], [1, 4, 2, 4, 1, 2], [1, 4, 2, 4, 1, 2], [3, 1, 2, 4, 1, 2], [3, 1, 2, 4, 1, 2], [3, 1, 3, 4, 1, 2], [2, 1, 3, 4, 1, 2], [1, 4, 3, 4, 1, 2], [1, 4, 3, 1, 1, 2], [1, 4, 1, 1, 1, 2], [1, 4, 1, 1, 1, 2], [3, 1, 1, 1, 2, 2], [3, 1, 1, 2, 2, 2], [3, 1, 1, 2, 2, 1], [3, 1, 1, 2, 2, 1], [3, 1, 1, 2, 2, 1], [3, 1, 1, 2, 3, 1], [3, 1, 1, 2, 3, 1], [3, 1, 1, 2, 3, 1], [3, 4, 1, 2, 3, 1], [2, 4, 4, 3, 3, 1], [1, 4, 4, 3, 3, 1], [1, 4, 4, 3, 3, 1], [1, 4, 4, 3, 2, 1], [1, 4, 4, 3, 2, 1], [1, 4, 4, 3, 2, 1], [1, 4, 4, 4, 2, 1], [1, 4, 4, 4, 3, 1], [1, 4, 4, 4, 3, 1], [1, 4, 4, 4, 3, 1], [1, 4, 4, 4, 3, 1], [1, 4, 4, 1, 3, 1], [1, 5, 4, 1, 3, 1], [1, 5, 1, 1, 3, 1], [2, 5, 1, 1, 3, 1], [1, 5, 1, 1, 3, 1], [1, 5, 1, 1, 3, 1], [1, 5, 1, 1, 2, 1], [1, 5, 1, 1, 2, 1], [1, 5, 1, 1, 2, 1], [3, 1, 4, 1, 2, 1], [3, 1, 4, 1, 2, 1], [3, 1, 4, 1, 1, 1], [3, 1, 4, 1, 1, 1], [3, 1, 4, 2, 1, 1], [3, 3, 4, 2, 1, 1], [3, 3, 4, 2, 1, 1], [3, 3, 4, 2, 1, 1], [2, 3, 4, 2, 1, 1], [1, 1, 4, 2, 1, 1], [3, 1, 4, 2, 1, 1], [3, 1, 4, 2, 3, 1], [3, 1, 4, 2, 3, 1], [3, 1, 1, 2, 3, 1], [3, 1, 1, 2, 3, 1], [3, 1, 1, 2, 3, 1], [1, 2, 1, 2, 3, 1], [1, 2, 1, 3, 3, 1], [1, 2, 1, 3, 3, 1], [1, 2, 1, 3, 3, 1], [3, 1, 1, 3, 3, 1], [3, 1, 1, 3, 3, 1], [2, 1, 4, 3, 3, 1], [1, 1, 4, 4, 3, 1], [1, 2, 4, 4, 1, 1], [1, 2, 4, 4, 1, 1], [1, 2, 4, 4, 1, 1], [1, 2, 4, 1, 1, 1], [1, 2, 5, 1, 1, 1], [1, 4, 5, 1, 1, 1], [1, 4, 5, 1, 1, 1], [1, 4, 5, 1, 1, 1], [1, 4, 5, 1, 1, 1], [3, 1, 1, 1, 1, 1], [3, 1, 1, 1, 1, 1], [3, 1, 1, 1, 1, 1], [2, 1, 1, 1, 1, 1], [1, 4, 1, 1, 2, 1], [1, 4, 1, 1, 2, 1], [1, 4, 1, 1, 2, 1], [1, 4, 1, 2, 2, 1], [3, 1, 1, 2, 2, 1], [3, 1, 1, 2, 1, 1], [3, 1, 1, 2, 1, 1], [3, 1, 1, 2, 1, 1], [3, 1, 1, 2, 1, 1], [3, 4, 6, 2, 1, 1], [3, 4, 6, 2, 3, 1], [3, 4, 6, 2, 3, 1], [3, 4, 6, 3, 3, 1], [2, 1, 6, 3, 3, 1], [1, 1, 1, 3, 3, 1], [3, 1, 1, 3, 3, 1], [3, 1, 1, 3, 3, 1], [3, 4, 1, 4, 3, 1], [3, 4, 1, 4, 3, 1], [3, 4, 1, 4, 3, 1], [3, 4, 1, 4, 2, 1], [3, 1, 1, 4, 2, 1], [3, 1, 2, 4, 2, 1], [3, 1, 3, 4, 2, 1], [3, 1, 3, 4, 2, 1], [3, 4, 3, 4, 2, 1], [3, 4, 3, 1, 1, 1], [2, 4, 4, 1, 1, 1], [1, 4, 4, 1, 1, 1], [1, 5, 4, 1, 1, 1], [1, 5, 4, 1, 1, 1], [1, 5, 1, 1, 1, 1], [1, 5, 1, 1, 1, 1], [1, 5, 1, 1, 1, 1], [1, 5, 1, 2, 1, 1], [1, 5, 1, 2, 1, 1], [3, 1, 1, 2, 1, 1], [3, 1, 4, 2, 1, 1], [3, 1, 4, 2, 1, 1], [3, 1, 4, 2, 2, 1], [3, 3, 4, 2, 2, 1], [2, 3, 4, 2, 2, 1], [1, 3, 4, 2, 2, 1], [3, 3, 4, 2, 3, 1], [1, 2, 4, 2, 3, 1], [1, 2, 4, 2, 3, 1], [1, 2, 4, 2, 3, 1], [1, 2, 4, 3, 3, 1], [1, 2, 4, 3, 3, 2], [1, 4, 4, 3, 3, 2], [1, 4, 5, 3, 3, 2], [1, 4, 5, 3, 3, 2], [1, 4, 5, 3, 3, 2], [3, 1, 5, 4, 3, 2], [3, 1, 1, 4, 3, 2], [2, 1, 1, 4, 2, 2], [1, 1, 1, 4, 2, 2], [1, 4, 1, 4, 2, 2], [1, 4, 1, 4, 2, 2], [1, 4, 1, 4, 3, 2], [1, 4, 1, 4, 3, 2], [3, 1, 1, 4, 3, 2], [3, 1, 1, 4, 3, 2], [3, 1, 1, 4, 3, 2], [3, 1, 1, 1, 3, 2], [3, 1, 1, 1, 3, 2], [3, 4, 1, 1, 3, 2], [3, 4, 6, 1, 3, 2], [3, 4, 6, 1, 3, 2], [2, 4, 6, 1, 3, 2], [1, 1, 6, 1, 3, 2], [3, 1, 6, 1, 3, 2], [3, 1, 6, 2, 1, 2], [3, 1, 1, 2, 1, 2], [3, 4, 1, 2, 1, 2], [3, 4, 1, 2, 1, 2], [3, 4, 1, 2, 1, 2], [3, 4, 1, 2, 1, 2], [3, 4, 1, 2, 1, 2], [3, 1, 1, 2, 1, 2], [3, 1, 1, 2, 3, 2], [3, 1, 1, 2, 3, 2], [3, 1, 1, 2, 3, 2], [2, 4, 1, 2, 3, 2], [1, 4, 1, 3, 3, 2], [1, 4, 1, 3, 3, 2], [1, 4, 2, 3, 3, 2], [1, 4, 2, 3, 3, 2], [1, 4, 2, 3, 3, 2], [3, 1, 2, 3, 3, 2], [3, 1, 2, 3, 3, 2], [3, 1, 2, 3, 3, 2], [3, 1, 3, 3, 3, 2], [3, 1, 3, 3, 1, 2], [3, 4, 3, 3, 1, 2], [3, 4, 3, 4, 1, 2], [3, 4, 1, 4, 1, 2], [2, 4, 1, 4, 1, 2], [1, 5, 1, 4, 1, 2], [1, 5, 1, 4, 1, 2], [1, 5, 1, 4, 1, 2], [1, 5, 1, 4, 1, 1], [1, 5, 1, 4, 1, 1], [1, 5, 1, 4, 1, 1], [1, 5, 4, 4, 1, 1], [1, 5, 4, 4, 1, 1], [1, 5, 4, 4, 2, 1], [3, 1, 4, 4, 2, 1], [3, 1, 4, 1, 2, 1], [3, 1, 4, 1, 2, 1], [3, 1, 4, 1, 2, 1], [2, 3, 4, 1, 2, 1], [1, 3, 4, 1, 2, 1], [3, 3, 4, 1, 2, 1], [3, 3, 4, 1, 2, 1], [3, 1, 4, 1, 2, 1], [3, 1, 4, 1, 2, 1], [3, 1, 5, 1, 2, 1], [3, 1, 5, 1, 2, 1], [1, 2, 5, 1, 1, 1], [1, 2, 5, 1, 1, 1], [1, 2, 5, 2, 1, 1], [1, 2, 5, 2, 1, 1], [3, 1, 5, 2, 1, 1], [3, 1, 5, 2, 1, 1], [2, 1, 5, 2, 1, 1], [1, 1, 5, 2, 1, 1], [1, 2, 5, 2, 1, 1], [1, 2, 5, 2, 1, 1], [1, 2, 5, 2, 3, 1], [1, 2, 6, 2, 3, 1], [3, 1, 6, 2, 3, 1], [3, 1, 6, 2, 3, 1], [3, 1, 6, 2, 3, 1], [3, 1, 2, 3, 3, 1], [1, 2, 2, 3, 3, 1], [1, 2, 1, 3, 3, 1], [1, 2, 1, 3, 3, 1], [1, 2, 1, 3, 3, 1], [2, 1, 1, 3, 3, 1], [2, 1, 1, 3, 3, 1], [1, 1, 1, 3, 3, 1], [3, 1, 1, 3, 1, 1], [1, 2, 1, 3, 1, 1], [1, 2, 1, 4, 1, 1], [1, 2, 1, 4, 1, 1], [1, 2, 1, 4, 1, 1], [3, 1, 2, 4, 1, 1], [3, 1, 3, 1, 1, 1], [3, 1, 3, 1, 1, 1], [3, 1, 3, 1, 1, 1], [1, 2, 3, 1, 1, 1], [1, 2, 4, 1, 1, 1], [1, 2, 4, 1, 1, 1], [2, 2, 4, 1, 1, 1], [1, 5, 4, 1, 2, 1], [1, 5, 4, 1, 2, 1], [1, 5, 4, 1, 2, 1], [1, 5, 4, 1, 2, 1], [1, 5, 4, 1, 2, 1], [1, 5, 4, 1, 2, 1], [1, 5, 4, 2, 2, 1], [1, 5, 4, 2, 2, 1], [1, 4, 4, 2, 2, 1], [1, 4, 4, 2, 2, 1], [1, 4, 1, 1, 1, 1], [1, 4, 1, 1, 1, 1], [3, 1, 1, 1, 1, 1], [2, 1, 1, 1, 1, 1], [1, 1, 1, 1, 1, 1], [3, 1, 1, 1, 1, 1], [3, 4, 1, 1, 1, 1], [3, 4, 1, 1, 1, 1], [3, 4, 1, 1, 1, 1], [3, 4, 1, 1, 1, 1], [3, 1, 1, 1, 1, 1], [3, 1, 1, 1, 1, 1], [3, 1, 1, 1, 1, 1], [3, 1, 4, 3, 2, 1], [3, 1, 4, 3, 2, 1], [3, 4, 4, 3, 2, 1], [3, 4, 4, 3, 2, 1], [2, 4, 4, 3, 2, 1], [1, 4, 1, 3, 1, 1], [3, 1, 1, 3, 1, 1], [3, 1, 1, 3, 1, 1], [3, 1, 1, 3, 1, 1], [3, 1, 1, 3, 3, 1], [3, 1, 1, 3, 3, 1], [3, 1, 1, 3, 3, 1], [3, 1, 1, 3, 3, 1], [3, 1, 1, 4, 3, 1], [3, 1, 1, 4, 3, 1], [3, 1, 1, 4, 3, 1], [3, 4, 4, 4, 3, 1], [3, 4, 4, 4, 3, 1], [2, 4, 4, 4, 3, 1], [1, 4, 4, 4, 3, 1], [3, 1, 4, 4, 3, 1], [3, 1, 4, 4, 3, 1], [3, 1, 4, 4, 1, 1], [3, 1, 4, 4, 1, 1], [3, 4, 4, 4, 1, 1], [3, 4, 4, 4, 1, 1], [3, 4, 1, 1, 1, 1], [3, 4, 1, 1, 1, 1], [3, 1, 1, 1, 1, 1], [3, 1, 1, 1, 1, 1], [3, 1, 1, 1, 1, 1], [3, 1, 1, 1, 1, 1], [2, 4, 1, 2, 1, 1], [1, 4, 4, 2, 1, 1], [1, 4, 4, 2, 1, 1], [1, 4, 4, 2, 2, 1], [3, 1, 4, 2, 2, 1], [3, 1, 4, 2, 2, 1], [3, 1, 4, 2, 2, 1], [3, 1, 4, 2, 3, 1], [3, 4, 4, 2, 3, 1], [3, 4, 4, 2, 3, 1], [3, 4, 4, 3, 3, 1], [3, 4, 4, 3, 3, 1], [3, 1, 1, 3, 3, 2], [3, 1, 1, 3, 3, 2], [2, 1, 1, 3, 3, 2], [1, 1, 1, 3, 3, 2], [1, 4, 1, 3, 3, 2], [1, 4, 1, 3, 3, 2], [1, 4, 1, 3, 3, 2], [1, 4, 1, 3, 2, 2], [3, 1, 4, 3, 2, 2], [3, 1, 4, 3, 2, 2], [3, 1, 4, 3, 2, 2], [3, 1, 4, 4, 2, 2], [3, 4, 4, 4, 2, 2], [3, 4, 4, 4, 1, 2], [3, 4, 4, 4, 1, 2], [3, 4, 4, 4, 1, 2], [2, 5, 4, 4, 1, 2], [1, 5, 4, 1, 2, 2], [1, 5, 4, 1, 2, 2], [1, 5, 4, 1, 2, 2], [1, 5, 4, 1, 2, 2], [1, 5, 5, 1, 1, 2], [1, 5, 5, 1, 1, 2], [3, 1, 5, 1, 1, 2], [3, 1, 5, 1, 1, 2], [3, 1, 1, 1, 1, 2], [3, 1, 1, 1, 1, 2], [3, 3, 1, 1, 1, 2], [3, 3, 1, 2, 1, 2], [3, 3, 1, 2, 1, 2], [2, 3, 1, 2, 1, 2], [1, 1, 6, 2, 3, 2], [3, 1, 6, 2, 3, 2], [3, 1, 6, 2, 3, 2], [3, 1, 6, 2, 3, 2], [3, 1, 2, 2, 3, 2], [3, 1, 2, 2, 3, 2], [3, 1, 1, 2, 2, 2], [1, 2, 1, 2, 2, 2], [1, 2, 1, 2, 2, 2], [1, 2, 1, 2, 2, 2], [1, 2, 1, 3, 3, 2], [3, 1, 2, 3, 3, 2], [3, 1, 3, 3, 3, 2], [2, 1, 3, 3, 3, 2], [1, 1, 3, 4, 2, 2], [3, 1, 3, 4, 2, 2], [1, 2, 4, 4, 2, 2], [1, 2, 4, 4, 2, 2], [1, 2, 4, 4, 1, 2], [1, 2, 4, 4, 1, 2], [3, 1, 4, 4, 1, 2], [3, 1, 4, 4, 1, 2], [3, 1, 4, 4, 2, 2], [3, 1, 4, 4, 2, 2], [1, 2, 4, 4, 2, 2], [1, 2, 4, 4, 2, 2], [1, 2, 4, 4, 1, 2], [2, 2, 4, 1, 1, 2], [1, 4, 4, 1, 1, 2], [1, 4, 5, 1, 1, 2], [1, 4, 5, 1, 2, 2], [1, 4, 5, 1, 2, 2], [3, 1, 5, 1, 2, 2], [3, 1, 1, 2, 2, 2], [3, 1, 1, 2, 2, 2], [3, 1, 1, 2, 2, 2], [3, 4, 1, 2, 2, 2], [3, 4, 1, 2, 3, 2], [3, 4, 1, 2, 3, 2], [3, 4, 1, 2, 3, 2], [3, 1, 1, 2, 3, 2], [2, 1, 1, 2, 3, 2], [1, 1, 1, 2, 3, 2], [3, 1, 1, 2, 3, 2], [3, 4, 1, 2, 3, 2], [3, 4, 1, 2, 3, 2], [3, 4, 6, 3, 3, 2], [3, 4, 6, 3, 3, 2], [3, 4, 6, 3, 3, 2], [3, 1, 6, 3, 3, 2], [3, 1, 2, 3, 1, 1], [3, 1, 2, 3, 1, 1], [3, 1, 2, 3, 1, 1], [3, 4, 2, 3, 1, 1], [3, 4, 1, 3, 1, 1], [2, 4, 1, 3, 1, 1], [1, 4, 1, 3, 1, 1], [3, 1, 1, 4, 1, 1], [3, 1, 1, 4, 1, 1], [3, 1, 1, 4, 1, 1], [3, 1, 1, 4, 1, 1], [3, 4, 1, 4, 1, 1], [3, 4, 1, 4, 1, 1], [3, 4, 1, 4, 2, 1], [3, 4, 1, 4, 2, 1], [3, 1, 1, 4, 2, 1], [3, 1, 1, 4, 2, 1], [3, 1, 2, 4, 2, 1], [3, 1, 3, 4, 2, 1], [2, 4, 3, 4, 2, 1], [1, 4, 3, 1, 2, 1], [1, 4, 3, 1, 2, 1], [1, 4, 4, 1, 2, 1], [1, 5, 4, 1, 2, 1], [1, 5, 4, 1, 2, 1], [1, 5, 4, 1, 2, 1], [1, 5, 4, 1, 1, 1], [1, 5, 4, 1, 1, 1], [1, 5, 4, 1, 1, 1], [1, 5, 4, 1, 1, 1], [3, 1, 4, 1, 1, 1], [3, 1, 4, 1, 1, 1], [3, 1, 4, 1, 1, 1], [2, 1, 4, 2, 1, 1], [1, 3, 4, 2, 1, 1], [3, 3, 5, 2, 1, 1], [3, 3, 5, 2, 3, 1], [3, 3, 5, 2, 3, 1], [3, 1, 5, 2, 3, 1], [3, 1, 5, 2, 3, 1], [3, 1, 5, 2, 3, 1], [3, 1, 5, 2, 3, 1], [1, 2, 5, 2, 3, 1], [1, 2, 5, 2, 3, 1], [1, 2, 5, 2, 3, 1], [1, 2, 6, 2, 3, 1], [1, 4, 6, 3, 3, 1], [2, 4, 6, 3, 3, 1], [2, 4, 6, 3, 3, 1], [2, 4, 2, 3, 1, 1], [1, 1, 1, 3, 1, 1], [3, 1, 1, 3, 1, 1], [3, 1, 1, 3, 1, 1], [3, 1, 1, 3, 1, 1], [3, 1, 1, 3, 1, 1], [3, 5, 1, 3, 1, 1], [3, 5, 1, 3, 1, 1], [3, 5, 1, 3, 1, 1], [3, 5, 1, 3, 1, 1], [3, 5, 2, 4, 1, 1], [3, 5, 3, 4, 1, 1], [3, 3, 3, 4, 1, 1], [3, 3, 3, 4, 2, 1], [2, 3, 3, 4, 2, 1], [2, 3, 4, 1, 2, 1], [2, 1, 4, 1, 2, 1], [1, 1, 4, 1, 2, 1], [3, 1, 4, 1, 2, 1], [3, 1, 4, 1, 2, 1], [1, 2, 4, 1, 2, 1], [1, 2, 4, 1, 2, 1], [1, 2, 4, 1, 2, 1], [1, 2, 1, 1, 2, 1], [3, 1, 1, 1, 2, 1], [3, 1, 1, 1, 2, 1], [3, 1, 1, 1, 1, 1], [3, 1, 1, 1, 1, 1], [3, 1, 1, 2, 1, 1], [3, 1, 1, 2, 1, 1], [2, 5, 1, 2, 1, 1], [1, 5, 1, 2, 3, 1], [1, 5, 1, 2, 3, 1], [1, 5, 1, 2, 3, 1], [1, 5, 4, 2, 3, 1], [1, 5, 4, 2, 3, 1], [3, 3, 4, 2, 3, 1], [3, 3, 4, 2, 3, 1], [3, 3, 4, 2, 3, 1], [3, 3, 4, 2, 3, 1], [3, 1, 4, 2, 3, 2], [3, 1, 4, 3, 3, 2], [3, 1, 4, 3, 3, 2], [3, 1, 4, 3, 3, 2], [2, 1, 4, 3, 1, 2], [1, 2, 4, 3, 1, 2], [1, 2, 4, 3, 1, 2], [1, 2, 5, 3, 1, 2], [1, 2, 5, 3, 3, 2], [1, 4, 5, 3, 3, 2], [1, 4, 5, 3, 3, 2], [1, 4, 1, 3, 3, 2], [1, 4, 1, 3, 3, 2], [3, 1, 1, 3, 3, 2], [3, 1, 1, 4, 3, 2], [3, 1, 1, 4, 3, 2], [3, 1, 1, 4, 3, 2], [3, 4, 1, 4, 3, 2], [2, 4, 1, 4, 3, 2], [1, 4, 1, 4, 3, 2], [1, 4, 1, 4, 3, 2], [3, 1, 1, 4, 1, 2], [3, 1, 1, 4, 1, 2], [3, 1, 1, 4, 1, 2], [3, 1, 6, 4, 1, 2], [3, 4, 6, 4, 2, 2], [3, 4, 6, 4, 2, 2], [3, 4, 6, 1, 2, 2], [3, 4, 2, 1, 2, 2], [3, 1, 2, 1, 3, 2], [3, 1, 1, 1, 3, 2], [3, 1, 1, 1, 3, 2], [2, 1, 1, 1, 3, 2], [1, 4, 1, 1, 3, 2], [1, 4, 1, 1, 3, 2], [1, 4, 1, 1, 3, 2], [1, 4, 1, 1, 3, 2], [1, 5, 1, 1, 3, 2], [1, 5, 2, 1, 3, 2], [1, 5, 3, 2, 3, 2], [1, 5, 3, 2, 2, 2], [1, 5, 3, 2, 2, 2], [3, 1, 3, 2, 2, 2], [3, 1, 4, 2, 2, 2], [3, 1, 4, 3, 3, 2], [3, 1, 4, 3, 3, 2], [2, 1, 4, 3, 3, 1], [1, 3, 4, 3, 3, 1], [3, 3, 4, 4, 3, 1], [3, 3, 4, 4, 3, 1], [3, 3, 4, 4, 3, 1], [1, 2, 4, 4, 3, 1], [1, 2, 4, 4, 3, 1], [1, 2, 4, 4, 3, 1], [1, 2, 4, 4, 2, 1], [1, 4, 4, 4, 2, 1], [1, 4, 5, 4, 2, 1], [1, 4, 5, 4, 2, 1], [1, 4, 5, 4, 2, 1], [3, 1, 5, 4, 2, 1], [2, 1, 1, 4, 2, 1], [1, 1, 1, 1, 2, 1], [3, 1, 1, 1, 2, 1], [3, 4, 1, 1, 2, 1], [3, 4, 1, 1, 2, 1], [3, 4, 1, 1, 2, 1], [3, 4, 1, 1, 2, 1], [3, 1, 1, 1, 1, 1], [3, 1, 1, 1, 1, 1], [3, 1, 1, 1, 1, 1], [3, 1, 1, 1, 1, 1], [3, 1, 1, 1, 1, 1], [3, 4, 1, 1, 1, 1], [3, 4, 6, 1, 1, 1], [2, 4, 6, 2, 1, 1], [1, 4, 6, 2, 1, 1], [1, 4, 6, 2, 1, 1], [1, 4, 2, 2, 1, 1], [1, 4, 1, 2, 1, 1], [1, 4, 1, 2, 1, 1], [1, 4, 1, 2, 2, 1], [1, 4, 1, 2, 2, 1], [1, 4, 1, 2, 2, 1], [1, 5, 1, 2, 2, 1], [1, 5, 1, 2, 3, 1], [1, 5, 1, 2, 3, 1], [1, 5, 2, 2, 3, 1], [1, 5, 3, 3, 3, 1], [2, 5, 3, 3, 3, 1], [1, 1, 3, 3, 3, 1], [3, 1, 3, 3, 3, 1], [3, 1, 4, 3, 3, 1], [3, 1, 4, 3, 3, 1], [3, 1, 4, 3, 3, 1], [3, 3, 4, 3, 3, 1], [3, 3, 4, 4, 3, 1], [3, 3, 4, 4, 2, 1], [3, 3, 4, 4, 2, 1], [1, 2, 4, 4, 2, 1], [1, 2, 4, 4, 2, 1], [1, 2, 4, 4, 2, 1], [1, 2, 4, 4, 2, 1], [2, 2, 4, 4, 2, 1], [1, 2, 4, 4, 2, 1], [1, 2, 5, 4, 2, 1], [1, 2, 5, 4, 1, 1], [1, 2, 5, 4, 1, 1], [1, 2, 5, 4, 1, 1], [1, 2, 5, 1, 1, 1], [1, 2, 5, 1, 1, 1], [1, 2, 5, 1, 1, 1], [1, 4, 5, 1, 1, 1], [1, 4, 5, 1, 1, 1], [1, 4, 6, 1, 1, 1], [1, 4, 6, 1, 1, 1], [1, 4, 6, 2, 1, 1], [2, 4, 6, 2, 1, 1], [1, 4, 6, 2, 1, 1], [1, 4, 6, 2, 2, 1], [1, 4, 6, 2, 2, 1], [1, 4, 6, 2, 2, 1], [1, 4, 6, 2, 2, 1], [1, 5, 6, 2, 3, 1], [1, 5, 1, 2, 3, 1], [1, 5, 1, 2, 3, 1], [1, 5, 1, 2, 3, 1], [1, 5, 1, 2, 3, 1], [1, 5, 1, 2, 3, 1], [3, 1, 1, 3, 3, 1], [3, 1, 1, 3, 3, 2], [2, 1, 1, 3, 3, 2], [2, 1, 1, 3, 3, 2], [2, 3, 1, 4, 3, 2], [1, 3, 1, 4, 3, 2], [3, 3, 1, 4, 3, 2], [3, 3, 1, 4, 2, 2], [3, 1, 2, 4, 2, 2], [3, 1, 3, 4, 2, 2], [3, 1, 3, 4, 2, 2], [3, 1, 3, 4, 3, 2], [1, 2, 3, 4, 3, 2], [1, 2, 4, 4, 3, 2], [1, 2, 4, 4, 3, 2], [1, 2, 4, 4, 3, 2], [3, 1, 4, 4, 3, 2], [3, 1, 4, 1, 3, 2], [2, 1, 4, 1, 3, 2], [1, 1, 4, 1, 2, 2], [1, 2, 4, 1, 2, 2], [1, 2, 4, 1, 2, 2], [1, 2, 4, 1, 2, 2], [1, 2, 4, 1, 1, 2], [3, 1, 4, 1, 1, 2], [3, 1, 1, 1, 1, 2], [3, 1, 1, 1, 1, 2], [3, 1, 1, 1, 1, 2], [1, 2, 1, 1, 1, 2], [1, 2, 1, 1, 1, 2], [1, 2, 1, 2, 1, 2], [1, 2, 1, 2, 1, 2], [2, 1, 1, 2, 1, 2], [2, 1, 4, 2, 1, 2], [2, 1, 4, 2, 1, 1], [1, 1, 4, 2, 3, 1], [3, 1, 4, 2, 3, 1], [1, 2, 4, 2, 3, 1], [1, 2, 4, 2, 3, 1], [1, 2, 4, 2, 3, 1], [1, 2, 4, 2, 3, 1], [1, 5, 4, 2, 3, 1], [1, 5, 4, 2, 2, 1], [1, 5, 4, 3, 2, 1], [1, 5, 4, 3, 2, 1], [1, 5, 4, 3, 2, 1], [1, 5, 5, 3, 3, 1], [1, 5, 5, 1, 3, 1], [2, 4, 5, 1, 3, 1], [1, 4, 5, 1, 3, 1], [1, 4, 1, 1, 3, 1], [1, 4, 1, 1, 3, 1], [3, 1, 1, 1, 3, 1], [3, 1, 1, 4, 3, 1], [3, 1, 1, 4, 3, 1], [3, 1, 1, 4, 2, 1], [3, 1, 1, 4, 2, 1], [3, 1, 1, 4, 2, 1], [3, 4, 1, 4, 2, 1], [3, 4, 1, 4, 2, 1], [3, 4, 1, 4, 2, 1], [3, 4, 1, 4, 2, 1], [2, 1, 1, 4, 2, 1], [1, 1, 6, 4, 2, 1], [3, 1, 6, 4, 1, 1], [3, 1, 6, 4, 1, 1], [3, 4, 6, 1, 1, 1], [3, 4, 6, 1, 1, 1], [3, 4, 6, 1, 1, 1], [3, 4, 6, 1, 1, 1], [3, 1, 6, 1, 1, 1], [3, 1, 6, 1, 1, 1], [3, 1, 6, 1, 1, 1], [3, 1, 6, 1, 1, 1], [3, 4, 1, 1, 1, 1], [3, 4, 1, 1, 1, 1], [2, 4, 1, 1, 1, 1], [1, 4, 1, 1, 2, 1], [1, 5, 1, 1, 2, 1], [1, 5, 1, 2, 2, 1], [1, 5, 1, 2, 2, 1], [1, 5, 1, 2, 1, 1], [1, 5, 2, 2, 1, 1], [3, 1, 3, 2, 1, 1], [3, 1, 3, 1, 1, 1], [3, 1, 3, 1, 1, 1], [3, 1, 3, 1, 1, 1], [3, 3, 4, 1, 1, 1], [3, 3, 4, 1, 1, 1], [3, 3, 4, 1, 1, 1], [2, 3, 4, 3, 1, 1], [2, 2, 4, 3, 1, 1], [1, 2, 4, 3, 1, 1], [1, 2, 4, 3, 3, 1], [1, 2, 4, 3, 3, 1], [1, 2, 4, 3, 3, 1], [1, 2, 4, 3, 3, 1], [1, 2, 4, 3, 3, 1], [1, 2, 4, 3, 3, 1], [1, 2, 4, 3, 3, 1], [1, 2, 5, 3, 3, 1], [1, 2, 5, 3, 3, 1], [1, 2, 5, 3, 3, 1], [1, 2, 5, 4, 3, 1], [1, 4, 5, 4, 3, 1], [2, 4, 1, 4, 3, 1], [1, 4, 1, 4, 1, 1], [1, 4, 1, 4, 1, 1], [1, 4, 1, 4, 1, 1], [1, 4, 1, 4, 1, 1], [1, 4, 1, 4, 1, 1], [1, 4, 1, 4, 1, 1], [1, 4, 1, 1, 1, 1], [1, 4, 1, 1, 1, 1], [1, 4, 1, 1, 1, 1], [1, 4, 1, 1, 1, 1], [1, 4, 1, 1, 1, 1], [1, 5, 1, 1, 1, 1], [1, 5, 6, 1, 1, 1], [2, 5, 6, 1, 2, 1], [1, 5, 6, 1, 2, 1], [1, 5, 6, 1, 2, 1], [1, 5, 6, 1, 2, 1], [1, 5, 6, 1, 2, 1], [3, 1, 6, 1, 2, 1], [3, 1, 6, 2, 2, 1], [3, 1, 6, 2, 2, 1], [3, 1, 6, 2, 1, 1], [3, 3, 6, 2, 1, 1], [3, 3, 6, 1, 1, 1], [3, 3, 1, 1, 1, 1], [3, 3, 1, 1, 1, 1], [1, 2, 1, 1, 1, 1], [2, 2, 1, 1, 1, 1], [2, 2, 1, 1, 1, 1], [2, 2, 1, 1, 1, 1], [1, 2, 2, 1, 1, 1], [1, 2, 3, 1, 1, 1], [1, 2, 3, 1, 1, 1], [1, 2, 3, 1, 1, 1], [1, 2, 3, 1, 2, 1], [1, 2, 4, 1, 2, 1], [1, 2, 4, 3, 2, 1], [1, 2, 4, 3, 2, 1], [1, 2, 4, 3, 2, 1], [1, 4, 4, 3, 2, 1], [1, 4, 4, 3, 2, 1], [1, 4, 4, 3, 1, 1], [1, 4, 1, 3, 1, 1], [2, 4, 1, 3, 1, 1], [1, 1, 1, 3, 1, 1], [3, 1, 1, 3, 3, 1], [3, 1, 1, 3, 3, 1], [3, 1, 1, 3, 3, 1], [3, 1, 1, 3, 3, 1], [3, 1, 1, 4, 3, 1], [3, 1, 1, 4, 3, 1], [3, 1, 4, 4, 3, 1], [3, 1, 4, 4, 3, 2], [3, 1, 4, 4, 3, 2], [3, 1, 4, 4, 3, 2], [3, 1, 4, 1, 3, 2], [3, 1, 4, 1, 3, 2], [2, 4, 4, 1, 3, 2], [2, 4, 4, 1, 2, 2], [2, 4, 4, 1, 2, 2], [1, 4, 4, 1, 2, 2], [1, 4, 4, 1, 2, 2], [1, 4, 1, 1, 2, 2], [1, 4, 1, 1, 2, 2], [1, 4, 1, 1, 2, 2], [1, 4, 1, 1, 2, 2], [1, 4, 1, 1, 2, 2], [1, 4, 1, 1, 2, 2], [1, 4, 1, 2, 1, 2], [1, 4, 1, 2, 1, 2], [1, 5, 1, 2, 1, 2], [1, 5, 1, 2, 1, 2], [1, 5, 1, 2, 1, 2], [2, 5, 4, 2, 1, 2], [1, 1, 4, 2, 1, 2], [3, 1, 4, 2, 1, 2], [3, 1, 4, 2, 1, 2], [3, 1, 4, 2, 3, 2], [3, 3, 4, 2, 3, 1], [3, 3, 4, 2, 3, 1], [3, 3, 4, 2, 3, 1], [3, 3, 4, 3, 3, 1], [1, 2, 4, 3, 3, 1], [1, 2, 4, 3, 3, 1], [1, 2, 4, 3, 3, 1], [1, 2, 4, 3, 2, 1], [1, 2, 5, 3, 2, 1], [2, 2, 5, 3, 2, 1], [1, 1, 5, 3, 2, 1], [3, 1, 5, 3, 2, 1], [3, 1, 1, 3, 1, 1], [3, 1, 1, 3, 1, 1], [1, 2, 1, 3, 1, 1], [1, 2, 1, 1, 1, 1], [1, 2, 1, 1, 1, 1], [1, 2, 1, 1, 1, 1]]"
   ]
  },
  {
   "cell_type": "code",
   "execution_count": 47,
   "metadata": {},
   "outputs": [
    {
     "data": {
      "text/plain": [
       "960"
      ]
     },
     "execution_count": 47,
     "metadata": {},
     "output_type": "execute_result"
    }
   ],
   "source": [
    "len(action_list)"
   ]
  },
  {
   "cell_type": "code",
   "execution_count": 48,
   "metadata": {},
   "outputs": [],
   "source": [
    "# actact == action_list"
   ]
  },
  {
   "cell_type": "code",
   "execution_count": 49,
   "metadata": {},
   "outputs": [
    {
     "data": {
      "text/plain": [
       "[0.0, 1.0]"
      ]
     },
     "execution_count": 49,
     "metadata": {},
     "output_type": "execute_result"
    }
   ],
   "source": [
    "[int(i)*float(1) for i in range(2)]"
   ]
  },
  {
   "cell_type": "code",
   "execution_count": 50,
   "metadata": {},
   "outputs": [],
   "source": [
    "def count_trigger(current_phase, hot_encoding_current_phase, previous_state):\n",
    "#     current_phase = [KLONGTEI phase, RAMA4 phase,NARANONG phase, SUNLAKAKHON phase, KASEMRAT phase, ATTHAKAWI_RAMA4 phase]\n",
    "    MAP_RAMA4 = {0: [['RAMA4_EB_FPX_TP1',-50] , ['KASEMRAT_EB_FPX_TP2_RAMA4',-20], ['NARANONG_SW_FPX_TP1',-20]],\n",
    "                 1: [['RAMA4_EB_FP1_TP3',10], ['RAMA4_NB_FPX_TP5',-83]],\n",
    "                 2: [['RAMA4_WB_FP2_TP4',10], ['RAMA4_EB_FPX_TP1',-50], ['RAMA4_NB_FPX_TP5',-83]],\n",
    "                3: [['RAMA4_EB_FP3_TP2',40], ['RAMA4_WB_FP3_TP2',-80], ['RAMA4_EB_FPX_TP1',-50], \n",
    "                    ['RAMA4_NB_FPX_TP5',-83]],\n",
    "                4: [['RAMA4_SB_FP4_TP5',10], ['RAMA4_EB_FPX_TP1',-50], ['RAMA4_NB_FPX_TP5',-83 ]],\n",
    "                5: [['RAMA4_NB_FP5_TP1',5], ['RAMA4_EB_FPX_TP1',-50]],\n",
    "                6: [['KASEMRAT_EB_FPX_TP2_RAMA4',-20]],\n",
    "                7: [['KASEMRAT_EB_FPX_TP2_RAMA4',-20]],\n",
    "                8: [['KASEMRAT_EB_FPX_TP2_RAMA4',-20]]}\n",
    "    MAP_KLONGTEI = {0: [['NARANONG_SB_FP5_TP6',-20], ['RAMA4_EB_FP1_TP3',10]],\n",
    "                    1: [['RAMA4_EB_FP3_TP2',40], ['RAMA4_EB_FP1_TP3',10]],\n",
    "                    2: [['KLONGTEI_NB_FP3_TPX',10]],\n",
    "                   3: [['RAMA4_EB_FP3_TP2',40], ['RAMA4_EB_FP1_TP3',10]] }\n",
    "    MAP_NARANONG = {0: [['RAMA4_NB_FPX_TP5',-83]],\n",
    "                1: [['NARANONG_SB_FP1_TP2',30], ['NARANONG_EB_FP1_TP2',-50], ['NARANONG_WB_FPX_TP2',-30]],\n",
    "                2: [['NARANONG_WB_FP2_TP3',5], ['NARANONG_WB_FP2_TP3_FLOW',10], ['NARANONG_SW_FPX_TP1',-30], \n",
    "                   ['NARANONG_WB_FPX_TP2',-30]],\n",
    "                3: [['NARANONG_EB_FP3_TP4',10], ['NARANONG_SW_FPX_TP1',-30], ['NARANONG_WB_FPX_TP2',-30]],\n",
    "                4: [['NARANONG_WB_FP4_TP5',5], ['NARANONG_SW_FPX_TP1',-30], ['NARANONG_WB_FPX_TP2',-30]],\n",
    "                5: [['NARANONG_SB_FP5_TP6',5], ['NARANONG_SW_FPX_TP1',-30],['NARANONG_WB_FPX_TP2',-30]], \n",
    "                6: [['NARANONG_NB_FP6_TP1',5], ['NARANONG_SW_FPX_TP1',-30], ['NARANONG_WB_FPX_TP2',-30]] }\n",
    "    MAP_SUNLAKAKHON = {0: [['NARANONG_WB_FPX_TP2',-30]],\n",
    "                    1: [['SUNLAKAKHON_SB_FP1_TPX',10]],\n",
    "                    2: [['SUNLAKAKHON_NB_FP2_TP3',10], ['SUNLAKAKHON_SB_FPX_TP1',-27.5]],\n",
    "                    3:[['SUNLAKAKHON_EB_FP3_TP4',-45], ['SUNLAKAKHON_WB_FP3_TP4',10], ['SUNLAKAKHON_SB_FPX_TP1',-27.5]],\n",
    "                    4:[['SUNLAKAKHON_SB_FP4_TP1',10], ['SUNLAKAKHON_SB_FPX_TP1',-27.5]] }\n",
    "    MAP_KASEMRAT = {0: [['SUNLAKAKHON_SB_FPX_TP1',-20], ['MASUKGRIDLOCK_ARI_NB_FPX_TP2',20]],\n",
    "                    1:[['KASEMRAT_EB_FPX_TP2',-65], ['KASEMRAT_NB_FPX_TP3',-30], ['MASUKGRIDLOCK_ARI_NB_FPX_TP2',-50],\\\n",
    "                       ['MASUKGRIDLOCK_SUKHUMVUT_FPX_TP2',-50]],\n",
    "                    2:[['KASEMRAT_EB_FP2_TP1',20], ['KASEMRAT_NB_FPX_TP3',-30]],\n",
    "                    3:[['KASEMRAT_EB_FPX_TP2',-65], ['MASUKGRIDLOCK_ARI_NB_FPX_TP2',-50], ['MASUKGRIDLOCK_SUKHUMVUT_FPX_TP2',-50]]}\n",
    "    MAP_ATTHAKAWI_RAMA4 = {0:[['KASEMRAT_EB_FPX_TP2',-50]],\n",
    "                           1: [['MASUKGRIDLOCK_SUKHUMVUT_FPX_TP2',-50], ['MASUKGRIDLOCK_ARI_NB_FPX_TP2', -50], ['KASEMRAT_EB_FPX_TP2_RAMA4',-50]],\n",
    "                          2:[['KASEMRAT_EB_FPX_TP2_RAMA4',-50]]}\n",
    "    MAP = [MAP_KLONGTEI, MAP_RAMA4, MAP_NARANONG, MAP_SUNLAKAKHON,  MAP_KASEMRAT, MAP_ATTHAKAWI_RAMA4]\n",
    "    state_attention = np.zeros(31)\n",
    "    for i in range(len(current_phase)):\n",
    "        for e in MAP[i][current_phase[i]]:\n",
    "            occupancy = get_occupancy_average_percent(detector[e[0]]) \n",
    "            if e[1] <= 0:\n",
    "                if occupancy >= (-1)*e[1]:\n",
    "                    Index_detector = list_detector.index(e[0]) \n",
    "                    state_attention[Index_detector] = 1\n",
    "            elif occupancy <= e[1]:\n",
    "                Index_detector = list_detector.index(e[0]) \n",
    "                state_attention[Index_detector] = 1\n",
    "    current_state = state_attention\n",
    "    for i in range(31):\n",
    "        if current_state[i] == 1 and previous_state[i] == 0:\n",
    "            count_0to1[i] += 1\n",
    "        elif current_state[i] == 0 and previous_state[i] == 1:\n",
    "            count_1to0[i] += 1\n",
    "        if current_state[i] == 0:\n",
    "            count_0[i] += 1\n",
    "        if current_state[i] == 1:\n",
    "            count_1[i] += 1\n",
    "            \n",
    "        \n",
    "    return current_state\n"
   ]
  },
  {
   "cell_type": "code",
   "execution_count": 51,
   "metadata": {},
   "outputs": [],
   "source": [
    "global count_0to1, count_1to0, count_0, count_1\n",
    "count_0to1 = [0]*31\n",
    "count_1to0 = [0]*31\n",
    "count_0 = [0]*31\n",
    "count_1 = [0]*31"
   ]
  },
  {
   "cell_type": "code",
   "execution_count": 52,
   "metadata": {},
   "outputs": [],
   "source": [
    "# action = pd.read_csv('action.csv')\n",
    "# action_df = pd.DataFrame(namelane_csv, columns = ['action'])\n",
    "current_phase = [1,1,1,1,1,1]\n",
    "rewardss = 0\n",
    "throughputs = 0\n",
    "backlogs = 0\n",
    "previous_state = [0]*31\n",
    "start()\n",
    "traci.simulationStep()\n",
    "for i in range (len(action_list)): \n",
    "    action = [int(a) for a in action_list[i]]\n",
    "    set_current_phase(action, current_phase)\n",
    "    current_phase, hot_encoding_current_phase = get_hot_encoding_current_phase()\n",
    "    rewards, throughput, backlog, reward = get_reward(OPTION['alpha'],OPTION[\"beta\"])\n",
    "    rewardss += rewards\n",
    "    throughputs += throughput\n",
    "    backlogs += backlog\n",
    "#     state = get_state_attention(current_phase, hot_encoding_current_phase)\n",
    "#     current_state = count_trigger(current_phase, hot_encoding_current_phase, previous_state)\n",
    "#     previous_state = current_state\n",
    "traci.close()\n",
    "    "
   ]
  },
  {
   "cell_type": "code",
   "execution_count": 53,
   "metadata": {},
   "outputs": [],
   "source": [
    "# traci.close()"
   ]
  },
  {
   "cell_type": "code",
   "execution_count": 54,
   "metadata": {},
   "outputs": [
    {
     "data": {
      "text/plain": [
       "8387"
      ]
     },
     "execution_count": 54,
     "metadata": {},
     "output_type": "execute_result"
    }
   ],
   "source": [
    "throughputs"
   ]
  },
  {
   "cell_type": "code",
   "execution_count": 55,
   "metadata": {},
   "outputs": [
    {
     "data": {
      "text/plain": [
       "1154.401388888889"
      ]
     },
     "execution_count": 55,
     "metadata": {},
     "output_type": "execute_result"
    }
   ],
   "source": [
    "backlogs/2880\n"
   ]
  },
  {
   "cell_type": "code",
   "execution_count": 56,
   "metadata": {},
   "outputs": [
    {
     "data": {
      "text/plain": [
       "-4911.704"
      ]
     },
     "execution_count": 56,
     "metadata": {},
     "output_type": "execute_result"
    }
   ],
   "source": [
    "throughputs-0.004*backlogs"
   ]
  },
  {
   "cell_type": "code",
   "execution_count": 57,
   "metadata": {},
   "outputs": [
    {
     "data": {
      "text/plain": [
       "{'RAMA4_EB_FP1_TP3': 0,\n",
       " 'RAMA4_EB_FP3_TP2': 0,\n",
       " 'RAMA4_WB_FP3_TP2': 0,\n",
       " 'RAMA4_WB_FP2_TP4': 0,\n",
       " 'RAMA4_SB_FP4_TP5': 0,\n",
       " 'RAMA4_NB_FP5_TP1': 0,\n",
       " 'RAMA4_EB_FPX_TP1': 0,\n",
       " 'RAMA4_NB_FPX_TP5': 0,\n",
       " 'KLONGTEI_NB_FP3_TPX': 0,\n",
       " 'NARANONG_SB_FP1_TP2': 0,\n",
       " 'NARANONG_EB_FP1_TP2': 0,\n",
       " 'NARANONG_WB_FP2_TP3_FLOW': 0,\n",
       " 'NARANONG_EB_FP3_TP4': 0,\n",
       " 'NARANONG_WB_FP4_TP5': 0,\n",
       " 'NARANONG_SB_FP5_TP6': 0,\n",
       " 'NARANONG_NB_FP6_TP1': 0,\n",
       " 'NARANONG_SW_FPX_TP1': 0,\n",
       " 'NARANONG_WB_FPX_TP2': 0,\n",
       " 'SUNLAKAKHON_NB_FP2_TP3': 0,\n",
       " 'SUNLAKAKHON_EB_FP3_TP4': 0,\n",
       " 'SUNLAKAKHON_WB_FP3_TP4': 0,\n",
       " 'SUNLAKAKHON_EB_FP4_TP1': 0,\n",
       " 'SUNLAKAKHON_SB_FPX_TP1': 0,\n",
       " 'SUNLAKAKHON_SB_FP1_TPX': 0,\n",
       " 'MASUKGRIDLOCK_SUKHUMVUT_FPX_TP2': 0,\n",
       " 'MASUKGRIDLOCK_ARI_NB_FPX_TP2': 0,\n",
       " 'KASEMRAT_EB_FPX_TP2': 0,\n",
       " 'KASEMRAT_EB_FP2_TP1': 0,\n",
       " 'KASEMRAT_NB_FPX_TP3': 0,\n",
       " 'KASEMRAT_EB_FPX_TP2_RAMA4': 0,\n",
       " 'DETECTOR_FLOW_ALL': 0}"
      ]
     },
     "execution_count": 57,
     "metadata": {},
     "output_type": "execute_result"
    }
   ],
   "source": [
    "count0to1_dict = {}\n",
    "for c in range(len(count_0to1)):\n",
    "    count0to1_dict[list_detector[c]]=count_0to1[c]\n",
    "count0to1_dict"
   ]
  },
  {
   "cell_type": "code",
   "execution_count": 58,
   "metadata": {},
   "outputs": [
    {
     "data": {
      "text/plain": [
       "{'RAMA4_EB_FP1_TP3': 0,\n",
       " 'RAMA4_EB_FP3_TP2': 0,\n",
       " 'RAMA4_WB_FP3_TP2': 0,\n",
       " 'RAMA4_WB_FP2_TP4': 0,\n",
       " 'RAMA4_SB_FP4_TP5': 0,\n",
       " 'RAMA4_NB_FP5_TP1': 0,\n",
       " 'RAMA4_EB_FPX_TP1': 0,\n",
       " 'RAMA4_NB_FPX_TP5': 0,\n",
       " 'KLONGTEI_NB_FP3_TPX': 0,\n",
       " 'NARANONG_SB_FP1_TP2': 0,\n",
       " 'NARANONG_EB_FP1_TP2': 0,\n",
       " 'NARANONG_WB_FP2_TP3_FLOW': 0,\n",
       " 'NARANONG_EB_FP3_TP4': 0,\n",
       " 'NARANONG_WB_FP4_TP5': 0,\n",
       " 'NARANONG_SB_FP5_TP6': 0,\n",
       " 'NARANONG_NB_FP6_TP1': 0,\n",
       " 'NARANONG_SW_FPX_TP1': 0,\n",
       " 'NARANONG_WB_FPX_TP2': 0,\n",
       " 'SUNLAKAKHON_NB_FP2_TP3': 0,\n",
       " 'SUNLAKAKHON_EB_FP3_TP4': 0,\n",
       " 'SUNLAKAKHON_WB_FP3_TP4': 0,\n",
       " 'SUNLAKAKHON_EB_FP4_TP1': 0,\n",
       " 'SUNLAKAKHON_SB_FPX_TP1': 0,\n",
       " 'SUNLAKAKHON_SB_FP1_TPX': 0,\n",
       " 'MASUKGRIDLOCK_SUKHUMVUT_FPX_TP2': 0,\n",
       " 'MASUKGRIDLOCK_ARI_NB_FPX_TP2': 0,\n",
       " 'KASEMRAT_EB_FPX_TP2': 0,\n",
       " 'KASEMRAT_EB_FP2_TP1': 0,\n",
       " 'KASEMRAT_NB_FPX_TP3': 0,\n",
       " 'KASEMRAT_EB_FPX_TP2_RAMA4': 0,\n",
       " 'DETECTOR_FLOW_ALL': 0}"
      ]
     },
     "execution_count": 58,
     "metadata": {},
     "output_type": "execute_result"
    }
   ],
   "source": [
    "count1to0_dict = {}\n",
    "for c in range(len(count_1to0)):\n",
    "    count1to0_dict[list_detector[c]]=count_1to0[c]\n",
    "count1to0_dict"
   ]
  },
  {
   "cell_type": "code",
   "execution_count": 59,
   "metadata": {
    "scrolled": true
   },
   "outputs": [
    {
     "data": {
      "text/plain": [
       "{'RAMA4_EB_FP1_TP3': 0,\n",
       " 'RAMA4_EB_FP3_TP2': 0,\n",
       " 'RAMA4_WB_FP3_TP2': 0,\n",
       " 'RAMA4_WB_FP2_TP4': 0,\n",
       " 'RAMA4_SB_FP4_TP5': 0,\n",
       " 'RAMA4_NB_FP5_TP1': 0,\n",
       " 'RAMA4_EB_FPX_TP1': 0,\n",
       " 'RAMA4_NB_FPX_TP5': 0,\n",
       " 'KLONGTEI_NB_FP3_TPX': 0,\n",
       " 'NARANONG_SB_FP1_TP2': 0,\n",
       " 'NARANONG_EB_FP1_TP2': 0,\n",
       " 'NARANONG_WB_FP2_TP3_FLOW': 0,\n",
       " 'NARANONG_EB_FP3_TP4': 0,\n",
       " 'NARANONG_WB_FP4_TP5': 0,\n",
       " 'NARANONG_SB_FP5_TP6': 0,\n",
       " 'NARANONG_NB_FP6_TP1': 0,\n",
       " 'NARANONG_SW_FPX_TP1': 0,\n",
       " 'NARANONG_WB_FPX_TP2': 0,\n",
       " 'SUNLAKAKHON_NB_FP2_TP3': 0,\n",
       " 'SUNLAKAKHON_EB_FP3_TP4': 0,\n",
       " 'SUNLAKAKHON_WB_FP3_TP4': 0,\n",
       " 'SUNLAKAKHON_EB_FP4_TP1': 0,\n",
       " 'SUNLAKAKHON_SB_FPX_TP1': 0,\n",
       " 'SUNLAKAKHON_SB_FP1_TPX': 0,\n",
       " 'MASUKGRIDLOCK_SUKHUMVUT_FPX_TP2': 0,\n",
       " 'MASUKGRIDLOCK_ARI_NB_FPX_TP2': 0,\n",
       " 'KASEMRAT_EB_FPX_TP2': 0,\n",
       " 'KASEMRAT_EB_FP2_TP1': 0,\n",
       " 'KASEMRAT_NB_FPX_TP3': 0,\n",
       " 'KASEMRAT_EB_FPX_TP2_RAMA4': 0,\n",
       " 'DETECTOR_FLOW_ALL': 0}"
      ]
     },
     "execution_count": 59,
     "metadata": {},
     "output_type": "execute_result"
    }
   ],
   "source": [
    "count0_dict = {}\n",
    "for c in range(len(count_0)):\n",
    "    count0_dict[list_detector[c]]=count_0[c]\n",
    "count0_dict"
   ]
  },
  {
   "cell_type": "code",
   "execution_count": 60,
   "metadata": {
    "scrolled": false
   },
   "outputs": [
    {
     "data": {
      "text/plain": [
       "{'RAMA4_EB_FP1_TP3': 0,\n",
       " 'RAMA4_EB_FP3_TP2': 0,\n",
       " 'RAMA4_WB_FP3_TP2': 0,\n",
       " 'RAMA4_WB_FP2_TP4': 0,\n",
       " 'RAMA4_SB_FP4_TP5': 0,\n",
       " 'RAMA4_NB_FP5_TP1': 0,\n",
       " 'RAMA4_EB_FPX_TP1': 0,\n",
       " 'RAMA4_NB_FPX_TP5': 0,\n",
       " 'KLONGTEI_NB_FP3_TPX': 0,\n",
       " 'NARANONG_SB_FP1_TP2': 0,\n",
       " 'NARANONG_EB_FP1_TP2': 0,\n",
       " 'NARANONG_WB_FP2_TP3_FLOW': 0,\n",
       " 'NARANONG_EB_FP3_TP4': 0,\n",
       " 'NARANONG_WB_FP4_TP5': 0,\n",
       " 'NARANONG_SB_FP5_TP6': 0,\n",
       " 'NARANONG_NB_FP6_TP1': 0,\n",
       " 'NARANONG_SW_FPX_TP1': 0,\n",
       " 'NARANONG_WB_FPX_TP2': 0,\n",
       " 'SUNLAKAKHON_NB_FP2_TP3': 0,\n",
       " 'SUNLAKAKHON_EB_FP3_TP4': 0,\n",
       " 'SUNLAKAKHON_WB_FP3_TP4': 0,\n",
       " 'SUNLAKAKHON_EB_FP4_TP1': 0,\n",
       " 'SUNLAKAKHON_SB_FPX_TP1': 0,\n",
       " 'SUNLAKAKHON_SB_FP1_TPX': 0,\n",
       " 'MASUKGRIDLOCK_SUKHUMVUT_FPX_TP2': 0,\n",
       " 'MASUKGRIDLOCK_ARI_NB_FPX_TP2': 0,\n",
       " 'KASEMRAT_EB_FPX_TP2': 0,\n",
       " 'KASEMRAT_EB_FP2_TP1': 0,\n",
       " 'KASEMRAT_NB_FPX_TP3': 0,\n",
       " 'KASEMRAT_EB_FPX_TP2_RAMA4': 0,\n",
       " 'DETECTOR_FLOW_ALL': 0}"
      ]
     },
     "execution_count": 60,
     "metadata": {},
     "output_type": "execute_result"
    }
   ],
   "source": [
    "count1_dict = {}\n",
    "for c in range(len(count_1)):\n",
    "    count1_dict[list_detector[c]]=count_1[c]\n",
    "count1_dict"
   ]
  },
  {
   "cell_type": "code",
   "execution_count": 61,
   "metadata": {},
   "outputs": [
    {
     "data": {
      "text/plain": [
       "{'RAMA4_EB_FP1_TP3': ['D459492917#0_4', 'D825786400_4'],\n",
       " 'RAMA4_EB_FP3_TP2': ['D825786400_0',\n",
       "  'D825786400_1',\n",
       "  'D825786400_2',\n",
       "  'D825786400_3',\n",
       "  'D825786400_4',\n",
       "  'D459492912#1_0',\n",
       "  'D459492912#1_1',\n",
       "  'D459492912#1_2',\n",
       "  'D459492912#1_3',\n",
       "  'D459492912#0_0',\n",
       "  'D459492912#0_1',\n",
       "  'D459492912#0_2',\n",
       "  'D459492912#0_3',\n",
       "  'D752225467_0',\n",
       "  'D752225467_1',\n",
       "  'D825786397_0',\n",
       "  'D825786397_1',\n",
       "  'D825786397_2',\n",
       "  'D825786397_3',\n",
       "  'D825786397_4',\n",
       "  'D825786383#0_0',\n",
       "  'D825786383#0_1',\n",
       "  'D825786383#0_2',\n",
       "  'D825786383#0_3',\n",
       "  'D825786410_0',\n",
       "  'D825786410_1',\n",
       "  'D825786410_2',\n",
       "  'D825786410_3',\n",
       "  'D459492917#0_0',\n",
       "  'D459492917#0_1',\n",
       "  'D459492917#0_2',\n",
       "  'D459492917#0_3',\n",
       "  'D459492917#0_4'],\n",
       " 'RAMA4_WB_FP3_TP2': ['D825786415_5'],\n",
       " 'RAMA4_WB_FP2_TP4': ['D825786415_5'],\n",
       " 'RAMA4_SB_FP4_TP5': ['D25053655#0_0', 'D25053655#0_1', 'D25053655#0_2'],\n",
       " 'RAMA4_NB_FP5_TP1': ['D824116545_0',\n",
       "  'D824116545_1',\n",
       "  'D824116545_2',\n",
       "  'D824116548_1',\n",
       "  'D824116548_2',\n",
       "  'D824116548_3',\n",
       "  'D824116547_2',\n",
       "  'D338595771#1_1'],\n",
       " 'RAMA4_EB_FPX_TP1': ['D825786383#0_1', 'D825786383#0_2', 'D825786383#0_3'],\n",
       " 'RAMA4_NB_FPX_TP5': ['D338595771#1_1'],\n",
       " 'KLONGTEI_NB_FP3_TPX': ['D25047974#2_0',\n",
       "  'D25047974#2_1',\n",
       "  'D25047974#2_2',\n",
       "  'D25047974#2_3'],\n",
       " 'NARANONG_SB_FP1_TP2': ['D824116550#0_1'],\n",
       " 'NARANONG_EB_FP1_TP2': ['D756119203_0'],\n",
       " 'NARANONG_WB_FP2_TP3_FLOW': ['D338595767_0', 'D338595767_1'],\n",
       " 'NARANONG_EB_FP3_TP4': ['D25053626_1'],\n",
       " 'NARANONG_WB_FP4_TP5': ['D482384850#2_2.0',\n",
       "  'D482384850#2_2.1',\n",
       "  'D482384850#2_2.2',\n",
       "  'D482384850#2_1.0',\n",
       "  'D482384850#2_1.1',\n",
       "  'D482384850#2_1.2',\n",
       "  'D482384850#1_2',\n",
       "  'D482384850#1_1',\n",
       "  'D482384850#1_0',\n",
       "  'D482384850#1-AddedOnRampEdge_3',\n",
       "  'D482384850#1-AddedOnRampEdge_2',\n",
       "  'D482384850#1-AddedOnRampEdge_1',\n",
       "  'D482384850#1-AddedOnRampEdge_0'],\n",
       " 'NARANONG_SB_FP5_TP6': ['D824116544_0',\n",
       "  'D824116544_1',\n",
       "  'D459492916#0-AddedOffRampEdge_1',\n",
       "  'D459492916#0_1'],\n",
       " 'NARANONG_NB_FP6_TP1': ['D824116551#0_0',\n",
       "  'D824116551#0_1',\n",
       "  'D157063979_1',\n",
       "  'D157063979_2'],\n",
       " 'NARANONG_SW_FPX_TP1': ['D824116549#0_3.0',\n",
       "  'D824116549#0_2.0',\n",
       "  'D824116549#0_1.0'],\n",
       " 'NARANONG_WB_FPX_TP2': ['D482384850#2_2.0',\n",
       "  'D482384850#2_1.0',\n",
       "  'D482384850#1_2',\n",
       "  'D482384850#1_1',\n",
       "  'D482384850#1_0',\n",
       "  'D482384850#1-AddedOnRampEdge_3',\n",
       "  'D482384850#1-AddedOnRampEdge_2',\n",
       "  'D482384850#1-AddedOnRampEdge_1',\n",
       "  'D482384850#1-AddedOnRampEdge_0'],\n",
       " 'SUNLAKAKHON_NB_FP2_TP3': ['D153225687#10-AddedOffRampEdge_1',\n",
       "  'D153225687#10-AddedOffRampEdge_2'],\n",
       " 'SUNLAKAKHON_EB_FP3_TP4': ['D824116555#0_2.0',\n",
       "  'D824116555#0_1.0',\n",
       "  'D824116555#0_0.0',\n",
       "  'D824116554_1',\n",
       "  'D824116554_0',\n",
       "  'D185563494_0'],\n",
       " 'SUNLAKAKHON_WB_FP3_TP4': ['D45033613#0_2', 'D45033613#0_1', 'D45033613#0_0'],\n",
       " 'SUNLAKAKHON_EB_FP4_TP1': ['D824116555#0-AddedOffRampEdge_0',\n",
       "  'D824116555#0-AddedOffRampEdge_1',\n",
       "  'D824116555#0-AddedOffRampEdge_2',\n",
       "  'D824116555#0-AddedOffRampEdge_3'],\n",
       " 'SUNLAKAKHON_SB_FPX_TP1': ['D482209833#1_0',\n",
       "  'D482209833#1_1',\n",
       "  'D482209833#1_2',\n",
       "  'D482209833#0_0',\n",
       "  'D482209833#0_1',\n",
       "  'D482209833#0_2'],\n",
       " 'SUNLAKAKHON_SB_FP1_TPX': ['D292571830-AddedOffRampEdge_1',\n",
       "  'D292571830-AddedOffRampEdge_2',\n",
       "  'D292571830-AddedOffRampEdge_3'],\n",
       " 'MASUKGRIDLOCK_SUKHUMVUT_FPX_TP2': ['D328942767#2_0', 'D-453669106#1_0'],\n",
       " 'MASUKGRIDLOCK_ARI_NB_FPX_TP2': ['D-453962283#3_0'],\n",
       " 'KASEMRAT_EB_FPX_TP2': ['D459551209#0_0',\n",
       "  'D459551209#0_1',\n",
       "  'D459551209#0_2',\n",
       "  'D459551209#0_3'],\n",
       " 'KASEMRAT_EB_FP2_TP1': ['D459551209#3_3', 'D459551209#3_2'],\n",
       " 'KASEMRAT_NB_FPX_TP3': ['D482384842#2-AddedOnRampNode_0',\n",
       "  'D482384842#2-AddedOnRampNode_1',\n",
       "  'D482384842#2-AddedOnRampNode_2',\n",
       "  'D482384842#1-AddedOnRampEdge_0',\n",
       "  'D482384842#1-AddedOnRampEdge_1',\n",
       "  'D482384842#1-AddedOnRampEdge_2',\n",
       "  'D482384842#1-AddedOnRampEdge_3'],\n",
       " 'KASEMRAT_EB_FPX_TP2_RAMA4': ['D153225678#1-AddedOnRampEdge_0',\n",
       "  'D153225678#1-AddedOnRampEdge_1',\n",
       "  'D153225678#1-AddedOnRampEdge_2',\n",
       "  'D153225678#1-AddedOnRampEdge_3',\n",
       "  'D153225678#1-AddedOnRampEdge_4'],\n",
       " 'DETECTOR_FLOW_ALL': ['D459551209#3_0',\n",
       "  'D459551209#3_1',\n",
       "  'D459551209#3_2',\n",
       "  'D459551209#3_3',\n",
       "  'D321845933#3_0',\n",
       "  'D321845933#3_1',\n",
       "  'D321845933#3_2',\n",
       "  'D820373194#0_0',\n",
       "  'D820373194#0_1',\n",
       "  'D820373194#0_2',\n",
       "  'D825786400_0',\n",
       "  'D825786400_1',\n",
       "  'D825786400_2',\n",
       "  'D825786400_3',\n",
       "  'D825786400_4',\n",
       "  'D25047974#2_0',\n",
       "  'D25047974#2_1',\n",
       "  'D25047974#2_2',\n",
       "  'D25047974#2_3',\n",
       "  'D481971011#1-AddedOnRampEdge_0',\n",
       "  'D481971011#1-AddedOnRampEdge_1',\n",
       "  'D481971011#1-AddedOnRampEdge_2',\n",
       "  'D481971011#1-AddedOnRampEdge_3',\n",
       "  'D481971011#1-AddedOnRampEdge_4',\n",
       "  'D481971011#1-AddedOnRampEdge_5',\n",
       "  'D824116551#0_0',\n",
       "  'D824116551#0_1',\n",
       "  'D824116544_0',\n",
       "  'D824116544_1',\n",
       "  'D824116544_2',\n",
       "  'D338595767_0',\n",
       "  'D338595767_1',\n",
       "  'D338595767_2',\n",
       "  'D338595767_3',\n",
       "  'D824116550#0_0',\n",
       "  'D824116550#0_1',\n",
       "  'D25053626_0',\n",
       "  'D25053626_1',\n",
       "  'D824116555#0-AddedOffRampEdge_0',\n",
       "  'D824116555#0-AddedOffRampEdge_1',\n",
       "  'D824116555#0-AddedOffRampEdge_2',\n",
       "  'D824116555#0-AddedOffRampEdge_3',\n",
       "  'D45033613#0_0',\n",
       "  'D45033613#0_1',\n",
       "  'D45033613#0_2',\n",
       "  'D153225687#10-AddedOffRampEdge_0',\n",
       "  'D153225687#10-AddedOffRampEdge_1',\n",
       "  'D153225687#10-AddedOffRampEdge_2',\n",
       "  'D292571830-AddedOffRampEdge_0',\n",
       "  'D292571830-AddedOffRampEdge_1',\n",
       "  'D292571830-AddedOffRampEdge_2',\n",
       "  'D292571830-AddedOffRampEdge_3',\n",
       "  'D459492917#0_0',\n",
       "  'D459492917#0_1',\n",
       "  'D459492917#0_2',\n",
       "  'D459492917#0_3',\n",
       "  'D459492917#0_4',\n",
       "  'D824116548_0',\n",
       "  'D824116548_1',\n",
       "  'D824116548_2',\n",
       "  'D824116548_3',\n",
       "  'D821785869#0_0',\n",
       "  'D821785869#0_1',\n",
       "  'D821785869#0_2',\n",
       "  'D821785869#0_3',\n",
       "  'D825786415_0',\n",
       "  'D825786415_1',\n",
       "  'D825786415_2',\n",
       "  'D825786415_3',\n",
       "  'D825786415_4',\n",
       "  'D825786415_5']}"
      ]
     },
     "execution_count": 61,
     "metadata": {},
     "output_type": "execute_result"
    }
   ],
   "source": [
    "detector"
   ]
  },
  {
   "cell_type": "code",
   "execution_count": 62,
   "metadata": {},
   "outputs": [],
   "source": [
    "import pandas as pd\n",
    "df = pd.DataFrame({'count1':pd.Series(count1_dict),'count0to1':pd.Series(count0to1_dict),'count1to0':pd.Series(count1to0_dict)})\n",
    "# df=pd.DataFrame.from_dict(count1_dict, orient='index', columns=['count1'])\n",
    "df.to_csv(\"countthreshold.csv\")"
   ]
  },
  {
   "cell_type": "code",
   "execution_count": null,
   "metadata": {},
   "outputs": [],
   "source": []
  }
 ],
 "metadata": {
  "kernelspec": {
   "display_name": "Python 3",
   "language": "python",
   "name": "python3"
  },
  "language_info": {
   "codemirror_mode": {
    "name": "ipython",
    "version": 3
   },
   "file_extension": ".py",
   "mimetype": "text/x-python",
   "name": "python",
   "nbconvert_exporter": "python",
   "pygments_lexer": "ipython3",
   "version": "3.8.10"
  }
 },
 "nbformat": 4,
 "nbformat_minor": 4
}
