{
 "cells": [
  {
   "cell_type": "code",
   "execution_count": 1,
   "metadata": {},
   "outputs": [],
   "source": [
    "import os, sys\n",
    "sys.path.append(os.path.join('/home/ring/sumo-svn/', 'tools'))\n",
    "import traci\n",
    "import traci.constants as tc\n",
    "import numpy as np\n",
    "from sumolib import checkBinary\n",
    "import datetime\n",
    "import matplotlib\n",
    "import matplotlib.pyplot as plt\n",
    "import torch\n",
    "import copy\n",
    "import csv\n",
    "import pandas as pd"
   ]
  },
  {
   "cell_type": "code",
   "execution_count": 2,
   "metadata": {},
   "outputs": [],
   "source": [
    "# decision_threshold\n",
    "threshold = {'ONNUT_FP1_END_FLOW' : 10,\n",
    "'ONNUT_FP2_END_FLOW' :  0.25,\n",
    "'ONNUT_FP1_TP2_UNJAM' : 250,\n",
    "# 'PHRAKHANONG_EB_FP1_END_FLOW': 0,\n",
    "'SUKHUMVIT71_SB_FP2_TP3': 0,\n",
    "# 'PHRAKHANONG_SUKHUMVIT71_FP2_TP3_UNJAM': 0,\n",
    "# 'PHRAKHANONG_SUKHUMVIT71_FP2_TP3_UNJAM_ONNUT': 0,\n",
    "# 'PHRAKHANONG_SUKHUMVIT71_FP3_TP1_UNJAM': 0,\n",
    "            }\n",
    "duration={ \n",
    "'ONNUT_FP1_END_MAXGREEN' : 180,\n",
    "'ONNUT_FP2_END_MAXGREEN' : 60,\n",
    "'ONNUT_FP1_END_MINGREEN': 30,\n",
    "'ONNUT_FP2_END_MINGREEN':30 ,\n",
    "# 'PHRAKHANONG_SUKHUMVIT71_FP1_END_MINGREEN': 30,\n",
    "# 'PHRAKHANONG_SUKHUMVIT71_FP1_END_MAXGREEN': 60,\n",
    "# 'PHRAKHANONG_SUKHUMVIT71_FP2_END_MINGREEN': 30,\n",
    "# 'PHRAKHANONG_SUKHUMVIT71_FP2_END_MAXGREEN': 60,\n",
    "# 'PHRAKHANONG_SUKHUMVIT71_FP3_END_MINGREEN': 30,\n",
    "# 'PHRAKHANONG_SUKHUMVIT71_FP3_END_MAXGREEN': 60\n",
    "}\n",
    "\n",
    "count = {'ONNUT_FP1_END_FLOW' : 0,\n",
    "'ONNUT_FP2_END_FLOW' :  0,\n",
    "'ONNUT_FP1_TP2_UNJAM' : 0,\n",
    "'ONNUT_FP1_END_MAXGREEN' : 0,\n",
    "'ONNUT_FP2_END_MAXGREEN' : 0,\n",
    "'ONNUT_FP1_END_MINGREEN': 0,\n",
    "'ONNUT_FP2_END_MINGREEN':0,\n",
    "# 'PHRAKHANONG_SUKHUMVIT71_FP1_END_MINGREEN': 0,\n",
    "# 'PHRAKHANONG_EB_FP1_END_FLOW': 0,\n",
    "# 'PHRAKHANONG_SUKHUMVIT71_FP1_END_MAXGREEN': 0,\n",
    "# 'PHRAKHANONG_SUKHUMVIT71_FP2_END_MINGREEN': 0,\n",
    "# 'SUKHUMVIT71_SB_FP2_TP3': 0,\n",
    "# 'PHRAKHANONG_SUKHUMVIT71_FP2_END_MAXGREEN': 0,\n",
    "# 'PHRAKHANONG_SUKHUMVIT71_FP2_TP3_UNJAM' :0,\n",
    "# 'PHRAKHANONG_SUKHUMVIT71_FP2_TP3_UNJAM_ONNUT': 0,\n",
    "# 'PHRAKHANONG_SUKHUMVIT71_FP3_END_MINGREEN': 0,\n",
    "# 'PHRAKHANONG_SUKHUMVIT71_FP3_TP1_UNJAM': 0,\n",
    "# 'PHRAKHANONG_SUKHUMVIT71_FP3_END_MAXGREEN': 0\n",
    "        }"
   ]
  },
  {
   "cell_type": "code",
   "execution_count": 3,
   "metadata": {},
   "outputs": [],
   "source": [
    "namelane_csv = pd.read_csv('namelane_ONNUT.csv')\n",
    "namelane_df = pd.DataFrame(namelane_csv, columns = ['name' , 'id'])\n",
    "NAME = namelane_df.set_index('name')\n",
    "ID = namelane_df.set_index('id')"
   ]
  },
  {
   "cell_type": "code",
   "execution_count": 4,
   "metadata": {},
   "outputs": [
    {
     "data": {
      "text/plain": [
       "name    SUKHUMVIT71_WB_0_2_XSXX\n",
       "Name: 824816458#0_2, dtype: object"
      ]
     },
     "execution_count": 4,
     "metadata": {},
     "output_type": "execute_result"
    }
   ],
   "source": [
    "ID.loc['824816458#0_2']"
   ]
  },
  {
   "cell_type": "code",
   "execution_count": 5,
   "metadata": {},
   "outputs": [],
   "source": [
    "namedetector_csv = pd.read_csv('namedetector_ONNUT_extend.csv')\n",
    "namedetector_df = pd.DataFrame(namedetector_csv, columns = ['name' , 'id'])\n",
    "NAME_D = namedetector_df.set_index('name')\n",
    "ID_D = namedetector_df.set_index('id')\n",
    "listdetector = open(\"namedetector_ONNUT_extend.txt\", \"r\")\n",
    "detector = {}\n",
    "for l in listdetector:\n",
    "    l = l.strip().split(' ')\n",
    "    if len(l)> 1:\n",
    "        d = []\n",
    "        for detec in l[2:]:\n",
    "            if type(NAME_D.loc[detec,'id']) == str:\n",
    "                d.append(NAME_D.loc[detec,'id'])\n",
    "            else : d.append(NAME_D.loc[detec,'id'][0])\n",
    "    detector[str(l[0])] = d"
   ]
  },
  {
   "cell_type": "code",
   "execution_count": 6,
   "metadata": {},
   "outputs": [
    {
     "data": {
      "text/plain": [
       "{'ONNUT_SB_FP1_END': ['D824116560#3_0',\n",
       "  'D824116560#3_1',\n",
       "  'D824116560#3_2',\n",
       "  'D824116560#3_3',\n",
       "  'D824116560#2_0',\n",
       "  'D824116560#2_1',\n",
       "  'D824116560#2_2',\n",
       "  'D824116560#2_3',\n",
       "  'D824116560#1_0',\n",
       "  'D824116560#1_1',\n",
       "  'D824116560#1_2',\n",
       "  'D824116560#1_3',\n",
       "  'D824116560#0_0',\n",
       "  'D824116560#0_1',\n",
       "  'D824116560#0_2',\n",
       "  'D824116560#0_3',\n",
       "  'D824816455_0',\n",
       "  'D824816455_1',\n",
       "  'D824816455_2'],\n",
       " 'ONNUT_WB_FP2_END': ['D156591171#2_0',\n",
       "  'D156591171#2_1',\n",
       "  'D156591171#2_2',\n",
       "  'D156591171#0_0',\n",
       "  'D156591171#0_1',\n",
       "  'D156591171#0_2'],\n",
       " 'ONNUT_WB_FP1_TP2': ['D-824456409#0_0',\n",
       "  'D-824456409#0_1',\n",
       "  'D-824456409#4_0',\n",
       "  'D-824456409#4_1',\n",
       "  'D-824456409#5_0',\n",
       "  'D-824456409#5_1',\n",
       "  'D-113135397#0_0',\n",
       "  'D-113135397#0_1'],\n",
       " 'PHRAKHANONG_EB_FP1_TP2': ['D336620983#5_0',\n",
       "  'D336620983#5_1',\n",
       "  'D336620983#5_2'],\n",
       " 'SUKHUMVIT71_SB_FP2_TP3': ['D156591249#1_0',\n",
       "  'D156591249#1_1',\n",
       "  'D156591249#0.2206_0',\n",
       "  'D156591249#0.2206_1'],\n",
       " 'ONNUT_SB_FP2_TP3': ['D300825126#0_0',\n",
       "  'D300825126#0_1',\n",
       "  'D300825126#0_2',\n",
       "  'D300825126#0-AddedOffRampEdge_0',\n",
       "  'D300825126#0-AddedOffRampEdge_1',\n",
       "  'D300825126#0-AddedOffRampEdge_2',\n",
       "  'D824116561_0',\n",
       "  'D824116561_1',\n",
       "  'D824116561_2',\n",
       "  'D824116561-AddedOffRampEdge_0',\n",
       "  'D824116561-AddedOffRampEdge_1',\n",
       "  'D824116561-AddedOffRampEdge_2'],\n",
       " 'PHRAKHANONG_EB_FP3_TP1': ['D336620983#0_0',\n",
       "  'D336620983#0_1',\n",
       "  'D336620983#0_2'],\n",
       " 'PHRAKHANONG_EB_SUKHUMVIT71_WB_TP2_VP5_TP3': ['D336620983#5_0',\n",
       "  'D336620983#5_1',\n",
       "  'D336620983#5_2',\n",
       "  'D336620983#7_0',\n",
       "  'D336620983#7_1',\n",
       "  'D336620983#7_2',\n",
       "  'D824816458#0_0',\n",
       "  'D824816458#0_1',\n",
       "  'D824816458#0_2']}"
      ]
     },
     "execution_count": 6,
     "metadata": {},
     "output_type": "execute_result"
    }
   ],
   "source": [
    "# ONNUT_EB = [NAME.loc['ONNUT_EB_0_0_LSXX','id']]\n",
    "# ONNUT_SB = [NAME.loc['ONNUT_SB_0_0_LSXX','id'],NAME.loc['ONNUT_SB_0_1_XSXX','id'],NAME.loc['ONNUT_SB_0_2_XSXX','id'],NAME.loc['ONNUT_SB_0_3_XSXX','id'],NAME.loc['ONNUT_SB_1_0_LSXX','id'],NAME.loc['ONNUT_SB_1_1_XSXX','id'],NAME.loc['ONNUT_SB_1_2_XSXX','id'],NAME.loc['ONNUT_SB_1_3_XSXX','id'],NAME.loc['ONNUT_SB_2_0_LSXX','id'],NAME.loc['ONNUT_SB_2_1_XSXX','id'],NAME.loc['ONNUT_SB_2_2_XSXX','id'],NAME.loc['ONNUT_SB_2_3_XSXX','id'],NAME.loc['ONNUT_SB_3_0_LSXX','id'],NAME.loc['ONNUT_SB_3_1_XSXX','id'],NAME.loc['ONNUT_SB_3_2_XSXX','id'],NAME.loc['ONNUT_SB_3_3_XSXX','id'],NAME.loc['ONNUT_SB_4_0_XSXX','id'],NAME.loc['ONNUT_SB_4_1_XSXX','id'],NAME.loc['ONNUT_SB_4_2_XSXX','id']]\n",
    "detector"
   ]
  },
  {
   "cell_type": "code",
   "execution_count": 7,
   "metadata": {},
   "outputs": [],
   "source": [
    "#reset the environment\n",
    "def start():\n",
    "    sumoBinary = checkBinary('sumo-gui')\n",
    "    traci.start([sumoBinary, \"-c\", \"Onnut/onnut_fixphase.sumocfg\",\n",
    "                             \"--tripinfo-output\", \"tripinfo.xml\", '--start','true','--quit-on-end','true','--time-to-teleport','-1'])"
   ]
  },
  {
   "cell_type": "code",
   "execution_count": 8,
   "metadata": {},
   "outputs": [],
   "source": [
    "id = {'Onnut': 'cluster_1088409501_272206263_5136790697_70702637',\n",
    "     'PHRAKHANONG' : 'cluster_272206256_272448121_277360977',\n",
    "     'SUKHUMVIT71' : 'cluster_313173111_3810777044'}\n",
    "number_phase = [2,7,7]\n",
    "# detecters = {'QA' : ['156261350#0'], 'QB' : ['-453962283#3'], 'QC' : ['459551209#0', '459551209#3'], 'QD' : ['27702347#0', '27702347#4', '27702347#6']}"
   ]
  },
  {
   "cell_type": "code",
   "execution_count": 9,
   "metadata": {},
   "outputs": [],
   "source": [
    "def get_occupancy_average_percent(detector_id): \n",
    "    #get occupancy average for all detector in detector_id and scale by (Vehicle Length + MinimumGap)/MinimumGap \n",
    "    #Vehicle Length = 4.62 MinimumGap = 2.37\n",
    "    occupancy = (sum([traci.lanearea.getLastStepOccupancy(e) for e in detector_id])/len(detector_id))*((4.62+2.37)/4.62)\n",
    "    return occupancy"
   ]
  },
  {
   "cell_type": "code",
   "execution_count": 10,
   "metadata": {},
   "outputs": [],
   "source": [
    "def get_flow_sum(detector_id):\n",
    "#     Speed (metres per sec) = flow (vehicle per sec) / density (veh per metre), Ajarn chaodit\n",
    "#         flow= int(densityPerLane) * float(meanSpeed)#flow per lane\n",
    "#     print('LastStepVehicleNumber', sum([traci.lanearea.getLastStepVehicleNumber(e) for e in detector_id]))\n",
    "#     print('length', sum([traci.lanearea.getLength(i) for i in detector_id]))\n",
    "#     density = sum([traci.lanearea.getLastStepVehicleNumber(e) for e in detector_id])/\\\n",
    "#     sum([traci.lanearea.getLength(i) for i in detector_id])\n",
    "#     print('density', density)\n",
    "    \n",
    "    flow = sum(([traci.lanearea.getLastStepVehicleNumber(e)*traci.lanearea.getLastStepMeanSpeed(e)/traci.lanearea.getLength(e) for e in detector_id if\n",
    "              traci.lanearea.getLastStepMeanSpeed(e) >= 0]))\n",
    "    return flow"
   ]
  },
  {
   "cell_type": "code",
   "execution_count": 11,
   "metadata": {},
   "outputs": [],
   "source": [
    "def get_mean_speed(detector_id):\n",
    "    mean_speed = sum([traci.lanearea.getLastStepMeanSpeed(e) for e in detector_id])/len(detector_id)\n",
    "    return mean_speed"
   ]
  },
  {
   "cell_type": "code",
   "execution_count": 12,
   "metadata": {},
   "outputs": [],
   "source": [
    "def get_unjamlength_meters(detector_id): \n",
    "    detector_length = sum(traci.lanearea.getLength(d) for d in detector_id)\n",
    "    unjamlength = detector_length - (sum([traci.lanearea.getJamLengthMeters(e) for e in detector_id])) #/detector_length\n",
    "    return unjamlength"
   ]
  },
  {
   "cell_type": "code",
   "execution_count": 13,
   "metadata": {},
   "outputs": [],
   "source": [
    "junction_name = list(id.keys()) \n",
    "def take_action(new_selected_traffic_signal_phases):\n",
    "#     ==\n",
    "# Function take_action takes inputs, namely, \n",
    "\n",
    "# new_selected_traffic_signal_phases[even indec] = current phase of traffic light signal from previous decision time step\n",
    "# new_selected_traffic_signal_phases[odd index] = next phase of traffic light signal from previous decision time step if no signal interruption would occur\n",
    "\n",
    "# and returns outputs, namely,\n",
    "\n",
    "# JamLengthMeter = sum of jam length in detectors area\n",
    "# Speed = sum of speed of all vehicles in detectors area\n",
    "#     ==\n",
    "#     print(new_selected_traffic_signal_phases)\n",
    "    change_to_phase = new_selected_traffic_signal_phases[0::2]\n",
    "    change_to_phase_sumo = [e for e in change_to_phase]\n",
    "#     print(change_to_phase)\n",
    "    current_phase = [traci.trafficlight.getPhase(id[key]) for key in id.keys()]\n",
    "#     for i in range(1):\n",
    "# #         if change_to_phase[i] != current_phase[i]:\n",
    "# #             yellow = (change_to_phase[i]-1)%(2*number_phase[i])\n",
    "# # #             print(yellow)\n",
    "# # #             print(junction_name[i])\n",
    "# #             traci.trafficlight.setPhase(id[junction_name[i]], yellow) #  YELLOW PHASE \n",
    "# #         else:\n",
    "#         traci.trafficlight.setPhase(id[junction_name[i]], change_to_phase_sumo[i]) # No YELLOW PHASE \n",
    "    throughput = 0\n",
    "    for i in range(15):\n",
    "        throughput += get_throughput()\n",
    "        traci.simulationStep()\n",
    "#     w1 = sum([traci.lanearea.getLastStepOccupancy(e) for e in get_edge_id(reward_w1)])\n",
    "#     w2 = sum([traci.lanearea.getLastStepOccupancy(e) for e in get_edge_id(reward_w1)])\n",
    "    JamLengthPercent= sum([traci.lanearea.getJamLengthMeters(i) for i in list(NAME_D['id'])])/sum([traci.lanearea.getLength(i) for i in list(NAME_D['id'])])\n",
    "    Speed = sum([traci.lanearea.getLastStepMeanSpeed(i) for i in list(NAME_D['id'])])/(len(list(NAME_D['id'])))\n",
    "    Flow = sum([traci.lanearea.getLastStepVehicleNumber(e) for e in list(NAME_D['id'])])\n",
    "    \n",
    "#     WaitingTime = sum([traci.lane.getWaitingTime(i) for i in lane])\n",
    "#     HaltingNumber = sum([traci.lane.getLastStepHaltingNumber(i) for i in  lane]) #list(NAME['id'])\n",
    "#     Traveltime = sum([traci.lane.getTraveltime(i) for i in  lane])\n",
    "   \n",
    "    return JamLengthPercent,Speed,Flow,throughput #,WaitingTime, HaltingNumber,  Traveltime "
   ]
  },
  {
   "cell_type": "code",
   "execution_count": 14,
   "metadata": {},
   "outputs": [],
   "source": [
    "def ONNUT_find_action(selected_traffic_signal_phases,list_greentime_duration, threshold, duration):\n",
    "#Onnut\n",
    "    greentime_duration = list_greentime_duration[0]\n",
    "    current_phase = selected_traffic_signal_phases[0]\n",
    "    next_phase_ifno_interupt = selected_traffic_signal_phases[1]\n",
    "#     print('get_flow_sum(get_detector_id(Onnut_edge[WB]))', get_flow_sum(get_detector_id(Onnut_edge['WB'])))\n",
    "#     print('get_flow_sum(get_detector_id(Onnut_edge[SB]))', get_flow_sum(get_detector_id(Onnut_edge['SB'])))\n",
    "#     print('unjamlength_meters Onnut_edge WB', get_unjamlength_meters(get_detector_id(Onnut_edge['WB'])))\n",
    "#     print('occupancy Onnut_edge SB', get_occupancy_average_percent(get_detector_id(Onnut_edge['SB'])))\n",
    "    if current_phase == 1:\n",
    "        if duration['ONNUT_FP1_END_MINGREEN'] >= greentime_duration:\n",
    "            count['ONNUT_FP1_END_MINGREEN'] +=1 \n",
    "            current_phase = 1\n",
    "        elif (get_occupancy_average_percent(detector['ONNUT_SB_FP1_END']) <= threshold['ONNUT_FP1_END_FLOW']) or (greentime_duration >= duration['ONNUT_FP1_END_MAXGREEN'] ): \n",
    "            if (get_occupancy_average_percent(detector['ONNUT_SB_FP1_END']) <= threshold['ONNUT_FP1_END_FLOW']) :\n",
    "                count['ONNUT_FP1_END_FLOW'] +=1 \n",
    "            if (greentime_duration >= duration['ONNUT_FP1_END_MAXGREEN'] ): \n",
    "                count['ONNUT_FP1_END_MAXGREEN'] +=1 \n",
    "            current_phase = 2\n",
    "        elif get_unjamlength_meters(detector['ONNUT_WB_FP1_TP2']) <= threshold['ONNUT_FP1_TP2_UNJAM'] :\n",
    "            count['ONNUT_FP1_TP2_UNJAM'] +=1 \n",
    "            current_phase = 2\n",
    "    elif current_phase == 2: #***\n",
    "        if duration['ONNUT_FP2_END_MINGREEN'] >= greentime_duration:\n",
    "            count['ONNUT_FP2_END_MINGREEN'] +=1 \n",
    "            current_phase = 2\n",
    "        elif get_flow_sum(detector['ONNUT_WB_FP2_END']) <= threshold['ONNUT_FP2_END_FLOW'] or greentime_duration >= duration['ONNUT_FP2_END_MAXGREEN']:\n",
    "            if get_flow_sum(detector['ONNUT_WB_FP2_END']) <= threshold['ONNUT_FP2_END_FLOW'] :\n",
    "                count['ONNUT_FP2_END_FLOW'] +=1 \n",
    "            if greentime_duration >= duration['ONNUT_FP2_END_MAXGREEN']:\n",
    "                count['ONNUT_FP2_END_MAXGREEN'] +=1\n",
    "            current_phase = 1\n",
    "    if selected_traffic_signal_phases[0] == current_phase:\n",
    "        greentime_duration += 15\n",
    "    else: greentime_duration = 0\n",
    "    Onnut_phase = current_phase\n",
    "    next_Onnut_phase_ifno_interupt = next_phase_ifno_interupt\n",
    "    new_greentime_duration = greentime_duration\n",
    "#     action = [ KlongTei_phase, None, Rama4_phase,  next_Rama4_phase, 0, None, 0, None, 0, None, 0, None]\n",
    "    return  new_greentime_duration, Onnut_phase, next_Onnut_phase_ifno_interupt"
   ]
  },
  {
   "cell_type": "code",
   "execution_count": 15,
   "metadata": {},
   "outputs": [],
   "source": [
    "def get_throughput():\n",
    "    loopID = ['L751454884#3_0','L751454884#3_1','L751454884#3_2','L156591171#2_0','L156591171#2_1','L156591171#2_2','L824116560#3_0','L824116560#3_1','L824116560#3_2','L824116560#3_3','L-93727606#1_0']\n",
    "    throughput = sum([traci.inductionloop.getLastStepVehicleNumber(i) for i in loopID if traci.inductionloop.getLastStepMeanSpeed(i) > 0])  #if traci.inductionloop.getLastStepMeanSpeed(i) > 0\n",
    "    return throughput"
   ]
  },
  {
   "cell_type": "code",
   "execution_count": 16,
   "metadata": {},
   "outputs": [],
   "source": [
    "# def PHRAKHANONG_SUKHUMVIT71_find_action(selected_traffic_signal_phases,list_greentime_duration, threshold, duration):\n",
    "#     greentime_duration = list_greentime_duration[1]\n",
    "#     current_phase = selected_traffic_signal_phases[2]\n",
    "#     next_phase_ifno_interupt = selected_traffic_signal_phases[3]\n",
    "# #     print('get_flow_sum(get_detector_id(Onnut_edge[WB]))', get_flow_sum(get_detector_id(Onnut_edge['WB'])))\n",
    "# #     print('get_flow_sum(get_detector_id(Onnut_edge[SB]))', get_flow_sum(get_detector_id(Onnut_edge['SB'])))\n",
    "# #     print('unjamlength_meters Onnut_edge WB', get_unjamlength_meters(get_detector_id(Onnut_edge['WB'])))\n",
    "# #     print('occupancy Onnut_edge SB', get_occupancy_average_percent(get_detector_id(Onnut_edge['SB'])))\n",
    "#     if current_phase == 1:\n",
    "#         if duration['PHRAKHANONG_SUKHUMVIT71_FP1_END_MINGREEN'] >= greentime_duration:\n",
    "#             count['PHRAKHANONG_SUKHUMVIT71_FP1_END_MINGREEN'] +=1 \n",
    "#             current_phase = 1\n",
    "#         elif (get_flow_sum(detector['PHRAKHANONG_EB_FP1_TP2']) <= threshold['PHRAKHANONG_EB_FP1_END_FLOW']) or (greentime_duration >= duration['PHRAKHANONG_SUKHUMVIT71_FP1_END_MAXGREEN'] ): \n",
    "#             if (get_flow_sum(detector['PHRAKHANONG_EB_FP1_TP2']) <= threshold['PHRAKHANONG_EB_FP1_END_FLOW'])  :\n",
    "#                 count['PHRAKHANONG_EB_FP1_END_FLOW'] +=1 \n",
    "#             if (greentime_duration >= duration['PHRAKHANONG_SUKHUMVIT71_FP1_END_MAXGREEN'] ): \n",
    "#                 count['PHRAKHANONG_SUKHUMVIT71_FP1_END_MAXGREEN'] +=1 \n",
    "#             current_phase = 2\n",
    "#     elif current_phase == 2: #***\n",
    "#         if duration['PHRAKHANONG_SUKHUMVIT71_FP2_END_MINGREEN'] >= greentime_duration:\n",
    "#             count['PHRAKHANONG_SUKHUMVIT71_FP2_END_MINGREEN'] +=1 \n",
    "#             current_phase = 2\n",
    "#         elif get_unjamlength_meters(detector['SUKHUMVIT71_SB_FP2_TP3']) <= threshold['PHRAKHANONG_SUKHUMVIT71_FP2_TP3_UNJAM'] or \\\n",
    "#         greentime_duration >= duration['PHRAKHANONG_SUKHUMVIT71_FP2_END_MAXGREEN'] or\\\n",
    "#         get_unjamlength_meters(detector['ONNUT_SB_FP2_TP3']) <= threshold['PHRAKHANONG_SUKHUMVIT71_FP2_TP3_UNJAM_ONNUT']:\n",
    "#             if get_unjamlength_meters(detector['SUKHUMVIT71_SB_FP2_TP3']) <= threshold['PHRAKHANONG_SUKHUMVIT71_FP2_TP3_UNJAM']:\n",
    "#                 count['SUKHUMVIT71_SB_FP2_TP3'] +=1 \n",
    "#             if greentime_duration >= duration['PHRAKHANONG_SUKHUMVIT71_FP2_END_MAXGREEN'] :\n",
    "#                 count['PHRAKHANONG_SUKHUMVIT71_FP2_END_MAXGREEN'] +=1\n",
    "#             if get_unjamlength_meters(detector['ONNUT_SB_FP2_TP3']) <= threshold['PHRAKHANONG_SUKHUMVIT71_FP2_TP3_UNJAM_ONNUT']:\n",
    "#                 count['PHRAKHANONG_SUKHUMVIT71_FP2_TP3_UNJAM_ONNUT'] += 1\n",
    "#             current_phase = 3\n",
    "#     elif current_phase == 3: #***\n",
    "#         if duration['PHRAKHANONG_SUKHUMVIT71_FP3_END_MINGREEN'] >= greentime_duration:\n",
    "#             count['PHRAKHANONG_SUKHUMVIT71_FP3_END_MINGREEN'] +=1 \n",
    "#             current_phase = 2\n",
    "#         elif get_unjamlength_meters(detector['PHRAKHANONG_EB_FP3_TP1']) <= threshold['PHRAKHANONG_SUKHUMVIT71_FP3_TP1_UNJAM']:\n",
    "#             if get_unjamlength_meters(detector['PHRAKHANONG_EB_FP3_TP1']) <= threshold['PHRAKHANONG_SUKHUMVIT71_FP3_TP1_UNJAM']:\n",
    "#                 count['PHRAKHANONG_SUKHUMVIT71_FP3_TP1_UNJAM'] +=1 \n",
    "#             if threshold['PHRAKHANONG_SUKHUMVIT71_FP3_TP1_MAXGREEN'] >= greentimeduration:\n",
    "#                 count['PHRAKHANONG_SUKHUMVIT71_FP3_TP1_MAXGREEN'] +=1 \n",
    "#             current_phase = 1\n",
    "#     if selected_traffic_signal_phases[2] == current_phase:\n",
    "#         greentime_duration += 5\n",
    "#     else: greentime_duration = 0\n",
    "#     PHRAKHANONG_SUKHUMVIT71_phase = current_phase\n",
    "#     next_PHRAKHANONG_SUKHUMVIT71_phase_ifno_interupt = None\n",
    "#     new_greentime_duration = greentime_duration\n",
    "# #     action = [ KlongTei_phase, None, Rama4_phase,  next_Rama4_phase, 0, None, 0, None, 0, None, 0, None]\n",
    "#     return new_greentime_duration, PHRAKHANONG_SUKHUMVIT71_phase, next_PHRAKHANONG_SUKHUMVIT71_phase_ifno_interupt"
   ]
  },
  {
   "cell_type": "code",
   "execution_count": 17,
   "metadata": {},
   "outputs": [],
   "source": [
    "def find_action(selected_traffic_signal_phases,list_greentime_duration, threshold, duration): \n",
    "#     ==\n",
    "# Function traffic_police_action takes inputs, namely, \n",
    "\n",
    "# selected_traffic_signal_phases[even index] = current phase of traffic light signal from previous decision time step\n",
    "# selected_traffic_signal_phases[odd index] = next phase of traffic light signal from previous decision time step if no signal interruption would occur\n",
    "# greentime_duration = number of seconds that current phase of traffic light signal has been used\n",
    "# max_greentime_duration = maximum allowable number of seconds for current phase of traffic light signal\n",
    "\n",
    "# and returns outputs, namely,\n",
    "\n",
    "# new_selected_traffic_signal_phases = new value of selected_traffic_signal_phases[0] and selected_traffic_signal_phases[1] (defined above) to be deployed till next decision time step\n",
    "# new_greentime_duration = new value of greentime_duration to be deployed till next decision time step\n",
    "#     ==\n",
    "\n",
    "\n",
    "    ONNUT_greentime_duration,ONNUT_phase, next_ONNUT_phase_ifno_interupt = ONNUT_find_action(selected_traffic_signal_phases,list_greentime_duration,\\\n",
    "                                                                                             threshold, duration)\n",
    "#     PHRAKHANONG_SUKHUMVIT71_greentime_duration,PHRAKHANONG_SUKHUMVIT71_phase, next_PHRAKHANONG_SUKHUMVIT71_phase_ifno_interupt = PHRAKHANONG_SUKHUMVIT71_find_action(selected_traffic_signal_phases,list_greentime_duration, \\\n",
    "#                                                                                                                threshold, duration)\n",
    "    \n",
    "#     PHRAKHANONG_phase = PHRAKHANONG_SUKHUMVIT71_phase\n",
    "#     SUKHUMVIT71_phase = PHRAKHANONG_SUKHUMVIT71_phase\n",
    "    return [ONNUT_phase, None],[ONNUT_greentime_duration] #, PHRAKHANONG_phase, None, SUKHUMVIT71_phase, None], [ONNUT_greentime_duration, PHRAKHANONG_SUKHUMVIT71_greentime_duration]"
   ]
  },
  {
   "cell_type": "code",
   "execution_count": 18,
   "metadata": {},
   "outputs": [],
   "source": [
    "reward_memory = []\n",
    "def plot_durations():\n",
    "    print('show')\n",
    "    plt.figure(2)\n",
    "    plt.clf()\n",
    "    durations_t = torch.tensor(reward_memory, dtype=torch.float)\n",
    "    plt.title('Training...')\n",
    "    plt.xlabel('Step')\n",
    "    plt.ylabel('Reward')\n",
    "    plt.plot(durations_t.numpy())\n",
    "    # Take 100 episode averages and plot them too\n",
    "    if len(durations_t) >= 100:\n",
    "        means = durations_t.unfold(0, 100, 1).mean(1).view(-1)\n",
    "        means = torch.cat((torch.zeros(99), means))\n",
    "        plt.plot(means.numpy())\n",
    "\n",
    "    plt.pause(0.001)  # pause a bit so that plots are updated"
   ]
  },
  {
   "cell_type": "code",
   "execution_count": 19,
   "metadata": {},
   "outputs": [],
   "source": [
    "ONNUT_WB = ['-113135397#26_0','-113135397#26_1','-113135397#24_0','-113135397#24_1','-113135397#21_0','-113135397#21_1','-113135397#20_0','-113135397#20_1','-113135397#19_0','-113135397#19_1','-113135397#18_0','-113135397#18_1','-113135397#17_0','-113135397#17_1','-113135397#16_0','-113135397#16_1','-113135397#15_0','-113135397#15_1','-113135397#13_0','-113135397#13_1','-113135397#12_0','-113135397#12_1','-113135397#10_0','-113135397#10_1','-113135397#8_0','-113135397#8_1','-113135397#7_0','-113135397#7_1','-113135397#6_0','-113135397#6_1','-113135397#4_0','-113135397#4_1','-113135397#2_0','-113135397#2_1','-113135397#0_0','-113135397#0_1','-824456409#5_0','-824456409#5_1','-824456409#4_0','-824456409#4_1','-824456409#0_0','-824456409#0_1','156591171#0_0','156591171#0_1','156591171#0_2','156591171#2_0','156591171#2_1','156591171#2_2']\n",
    "ONNUT_SB = ['824116560#3_0','824116560#3_1','824116560#3_2','824116560#3_3','824116560#2_0','824116560#2_1','824116560#2_2','824116560#2_3','824116560#1_0','824116560#1_1','824116560#1_2','824116560#1_3','824116560#0_0','824116560#0_1','824116560#0_2','824116560#0_3','824816455_0','824816455_1','824816455_2']\n",
    "\n",
    "ONNUT_NB = ['751455690#0_0','751455690#0_1','751455690#0_2','751454884#0_0','751454884#0_1','751454884#0_2','751454884#2_0','751454884#2_1','751454884#2_2','751454884#3_0','751454884#3_1','751454884#3_2']\n",
    "ONNUT_backlog =ONNUT_WB + ONNUT_SB + ONNUT_NB\n",
    "with open( \"./onnut_fixphase\" , 'w', newline='') as csv_file:\n",
    "    header = ['rewards', 'throughput','backlog',\"meanWaitingTime\", \"meanTravelTime\",\"meanSpeed\",\"action\"]\n",
    "    writer = csv.DictWriter(csv_file, fieldnames = header)\n",
    "    writer.writeheader()\n",
    "        \n",
    "def episode0(threshold, duration):\n",
    "    #episode = 0\n",
    "    action = []\n",
    "    reward_memory = []\n",
    "    JamLengthPercent_memory = []\n",
    "    Speed_memory = []\n",
    "    throughput_memory = []\n",
    "    list_greentime_duration = [0, 0]\n",
    "    start()\n",
    "    traci.simulationStep()\n",
    "    selected_traffic_signal_phases = [1, None,1 ,None]\n",
    "    for seconds in range(960): #2880\n",
    "#         state, len_state = get_state() #minimum_remaining_time = Q-lengthเมตร/free flow speed\n",
    "        new_selected_traffic_signal_phases, new_greentime_duration = find_action(selected_traffic_signal_phases,\n",
    "            list_greentime_duration, threshold, duration)\n",
    "#         print( new_selected_traffic_signal_phases, new_greentime_duration)\n",
    "#         print(count)\n",
    "        JamLengthPercent,Speed,Flow,throughput = take_action(new_selected_traffic_signal_phases)\n",
    "        action.append(new_selected_traffic_signal_phases[0])\n",
    "        JamLengthPercent_memory.append(JamLengthPercent)\n",
    "        Speed_memory.append(Speed)\n",
    "        throughput_memory.append(throughput)\n",
    "        backlog = sum([traci.lanearea.getLastStepVehicleNumber(i) for i in ONNUT_backlog])\n",
    "#         print(JamLengthMeter)\n",
    "#         print(Speed)\n",
    "#         print(state)\n",
    "        selected_traffic_signal_phases = new_selected_traffic_signal_phases\n",
    "        list_greentime_duration = new_greentime_duration \n",
    "        with open( \"./onnut_fixphase.csv\" , 'a', newline='') as csv_file:\n",
    "            header = ['throughput','backlog',\"meanSpeed\",\"JamLengthPercent\"]\n",
    "            writer = csv.DictWriter(csv_file, fieldnames = header)\n",
    "            writer.writerow({'throughput': throughput , \n",
    "                            'backlog': backlog,\"meanSpeed\":Speed,\"JamLengthPercent\":JamLengthPercent\n",
    "                            })\n",
    "\n",
    "#         with open('output.csv', mode='w', newline='') as csv_file:\n",
    "#             writer = csv.writer(csv_file)\n",
    "#             writer.writerow(['throughput'])\n",
    "#             writer.writerows([throughput_memory])\n",
    "#             writer.writerow(['Jam'])\n",
    "#             writer.writerows([JamLengthPercent_memory])\n",
    "            \n",
    "    plt.figure(2)\n",
    "    plt.clf() \n",
    "    plt.plot(throughput_memory)\n",
    "    \n",
    "#     line_up, = plt.plot(JamLengthMeter_memory)\n",
    "#     line_mid,  =  plt.plot(Speed_memory)\n",
    "#     line_down, = plt.plot(throughput_memory)\n",
    "#     plt.legend([line_up, line_down], ['JamLengthMeter', 'Speed','throughput'])\n",
    "    plt.pause(0.001)\n",
    "    traci.close()\n",
    "    return action, throughput_memory"
   ]
  },
  {
   "cell_type": "code",
   "execution_count": 20,
   "metadata": {},
   "outputs": [],
   "source": [
    "# traci.close()"
   ]
  },
  {
   "cell_type": "code",
   "execution_count": 21,
   "metadata": {},
   "outputs": [
    {
     "data": {
      "image/png": "[encoded data removed]",
      "text/plain": [
       "<Figure size 432x288 with 1 Axes>"
      ]
     },
     "metadata": {
      "needs_background": "light"
     },
     "output_type": "display_data"
    },
    {
     "name": "stdout",
     "output_type": "stream",
     "text": [
      "[1, 1, 1, 2, 2, 2, 2, 2, 1, 1, 1, 1, 1, 2, 2, 2, 2, 2, 1, 1, 1, 1, 1, 1, 1, 1, 1, 1, 1, 1, 1, 2, 2, 2, 2, 2, 1, 1, 1, 1, 1, 1, 1, 1, 1, 1, 1, 1, 1, 2, 2, 2, 2, 2, 1, 1, 1, 1, 1, 1, 1, 1, 1, 1, 1, 1, 1, 2, 2, 2, 2, 2, 1, 1, 1, 1, 1, 1, 1, 1, 1, 1, 1, 1, 1, 2, 2, 2, 2, 2, 1, 1, 1, 1, 1, 1, 1, 1, 1, 1, 1, 1, 1, 2, 2, 2, 2, 2, 1, 1, 1, 1, 1, 1, 1, 1, 1, 1, 1, 1, 1, 2, 2, 2, 2, 2, 1, 1, 1, 1, 1, 1, 1, 1, 1, 1, 1, 1, 1, 2, 2, 2, 2, 2, 1, 1, 1, 1, 1, 1, 1, 1, 1, 1, 1, 1, 1, 2, 2, 2, 2, 2, 1, 1, 1, 1, 1, 1, 1, 1, 1, 1, 1, 1, 1, 2, 2, 2, 2, 2, 1, 1, 1, 1, 1, 1, 1, 1, 1, 1, 1, 1, 1, 2, 2, 2, 2, 2, 1, 1, 1, 1, 1, 1, 1, 1, 1, 1, 1, 1, 1, 2, 2, 2, 2, 2, 1, 1, 1, 1, 1, 1, 1, 1, 1, 1, 1, 1, 1, 2, 2, 2, 2, 2, 1, 1, 1, 1, 1, 1, 1, 1, 1, 1, 1, 1, 1, 2, 2, 2, 2, 2, 1, 1, 1, 1, 1, 1, 1, 1, 1, 1, 1, 1, 1, 2, 2, 2, 2, 2, 1, 1, 1, 1, 1, 1, 1, 1, 1, 1, 1, 1, 1, 2, 2, 2, 2, 2, 1, 1, 1, 1, 1, 1, 1, 1, 1, 1, 1, 1, 1, 2, 2, 2, 2, 2, 1, 1, 1, 1, 1, 1, 1, 1, 1, 1, 1, 1, 1, 2, 2, 2, 2, 1, 1, 1, 1, 1, 1, 1, 1, 1, 1, 1, 1, 1, 2, 2, 2, 2, 2, 1, 1, 1, 1, 1, 1, 1, 1, 1, 1, 1, 1, 1, 2, 2, 2, 2, 2, 1, 1, 1, 1, 1, 1, 1, 1, 1, 1, 1, 1, 1, 2, 2, 2, 2, 1, 1, 1, 1, 1, 1, 1, 1, 1, 1, 1, 1, 1, 2, 2, 2, 2, 2, 1, 1, 1, 1, 1, 1, 1, 1, 1, 1, 1, 1, 1, 2, 2, 2, 2, 2, 1, 1, 1, 1, 1, 1, 1, 1, 1, 1, 1, 1, 1, 2, 2, 2, 2, 2, 1, 1, 1, 1, 1, 1, 1, 1, 1, 1, 1, 1, 1, 2, 2, 2, 2, 2, 1, 1, 1, 1, 1, 1, 1, 1, 1, 1, 1, 1, 1, 2, 2, 2, 2, 2, 1, 1, 1, 1, 1, 1, 1, 1, 1, 1, 1, 1, 1, 2, 2, 2, 2, 2, 1, 1, 1, 1, 1, 1, 1, 1, 1, 1, 1, 1, 1, 2, 2, 2, 2, 2, 1, 1, 1, 1, 1, 1, 1, 1, 1, 1, 1, 1, 1, 2, 2, 2, 2, 2, 1, 1, 1, 1, 1, 1, 1, 1, 1, 1, 1, 1, 1, 2, 2, 2, 2, 2, 1, 1, 1, 1, 1, 1, 1, 1, 1, 1, 1, 1, 1, 2, 2, 2, 2, 2, 1, 1, 1, 1, 1, 1, 1, 1, 1, 1, 1, 1, 1, 2, 2, 2, 2, 2, 1, 1, 1, 1, 1, 1, 1, 1, 1, 1, 1, 1, 1, 2, 2, 2, 2, 2, 1, 1, 1, 1, 1, 1, 1, 1, 1, 1, 1, 1, 1, 2, 2, 2, 2, 2, 1, 1, 1, 1, 1, 1, 1, 1, 1, 1, 1, 1, 1, 2, 2, 2, 2, 2, 1, 1, 1, 1, 1, 1, 1, 1, 1, 1, 1, 1, 1, 2, 2, 2, 2, 2, 1, 1, 1, 1, 1, 1, 1, 1, 1, 1, 1, 1, 1, 2, 2, 2, 2, 2, 1, 1, 1, 1, 1, 1, 1, 1, 1, 1, 1, 1, 1, 2, 2, 2, 2, 2, 1, 1, 1, 1, 1, 1, 1, 1, 1, 1, 1, 1, 1, 2, 2, 2, 2, 2, 1, 1, 1, 1, 1, 1, 1, 1, 1, 1, 1, 1, 1, 2, 2, 2, 2, 2, 1, 1, 1, 1, 1, 1, 1, 1, 1, 1, 1, 1, 1, 2, 2, 2, 2, 2, 1, 1, 1, 1, 1, 1, 1, 1, 1, 1, 1, 1, 1, 2, 2, 2, 2, 2, 1, 1, 1, 1, 1, 1, 1, 1, 1, 1, 1, 1, 1, 2, 2, 2, 2, 2, 1, 1, 1, 1, 1, 1, 1, 1, 1, 1, 1, 1, 1, 2, 2, 2, 2, 2, 1, 1, 1, 1, 1, 1, 1, 1, 1, 1, 1, 1, 1, 2, 2, 2, 2, 2, 1, 1, 1, 1, 1, 1, 1, 1, 1, 1, 1, 1, 1, 2, 2, 2, 2, 1, 1, 1, 1, 1, 1, 1, 1, 1, 1, 1, 1, 1, 2, 2, 2, 2, 1, 1, 1, 1, 1, 1, 1, 1, 1, 1, 1, 1, 1, 2, 2, 2, 2, 2, 1, 1, 1, 1, 1, 1, 1, 1, 1, 1, 1, 1, 1, 2, 2, 2, 2, 2, 1, 1, 1, 1, 1, 1, 1, 1, 1, 1, 1, 1, 1, 2, 2, 2, 2, 1, 1, 1, 1, 1, 1, 1, 1, 1, 1, 1, 1, 1, 2, 2, 2, 2, 2, 1, 1, 1, 1, 1, 1, 1, 1, 1, 1, 1, 1, 1, 2, 2, 2, 2, 2, 1, 1, 1, 1, 1, 1, 1, 1, 1, 1, 1, 1, 1, 2, 2, 2, 2, 2, 1, 1, 1, 1, 1, 1, 1, 1, 1, 1, 1]\n"
     ]
    }
   ],
   "source": [
    "action,throughput_memory = episode0(threshold, duration) #PEAM\n",
    "print(action)"
   ]
  },
  {
   "cell_type": "code",
   "execution_count": 22,
   "metadata": {},
   "outputs": [
    {
     "data": {
      "text/plain": [
       "{'ONNUT_FP1_END_FLOW': 2,\n",
       " 'ONNUT_FP2_END_FLOW': 7,\n",
       " 'ONNUT_FP1_TP2_UNJAM': 0,\n",
       " 'ONNUT_FP1_END_MAXGREEN': 52,\n",
       " 'ONNUT_FP2_END_MAXGREEN': 49,\n",
       " 'ONNUT_FP1_END_MINGREEN': 165,\n",
       " 'ONNUT_FP2_END_MINGREEN': 162}"
      ]
     },
     "execution_count": 22,
     "metadata": {},
     "output_type": "execute_result"
    }
   ],
   "source": [
    "count"
   ]
  },
  {
   "cell_type": "code",
   "execution_count": 23,
   "metadata": {},
   "outputs": [
    {
     "name": "stdout",
     "output_type": "stream",
     "text": [
      "[1, 1, 1, 2, 2, 2, 2, 2, 1, 1, 1, 1, 1, 2, 2, 2, 2, 2, 1, 1, 1, 1, 1, 1, 1, 1, 1, 1, 1, 1, 1, 2, 2, 2, 2, 2, 1, 1, 1, 1, 1, 1, 1, 1, 1, 1, 1, 1, 1, 2, 2, 2, 2, 2, 1, 1, 1, 1, 1, 1, 1, 1, 1, 1, 1, 1, 1, 2, 2, 2, 2, 2, 1, 1, 1, 1, 1, 1, 1, 1, 1, 1, 1, 1, 1, 2, 2, 2, 2, 2, 1, 1, 1, 1, 1, 1, 1, 1, 1, 1, 1, 1, 1, 2, 2, 2, 2, 2, 1, 1, 1, 1, 1, 1, 1, 1, 1, 1, 1, 1, 1, 2, 2, 2, 2, 2, 1, 1, 1, 1, 1, 1, 1, 1, 1, 1, 1, 1, 1, 2, 2, 2, 2, 2, 1, 1, 1, 1, 1, 1, 1, 1, 1, 1, 1, 1, 1, 2, 2, 2, 2, 2, 1, 1, 1, 1, 1, 1, 1, 1, 1, 1, 1, 1, 1, 2, 2, 2, 2, 2, 1, 1, 1, 1, 1, 1, 1, 1, 1, 1, 1, 1, 1, 2, 2, 2, 2, 2, 1, 1, 1, 1, 1, 1, 1, 1, 1, 1, 1, 1, 1, 2, 2, 2, 2, 2, 1, 1, 1, 1, 1, 1, 1, 1, 1, 1, 1, 1, 1, 2, 2, 2, 2, 2, 1, 1, 1, 1, 1, 1, 1, 1, 1, 1, 1, 1, 1, 2, 2, 2, 2, 2, 1, 1, 1, 1, 1, 1, 1, 1, 1, 1, 1, 1, 1, 2, 2, 2, 2, 2, 1, 1, 1, 1, 1, 1, 1, 1, 1, 1, 1, 1, 1, 2, 2, 2, 2, 2, 1, 1, 1, 1, 1, 1, 1, 1, 1, 1, 1, 1, 1, 2, 2, 2, 2, 2, 1, 1, 1, 1, 1, 1, 1, 1, 1, 1, 1, 1, 1, 2, 2, 2, 2, 1, 1, 1, 1, 1, 1, 1, 1, 1, 1, 1, 1, 1, 2, 2, 2, 2, 2, 1, 1, 1, 1, 1, 1, 1, 1, 1, 1, 1, 1, 1, 2, 2, 2, 2, 2, 1, 1, 1, 1, 1, 1, 1, 1, 1, 1, 1, 1, 1, 2, 2, 2, 2, 1, 1, 1, 1, 1, 1, 1, 1, 1, 1, 1, 1, 1, 2, 2, 2, 2, 2, 1, 1, 1, 1, 1, 1, 1, 1, 1, 1, 1, 1, 1, 2, 2, 2, 2, 2, 1, 1, 1, 1, 1, 1, 1, 1, 1, 1, 1, 1, 1, 2, 2, 2, 2, 2, 1, 1, 1, 1, 1, 1, 1, 1, 1, 1, 1, 1, 1, 2, 2, 2, 2, 2, 1, 1, 1, 1, 1, 1, 1, 1, 1, 1, 1, 1, 1, 2, 2, 2, 2, 2, 1, 1, 1, 1, 1, 1, 1, 1, 1, 1, 1, 1, 1, 2, 2, 2, 2, 2, 1, 1, 1, 1, 1, 1, 1, 1, 1, 1, 1, 1, 1, 2, 2, 2, 2, 2, 1, 1, 1, 1, 1, 1, 1, 1, 1, 1, 1, 1, 1, 2, 2, 2, 2, 2, 1, 1, 1, 1, 1, 1, 1, 1, 1, 1, 1, 1, 1, 2, 2, 2, 2, 2, 1, 1, 1, 1, 1, 1, 1, 1, 1, 1, 1, 1, 1, 2, 2, 2, 2, 2, 1, 1, 1, 1, 1, 1, 1, 1, 1, 1, 1, 1, 1, 2, 2, 2, 2, 2, 1, 1, 1, 1, 1, 1, 1, 1, 1, 1, 1, 1, 1, 2, 2, 2, 2, 2, 1, 1, 1, 1, 1, 1, 1, 1, 1, 1, 1, 1, 1, 2, 2, 2, 2, 2, 1, 1, 1, 1, 1, 1, 1, 1, 1, 1, 1, 1, 1, 2, 2, 2, 2, 2, 1, 1, 1, 1, 1, 1, 1, 1, 1, 1, 1, 1, 1, 2, 2, 2, 2, 2, 1, 1, 1, 1, 1, 1, 1, 1, 1, 1, 1, 1, 1, 2, 2, 2, 2, 2, 1, 1, 1, 1, 1, 1, 1, 1, 1, 1, 1, 1, 1, 2, 2, 2, 2, 2, 1, 1, 1, 1, 1, 1, 1, 1, 1, 1, 1, 1, 1, 2, 2, 2, 2, 2, 1, 1, 1, 1, 1, 1, 1, 1, 1, 1, 1, 1, 1, 2, 2, 2, 2, 2, 1, 1, 1, 1, 1, 1, 1, 1, 1, 1, 1, 1, 1, 2, 2, 2, 2, 2, 1, 1, 1, 1, 1, 1, 1, 1, 1, 1, 1, 1, 1, 2, 2, 2, 2, 2, 1, 1, 1, 1, 1, 1, 1, 1, 1, 1, 1, 1, 1, 2, 2, 2, 2, 2, 1, 1, 1, 1, 1, 1, 1, 1, 1, 1, 1, 1, 1, 2, 2, 2, 2, 2, 1, 1, 1, 1, 1, 1, 1, 1, 1, 1, 1, 1, 1, 2, 2, 2, 2, 2, 1, 1, 1, 1, 1, 1, 1, 1, 1, 1, 1, 1, 1, 2, 2, 2, 2, 1, 1, 1, 1, 1, 1, 1, 1, 1, 1, 1, 1, 1, 2, 2, 2, 2, 1, 1, 1, 1, 1, 1, 1, 1, 1, 1, 1, 1, 1, 2, 2, 2, 2, 2, 1, 1, 1, 1, 1, 1, 1, 1, 1, 1, 1, 1, 1, 2, 2, 2, 2, 2, 1, 1, 1, 1, 1, 1, 1, 1, 1, 1, 1, 1, 1, 2, 2, 2, 2, 1, 1, 1, 1, 1, 1, 1, 1, 1, 1, 1, 1, 1, 2, 2, 2, 2, 2, 1, 1, 1, 1, 1, 1, 1, 1, 1, 1, 1, 1, 1, 2, 2, 2, 2, 2, 1, 1, 1, 1, 1, 1, 1, 1, 1, 1, 1, 1, 1, 2, 2, 2, 2, 2, 1, 1, 1, 1, 1, 1, 1, 1, 1, 1, 1]\n"
     ]
    }
   ],
   "source": [
    "print(action)"
   ]
  },
  {
   "cell_type": "code",
   "execution_count": 24,
   "metadata": {},
   "outputs": [
    {
     "name": "stdout",
     "output_type": "stream",
     "text": [
      "18053\n"
     ]
    }
   ],
   "source": [
    "print(sum(throughput_memory))"
   ]
  },
  {
   "cell_type": "code",
   "execution_count": null,
   "metadata": {},
   "outputs": [],
   "source": []
  }
 ],
 "metadata": {
  "kernelspec": {
   "display_name": "Python 3",
   "language": "python",
   "name": "python3"
  },
  "language_info": {
   "codemirror_mode": {
    "name": "ipython",
    "version": 3
   },
   "file_extension": ".py",
   "mimetype": "text/x-python",
   "name": "python",
   "nbconvert_exporter": "python",
   "pygments_lexer": "ipython3",
   "version": "3.8.6rc1"
  }
 },
 "nbformat": 4,
 "nbformat_minor": 4
}
