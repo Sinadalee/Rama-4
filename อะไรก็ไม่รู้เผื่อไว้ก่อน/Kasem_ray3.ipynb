{
 "cells": [
  {
   "cell_type": "code",
   "execution_count": 1,
   "metadata": {
    "pycharm": {
     "is_executing": true
    }
   },
   "outputs": [],
   "source": [
    "id = {'KLONGTEI': 'cluster_1892287670_272491964_272492178',\n",
    "      'RAMA4': 'cluster_272488163_282390730_66263210_66263222',\n",
    "      'NARANONG': 'cluster_272488164_272492179_3457051443_61907354',\n",
    "      'SUNLAKAKHON': 'gneJ83',\n",
    "      'KASEMRAT': 'cluster_272448137_272555800_272555808_7660045934_7710268409',\n",
    "      'ATTHAKAWI_RAMA4' : '270329335'}\n",
    "junction_name = list(id.keys())"
   ]
  },
  {
   "cell_type": "code",
   "execution_count": 2,
   "metadata": {},
   "outputs": [],
   "source": [
    "# import gym\n",
    "# from gym import error, spaces\n",
    "import gym\n",
    "import csv\n",
    "import os, sys\n",
    "sys.path.append(os.path.join('/home/ring/sumo-svn/', 'tools'))\n",
    "import traci\n",
    "import traci.constants as tc\n",
    "import numpy as np\n",
    "from sumolib import checkBinary\n",
    "import datetime\n",
    "import matplotlib\n",
    "import matplotlib.pyplot as plt\n",
    "import torch\n",
    "import copy\n",
    "import random\n",
    "import pandas as pd\n",
    "from multiprocessing.pool import ThreadPool\n",
    "from itertools import zip_longest"
   ]
  },
  {
   "cell_type": "code",
   "execution_count": 3,
   "metadata": {},
   "outputs": [
    {
     "name": "stdout",
     "output_type": "stream",
     "text": [
      "ok\n"
     ]
    }
   ],
   "source": [
    "namelane_csv = pd.read_csv('namelane_KASEMRAT.csv')\n",
    "namelane_df = pd.DataFrame(namelane_csv, columns = ['name' , 'id'])\n",
    "NAME = namelane_df.set_index('name')\n",
    "ID = namelane_df.set_index('id')\n",
    "if NAME.loc['KASEMRAT_EB_0_0_XSXX','id'] == '459551209#3_0':\n",
    "    print('ok')"
   ]
  },
  {
   "cell_type": "code",
   "execution_count": 58,
   "metadata": {
    "scrolled": true
   },
   "outputs": [
    {
     "data": {
      "text/plain": [
       "name\n",
       "KASEMRAT_EB_0_0_XSXX           459551209#3_0\n",
       "KASEMRAT_EB_0_1_XSXX           459551209#3_1\n",
       "KASEMRAT_EB_0_2_XSXX           459551209#3_2\n",
       "KASEMRAT_EB_0_3_XSRT           459551209#3_3\n",
       "KASEMRAT_EB_1_0_LSXX           459551209#0_0\n",
       "                                  ...       \n",
       "NARANONG_SW_1_1_XSXX.0       824116549#0_1.0\n",
       "NARANONG_SW_1_1_XSXX.1       824116549#0_1.1\n",
       "SUNLAKAKHON_EB_2_2_XSXX.0    824116555#0_2.0\n",
       "SUNLAKAKHON_EB_2_1_XSXX.0    824116555#0_1.0\n",
       "SUNLAKAKHON_EB_2_0_XSXX.0    824116555#0_0.0\n",
       "Name: id, Length: 332, dtype: object"
      ]
     },
     "execution_count": 58,
     "metadata": {},
     "output_type": "execute_result"
    }
   ],
   "source": [
    "NAME.loc[:,'id']"
   ]
  },
  {
   "cell_type": "code",
   "execution_count": 5,
   "metadata": {},
   "outputs": [
    {
     "data": {
      "text/plain": [
       "'RAMA4_WB_2_3_XSXX'"
      ]
     },
     "execution_count": 5,
     "metadata": {},
     "output_type": "execute_result"
    }
   ],
   "source": [
    "ID.loc['820373198#0_3', 'name']"
   ]
  },
  {
   "cell_type": "code",
   "execution_count": 6,
   "metadata": {},
   "outputs": [],
   "source": [
    "namedetector_csv = pd.read_csv('namedetector_KASEMRAT_flow.csv')\n",
    "namedetector_df = pd.DataFrame(namedetector_csv, columns = ['name' , 'id'])\n",
    "NAME_D = namedetector_df.set_index('name')\n",
    "ID_D = namedetector_df.set_index('id')\n",
    "listdetector = open(\"namedetector_KASEMRAT_flow.txt\", \"r\")\n",
    "detector = {}\n",
    "for l in listdetector:\n",
    "    l = l.strip().split(' ')\n",
    "    if len(l)> 1:\n",
    "        d = []\n",
    "        for detec in l[2:]:\n",
    "            if type(NAME_D.loc[detec,'id']) == str:\n",
    "                d.append(NAME_D.loc[detec,'id'])\n",
    "            else : d.append(NAME_D.loc[detec,'id'][0])\n",
    "    if str(l[0])!= '':\n",
    "        detector[str(l[0])] = d\n",
    "list_detector= list(detector.keys())"
   ]
  },
  {
   "cell_type": "code",
   "execution_count": 7,
   "metadata": {},
   "outputs": [
    {
     "data": {
      "text/html": [
       "<div>\n",
       "<style scoped>\n",
       "    .dataframe tbody tr th:only-of-type {\n",
       "        vertical-align: middle;\n",
       "    }\n",
       "\n",
       "    .dataframe tbody tr th {\n",
       "        vertical-align: top;\n",
       "    }\n",
       "\n",
       "    .dataframe thead th {\n",
       "        text-align: right;\n",
       "    }\n",
       "</style>\n",
       "<table border=\"1\" class=\"dataframe\">\n",
       "  <thead>\n",
       "    <tr style=\"text-align: right;\">\n",
       "      <th></th>\n",
       "      <th>id</th>\n",
       "    </tr>\n",
       "    <tr>\n",
       "      <th>name</th>\n",
       "      <th></th>\n",
       "    </tr>\n",
       "  </thead>\n",
       "  <tbody>\n",
       "    <tr>\n",
       "      <th>RAMA4_EB_1_4_XSXX</th>\n",
       "      <td>D459492917#0_4</td>\n",
       "    </tr>\n",
       "    <tr>\n",
       "      <th>KLONGTEI_EB_0_0_XSXX</th>\n",
       "      <td>D825786400_0</td>\n",
       "    </tr>\n",
       "    <tr>\n",
       "      <th>KLONGTEI_EB_0_1_XSXX</th>\n",
       "      <td>D825786400_1</td>\n",
       "    </tr>\n",
       "    <tr>\n",
       "      <th>KLONGTEI_EB_0_2_XSXX</th>\n",
       "      <td>D825786400_2</td>\n",
       "    </tr>\n",
       "    <tr>\n",
       "      <th>KLONGTEI_EB_0_3_XSXX</th>\n",
       "      <td>D825786400_3</td>\n",
       "    </tr>\n",
       "  </tbody>\n",
       "</table>\n",
       "</div>"
      ],
      "text/plain": [
       "                                  id\n",
       "name                                \n",
       "RAMA4_EB_1_4_XSXX     D459492917#0_4\n",
       "KLONGTEI_EB_0_0_XSXX    D825786400_0\n",
       "KLONGTEI_EB_0_1_XSXX    D825786400_1\n",
       "KLONGTEI_EB_0_2_XSXX    D825786400_2\n",
       "KLONGTEI_EB_0_3_XSXX    D825786400_3"
      ]
     },
     "execution_count": 7,
     "metadata": {},
     "output_type": "execute_result"
    }
   ],
   "source": [
    "NAME_D.head()"
   ]
  },
  {
   "cell_type": "code",
   "execution_count": 8,
   "metadata": {},
   "outputs": [
    {
     "data": {
      "text/plain": [
       "{'RAMA4_EB_FP1_TP3': ['D459492917#0_4', 'D825786400_4'],\n",
       " 'RAMA4_EB_FP3_TP2': ['D825786400_0',\n",
       "  'D825786400_1',\n",
       "  'D825786400_2',\n",
       "  'D825786400_3',\n",
       "  'D825786400_4',\n",
       "  'D459492912#1_0',\n",
       "  'D459492912#1_1',\n",
       "  'D459492912#1_2',\n",
       "  'D459492912#1_3',\n",
       "  'D459492912#0_0',\n",
       "  'D459492912#0_1',\n",
       "  'D459492912#0_2',\n",
       "  'D459492912#0_3',\n",
       "  'D752225467_0',\n",
       "  'D752225467_1',\n",
       "  'D825786397_0',\n",
       "  'D825786397_1',\n",
       "  'D825786397_2',\n",
       "  'D825786397_3',\n",
       "  'D825786397_4',\n",
       "  'D825786383#0_0',\n",
       "  'D825786383#0_1',\n",
       "  'D825786383#0_2',\n",
       "  'D825786383#0_3',\n",
       "  'D825786410_0',\n",
       "  'D825786410_1',\n",
       "  'D825786410_2',\n",
       "  'D825786410_3',\n",
       "  'D459492917#0_0',\n",
       "  'D459492917#0_1',\n",
       "  'D459492917#0_2',\n",
       "  'D459492917#0_3',\n",
       "  'D459492917#0_4'],\n",
       " 'RAMA4_WB_FP3_TP2': ['D825786415_5'],\n",
       " 'RAMA4_WB_FP2_TP4': ['D825786415_5'],\n",
       " 'RAMA4_SB_FP4_TP5': ['D25053655#0_0', 'D25053655#0_1', 'D25053655#0_2'],\n",
       " 'RAMA4_NB_FP5_TP1': ['D824116545_0',\n",
       "  'D824116545_1',\n",
       "  'D824116545_2',\n",
       "  'D824116548_1',\n",
       "  'D824116548_2',\n",
       "  'D824116548_3',\n",
       "  'D824116547_2',\n",
       "  'D338595771#1_1'],\n",
       " 'RAMA4_EB_FPX_TP1': ['D825786383#0_1', 'D825786383#0_2', 'D825786383#0_3'],\n",
       " 'RAMA4_NB_FPX_TP5': ['D338595771#1_1'],\n",
       " 'KLONGTEI_NB_FP3_TPX': ['D25047974#2_0',\n",
       "  'D25047974#2_1',\n",
       "  'D25047974#2_2',\n",
       "  'D25047974#2_3'],\n",
       " 'NARANONG_SB_FP1_TP2': ['D824116550#0_1'],\n",
       " 'NARANONG_EB_FP1_TP2': ['D756119203_0'],\n",
       " 'NARANONG_WB_FP2_TP3': ['D482384850#2_2.0',\n",
       "  'D482384850#2_1.0',\n",
       "  'D482384850#1_2',\n",
       "  'D482384850#1_1',\n",
       "  'D482384850#1_0',\n",
       "  'D482384850#1-AddedOnRampEdge_3',\n",
       "  'D482384850#1-AddedOnRampEdge_2',\n",
       "  'D482384850#1-AddedOnRampEdge_1',\n",
       "  'D482384850#1-AddedOnRampEdge_0'],\n",
       " 'NARANONG_WB_FP2_TP3_FLOW': ['D338595767_0', 'D338595767_1'],\n",
       " 'NARANONG_EB_FP3_TP4': ['D25053626_1'],\n",
       " 'NARANONG_WB_FP4_TP5': ['D482384850#2_2.0',\n",
       "  'D482384850#2_2.1',\n",
       "  'D482384850#2_2.2',\n",
       "  'D482384850#2_1.0',\n",
       "  'D482384850#2_1.1',\n",
       "  'D482384850#2_1.2',\n",
       "  'D482384850#1_2',\n",
       "  'D482384850#1_1',\n",
       "  'D482384850#1_0',\n",
       "  'D482384850#1-AddedOnRampEdge_3',\n",
       "  'D482384850#1-AddedOnRampEdge_2',\n",
       "  'D482384850#1-AddedOnRampEdge_1',\n",
       "  'D482384850#1-AddedOnRampEdge_0'],\n",
       " 'NARANONG_SB_FP5_TP6': ['D824116544_0',\n",
       "  'D824116544_1',\n",
       "  'D459492916#0-AddedOffRampEdge_1',\n",
       "  'D459492916#0_1'],\n",
       " 'NARANONG_NB_FP6_TP1': ['D824116551#0_0',\n",
       "  'D824116551#0_1',\n",
       "  'D157063979_1',\n",
       "  'D157063979_2'],\n",
       " 'NARANONG_SW_FPX_TP1': ['D824116549#0_3.0',\n",
       "  'D824116549#0_2.0',\n",
       "  'D824116549#0_1.0'],\n",
       " 'NARANONG_WB_FPX_TP2': ['D482384850#2_2.0',\n",
       "  'D482384850#2_1.0',\n",
       "  'D482384850#1_2',\n",
       "  'D482384850#1_1',\n",
       "  'D482384850#1_0',\n",
       "  'D482384850#1-AddedOnRampEdge_3',\n",
       "  'D482384850#1-AddedOnRampEdge_2',\n",
       "  'D482384850#1-AddedOnRampEdge_1',\n",
       "  'D482384850#1-AddedOnRampEdge_0'],\n",
       " 'SUNLAKAKHON_NB_FP2_TP3': ['D153225687#10-AddedOffRampEdge_1',\n",
       "  'D153225687#10-AddedOffRampEdge_2'],\n",
       " 'SUNLAKAKHON_EB_FP3_TP4': ['D824116555#0_2.0',\n",
       "  'D824116555#0_1.0',\n",
       "  'D824116555#0_0.0',\n",
       "  'D824116554_1',\n",
       "  'D824116554_0',\n",
       "  'D185563494_0'],\n",
       " 'SUNLAKAKHON_WB_FP3_TP4': ['D45033613#1_2',\n",
       "  'D45033613#1_1',\n",
       "  'D45033613#1_0',\n",
       "  'D45033613#0_2',\n",
       "  'D45033613#0_1',\n",
       "  'D45033613#0_0'],\n",
       " 'SUNLAKAKHON_SB_FP4_TP1': ['D482209833#1_0',\n",
       "  'D482209833#1_1',\n",
       "  'D482209833#1_2'],\n",
       " 'SUNLAKAKHON_SB_FPX_TP1': ['D482209833#1_0',\n",
       "  'D482209833#1_1',\n",
       "  'D482209833#1_2',\n",
       "  'D482209833#0_0',\n",
       "  'D482209833#0_1',\n",
       "  'D482209833#0_2'],\n",
       " 'SUNLAKAKHON_SB_FP1_TPX': ['D292571830-AddedOffRampEdge_1',\n",
       "  'D292571830-AddedOffRampEdge_2',\n",
       "  'D292571830-AddedOffRampEdge_3'],\n",
       " 'MASUKGRIDLOCK_SUKHUMVUT_FPX_TP2': ['D328942767#2_0', 'D-453669106#1_0'],\n",
       " 'MASUKGRIDLOCK_ARI_NB_FPX_TP2': ['D-453962283#3_0'],\n",
       " 'KASEMRAT_EB_FPX_TP2': ['D459551209#0_0',\n",
       "  'D459551209#0_1',\n",
       "  'D459551209#0_2',\n",
       "  'D459551209#0_3'],\n",
       " 'KASEMRAT_EB_FP2_TP1': ['D459551209#3_3', 'D459551209#3_2'],\n",
       " 'KASEMRAT_NB_FPX_TP3': ['D482384842#2-AddedOnRampNode_0',\n",
       "  'D482384842#2-AddedOnRampNode_1',\n",
       "  'D482384842#2-AddedOnRampNode_2',\n",
       "  'D482384842#1-AddedOnRampEdge_0',\n",
       "  'D482384842#1-AddedOnRampEdge_1',\n",
       "  'D482384842#1-AddedOnRampEdge_2',\n",
       "  'D482384842#1-AddedOnRampEdge_3'],\n",
       " 'KASEMRAT_EB_FPX_TP2_RAMA4': ['D153225678#1-AddedOnRampEdge_0',\n",
       "  'D153225678#1-AddedOnRampEdge_1',\n",
       "  'D153225678#1-AddedOnRampEdge_2',\n",
       "  'D153225678#1-AddedOnRampEdge_3',\n",
       "  'D153225678#1-AddedOnRampEdge_4'],\n",
       " 'DETECTOR_FLOW_ALL': ['D459551209#3_0',\n",
       "  'D459551209#3_1',\n",
       "  'D459551209#3_2',\n",
       "  'D459551209#3_3',\n",
       "  'D321845933#3_0',\n",
       "  'D321845933#3_1',\n",
       "  'D321845933#3_2',\n",
       "  'D820373194#0_0',\n",
       "  'D820373194#0_1',\n",
       "  'D820373194#0_2',\n",
       "  'D825786400_0',\n",
       "  'D825786400_1',\n",
       "  'D825786400_2',\n",
       "  'D825786400_3',\n",
       "  'D825786400_4',\n",
       "  'D25047974#2_0',\n",
       "  'D25047974#2_1',\n",
       "  'D25047974#2_2',\n",
       "  'D25047974#2_3',\n",
       "  'D481971011#1-AddedOnRampEdge_0',\n",
       "  'D481971011#1-AddedOnRampEdge_1',\n",
       "  'D481971011#1-AddedOnRampEdge_2',\n",
       "  'D481971011#1-AddedOnRampEdge_3',\n",
       "  'D481971011#1-AddedOnRampEdge_4',\n",
       "  'D481971011#1-AddedOnRampEdge_5',\n",
       "  'D824116551#0_0',\n",
       "  'D824116551#0_1',\n",
       "  'D824116544_0',\n",
       "  'D824116544_1',\n",
       "  'D824116544_2',\n",
       "  'D338595767_0',\n",
       "  'D338595767_1',\n",
       "  'D338595767_2',\n",
       "  'D338595767_3',\n",
       "  'D824116550#0_0',\n",
       "  'D824116550#0_1',\n",
       "  'D25053626_0',\n",
       "  'D25053626_1',\n",
       "  'D824116555#0-AddedOffRampEdge_0',\n",
       "  'D824116555#0-AddedOffRampEdge_1',\n",
       "  'D824116555#0-AddedOffRampEdge_2',\n",
       "  'D824116555#0-AddedOffRampEdge_3',\n",
       "  'D45033613#0_0',\n",
       "  'D45033613#0_1',\n",
       "  'D45033613#0_2',\n",
       "  'D153225687#10-AddedOffRampEdge_0',\n",
       "  'D153225687#10-AddedOffRampEdge_1',\n",
       "  'D153225687#10-AddedOffRampEdge_2',\n",
       "  'D292571830-AddedOffRampEdge_0',\n",
       "  'D292571830-AddedOffRampEdge_1',\n",
       "  'D292571830-AddedOffRampEdge_2',\n",
       "  'D292571830-AddedOffRampEdge_3',\n",
       "  'D459492917#0_0',\n",
       "  'D459492917#0_1',\n",
       "  'D459492917#0_2',\n",
       "  'D459492917#0_3',\n",
       "  'D459492917#0_4',\n",
       "  'D824116548_0',\n",
       "  'D824116548_1',\n",
       "  'D824116548_2',\n",
       "  'D824116548_3',\n",
       "  'D821785869#0_0',\n",
       "  'D821785869#0_1',\n",
       "  'D821785869#0_2',\n",
       "  'D821785869#0_3',\n",
       "  'D825786415_0',\n",
       "  'D825786415_1',\n",
       "  'D825786415_2',\n",
       "  'D825786415_3',\n",
       "  'D825786415_4',\n",
       "  'D825786415_5']}"
      ]
     },
     "execution_count": 8,
     "metadata": {},
     "output_type": "execute_result"
    }
   ],
   "source": [
    "detector"
   ]
  },
  {
   "cell_type": "code",
   "execution_count": 9,
   "metadata": {
    "scrolled": true
   },
   "outputs": [],
   "source": [
    "# type(NAME_D.loc['KLONGTEI_EB_0_0_XSXX','id'])\n",
    "# for i in range(len(list(detector.keys()))):\n",
    "#     print(i , list(detector.keys())[i])"
   ]
  },
  {
   "cell_type": "code",
   "execution_count": 11,
   "metadata": {},
   "outputs": [],
   "source": [
    "def get_hot_encoding_current_phase():\n",
    "    number_phase = [3,7,6,4,3,3]\n",
    "    current_phase = [traci.trafficlight.getPhase(id[key]) for key in id.keys()]\n",
    "#     current_phase = [1,1,1,1,1,1]\n",
    "    if current_phase[0] != 0:\n",
    "        current_phase[0]+=1\n",
    "    hot_encoding_current_phase = np.array([])\n",
    "    for i in range(len(current_phase)):\n",
    "        binary_phase = np.zeros(number_phase[i])\n",
    "        if current_phase[i] >0:\n",
    "            binary_phase[current_phase[i]-1] = 1\n",
    "        hot_encoding_current_phase = np.concatenate((hot_encoding_current_phase, binary_phase), axis=None)\n",
    "    return current_phase, hot_encoding_current_phase"
   ]
  },
  {
   "cell_type": "code",
   "execution_count": 12,
   "metadata": {},
   "outputs": [],
   "source": [
    "# ID.loc['']#, '820373198#0', '820373196#0', '482209831#0']"
   ]
  },
  {
   "cell_type": "code",
   "execution_count": 17,
   "metadata": {},
   "outputs": [],
   "source": [
    "def get_state_attention(current_phase, hot_encoding_current_phase):\n",
    "#     current_phase = [KLONGTEI phase, RAMA4 phase,NARANONG phase, SUNLAKAKHON phase, KASEMRAT phase, ATTHAKAWI_RAMA4 phase]\n",
    "    MAP_RAMA4 = {0: ['RAMA4_EB_FPX_TP1', 'KASEMRAT_EB_FPX_TP2_RAMA4', 'NARANONG_SW_FPX_TP1'],\n",
    "                 1: ['RAMA4_EB_FP1_TP3', 'RAMA4_NB_FPX_TP5'],\n",
    "                 2: ['RAMA4_WB_FP2_TP4', 'RAMA4_EB_FPX_TP1', 'RAMA4_NB_FPX_TP5'],\n",
    "                3: ['RAMA4_EB_FP3_TP2', 'RAMA4_WB_FP3_TP2', 'RAMA4_EB_FPX_TP1', 'RAMA4_NB_FPX_TP5' ],\n",
    "                4: ['RAMA4_SB_FP4_TP5', 'RAMA4_EB_FPX_TP1', 'RAMA4_NB_FPX_TP5' ],\n",
    "                5: ['RAMA4_NB_FP5_TP1', 'RAMA4_EB_FPX_TP1'],\n",
    "                6: ['KASEMRAT_EB_FPX_TP2_RAMA4'],\n",
    "                7: ['KASEMRAT_EB_FPX_TP2_RAMA4']}\n",
    "    MAP_KLONGTEI = {0: ['NARANONG_SB_FP5_TP6', 'RAMA4_EB_FP1_TP3'],\n",
    "                    2: ['RAMA4_EB_FP3_TP2', 'RAMA4_EB_FP1_TP3'],\n",
    "                    3: ['KLONGTEI_NB_FP3_TPX'],\n",
    "                   4: ['RAMA4_EB_FP3_TP2',  'RAMA4_EB_FP1_TP3'] }\n",
    "    MAP_NARANONG = {0: ['RAMA4_NB_FPX_TP5'],\n",
    "                1: ['NARANONG_SB_FP1_TP2', 'NARANONG_EB_FP1_TP2', 'NARANONG_WB_FPX_TP2', 'NARANONG_WB_FPX_TP2'],\n",
    "                2: ['NARANONG_WB_FP2_TP3', 'NARANONG_WB_FP2_TP3_FLOW', 'NARANONG_SW_FPX_TP1', 'NARANONG_WB_FPX_TP2'],\n",
    "                3: ['NARANONG_EB_FP3_TP4', 'NARANONG_SW_FPX_TP1', 'NARANONG_WB_FPX_TP2'],\n",
    "                4: ['NARANONG_WB_FP4_TP5', 'NARANONG_SW_FPX_TP1', 'NARANONG_WB_FPX_TP2'],\n",
    "                5: ['NARANONG_SB_FP5_TP6', 'NARANONG_SW_FPX_TP1', 'NARANONG_WB_FPX_TP2'], \n",
    "                6: ['NARANONG_NB_FP6_TP1', 'NARANONG_SW_FPX_TP1', 'NARANONG_WB_FPX_TP2'] }\n",
    "    MAP_SUNLAKAKHON = {0: ['NARANONG_EB_FP3_TP4'],\n",
    "                    1: ['SUNLAKAKHON_SB_FP1_TPX'],\n",
    "                    2: ['SUNLAKAKHON_NB_FP2_TP3', 'SUNLAKAKHON_SB_FPX_TP1'],\n",
    "                    3:['SUNLAKAKHON_EB_FP3_TP4', 'SUNLAKAKHON_WB_FP3_TP4', 'SUNLAKAKHON_SB_FPX_TP1'],\n",
    "                    4:['SUNLAKAKHON_SB_FP4_TP1', 'SUNLAKAKHON_SB_FPX_TP1'] }\n",
    "    MAP_KASEMRAT = {0: ['SUNLAKAKHON_SB_FPX_TP1', 'MASUKGRIDLOCK_ARI_NB_FPX_TP2'],\n",
    "                    1:['KASEMRAT_EB_FPX_TP2', 'KASEMRAT_NB_FPX_TP3'],\n",
    "                    2:['KASEMRAT_EB_FP2_TP1', 'KASEMRAT_NB_FPX_TP3'],\n",
    "                    3:['KASEMRAT_EB_FPX_TP2'] }\n",
    "    MAP_ATTHAKAWI_RAMA4 = {0: ['KASEMRAT_EB_FPX_TP2'],\n",
    "                           1: ['MASUKGRIDLOCK_SUKHUMVUT_FPX_TP2', 'MASUKGRIDLOCK_ARI_NB_FPX_TP2' ],\n",
    "                          2:['KASEMRAT_EB_FPX_TP2_RAMA4']}\n",
    "    MAP = [MAP_KLONGTEI, MAP_RAMA4, MAP_NARANONG, MAP_SUNLAKAKHON,  MAP_KASEMRAT, MAP_ATTHAKAWI_RAMA4]\n",
    "    state_attention = np.zeros(31)\n",
    "    for i in range(len(current_phase)):\n",
    "        for e in MAP[i][current_phase[i]]:\n",
    "            occupancy = 2#get_occupancy_average_percent(detector[e]) \n",
    "            Index_detector = list_detector.index(e) \n",
    "            state_attention[Index_detector] = occupancy\n",
    "    print(state_attention)\n",
    "    state = np.concatenate((state_attention, hot_encoding_current_phase), axis=None)\n",
    "    return state\n"
   ]
  },
  {
   "cell_type": "code",
   "execution_count": 18,
   "metadata": {},
   "outputs": [],
   "source": [
    "#reset the environment\n",
    "def start():\n",
    "    sumoBinary = checkBinary('sumo-gui')\n",
    "    traci.start([sumoBinary, \"-c\", \"KASEMRAT-SUMO-UsingBookNetFile/osm.sumocfg\",\n",
    "                             \"--tripinfo-output\", \"tripinfo.xml\", '--start','true','--quit-on-end','true','--time-to-teleport','-1',\n",
    "                '--lanechange.duration', '0.1'])"
   ]
  },
  {
   "cell_type": "code",
   "execution_count": 19,
   "metadata": {},
   "outputs": [],
   "source": [
    "def get_occupancy_average_percent(detector_id): \n",
    "    #get occupancy average for all detector in list of detector_id and scale by (Vehicle Length + MinimumGap)/MinimumGap \n",
    "    #Vehicle Length = 4.62 MinimumGap = 2.37\n",
    "    occupancy = (sum([traci.lanearea.getLastStepOccupancy(e) for e in detector_id])/len(detector_id))*((4.62+2.37)/4.62)\n",
    "    return occupancy"
   ]
  },
  {
   "cell_type": "code",
   "execution_count": 51,
   "metadata": {},
   "outputs": [],
   "source": [
    "def get_throughput():\n",
    "    loopID = traci.inductionloop.getIDList()\n",
    "    throughput = sum([traci.inductionloop.getLastStepVehicleNumber(i) for i in loopID if traci.inductionloop.getLastStepMeanSpeed(id) > 0])\n",
    "    return throughput"
   ]
  },
  {
   "cell_type": "code",
   "execution_count": 21,
   "metadata": {},
   "outputs": [],
   "source": [
    "def get_drawback():\n",
    "    laneID = traci.lane.getIDList()\n",
    "    drawback = sum([traci.lane.getLastStepVehicleNumber(i) for i in laneID])# NAME.loc[:,'id'])\n",
    "    return drawback"
   ]
  },
  {
   "cell_type": "code",
   "execution_count": 22,
   "metadata": {},
   "outputs": [],
   "source": [
    "def get_reward():\n",
    "    throughput = get_throughput()\n",
    "    drawback = get_drawback()\n",
    "    reward = throughput - drawback\n",
    "    return reward"
   ]
  },
  {
   "cell_type": "code",
   "execution_count": 23,
   "metadata": {},
   "outputs": [],
   "source": [
    "number_phase = [3,7,6,4,3,3]\n",
    "def set_phase(action):\n",
    "    if action < 3:\n",
    "        phase = action\n",
    "        traci.trafficlight.setPhase(id[junction_name[0]], phase)\n",
    "    elif action < 10:\n",
    "        phase = (action-3)\n",
    "        traci.trafficlight.setPhase(id[junction_name[1]], phase)\n",
    "    elif action < 16:\n",
    "        phase = (action-10)\n",
    "        traci.trafficlight.setPhase(id[junction_name[2]], phase)\n",
    "    elif action < 20:\n",
    "        phase = (action-16)\n",
    "        traci.trafficlight.setPhase(id[junction_name[3]], phase)\n",
    "    elif action < 23:\n",
    "        phase = (action-20)\n",
    "        traci.trafficlight.setPhase(id[junction_name[4]], phase)\n",
    "    else:\n",
    "        phase = (action-23)\n",
    "        traci.trafficlight.setPhase(id[junction_name[5]], phase)\n",
    "    return "
   ]
  },
  {
   "cell_type": "code",
   "execution_count": 24,
   "metadata": {},
   "outputs": [],
   "source": [
    "reward_memory = []\n",
    "def plot_durations():\n",
    "    print('show')\n",
    "    plt.figure(2)\n",
    "    plt.clf()\n",
    "    durations_t = torch.tensor(reward_memory, dtype=torch.float)\n",
    "    plt.title('Training...')\n",
    "    plt.xlabel('Step')\n",
    "    plt.ylabel('Reward')\n",
    "    plt.plot(durations_t.numpy())\n",
    "    # Take 100 episode averages and plot them too\n",
    "    if len(durations_t) >= 100:\n",
    "        means = durations_t.unfold(0, 100, 1).mean(1).view(-1)\n",
    "        means = torch.cat((torch.zeros(99), means))\n",
    "        plt.plot(means.numpy())\n",
    "\n",
    "    plt.pause(0.001)  # pause a bit so that plots are updated"
   ]
  },
  {
   "cell_type": "code",
   "execution_count": 25,
   "metadata": {},
   "outputs": [],
   "source": [
    "start()"
   ]
  },
  {
   "cell_type": "code",
   "execution_count": 35,
   "metadata": {},
   "outputs": [],
   "source": [
    "action = 1\n",
    "set_phase(action)"
   ]
  },
  {
   "cell_type": "code",
   "execution_count": 36,
   "metadata": {},
   "outputs": [],
   "source": [
    "current_phase, hot_encoding_current_phase = get_hot_encoding_current_phase()"
   ]
  },
  {
   "cell_type": "code",
   "execution_count": 37,
   "metadata": {},
   "outputs": [
    {
     "data": {
      "text/plain": [
       "0"
      ]
     },
     "execution_count": 37,
     "metadata": {},
     "output_type": "execute_result"
    }
   ],
   "source": [
    "get_reward()"
   ]
  },
  {
   "cell_type": "code",
   "execution_count": 38,
   "metadata": {},
   "outputs": [
    {
     "name": "stdout",
     "output_type": "stream",
     "text": [
      "[2. 2. 0. 0. 0. 0. 2. 0. 0. 2. 2. 0. 0. 2. 0. 0. 0. 2. 2. 0. 0. 0. 0. 0.\n",
      " 0. 2. 2. 2. 0. 2. 2.]\n"
     ]
    }
   ],
   "source": [
    "state = get_state_attention(current_phase, hot_encoding_current_phase)"
   ]
  },
  {
   "cell_type": "code",
   "execution_count": 52,
   "metadata": {},
   "outputs": [],
   "source": [
    "class MyEnv3(gym.Env):\n",
    "    def __init__(self, env_config):\n",
    "        self.step = 0\n",
    "        self.reward = 0\n",
    "        self.done = False\n",
    "        self.reward_memory = []\n",
    "        self.action_space = gym.spaces.Discrete(25)\n",
    "        self.observation_space = gym.spaces.Box(low=0, high=100, shape=(62,), dtype=np.float16)\n",
    "        \n",
    "    def reset(self):\n",
    "        \n",
    "        self.reward_memory.append(self.reward)\n",
    "        self.step = 0\n",
    "        start()\n",
    "        self.reward = 0\n",
    "        current_phase, hot_encoding_current_phase = get_hot_encoding_current_phase()\n",
    "        state = get_state_attention(current_phase, hot_encoding_current_phase)\n",
    "#         print(state)\n",
    "        self.done = False\n",
    "        if len(self.reward_memory)%100 == 0:\n",
    "            print('memory',self.reward_memory[-10:])\n",
    "        return state \n",
    "    \n",
    "    \n",
    "    def step(self, action):\n",
    "        print(action)\n",
    "        set_phase(action)\n",
    "        print('ok')\n",
    "        current_phase, hot_encoding_current_phase = get_hot_encoding_current_phase()\n",
    "        print('ok2')\n",
    "        self.reward = get_reward()\n",
    "        print('ok3')\n",
    "        state = get_state_attention(current_phase, hot_encoding_current_phase)\n",
    "        print('ok4')\n",
    "        if np.isnan(self.reward) == True:\n",
    "            print('HELP', type(self.reward))\n",
    "        self.step += 1\n",
    "#         print('count', self.count)\n",
    "        self.done = False\n",
    "        if self.step >= 2880: #2880\n",
    "            traci.close()\n",
    "            self.done = True\n",
    "#         print(np.array(state) , self.reward, self.done, {})\n",
    "        \n",
    "        return_state = np.array(state).astype(np.float16)\n",
    "        return return_state , self.reward, self.done, {}"
   ]
  },
  {
   "cell_type": "code",
   "execution_count": 56,
   "metadata": {},
   "outputs": [
    {
     "name": "stdout",
     "output_type": "stream",
     "text": [
      "asd\n",
      "[0. 0. 0. 0. 0. 0. 2. 0. 2. 2. 2. 0. 0. 2. 0. 0. 0. 2. 2. 0. 0. 0. 0. 0.\n",
      " 0. 2. 2. 2. 0. 2. 2.]\n",
      "[0. 0. 0. 0. 0. 0. 2. 0. 2. 2. 2. 0. 0. 2. 0. 0. 0. 2. 2. 0. 0. 0. 0. 0.\n",
      " 0. 2. 2. 2. 0. 2. 2. 0. 0. 1. 0. 0. 0. 0. 0. 0. 0. 1. 0. 0. 0. 0. 0. 0.\n",
      " 0. 0. 0. 1. 0. 0. 1. 0. 0.]\n",
      "action 2\n"
     ]
    },
    {
     "ename": "TypeError",
     "evalue": "'int' object is not callable",
     "output_type": "error",
     "traceback": [
      "\u001b[1;31m---------------------------------------------------------------------------\u001b[0m",
      "\u001b[1;31mTypeError\u001b[0m                                 Traceback (most recent call last)",
      "\u001b[1;32m<ipython-input-56-19b96dcd100d>\u001b[0m in \u001b[0;36m<module>\u001b[1;34m\u001b[0m\n\u001b[0;32m     10\u001b[0m             \u001b[0maction\u001b[0m \u001b[1;33m=\u001b[0m \u001b[0menv\u001b[0m\u001b[1;33m.\u001b[0m\u001b[0maction_space\u001b[0m\u001b[1;33m.\u001b[0m\u001b[0msample\u001b[0m\u001b[1;33m(\u001b[0m\u001b[1;33m)\u001b[0m\u001b[1;33m\u001b[0m\u001b[1;33m\u001b[0m\u001b[0m\n\u001b[0;32m     11\u001b[0m             \u001b[0mprint\u001b[0m\u001b[1;33m(\u001b[0m\u001b[1;34m'action'\u001b[0m \u001b[1;33m,\u001b[0m\u001b[0maction\u001b[0m\u001b[1;33m)\u001b[0m\u001b[1;33m\u001b[0m\u001b[1;33m\u001b[0m\u001b[0m\n\u001b[1;32m---> 12\u001b[1;33m             \u001b[0mobservation\u001b[0m\u001b[1;33m,\u001b[0m \u001b[0mreward\u001b[0m\u001b[1;33m,\u001b[0m \u001b[0mdone\u001b[0m\u001b[1;33m,\u001b[0m \u001b[0minfo\u001b[0m \u001b[1;33m=\u001b[0m \u001b[0menv\u001b[0m\u001b[1;33m.\u001b[0m\u001b[0mstep\u001b[0m\u001b[1;33m(\u001b[0m\u001b[1;36m1\u001b[0m\u001b[1;33m)\u001b[0m\u001b[1;33m\u001b[0m\u001b[1;33m\u001b[0m\u001b[0m\n\u001b[0m\u001b[0;32m     13\u001b[0m             \u001b[1;32mif\u001b[0m \u001b[0mdone\u001b[0m\u001b[1;33m:\u001b[0m\u001b[1;33m\u001b[0m\u001b[1;33m\u001b[0m\u001b[0m\n\u001b[0;32m     14\u001b[0m                 \u001b[0mprint\u001b[0m\u001b[1;33m(\u001b[0m\u001b[1;34m\"Episode finished after {} timesteps\"\u001b[0m\u001b[1;33m)\u001b[0m\u001b[1;33m\u001b[0m\u001b[1;33m\u001b[0m\u001b[0m\n",
      "\u001b[1;31mTypeError\u001b[0m: 'int' object is not callable"
     ]
    }
   ],
   "source": [
    "if __name__ == \"__main__\":\n",
    "    print(\"asd\")\n",
    "    env = MyEnv3(env_config=None)\n",
    "\n",
    "    for i_episode in range(1):\n",
    "        observation = env.reset()\n",
    "        for t in range(1000):\n",
    "            # env.render()\n",
    "            print(observation)\n",
    "            action = env.action_space.sample()\n",
    "            print('action' ,action)\n",
    "            observation, reward, done, info = env.step(action)\n",
    "            if done:\n",
    "                print(\"Episode finished after {} timesteps\")\n",
    "                break\n",
    "    env.close()\n"
   ]
  },
  {
   "cell_type": "code",
   "execution_count": 55,
   "metadata": {},
   "outputs": [],
   "source": [
    "traci.close()"
   ]
  },
  {
   "cell_type": "code",
   "execution_count": 41,
   "metadata": {},
   "outputs": [],
   "source": [
    "# import ray\n",
    "# import ray.tune  as tune\n",
    "# from ray.rllib.utils import merge_dicts\n",
    "# from ray.rllib.agents.dqn.dqn import calculate_rr_weights, \\\n",
    "#     DEFAULT_CONFIG as DQN_CONFIG, DQNTrainer, validate_config\n",
    "# # env = gym.make('CartPole-v0')\n",
    "\n",
    "# def trial_name_id(trial):\n",
    "#     return f\"{trial.trainable_name}_{trial.trial_id}\"\n",
    "\n",
    "# if __name__ == \"__main__\":\n",
    "#     ray.shutdown()\n",
    "#     ray.init(\n",
    "# #              object_store_memory=int(1e9),  # 4gb\n",
    "# #              redis_max_memory=int(1e9)  #2gb\n",
    "#              )\n",
    "#     experiment_spec = tune.Experiment(\n",
    "#         trial_name_creator=trial_name_id,\n",
    "#         name = \"experiment_apex2\",\n",
    "#         run = \"APEX\",\n",
    "#         checkpoint_freq = 3,\n",
    "#         checkpoint_at_end = True,\n",
    "#         log_to_file=True,\n",
    "#         config = {\n",
    "# #         \"optimizer\": merge_dicts(\n",
    "# #             DQN_CONFIG[\"optimizer\"], {\n",
    "# #                 \"max_weight_sync_delay\": 400,\n",
    "# #                 \"num_replay_buffer_shards\": 4,\n",
    "# #                 \"debug\": False\n",
    "# #             }),\n",
    "# #         \"n_step\": 3,\n",
    "#         \"num_gpus\": 0,\n",
    "#         \"dueling\": False,\n",
    "#         \"double_q\": False,\n",
    "#         \"num_workers\": 3,\n",
    "#         \"buffer_size\": 100000,\n",
    "#         \"framework\": \"tf\",\n",
    "#         \"learning_starts\": 2160,\n",
    "#         \"train_batch_size\": 540,\n",
    "# #             \"num_samples\": 20,\n",
    "#         \"rollout_fragment_length\": 5,\n",
    "#         \"target_network_update_freq\": 540,\n",
    "#         \"prioritized_replay\": True,\n",
    "#         \"timesteps_per_iteration\": 1080,\n",
    "# #         \"exploration_config\": {\"type\": \"PerWorkerEpsilonGreedy\"},\n",
    "# #         \"worker_side_prioritization\": True,\n",
    "# #         \"min_iter_time_s\": 30,\n",
    "#         # If set, this will fix the ratio of replayed from a buffer and learned\n",
    "#         # on timesteps to sampled from an environment and stored in the replay\n",
    "#         # buffer timesteps. Otherwise, replay will proceed as fast as possible.\n",
    "# #         \"training_intensity\": None,\n",
    "#          \"worker_side_prioritization\": False,\n",
    " \n",
    "# #             \"gamma\": 0.7,\n",
    "\n",
    "            \n",
    "#             \"env\": MyEnv3 ,\n",
    "\n",
    "            \n",
    "#             }\n",
    "        \n",
    "#         )\n",
    "#     tune.run_experiments(experiment_spec)\n"
   ]
  },
  {
   "cell_type": "code",
   "execution_count": null,
   "metadata": {},
   "outputs": [],
   "source": []
  }
 ],
 "metadata": {
  "kernelspec": {
   "display_name": "Python 3",
   "language": "python",
   "name": "python3"
  },
  "language_info": {
   "codemirror_mode": {
    "name": "ipython",
    "version": 3
   },
   "file_extension": ".py",
   "mimetype": "text/x-python",
   "name": "python",
   "nbconvert_exporter": "python",
   "pygments_lexer": "ipython3",
   "version": "3.8.8"
  }
 },
 "nbformat": 4,
 "nbformat_minor": 4
}
