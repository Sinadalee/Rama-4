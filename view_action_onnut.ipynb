{
 "cells": [
  {
   "cell_type": "code",
   "execution_count": 1,
   "metadata": {},
   "outputs": [],
   "source": [
    "junction_id = {'Onnut': 'cluster_1088409501_272206263_5136790697_70702637',\n",
    "     'PHRAKHANONG' : 'cluster_272206256_272448121_277360977',\n",
    "#      'SUKHUMVIT71' : 'cluster_313173111_3810777044'\n",
    "              }\n",
    "number_phase = [3,3]\n",
    "junction_name = list(junction_id.keys())"
   ]
  },
  {
   "cell_type": "code",
   "execution_count": 2,
   "metadata": {},
   "outputs": [],
   "source": [
    "# import gym\n",
    "# from gym import error, spaces\n",
    "import gym\n",
    "import lxml.etree as ET\n",
    "import csv\n",
    "import json\n",
    "import os, sys\n",
    "sys.path.append(os.path.join('/home/ring/sumo-svn/', 'tools'))\n",
    "import traci\n",
    "import traci.constants as tc\n",
    "import numpy as np\n",
    "from sumolib import checkBinary\n",
    "import datetime\n",
    "import matplotlib\n",
    "import matplotlib.pyplot as plt\n",
    "import torch\n",
    "import copy\n",
    "import random\n",
    "import pandas as pd\n",
    "from multiprocessing.pool import ThreadPool\n",
    "from itertools import zip_longest"
   ]
  },
  {
   "cell_type": "code",
   "execution_count": 3,
   "metadata": {},
   "outputs": [],
   "source": [
    "namelane_csv = pd.read_csv('namelane_ONNUT.csv')\n",
    "namelane_df = pd.DataFrame(namelane_csv, columns = ['name' , 'id'])\n",
    "NAME = namelane_df.set_index('name')\n",
    "ID = namelane_df.set_index('id')"
   ]
  },
  {
   "cell_type": "code",
   "execution_count": 4,
   "metadata": {},
   "outputs": [
    {
     "data": {
      "text/plain": [
       "name\n",
       "ONNUT_EB_0_0_LSXX                           -93727606#1_0\n",
       "ONNUT_NB_0_0_LSXX                           751454884#3_0\n",
       "ONNUT_NB_0_1_XSXX                           751454884#3_1\n",
       "ONNUT_NB_0_2_XSXX                           751454884#3_2\n",
       "ONNUT_NB_1_0_LSXX                           751454884#2_0\n",
       "                                        ...              \n",
       "SUKHUMVIT71_WB_3_1_XSXX    750035412#1-AddedOffRampEdge_1\n",
       "SUKHUMVIT71_WB_3_2_XSXX    750035412#1-AddedOffRampEdge_2\n",
       "SUKHUMVIT71_WB_4_0_XSXX                     750035412#1_0\n",
       "SUKHUMVIT71_WB_4_1_XSXX                     750035412#1_1\n",
       "SUKHUMVIT71_WB_4_2_XSXX                     750035412#1_2\n",
       "Name: id, Length: 124, dtype: object"
      ]
     },
     "execution_count": 4,
     "metadata": {},
     "output_type": "execute_result"
    }
   ],
   "source": [
    "NAME.loc[:,'id']"
   ]
  },
  {
   "cell_type": "code",
   "execution_count": 5,
   "metadata": {},
   "outputs": [],
   "source": [
    "namedetector_csv = pd.read_csv('namedetector_ONNUT_extend.csv')\n",
    "namedetector_df = pd.DataFrame(namedetector_csv, columns = ['name' , 'id'])\n",
    "NAME_D = namedetector_df.set_index('name')\n",
    "ID_D = namedetector_df.set_index('id')\n",
    "listdetector = open(\"namedetector_ONNUT_extend.txt\", \"r\")\n",
    "detector = {}\n",
    "for l in listdetector:\n",
    "    l = l.strip().split(' ')\n",
    "    if len(l)> 1:\n",
    "        d = []\n",
    "        for detec in l[2:]:\n",
    "            if type(NAME_D.loc[detec,'id']) == str:\n",
    "                d.append(NAME_D.loc[detec,'id'])\n",
    "            else : d.append(NAME_D.loc[detec,'id'][0])\n",
    "    detector[str(l[0])] = d\n",
    "list_detector= list(detector.keys())"
   ]
  },
  {
   "cell_type": "code",
   "execution_count": 6,
   "metadata": {},
   "outputs": [
    {
     "data": {
      "text/html": [
       "<div>\n",
       "<style scoped>\n",
       "    .dataframe tbody tr th:only-of-type {\n",
       "        vertical-align: middle;\n",
       "    }\n",
       "\n",
       "    .dataframe tbody tr th {\n",
       "        vertical-align: top;\n",
       "    }\n",
       "\n",
       "    .dataframe thead th {\n",
       "        text-align: right;\n",
       "    }\n",
       "</style>\n",
       "<table border=\"1\" class=\"dataframe\">\n",
       "  <thead>\n",
       "    <tr style=\"text-align: right;\">\n",
       "      <th></th>\n",
       "      <th>id</th>\n",
       "    </tr>\n",
       "    <tr>\n",
       "      <th>name</th>\n",
       "      <th></th>\n",
       "    </tr>\n",
       "  </thead>\n",
       "  <tbody>\n",
       "    <tr>\n",
       "      <th>ONNUT_SB_0_0_LSXX</th>\n",
       "      <td>D824116560#3_0</td>\n",
       "    </tr>\n",
       "    <tr>\n",
       "      <th>ONNUT_SB_0_1_XSXX</th>\n",
       "      <td>D824116560#3_1</td>\n",
       "    </tr>\n",
       "    <tr>\n",
       "      <th>ONNUT_SB_0_2_XSXX</th>\n",
       "      <td>D824116560#3_2</td>\n",
       "    </tr>\n",
       "    <tr>\n",
       "      <th>ONNUT_SB_0_3_XSXX</th>\n",
       "      <td>D824116560#3_3</td>\n",
       "    </tr>\n",
       "    <tr>\n",
       "      <th>ONNUT_SB_1_0_LSXX</th>\n",
       "      <td>D824116560#2_0</td>\n",
       "    </tr>\n",
       "  </tbody>\n",
       "</table>\n",
       "</div>"
      ],
      "text/plain": [
       "                               id\n",
       "name                             \n",
       "ONNUT_SB_0_0_LSXX  D824116560#3_0\n",
       "ONNUT_SB_0_1_XSXX  D824116560#3_1\n",
       "ONNUT_SB_0_2_XSXX  D824116560#3_2\n",
       "ONNUT_SB_0_3_XSXX  D824116560#3_3\n",
       "ONNUT_SB_1_0_LSXX  D824116560#2_0"
      ]
     },
     "execution_count": 6,
     "metadata": {},
     "output_type": "execute_result"
    }
   ],
   "source": [
    "NAME_D.head()"
   ]
  },
  {
   "cell_type": "code",
   "execution_count": 7,
   "metadata": {},
   "outputs": [
    {
     "data": {
      "text/plain": [
       "{'ONNUT_SB_FP1_END': ['D824116560#3_0',\n",
       "  'D824116560#3_1',\n",
       "  'D824116560#3_2',\n",
       "  'D824116560#3_3',\n",
       "  'D824116560#2_0',\n",
       "  'D824116560#2_1',\n",
       "  'D824116560#2_2',\n",
       "  'D824116560#2_3',\n",
       "  'D824116560#1_0',\n",
       "  'D824116560#1_1',\n",
       "  'D824116560#1_2',\n",
       "  'D824116560#1_3',\n",
       "  'D824116560#0_0',\n",
       "  'D824116560#0_1',\n",
       "  'D824116560#0_2',\n",
       "  'D824116560#0_3',\n",
       "  'D824816455_0',\n",
       "  'D824816455_1',\n",
       "  'D824816455_2'],\n",
       " 'ONNUT_WB_FP2_END': ['D156591171#2_0',\n",
       "  'D156591171#2_1',\n",
       "  'D156591171#2_2',\n",
       "  'D156591171#0_0',\n",
       "  'D156591171#0_1',\n",
       "  'D156591171#0_2'],\n",
       " 'ONNUT_WB_FP1_TP2': ['D-824456409#0_0',\n",
       "  'D-824456409#0_1',\n",
       "  'D-824456409#4_0',\n",
       "  'D-824456409#4_1',\n",
       "  'D-824456409#5_0',\n",
       "  'D-824456409#5_1',\n",
       "  'D-113135397#0_0',\n",
       "  'D-113135397#0_1'],\n",
       " 'PHRAKHANONG_EB_FP1_TP2': ['D336620983#5_0',\n",
       "  'D336620983#5_1',\n",
       "  'D336620983#5_2'],\n",
       " 'SUKHUMVIT71_SB_FP2_TP3': ['D156591249#1_0',\n",
       "  'D156591249#1_1',\n",
       "  'D156591249#0.2206_0',\n",
       "  'D156591249#0.2206_1'],\n",
       " 'ONNUT_SB_FP2_TP3': ['D300825126#0_0',\n",
       "  'D300825126#0_1',\n",
       "  'D300825126#0_2',\n",
       "  'D300825126#0-AddedOffRampEdge_0',\n",
       "  'D300825126#0-AddedOffRampEdge_1',\n",
       "  'D300825126#0-AddedOffRampEdge_2',\n",
       "  'D824116561_0',\n",
       "  'D824116561_1',\n",
       "  'D824116561_2',\n",
       "  'D824116561-AddedOffRampEdge_0',\n",
       "  'D824116561-AddedOffRampEdge_1',\n",
       "  'D824116561-AddedOffRampEdge_2'],\n",
       " 'PHRAKHANONG_EB_FP3_TP1': ['D336620983#0_0',\n",
       "  'D336620983#0_1',\n",
       "  'D336620983#0_2'],\n",
       " 'PHRAKHANONG_EB_SUKHUMVIT71_WB_TP2_VP5_TP3': ['D336620983#5_0',\n",
       "  'D336620983#5_1',\n",
       "  'D336620983#5_2',\n",
       "  'D336620983#7_0',\n",
       "  'D336620983#7_1',\n",
       "  'D336620983#7_2',\n",
       "  'D824816458#0_0',\n",
       "  'D824816458#0_1',\n",
       "  'D824816458#0_2']}"
      ]
     },
     "execution_count": 7,
     "metadata": {},
     "output_type": "execute_result"
    }
   ],
   "source": [
    "detector"
   ]
  },
  {
   "cell_type": "code",
   "execution_count": 8,
   "metadata": {},
   "outputs": [],
   "source": [
    "def get_mean_speed():\n",
    "    \n",
    "    speed = [traci.lanearea.getLastStepMeanSpeed(e) for e in NAME_D.loc[:,'id'] if traci.lanearea.getLastStepMeanSpeed(e)>=0]\n",
    "#     print(speed)\n",
    "    mean_speed = sum(speed)/max(len(speed),1)\n",
    "#     print('speed',mean_speed)\n",
    "    return mean_speed"
   ]
  },
  {
   "cell_type": "code",
   "execution_count": 9,
   "metadata": {},
   "outputs": [],
   "source": [
    "def get_hot_encoding_current_phase():\n",
    "    number_phase = [3,3]\n",
    "    current_phase = [traci.trafficlight.getPhase(junction_id[key]) for key in junction_id.keys()]\n",
    "#     current_phase = [0,2,1,1,1,1]\n",
    "    hot_encoding_current_phase = np.array([])\n",
    "    for i in range(len(current_phase)):\n",
    "        binary_phase = np.zeros(number_phase[i])\n",
    "        binary_phase[current_phase[i]] = 1\n",
    "        hot_encoding_current_phase = np.concatenate((hot_encoding_current_phase, binary_phase), axis=None)\n",
    "    return current_phase, hot_encoding_current_phase\n"
   ]
  },
  {
   "cell_type": "code",
   "execution_count": 10,
   "metadata": {},
   "outputs": [],
   "source": [
    "# ID.loc['']#, '820373198#0', '820373196#0', '482209831#0']"
   ]
  },
  {
   "cell_type": "code",
   "execution_count": 11,
   "metadata": {},
   "outputs": [],
   "source": [
    "def get_state_attention(current_phase, hot_encoding_current_phase):\n",
    "#     current_phase = [ONNUT_PHASE]\n",
    "    MAP_ONNUT = {0: ['ONNUT_WB_FP1_TP2', 'ONNUT_SB_FP1_END'],\n",
    "                 1: ['ONNUT_SB_FP1_END', 'ONNUT_WB_FP1_TP2'],\n",
    "                 2: ['ONNUT_WB_FP2_END'],\n",
    "                }\n",
    "    MAP = [MAP_ONNUT]\n",
    "    state_attention = np.zeros(3)\n",
    "    for i in range(1):\n",
    "        for e in MAP[i][current_phase[i]]:\n",
    "            occupancy = get_occupancy_average_percent(detector[e]) \n",
    "            Index_detector = list_detector.index(e) \n",
    "            state_attention[Index_detector] = occupancy\n",
    "#     print(state_attention)\n",
    "    state = np.concatenate((state_attention, hot_encoding_current_phase), axis=None)\n",
    "    return state"
   ]
  },
  {
   "cell_type": "code",
   "execution_count": 12,
   "metadata": {},
   "outputs": [],
   "source": [
    "def read_summary_xml(dateTimeObj):\n",
    "    meanWaitingTime = []\n",
    "    meanTravelTime = []\n",
    "    meanSpeed = []\n",
    "    tree = ET.parse('summary/summary3'+dateTimeObj+'.xml')\n",
    "    summary = tree.getroot()\n",
    "    for step in summary:\n",
    "        list1 = step.attrib\n",
    "        meanWaitingTime.append(float(list1[\"meanWaitingTime\"]))\n",
    "        meanTravelTime.append(float(list1[\"meanTravelTime\"]))\n",
    "        meanSpeed.append(float(list1[\"meanSpeed\"]))\n",
    "    meanWaitingTime_avg = sum(meanWaitingTime)/len(meanWaitingTime)\n",
    "    meanTravelTime_avg = sum(meanTravelTime)/len(meanTravelTime)\n",
    "    meanSpeed_avg = sum(meanSpeed)/len(meanSpeed)\n",
    "    os.remove('summary/summary3'+dateTimeObj+'.xml')\n",
    "    return meanWaitingTime_avg,meanTravelTime_avg,meanSpeed_avg"
   ]
  },
  {
   "cell_type": "code",
   "execution_count": 13,
   "metadata": {},
   "outputs": [],
   "source": [
    "#reset the environment\n",
    "def start(dateTimeObj):\n",
    "    sumoBinary = checkBinary('sumo-gui')\n",
    "    traci.start([sumoBinary, \"-c\", \"Onnut/onnut.sumocfg\",\n",
    "#                              \"--summary-output\", \"summary/summary3\"+dateTimeObj+\".xml\", \n",
    "                 '--start','true','--quit-on-end','true','--time-to-teleport','-1',\n",
    "                '--lanechange.duration', '0.1'])"
   ]
  },
  {
   "cell_type": "code",
   "execution_count": 14,
   "metadata": {},
   "outputs": [],
   "source": [
    "def get_occupancy_average_percent(detector_id): \n",
    "    #get occupancy average for all detector in list of detector_id and scale by (Vehicle Length + MinimumGap)/MinimumGap \n",
    "    #Vehicle Length = 4.62 MinimumGap = 2.37\n",
    "    occupancy = (sum([traci.lanearea.getLastStepOccupancy(e)*traci.lanearea.getLength(e) for e in detector_id]))/\\\n",
    "                 sum([traci.lanearea.getLength(e) for e in detector_id])*((4.62+2.37)/4.62)\n",
    "#     print(occupancy)\n",
    "    return occupancy"
   ]
  },
  {
   "cell_type": "code",
   "execution_count": 15,
   "metadata": {},
   "outputs": [],
   "source": [
    "def get_throughput():\n",
    "    loopID = traci.inductionloop.getIDList()\n",
    "    throughput = sum([traci.inductionloop.getLastStepVehicleNumber(i) for i in loopID if traci.inductionloop.getLastStepMeanSpeed(i) > 0])  #if traci.inductionloop.getLastStepMeanSpeed(i) > 0\n",
    "    return throughput"
   ]
  },
  {
   "cell_type": "code",
   "execution_count": 16,
   "metadata": {},
   "outputs": [],
   "source": [
    "def get_drawback():\n",
    "#     laneID = traci.lane.getIDList()\n",
    "    drawback = sum([traci.lanearea.getLastStepVehicleNumber(i) for i in NAME_D.loc[:,'id']])\n",
    "    return drawback"
   ]
  },
  {
   "cell_type": "code",
   "execution_count": 17,
   "metadata": {},
   "outputs": [],
   "source": [
    "def get_reward():\n",
    "    throughput = 0\n",
    "    for i in range(15):\n",
    "        traci.simulationStep()\n",
    "        throughput += get_throughput()\n",
    "    \n",
    "    drawback = get_drawback()\n",
    "    reward = throughput - 0.04*drawback\n",
    "    return reward, throughput, drawback"
   ]
  },
  {
   "cell_type": "code",
   "execution_count": 18,
   "metadata": {},
   "outputs": [],
   "source": [
    "number_phase = [3]\n",
    "def set_current_phase(action, current_phase):\n",
    "    if action < 3:\n",
    "        phase = action\n",
    "        current_phase[0] = phase\n",
    "    for i in range (1):\n",
    "        traci.trafficlight.setPhase(junction_id[junction_name[i]], current_phase[i])\n",
    "    return "
   ]
  },
  {
   "cell_type": "code",
   "execution_count": 19,
   "metadata": {},
   "outputs": [],
   "source": [
    "# ''.join(str(datetime.datetime.now()).split(' '))"
   ]
  },
  {
   "cell_type": "code",
   "execution_count": 20,
   "metadata": {},
   "outputs": [],
   "source": [
    "reward_memory = []\n",
    "def plot_durations():\n",
    "    print('show')\n",
    "    plt.figure(2)\n",
    "    plt.clf()\n",
    "    durations_t = torch.tensor(reward_memory, dtype=torch.float)\n",
    "    plt.title('Training...')\n",
    "    plt.xlabel('Step')\n",
    "    plt.ylabel('Reward')\n",
    "    plt.plot(durations_t.numpy())\n",
    "    # Take 100 episode averages and plot them too\n",
    "    if len(durations_t) >= 100:\n",
    "        means = durations_t.unfold(0, 100, 1).mean(1).view(-1)\n",
    "        means = torch.cat((torch.zeros(99), means))\n",
    "        plt.plot(means.numpy())\n",
    "\n",
    "    plt.pause(0.001)  # pause a bit so that plots are updated"
   ]
  },
  {
   "cell_type": "code",
   "execution_count": 21,
   "metadata": {},
   "outputs": [],
   "source": [
    "class MyEnv3(gym.Env):\n",
    "    def __init__(self, env_config):\n",
    "        self.nearkill = 0\n",
    "        self.episode = 0\n",
    "        self.count = 0\n",
    "        self.reward = 0\n",
    "        self.rewards = 0\n",
    "        self.throughputs = 0\n",
    "        self.drawbacks = 0\n",
    "        self.current_phase = [1]\n",
    "        self.done = False\n",
    "        self.reward_memory = []\n",
    "        self.log_action = []\n",
    "        self.action_space = gym.spaces.Discrete(3)\n",
    "        self.observation_space = gym.spaces.Box(low=-1, high=200, shape=(9,), dtype=np.float16)\n",
    "        self.dateTimeObj = ''\n",
    "        print(self.dateTimeObj)\n",
    "        with open( \"./Raytest/ray_results/onnut_occ.csv\" , 'w', newline='') as csv_file:\n",
    "                header = ['rewards', 'throughput','backlog',\"meanWaitingTime\", \"meanTravelTime\",\"meanSpeed\",\"action\"]\n",
    "                writer = csv.DictWriter(csv_file, fieldnames = header)\n",
    "                writer.writeheader()\n",
    "        \n",
    "    def reset(self):\n",
    "        self.nearkill = 0\n",
    "        self.episode += 1\n",
    "        self.log_action = []\n",
    "        self.reward_memory.append(self.rewards)\n",
    "        self.count = 0\n",
    "        dateTimeObj = datetime.datetime.now()\n",
    "        self.dateTimeObj = dateTimeObj.strftime(\"%d-%b-%Y-%H-%M-%S-%f\")\n",
    "#         print(type(self.dateTimeObj))\n",
    "        start(self.dateTimeObj)\n",
    "        self.reward = 0\n",
    "        self.rewards = 0\n",
    "        self.throughputs = 0\n",
    "        self.backlogs = 0\n",
    "        print(self.reward_memory)\n",
    "        current_phase, hot_encoding_current_phase = get_hot_encoding_current_phase()\n",
    "        state = get_state_attention(current_phase, hot_encoding_current_phase)\n",
    "#         print(state)\n",
    "        self.done = False\n",
    "        self.current_phase = current_phase\n",
    "        if len(self.reward_memory)%100 == 0:\n",
    "            print('memory',self.reward_memory[-10:])\n",
    "        return state \n",
    "    \n",
    "    \n",
    "    def step(self, action):\n",
    "        set_current_phase(action, self.current_phase)\n",
    "#         print(action)\n",
    "        current_phase, hot_encoding_current_phase = get_hot_encoding_current_phase()\n",
    "        self.reward, throughput, drawback= get_reward()\n",
    "        self.rewards += self.reward\n",
    "        self.throughputs += throughput\n",
    "        self.drawbacks += drawback\n",
    "        state = get_state_attention(current_phase, hot_encoding_current_phase)\n",
    "        if np.isnan(self.reward) == True:\n",
    "            print('HELP', type(self.reward))\n",
    "        self.count += 1\n",
    "        self.current_phase = current_phase\n",
    "        self.log_action.append(str(action))\n",
    "#         print('count', self.count)\n",
    "        self.done = False\n",
    "        mean_speed = get_mean_speed() \n",
    "        if mean_speed <= 2:\n",
    "            self.nearkill += 1\n",
    "        if mean_speed <= 2 and self.count >= 200 and self.nearkill > 10: #2880\n",
    "            self.nearkill = 0\n",
    "            traci.close()\n",
    "            self.rewards -= 100000\n",
    "            self.reward -= 100000\n",
    "            self.done = True\n",
    "            meanWaitingTime_avg = 0\n",
    "            meanTravelTime_avg = 0\n",
    "            meanSpeed_avg = 0\n",
    "#             meanWaitingTime_avg,meanTravelTime_avg,meanSpeed_avg = read_summary_xml(self.dateTimeObj)\n",
    "            data_set = {\"rewards\": self.rewards, \"meanWaitingTime\": meanWaitingTime_avg, \"meanTravelTime\": meanTravelTime_avg,\n",
    "                       \"meanSpeed\": mean_speed, \"throughput\": self.throughputs, \"backlog\": self.backlogs/2880, \n",
    "                        \"action\":self.log_action\n",
    "                       }\n",
    "            \n",
    "            self.json_dump = json.dumps(data_set)\n",
    "#             if self.episode%20 == 0:\n",
    "#                 self.log_action_json = json.dumps(self.log_action)\n",
    "#                 with open( \"./Raytest/ray_results/action\"+self.dateTimeObj+\".csv\" , 'a', newline='') as csv_file:\n",
    "#                     header = ['action']\n",
    "#                     writer = csv.DictWriter(csv_file, fieldnames = header)\n",
    "#                     writer.writerow({'action': self.log_action})\n",
    "                                 \n",
    "            with open(\"./Raytest/ray_results/onnut_occ.csv\" , 'a', newline='') as csv_file:\n",
    "                header = ['rewards', 'throughput','backlog',\"meanWaitingTime\", \"meanTravelTime\",\"meanSpeed\",\"action\"]\n",
    "                writer = csv.DictWriter(csv_file, fieldnames = header)\n",
    "                writer.writerow({'rewards': self.rewards, \n",
    "                                 'throughput': self.throughputs,\n",
    "                                'backlog': self.backlogs/2880,\n",
    "                                \"meanWaitingTime\": meanWaitingTime_avg, \"meanTravelTime\": meanTravelTime_avg,\n",
    "                       \"meanSpeed\": mean_speed, \"action\":self.log_action})\n",
    "        if self.count >= 960: #2880\n",
    "            traci.close()\n",
    "            self.done = True\n",
    "            meanWaitingTime_avg = 0\n",
    "            meanTravelTime_avg = 0\n",
    "            meanSpeed_avg = 0\n",
    "#             meanWaitingTime_avg,meanTravelTime_avg,meanSpeed_avg = read_summary_xml(self.dateTimeObj)\n",
    "            data_set = {\"rewards\": self.rewards, \"meanWaitingTime\": meanWaitingTime_avg, \"meanTravelTime\": meanTravelTime_avg,\n",
    "                       \"meanSpeed\": mean_speed, \"throughput\": self.throughputs, \"backlog\": self.backlogs/2880, \n",
    "                        \"action\":self.log_action\n",
    "                       }\n",
    "            \n",
    "            self.json_dump = json.dumps(data_set)\n",
    "#             if self.episode%20 == 0:\n",
    "#                 self.log_action_json = json.dumps(self.log_action)\n",
    "#                 with open( \"./Raytest/ray_results/action\"+self.dateTimeObj+\".csv\" , 'a', newline='') as csv_file:\n",
    "#                     header = ['action']\n",
    "#                     writer = csv.DictWriter(csv_file, fieldnames = header)\n",
    "#                     writer.writerow({'action': self.log_action})\n",
    "                                 \n",
    "            with open( \"./Raytest/ray_results/onnut_occ.csv\" , 'a', newline='') as csv_file:\n",
    "                header = ['rewards', 'throughput','backlog',\"meanWaitingTime\", \"meanTravelTime\",\"meanSpeed\",\"action\"]\n",
    "                writer = csv.DictWriter(csv_file, fieldnames = header)\n",
    "                writer.writerow({'rewards': self.rewards, \n",
    "                                 'throughput': self.throughputs,\n",
    "                                'backlog': self.backlogs/2880,\n",
    "                                \"meanWaitingTime\": meanWaitingTime_avg, \"meanTravelTime\": meanTravelTime_avg,\n",
    "                       \"meanSpeed\": meanSpeed_avg, \"action\":self.log_action})\n",
    "\n",
    "        \n",
    "        return_state = np.array(state).astype(np.float16)\n",
    "#         print(return_state)\n",
    "        info = {\"throughput\": throughput,\n",
    "                \"drawback\":drawback\n",
    "                }\n",
    "        info = {**info}\n",
    "#         print(info)\n",
    "        return np.int8(return_state) , self.reward, self.done, info"
   ]
  },
  {
   "cell_type": "code",
   "execution_count": 22,
   "metadata": {},
   "outputs": [],
   "source": [
    "police_action = [[1, None], [1, None], [1, None], [1, None], [2, None], [2, None], [2, None], [2, None], [2, None], [2, None], [2, None], [2, None], [2, None], [2, None], [1, None], [1, None], [1, None], [1, None], [1, None], [2, None], [2, None], [2, None], [2, None], [2, None], [2, None], [2, None], [2, None], [2, None], [2, None], [2, None], [2, None], [2, None], [1, None], [1, None], [1, None], [1, None], [1, None], [2, None], [2, None], [2, None], [2, None], [2, None], [2, None], [2, None], [2, None], [2, None], [2, None], [2, None], [2, None], [2, None], [1, None], [1, None], [1, None], [1, None], [1, None], [1, None], [1, None], [1, None], [1, None], [1, None], [1, None], [1, None], [1, None], [1, None], [1, None], [1, None], [1, None], [1, None], [1, None], [2, None], [2, None], [2, None], [2, None], [2, None], [2, None], [2, None], [2, None], [2, None], [2, None], [2, None], [2, None], [2, None], [1, None], [1, None], [1, None], [1, None], [1, None], [1, None], [1, None], [1, None], [1, None], [1, None], [1, None], [1, None], [1, None], [2, None], [2, None], [2, None], [2, None], [2, None], [2, None], [2, None], [2, None], [2, None], [2, None], [2, None], [2, None], [2, None], [1, None], [1, None], [1, None], [1, None], [1, None], [1, None], [1, None], [1, None], [1, None], [1, None], [1, None], [1, None], [1, None], [1, None], [1, None], [1, None], [1, None], [1, None], [1, None], [2, None], [2, None], [2, None], [2, None], [2, None], [2, None], [2, None], [2, None], [2, None], [2, None], [2, None], [2, None], [2, None], [1, None], [1, None], [1, None], [1, None], [1, None], [1, None], [1, None], [1, None], [1, None], [1, None], [1, None], [1, None], [1, None], [1, None], [1, None], [1, None], [1, None], [1, None], [1, None], [2, None], [2, None], [2, None], [2, None], [2, None], [2, None], [2, None], [2, None], [2, None], [2, None], [2, None], [2, None], [2, None], [1, None], [1, None], [1, None], [1, None], [1, None], [1, None], [1, None], [1, None], [1, None], [1, None], [1, None], [1, None], [1, None], [1, None], [1, None], [1, None], [1, None], [1, None], [1, None], [2, None], [2, None], [2, None], [2, None], [2, None], [2, None], [2, None], [2, None], [2, None], [2, None], [2, None], [2, None], [2, None], [1, None], [1, None], [1, None], [1, None], [1, None], [1, None], [1, None], [1, None], [1, None], [1, None], [1, None], [1, None], [1, None], [1, None], [1, None], [1, None], [1, None], [1, None], [1, None], [2, None], [2, None], [2, None], [2, None], [2, None], [2, None], [2, None], [2, None], [2, None], [2, None], [2, None], [2, None], [2, None], [1, None], [1, None], [1, None], [1, None], [1, None], [1, None], [1, None], [1, None], [1, None], [1, None], [1, None], [1, None], [1, None], [1, None], [1, None], [1, None], [1, None], [1, None], [1, None], [2, None], [2, None], [2, None], [2, None], [2, None], [2, None], [2, None], [2, None], [2, None], [2, None], [2, None], [2, None], [2, None], [1, None], [1, None], [1, None], [1, None], [1, None], [1, None], [1, None], [1, None], [1, None], [1, None], [1, None], [1, None], [1, None], [1, None], [1, None], [1, None], [1, None], [1, None], [1, None], [2, None], [2, None], [2, None], [2, None], [2, None], [2, None], [2, None], [2, None], [2, None], [2, None], [2, None], [2, None], [2, None], [1, None], [1, None], [1, None], [1, None], [1, None], [1, None], [1, None], [1, None], [1, None], [1, None], [1, None], [1, None], [1, None], [1, None], [1, None], [1, None], [1, None], [1, None], [1, None], [2, None], [2, None], [2, None], [2, None], [2, None], [2, None], [2, None], [2, None], [2, None], [2, None], [2, None], [2, None], [2, None], [1, None], [1, None], [1, None], [1, None], [1, None], [1, None], [1, None], [1, None], [1, None], [1, None], [1, None], [1, None], [1, None], [1, None], [1, None], [1, None], [1, None], [1, None], [1, None], [2, None], [2, None], [2, None], [2, None], [2, None], [2, None], [2, None], [2, None], [2, None], [2, None], [2, None], [2, None], [1, None], [1, None], [1, None], [1, None], [1, None], [1, None], [1, None], [1, None], [1, None], [1, None], [1, None], [1, None], [1, None], [1, None], [1, None], [1, None], [1, None], [1, None], [1, None], [2, None], [2, None], [2, None], [2, None], [2, None], [2, None], [2, None], [2, None], [2, None], [2, None], [2, None], [2, None], [2, None], [1, None], [1, None], [1, None], [1, None], [1, None], [1, None], [1, None], [1, None], [1, None], [1, None], [1, None], [1, None], [1, None], [1, None], [1, None], [1, None], [1, None], [1, None], [1, None], [2, None], [2, None], [2, None], [2, None], [2, None], [2, None], [2, None], [2, None], [2, None], [2, None], [2, None], [2, None], [2, None], [1, None], [1, None], [1, None], [1, None], [1, None], [1, None], [1, None], [1, None], [1, None], [1, None], [1, None], [1, None], [1, None], [1, None], [1, None], [1, None], [1, None], [1, None], [1, None], [2, None], [2, None], [2, None], [2, None], [2, None], [2, None], [2, None], [2, None], [2, None], [2, None], [2, None], [2, None], [2, None], [1, None], [1, None], [1, None], [1, None], [1, None], [1, None], [1, None], [1, None], [1, None], [1, None], [1, None], [1, None], [1, None], [1, None], [1, None], [1, None], [1, None], [1, None], [1, None], [2, None], [2, None], [2, None], [2, None], [2, None], [2, None], [2, None], [2, None], [2, None], [2, None], [2, None], [2, None], [2, None], [1, None], [1, None], [1, None], [1, None], [1, None], [1, None], [1, None], [1, None], [1, None], [1, None], [1, None], [1, None], [1, None], [1, None], [1, None], [1, None], [1, None], [1, None], [1, None], [2, None], [2, None], [2, None], [2, None], [2, None], [2, None], [2, None], [2, None], [2, None], [2, None], [2, None], [2, None], [2, None], [1, None], [1, None], [1, None], [1, None], [1, None], [1, None], [1, None], [1, None], [1, None], [1, None], [1, None], [1, None], [1, None], [1, None], [1, None], [1, None], [1, None], [1, None], [1, None], [2, None], [2, None], [2, None], [2, None], [2, None], [2, None], [2, None], [2, None], [2, None], [2, None], [2, None], [2, None], [2, None], [1, None], [1, None], [1, None], [1, None], [1, None], [1, None], [1, None], [1, None], [1, None], [1, None], [1, None], [1, None], [1, None], [1, None], [1, None], [1, None], [1, None], [1, None], [1, None], [2, None], [2, None], [2, None], [2, None], [2, None], [2, None], [2, None], [2, None], [2, None], [2, None], [2, None], [2, None], [2, None], [1, None], [1, None], [1, None], [1, None], [1, None], [1, None], [1, None], [1, None], [1, None], [1, None], [1, None], [1, None], [1, None], [1, None], [1, None], [1, None], [1, None], [1, None], [1, None], [2, None], [2, None], [2, None], [2, None], [2, None], [2, None], [2, None], [2, None], [2, None], [2, None], [2, None], [2, None], [2, None], [1, None], [1, None], [1, None], [1, None], [1, None], [1, None], [1, None], [1, None], [1, None], [1, None], [1, None], [1, None], [1, None], [1, None], [1, None], [1, None], [1, None], [1, None], [1, None], [2, None], [2, None], [2, None], [2, None], [2, None], [2, None], [2, None], [2, None], [2, None], [2, None], [2, None], [2, None], [2, None], [1, None], [1, None], [1, None], [1, None], [1, None], [1, None], [1, None], [1, None], [1, None], [1, None], [1, None], [1, None], [1, None], [1, None], [1, None], [1, None], [1, None], [1, None], [1, None], [2, None], [2, None], [2, None], [2, None], [2, None], [2, None], [2, None], [2, None], [2, None], [2, None], [2, None], [2, None], [2, None], [1, None], [1, None], [1, None], [1, None], [1, None], [1, None], [1, None], [1, None], [1, None], [1, None], [1, None], [1, None], [1, None], [1, None], [1, None], [1, None], [1, None], [1, None], [1, None], [2, None], [2, None], [2, None], [2, None], [2, None], [2, None], [2, None], [2, None], [2, None], [2, None], [2, None], [2, None], [2, None], [1, None], [1, None], [1, None], [1, None], [1, None], [1, None], [1, None], [1, None], [1, None], [1, None], [1, None], [1, None], [1, None], [1, None], [1, None], [1, None], [1, None], [1, None], [1, None], [2, None], [2, None], [2, None], [2, None], [2, None], [2, None], [2, None], [2, None], [2, None], [2, None], [2, None], [2, None], [2, None], [1, None], [1, None], [1, None], [1, None], [1, None], [1, None], [1, None], [1, None], [1, None], [1, None], [1, None], [1, None], [1, None], [1, None], [1, None], [1, None], [1, None], [1, None], [1, None], [2, None], [2, None], [2, None], [2, None], [2, None], [2, None], [2, None], [2, None], [2, None], [2, None], [2, None], [2, None], [2, None], [1, None], [1, None], [1, None], [1, None], [1, None], [1, None], [1, None], [1, None], [1, None], [1, None], [1, None], [1, None], [1, None], [1, None], [1, None], [1, None], [1, None], [1, None], [1, None], [2, None], [2, None], [2, None], [2, None], [2, None], [2, None], [2, None], [2, None], [2, None], [2, None], [2, None], [2, None], [2, None], [1, None], [1, None], [1, None], [1, None], [1, None], [1, None], [1, None], [1, None], [1, None], [1, None], [1, None], [1, None], [1, None], [1, None], [1, None], [1, None], [1, None], [1, None], [1, None], [2, None], [2, None], [2, None], [2, None], [2, None], [2, None], [2, None], [2, None], [2, None], [2, None], [2, None], [2, None], [2, None], [1, None], [1, None], [1, None], [1, None], [1, None], [1, None], [1, None], [1, None], [1, None], [1, None], [1, None], [1, None], [1, None], [1, None], [1, None], [1, None], [1, None], [1, None], [1, None], [2, None], [2, None], [2, None], [2, None], [2, None], [2, None], [2, None], [2, None], [2, None], [2, None], [2, None], [2, None], [2, None], [1, None], [1, None], [1, None], [1, None], [1, None], [1, None], [1, None], [1, None], [1, None], [1, None], [1, None], [1, None], [1, None], [1, None], [1, None], [1, None], [1, None], [1, None], [1, None], [2, None], [2, None], [2, None], [2, None], [2, None], [2, None], [2, None], [2, None], [2, None], [2, None], [2, None], [2, None], [2, None], [1, None], [1, None], [1, None], [1, None], [1, None], [1, None], [1, None], [1, None], [1, None], [1, None], [1, None], [1, None], [1, None], [1, None], [1, None], [1, None], [1, None], [1, None], [1, None], [2, None], [2, None], [2, None], [2, None], [2, None], [2, None], [2, None], [2, None], [2, None], [2, None], [2, None], [2, None], [2, None], [1, None], [1, None], [1, None], [1, None], [1, None], [1, None], [1, None], [1, None], [1, None], [1, None], [1, None], [1, None], [1, None], [1, None], [1, None], [1, None], [1, None], [1, None], [1, None], [2, None], [2, None], [2, None], [2, None], [2, None], [2, None], [2, None], [2, None], [2, None], [2, None], [2, None], [2, None], [2, None], [1, None], [1, None], [1, None], [1, None], [1, None], [1, None], [1, None], [1, None], [1, None], [1, None], [1, None], [1, None], [1, None], [1, None], [1, None], [1, None], [1, None], [1, None], [1, None], [2, None], [2, None], [2, None], [2, None], [2, None], [2, None], [2, None], [2, None], [1, None], [1, None], [1, None], [1, None], [1, None], [1, None], [1, None], [1, None], [1, None], [1, None], [1, None], [1, None], [1, None], [1, None], [1, None], [1, None], [1, None], [1, None], [1, None], [2, None], [2, None], [2, None], [2, None], [2, None], [2, None], [2, None], [2, None], [2, None], [2, None], [2, None], [2, None], [2, None], [1, None], [1, None], [1, None], [1, None], [1, None], [1, None], [1, None], [1, None], [1, None], [1, None], [1, None], [1, None], [1, None], [1, None], [1, None], [1, None], [1, None], [1, None], [1, None], [2, None], [2, None], [2, None], [2, None], [2, None], [2, None], [2, None], [2, None], [2, None], [2, None], [2, None], [2, None], [2, None], [1, None], [1, None], [1, None], [1, None], [1, None], [1, None], [1, None], [1, None], [1, None], [1, None], [1, None], [1, None], [1, None], [1, None], [1, None], [1, None], [1, None], [1, None], [1, None], [2, None], [2, None], [2, None], [2, None], [2, None], [2, None], [2, None], [2, None], [2, None], [2, None], [2, None], [2, None], [2, None], [1, None], [1, None], [1, None], [1, None], [1, None], [1, None], [1, None], [1, None], [1, None], [1, None], [1, None], [1, None], [1, None], [1, None], [1, None], [1, None], [1, None], [1, None], [1, None], [2, None], [2, None], [2, None], [2, None], [2, None], [2, None], [2, None], [2, None], [2, None], [2, None], [2, None], [2, None], [2, None], [1, None], [1, None], [1, None], [1, None], [1, None], [1, None], [1, None], [1, None], [1, None], [1, None], [1, None], [1, None], [1, None], [1, None], [1, None], [1, None], [1, None], [1, None], [1, None], [2, None], [2, None], [2, None], [2, None], [2, None], [2, None], [2, None], [2, None], [2, None], [2, None], [2, None], [2, None], [2, None], [1, None], [1, None], [1, None], [1, None], [1, None], [1, None], [1, None], [1, None], [1, None], [1, None], [1, None], [1, None], [1, None], [1, None], [1, None], [1, None], [1, None], [1, None], [1, None], [2, None], [2, None], [2, None], [2, None], [2, None], [2, None], [2, None], [2, None], [2, None], [2, None], [2, None], [2, None], [2, None], [1, None], [1, None], [1, None], [1, None], [1, None], [1, None], [1, None], [1, None], [1, None], [1, None], [1, None], [1, None], [1, None], [1, None], [1, None], [1, None], [1, None], [1, None], [1, None], [2, None], [2, None], [2, None], [2, None], [2, None], [2, None], [2, None], [2, None], [2, None], [2, None], [2, None], [2, None], [2, None], [1, None], [1, None], [1, None], [1, None], [1, None], [1, None], [1, None], [1, None], [1, None], [1, None], [1, None], [1, None], [1, None], [1, None], [1, None], [1, None], [1, None], [1, None], [1, None], [2, None], [2, None], [2, None], [2, None], [2, None], [1, None], [1, None], [1, None], [1, None], [1, None], [1, None], [1, None], [1, None], [1, None], [1, None], [1, None], [1, None], [1, None], [1, None], [1, None], [1, None], [1, None], [1, None], [1, None], [2, None], [2, None], [2, None], [2, None], [2, None], [2, None], [2, None], [2, None], [2, None], [2, None], [2, None], [2, None], [2, None], [1, None], [1, None], [1, None], [1, None], [1, None], [1, None], [1, None], [1, None], [1, None], [1, None], [1, None], [1, None], [1, None], [1, None], [1, None], [1, None], [1, None], [1, None], [1, None], [2, None], [2, None], [2, None], [2, None], [2, None], [2, None], [2, None], [2, None], [2, None], [2, None], [2, None], [2, None], [2, None], [1, None], [1, None], [1, None], [1, None], [1, None], [1, None], [1, None], [1, None], [1, None], [1, None], [1, None], [1, None], [1, None], [1, None], [1, None], [1, None], [1, None], [1, None], [1, None], [2, None], [2, None], [2, None], [2, None], [2, None], [2, None], [2, None], [2, None], [2, None], [2, None], [2, None], [2, None], [2, None], [1, None], [1, None], [1, None], [1, None], [1, None], [1, None], [1, None], [1, None], [1, None], [1, None], [1, None], [1, None], [1, None], [1, None], [1, None], [1, None], [1, None], [1, None], [1, None], [2, None], [2, None], [2, None], [2, None], [2, None], [2, None], [2, None], [2, None], [2, None], [2, None], [2, None], [2, None], [2, None], [1, None], [1, None], [1, None], [1, None], [1, None], [1, None], [1, None], [1, None], [1, None], [1, None], [1, None], [1, None], [1, None], [1, None], [1, None], [1, None], [1, None], [1, None], [1, None], [2, None], [2, None], [2, None], [2, None], [2, None], [2, None], [2, None], [2, None], [2, None], [2, None], [2, None], [2, None], [1, None], [1, None], [1, None], [1, None], [1, None], [1, None], [1, None], [1, None], [1, None], [1, None], [1, None], [1, None], [1, None], [1, None], [1, None], [1, None], [1, None], [1, None], [1, None], [2, None], [2, None], [2, None], [2, None], [2, None], [2, None], [2, None], [2, None], [2, None], [2, None], [2, None], [2, None], [2, None], [1, None], [1, None], [1, None], [1, None], [1, None], [1, None], [1, None], [1, None], [1, None], [1, None], [1, None], [1, None], [1, None], [1, None], [1, None], [1, None], [1, None], [1, None], [1, None], [2, None], [2, None], [2, None], [2, None], [2, None], [2, None], [2, None], [2, None], [2, None], [2, None], [2, None], [2, None], [2, None], [1, None], [1, None], [1, None], [1, None], [1, None], [1, None], [1, None], [1, None], [1, None], [1, None], [1, None], [1, None], [1, None], [1, None], [1, None], [1, None], [1, None], [1, None], [1, None], [2, None], [2, None], [2, None], [2, None], [2, None], [2, None], [2, None], [2, None], [2, None], [2, None], [2, None], [2, None], [2, None], [1, None], [1, None], [1, None], [1, None], [1, None], [1, None], [1, None], [1, None], [1, None], [1, None], [1, None], [1, None], [1, None], [1, None], [1, None], [1, None], [1, None], [1, None], [1, None], [2, None], [2, None], [2, None], [2, None], [2, None], [2, None], [2, None], [2, None], [2, None], [2, None], [2, None], [2, None], [2, None], [1, None], [1, None], [1, None], [1, None], [1, None], [1, None], [1, None], [1, None], [1, None], [1, None], [1, None], [1, None], [1, None], [1, None], [1, None], [1, None], [1, None], [1, None], [1, None], [2, None], [2, None], [2, None], [2, None], [2, None], [2, None], [2, None], [2, None], [2, None], [2, None], [2, None], [2, None], [2, None], [1, None], [1, None], [1, None], [1, None], [1, None], [1, None], [1, None], [1, None], [1, None], [1, None], [1, None], [1, None], [1, None], [1, None], [1, None], [1, None], [1, None], [1, None], [1, None], [2, None], [2, None], [2, None], [2, None], [2, None], [2, None], [2, None], [2, None], [2, None], [2, None], [2, None], [2, None], [2, None], [1, None], [1, None], [1, None], [1, None], [1, None], [1, None], [1, None], [1, None], [1, None], [1, None], [1, None], [1, None], [1, None], [1, None], [1, None], [1, None], [1, None], [1, None], [1, None], [2, None], [2, None], [2, None], [2, None], [2, None], [2, None], [2, None], [2, None], [2, None], [2, None], [2, None], [2, None], [2, None], [1, None], [1, None], [1, None], [1, None], [1, None], [1, None], [1, None], [1, None], [1, None], [1, None], [1, None], [1, None], [1, None], [1, None], [1, None], [1, None], [1, None], [1, None], [1, None], [2, None], [2, None], [2, None], [2, None], [2, None], [2, None], [2, None], [2, None], [2, None], [2, None], [2, None], [2, None], [2, None], [1, None], [1, None], [1, None], [1, None], [1, None], [1, None], [1, None], [1, None], [1, None], [1, None], [1, None], [1, None], [1, None], [1, None], [1, None], [1, None], [1, None], [1, None], [1, None], [2, None], [2, None], [2, None], [2, None], [2, None], [2, None], [2, None], [2, None], [2, None], [2, None], [2, None], [2, None], [2, None], [1, None], [1, None], [1, None], [1, None], [1, None], [1, None], [1, None], [1, None], [1, None], [1, None], [1, None], [1, None], [1, None], [1, None], [1, None], [1, None], [1, None], [1, None], [1, None], [2, None], [2, None], [2, None], [2, None], [2, None], [2, None], [2, None], [2, None], [2, None], [2, None], [2, None], [2, None], [2, None], [1, None], [1, None], [1, None], [1, None], [1, None], [1, None], [1, None], [1, None], [1, None], [1, None], [1, None], [1, None], [1, None], [1, None], [1, None], [1, None], [1, None], [1, None], [1, None], [2, None], [2, None], [2, None], [2, None], [2, None], [2, None], [2, None], [2, None], [2, None], [2, None], [2, None], [2, None], [2, None], [1, None], [1, None], [1, None], [1, None], [1, None], [1, None], [1, None], [1, None], [1, None], [1, None], [1, None], [1, None], [1, None], [1, None], [1, None], [1, None], [1, None], [1, None], [1, None], [2, None], [2, None], [2, None], [2, None], [2, None], [2, None], [2, None], [2, None], [2, None], [2, None], [2, None], [2, None], [2, None], [1, None], [1, None], [1, None], [1, None], [1, None], [1, None], [1, None], [1, None], [1, None], [1, None], [1, None], [1, None], [1, None], [1, None], [1, None], [1, None], [1, None], [1, None], [1, None], [2, None], [2, None], [2, None], [2, None], [2, None], [2, None], [2, None], [1, None], [1, None], [1, None], [1, None], [1, None], [1, None], [1, None], [1, None], [1, None], [1, None], [1, None], [1, None], [1, None], [1, None], [1, None], [1, None], [1, None], [1, None], [1, None], [2, None], [2, None], [2, None], [2, None], [2, None], [2, None], [2, None], [2, None], [2, None], [2, None], [2, None], [2, None], [2, None], [1, None], [1, None], [1, None], [1, None], [1, None], [1, None], [1, None], [1, None], [1, None], [1, None], [1, None], [1, None], [1, None], [1, None], [1, None], [1, None], [1, None], [1, None], [1, None], [2, None], [2, None], [2, None], [2, None], [2, None], [2, None], [2, None], [2, None], [2, None], [2, None], [2, None], [2, None], [2, None], [1, None], [1, None], [1, None], [1, None], [1, None], [1, None], [1, None], [1, None], [1, None], [1, None], [1, None], [1, None], [1, None], [1, None], [1, None], [1, None], [1, None], [1, None], [1, None], [2, None], [2, None], [2, None], [2, None], [2, None], [2, None], [2, None], [2, None], [2, None], [2, None], [2, None], [2, None], [2, None], [1, None], [1, None], [1, None], [1, None], [1, None], [1, None], [1, None], [1, None], [1, None], [1, None], [1, None], [1, None], [1, None], [1, None], [1, None], [1, None], [1, None], [1, None], [1, None], [2, None], [2, None], [2, None], [2, None], [2, None], [2, None], [2, None], [2, None], [2, None], [2, None], [2, None], [2, None], [2, None], [1, None], [1, None], [1, None], [1, None], [1, None], [1, None], [1, None], [1, None], [1, None], [1, None], [1, None], [1, None], [1, None], [1, None], [1, None], [1, None], [1, None], [1, None], [1, None], [2, None], [2, None], [2, None], [2, None], [2, None], [2, None], [2, None], [2, None], [2, None], [2, None], [2, None], [2, None], [2, None], [1, None], [1, None], [1, None], [1, None], [1, None], [1, None], [1, None], [1, None], [1, None], [1, None], [1, None], [1, None], [1, None], [1, None], [1, None], [1, None], [1, None], [1, None], [1, None], [2, None], [2, None], [2, None], [2, None], [2, None], [2, None], [2, None], [2, None], [2, None], [2, None], [2, None], [2, None], [2, None], [1, None], [1, None], [1, None], [1, None], [1, None], [1, None], [1, None], [1, None], [1, None], [1, None], [1, None], [1, None], [1, None], [1, None], [1, None], [1, None], [1, None], [1, None], [1, None], [2, None], [2, None], [2, None], [2, None], [2, None], [2, None], [2, None], [2, None], [2, None], [2, None], [2, None], [2, None], [2, None], [1, None], [1, None], [1, None], [1, None], [1, None], [1, None], [1, None], [1, None], [1, None], [1, None], [1, None], [1, None], [1, None], [1, None], [1, None], [1, None], [1, None], [1, None], [1, None], [2, None], [2, None], [2, None], [2, None], [2, None], [2, None], [2, None], [2, None], [2, None], [2, None], [2, None], [2, None], [2, None], [1, None], [1, None], [1, None], [1, None], [1, None], [1, None], [1, None], [1, None], [1, None], [1, None], [1, None], [1, None], [1, None], [1, None], [1, None], [1, None], [1, None], [1, None], [1, None], [2, None], [2, None], [2, None], [2, None], [2, None], [2, None], [2, None], [2, None], [2, None], [2, None], [2, None], [2, None], [2, None], [1, None], [1, None], [1, None], [1, None], [1, None], [1, None], [1, None], [1, None], [1, None], [1, None], [1, None], [1, None], [1, None], [1, None], [1, None], [1, None], [1, None], [1, None], [1, None], [2, None], [2, None], [2, None], [2, None], [2, None], [2, None], [2, None], [2, None], [2, None], [2, None], [2, None], [2, None], [2, None], [1, None], [1, None], [1, None], [1, None], [1, None], [1, None], [1, None], [1, None], [1, None], [1, None], [1, None], [1, None], [1, None], [1, None], [1, None], [1, None], [1, None], [1, None], [1, None], [2, None], [2, None], [2, None], [2, None], [2, None], [2, None], [2, None], [2, None], [2, None], [2, None], [2, None], [2, None], [2, None], [1, None], [1, None], [1, None], [1, None], [1, None], [1, None], [1, None], [1, None], [1, None], [1, None], [1, None], [1, None], [1, None], [1, None], [1, None], [1, None], [1, None], [1, None], [1, None], [2, None], [2, None], [2, None], [2, None], [2, None], [2, None], [2, None], [2, None], [2, None], [2, None], [2, None], [2, None], [2, None], [1, None], [1, None], [1, None], [1, None], [1, None], [1, None], [1, None], [1, None], [1, None], [1, None], [1, None], [1, None], [1, None], [1, None], [1, None], [1, None], [1, None], [1, None], [1, None], [2, None], [2, None], [2, None], [2, None], [2, None], [2, None], [2, None], [2, None], [2, None], [2, None], [2, None], [2, None], [2, None], [1, None], [1, None], [1, None], [1, None], [1, None], [1, None], [1, None], [1, None], [1, None], [1, None], [1, None], [1, None], [1, None], [1, None], [1, None], [1, None], [1, None], [1, None], [1, None], [2, None], [2, None], [2, None], [2, None], [2, None], [2, None], [2, None], [2, None], [2, None], [2, None], [2, None], [2, None], [2, None], [1, None], [1, None], [1, None], [1, None], [1, None], [1, None], [1, None], [1, None], [1, None], [1, None], [1, None], [1, None], [1, None], [1, None], [1, None], [1, None], [1, None], [1, None], [1, None], [2, None], [2, None], [2, None], [2, None], [2, None], [2, None], [2, None], [2, None], [2, None], [2, None], [2, None], [2, None], [2, None], [1, None], [1, None], [1, None], [1, None], [1, None], [1, None], [1, None], [1, None], [1, None], [1, None], [1, None], [1, None], [1, None], [1, None], [1, None], [1, None], [1, None], [1, None], [1, None], [2, None], [2, None], [2, None], [2, None], [2, None], [2, None], [2, None], [2, None], [2, None], [2, None], [2, None], [2, None], [2, None], [1, None], [1, None], [1, None], [1, None], [1, None], [1, None], [1, None], [1, None], [1, None], [1, None], [1, None], [1, None], [1, None], [1, None], [1, None], [1, None], [1, None], [1, None], [1, None], [2, None], [2, None], [2, None], [2, None], [2, None], [2, None], [2, None], [2, None], [2, None], [2, None], [2, None], [2, None], [2, None], [1, None], [1, None], [1, None], [1, None], [1, None], [1, None], [1, None], [1, None], [1, None], [1, None], [1, None], [1, None], [1, None], [1, None], [1, None], [1, None], [1, None], [1, None], [1, None], [2, None], [2, None], [2, None], [2, None], [2, None], [2, None], [2, None], [2, None], [2, None], [2, None], [2, None], [2, None], [2, None], [1, None], [1, None], [1, None], [1, None], [1, None], [1, None], [1, None], [1, None], [1, None], [1, None], [1, None], [1, None], [1, None], [1, None], [1, None], [1, None], [1, None], [1, None], [1, None], [2, None], [2, None], [2, None], [2, None], [2, None], [2, None], [2, None], [2, None], [2, None], [2, None], [2, None], [2, None], [2, None], [1, None], [1, None], [1, None], [1, None], [1, None], [1, None], [1, None], [1, None], [1, None], [1, None], [1, None], [1, None], [1, None], [1, None], [1, None], [1, None], [1, None], [1, None], [1, None], [2, None], [2, None], [2, None], [2, None], [2, None], [2, None], [2, None], [2, None], [2, None], [2, None], [2, None], [2, None], [2, None], [1, None], [1, None], [1, None], [1, None], [1, None], [1, None], [1, None], [1, None], [1, None], [1, None], [1, None], [1, None], [1, None], [1, None], [1, None], [1, None], [1, None], [1, None], [1, None], [2, None], [2, None], [2, None], [2, None], [2, None], [2, None], [2, None], [2, None], [2, None], [2, None], [2, None], [2, None], [2, None], [1, None], [1, None], [1, None], [1, None], [1, None], [1, None], [1, None], [1, None], [1, None], [1, None], [1, None], [1, None], [1, None], [1, None], [1, None], [1, None], [1, None], [1, None], [1, None], [2, None], [2, None], [2, None], [2, None], [2, None], [2, None], [2, None], [2, None], [2, None], [2, None], [2, None], [2, None], [2, None], [1, None], [1, None], [1, None], [1, None], [1, None], [1, None], [1, None], [1, None], [1, None], [1, None], [1, None], [1, None], [1, None], [1, None], [1, None], [1, None], [1, None], [1, None], [1, None], [2, None], [2, None], [2, None], [2, None], [2, None], [2, None], [2, None], [2, None], [2, None], [2, None], [2, None], [2, None], [2, None], [1, None], [1, None], [1, None], [1, None], [1, None], [1, None], [1, None], [1, None], [1, None], [1, None], [1, None], [1, None], [1, None], [1, None], [1, None], [1, None], [1, None], [1, None], [1, None], [2, None], [2, None], [2, None], [2, None], [2, None], [2, None], [2, None], [2, None], [2, None], [2, None], [2, None], [2, None], [2, None], [1, None], [1, None], [1, None], [1, None], [1, None], [1, None], [1, None], [1, None], [1, None], [1, None], [1, None], [1, None], [1, None], [1, None], [1, None], [1, None], [1, None], [1, None], [1, None], [2, None], [2, None], [2, None], [2, None], [2, None], [2, None], [2, None], [2, None], [2, None], [2, None], [2, None], [2, None], [2, None], [1, None], [1, None], [1, None], [1, None], [1, None], [1, None], [1, None], [1, None], [1, None], [1, None], [1, None], [1, None], [1, None], [1, None], [2, None], [2, None], [2, None], [2, None], [2, None], [2, None], [2, None], [2, None], [2, None], [2, None], [2, None], [2, None], [2, None], [1, None], [1, None], [1, None], [1, None], [1, None], [2, None], [2, None], [2, None], [2, None], [2, None], [2, None], [2, None], [2, None], [2, None], [2, None], [2, None], [2, None], [2, None], [1, None], [1, None], [1, None], [1, None], [1, None], [2, None], [2, None], [2, None], [2, None], [2, None], [2, None], [2, None], [2, None], [2, None], [2, None], [2, None], [2, None], [2, None], [1, None], [1, None], [1, None], [1, None], [1, None], [2, None], [2, None], [2, None], [2, None], [2, None], [2, None], [2, None], [2, None], [2, None], [2, None], [2, None], [2, None], [2, None], [1, None], [1, None], [1, None], [1, None], [1, None], [2, None], [2, None], [2, None], [2, None], [2, None], [2, None], [2, None], [2, None], [2, None], [2, None], [2, None], [2, None], [2, None], [1, None], [1, None], [1, None], [1, None], [1, None], [2, None], [2, None], [2, None], [2, None], [2, None], [2, None], [2, None], [2, None], [2, None], [2, None], [2, None], [2, None], [2, None], [1, None], [1, None], [1, None], [1, None], [1, None], [2, None], [2, None], [2, None], [2, None], [2, None], [2, None], [2, None], [2, None], [2, None], [2, None], [2, None], [2, None], [2, None], [1, None], [1, None], [1, None], [1, None], [1, None], [1, None], [1, None], [1, None], [1, None], [1, None], [2, None], [2, None], [2, None], [2, None], [2, None], [2, None], [2, None], [2, None], [2, None], [2, None], [2, None], [2, None], [2, None], [1, None], [1, None], [1, None], [1, None], [1, None], [1, None], [1, None], [1, None], [1, None], [1, None], [1, None], [1, None], [1, None], [1, None], [2, None], [2, None], [2, None], [2, None], [2, None], [2, None], [2, None], [2, None], [2, None], [2, None], [2, None], [2, None], [2, None], [1, None], [1, None], [1, None], [1, None], [1, None], [1, None], [1, None], [1, None], [1, None], [1, None], [1, None], [1, None], [1, None], [1, None], [2, None], [2, None], [2, None], [2, None], [2, None], [2, None], [2, None], [2, None], [2, None], [2, None], [2, None], [2, None], [2, None], [1, None], [1, None], [1, None], [1, None], [1, None], [1, None], [1, None], [1, None], [1, None], [1, None], [1, None], [1, None], [2, None], [2, None], [2, None], [2, None], [2, None], [2, None], [2, None], [2, None], [2, None], [2, None], [2, None], [2, None], [2, None], [1, None], [1, None], [1, None], [1, None], [1, None], [1, None], [1, None], [1, None], [1, None], [1, None], [1, None], [2, None], [2, None], [2, None], [2, None], [2, None], [2, None], [2, None], [2, None], [2, None], [2, None], [2, None], [2, None], [2, None], [1, None], [1, None], [1, None], [1, None]]\n",
    "action_list = [e[0] for e in police_action]"
   ]
  },
  {
   "cell_type": "code",
   "execution_count": 23,
   "metadata": {},
   "outputs": [],
   "source": [
    "# action_list = ['2', '1', '2', '1', '2', '1', '2', '1', '2', '1', '2', '1', '2', '1', '2', '1', '2', '1', '2', '1', '2', '1', '2', '1', '2', '1', '2', '1', '2', '1', '2', '1', '1', '2', '1', '2', '1', '1', '2', '1', '1', '2', '1', '2', '1', '2', '1', '2', '1', '1', '2', '1', '2', '1', '2', '1', '1', '1', '1', '1', '2', '1', '2', '1', '2', '1', '2', '1', '2', '1', '2', '1', '2', '1', '2', '1', '2', '1', '2', '1', '2', '1', '2', '1', '2', '1', '2', '1', '2', '1', '2', '1', '2', '1', '2', '1', '2', '1', '2', '1', '2', '1', '2', '1', '2', '1', '2', '1', '1', '2', '1', '1', '2', '1', '2', '1', '2', '1', '2', '1', '2', '1', '2', '1', '2', '1', '2', '1', '2', '1', '2', '1', '2', '1', '2', '1', '2', '1', '2', '1', '2', '1', '2', '1', '1', '1', '2', '1', '2', '1', '2', '1', '2', '1', '2', '1', '2', '1', '2', '1', '1', '1', '1', '1', '1', '2', '1', '2', '1', '2', '1', '2', '1', '2', '1', '2', '1', '2', '1', '2', '1', '2', '1', '2', '1', '2', '1', '2', '1', '2', '1', '2', '1', '2', '1', '2', '1', '2', '1', '1', '1', '2', '1', '1', '1', '1', '1', '1', '1', '1', '1', '1', '1', '1', '1', '2', '1', '2', '1', '2', '1', '2', '1', '2', '1', '2', '1', '2', '1', '2', '1', '2', '1', '2', '1', '2', '1', '2', '1', '2', '1', '2', '1', '2', '1', '2', '1', '1', '1', '1', '1', '1', '1', '1', '1', '1', '1', '1', '1', '1', '1', '1', '1', '2', '1', '2', '1', '2', '1', '2', '1', '2', '1', '2', '1', '2', '1', '2', '1', '2', '1', '2', '1', '2', '1', '2', '1', '2', '1', '2', '1', '2', '1', '2', '1', '2', '1', '1', '1', '1', '1', '1', '1', '1', '1', '1', '1', '1', '1', '1', '1', '2', '1', '2', '1', '2', '1', '2', '1', '2', '1', '2', '1', '2', '1', '2', '1', '2', '1', '2', '1', '2', '1', '2', '1', '2', '1', '2', '1', '2', '1', '2', '1', '1', '1', '1', '1', '1', '1', '1', '1', '1', '1', '1', '1', '1', '1', '1', '1', '2', '1', '2', '1', '2', '1', '2', '1', '2', '1', '2', '1', '2', '1', '2', '1', '2', '1', '2', '1', '2', '1', '2', '1', '2', '1', '2', '1', '2', '1', '2', '1', '1', '1', '1', '1', '1', '1', '1', '1', '1', '1', '1', '1', '1', '1', '1', '1', '2', '1', '2', '1', '2', '1', '2', '1', '2', '1', '2', '1', '2', '1', '2', '1', '2', '1', '2', '1', '2', '1', '2', '1', '2', '1', '2', '1', '2', '1', '2', '1', '2', '1', '1', '1', '1', '1', '1', '1', '1', '1', '1', '2', '1', '2', '1', '1', '2', '1', '2', '1', '2', '1', '2', '1', '2', '1', '2', '1', '2', '1', '2', '1', '2', '1', '2', '1', '2', '1', '2', '1', '2', '1', '2', '1', '2', '1', '2', '1', '2', '1', '1', '1', '1', '1', '1', '1', '1', '1', '1', '1', '1', '1', '1', '1', '2', '1', '2', '1', '2', '1', '2', '1', '2', '1', '2', '1', '2', '1', '2', '1', '2', '1', '2', '1', '2', '1', '2', '1', '2', '1', '2', '1', '2', '1', '1', '1', '1', '1', '1', '1', '1', '1', '1', '1', '1', '1', '1', '1', '1', '1', '1', '1', '2', '1', '2', '1', '2', '1', '2', '1', '2', '1', '2', '1', '2', '1', '2', '1', '2', '1', '2', '1', '2', '1', '1', '2', '1', '2', '1', '2', '1', '2', '1', '1', '1', '1', '1', '1', '1', '1', '1', '1', '2', '1', '1', '1', '1', '1', '1', '1', '0', '1', '2', '1', '2', '1', '2', '1', '2', '1', '2', '1', '2', '1', '0', '1', '0', '1', '0', '1', '2', '1', '2', '1', '2', '1', '1', '1', '2', '1', '2', '1', '1', '1', '1', '1', '1', '1', '1', '1', '1', '1', '1', '1', '1', '1', '1', '1', '0', '1', '0', '1', '2', '1', '2', '1', '2', '1', '2', '1', '2', '1', '2', '1', '2', '1', '2', '1', '2', '1', '2', '1', '2', '1', '2', '1', '2', '1', '2', '1', '1', '1', '1', '1', '1', '1', '1', '1', '1', '1', '1', '1', '1', '1', '1', '1', '2', '1', '2', '1', '2', '1', '0', '1', '0', '1', '2', '1', '2', '1', '2', '1', '2', '1', '0', '1', '2', '1', '2', '1', '1', '2', '1', '2', '1', '2', '1', '1', '1', '1', '1', '1', '1', '1', '1', '1', '1', '1', '1', '1', '1', '1', '1', '1', '0', '1', '0', '1', '0', '1', '0', '1', '0', '1', '2', '1', '2', '1', '2', '1', '2', '1', '0', '1', '2', '1', '2', '1', '2', '1', '2', '1', '2', '1', '2', '1', '2', '1', '1', '1', '1', '1', '2', '1', '1', '1', '1', '1', '1', '1', '1', '1', '0', '1', '2', '1', '2', '1', '0', '1', '2', '1', '2', '1', '2', '1', '2', '1', '2', '1', '2', '1', '2', '1', '2', '1', '2', '1', '2', '1', '2', '1', '2', '1', '1', '1', '1', '1', '1', '1', '1', '1', '1', '1', '1', '1', '1', '2', '1', '1', '2', '1', '2', '1', '2', '1', '2', '1', '2', '1', '0', '1', '2', '1', '2', '1', '1', '1', '2', '1', '2', '1', '2', '1', '2', '1', '2', '1', '2', '1', '2', '1', '1', '1', '1', '1', '1', '1', '1', '1', '1', '1', '1', '1', '1', '1', '1', '1', '2', '1', '2', '1', '2', '1', '2', '1', '2', '1', '1', '2', '1', '2', '1', '2', '1', '1', '2', '1', '2', '1', '2', '1', '2', '1', '2', '1', '2', '1', '2', '1', '1', '1', '1', '1', '1', '1', '1', '1', '1', '1', '1', '1', '1', '1', '1', '1', '2', '1', '0', '1', '2', '1', '2', '1', '2', '1', '2', '1', '2', '1', '2', '1', '1', '2', '1', '2', '1', '0', '1', '2', '1', '2', '1', '2', '1', '2', '1', '2', '1', '2', '1', '1', '1', '1', '1', '1', '1', '2', '1', '2', '1', '2', '1', '2', '1', '2', '1', '2', '1', '2', '1', '2', '1', '2', '1', '2', '1', '2', '1', '1', '2', '1', '2', '1', '2', '1', '2', '1', '2', '1', '2', '1', '2', '1', '2', '1', '1', '1', '1', '1', '1', '1', '1', '1', '1', '1', '1', '1', '2', '1', '2', '1', '2', '1', '2', '1', '2', '1', '2', '1', '2', '1', '2', '1', '2', '1', '2', '1', '2', '1', '2', '0', '1', '2', '1', '2', '1', '2', '1', '2', '1', '2', '1', '2', '1', '1', '1', '1', '1', '1', '1', '1', '1', '1', '1', '1', '1', '1', '1', '1', '2', '1', '2', '1', '2', '1', '2', '1', '2', '1', '2', '1', '1', '2', '1', '2', '1', '2', '1', '2', '1', '2', '1', '2', '1', '2', '1', '2', '1', '2', '1', '2', '1', '1', '1', '1', '1', '1', '1', '2', '1', '2', '1', '1', '1', '1', '1', '1', '2', '1', '2', '1', '2', '1', '2', '1', '2', '1', '2', '1', '2', '1', '2', '1', '2', '1', '2', '1', '2', '1', '2', '1', '2', '1', '2', '1', '2', '1', '2', '1', '1', '1', '1', '1', '1', '1', '2', '1', '2', '1', '1', '1', '1', '1', '1', '1', '2', '1', '2', '1', '2', '1', '2', '1', '2', '1', '2', '1', '2', '1', '2', '1', '2', '1', '2', '1', '2', '1', '2', '1', '2', '1', '2', '1', '2', '1', '2', '1', '1', '1', '1', '1', '1', '1', '1', '1', '1', '1', '1', '1', '1', '1', '2', '1', '2', '1', '2', '1', '2', '1', '2', '1', '2', '1', '2', '1', '2', '1', '2', '1', '2', '1', '2', '1', '2', '2', '2', '1', '2', '2', '1', '2', '1', '2', '1', '2', '1', '1', '1', '1', '1', '1', '1', '2', '1', '1', '1', '1', '1', '1', '1', '1', '2', '1', '2', '1', '2', '1', '2', '1', '2', '1', '2', '1', '2', '1', '2', '1', '2', '1', '2', '1', '2', '1', '2', '1', '2', '1', '2', '1', '2', '1', '2', '1', '1', '1', '1', '1', '1', '2', '1', '2', '1', '1', '1', '1', '1', '1', '1', '1', '2', '1', '2', '1', '2', '1', '2', '1', '2', '1', '2', '1', '2', '1', '2', '1', '2', '1', '2', '1', '2', '1', '2', '1', '2', '1', '2', '1', '2', '1', '2', '1', '1', '1', '1', '1', '1', '1', '1', '1', '1', '1', '2', '1', '2', '1', '1', '1', '2', '1', '2', '1', '2', '1', '2', '1', '2', '1', '2', '1', '2', '1', '2', '1', '2', '1', '2', '1', '2', '1', '2', '1', '2', '1', '2', '1', '2', '1', '2', '1', '1', '1', '1', '1', '1', '1', '2', '1', '2', '1', '2', '1', '1', '1', '1', '1', '2', '1', '2', '1', '2', '1', '2', '1', '2', '1', '2', '1', '2', '1', '2', '1', '2', '1', '2', '1', '2', '1', '2', '1', '2', '1', '2', '1', '2', '1', '2', '1', '1', '1', '1', '2', '1', '2', '1', '2', '1', '2', '1', '2', '1', '2', '1', '1', '2', '1', '2', '1', '2', '1', '2', '1', '2', '1', '2', '1', '2', '1', '2', '1', '2', '1', '2', '1', '1', '2', '1', '2', '1', '2', '1', '2', '1', '2', '1', '2', '1', '2', '1', '1', '1', '1', '1', '2', '1', '1', '1', '1', '2', '1', '1', '1', '2', '1', '2', '1', '2', '1', '2', '1', '2', '1', '2', '1', '2', '1', '2', '1', '2', '1', '2', '1', '2', '1', '2', '1', '2', '1', '2', '1', '2', '1', '2', '1', '2', '1', '1', '2', '1', '2', '1', '2', '1', '2', '1', '2', '1', '1', '1', '1', '2', '1', '2', '1', '2', '1', '2', '1', '2', '1', '2', '1', '2', '1', '2', '1', '2', '1', '2', '1', '2', '1', '2', '1', '2', '1', '2', '1', '2', '1', '2', '1', '2', '1', '1', '1', '2', '1', '1', '1', '1', '1', '1', '1', '1', '1', '1', '1', '2', '1', '2', '1', '2', '1', '2', '1', '2', '1', '2', '1', '2', '1', '2', '1', '2', '1', '2', '1', '2', '1', '2', '1', '2', '1', '2', '1', '2', '1', '1', '1', '2', '1', '1', '1', '2', '1', '2', '1', '1', '2', '1', '2', '1', '2', '1', '2', '1', '2', '1', '2', '1', '2', '1', '2', '1', '2', '1', '2', '1', '2', '1', '2', '1', '1', '2', '1', '2', '1', '2', '1', '2', '1', '2', '1', '2', '1', '2', '1', '1', '1', '1', '2', '1', '2', '1', '2', '1', '2', '1', '2', '1', '1', '1', '1', '2', '1', '2', '1', '2', '1', '2', '1', '2', '1', '2', '1', '2', '1', '2', '1', '2', '1', '2', '1', '2', '1', '2', '1', '2', '1', '2', '1', '2', '1', '2', '1', '2', '1', '2', '1', '2', '1', '1', '2', '1', '1', '1', '1', '1', '1', '1', '1', '2', '1', '2', '1', '2', '1', '2', '1', '2', '1', '2', '1', '2', '1', '2', '1', '2', '1', '2', '1', '2', '1', '2', '1', '2', '1', '2', '1', '2', '1', '2', '1', '1', '1', '1', '1', '1', '1', '2', '1', '1', '1', '1', '1', '1', '1', '1', '1', '2', '1', '2', '1', '2', '1', '2', '1', '2', '1', '2', '1', '2', '1', '2', '1', '2', '1', '2', '1', '2', '1', '2', '1', '2', '1', '2', '1', '2', '1', '2', '1', '1', '1', '1', '1', '2', '1', '1', '2', '1', '2', '1', '1', '1', '1', '1', '2', '1', '2', '1', '2', '1', '2', '1', '2', '1', '2', '1', '2', '1', '2', '1', '2', '1', '2', '1', '2', '1', '2', '1', '2', '1', '2', '1', '2', '1', '2', '1', '1', '1', '1', '2', '1', '2', '1', '1', '1', '1', '1', '2', '1', '2', '1', '1', '1', '2', '1', '2', '1', '2', '1', '2', '1', '2', '1', '2', '1', '2', '1', '2', '1', '2', '1', '2', '1', '2', '1', '2', '1', '2', '1', '2', '1', '2', '1', '2', '1', '1', '1', '1', '2', '1', '2', '1', '2', '1', '2', '1', '2', '1', '2', '1', '1', '2', '1', '2', '1', '2', '1', '2', '1', '2', '1', '2', '1', '2', '1', '2', '1', '2', '1', '2', '1', '2', '1', '2', '1', '2', '1', '2', '1', '2', '1', '2', '1', '2', '1', '1', '2', '1', '2', '1', '2', '1', '1', '2', '1', '2', '1', '1', '1', '2', '1', '2', '1', '2', '1', '2', '1', '2', '1', '2', '1', '2', '1', '2', '1', '2', '1', '2', '1', '2', '1', '2', '1', '2', '1', '2', '1', '2', '1', '2', '1', '1', '1', '1', '2', '1', '2', '1', '1', '1', '1', '1', '1', '1', '1', '1', '1', '2', '1', '2', '1', '2', '1', '2', '1', '2', '1', '2', '1', '2', '1', '2', '1', '2', '1', '2', '1', '2', '1', '2', '1', '2', '1', '2', '1', '2', '1', '2', '1', '1', '1', '1', '1', '1', '1', '2', '1', '1', '1', '1', '1', '1', '1', '1', '1', '2', '1', '2', '1', '2', '1', '2', '1', '2', '1', '2', '1', '2', '1', '2', '1', '2', '1', '2', '1', '2', '1', '2', '1', '2', '1', '2', '1', '2', '1', '2', '1', '1', '1', '2', '1', '1', '2', '1', '2', '1', '1', '1', '1', '1', '1', '1', '1', '2', '1', '2', '1', '2', '1', '2', '1', '2', '1', '2', '1', '2', '1', '2', '1', '2', '1', '2', '1', '2', '1', '2', '1', '2', '1', '2', '1', '2', '1', '2', '1', '1', '1', '1', '2', '1', '1', '2', '1', '1', '1', '1', '1', '1', '2', '1', '1', '1', '1', '1', '2', '1', '2', '1', '2', '1', '1', '1', '2', '1', '2', '1', '1', '1', '1', '1', '1', '2', '1', '1', '1', '2', '1', '2', '1', '0', '1', '1', '2', '1', '1', '1', '1', '1', '1', '1', '1', '1', '1', '2', '1', '1', '1', '1', '2', '1', '2', '1', '2', '1', '2', '1', '2', '1', '1', '1', '2', '1', '1', '2', '1', '2', '1', '1', '2', '1', '2', '1', '2', '1', '2', '1', '2', '1', '2', '1', '1', '1', '1', '1', '1', '1', '1', '1', '1', '1', '1', '1', '1', '1', '1', '1', '1', '1', '1', '2', '1', '2', '1', '2', '1', '2', '1', '1', '1', '1', '1', '1', '1', '2', '1', '2', '1', '2', '1', '2', '1', '2', '1', '1', '1', '2', '1', '2', '1', '1', '1', '1', '1', '1', '1', '1', '1', '1', '1', '1', '1', '1', '1', '1', '1', '2', '1', '2', '1', '2', '1', '2', '1', '1', '2', '1', '1', '1', '1', '2', '1', '1', '1', '2', '1', '2', '1', '2', '1', '2', '1', '2', '1', '0', '1', '2', '1', '1', '1', '1', '1', '1', '1', '1', '1', '1', '1', '1', '1', '1', '1', '2', '1', '2', '1', '2', '1', '1', '1', '1', '2', '1', '1', '1', '1', '1', '2', '1', '2', '1', '2', '1', '1', '1', '1', '1', '1', '1', '1', '1', '1', '1', '1', '1', '1', '1', '1', '1', '1', '1', '1', '2', '1', '2', '1', '2', '1', '2', '1', '1', '1', '2', '1', '2', '1', '2', '1', '2', '1', '2', '1', '2', '1', '2', '1', '2', '1', '2', '1', '1', '1', '1', '0', '1', '2', '1', '1', '1', '1', '1', '2', '1', '1', '1', '1', '1', '1', '1', '1', '2', '1', '0', '1', '0', '2', '1', '2', '1', '2', '1', '2', '1', '2', '1', '2', '1', '2', '1', '2', '1', '2', '1', '2', '1', '2', '1', '2', '1', '2', '1', '2', '1', '2', '1', '2', '1', '2', '1', '2', '1', '1', '1', '2', '1', '2', '1', '2', '1', '2', '1', '2', '1', '1', '2', '1', '1', '1', '1', '2', '1', '1', '1', '1', '1', '1', '2', '1', '2', '1', '2', '1', '1', '1', '2', '1', '1', '1', '1', '1', '1', '1', '1', '1', '1', '1', '1', '1', '1', '2', '1', '2', '1', '2', '1', '2', '1', '2', '1', '2', '1', '2', '1', '2', '1', '2', '1', '2', '1', '2', '1', '2', '1', '2', '1', '2', '1', '2', '1', '2', '1', '2', '1', '2', '1', '2', '1', '2', '1', '0', '1', '2', '1', '2', '1', '2', '1', '2', '1', '2', '1', '2', '1', '2', '1', '2', '1', '2', '1', '2', '1', '2', '1', '2', '1', '2', '1', '2', '1', '2', '1', '2', '1', '2', '1', '2', '1', '2', '1', '2', '1', '2', '1', '2', '1', '2', '1', '2', '1', '2', '1', '2', '1', '2', '1', '2', '1', '2', '1', '2', '1', '2', '1', '2', '1', '2', '1', '0', '2', '1', '0', '2', '1', '0', '2', '1', '2', '1', '2', '1', '2', '1', '2', '1', '2', '1', '2', '1', '2', '1', '2', '1', '2', '1', '2', '1', '2', '1', '2', '1', '2', '1', '2', '1', '2', '1', '2', '1', '2', '1', '2', '1', '2', '1', '2', '1', '2', '1', '2', '1', '2', '1', '2', '1', '2', '1', '2', '1', '2', '1', '2', '1', '2', '1', '2', '1', '2', '1', '2', '1', '2', '1', '2', '1', '2', '1', '2', '1', '2', '1', '2', '1', '2', '1', '2', '1', '2', '1', '2', '1', '2', '1', '2', '1', '2', '1', '2', '1', '2', '1', '2', '1', '2', '1', '2', '1', '2', '1', '2', '1', '2', '1', '2', '1', '2', '1', '2', '1', '2', '1', '2', '1', '2', '1', '2', '1', '2', '1', '2', '1', '2', '1', '2', '1', '2', '1', '2', '1', '2', '1', '2', '1', '2', '1', '2', '1', '2', '1', '2', '1', '2', '1', '2', '1', '2', '1', '2', '1', '2', '1', '2', '1', '2', '1', '2', '1', '2', '1', '2', '1', '2', '1', '2', '1', '2', '1', '2', '1', '2', '1', '2', '1', '2', '1', '2', '1', '2', '1', '2', '1', '2', '1', '2', '1', '2', '1', '2', '1', '2', '1', '2', '1', '2', '1', '2', '1', '2', '1', '2', '1', '2', '1', '2', '1', '2', '1', '2', '1', '2']"
   ]
  },
  {
   "cell_type": "code",
   "execution_count": 24,
   "metadata": {},
   "outputs": [],
   "source": [
    "# action_list"
   ]
  },
  {
   "cell_type": "code",
   "execution_count": 25,
   "metadata": {},
   "outputs": [],
   "source": [
    "action_list = ['1', '1', '2', '2', '2', '2', '1', '2', '0', '1', '1', '1', '1', '1', '1', '2', '1', '2', '1', '2', '1', '1', '1', '2', '1', '1', '1', '1', '1', '1', '1', '2', '1', '2', '1', '1', '2', '1', '1', '2', '1', '1', '1', '1', '1', '1', '2', '1', '1', '1', '1', '1', '1', '1', '2', '1', '2', '1', '1', '1', '1', '2', '1', '1', '2', '1', '2', '1', '1', '1', '2', '1', '2', '1', '1', '2', '1', '2', '1', '1', '2', '1', '2', '1', '2', '1', '1', '1', '1', '1', '2', '1', '1', '2', '1', '2', '1', '1', '2', '1', '2', '1', '1', '1', '1', '2', '1', '1', '2', '1', '1', '1', '1', '1', '1', '2', '1', '2', '1', '1', '1', '2', '1', '1', '1', '2', '1', '1', '1', '2', '1', '2', '1', '1', '1', '1', '1', '2', '1', '2', '1', '2', '1', '1', '2', '1', '2', '1', '1', '1', '2', '1', '2', '1', '1', '1', '1', '1', '1', '2', '1', '2', '1', '2', '1', '2', '1', '1', '1', '2', '1', '2', '1', '1', '1', '1', '2', '1', '2', '1', '2', '1', '1', '1', '1', '1', '1', '1', '1', '1', '2', '1', '2', '1', '2', '1', '2', '1', '1', '1', '2', '1', '2', '1', '1', '2', '1', '1', '2', '1', '1', '1', '1', '2', '1', '2', '1', '2', '1', '1', '1', '1', '1', '1', '2', '1', '1', '1', '2', '1', '2', '1', '2', '1', '2', '1', '1', '1', '1', '2', '1', '2', '1', '1', '2', '1', '2', '1', '2', '1', '1', '1', '1', '1', '1', '2', '1', '2', '1', '1', '2', '1', '2', '1', '2', '1', '1', '1', '1', '1', '1', '2', '1', '1', '1', '1', '2', '1', '2', '1', '2', '1', '1', '1', '1', '1', '1', '2', '1', '1', '1', '1', '2', '1', '2', '1', '2', '1', '1', '1', '1', '1', '1', '2', '1', '1', '1', '1', '2', '1', '2', '1', '1', '1', '1', '1', '1', '1', '1', '2', '1', '2', '1', '2', '1', '2', '1', '2', '1', '1', '1', '1', '1', '2', '1', '1', '1', '1', '2', '1', '2', '1', '2', '1', '2', '1', '1', '1', '1', '1', '1', '2', '1', '1', '2', '1', '2', '1', '2', '1', '2', '1', '1', '1', '1', '1', '1', '1', '1', '2', '1', '1', '2', '1', '2', '1', '2', '1', '1', '1', '1', '1', '1', '1', '2', '1', '2', '1', '2', '1', '2', '1', '2', '1', '1', '1', '1', '1', '1', '1', '2', '1', '2', '1', '2', '1', '2', '1', '2', '1', '1', '1', '1', '1', '1', '1', '1', '1', '2', '1', '2', '1', '2', '1', '2', '1', '1', '1', '1', '1', '1', '2', '1', '1', '2', '1', '2', '1', '2', '1', '2', '1', '1', '1', '1', '1', '1', '1', '1', '1', '2', '1', '2', '1', '2', '1', '2', '1', '1', '1', '1', '1', '1', '1', '1', '2', '1', '2', '1', '2', '1', '1', '2', '1', '1', '1', '1', '1', '1', '2', '1', '1', '2', '1', '2', '1', '2', '1', '2', '1', '1', '1', '1', '1', '1', '1', '1', '1', '2', '1', '2', '1', '2', '1', '2', '1', '1', '2', '1', '1', '1', '1', '1', '2', '1', '2', '1', '2', '1', '2', '1', '1', '1', '1', '2', '2', '1', '1', '2', '1', '2', '1', '2', '1', '2', '1', '2', '1', '2', '1', '2', '1', '1', '1', '1', '2', '1', '1', '2', '1', '2', '1', '2', '1', '2', '1', '2', '1', '1', '1', '1', '1', '1', '1', '2', '1', '2', '1', '2', '1', '2', '1', '1', '2', '1', '1', '2', '1', '1', '1', '2', '1', '2', '1', '2', '1', '2', '1', '1', '2', '1', '1', '2', '1', '1', '1', '1', '2', '1', '2', '1', '1', '1', '2', '1', '1', '2', '1', '2', '1', '1', '2', '1', '1', '2', '1', '1', '2', '1', '2', '1', '2', '1', '2', '1', '1', '1', '2', '1', '1', '2', '1', '1', '1', '0', '1', '1', '2', '1', '2', '1', '2', '1', '1', '2', '1', '2', '1', '2', '1', '2', '1', '1', '2', '1', '2', '1', '2', '1', '1', '1', '1', '1', '1', '1', '2', '1', '2', '1', '2', '1', '2', '1', '2', '1', '1', '1', '1', '1', '2', '1', '2', '1', '1', '2', '1', '1', '2', '1', '2', '0', '1', '1', '2', '1', '2', '1', '1', '2', '1', '2', '1', '1', '2', '1', '0', '1', '1', '1', '1', '1', '1', '2', '1', '2', '1', '2', '1', '1', '2', '0', '1', '1', '1', '2', '1', '1', '1', '1', '2', '1', '1', '1', '2', '1', '2', '1', '2', '1', '1', '2', '1', '2', '1', '1', '2', '1', '1', '2', '1', '1', '2', '1', '0', '1', '1', '1', '1', '2', '1', '2', '1', '2', '1', '1', '1', '2', '1', '2', '1', '1', '1', '1', '2', '1', '2', '1', '1', '2', '1', '1', '2', '1', '2', '1', '2', '1', '1', '1', '1', '2', '1', '1', '2', '1', '1', '2', '1', '1', '2', '1', '2', '1', '1', '1', '1', '1', '1', '1', '2', '1', '2', '1', '1', '2', '1', '2', '1', '2', '1', '1', '1', '2', '1', '2', '1', '1', '2', '1', '1', '2', '1', '2', '1', '2', '1', '2', '1', '2', '1', '1', '2', '1', '2', '1', '1', '2', '1', '2', '0', '1', '1', '2', '1', '2', '1', '1', '2', '1', '2', '1', '2', '1', '1', '2', '1', '1', '1', '1', '1', '1', '2', '1', '2', '1', '1', '2', '1', '2', '1', '1', '2', '1', '2', '1', '2', '1', '2', '1', '2', '1', '1', '2', '1', '2', '1', '2', '1', '1', '2', '1', '1', '2', '1', '1', '2', '1', '2', '1', '2', '1', '2', '1', '2', '1', '2', '1', '1', '2', '1', '2', '1', '2', '1', '1', '2', '1', '2', '1', '1', '2', '1', '1', '2', '1', '2', '1', '2', '1', '2', '1', '1', '1', '2', '0', '1', '2', '1', '1', '2', '1', '1', '2', '1', '2', '1', '2', '1', '2', '0']"
   ]
  },
  {
   "cell_type": "code",
   "execution_count": 26,
   "metadata": {},
   "outputs": [],
   "source": [
    "current_phase = [1]\n",
    "rewards = 0\n",
    "throughputs = 0\n",
    "backlogs = 0\n",
    "mean_speed = 0\n",
    "start(\"rrrr\")\n",
    "action = [int(a) for a in action_list]\n",
    "for i in range (len(action)): \n",
    "    set_current_phase(action[i], current_phase)\n",
    "    current_phase, hot_encoding_current_phase = get_hot_encoding_current_phase()\n",
    "    reward, throughput, backlog= get_reward()\n",
    "    rewards += reward\n",
    "    throughputs += throughput\n",
    "    backlogs += backlog\n",
    "    mean_speed += get_mean_speed()\n",
    "    state = get_state_attention(current_phase, hot_encoding_current_phase)\n",
    "traci.close()"
   ]
  },
  {
   "cell_type": "code",
   "execution_count": 27,
   "metadata": {},
   "outputs": [],
   "source": [
    "# traci.close()"
   ]
  },
  {
   "cell_type": "code",
   "execution_count": 28,
   "metadata": {},
   "outputs": [
    {
     "data": {
      "text/plain": [
       "-7086.639999999994"
      ]
     },
     "execution_count": 28,
     "metadata": {},
     "output_type": "execute_result"
    }
   ],
   "source": [
    "rewards"
   ]
  },
  {
   "cell_type": "code",
   "execution_count": 29,
   "metadata": {},
   "outputs": [
    {
     "data": {
      "text/plain": [
       "0"
      ]
     },
     "execution_count": 29,
     "metadata": {},
     "output_type": "execute_result"
    }
   ],
   "source": [
    "throughputs"
   ]
  },
  {
   "cell_type": "code",
   "execution_count": 30,
   "metadata": {},
   "outputs": [
    {
     "data": {
      "text/plain": [
       "184.54791666666668"
      ]
     },
     "execution_count": 30,
     "metadata": {},
     "output_type": "execute_result"
    }
   ],
   "source": [
    "backlogs/960"
   ]
  },
  {
   "cell_type": "code",
   "execution_count": 31,
   "metadata": {},
   "outputs": [
    {
     "data": {
      "text/plain": [
       "2.138783209446438"
      ]
     },
     "execution_count": 31,
     "metadata": {},
     "output_type": "execute_result"
    }
   ],
   "source": [
    "mean_speed/2880"
   ]
  },
  {
   "cell_type": "code",
   "execution_count": null,
   "metadata": {},
   "outputs": [],
   "source": []
  }
 ],
 "metadata": {
  "kernelspec": {
   "display_name": "Python 3",
   "language": "python",
   "name": "python3"
  },
  "language_info": {
   "codemirror_mode": {
    "name": "ipython",
    "version": 3
   },
   "file_extension": ".py",
   "mimetype": "text/x-python",
   "name": "python",
   "nbconvert_exporter": "python",
   "pygments_lexer": "ipython3",
   "version": "3.8.6rc1"
  }
 },
 "nbformat": 4,
 "nbformat_minor": 4
}
