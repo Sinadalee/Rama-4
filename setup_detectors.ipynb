{
 "cells": [
  {
   "cell_type": "code",
   "execution_count": 6,
   "metadata": {},
   "outputs": [],
   "source": [
    "import os, sys\n",
    "sys.path.append(os.path.join('/home/ring/sumo-svn/', 'tools'))\n",
    "from sumolib import checkBinary\n",
    "import traci\n",
    "import sumolib\n",
    "import numpy as np\n",
    "import csv\n",
    "import pathlib\n",
    "import glob\n",
    "import math\n",
    "import matplotlib.pyplot as plt\n",
    "import pandas as pd\n",
    "import lxml.etree as ET\n",
    "from xml.etree import ElementTree\n",
    "import xml.etree.cElementTree as eleTree"
   ]
  },
  {
   "cell_type": "code",
   "execution_count": 7,
   "metadata": {},
   "outputs": [
    {
     "data": {
      "text/plain": [
       "(20, 'SUMO 1.6.0')"
      ]
     },
     "execution_count": 7,
     "metadata": {},
     "output_type": "execute_result"
    }
   ],
   "source": [
    "sumoBinary = checkBinary('sumo-gui')\n",
    "traci.start([sumoBinary, \"-c\", \"Kasemrat-SUMO-UsingBookNetFile/osm.sumocfg\",\n",
    "                             \"--tripinfo-output\", \"tripinfo.xml\", '--start','true','--quit-on-end','true','--time-to-teleport','-1'])"
   ]
  },
  {
   "cell_type": "code",
   "execution_count": 10,
   "metadata": {},
   "outputs": [],
   "source": [
    "def setUpLaneAreaDetector(POI):\n",
    "\n",
    "    root = ET.Element('additionals')\n",
    "    net = sumolib.net.readNet('Kasemrat-SUMO-UsingBookNetFile/KasemRat_grid_lock.net.xml')\n",
    "\n",
    "    for key in POI:\n",
    "        edgeID = net.getEdge(key)\n",
    "        numOfLane=edgeID.getLaneNumber()\n",
    "        edgeLength=edgeID.getLength()\n",
    "        for lane_index in range(numOfLane):\n",
    "            initial_Pos=0.00\n",
    "            subelement=ET.Element('e2Detector')\n",
    "            subelement.set('id',key+'_'+str(lane_index))\n",
    "            subelement.set('lane',key+'_'+str(lane_index))\n",
    "            subelement.set('pos',str(initial_Pos))\n",
    "            subelement.set('endPos','0.00')\n",
    "            subelement.set('friendlyPos','True')\n",
    "            subelement.set('length',str(edgeLength))\n",
    "            subelement.set('freq','2.00')\n",
    "            subelement.set('file',\"map_grid_lock_output1.xml\")\n",
    "            subelement.set('cont','0')\n",
    "            subelement.set('timeThreshold','1.00')\n",
    "            subelement.set('speedThreshold','1.39')\n",
    "            subelement.set('jamThreshold','10.00')\n",
    "\n",
    "            root.append(subelement)\n",
    "\n",
    "    tree=ET.ElementTree(root)\n",
    "    filename = \"Kasemrat-SUMO-UsingBookNetFile/initial02.add.xml\"\n",
    "    tree.write(filename, xml_declaration=True, pretty_print=True)"
   ]
  },
  {
   "cell_type": "code",
   "execution_count": 11,
   "metadata": {},
   "outputs": [],
   "source": [
    "setUpLaneAreaDetector(['825786400','481971011#1-AddedOnRampEdge', '25047974#2', '25047974#0'])"
   ]
  },
  {
   "cell_type": "code",
   "execution_count": 12,
   "metadata": {},
   "outputs": [],
   "source": [
    "traci.close()"
   ]
  },
  {
   "cell_type": "code",
   "execution_count": null,
   "metadata": {},
   "outputs": [],
   "source": []
  }
 ],
 "metadata": {
  "kernelspec": {
   "display_name": "Python 3",
   "language": "python",
   "name": "python3"
  },
  "language_info": {
   "codemirror_mode": {
    "name": "ipython",
    "version": 3
   },
   "file_extension": ".py",
   "mimetype": "text/x-python",
   "name": "python",
   "nbconvert_exporter": "python",
   "pygments_lexer": "ipython3",
   "version": "3.8.6rc1"
  }
 },
 "nbformat": 4,
 "nbformat_minor": 4
}
