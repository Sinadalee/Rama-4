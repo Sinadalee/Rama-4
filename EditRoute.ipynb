{
 "cells": [
  {
   "cell_type": "code",
   "execution_count": 19,
   "metadata": {},
   "outputs": [],
   "source": [
    "import traci\n",
    "import lxml.etree as ET\n",
    "import csv\n",
    "def addBestLane():\n",
    "    root = ET.Element('routes')\n",
    "    list3 = []\n",
    "    tree = ET.parse('Kasemrat-SUMO-UsingBookNetFile/route02.rou.xml')\n",
    "    routes = tree.getroot()\n",
    "    count = 0\n",
    "    for v in routes:\n",
    "        list1 = v.attrib\n",
    "        for route in v:   \n",
    "            list3 = route.attrib\n",
    "#             print(list3)\n",
    "            if len(list1)>1:\n",
    "#                 print(list1)\n",
    "                list2 = [list1[key] for key in list1.keys()]\n",
    "                vehicle = ET.Element('vehicle',\n",
    "                                         {'id':str(list2[0]),\n",
    "                                          'depart':str(list2[1]),\n",
    "                                          'departLane' : \"best\"}) \n",
    "                ed = list3['edges'].strip().split(' ')\n",
    "#                 print(ed)\n",
    "                for e in range(len(ed)-1):\n",
    "#                     print(ed[e])\n",
    "                    if ed[e] == '292576585#1-AddedOffRampEdge': \n",
    "                        ok = ed[:e+1]\n",
    "                        break\n",
    "                    elif ed[e] == '300813736#0' and ed[e+1] == '820373194#0':\n",
    "                        ok = ed[:e+1]\n",
    "                        break\n",
    "                    else :\n",
    "                        ok = ed\n",
    "                str1 = \" \" \n",
    "                ok = str1.join(ok)\n",
    "                subelement = ET.SubElement(vehicle,'route',\n",
    "                                     {'edges':ok\n",
    "                                      })\n",
    "                vehicle.append(subelement)\n",
    "#                 subelement=ET.Element('vehicle','route',list3)\n",
    "                root.append(vehicle)\n",
    "    tree=ET.ElementTree(root)\n",
    "    filename = \"Kasemrat-SUMO-UsingBookNetFile/route555.rou.xml\"\n",
    "    tree.write(filename, xml_declaration=True, pretty_print=True)\n",
    "    return "
   ]
  },
  {
   "cell_type": "code",
   "execution_count": 20,
   "metadata": {},
   "outputs": [],
   "source": [
    "from xml.etree import ElementTree\n",
    "from xml.dom import minidom\n",
    "\n",
    "def prettify(elem):\n",
    "    \"\"\"Return a pretty-printed XML string for the Element.\n",
    "    \"\"\"\n",
    "    rough_string = ElementTree.tostring(elem, 'utf-8')\n",
    "    reparsed = minidom.parseString(rough_string)\n",
    "    return reparsed.toprettyxml(indent=\"  \")"
   ]
  },
  {
   "cell_type": "code",
   "execution_count": 21,
   "metadata": {},
   "outputs": [],
   "source": [
    "addBestLane()"
   ]
  },
  {
   "cell_type": "code",
   "execution_count": null,
   "metadata": {},
   "outputs": [],
   "source": []
  },
  {
   "cell_type": "code",
   "execution_count": null,
   "metadata": {},
   "outputs": [],
   "source": []
  }
 ],
 "metadata": {
  "kernelspec": {
   "display_name": "Python 3",
   "language": "python",
   "name": "python3"
  },
  "language_info": {
   "codemirror_mode": {
    "name": "ipython",
    "version": 3
   },
   "file_extension": ".py",
   "mimetype": "text/x-python",
   "name": "python",
   "nbconvert_exporter": "python",
   "pygments_lexer": "ipython3",
   "version": "3.8.6rc1"
  }
 },
 "nbformat": 4,
 "nbformat_minor": 4
}
