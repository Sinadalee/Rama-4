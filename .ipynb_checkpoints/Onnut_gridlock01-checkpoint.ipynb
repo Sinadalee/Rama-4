{
 "cells": [
  {
   "cell_type": "code",
   "execution_count": null,
   "metadata": {},
   "outputs": [],
   "source": [
    "import os, sys\n",
    "sys.path.append(os.path.join('/home/ring/sumo-svn/', 'tools'))\n",
    "import traci\n",
    "import traci.constants as tc\n",
    "import numpy as np\n",
    "from sumolib import checkBinary\n",
    "import datetime\n",
    "import matplotlib\n",
    "import matplotlib.pyplot as plt\n",
    "import copy\n",
    "import csv"
   ]
  },
  {
   "cell_type": "code",
   "execution_count": null,
   "metadata": {},
   "outputs": [],
   "source": [
    "# decision_threshold\n",
    "ONNUT_FP0_END_FLOW =  20 \n",
    "ONNUT_FP2_END_FLOW =  5\n",
    "ONNUT_FP0_TP2_UNJAM = 150\n",
    "ONNUT_FP0_END_MAXGREEN = 90\n",
    "ONNUT_FP2_END_MAXGREEN = 60"
   ]
  },
  {
   "cell_type": "code",
   "execution_count": null,
   "metadata": {},
   "outputs": [],
   "source": [
    "# <intersection>_<ApproachingDirection>_<EdgeIndex>_<LaneIndex>_<GoingDirection>\n",
    "# ONNUT\n",
    "ONNUT_EB_1_0_LSXX = '-93727606#1_0'\n",
    "\n",
    "ONNUT_NB_1_0_LSXX = '751454884#3_0'\n",
    "ONNUT_NB_1_1_XSXX = '751454884#3_1'\n",
    "ONNUT_NB_1_2_XSXX = '751454884#3_2'\n",
    "ONNUT_NB_2_0_LSXX = '751454884#2_0'\n",
    "ONNUT_NB_2_1_XSXX = '751454884#2_1'\n",
    "ONNUT_NB_2_2_XSXX = '751454884#2_2'\n",
    "ONNUT_NB_3_0_XSXX = '751454884#1_0'\n",
    "ONNUT_NB_3_1_XSXX = '751454884#1_1'\n",
    "ONNUT_NB_3_2_XSXX = '751454884#1_2'\n",
    "\n",
    "ONNUT_SB_1_0_LSXX = '824116560#3_0'\n",
    "ONNUT_SB_1_1_XSXX = '824116560#3_1'\n",
    "ONNUT_SB_1_2_XSXX = '824116560#3_2'\n",
    "ONNUT_SB_1_3_XSXX = '824116560#3_3'\n",
    "ONNUT_SB_2_0_LSXX = '824116560#2_0'\n",
    "ONNUT_SB_2_1_XSXX = '824116560#2_1'\n",
    "ONNUT_SB_2_2_XSXX = '824116560#2_2'\n",
    "ONNUT_SB_2_3_XSXX = '824116560#2_3'\n",
    "ONNUT_SB_3_0_LSXX = '824116560#1_0'\n",
    "ONNUT_SB_3_1_XSXX = '824116560#1_1'\n",
    "ONNUT_SB_3_2_XSXX = '824116560#1_2'\n",
    "ONNUT_SB_3_3_XSXX = '824116560#1_3'\n",
    "ONNUT_SB_4_0_LSXX = '824116560#0_0'\n",
    "ONNUT_SB_4_1_XSXX = '824116560#0_1'\n",
    "ONNUT_SB_4_2_XSXX = '824116560#0_2'\n",
    "ONNUT_SB_4_3_XSXX = '824116560#0_3'\n",
    "ONNUT_SB_5_0_XSXX = '824816455_0'\n",
    "ONNUT_SB_5_1_XSXX = '824816455_1'\n",
    "ONNUT_SB_5_2_XSXX = '824816455_2'\n",
    "\n",
    "ONNUT_WB_1_0_LSXX = '156591171#2_0'\n",
    "ONNUT_WB_1_1_XSXX = '156591171#2_1'\n",
    "ONNUT_WB_1_2_XSRX = '156591171#2_2'\n",
    "ONNUT_WB_2_0_XSXX = '156591171#0_0'\n",
    "ONNUT_WB_2_1_XSXX = '156591171#0_1'\n",
    "ONNUT_WB_2_2_XSRU = '156591171#0_2'\n",
    "ONNUT_WB_3_0_XSXX = '-824456409#0_0'\n",
    "ONNUT_WB_3_1_XSRU = '-824456409#0_1'"
   ]
  },
  {
   "cell_type": "code",
   "execution_count": null,
   "metadata": {},
   "outputs": [],
   "source": [
    "ONNUT_NB = [ONNUT_NB_1_0_LSXX ,\n",
    "ONNUT_NB_1_1_XSXX ,\n",
    "ONNUT_NB_1_2_XSXX ,\n",
    "ONNUT_NB_2_0_LSXX ,\n",
    "ONNUT_NB_2_1_XSXX ,\n",
    "ONNUT_NB_2_2_XSXX ,\n",
    "ONNUT_NB_3_0_XSXX ,\n",
    "ONNUT_NB_3_1_XSXX ,\n",
    "ONNUT_NB_3_2_XSXX]\n",
    "ONNUT_SB = [ONNUT_SB_1_0_LSXX ,\n",
    "ONNUT_SB_1_1_XSXX ,\n",
    "ONNUT_SB_1_2_XSXX ,\n",
    "ONNUT_SB_1_3_XSXX ,\n",
    "ONNUT_SB_3_0_LSXX ,\n",
    "ONNUT_SB_3_1_XSXX ,\n",
    "ONNUT_SB_3_2_XSXX ,\n",
    "ONNUT_SB_3_3_XSXX ,\n",
    "ONNUT_SB_4_0_LSXX ,\n",
    "ONNUT_SB_4_1_XSXX ,\n",
    "ONNUT_SB_4_2_XSXX ,\n",
    "ONNUT_SB_4_3_XSXX ,\n",
    "ONNUT_SB_5_0_XSXX ,\n",
    "ONNUT_SB_5_1_XSXX ,\n",
    "ONNUT_SB_5_2_XSXX]\n",
    "ONNUT_WB = [ONNUT_WB_1_0_LSXX ,\n",
    "ONNUT_WB_1_1_XSXX ,\n",
    "ONNUT_WB_1_2_XSRX ,\n",
    "ONNUT_WB_2_0_XSXX ,\n",
    "ONNUT_WB_2_1_XSXX ,\n",
    "ONNUT_WB_2_2_XSRU ,\n",
    "ONNUT_WB_3_0_XSXX ,\n",
    "ONNUT_WB_3_1_XSRU]"
   ]
  },
  {
   "cell_type": "code",
   "execution_count": null,
   "metadata": {},
   "outputs": [],
   "source": [
    "#reset the environment\n",
    "def reset():\n",
    "    sumoBinary = checkBinary('sumo-gui')\n",
    "    traci.start([sumoBinary, \"-c\", \"Onnut/onnut.sumocfg\",\n",
    "                             \"--tripinfo-output\", \"tripinfo.xml\", '--start','true','--quit-on-end','true','--time-to-teleport','-1'])"
   ]
  },
  {
   "cell_type": "code",
   "execution_count": 10,
   "metadata": {},
   "outputs": [],
   "source": [
    "id = {'Onnut': 'cluster_1088409501_272206263_5136790697_70702637'}\n",
    "number_phase = [2]\n",
    "# detecters = {'QA' : ['156261350#0'], 'QB' : ['-453962283#3'], 'QC' : ['459551209#0', '459551209#3'], 'QD' : ['27702347#0', '27702347#4', '27702347#6']}"
   ]
  },
  {
   "cell_type": "code",
   "execution_count": 11,
   "metadata": {},
   "outputs": [],
   "source": [
    "Onnut_edge = {'WB' : ['156591171#2', '156591171#0', '-824456409#0'], \n",
    "         'SB': ['824116560#3' ,'824116560#1', '824116560#0', '824816455'],\n",
    "         'NB': ['751454884#3']}\n",
    "OnnutArea_edge = [Onnut_edge]"
   ]
  },
  {
   "cell_type": "code",
   "execution_count": 12,
   "metadata": {},
   "outputs": [],
   "source": [
    "Onnut_detector_id = {'WB': [['156591171#2_0', '156591171#2_1', '156591171#2_2'], ['156591171#0_0', '156591171#0_1', '156591171#0_2'], ['-824456409#0_0', '-824456409#0_1']], \n",
    " 'SB': [['824116560#3_0', '824116560#3_1', '824116560#3_2', '824116560#3_3'], ['824116560#1_0', '824116560#1_1', '824116560#1_2', '824116560#1_3'], ['824116560#0_0', '824116560#0_1', '824116560#0_2', '824116560#0_3'], ['824816455_0', '824816455_1', '824816455_2']], \n",
    " 'NB': [['751454884#3_0', '751454884#3_1', '751454884#3_2']]}\n",
    "OnnutArea_detector_id = [Onnut_detector_id]"
   ]
  },
  {
   "cell_type": "code",
   "execution_count": 13,
   "metadata": {},
   "outputs": [],
   "source": [
    "# import traci\n",
    "# import lxml.etree as ET\n",
    "# def get_Onnut_id():\n",
    "#     ==\n",
    "# Function  get_Onnut_id \n",
    "# input = name of edge in onnut area (OnnutArea_edge)\n",
    "# returns outputs = id of all detectors in onnut area\n",
    "#     ==\n",
    "#     tree = ET.parse('Onnut/detectors_01.add.xml')\n",
    "#     additionals = tree.getroot()\n",
    "#     for junction in OnnutArea_edge:\n",
    "# #         print(junction)\n",
    "#         for key in junction.keys():\n",
    "#             detectors_id = []\n",
    "# #             print(key)\n",
    "#             for detectors in junction[key]:\n",
    "# #                 print(detectors)\n",
    "#                 detector_id = []\n",
    "#                 for e2Detector in additionals:\n",
    "#                     detector = e2Detector.attrib\n",
    "#                     if 'id' in detector.keys():\n",
    "#                         if detectors == detector['id'][:-2]:\n",
    "#                             detector_id.append(detector['id'])\n",
    "#                 detectors_id.append(detector_id)\n",
    "#             junction[key] = detectors_id\n",
    "#     for junction in OnnutArea_edge:\n",
    "#         print(junction)\n",
    "#     return \n",
    "# get_Onnut_id()"
   ]
  },
  {
   "cell_type": "code",
   "execution_count": 14,
   "metadata": {},
   "outputs": [],
   "source": [
    "def get_detector_id(list_detector):\n",
    "#     ==\n",
    "# Function get_detector_id takes inputs, namely, \n",
    "\n",
    "# list_detector = list of edge name of detectors ex. ['824116555#0-AddedOffRampEdge', '824116555#0']\n",
    "\n",
    "# and returns outputs, namely,\n",
    "\n",
    "# detector_id = list of id of detectors\n",
    "\n",
    "#     ==\n",
    "    detector_id = []\n",
    "    for j in range(len(OnnutArea_edge)):\n",
    "        for key in OnnutArea_edge[j].keys():\n",
    "            detectors_id = []\n",
    "#             print(key)\n",
    "            for i in range(len(OnnutArea_edge[j][key])):\n",
    "                for d in list_detector:\n",
    "                    if d == OnnutArea_edge[j][key][i]:\n",
    "#                         print(Onnut_detector_id [j][key][i])\n",
    "                        detector_id += OnnutArea_detector_id [j][key][i]\n",
    "#                 print(detector_id)\n",
    "    return detector_id\n",
    "# get_detector_id(['824116555#0-AddedOffRampEdge', '824116555#0'])"
   ]
  },
  {
   "cell_type": "code",
   "execution_count": 15,
   "metadata": {},
   "outputs": [],
   "source": [
    "def get_occupancy_average_percent(detector_id): #get_occupancy_average\n",
    "    occupancy = sum([traci.lanearea.getLastStepOccupancy(e) for e in detector_id])/len(detector_id)\n",
    "    return occupancy"
   ]
  },
  {
   "cell_type": "code",
   "execution_count": 16,
   "metadata": {},
   "outputs": [],
   "source": [
    "def get_flow_sum(detector_id):\n",
    "    # return number of vehicles on detector_id during last time step\n",
    "    #https://sumo.dlr.de/docs/TraCI/Lane_Area_Detector_Value_Retrieval.html\n",
    "    flow = sum([traci.lanearea.getLastStepVehicleNumber(e) for e in detector_id])#-sum([traci.lanearea.getJamLengthVehicle(e) for e in detector_id])\n",
    "    return flow"
   ]
  },
  {
   "cell_type": "code",
   "execution_count": 17,
   "metadata": {},
   "outputs": [],
   "source": [
    "def get_mean_speed(detector_id):\n",
    "    mean_speed = sum([traci.lanearea.getLastStepMeanSpeed(e) for e in detector_id])/len(detector_id)"
   ]
  },
  {
   "cell_type": "code",
   "execution_count": 18,
   "metadata": {},
   "outputs": [],
   "source": [
    "def get_unjamlength_meters(detector_id): \n",
    "    detector_length = sum(traci.lanearea.getLength(d) for d in detector_id)\n",
    "    unjamlength = detector_length - (sum([traci.lanearea.getJamLengthMeters(e) for e in detector_id])) #/detector_length\n",
    "    return unjamlength"
   ]
  },
  {
   "cell_type": "code",
   "execution_count": 19,
   "metadata": {},
   "outputs": [],
   "source": [
    "junction_name = list(id.keys()) \n",
    "def take_action(new_selected_traffic_signal_phases):\n",
    "#     ==\n",
    "# Function take_action takes inputs, namely, \n",
    "\n",
    "# new_selected_traffic_signal_phases[even indec] = current phase of traffic light signal from previous decision time step\n",
    "# new_selected_traffic_signal_phases[odd index] = next phase of traffic light signal from previous decision time step if no signal interruption would occur\n",
    "\n",
    "# and returns outputs, namely,\n",
    "\n",
    "# JamLengthMeter = sum of jam length in detectors area\n",
    "# Speed = sum of speed of all vehicles in detectors area\n",
    "#     ==\n",
    "    change_to_phase = new_selected_traffic_signal_phases[0::2]\n",
    "#     print(change_to_phase)\n",
    "    current_phase = [traci.trafficlight.getPhase(id[key]) for key in id.keys()]\n",
    "    for i in range(len(current_phase)):\n",
    "        if change_to_phase[i] != current_phase[i]:\n",
    "            yellow = (change_to_phase[i]-1)%(2*number_phase[i])\n",
    "#             print(yellow)\n",
    "#             print(junction_name[i])\n",
    "            traci.trafficlight.setPhase(id[junction_name[i]], yellow) #  YELLOW PHASE \n",
    "        else:\n",
    "            traci.trafficlight.setPhase(id[junction_name[i]], change_to_phase[i]) # No YELLOW PHASE \n",
    "    for i in range(5):\n",
    "        traci.simulationStep()\n",
    "#     w1 = sum([traci.lanearea.getLastStepOccupancy(e) for e in get_edge_id(reward_w1)])\n",
    "#     w2 = sum([traci.lanearea.getLastStepOccupancy(e) for e in get_edge_id(reward_w1)])\n",
    "    JamLengthMeter = sum([traci.lanearea.getJamLengthMeters(detector) for i in range (len(OnnutArea_detector_id)) for B in OnnutArea_detector_id[i].keys() for detectors in OnnutArea_detector_id[i][B] for detector in detectors])\n",
    "#     reward = -w2*(1-w) - w1*(w)\n",
    "#     state, len_state = get_state()\n",
    "    Speed = sum([traci.lanearea.getLastStepMeanSpeed(detector) for i in range (len(OnnutArea_detector_id)) for B in OnnutArea_detector_id[i].keys() for detectors in OnnutArea_detector_id[i][B] for detector in detectors])\n",
    "    reward = JamLengthMeter, Speed\n",
    "    return reward"
   ]
  },
  {
   "cell_type": "code",
   "execution_count": 33,
   "metadata": {},
   "outputs": [],
   "source": [
    "def traffic_police_action(selected_traffic_signal_phases,greentime_duration, decision_threshold, max_greentime_duration): \n",
    "#     ==\n",
    "# Function traffic_police_action takes inputs, namely, \n",
    "\n",
    "# selected_traffic_signal_phases[even index] = current phase of traffic light signal from previous decision time step\n",
    "# selected_traffic_signal_phases[odd index] = next phase of traffic light signal from previous decision time step if no signal interruption would occur\n",
    "# greentime_duration = number of seconds that current phase of traffic light signal has been used\n",
    "# max_greentime_duration = maximum allowable number of seconds for current phase of traffic light signal\n",
    "\n",
    "# and returns outputs, namely,\n",
    "\n",
    "# new_selected_traffic_signal_phases = new value of selected_traffic_signal_phases[0] and selected_traffic_signal_phases[1] (defined above) to be deployed till next decision time step\n",
    "# new_greentime_duration = new value of greentime_duration to be deployed till next decision time step\n",
    "#     ==\n",
    "    #Onnut\n",
    "    current_phase = selected_traffic_signal_phases[0]\n",
    "    next_phase_ifno_interupt = selected_traffic_signal_phases[1]\n",
    "#     print('get_flow_sum(get_detector_id(Onnut_edge[WB]))', get_flow_sum(get_detector_id(Onnut_edge['WB'])))\n",
    "#     print('get_flow_sum(get_detector_id(Onnut_edge[SB]))', get_flow_sum(get_detector_id(Onnut_edge['SB'])))\n",
    "#     print('unjamlength_meters Onnut_edge WB', get_unjamlength_meters(get_detector_id(Onnut_edge['WB'])))\n",
    "#     print('occupancy Onnut_edge SB', get_occupancy_average_percent(get_detector_id(Onnut_edge['SB'])))\n",
    "    if current_phase == 0:\n",
    "        if (get_flow_sum(ONNUT_SB) <= ONNUT_FP0_END_FLOW) or (greentime_duration >= ONNUT_FP0_END_MAXGREEN ): \n",
    "              current_phase = 2\n",
    "        if get_unjamlength_meters(ONNUT_SB) <= ONNUT_FP0_TP2_UNJAM :\n",
    "              current_phase = 2\n",
    "    elif current_phase == 2: #***\n",
    "        if get_flow_sum(ONNUT_WB) <= ONNUT_FP2_END_FLOW or greentime_duration >= ONNUT_FP2_END_MAXGREEN :\n",
    "              current_phase = 0\n",
    "    if selected_traffic_signal_phases[0] == current_phase:\n",
    "        greentime_duration += 5\n",
    "    else: greentime_duration = 0\n",
    "    Onnut_phase = current_phase\n",
    "    next_Onnut_phase_ifno_interupt = next_phase_ifno_interupt\n",
    "    new_selected_traffic_signal_phases = [Onnut_phase, next_Onnut_phase_ifno_interupt]\n",
    "    new_greentime_duration = greentime_duration\n",
    "#     action = [ KlongTei_phase, None, Rama4_phase,  next_Rama4_phase, 0, None, 0, None, 0, None, 0, None]\n",
    "    return new_selected_traffic_signal_phases, new_greentime_duration"
   ]
  },
  {
   "cell_type": "code",
   "execution_count": 26,
   "metadata": {},
   "outputs": [],
   "source": [
    "reward_memory = []\n",
    "def plot_durations():\n",
    "    print('show')\n",
    "    plt.figure(2)\n",
    "    plt.clf()\n",
    "    durations_t = torch.tensor(reward_memory, dtype=torch.float)\n",
    "    plt.title('Training...')\n",
    "    plt.xlabel('Step')\n",
    "    plt.ylabel('Reward')\n",
    "    plt.plot(durations_t.numpy())\n",
    "    # Take 100 episode averages and plot them too\n",
    "    if len(durations_t) >= 100:\n",
    "        means = durations_t.unfold(0, 100, 1).mean(1).view(-1)\n",
    "        means = torch.cat((torch.zeros(99), means))\n",
    "        plt.plot(means.numpy())\n",
    "\n",
    "    plt.pause(0.001)  # pause a bit so that plots are updated"
   ]
  },
  {
   "cell_type": "code",
   "execution_count": 27,
   "metadata": {},
   "outputs": [],
   "source": [
    "def episode0(decision_threshold, max_greentime_duration):\n",
    "    #episode = 0\n",
    "    reward_memory = []\n",
    "    JamLengthMeter_memory = []\n",
    "    Speed_memory = []\n",
    "    greentime_duration = 0\n",
    "    reset()\n",
    "    traci.simulationStep()\n",
    "    selected_traffic_signal_phases = [0, None]\n",
    "    for seconds in range(100): #2880\n",
    "#         state, len_state = get_state() #minimum_remaining_time = Q-lengthเมตร/free flow speed\n",
    "        new_selected_traffic_signal_phases, new_greentime_duration = traffic_police_action(selected_traffic_signal_phases,\n",
    "            greentime_duration, decision_threshold, max_greentime_duration)\n",
    "#         print(action)\n",
    "#         print(count)\n",
    "        JamLengthMeter, Speed = take_action(new_selected_traffic_signal_phases)\n",
    "        JamLengthMeter_memory.append(JamLengthMeter)\n",
    "        Speed_memory.append(Speed)\n",
    "#         print(JamLengthMeter_memory)\n",
    "#         print(state)\n",
    "        selected_traffic_signal_phases = new_selected_traffic_signal_phases\n",
    "        greentime_duration = new_greentime_duration \n",
    "#     with open('output.csv', mode='w', newline='') as csv_file:\n",
    "#         writer = csv.writer(csv_file)\n",
    "#         writer.writerow(['JamLengthMeter'])\n",
    "#         writer.writerows(JamLengthMeter_memory)\n",
    "    plt.figure(2)\n",
    "    plt.clf() \n",
    "    line_up, = plt.plot(JamLengthMeter_memory)\n",
    "    line_down, = plt.plot(Speed_memory)\n",
    "    plt.legend([line_up, line_down], ['JamLengthMeter', 'Speed'])\n",
    "    plt.pause(0.001)\n",
    "    traci.close()"
   ]
  },
  {
   "cell_type": "code",
   "execution_count": 34,
   "metadata": {},
   "outputs": [],
   "source": [
    "traci.close()"
   ]
  },
  {
   "cell_type": "code",
   "execution_count": 35,
   "metadata": {},
   "outputs": [
    {
     "data": {
      "image/png": "[encoded data removed]",
      "text/plain": [
       "<Figure size 432x288 with 1 Axes>"
      ]
     },
     "metadata": {
      "needs_background": "light"
     },
     "output_type": "display_data"
    }
   ],
   "source": [
    "decision_threshold =[]\n",
    "max_greentime_duration=[]\n",
    "episode0(decision_threshold, max_greentime_duration) #PEAM"
   ]
  },
  {
   "cell_type": "code",
   "execution_count": null,
   "metadata": {},
   "outputs": [],
   "source": []
  },
  {
   "cell_type": "code",
   "execution_count": null,
   "metadata": {},
   "outputs": [],
   "source": []
  }
 ],
 "metadata": {
  "kernelspec": {
   "display_name": "Python 3",
   "language": "python",
   "name": "python3"
  },
  "language_info": {
   "codemirror_mode": {
    "name": "ipython",
    "version": 3
   },
   "file_extension": ".py",
   "mimetype": "text/x-python",
   "name": "python",
   "nbconvert_exporter": "python",
   "pygments_lexer": "ipython3",
   "version": "3.9.2"
  }
 },
 "nbformat": 4,
 "nbformat_minor": 4
}
