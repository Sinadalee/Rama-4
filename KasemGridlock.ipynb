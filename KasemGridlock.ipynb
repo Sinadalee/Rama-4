{
 "cells": [
  {
   "cell_type": "code",
   "execution_count": 2,
   "metadata": {},
   "outputs": [],
   "source": [
    "id = {'KLONGTEI': 'cluster_1892287670_272491964_272492178',\n",
    "      'RAMA4': 'cluster_272488163_282390730_66263210_66263222',\n",
    "      'NARANONG': 'cluster_272488164_272492179_3457051443_61907354',\n",
    "      'SUNTHON': 'gneJ83',\n",
    "      'KASEMRAT': 'cluster_272448137_272555800_272555808_7660045934_7710268409',\n",
    "      'VIRTUAL' : '270329335'}\n",
    "number_phase = [3,7,6,4,3,3]"
   ]
  },
  {
   "cell_type": "code",
   "execution_count": 3,
   "metadata": {},
   "outputs": [],
   "source": [
    "#reset the environment\n",
    "def reset():\n",
    "    sumoBinary = checkBinary('sumo-gui')\n",
    "    traci.start([sumoBinary, \"-c\", \"Kasemrat-SUMO-UsingBookNetFile/osm.sumocfg\",\n",
    "                             \"--tripinfo-output\", \"tripinfo.xml\", '--start','true','--quit-on-end','true','--time-to-teleport','-1'])"
   ]
  },
  {
   "cell_type": "code",
   "execution_count": 4,
   "metadata": {},
   "outputs": [],
   "source": [
    "import csv\n",
    "import os, sys\n",
    "sys.path.append(os.path.join('/home/ring/sumo-svn/', 'tools'))\n",
    "import traci\n",
    "import traci.constants as tc\n",
    "import numpy as np\n",
    "from sumolib import checkBinary\n",
    "import datetime\n",
    "import matplotlib\n",
    "import matplotlib.pyplot as plt\n",
    "import torch\n",
    "import copy\n",
    "import pandas as pd"
   ]
  },
  {
   "cell_type": "code",
   "execution_count": 28,
   "metadata": {},
   "outputs": [
    {
     "name": "stdout",
     "output_type": "stream",
     "text": [
      "ok\n"
     ]
    }
   ],
   "source": [
    "namelane_csv = pd.read_csv('namelane_KASEMRAT.csv')\n",
    "namelane_df = pd.DataFrame(namelane_csv, columns = ['name' , 'id'])\n",
    "NAME = namelane_df.set_index('name')\n",
    "ID = namelane_df.set_index('id')\n",
    "if NAME.loc['KASEMRAT_EB_1_0_XSXX','id'] == '459551209#3_0':\n",
    "    print('ok')"
   ]
  },
  {
   "cell_type": "code",
   "execution_count": 6,
   "metadata": {},
   "outputs": [],
   "source": [
    "# list(NAME['id'])"
   ]
  },
  {
   "cell_type": "code",
   "execution_count": 7,
   "metadata": {},
   "outputs": [
    {
     "data": {
      "text/plain": [
       "name    NARANONG_EB_1_1_XSRU\n",
       "Name: 25053626_1, dtype: object"
      ]
     },
     "execution_count": 7,
     "metadata": {},
     "output_type": "execute_result"
    }
   ],
   "source": [
    "ID.loc['25053626_1']#, '820373198#0', '820373196#0', '482209831#0']"
   ]
  },
  {
   "cell_type": "code",
   "execution_count": 8,
   "metadata": {},
   "outputs": [],
   "source": [
    "# RAMA4\n",
    "RAMA4_EB_R = [NAME.loc['RAMA4_EB_2_0_LSXX','id'], NAME.loc['RAMA4_EB_1_3_XSRU','id']]\n",
    "RAMA4_EB = [NAME.loc['KLONGTEI_EB_1_0_XSXX','id'],NAME.loc['KLONGTEI_EB_1_1_XSXX','id'],NAME.loc['KLONGTEI_EB_1_2_XSXX','id'],NAME.loc['KLONGTEI_EB_1_3_XSXX','id'],NAME.loc['KLONGTEI_EB_1_4_XSRU','id'],NAME.loc['KLONGTEI_EB_2_0_XSXX','id'],NAME.loc['KLONGTEI_EB_2_1_XSXX','id'],NAME.loc['KLONGTEI_EB_2_2_XSXX','id'],NAME.loc['KLONGTEI_EB_2_3_XSXX','id'],NAME.loc['KLONGTEI_EB_3_0_LSXX','id'],NAME.loc['KLONGTEI_EB_3_1_XSXX','id'],NAME.loc['KLONGTEI_EB_3_2_XSXX','id'],NAME.loc['KLONGTEI_EB_3_3_XSXX','id'],NAME.loc['KLONGTEI_EB_4_0_LSXX','id'],NAME.loc['KLONGTEI_EB_4_1_XSXX','id'],NAME.loc['KLONGTEI_EB_5_0_XSXX','id'],NAME.loc['KLONGTEI_EB_5_1_XSXX','id'],NAME.loc['KLONGTEI_EB_5_2_XSXX','id'],NAME.loc['KLONGTEI_EB_5_3_XSXX','id'],NAME.loc['KLONGTEI_EB_5_4_XSXX','id'],NAME.loc['KLONGTEI_EB_6_0_XSXX','id'],NAME.loc['KLONGTEI_EB_6_1_XSXX','id'],NAME.loc['KLONGTEI_EB_6_2_XSXX','id'],NAME.loc['KLONGTEI_EB_6_3_XSXX','id'],NAME.loc['RAMA4_EB_1_0_XSXX','id'],NAME.loc['RAMA4_EB_1_1_XSXX','id'],NAME.loc['RAMA4_EB_1_2_XSXX','id'],NAME.loc['RAMA4_EB_1_3_XSRU','id'],NAME.loc['RAMA4_EB_2_0_LSXX','id'],NAME.loc['RAMA4_EB_2_1_XSXX','id'],NAME.loc['RAMA4_EB_2_2_XSXX','id'],NAME.loc['RAMA4_EB_2_3_XSXX','id'],NAME.loc['RAMA4_EB_2_4_XSXX','id']]\n",
    "RAMA4_SB = [NAME.loc['RAMA4_SB_1_0_XSXX','id'],NAME.loc['RAMA4_SB_1_1_XSXX','id'],NAME.loc['RAMA4_SB_1_2_XSRU','id'],NAME.loc['RAMA4_SB_2_0_LSXX','id'],NAME.loc['RAMA4_SB_2_1_XSXX','id'],NAME.loc['RAMA4_SB_2_2_XSXX','id'],NAME.loc['RAMA4_SB_2_3_XSXX','id'],NAME.loc['RAMA4_SB_3_0_XSXX','id'],NAME.loc['RAMA4_SB_3_1_XSXX','id'],NAME.loc['RAMA4_SB_3_2_XSXX','id'],NAME.loc['RAMA4_SB_4_0_XSXX','id'],NAME.loc['RAMA4_SB_4_1_XSXX','id'],NAME.loc['RAMA4_SB_4_2_XSXX','id'],NAME.loc['RAMA4_SB_4_3_XSRX','id'],NAME.loc['RAMA4_SB_5_0_XSXX','id'],NAME.loc['RAMA4_SB_5_1_XSXX','id'],NAME.loc['RAMA4_SB_5_2_XSXX','id'],NAME.loc['RAMA4_SB_6_0_XSXX','id'],NAME.loc['RAMA4_SB_6_1_XSXX','id'],NAME.loc['RAMA4_SB_6_2_XSXX','id'],NAME.loc['RAMA4_SB_6_3_XSXX','id'],NAME.loc['RAMA4_SB_6_4_XSXX','id']]\n",
    "RAMA4_NB = [NAME.loc['RAMA4_NB_1_0_XSXX','id'],NAME.loc['RAMA4_NB_1_1_XSXX','id'],NAME.loc['RAMA4_NB_1_2_XSRU','id'],NAME.loc['RAMA4_NB_2_0_LSXX','id'],NAME.loc['RAMA4_NB_2_1_XSXX','id'],NAME.loc['RAMA4_NB_2_2_XSXX','id'],NAME.loc['RAMA4_NB_2_3_XSXX','id'],NAME.loc['RAMA4_NB_3_0_XSXX','id'],NAME.loc['RAMA4_NB_3_1_XSXX','id'],NAME.loc['RAMA4_NB_3_2_XSXX','id'],NAME.loc['RAMA4_NB_4_0_XSXX','id'],NAME.loc['RAMA4_NB_4_1_XSXX','id']]\n",
    "RAMA4_WB = [NAME.loc['RAMA4_WB_1_0_XSXX','id'],NAME.loc['RAMA4_WB_1_1_XSXX','id'],NAME.loc['RAMA4_WB_1_2_XSXX','id'],NAME.loc['RAMA4_WB_1_3_XSXX','id'],NAME.loc['RAMA4_WB_1_4_XSRU','id'],NAME.loc['RAMA4_WB_2_0_LSXX','id'],NAME.loc['RAMA4_WB_2_1_XSXX','id'],NAME.loc['RAMA4_WB_2_2_XSXX','id'],NAME.loc['RAMA4_WB_2_3_XSXX','id'],NAME.loc['RAMA4_WB_2_4_XSXX','id'],NAME.loc['RAMA4_WB_2_5_XSXX','id'],NAME.loc['RAMA4_WB_3_0_XSXX','id'],NAME.loc['RAMA4_WB_3_1_XSXX','id'],NAME.loc['RAMA4_WB_3_2_XSXX','id'],NAME.loc['RAMA4_WB_3_3_XSXX','id'],NAME.loc['RAMA4_WB_4_0_XSXX','id'],NAME.loc['RAMA4_WB_4_1_XSXX','id'],NAME.loc['RAMA4_WB_4_2_XSXX','id'],NAME.loc['RAMA4_WB_5_0_XSXX','id'],NAME.loc['RAMA4_WB_5_1_XSXX','id'],NAME.loc['RAMA4_WB_6_0_LSXX','id'],NAME.loc['RAMA4_WB_6_1_XSXX','id'],NAME.loc['RAMA4_WB_6_2_XSXX','id'],NAME.loc['RAMA4_WB_7_0_LSXX','id'],NAME.loc['RAMA4_WB_7_1_XSXX','id'],NAME.loc['RAMA4_WB_7_2_XSXX','id']]\n",
    "RAMA4_WB_R = [NAME.loc['RAMA4_WB_1_4_XSRU','id'], NAME.loc['RAMA4_WB_2_5_XSXX','id'],NAME.loc['RAMA4_WB_3_3_XSXX','id']]"
   ]
  },
  {
   "cell_type": "code",
   "execution_count": 9,
   "metadata": {},
   "outputs": [],
   "source": [
    "KLONGTEI_NB = [NAME.loc['KLONGTEI_NB_1_0_LSXX','id'],NAME.loc['KLONGTEI_NB_1_1_XSXX','id'],NAME.loc['KLONGTEI_NB_1_2_XSXX','id'],NAME.loc['KLONGTEI_NB_1_3_XSRU','id'],NAME.loc['KLONGTEI_NB_2_0_LSXX','id'],NAME.loc['KLONGTEI_NB_2_1_XSXX','id'],NAME.loc['KLONGTEI_NB_2_2_XSXX','id'],NAME.loc['KLONGTEI_NB_2_3_XSXX','id'],NAME.loc['KLONGTEI_NB_3_0_LSXX','id'],NAME.loc['KLONGTEI_NB_3_1_XSXX','id'],NAME.loc['KLONGTEI_NB_3_2_XSXX','id'],NAME.loc['KLONGTEI_NB_3_3_XSXX','id']]"
   ]
  },
  {
   "cell_type": "code",
   "execution_count": 10,
   "metadata": {},
   "outputs": [],
   "source": [
    "# NARANONG\n",
    "NARANONG_EB = [NAME.loc['NARANONG_EB_1_0_LSXX','id'],NAME.loc['NARANONG_EB_1_1_XSRU','id'],NAME.loc['NARANONG_EB_2_0_XSXX','id'],NAME.loc['NARANONG_EB_2_1_XSXX','id'],NAME.loc['NARANONG_EB_3_0_XSXX','id'],NAME.loc['NARANONG_EB_3_1_XSXX','id'],NAME.loc['NARANONG_EB_3_2_XSXX','id'],NAME.loc['NARANONG_EB_4_0_XSXX','id'],NAME.loc['NARANONG_EB_4_1_XSRX','id'],NAME.loc['NARANONG_EB_5_0_LSXX','id'],NAME.loc['NARANONG_EB_5_1_XSXX','id'],NAME.loc['NARANONG_EB_6_0_LSXX','id'],NAME.loc['NARANONG_EB_6_1_XSRX','id']]\n",
    "NARANONG_WB = [NAME.loc['NARANONG_WB_1_0_LSXX','id'],NAME.loc['NARANONG_WB_1_1_XSXX','id'],NAME.loc['NARANONG_WB_1_2_XSXX','id'],NAME.loc['NARANONG_WB_1_3_XSRU','id'],NAME.loc['NARANONG_WB_2_0_XSXX','id'],NAME.loc['NARANONG_WB_2_1_XSXX','id'],NAME.loc['NARANONG_WB_2_2_XSXX','id'],NAME.loc['NARANONG_WB_3_0_LSXX','id'],NAME.loc['NARANONG_WB_3_1_XSXX','id'],NAME.loc['NARANONG_WB_3_2_XSXX','id'],NAME.loc['NARANONG_WB_4_0_XSXX','id'],NAME.loc['NARANONG_WB_4_1_XSXX','id'],NAME.loc['NARANONG_WB_4_2_XSXX','id'],NAME.loc['NARANONG_WB_4_3_XSXX','id'],NAME.loc['NARANONG_WB_5_0_XSXX','id'],NAME.loc['NARANONG_WB_5_1_XSXX','id'],NAME.loc['NARANONG_WB_5_2_XSXX','id']]\n",
    "NARANONG_SB = [NAME.loc['NARANONG_SB_1_0_LSXX','id'],NAME.loc['NARANONG_SB_1_1_XSXX','id'],NAME.loc['NARANONG_SB_1_2_XSRX','id'],NAME.loc['NARANONG_SB_2_0_LSXX','id'],NAME.loc['NARANONG_SB_2_1_XSXX','id'],NAME.loc['NARANONG_SB_2_2_XSXX','id'],NAME.loc['NARANONG_SB_2_3_XSXX','id'],NAME.loc['NARANONG_SB_3_0_XSXX','id'],NAME.loc['NARANONG_SB_3_1_XSXX','id'],NAME.loc['NARANONG_SB_3_2_XSXX','id'],NAME.loc['NARANONG_SB_3_3_XSXX','id']]\n",
    "NARANONG_SW = [NAME.loc['NARANONG_SW_1_0_LSXX','id'],NAME.loc['NARANONG_SW_1_1_XSRX','id'],NAME.loc['NARANONG_SW_2_0_XSXX','id'],NAME.loc['NARANONG_SW_2_1_XSXX','id'],NAME.loc['NARANONG_SW_2_2_XSXX','id'],NAME.loc['NARANONG_SW_2_3_XSXX','id'],NAME.loc['NARANONG_SW_3_0_XSXX','id'],NAME.loc['NARANONG_SW_3_1_XSXX','id'],NAME.loc['NARANONG_SW_3_2_XSXX','id']]\n",
    "NARANONG_NB = [NAME.loc['NARANONG_NB_1_0_XSXX','id'],NAME.loc['NARANONG_NB_1_1_XSRX','id'],NAME.loc['NARANONG_NB_2_0_LSXX','id'],NAME.loc['NARANONG_NB_2_1_XSXX','id'],NAME.loc['NARANONG_NB_2_2_XSXX','id'],NAME.loc['NARANONG_NB_3_0_XSXX','id'],NAME.loc['NARANONG_NB_3_1_XSXX','id']]\n",
    "NARANONG_EB_R = [NAME.loc['NARANONG_EB_1_1_XSRU','id']]"
   ]
  },
  {
   "cell_type": "code",
   "execution_count": 11,
   "metadata": {},
   "outputs": [],
   "source": [
    "# SUNTHON\n",
    "SUNTHON_EB = [NAME.loc['SUNTHON_EB_1_0_LSXX','id'],NAME.loc['SUNTHON_EB_1_1_XSXX','id'],NAME.loc['SUNTHON_EB_1_2_XSRU','id'],NAME.loc['SUNTHON_EB_2_0_XSXX','id'],NAME.loc['SUNTHON_EB_2_1_XSXX','id'],NAME.loc['SUNTHON_EB_2_2_XSXX','id'],NAME.loc['SUNTHON_EB_2_3_XSRX','id'],NAME.loc['SUNTHON_EB_3_0_XSXX','id'],NAME.loc['SUNTHON_EB_3_1_XSXX','id'],NAME.loc['SUNTHON_EB_3_2_XSXX','id'],NAME.loc['SUNTHON_EB_4_0_XSXX','id'],NAME.loc['SUNTHON_EB_4_1_XSXX','id'],NAME.loc['SUNTHON_EB_5_0_XSXX','id']]\n",
    "SUNTHON_WB = [NAME.loc['SUNTHON_WB_1_0_LSXX','id'],NAME.loc['SUNTHON_WB_1_1_XSXX','id'],NAME.loc['SUNTHON_WB_1_2_XSRX','id'],NAME.loc['SUNTHON_WB_2_0_XSXX','id'],NAME.loc['SUNTHON_WB_2_1_XSXX','id'],NAME.loc['SUNTHON_WB_2_2_XSXX','id'],NAME.loc['SUNTHON_WB_3_0_XSXX','id'],NAME.loc['SUNTHON_WB_3_1_XSXX','id']]\n",
    "SUNTHON_SB = [NAME.loc['SUNTHON_SB_1_0_LSXX','id'],NAME.loc['SUNTHON_SB_1_1_XSXX','id'],NAME.loc['SUNTHON_SB_1_2_XSRU','id'],NAME.loc['SUNTHON_SB_2_0_LSXX','id'],NAME.loc['SUNTHON_SB_2_1_XSXX','id'],NAME.loc['SUNTHON_SB_2_2_XSXX','id'],NAME.loc['SUNTHON_SB_2_3_XSXX','id'],NAME.loc['SUNTHON_SB_3_0_XSXX','id'],NAME.loc['SUNTHON_SB_3_1_XSXX','id'],NAME.loc['SUNTHON_SB_3_2_XSXX','id'],NAME.loc['SUNTHON_SB_4_0_LSXX','id'],NAME.loc['SUNTHON_SB_4_1_XSXX','id'],NAME.loc['SUNTHON_SB_4_2_XSXX','id'],NAME.loc['SUNTHON_SB_4_3_XSRX','id'],NAME.loc['SUNTHON_SB_5_0_XSXX','id'],NAME.loc['SUNTHON_SB_5_1_XSXX','id'],NAME.loc['SUNTHON_SB_5_2_XSXX','id']]\n",
    "SUNTHON_NB = [NAME.loc['SUNTHON_NB_1_0_LSXX','id'],NAME.loc['SUNTHON_NB_1_1_XSXX','id'],NAME.loc['SUNTHON_NB_1_2_XSRX','id'],NAME.loc['SUNTHON_NB_2_0_LSXX','id'],NAME.loc['SUNTHON_NB_2_1_XSXX','id'],NAME.loc['SUNTHON_NB_2_2_XSXX','id'],NAME.loc['SUNTHON_NB_3_0_XSXX','id'],NAME.loc['SUNTHON_NB_3_1_XSXX','id'],NAME.loc['SUNTHON_NB_3_2_XSXX','id'],NAME.loc['SUNTHON_NB_4_0_LSXX','id'],NAME.loc['SUNTHON_NB_4_1_XSXX','id'],NAME.loc['SUNTHON_NB_4_2_XSXX','id']]"
   ]
  },
  {
   "cell_type": "code",
   "execution_count": 12,
   "metadata": {},
   "outputs": [],
   "source": [
    "# KASEMRAT\n",
    "KASEMRAT_EB = [NAME.loc['KASEMRAT_EB_1_0_XSXX','id'],NAME.loc['KASEMRAT_EB_1_1_XSXX','id'],NAME.loc['KASEMRAT_EB_1_2_XSXX','id'],NAME.loc['KASEMRAT_EB_1_3_XSRU','id'],NAME.loc['KASEMRAT_EB_2_0_LSXX','id'],NAME.loc['KASEMRAT_EB_2_1_XSXX','id'],NAME.loc['KASEMRAT_EB_2_2_XSXX','id'],NAME.loc['KASEMRAT_EB_2_3_XSXX','id'],NAME.loc['KASEMRAT_EB_3_0_LSXX','id'],NAME.loc['KASEMRAT_EB_3_1_XSXX','id'],NAME.loc['KASEMRAT_EB_3_2_XSXX','id'],NAME.loc['KASEMRAT_EB_4_0_LSXX','id'],NAME.loc['KASEMRAT_EB_4_1_XSXX','id'],NAME.loc['KASEMRAT_EB_4_2_XSXX','id'],NAME.loc['KASEMRAT_EB_5_0_LSXX','id'],NAME.loc['KASEMRAT_EB_5_1_XSXX','id'],NAME.loc['KASEMRAT_EB_5_2_XSXX','id'],NAME.loc['KASEMRAT_EB_6_0_LSXX','id'],NAME.loc['KASEMRAT_EB_6_1_XSXX','id'],NAME.loc['KASEMRAT_EB_6_2_XSXX','id'],NAME.loc['KASEMRAT_EB_6_3_XSXX','id'],NAME.loc['KASEMRAT_EB_7_0_LSXX','id'],NAME.loc['KASEMRAT_EB_7_1_XSXX','id'],NAME.loc['KASEMRAT_EB_7_2_XSXX','id'],NAME.loc['KASEMRAT_EB_7_3_XSXX','id'],NAME.loc['KASEMRAT_EB_8_0_LSXX','id'],NAME.loc['KASEMRAT_EB_8_1_XSXX','id'],NAME.loc['KASEMRAT_EB_8_2_XSXX','id'],NAME.loc['KASEMRAT_EB_8_3_XSXX','id'],NAME.loc['KASEMRAT_EB_9_0_XSXX','id'],NAME.loc['KASEMRAT_EB_9_1_XSXX','id'],NAME.loc['KASEMRAT_EB_9_2_XSXX','id'],NAME.loc['KASEMRAT_EB_9_3_XSXX','id'],NAME.loc['KASEMRAT_EB_9_4_XSXX','id'],NAME.loc['KASEMRAT_EB_10_0_XSXX','id'],NAME.loc['KASEMRAT_EB_10_1_XSXX','id'],NAME.loc['KASEMRAT_EB_10_2_XSXX','id'],NAME.loc['KASEMRAT_EB_10_3_XSXX','id']]\n",
    "KASEMRAT_WB = [NAME.loc['KASEMRAT_WB_1_0_LSXX','id'],NAME.loc['KASEMRAT_WB_1_1_XSXX','id'],NAME.loc['KASEMRAT_WB_1_2_XSXX','id'],NAME.loc['KASEMRAT_WB_2_0_XSXX','id'],NAME.loc['KASEMRAT_WB_2_1_XSXX','id'],NAME.loc['KASEMRAT_WB_2_2_XSXX','id'],NAME.loc['KASEMRAT_WB_2_3_XSRX','id'],NAME.loc['KASEMRAT_WB_3_0_XSXX','id'],NAME.loc['KASEMRAT_WB_3_1_XSXX','id'],NAME.loc['KASEMRAT_WB_3_2_XSXX','id'],NAME.loc['KASEMRAT_WB_4_0_LSXX','id'],NAME.loc['KASEMRAT_WB_4_1_XSXX','id'],NAME.loc['KASEMRAT_WB_4_2_XSXX','id']]\n",
    "KASEMRAT_NB = [NAME.loc['KASEMRAT_NB_1_0_LSXX','id'],NAME.loc['KASEMRAT_NB_1_1_XSXX','id'],NAME.loc['KASEMRAT_NB_1_2_XSRX','id'],NAME.loc['KASEMRAT_NB_2_0_LSXX','id'],NAME.loc['KASEMRAT_NB_2_1_XSXX','id'],NAME.loc['KASEMRAT_NB_2_2_XSXX','id'],NAME.loc['KASEMRAT_NB_3_0_XSXX','id'],NAME.loc['KASEMRAT_NB_3_1_XSXX','id'],NAME.loc['KASEMRAT_NB_4_0_LSXX','id'],NAME.loc['KASEMRAT_NB_4_1_XSXX','id'],NAME.loc['KASEMRAT_NB_4_2_XSXX','id'],NAME.loc['KASEMRAT_NB_4_3_XSRU','id'],NAME.loc['KASEMRAT_NB_5_0_XSXX','id'],NAME.loc['KASEMRAT_NB_5_1_XSXX','id'],NAME.loc['KASEMRAT_NB_5_2_XSXX','id'],NAME.loc['KASEMRAT_NB_6_0_XSXX','id'],NAME.loc['KASEMRAT_NB_6_1_XSXX','id'],NAME.loc['KASEMRAT_NB_6_2_XSXX','id'],NAME.loc['KASEMRAT_NB_6_3_XSXX','id'],NAME.loc['KASEMRAT_NB_7_0_XSXX','id'],NAME.loc['KASEMRAT_NB_7_1_XSXX','id'],NAME.loc['KASEMRAT_NB_7_2_XSXX','id']]\n",
    "KASEMRAT_EB_R = [NAME.loc['KASEMRAT_EB_1_3_XSRU','id'],NAME.loc['KASEMRAT_EB_2_3_XSXX','id']]"
   ]
  },
  {
   "cell_type": "code",
   "execution_count": 13,
   "metadata": {},
   "outputs": [],
   "source": [
    "MASUK = [NAME.loc['MASUK_NB_1_1_LSXX','id'],NAME.loc['MASUK_WB_1_1_LSRX','id'],NAME.loc['MASUK_SB_1_1_XSRU','id'],NAME.loc['MASUK_SB_2_1_LSXU','id'],NAME.loc['MASUK_SB_3_1_LXXX','id']]"
   ]
  },
  {
   "cell_type": "code",
   "execution_count": 14,
   "metadata": {},
   "outputs": [],
   "source": [
    "#decision threshold\n",
    "#decision threshold\n",
    "RAMA4_FP0_TP4_OCC = 10\n",
    "RAMA4_FP0_END_MAXGREEN = 120\n",
    "RAMA4_FP0_END_FLOW = 5\n",
    "\n",
    "RAMA4_FP4_END_MAXGREEN = 30\n",
    "RAMA4_FP4_END_FLOW = 20\n",
    "RAMA4_FP4_END_OCC = 50\n",
    "RAMA4_FPX_TP0_UNJAM = 150\n",
    "RAMA4_FPX_TP8_UNJAM = 20\n",
    "\n",
    "RAMA4_FP2_END_MAXGREEN = 30\n",
    "RAMA4_FP2_END_FLOW = 5\n",
    "\n",
    "RAMA4_FP6_END_MAXGREEN = 30\n",
    "RAMA4_FP6_END_UNJAM = 90\n",
    "\n",
    "RAMA4_FP8_END_MAXGREEN = 30\n",
    "RAMA4_FP8_END_OCC = 30\n",
    "\n",
    "KLONGTEI_FP2_END_FLOW = 5\n",
    "KLONGTEI_NO_P2_MAXGREEN = 120"
   ]
  },
  {
   "cell_type": "code",
   "execution_count": 15,
   "metadata": {},
   "outputs": [],
   "source": [
    "#MAX GREEN TIME"
   ]
  },
  {
   "cell_type": "code",
   "execution_count": 16,
   "metadata": {},
   "outputs": [],
   "source": [
    "#reset the environment\n",
    "def reset():\n",
    "    sumoBinary = checkBinary('sumo-gui')\n",
    "    traci.start([sumoBinary, \"-c\", \"Kasemrat-SUMO-UsingBookNetFile/osm.sumocfg\",\n",
    "                             \"--tripinfo-output\", \"tripinfo.xml\", '--start','true','--quit-on-end','true','--time-to-teleport','-1'])"
   ]
  },
  {
   "cell_type": "code",
   "execution_count": 17,
   "metadata": {},
   "outputs": [],
   "source": [
    "def get_occupancy_average_percent(detector_id): #get_occupancy_average\n",
    "    occupancy = sum([traci.lanearea.getLastStepOccupancy(e) for e in detector_id])/len(detector_id)\n",
    "    return occupancy"
   ]
  },
  {
   "cell_type": "code",
   "execution_count": 18,
   "metadata": {},
   "outputs": [],
   "source": [
    "def get_flow_sum(detector_id):\n",
    "    # return number of vehicles on detector_id during last time step\n",
    "    #https://sumo.dlr.de/docs/TraCI/Lane_Area_Detector_Value_Retrieval.html\n",
    "    flow = sum([traci.lanearea.getLastStepVehicleNumber(e) for e in detector_id])#-sum([traci.lanearea.getJamLengthVehicle(e) for e in detector_id])\n",
    "    return flow"
   ]
  },
  {
   "cell_type": "code",
   "execution_count": 19,
   "metadata": {},
   "outputs": [],
   "source": [
    "def get_mean_speed(detector_id):\n",
    "    mean_speed = sum([traci.lanearea.getLastStepMeanSpeed(e) for e in detector_id])/len(detector_id)"
   ]
  },
  {
   "cell_type": "code",
   "execution_count": 20,
   "metadata": {},
   "outputs": [],
   "source": [
    "def get_unjamlength_meters(detector_id): \n",
    "    detector_length = sum(traci.lanearea.getLength(d) for d in detector_id)\n",
    "    unjamlength = detector_length - (sum([traci.lanearea.getJamLengthMeters(e) for e in detector_id])) #/detector_length\n",
    "    return unjamlength"
   ]
  },
  {
   "cell_type": "code",
   "execution_count": 21,
   "metadata": {},
   "outputs": [],
   "source": [
    "def traffic_police_action(selected_traffic_signal_phases,list_greentime_duration, decision_threshold, max_greentime_duration): \n",
    "#     ==\n",
    "# Function traffic_police_action takes inputs, namely, \n",
    "\n",
    "# selected_traffic_signal_phases[even index] = current phase of traffic light signal from previous decision time step\n",
    "# selected_traffic_signal_phases[odd index] = next phase of traffic light signal from previous decision time step if no signal interruption would occur\n",
    "# greentime_duration = number of seconds that current phase of traffic light signal has been used\n",
    "# max_greentime_duration = maximum allowable number of seconds for current phase of traffic light signal\n",
    "\n",
    "# and returns outputs, namely,\n",
    "\n",
    "# new_selected_traffic_signal_phases = new value of selected_traffic_signal_phases[0] and selected_traffic_signal_phases[1] (defined above) to be deployed till next decision time step\n",
    "# new_greentime_duration = new value of greentime_duration to be deployed till next decision time step\n",
    "#     ==\n",
    "    #Rama\n",
    "    current_phase = selected_traffic_signal_phases[2]\n",
    "    next_phase_ifno_interupt = selected_traffic_signal_phases[3]\n",
    "    greentime_duration = list_greentime_duration[1]\n",
    "#     print('get_flow_sum(get_detector_id(Onnut_edge[WB]))', get_flow_sum(get_detector_id(Onnut_edge['WB'])))\n",
    "#     print('get_flow_sum(get_detector_id(Onnut_edge[SB]))', get_flow_sum(get_detector_id(Onnut_edge['SB'])))\n",
    "#     print('unjamlength_meters Onnut_edge WB', get_unjamlength_meters(get_detector_id(Onnut_edge['WB'])))\n",
    "#     print('occupancy Onnut_edge SB', get_occupancy_average_percent(get_detector_id(Onnut_edge['SB'])))\n",
    "\n",
    "    if current_phase == 0: #*** --->1\n",
    "        if RAMA4_FP0_TP4_OCC >= get_occupancy_average_percent(RAMA4_EB) : #Pupe\n",
    "            current_phase = 2\n",
    "        if RAMA4_FP0_END_MAXGREEN <= greentime_duration or RAMA4_FP0_END_FLOW >= get_flow_sum(RAMA4_EB_R):\n",
    "            if next_phase_ifno_interupt == None:\n",
    "                current_phase = 4\n",
    "            else:\n",
    "                current_phase = next_phase_ifno_interupt \n",
    "                next_phase_ifno_interupt = None\n",
    "        if RAMA4_FPX_TP8_UNJAM >= get_unjamlength_meters(RAMA4_NB):\n",
    "            next_phase_ifno_interupt = 4\n",
    "            current_phase = 8\n",
    "    if current_phase == 4: #---><---3\n",
    "        if RAMA4_FP4_END_FLOW >= get_flow_sum(RAMA4_WB_R) and \\\n",
    "         RAMA4_FP4_END_OCC >= get_occupancy_average_percent(RAMA4_EB):\n",
    "            current_phase = 2\n",
    "        if RAMA4_FP4_END_MAXGREEN <= greentime_duration: #Pupe\n",
    "            current_phase = 6\n",
    "        if RAMA4_FPX_TP0_UNJAM >= get_unjamlength_meters(RAMA4_EB):\n",
    "            next_phase_ifno_interupt = 2\n",
    "            current_phase = 0\n",
    "        if RAMA4_FPX_TP8_UNJAM >= get_unjamlength_meters(RAMA4_NB):\n",
    "            next_phase_ifno_interupt = 2\n",
    "            current_phase = 8\n",
    "    if current_phase == 2: #<---2\n",
    "        if RAMA4_FP2_END_MAXGREEN <= greentime_duration or RAMA4_FP2_END_FLOW >= get_flow_sum(RAMA4_WB_R):\n",
    "            current_phase = 6\n",
    "        if RAMA4_FPX_TP0_UNJAM >= get_unjamlength_meters(RAMA4_EB):\n",
    "            next_phase_ifno_interupt = 6\n",
    "            current_phase = 0\n",
    "        if RAMA4_FPX_TP8_UNJAM >= get_unjamlength_meters(RAMA4_NB):\n",
    "            next_phase_ifno_interupt = 6\n",
    "            current_phase = 8\n",
    "    if current_phase == 6: #v4\n",
    "        if RAMA4_FP6_END_MAXGREEN <= greentime_duration or RAMA4_FP6_END_UNJAM >= get_unjamlength_meters(RAMA4_SB):\n",
    "            current_phase += 2\n",
    "        if RAMA4_FPX_TP0_UNJAM >= get_unjamlength_meters(RAMA4_EB):\n",
    "            next_phase_ifno_interupt = 8\n",
    "            current_phase = 0\n",
    "        if RAMA4_FPX_TP8_UNJAM >= get_unjamlength_meters(RAMA4_NB):\n",
    "            next_phase_ifno_interupt = None\n",
    "            current_phase = 8\n",
    "    if current_phase == 8: #***** ^5\n",
    "        if RAMA4_FPX_TP0_UNJAM >= get_unjamlength_meters(RAMA4_EB):\n",
    "            current_phase = 0\n",
    "        if RAMA4_FP8_END_MAXGREEN <= greentime_duration or RAMA4_FP8_END_OCC >= get_occupancy_average_percent(RAMA4_NB):\n",
    "            if next_phase_ifno_interupt == None:\n",
    "                current_phase = 0\n",
    "            else:\n",
    "                current_phase = next_phase_ifno_interupt\n",
    "                next_phase_ifno_interupt = None\n",
    "        \n",
    "#         elif get_remain_length(get_detector_id(['825786383#0'])) <= 20:\n",
    "#             next_phase_ifno_interupt = 2\n",
    "#             current_phase = 2\n",
    "    if selected_traffic_signal_phases[2] == current_phase:\n",
    "        greentime_duration += 5\n",
    "    else: greentime_duration = 0\n",
    "    Rama4_greentime_duration = greentime_duration\n",
    "    Rama4_phase = current_phase\n",
    "    next_Rama4_phase_ifno_interupt = next_phase_ifno_interupt\n",
    "    \n",
    "    #KlongTei\n",
    "    current_phase = selected_traffic_signal_phases[0]\n",
    "    NO_P2_greentime_duration = list_greentime_duration[0]\n",
    "    if current_phase == 2:\n",
    "        if KLONGTEI_FP2_END_FLOW >= get_flow_sum(KLONGTEI_NB):\n",
    "            current_phase = 0\n",
    "    elif Rama4_phase == 0 or Rama4_phase == 4:\n",
    "        current_phase = 4\n",
    "    elif Rama4_phase == 2:\n",
    "        current_phase = 0\n",
    "    if KLONGTEI_NO_P2_MAXGREEN >= NO_P2_greentime_duration :\n",
    "        current_phase = 2\n",
    "    if current_phase == 0 or current_phase == 4:\n",
    "        NO_P2_greentime_duration += 5\n",
    "    else: \n",
    "        NO_P2_greentime_duration = 0\n",
    "    Klongtei_NO_P2_greentime_duration = NO_P2_greentime_duration\n",
    "    Klongtei_phase = current_phase\n",
    "    next_Klongtei_phase_ifno_interupt = next_phase_ifno_interupt\n",
    "    \n",
    "    new_selected_traffic_signal_phases = [Klongtei_phase, next_Klongtei_phase_ifno_interupt, Rama4_phase, next_Rama4_phase_ifno_interupt, 0, None, 0, None, 0, None, 0, None]\n",
    "    new_greentime_duration = [NO_P2_greentime_duration, Rama4_greentime_duration]\n",
    "#     action = [ KlongTei_phase, None, Rama4_phase,  next_Rama4_phase, 0, None, 0, None, 0, None, 0, None]\n",
    "    return new_selected_traffic_signal_phases, new_greentime_duration"
   ]
  },
  {
   "cell_type": "code",
   "execution_count": 22,
   "metadata": {},
   "outputs": [],
   "source": [
    "junction_name = list(id.keys()) \n",
    "def take_action(new_selected_traffic_signal_phases):\n",
    "#     ==\n",
    "# Function take_action takes inputs, namely, \n",
    "\n",
    "# new_selected_traffic_signal_phases[even indec] = current phase of traffic light signal from previous decision time step\n",
    "# new_selected_traffic_signal_phases[odd index] = next phase of traffic light signal from previous decision time step if no signal interruption would occur\n",
    "\n",
    "# and returns outputs, namely,\n",
    "\n",
    "# JamLengthMeter = sum of jam length in detectors area\n",
    "# Speed = sum of speed of all vehicles in detectors area\n",
    "#     ==\n",
    "    change_to_phase = new_selected_traffic_signal_phases[0::2]\n",
    "#     print(change_to_phase)\n",
    "    current_phase = [traci.trafficlight.getPhase(id[key]) for key in id.keys()]\n",
    "    for i in range(len(current_phase)):\n",
    "        if change_to_phase[i] != current_phase[i]:\n",
    "            yellow = (change_to_phase[i]-1)%(2*number_phase[i])\n",
    "#             print(yellow)\n",
    "#             print(junction_name[i])\n",
    "            traci.trafficlight.setPhase(id[junction_name[i]], yellow) #  YELLOW PHASE \n",
    "        else:\n",
    "            traci.trafficlight.setPhase(id[junction_name[i]], change_to_phase[i]) # No YELLOW PHASE \n",
    "    for i in range(5):\n",
    "        traci.simulationStep()\n",
    "#     w1 = sum([traci.lanearea.getLastStepOccupancy(e) for e in get_edge_id(reward_w1)])\n",
    "#     w2 = sum([traci.lanearea.getLastStepOccupancy(e) for e in get_edge_id(reward_w1)])\n",
    "    JamLengthMeter = sum([traci.lanearea.getJamLengthMeters(i) for i in list(NAME['id'])])\n",
    "#     reward = -w2*(1-w) - w1*(w)\n",
    "#     state, len_state = get_state()\n",
    "    Speed = sum([traci.lanearea.getLastStepMeanSpeed(i) for i in list(NAME['id'])])\n",
    "    \n",
    "    reward = JamLengthMeter, Speed\n",
    "    return reward"
   ]
  },
  {
   "cell_type": "code",
   "execution_count": 23,
   "metadata": {},
   "outputs": [],
   "source": [
    "reward_memory = []\n",
    "def plot_durations():\n",
    "    print('show')\n",
    "    plt.figure(2)\n",
    "    plt.clf()\n",
    "    durations_t = torch.tensor(reward_memory, dtype=torch.float)\n",
    "    plt.title('Training...')\n",
    "    plt.xlabel('Step')\n",
    "    plt.ylabel('Reward')\n",
    "    plt.plot(durations_t.numpy())\n",
    "    # Take 100 episode averages and plot them too\n",
    "    if len(durations_t) >= 100:\n",
    "        means = durations_t.unfold(0, 100, 1).mean(1).view(-1)\n",
    "        means = torch.cat((torch.zeros(99), means))\n",
    "        plt.plot(means.numpy())\n",
    "\n",
    "    plt.pause(0.001)  # pause a bit so that plots are updated"
   ]
  },
  {
   "cell_type": "code",
   "execution_count": 24,
   "metadata": {},
   "outputs": [],
   "source": [
    "def episode0(decision_threshold, max_greentime_duration):\n",
    "    #episode = 0\n",
    "    reward_memory = []\n",
    "    JamLengthMeter_memory = []\n",
    "    Speed_memory = []\n",
    "    greentime_duration = [0, 0]\n",
    "    reset()\n",
    "    traci.simulationStep()\n",
    "    selected_traffic_signal_phases = [0, None, 0, None ]\n",
    "    for seconds in range(100): #2880\n",
    "#         state, len_state = get_state() #minimum_remaining_time = Q-lengthเมตร/free flow speed\n",
    "        new_selected_traffic_signal_phases, new_greentime_duration = traffic_police_action(selected_traffic_signal_phases,\n",
    "            greentime_duration, decision_threshold, max_greentime_duration)\n",
    "#         print(action)\n",
    "#         print(count)\n",
    "        JamLengthMeter, Speed = take_action(new_selected_traffic_signal_phases)\n",
    "        JamLengthMeter_memory.append(JamLengthMeter)\n",
    "        Speed_memory.append(Speed)\n",
    "        print(JamLengthMeter)\n",
    "#         print(Speed)\n",
    "#         print(state)\n",
    "        selected_traffic_signal_phases = new_selected_traffic_signal_phases\n",
    "        greentime_duration = new_greentime_duration \n",
    "#     with open('output.csv', mode='w', newline='') as csv_file:\n",
    "#         writer = csv.writer(csv_file)\n",
    "#         writer.writerow(['JamLengthMeter'])\n",
    "#         writer.writerows(JamLengthMeter_memory)\n",
    "    plt.figure(2)\n",
    "    plt.clf() \n",
    "    line_up, = plt.plot(JamLengthMeter_memory)\n",
    "    line_down, = plt.plot(Speed_memory)\n",
    "    plt.legend([line_up, line_down], ['JamLengthMeter', 'Speed'])\n",
    "    plt.pause(0.001)\n",
    "    traci.close()"
   ]
  },
  {
   "cell_type": "code",
   "execution_count": 30,
   "metadata": {},
   "outputs": [
    {
     "name": "stdout",
     "output_type": "stream",
     "text": [
      "0.0\n",
      "0.0\n",
      "0.0\n",
      "5.0\n",
      "5.0\n",
      "5.0\n",
      "5.0\n",
      "10.0\n",
      "30.0\n",
      "45.96918742416978\n",
      "70.88906140080671\n",
      "88.1168301751919\n",
      "102.68613661506406\n",
      "121.04891626329542\n",
      "178.56835282478647\n",
      "198.098296166145\n",
      "214.02586491236258\n",
      "226.07289503799163\n",
      "268.5898241688733\n",
      "307.05617838952594\n",
      "321.9358552492515\n",
      "366.3809783270442\n",
      "416.50654540395897\n",
      "447.92498463182085\n",
      "521.4998623040365\n",
      "557.2663950621675\n",
      "585.7393873567847\n",
      "660.9035035521334\n",
      "688.303666648621\n",
      "768.9011082847895\n",
      "828.7270476428525\n",
      "833.9533891561646\n",
      "873.7963543563685\n",
      "873.5129428287916\n",
      "865.6112714146569\n",
      "984.9353009333018\n",
      "1045.6114491804838\n",
      "1073.2984123512465\n",
      "1153.7523740075562\n",
      "1191.6743697260026\n",
      "1269.4694179219573\n",
      "1352.9037685294925\n",
      "1402.0215377320214\n",
      "1492.2397557865397\n",
      "1570.4597498840835\n",
      "1600.7255010810018\n",
      "1679.1652089293268\n",
      "1739.5559582570738\n",
      "1721.7350624451506\n",
      "1802.334440242647\n",
      "1898.105683058486\n",
      "1965.2920625073796\n",
      "2015.2807689085673\n",
      "2090.831858450095\n",
      "2133.0498215508983\n",
      "2259.2087073151097\n",
      "2300.0701960937436\n",
      "2400.9797666569157\n",
      "2461.4914278546407\n",
      "2513.6290879795497\n",
      "2502.411830734967\n",
      "2556.7339379994582\n",
      "2560.0565766173563\n",
      "2610.1037735869195\n",
      "2726.08122415792\n",
      "2824.3324739236336\n",
      "2882.1901592030554\n",
      "2967.5704757250255\n",
      "3007.2063876970706\n",
      "3068.213328153981\n",
      "3109.9897207928034\n",
      "3174.6602941372225\n",
      "3247.539818256734\n",
      "3337.6407578465164\n",
      "3388.365640083473\n",
      "3514.9606532971384\n",
      "3554.869589355447\n",
      "3629.6315942342644\n",
      "3695.5603785940293\n",
      "3742.563938576504\n",
      "3820.64447443067\n",
      "3880.2031375709807\n",
      "3986.8949338279403\n",
      "4097.0115126099345\n",
      "4214.508255844533\n",
      "4275.782837009764\n",
      "4382.88373681622\n",
      "4404.247696385864\n",
      "4541.624255920549\n",
      "4546.902773391486\n",
      "4672.41966561446\n",
      "4763.420010755524\n",
      "4826.605285700551\n",
      "4942.48826153189\n",
      "4987.423353004389\n",
      "5014.515632034853\n",
      "5092.928166930508\n",
      "5117.089353223943\n",
      "5181.601835478419\n",
      "5248.4794830284245\n"
     ]
    },
    {
     "data": {
      "image/png": "[encoded data removed]",
      "text/plain": [
       "<Figure size 432x288 with 1 Axes>"
      ]
     },
     "metadata": {
      "needs_background": "light"
     },
     "output_type": "display_data"
    }
   ],
   "source": [
    "decision_threshold =[]\n",
    "max_greentime_duration=[]\n",
    "episode0(decision_threshold, max_greentime_duration) #PEAM"
   ]
  },
  {
   "cell_type": "code",
   "execution_count": 29,
   "metadata": {},
   "outputs": [],
   "source": [
    "traci.close()"
   ]
  },
  {
   "cell_type": "code",
   "execution_count": null,
   "metadata": {},
   "outputs": [],
   "source": []
  },
  {
   "cell_type": "code",
   "execution_count": null,
   "metadata": {},
   "outputs": [],
   "source": []
  }
 ],
 "metadata": {
  "kernelspec": {
   "display_name": "Python 3",
   "language": "python",
   "name": "python3"
  },
  "language_info": {
   "codemirror_mode": {
    "name": "ipython",
    "version": 3
   },
   "file_extension": ".py",
   "mimetype": "text/x-python",
   "name": "python",
   "nbconvert_exporter": "python",
   "pygments_lexer": "ipython3",
   "version": "3.8.6rc1"
  }
 },
 "nbformat": 4,
 "nbformat_minor": 4
}
