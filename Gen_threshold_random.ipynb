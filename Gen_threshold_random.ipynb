{
 "cells": [
  {
   "cell_type": "code",
   "execution_count": 34,
   "metadata": {},
   "outputs": [],
   "source": [
    "import random\n",
    "import json"
   ]
  },
  {
   "cell_type": "code",
   "execution_count": 35,
   "metadata": {},
   "outputs": [],
   "source": [
    "RAMA4_FP0_TP4_OCC = random.randrange(0,100,10)\n",
    "RAMA4_FP0_END_FLOW = random.randrange(0,100,10)\n",
    "RAMA4_FP4_END_FLOW = random.randrange(0,100,10)\n",
    "RAMA4_FP4_END_OCC = random.randrange(0,100,10)\n",
    "RAMA4_FPX_TP0_UNJAM = random.randrange(0,1000,100)\n",
    "RAMA4_FPX_TP8_UNJAM = random.randrange(0,1000,100)\n",
    "RAMA4_FP2_END_FLOW = random.randrange(0,100,10)\n",
    "RAMA4_FP6_END_UNJAM = random.randrange(0,1000,100)\n",
    "RAMA4_FP8_END_OCC = random.randrange(0,100,10)\n",
    "\n",
    "KLONGTEI_FP2_END_FLOW = random.randrange(0,100,10)\n",
    "\n",
    "NARANONG_FP0_TP2_UNJAM = random.randrange(0,1000,100)\n",
    "NARANONG_FP0_END_UNJAM = random.randrange(0,1000,100)\n",
    "NARANONG_FP2_END_UNJAM = random.randrange(0,1000,100)\n",
    "NARANONG_FP4_END_FLOW = random.randrange(0,100,10)\n",
    "NARANONG_FP6_END_UNJAM = random.randrange(0,1000,100)\n",
    "NARANONG_FP8_END_OCC = random.randrange(0,100,10)\n",
    "NARANONG_FP10_END_OCC = random.randrange(0,100,10)\n",
    "NARANONG_FPX_TP2_UNJAM = random.randrange(0,1000,100)\n",
    "NARANONG_FPX_TP0_UNJAM = random.randrange(0,1000,100)\n",
    "    \n",
    "SUNLAKAKHON_FP0_END_FLOW = random.randrange(0,100,10)\n",
    "SUNLAKAKHON_FPX_TP0_UNJAM = random.randrange(0,1000,100)\n",
    "SUNLAKAKHON_FP2_END_FLOW = random.randrange(0,100,10)\n",
    "SUNLAKAKHON_FP4_TP6_UNJAM = random.randrange(0,1000,100)\n",
    "SUNLAKAKHON_FP4_END_FLOW = random.randrange(0,100,10)\n",
    "SUNLAKAKHON_FP6_END_FLOW = random.randrange(0,100,10)\n",
    "\n",
    "KASEMRAT_FPX_TP2_UNJAM_SUKHUMVIT = random.randrange(0,100,10)\n",
    "KASEMRAT_FPX_TP2_UNJAM_EB = random.randrange(0,1000,100)\n",
    "KASEMRAT_FPX_TP2_UNJAM_ARI =  random.randrange(0,100,10)\n",
    "KASEMRAT_FPX_TP4_UNJAM = random.randrange(0,1000,100)\n",
    "KASEMRAT_FP2_TP0_FLOW = random.randrange(0,100,10)"
   ]
  },
  {
   "cell_type": "code",
   "execution_count": 36,
   "metadata": {},
   "outputs": [],
   "source": [
    "#  t = open(\"threshold.txt\", \"r\") \n",
    "# for l in t:\n",
    "#     l = l.strip().split(' ')\n",
    "#     print(\"'\"+str(l[0])+\"' :\", l[0])"
   ]
  },
  {
   "cell_type": "code",
   "execution_count": 37,
   "metadata": {},
   "outputs": [],
   "source": [
    "def gen_threshold():\n",
    "    threshold = {\n",
    "        'RAMA4_FP0_TP4_OCC' : RAMA4_FP0_TP4_OCC, \n",
    "        'RAMA4_FP0_END_FLOW' : RAMA4_FP0_END_FLOW,\n",
    "        'RAMA4_FP4_END_FLOW' : RAMA4_FP4_END_FLOW,\n",
    "        'RAMA4_FP4_END_OCC' : RAMA4_FP4_END_OCC,\n",
    "        'RAMA4_FPX_TP0_UNJAM' : RAMA4_FPX_TP0_UNJAM,\n",
    "        'RAMA4_FPX_TP8_UNJAM' : RAMA4_FPX_TP8_UNJAM,\n",
    "        'RAMA4_FP2_END_FLOW' : RAMA4_FP2_END_FLOW,\n",
    "        'RAMA4_FP6_END_UNJAM' : RAMA4_FP6_END_UNJAM,\n",
    "        'RAMA4_FP8_END_OCC' : RAMA4_FP8_END_OCC,\n",
    "\n",
    "        'KLONGTEI_FP2_END_FLOW' : KLONGTEI_FP2_END_FLOW,\n",
    "\n",
    "        'NARANONG_FP0_TP2_UNJAM' : NARANONG_FP0_TP2_UNJAM,\n",
    "        'NARANONG_FP0_END_UNJAM' : NARANONG_FP0_END_UNJAM,\n",
    "        'NARANONG_FP2_END_UNJAM' : NARANONG_FP2_END_UNJAM,\n",
    "        'NARANONG_FP4_END_FLOW' : NARANONG_FP4_END_FLOW,\n",
    "        'NARANONG_FP6_END_UNJAM' : NARANONG_FP6_END_UNJAM,\n",
    "        'NARANONG_FP8_END_OCC' : NARANONG_FP8_END_OCC,\n",
    "        'NARANONG_FP10_END_OCC' : NARANONG_FP10_END_OCC,\n",
    "        'NARANONG_FPX_TP2_UNJAM' : NARANONG_FPX_TP2_UNJAM,\n",
    "        'NARANONG_FPX_TP0_UNJAM' : NARANONG_FPX_TP0_UNJAM,\n",
    "\n",
    "        'SUNLAKAKHON_FP0_END_FLOW' : SUNLAKAKHON_FP0_END_FLOW,\n",
    "        'SUNLAKAKHON_FPX_TP0_UNJAM' : SUNLAKAKHON_FPX_TP0_UNJAM,\n",
    "        'SUNLAKAKHON_FP2_END_FLOW' : SUNLAKAKHON_FP2_END_FLOW,\n",
    "        'SUNLAKAKHON_FP4_TP6_UNJAM' : SUNLAKAKHON_FP4_TP6_UNJAM,\n",
    "        'SUNLAKAKHON_FP4_END_FLOW' : SUNLAKAKHON_FP4_END_FLOW,\n",
    "        'SUNLAKAKHON_FP6_END_FLOW' : SUNLAKAKHON_FP6_END_FLOW,\n",
    "\n",
    "        'KASEMRAT_FPX_TP2_UNJAM_SUKHUMVIT' : KASEMRAT_FPX_TP2_UNJAM_SUKHUMVIT,\n",
    "        'KASEMRAT_FPX_TP2_UNJAM_EB' : KASEMRAT_FPX_TP2_UNJAM_EB,\n",
    "        'KASEMRAT_FPX_TP2_UNJAM_ARI' : KASEMRAT_FPX_TP2_UNJAM_ARI,\n",
    "        'KASEMRAT_FPX_TP4_UNJAM' : KASEMRAT_FPX_TP4_UNJAM,\n",
    "        'KASEMRAT_FP2_TP0_FLOW' : KASEMRAT_FP2_TP0_FLOW}\n",
    "    j = json.dumps(threshold, indent=4)\n",
    "    print(j)\n",
    "    return j"
   ]
  },
  {
   "cell_type": "code",
   "execution_count": 38,
   "metadata": {},
   "outputs": [
    {
     "name": "stdout",
     "output_type": "stream",
     "text": [
      "{\n",
      "    \"RAMA4_FP0_TP4_OCC\": 20,\n",
      "    \"RAMA4_FP0_END_FLOW\": 70,\n",
      "    \"RAMA4_FP4_END_FLOW\": 30,\n",
      "    \"RAMA4_FP4_END_OCC\": 40,\n",
      "    \"RAMA4_FPX_TP0_UNJAM\": 200,\n",
      "    \"RAMA4_FPX_TP8_UNJAM\": 300,\n",
      "    \"RAMA4_FP2_END_FLOW\": 90,\n",
      "    \"RAMA4_FP6_END_UNJAM\": 500,\n",
      "    \"RAMA4_FP8_END_OCC\": 30,\n",
      "    \"KLONGTEI_FP2_END_FLOW\": 0,\n",
      "    \"NARANONG_FP0_TP2_UNJAM\": 300,\n",
      "    \"NARANONG_FP0_END_UNJAM\": 800,\n",
      "    \"NARANONG_FP2_END_UNJAM\": 700,\n",
      "    \"NARANONG_FP4_END_FLOW\": 10,\n",
      "    \"NARANONG_FP6_END_UNJAM\": 100,\n",
      "    \"NARANONG_FP8_END_OCC\": 10,\n",
      "    \"NARANONG_FP10_END_OCC\": 20,\n",
      "    \"NARANONG_FPX_TP2_UNJAM\": 100,\n",
      "    \"NARANONG_FPX_TP0_UNJAM\": 900,\n",
      "    \"SUNLAKAKHON_FP0_END_FLOW\": 50,\n",
      "    \"SUNLAKAKHON_FPX_TP0_UNJAM\": 700,\n",
      "    \"SUNLAKAKHON_FP2_END_FLOW\": 0,\n",
      "    \"SUNLAKAKHON_FP4_TP6_UNJAM\": 800,\n",
      "    \"SUNLAKAKHON_FP4_END_FLOW\": 30,\n",
      "    \"SUNLAKAKHON_FP6_END_FLOW\": 0,\n",
      "    \"KASEMRAT_FPX_TP2_UNJAM_SUKHUMVIT\": 60,\n",
      "    \"KASEMRAT_FPX_TP2_UNJAM_EB\": 300,\n",
      "    \"KASEMRAT_FPX_TP2_UNJAM_ARI\": 50,\n",
      "    \"KASEMRAT_FPX_TP4_UNJAM\": 600,\n",
      "    \"KASEMRAT_FP2_TP0_FLOW\": 10\n",
      "}\n"
     ]
    },
    {
     "data": {
      "text/plain": [
       "'{\\n    \"RAMA4_FP0_TP4_OCC\": 20,\\n    \"RAMA4_FP0_END_FLOW\": 70,\\n    \"RAMA4_FP4_END_FLOW\": 30,\\n    \"RAMA4_FP4_END_OCC\": 40,\\n    \"RAMA4_FPX_TP0_UNJAM\": 200,\\n    \"RAMA4_FPX_TP8_UNJAM\": 300,\\n    \"RAMA4_FP2_END_FLOW\": 90,\\n    \"RAMA4_FP6_END_UNJAM\": 500,\\n    \"RAMA4_FP8_END_OCC\": 30,\\n    \"KLONGTEI_FP2_END_FLOW\": 0,\\n    \"NARANONG_FP0_TP2_UNJAM\": 300,\\n    \"NARANONG_FP0_END_UNJAM\": 800,\\n    \"NARANONG_FP2_END_UNJAM\": 700,\\n    \"NARANONG_FP4_END_FLOW\": 10,\\n    \"NARANONG_FP6_END_UNJAM\": 100,\\n    \"NARANONG_FP8_END_OCC\": 10,\\n    \"NARANONG_FP10_END_OCC\": 20,\\n    \"NARANONG_FPX_TP2_UNJAM\": 100,\\n    \"NARANONG_FPX_TP0_UNJAM\": 900,\\n    \"SUNLAKAKHON_FP0_END_FLOW\": 50,\\n    \"SUNLAKAKHON_FPX_TP0_UNJAM\": 700,\\n    \"SUNLAKAKHON_FP2_END_FLOW\": 0,\\n    \"SUNLAKAKHON_FP4_TP6_UNJAM\": 800,\\n    \"SUNLAKAKHON_FP4_END_FLOW\": 30,\\n    \"SUNLAKAKHON_FP6_END_FLOW\": 0,\\n    \"KASEMRAT_FPX_TP2_UNJAM_SUKHUMVIT\": 60,\\n    \"KASEMRAT_FPX_TP2_UNJAM_EB\": 300,\\n    \"KASEMRAT_FPX_TP2_UNJAM_ARI\": 50,\\n    \"KASEMRAT_FPX_TP4_UNJAM\": 600,\\n    \"KASEMRAT_FP2_TP0_FLOW\": 10\\n}'"
      ]
     },
     "execution_count": 38,
     "metadata": {},
     "output_type": "execute_result"
    }
   ],
   "source": [
    "gen_threshold()"
   ]
  },
  {
   "cell_type": "code",
   "execution_count": null,
   "metadata": {},
   "outputs": [],
   "source": []
  }
 ],
 "metadata": {
  "kernelspec": {
   "display_name": "Python 3",
   "language": "python",
   "name": "python3"
  },
  "language_info": {
   "codemirror_mode": {
    "name": "ipython",
    "version": 3
   },
   "file_extension": ".py",
   "mimetype": "text/x-python",
   "name": "python",
   "nbconvert_exporter": "python",
   "pygments_lexer": "ipython3",
   "version": "3.8.6rc1"
  }
 },
 "nbformat": 4,
 "nbformat_minor": 4
}
