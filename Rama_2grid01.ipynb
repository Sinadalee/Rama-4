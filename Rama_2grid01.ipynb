{
 "cells": [
  {
   "cell_type": "code",
   "execution_count": 1,
   "metadata": {},
   "outputs": [],
   "source": [
    "import os, sys\n",
    "sys.path.append(os.path.join('/home/ring/sumo-svn/', 'tools'))\n",
    "import traci\n",
    "import traci.constants as tc\n",
    "import numpy as np\n",
    "from sumolib import checkBinary\n",
    "import datetime\n",
    "import matplotlib\n",
    "import matplotlib.pyplot as plt\n",
    "import torch"
   ]
  },
  {
   "cell_type": "code",
   "execution_count": 23,
   "metadata": {},
   "outputs": [],
   "source": [
    "#reset the environment\n",
    "def reset():\n",
    "    sumoBinary = checkBinary('sumo-gui')\n",
    "    traci.start([sumoBinary, \"-c\", \"Kasemrat-SUMO-UsingBookNetFile/osm.sumocfg\",\n",
    "                             \"--tripinfo-output\", \"tripinfo.xml\", '--start','true','--quit-on-end','true','--time-to-teleport','-1'])"
   ]
  },
  {
   "cell_type": "code",
   "execution_count": 24,
   "metadata": {},
   "outputs": [],
   "source": [
    "id = {'virtual' : '270329335' ,'KasemRat': 'cluster_272448137_272555800_272555808_7660045934_7710268409'}\n",
    "detecters = {'QA' : ['156261350#0'], 'QB' : ['-453962283#3'], 'QC' : ['459551209#0', '459551209#3'], 'QD' : ['27702347#0', '27702347#4', '27702347#6']}"
   ]
  },
  {
   "cell_type": "code",
   "execution_count": 25,
   "metadata": {},
   "outputs": [],
   "source": [
    "import sumolib\n",
    "import lxml.etree as ET\n",
    "def get_edge_id(POI):\n",
    "#     root = ET.Element('additionals')\n",
    "#     net = sumolib.net.readNet('map_grid_lock_add2TL_copy_newTLS.net.xml')\n",
    "#     output = []\n",
    "#     for key in POI:\n",
    "#         edgeID = net.getEdge(key)\n",
    "#         numOfLane = edgeID.getLaneNumber()\n",
    "#         for lane_index in range(numOfLane):\n",
    "#             output.append(key+'_'+str(lane_index))\n",
    "#     print(output)\n",
    "    if POI == ['156261350#0']:\n",
    "        output = ['156261350#0_0']\n",
    "    if POI == ['-453962283#3']:\n",
    "        output = ['-453962283#3_0']\n",
    "    if POI == ['459551209#0', '459551209#3']:\n",
    "        output = ['459551209#0_0', '459551209#0_1', '459551209#0_2', '459551209#0_3', '459551209#3_0', '459551209#3_1', '459551209#3_2', '459551209#3_3']\n",
    "    if POI == ['27702347#0', '27702347#4', '27702347#6']:\n",
    "        output = ['27702347#0_0', '27702347#4_0', '27702347#6_0']\n",
    "    return output    "
   ]
  },
  {
   "cell_type": "code",
   "execution_count": 26,
   "metadata": {},
   "outputs": [],
   "source": [
    "for key in ['QA', 'QB', 'QC', 'QD']:\n",
    "    get_edge_id(detecters[key])"
   ]
  },
  {
   "cell_type": "code",
   "execution_count": 27,
   "metadata": {},
   "outputs": [],
   "source": [
    "def get_state(): \n",
    "    Length = []\n",
    "    for key in ['QA', 'QB', 'QC', 'QD']:\n",
    "        remain_length = 1-(sum([traci.lanearea.getJamLengthMeters(e) for e in get_edge_id(detecters[key])])/len(get_edge_id(detecters[key])))/traci.lanearea.getLength(get_edge_id(detecters[key])[0])\n",
    "        Length.append(remain_length*100)\n",
    "    occupancy = []\n",
    "    for key in ['QA', 'QB', 'QC', 'QD']:\n",
    "         occupancy.append(sum([traci.lanearea.getLastStepOccupancy(e) for e in get_edge_id(detecters[key])])/len(get_edge_id(detecters[key])))\n",
    "    occupancy+= Length\n",
    "    current_phase = [traci.trafficlight.getPhase(id[key]) for key in ['virtual','KasemRat']]\n",
    "    for i in current_phase:\n",
    "        current_phase_binary = [0, 0, 0]\n",
    "        current_phase_binary[int(i//2)] = 1\n",
    "        occupancy+= current_phase_binary\n",
    "    return occupancy"
   ]
  },
  {
   "cell_type": "code",
   "execution_count": 57,
   "metadata": {},
   "outputs": [],
   "source": [
    "junction_name = ['virtual', 'KasemRat']\n",
    "def take_action(action, ID):\n",
    "    if action != None:\n",
    "        w = 0.999\n",
    "        act = [5, 1, 3]\n",
    "        print(act[action])\n",
    "        change_to_phase = (act[action]+1)%6\n",
    "        if change_to_phase == traci.trafficlight.getPhase(id[junction_name[ID]]):\n",
    "            traci.trafficlight.setPhase(id[junction_name[ID]], change_to_phase) # NO YELLOW PHASE \n",
    "        else:\n",
    "            traci.trafficlight.setPhase(id[junction_name[ID]], act[action]) # YELLOW PHASE FIRST\n",
    "    for i in range(5):\n",
    "        traci.simulationStep()\n",
    "#     w1 = sum([traci.lanearea.getLastStepOccupancy(e) for e in get_edge_id(reward_w1)])\n",
    "#     w2 = sum([traci.lanearea.getLastStepOccupancy(e) for e in get_edge_id(reward_w1)])\n",
    "#     reward = -w2*(1-w) - w1*(w)\n",
    "    reward = sum(get_state()[4:8])\n",
    "    print('reward', reward)\n",
    "    return reward"
   ]
  },
  {
   "cell_type": "code",
   "execution_count": 58,
   "metadata": {},
   "outputs": [],
   "source": [
    "def initial(state, congest_phase, threshold_max, threshold_min): \n",
    "    ##FLAG = 1 = Yellow FLAG = 0 = GREEN\n",
    "    print(state)\n",
    "    Length = state[4:8]\n",
    "    occupancy = state[0:4]\n",
    "    s1 = state[8:11] #virtual phase\n",
    "    s2 = state[11:14] #Kasem phase\n",
    "    # Virtual\n",
    "    if congest_phase == None:\n",
    "        phase_index = None\n",
    "        if ((Length[0] <= threshold_max) or (Length[3] <= threshold_max)):\n",
    "            congest_phase = 2\n",
    "        elif (Length[2] <= threshold_max):\n",
    "            congest_phase = 0\n",
    "    if congest_phase == 2:\n",
    "        phase_index = 1\n",
    "        if ((occupancy[0] <= threshold_min) or (occupancy[3] <= threshold_min)):\n",
    "            congest_phase = None\n",
    "        elif (Length[2] <= threshold_max):\n",
    "            congest_phase = 0         \n",
    "    if congest_phase == 0:\n",
    "        phase_index = 0\n",
    "        if (occupancy[2] <= threshold_min):\n",
    "            congest_phase = None\n",
    "        elif ((Length[0] <= threshold_max) or (Length[3] <= threshold_max)):\n",
    "            congest_phase = 2\n",
    "    return phase_index, congest_phase"
   ]
  },
  {
   "cell_type": "code",
   "execution_count": 59,
   "metadata": {},
   "outputs": [],
   "source": [
    "reward_memory = []\n",
    "def plot_durations():\n",
    "    print('show')\n",
    "    plt.figure(2)\n",
    "    plt.clf()\n",
    "    durations_t = torch.tensor(reward_memory, dtype=torch.float)\n",
    "    plt.title('Training...')\n",
    "    plt.xlabel('Step')\n",
    "    plt.ylabel('Reward')\n",
    "    plt.plot(durations_t.numpy())\n",
    "    # Take 100 episode averages and plot them too\n",
    "    if len(durations_t) >= 100:\n",
    "        means = durations_t.unfold(0, 100, 1).mean(1).view(-1)\n",
    "        means = torch.cat((torch.zeros(99), means))\n",
    "        plt.plot(means.numpy())\n",
    "\n",
    "    plt.pause(0.001)  # pause a bit so that plots are updated"
   ]
  },
  {
   "cell_type": "code",
   "execution_count": 60,
   "metadata": {},
   "outputs": [],
   "source": [
    "traci.close()"
   ]
  },
  {
   "cell_type": "code",
   "execution_count": 61,
   "metadata": {},
   "outputs": [],
   "source": [
    "def episode0(threshold_max, threshold_min,volume_virtualJ):\n",
    "    #episode = 0\n",
    "    congest_phase = None\n",
    "    reset()\n",
    "    FLAG0 = 1\n",
    "    FLAG2 = 1\n",
    "    traci.simulationStep()\n",
    "    for seconds in range(2880):\n",
    "        state = get_state()\n",
    "        phase_index, congest_phase = initial(state, congest_phase, threshold_max, threshold_min)\n",
    "        reward = take_action(phase_index, 0)\n",
    "        reward_memory.append(reward)\n",
    "         \n",
    "    plot_durations()\n",
    "    traci.close()"
   ]
  },
  {
   "cell_type": "code",
   "execution_count": null,
   "metadata": {},
   "outputs": [],
   "source": [
    "episode0(20, 20, 1000) #PEAM"
   ]
  },
  {
   "cell_type": "code",
   "execution_count": null,
   "metadata": {},
   "outputs": [],
   "source": []
  }
 ],
 "metadata": {
  "kernelspec": {
   "display_name": "Python 3",
   "language": "python",
   "name": "python3"
  },
  "language_info": {
   "codemirror_mode": {
    "name": "ipython",
    "version": 3
   },
   "file_extension": ".py",
   "mimetype": "text/x-python",
   "name": "python",
   "nbconvert_exporter": "python",
   "pygments_lexer": "ipython3",
   "version": "3.8.6rc1"
  }
 },
 "nbformat": 4,
 "nbformat_minor": 4
}
