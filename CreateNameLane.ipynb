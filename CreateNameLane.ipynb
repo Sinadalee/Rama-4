{
 "cells": [
  {
   "cell_type": "code",
   "execution_count": 146,
   "metadata": {},
   "outputs": [],
   "source": [
    "import sumolib \n",
    "import traci\n",
    "from sumolib import checkBinary"
   ]
  },
  {
   "cell_type": "code",
   "execution_count": 147,
   "metadata": {},
   "outputs": [],
   "source": [
    "junction = {'KlongTei': 'cluster_1892287670_272491964_272492178',\n",
    "      'Rama4': 'cluster_272488163_282390730_66263210_66263222',\n",
    "      'NaRanong': 'cluster_272488164_272492179_3457051443_61907354',\n",
    "      'Sunthon': 'gneJ83',\n",
    "      'KasemRat': 'cluster_272448137_272555800_272555808_7660045934_7710268409',\n",
    "      'Virtual' : '270329335'}\n",
    "direction = {'KlongTei' : ['NB','WB','EB'], \n",
    "             'Rama4': ['WB','SB','EB','NB'],\n",
    "             'NaRanong': ['NB','WB','SW','SB','EB'],\n",
    "             'Sunthon': ['WB','SB','EB','NB'],\n",
    "             'KasemRat': ['WB','EB','NB'],\n",
    "             'Virtual' : ['SB','EB']}"
   ]
  },
  {
   "cell_type": "code",
   "execution_count": 148,
   "metadata": {},
   "outputs": [],
   "source": [
    "# KlongTei = 'cluster_1892287670_272491964_272492178'\n",
    "# Rama4 = 'cluster_272488163_282390730_66263210_66263222'\n",
    "# NaRanong = 'cluster_272488164_272492179_3457051443_61907354'\n",
    "# Sunthon = 'gneJ83'\n",
    "# KasemRat = 'cluster_272448137_272555800_272555808_7660045934_7710268409'\n",
    "# Virtual = '270329335'\n",
    "# junction = [KlongTei,Rama4,NaRanong,Sunthon,KasemRat,Virtual]"
   ]
  },
  {
   "cell_type": "code",
   "execution_count": 149,
   "metadata": {},
   "outputs": [],
   "source": [
    "def reset():\n",
    "    sumoBinary = checkBinary('sumo-gui')\n",
    "    traci.start([sumoBinary, \"-c\", \"Kasemrat-SUMO-UsingBookNetFile/osm.sumocfg\",\n",
    "                             \"--tripinfo-output\", \"tripinfo.xml\", '--start','true','--quit-on-end','true','--time-to-teleport','-1'])"
   ]
  },
  {
   "cell_type": "code",
   "execution_count": 150,
   "metadata": {},
   "outputs": [],
   "source": [
    "net1 = sumolib.net.readNet('Kasemrat-SUMO-UsingBookNetFile/AddLane.net.xml')"
   ]
  },
  {
   "cell_type": "code",
   "execution_count": 153,
   "metadata": {},
   "outputs": [],
   "source": [
    "reset()"
   ]
  },
  {
   "cell_type": "code",
   "execution_count": 152,
   "metadata": {},
   "outputs": [],
   "source": [
    "traci.close()"
   ]
  },
  {
   "cell_type": "code",
   "execution_count": 190,
   "metadata": {},
   "outputs": [
    {
     "name": "stdout",
     "output_type": "stream",
     "text": [
      "XSXX\n",
      "LSXX\n",
      "XSRX\n",
      "LSXX\n",
      "SUNTHON_EB_1_0 = '824116555#3_0'\n",
      "SUNTHON_EB_1_1 = '824116555#3_1'\n",
      "SUNTHON_EB_1_2 = '824116555#3_2'\n",
      "SUNTHON_EB_2_0_XSRX = '824116555#0-AddedOffRampEdge_0'\n",
      "SUNTHON_EB_2_1_XSRX = '824116555#0-AddedOffRampEdge_1'\n",
      "SUNTHON_EB_2_2_XSRX = '824116555#0-AddedOffRampEdge_2'\n",
      "SUNTHON_EB_2_3_XSRX = '824116555#0-AddedOffRampEdge_3'\n",
      "SUNTHON_NB_1_0 = '153225687#13_0'\n",
      "SUNTHON_NB_1_1 = '153225687#13_1'\n",
      "SUNTHON_NB_1_2 = '153225687#13_2'\n",
      "SUNTHON_NB_2_0_LSXX = '153225687#10-AddedOffRampEdge_0'\n",
      "SUNTHON_NB_2_1_LSXX = '153225687#10-AddedOffRampEdge_1'\n",
      "SUNTHON_NB_2_2_LSXX = '153225687#10-AddedOffRampEdge_2'\n",
      "SUNTHON_SB_1_0 = '321845932#1_0'\n",
      "SUNTHON_SB_1_1 = '321845932#1_1'\n",
      "SUNTHON_SB_1_2 = '321845932#1_2'\n",
      "SUNTHON_SB_2_0_LSXX = '292571830-AddedOffRampEdge_0'\n",
      "SUNTHON_SB_2_1_LSXX = '292571830-AddedOffRampEdge_1'\n",
      "SUNTHON_SB_2_2_LSXX = '292571830-AddedOffRampEdge_2'\n",
      "SUNTHON_SB_2_3_LSXX = '292571830-AddedOffRampEdge_3'\n",
      "SUNTHON_WB_1_0 = '45033613#1_0'\n",
      "SUNTHON_WB_1_1 = '45033613#1_1'\n",
      "SUNTHON_WB_1_2 = '45033613#1_2'\n",
      "SUNTHON_WB_2_0_XSXX = '45033613#0_0'\n",
      "SUNTHON_WB_2_1_XSXX = '45033613#0_1'\n",
      "SUNTHON_WB_2_2_XSXX = '45033613#0_2'\n"
     ]
    }
   ],
   "source": [
    "lane_name = {}\n",
    "last_edge = None\n",
    "NoNeed = ['27702347#6', '300813736#0', '825786399','459492913#3', '459492913#2','459492913#0','618739073#1',\n",
    "          '825786398', '482384842#2']\n",
    "for j in junction.keys(): \n",
    "    if j == 'Sunthon':\n",
    "        dir_index = -1\n",
    "        EdgeIndex = 1\n",
    "        lane_1 = list(traci.trafficlight.getControlledLanes(junction[j]))\n",
    "        for l_1 in lane_1:\n",
    "            if l_1[-1] == '0' and l_1[:-2] != last_edge:\n",
    "                EdgeIndex = 1\n",
    "                dir_index += 1\n",
    "                edge = l_1[:-2]\n",
    "                for i in range(1):\n",
    "                    nextEdges = net1.getEdge(edge).getFromNode().getIncoming()\n",
    "                    for ne in nextEdges:\n",
    "                        dir_con = set()\n",
    "                        if ne.getLaneNumber() > 1 and ne.getID() not in NoNeed:\n",
    "                            out = ne.getToNode().getOutgoing()\n",
    "                            for o in out:\n",
    "#                                 print(o)\n",
    "                                con = sumolib.net.edge.Edge.getConnections(ne,o)\n",
    "#                                 print(con)\n",
    "                                for c in con:\n",
    "                                    dir_con.add(sumolib.net.connection.Connection.getDirection(c).upper())\n",
    "                            connect = ''\n",
    "                            if 'L' in dir_con : connect += 'L'\n",
    "                            else: connect += 'X'\n",
    "                            if 'S' in dir_con : connect += 'S'\n",
    "                            else: connect += 'X'\n",
    "                            if 'R' in dir_con : connect += 'R'\n",
    "                            else: connect += 'X'\n",
    "                            if 'U' in dir_con : connect += 'U'\n",
    "                            else: connect += 'X'\n",
    "                            print(connect)\n",
    "                            EdgeIndex += 1\n",
    "                            edgeID = ne\n",
    "                            numOfLane = edgeID.getLaneNumber()\n",
    "                            for LaneIndex in range(numOfLane):\n",
    "                                nextLanes = edgeID.getID()+'_'+str(LaneIndex)\n",
    "                                lane_name[str(j).upper()+'_'+direction[j][dir_index]+'_'+str(EdgeIndex)+'_'+str(LaneIndex)+'_'+connect] = nextLanes\n",
    "                            edge = edgeID.getID()\n",
    "            lane_name[str(j).upper()+'_'+direction[j][dir_index]+'_'+'1'+'_'+l_1[-1]] = l_1\n",
    "            last_edge = l_1[:-2]\n",
    "for l in sorted(lane_name):\n",
    "# for l in lane_name:\n",
    "    print(l, '=', \"'\"+lane_name[l]+\"'\")"
   ]
  },
  {
   "cell_type": "code",
   "execution_count": null,
   "metadata": {},
   "outputs": [],
   "source": []
  }
 ],
 "metadata": {
  "kernelspec": {
   "display_name": "Python 3",
   "language": "python",
   "name": "python3"
  },
  "language_info": {
   "codemirror_mode": {
    "name": "ipython",
    "version": 3
   },
   "file_extension": ".py",
   "mimetype": "text/x-python",
   "name": "python",
   "nbconvert_exporter": "python",
   "pygments_lexer": "ipython3",
   "version": "3.8.6rc1"
  }
 },
 "nbformat": 4,
 "nbformat_minor": 4
}
